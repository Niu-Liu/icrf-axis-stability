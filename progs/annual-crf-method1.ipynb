{
 "cells": [
  {
   "cell_type": "markdown",
   "metadata": {},
   "source": [
    "I first constructed annual CRFs and then calculate the orientation angles between them and ICRF3.\n",
    "\n",
    "Here I presented the first method, which is that I divided the data annually and run yearly solutions with identical setup."
   ]
  },
  {
   "cell_type": "code",
   "execution_count": 1,
   "metadata": {},
   "outputs": [],
   "source": [
    "import matplotlib.pyplot as plt\n",
    "from matplotlib.ticker import MultipleLocator\n",
    "import numpy as np\n",
    "\n",
    "# My progs\n",
    "from my_progs.vlbi.read_sou import read_sou\n",
    "from my_progs.catalog.read_icrf import read_icrf3\n",
    "from my_progs.catalog.pos_diff import radio_cat_diff_calc\n",
    "from my_progs.stat_func.rms_calc import rms_calc\n",
    "from tool_func import calc_orient_4_yearly_crf"
   ]
  },
  {
   "cell_type": "code",
   "execution_count": 2,
   "metadata": {},
   "outputs": [],
   "source": [
    "icrf3sx = read_icrf3(wv=\"sx\")\n",
    "\n",
    "icrf3def = icrf3sx[icrf3sx[\"type\"] == \"D\"]"
   ]
  },
  {
   "cell_type": "markdown",
   "metadata": {},
   "source": [
    "# All sources"
   ]
  },
  {
   "cell_type": "code",
   "execution_count": 3,
   "metadata": {},
   "outputs": [],
   "source": [
    "years = np.arange(1985, 2020)\n",
    "num = len(years)\n",
    "\n",
    "N0 = np.zeros_like(years)\n",
    "N1 = np.zeros_like(years)\n",
    "pmt = np.empty((num, 3), dtype=np.float)\n",
    "err = np.empty((num, 3), dtype=np.float)"
   ]
  },
  {
   "cell_type": "code",
   "execution_count": 4,
   "metadata": {
    "scrolled": false
   },
   "outputs": [
    {
     "name": "stdout",
     "output_type": "stream",
     "text": [
      "\n",
      "Processing 1985\n",
      "There are 60 sources in the original catalog, 3 (5%) sources with #obs < 3 dropped, leaving 57 sources in the present catalog.\n",
      "\n",
      "Processing 1986\n",
      "There are 61 sources in the original catalog, 0 (0%) sources with #obs < 3 dropped, leaving 61 sources in the present catalog.\n",
      "\n",
      "Processing 1987\n",
      "There are 192 sources in the original catalog, 15 (8%) sources with #obs < 3 dropped, leaving 177 sources in the present catalog.\n",
      "\n",
      "Processing 1988\n",
      "There are 317 sources in the original catalog, 49 (15%) sources with #obs < 3 dropped, leaving 268 sources in the present catalog.\n",
      "\n",
      "Processing 1989\n",
      "There are 315 sources in the original catalog, 48 (15%) sources with #obs < 3 dropped, leaving 267 sources in the present catalog.\n",
      "\n",
      "Processing 1990\n",
      "There are 427 sources in the original catalog, 46 (11%) sources with #obs < 3 dropped, leaving 381 sources in the present catalog.\n",
      "\n",
      "Processing 1991\n",
      "There are 413 sources in the original catalog, 85 (21%) sources with #obs < 3 dropped, leaving 328 sources in the present catalog.\n",
      "\n",
      "Processing 1992\n",
      "There are 513 sources in the original catalog, 58 (11%) sources with #obs < 3 dropped, leaving 455 sources in the present catalog.\n",
      "\n",
      "Processing 1993\n",
      "There are 476 sources in the original catalog, 55 (12%) sources with #obs < 3 dropped, leaving 421 sources in the present catalog.\n",
      "\n",
      "Processing 1994\n",
      "There are 666 sources in the original catalog, 106 (16%) sources with #obs < 3 dropped, leaving 560 sources in the present catalog.\n",
      "\n",
      "Processing 1995\n",
      "There are 845 sources in the original catalog, 136 (16%) sources with #obs < 3 dropped, leaving 709 sources in the present catalog.\n",
      "\n",
      "Processing 1996\n",
      "There are 1146 sources in the original catalog, 77 (7%) sources with #obs < 3 dropped, leaving 1069 sources in the present catalog.\n",
      "\n",
      "Processing 1997\n",
      "There are 783 sources in the original catalog, 39 (5%) sources with #obs < 3 dropped, leaving 744 sources in the present catalog.\n",
      "\n",
      "Processing 1998\n",
      "There are 496 sources in the original catalog, 49 (10%) sources with #obs < 3 dropped, leaving 447 sources in the present catalog.\n",
      "\n",
      "Processing 1999\n",
      "There are 445 sources in the original catalog, 54 (12%) sources with #obs < 3 dropped, leaving 391 sources in the present catalog.\n",
      "\n",
      "Processing 2000\n",
      "There are 481 sources in the original catalog, 35 (7%) sources with #obs < 3 dropped, leaving 446 sources in the present catalog.\n",
      "\n",
      "Processing 2001\n",
      "There are 348 sources in the original catalog, 41 (12%) sources with #obs < 3 dropped, leaving 307 sources in the present catalog.\n",
      "\n",
      "Processing 2002\n",
      "There are 715 sources in the original catalog, 66 (9%) sources with #obs < 3 dropped, leaving 649 sources in the present catalog.\n",
      "\n",
      "Processing 2003\n",
      "There are 540 sources in the original catalog, 64 (12%) sources with #obs < 3 dropped, leaving 476 sources in the present catalog.\n",
      "\n",
      "Processing 2004\n",
      "There are 1090 sources in the original catalog, 205 (19%) sources with #obs < 3 dropped, leaving 885 sources in the present catalog.\n",
      "\n",
      "Processing 2005\n",
      "There are 1642 sources in the original catalog, 400 (24%) sources with #obs < 3 dropped, leaving 1242 sources in the present catalog.\n",
      "\n",
      "Processing 2006\n",
      "There are 1002 sources in the original catalog, 341 (34%) sources with #obs < 3 dropped, leaving 661 sources in the present catalog.\n",
      "\n",
      "Processing 2007\n",
      "There are 849 sources in the original catalog, 58 (7%) sources with #obs < 3 dropped, leaving 791 sources in the present catalog.\n",
      "\n",
      "Processing 2008\n",
      "There are 842 sources in the original catalog, 40 (5%) sources with #obs < 3 dropped, leaving 802 sources in the present catalog.\n",
      "\n",
      "Processing 2009\n",
      "There are 664 sources in the original catalog, 24 (4%) sources with #obs < 3 dropped, leaving 640 sources in the present catalog.\n",
      "\n",
      "Processing 2010\n",
      "There are 650 sources in the original catalog, 25 (4%) sources with #obs < 3 dropped, leaving 625 sources in the present catalog.\n",
      "\n",
      "Processing 2011\n",
      "There are 621 sources in the original catalog, 35 (6%) sources with #obs < 3 dropped, leaving 586 sources in the present catalog.\n",
      "\n",
      "Processing 2012\n",
      "There are 582 sources in the original catalog, 11 (2%) sources with #obs < 3 dropped, leaving 571 sources in the present catalog.\n",
      "\n",
      "Processing 2013\n",
      "There are 707 sources in the original catalog, 30 (4%) sources with #obs < 3 dropped, leaving 677 sources in the present catalog.\n",
      "\n",
      "Processing 2014\n",
      "There are 2415 sources in the original catalog, 21 (1%) sources with #obs < 3 dropped, leaving 2394 sources in the present catalog.\n",
      "\n",
      "Processing 2015\n",
      "There are 824 sources in the original catalog, 31 (4%) sources with #obs < 3 dropped, leaving 793 sources in the present catalog.\n",
      "\n",
      "Processing 2016\n",
      "There are 873 sources in the original catalog, 29 (3%) sources with #obs < 3 dropped, leaving 844 sources in the present catalog.\n",
      "\n",
      "Processing 2017\n",
      "There are 2469 sources in the original catalog, 108 (4%) sources with #obs < 3 dropped, leaving 2361 sources in the present catalog.\n",
      "\n",
      "Processing 2018\n",
      "There are 4544 sources in the original catalog, 263 (6%) sources with #obs < 3 dropped, leaving 4281 sources in the present catalog.\n",
      "\n",
      "Processing 2019\n",
      "There are 935 sources in the original catalog, 100 (11%) sources with #obs < 3 dropped, leaving 835 sources in the present catalog.\n"
     ]
    }
   ],
   "source": [
    "for i, year in enumerate(years):\n",
    "    \n",
    "    print(\"\\nProcessing\", year)\n",
    "    \n",
    "    opa = read_sou(\"../data/yearly/{:d}-y.sou\".format(year), drop_few_obs=True)\n",
    "    \n",
    "    pos_oft = radio_cat_diff_calc(opa, icrf3sx, sou_name=\"iers_name\")\n",
    "    \n",
    "    N0[i], N1[i], pmt[i], err[i] = calc_orient_4_yearly_crf(pos_oft)"
   ]
  },
  {
   "cell_type": "code",
   "execution_count": 5,
   "metadata": {},
   "outputs": [
    {
     "data": {
      "text/plain": [
       "<matplotlib.legend.Legend at 0x1a1efe77d0>"
      ]
     },
     "execution_count": 5,
     "metadata": {},
     "output_type": "execute_result"
    },
    {
     "data": {
      "image/png": "[encoded data removed]",
      "text/plain": [
       "<Figure size 432x288 with 1 Axes>"
      ]
     },
     "metadata": {
      "needs_background": "light"
     },
     "output_type": "display_data"
    }
   ],
   "source": [
    "fig, ax = plt.subplots()\n",
    "\n",
    "ax.plot(years, N0, \"b-o\", ms=2, lw=0.5, label=\"$N_0$\")\n",
    "ax.plot(years, N1, \"r-s\", ms=2, lw=0.5, label=\"$N_1$\")\n",
    "\n",
    "# ax.set_yscale(\"log\")\n",
    "\n",
    "ax.set_xlabel(\"Epoch (year)\", fontsize=12)\n",
    "ax.set_ylabel(\"No. sources\", fontsize=12)\n",
    "ax.legend()"
   ]
  },
  {
   "cell_type": "code",
   "execution_count": 6,
   "metadata": {},
   "outputs": [
    {
     "data": {
      "text/plain": [
       "<matplotlib.legend.Legend at 0x1a1f266c90>"
      ]
     },
     "execution_count": 6,
     "metadata": {},
     "output_type": "execute_result"
    },
    {
     "data": {
      "image/png": "[encoded data removed]",
      "text/plain": [
       "<Figure size 432x288 with 1 Axes>"
      ]
     },
     "metadata": {
      "needs_background": "light"
     },
     "output_type": "display_data"
    }
   ],
   "source": [
    "fig, ax = plt.subplots()\n",
    "\n",
    "ax.errorbar(years, pmt[:,0], yerr=err[:,0], color=\"blue\", \n",
    "            ms=3, fmt=\"-s\", elinewidth=0.5, lw=0.2, label=\"$R_1$\")\n",
    "ax.errorbar(years, pmt[:,1], yerr=err[:,1], color=\"black\", \n",
    "            ms=3, fmt=\"-o\", elinewidth=0.5, lw=0.2, label=\"$R_2$\")\n",
    "ax.errorbar(years, pmt[:,2], yerr=err[:,2], color=\"red\", \n",
    "            ms=3, fmt=\"-^\", elinewidth=0.5, lw=0.2, label=\"$R_3$\")\n",
    "\n",
    "ax.set_xlabel(\"Epoch (year)\", fontsize=12)\n",
    "ax.set_ylabel(\"Orientation angle ($\\mathrm{\\mu as}$)\", fontsize=12)\n",
    "ax.legend()"
   ]
  },
  {
   "cell_type": "code",
   "execution_count": 7,
   "metadata": {},
   "outputs": [
    {
     "name": "stdout",
     "output_type": "stream",
     "text": [
      "No weighted\n",
      "    Mean   RMS  Std\n",
      "    uas    uas  uas\n",
      "R1  +292  1004  959\n",
      "R2  -276   753  699\n",
      "R3   +95   428  417\n"
     ]
    }
   ],
   "source": [
    "wmean1, wrms1, wstd1 = rms_calc(pmt[:,0])\n",
    "wmean2, wrms2, wstd2 = rms_calc(pmt[:,1])\n",
    "wmean3, wrms3, wstd3 = rms_calc(pmt[:,2])\n",
    "\n",
    "print(\"No weighted\")\n",
    "print(\"    Mean   RMS  Std\")\n",
    "print(\"    uas    uas  uas\")\n",
    "print(\"R1  {:+4.0f}  {:4.0f}  {:.0f}\".format(wmean1, wrms1, wstd1))\n",
    "print(\"R2  {:+4.0f}  {:4.0f}  {:.0f}\".format(wmean2, wrms2, wstd2))\n",
    "print(\"R3  {:+4.0f}  {:4.0f}  {:.0f}\".format(wmean3, wrms3, wstd3))"
   ]
  },
  {
   "cell_type": "code",
   "execution_count": 8,
   "metadata": {},
   "outputs": [
    {
     "name": "stdout",
     "output_type": "stream",
     "text": [
      "Weighted\n",
      "    Mean  WRMS Std\n",
      "    uas   uas  uas\n",
      "R1   +84  354  344\n",
      "R2   -73  259  249\n",
      "R3    +8  117  117\n"
     ]
    }
   ],
   "source": [
    "wmean1, wrms1, wstd1 = rms_calc(pmt[:,0], err[:,0])\n",
    "wmean2, wrms2, wstd2 = rms_calc(pmt[:,1], err[:,1])\n",
    "wmean3, wrms3, wstd3 = rms_calc(pmt[:,2], err[:,2])\n",
    "\n",
    "print(\"Weighted\")\n",
    "print(\"    Mean  WRMS Std\")\n",
    "print(\"    uas   uas  uas\")\n",
    "print(\"R1  {:+4.0f}  {:.0f}  {:.0f}\".format(wmean1, wrms1, wstd1))\n",
    "print(\"R2  {:+4.0f}  {:.0f}  {:.0f}\".format(wmean2, wrms2, wstd2))\n",
    "print(\"R3  {:+4.0f}  {:.0f}  {:.0f}\".format(wmean3, wrms3, wstd3))"
   ]
  },
  {
   "cell_type": "markdown",
   "metadata": {},
   "source": [
    "# ICRF3 defining sources only"
   ]
  },
  {
   "cell_type": "code",
   "execution_count": 9,
   "metadata": {},
   "outputs": [],
   "source": [
    "N0_d = np.zeros_like(years)\n",
    "N1_d = np.zeros_like(years)\n",
    "pmt_d = np.empty((num, 3), dtype=np.float)\n",
    "err_d = np.empty((num, 3), dtype=np.float)"
   ]
  },
  {
   "cell_type": "code",
   "execution_count": 10,
   "metadata": {
    "scrolled": false
   },
   "outputs": [
    {
     "name": "stdout",
     "output_type": "stream",
     "text": [
      "\n",
      "Processing 1985\n",
      "There are 60 sources in the original catalog, 3 (5%) sources with #obs < 3 dropped, leaving 57 sources in the present catalog.\n",
      "\n",
      "Processing 1986\n",
      "There are 61 sources in the original catalog, 0 (0%) sources with #obs < 3 dropped, leaving 61 sources in the present catalog.\n",
      "\n",
      "Processing 1987\n",
      "There are 192 sources in the original catalog, 15 (8%) sources with #obs < 3 dropped, leaving 177 sources in the present catalog.\n",
      "\n",
      "Processing 1988\n",
      "There are 317 sources in the original catalog, 49 (15%) sources with #obs < 3 dropped, leaving 268 sources in the present catalog.\n",
      "\n",
      "Processing 1989\n",
      "There are 315 sources in the original catalog, 48 (15%) sources with #obs < 3 dropped, leaving 267 sources in the present catalog.\n",
      "\n",
      "Processing 1990\n",
      "There are 427 sources in the original catalog, 46 (11%) sources with #obs < 3 dropped, leaving 381 sources in the present catalog.\n",
      "\n",
      "Processing 1991\n",
      "There are 413 sources in the original catalog, 85 (21%) sources with #obs < 3 dropped, leaving 328 sources in the present catalog.\n",
      "\n",
      "Processing 1992\n",
      "There are 513 sources in the original catalog, 58 (11%) sources with #obs < 3 dropped, leaving 455 sources in the present catalog.\n",
      "\n",
      "Processing 1993\n",
      "There are 476 sources in the original catalog, 55 (12%) sources with #obs < 3 dropped, leaving 421 sources in the present catalog.\n",
      "\n",
      "Processing 1994\n",
      "There are 666 sources in the original catalog, 106 (16%) sources with #obs < 3 dropped, leaving 560 sources in the present catalog.\n",
      "\n",
      "Processing 1995\n",
      "There are 845 sources in the original catalog, 136 (16%) sources with #obs < 3 dropped, leaving 709 sources in the present catalog.\n",
      "\n",
      "Processing 1996\n",
      "There are 1146 sources in the original catalog, 77 (7%) sources with #obs < 3 dropped, leaving 1069 sources in the present catalog.\n",
      "\n",
      "Processing 1997\n",
      "There are 783 sources in the original catalog, 39 (5%) sources with #obs < 3 dropped, leaving 744 sources in the present catalog.\n",
      "\n",
      "Processing 1998\n",
      "There are 496 sources in the original catalog, 49 (10%) sources with #obs < 3 dropped, leaving 447 sources in the present catalog.\n",
      "\n",
      "Processing 1999\n",
      "There are 445 sources in the original catalog, 54 (12%) sources with #obs < 3 dropped, leaving 391 sources in the present catalog.\n",
      "\n",
      "Processing 2000\n",
      "There are 481 sources in the original catalog, 35 (7%) sources with #obs < 3 dropped, leaving 446 sources in the present catalog.\n",
      "\n",
      "Processing 2001\n",
      "There are 348 sources in the original catalog, 41 (12%) sources with #obs < 3 dropped, leaving 307 sources in the present catalog.\n",
      "\n",
      "Processing 2002\n",
      "There are 715 sources in the original catalog, 66 (9%) sources with #obs < 3 dropped, leaving 649 sources in the present catalog.\n",
      "\n",
      "Processing 2003\n",
      "There are 540 sources in the original catalog, 64 (12%) sources with #obs < 3 dropped, leaving 476 sources in the present catalog.\n",
      "\n",
      "Processing 2004\n",
      "There are 1090 sources in the original catalog, 205 (19%) sources with #obs < 3 dropped, leaving 885 sources in the present catalog.\n",
      "\n",
      "Processing 2005\n",
      "There are 1642 sources in the original catalog, 400 (24%) sources with #obs < 3 dropped, leaving 1242 sources in the present catalog.\n",
      "\n",
      "Processing 2006\n",
      "There are 1002 sources in the original catalog, 341 (34%) sources with #obs < 3 dropped, leaving 661 sources in the present catalog.\n",
      "\n",
      "Processing 2007\n",
      "There are 849 sources in the original catalog, 58 (7%) sources with #obs < 3 dropped, leaving 791 sources in the present catalog.\n",
      "\n",
      "Processing 2008\n",
      "There are 842 sources in the original catalog, 40 (5%) sources with #obs < 3 dropped, leaving 802 sources in the present catalog.\n",
      "\n",
      "Processing 2009\n",
      "There are 664 sources in the original catalog, 24 (4%) sources with #obs < 3 dropped, leaving 640 sources in the present catalog.\n",
      "\n",
      "Processing 2010\n",
      "There are 650 sources in the original catalog, 25 (4%) sources with #obs < 3 dropped, leaving 625 sources in the present catalog.\n",
      "\n",
      "Processing 2011\n",
      "There are 621 sources in the original catalog, 35 (6%) sources with #obs < 3 dropped, leaving 586 sources in the present catalog.\n",
      "\n",
      "Processing 2012\n",
      "There are 582 sources in the original catalog, 11 (2%) sources with #obs < 3 dropped, leaving 571 sources in the present catalog.\n",
      "\n",
      "Processing 2013\n",
      "There are 707 sources in the original catalog, 30 (4%) sources with #obs < 3 dropped, leaving 677 sources in the present catalog.\n",
      "\n",
      "Processing 2014\n",
      "There are 2415 sources in the original catalog, 21 (1%) sources with #obs < 3 dropped, leaving 2394 sources in the present catalog.\n",
      "\n",
      "Processing 2015\n",
      "There are 824 sources in the original catalog, 31 (4%) sources with #obs < 3 dropped, leaving 793 sources in the present catalog.\n",
      "\n",
      "Processing 2016\n",
      "There are 873 sources in the original catalog, 29 (3%) sources with #obs < 3 dropped, leaving 844 sources in the present catalog.\n",
      "\n",
      "Processing 2017\n",
      "There are 2469 sources in the original catalog, 108 (4%) sources with #obs < 3 dropped, leaving 2361 sources in the present catalog.\n",
      "\n",
      "Processing 2018\n",
      "There are 4544 sources in the original catalog, 263 (6%) sources with #obs < 3 dropped, leaving 4281 sources in the present catalog.\n",
      "\n",
      "Processing 2019\n",
      "There are 935 sources in the original catalog, 100 (11%) sources with #obs < 3 dropped, leaving 835 sources in the present catalog.\n"
     ]
    }
   ],
   "source": [
    "for i, year in enumerate(years):\n",
    "    \n",
    "    print(\"\\nProcessing\", year)\n",
    "    \n",
    "    opa = read_sou(\"../data/yearly/{:d}-y.sou\".format(year), drop_few_obs=True)\n",
    "    \n",
    "    pos_oft = radio_cat_diff_calc(opa, icrf3def, sou_name=\"iers_name\")\n",
    "    \n",
    "    N0_d[i], N1_d[i], pmt_d[i], err_d[i] = calc_orient_4_yearly_crf(pos_oft)"
   ]
  },
  {
   "cell_type": "code",
   "execution_count": 11,
   "metadata": {},
   "outputs": [
    {
     "data": {
      "text/plain": [
       "<matplotlib.legend.Legend at 0x1a234e6410>"
      ]
     },
     "execution_count": 11,
     "metadata": {},
     "output_type": "execute_result"
    },
    {
     "data": {
      "image/png": "[encoded data removed]",
      "text/plain": [
       "<Figure size 432x288 with 1 Axes>"
      ]
     },
     "metadata": {
      "needs_background": "light"
     },
     "output_type": "display_data"
    }
   ],
   "source": [
    "fig, ax = plt.subplots()\n",
    "\n",
    "ax.plot(years, N0_d, \"b-o\", ms=2, lw=0.5, label=\"$N_0$\")\n",
    "ax.plot(years, N1_d, \"r-s\", ms=2, lw=0.5, label=\"$N_1$\")\n",
    "\n",
    "# ax.set_yscale(\"log\")\n",
    "\n",
    "ax.set_xlabel(\"Epoch (year)\", fontsize=12)\n",
    "ax.set_ylabel(\"No. sources\", fontsize=12)\n",
    "ax.legend()"
   ]
  },
  {
   "cell_type": "code",
   "execution_count": 12,
   "metadata": {},
   "outputs": [
    {
     "data": {
      "text/plain": [
       "<matplotlib.legend.Legend at 0x1a1ff16810>"
      ]
     },
     "execution_count": 12,
     "metadata": {},
     "output_type": "execute_result"
    },
    {
     "data": {
      "image/png": "[encoded data removed]",
      "text/plain": [
       "<Figure size 432x288 with 1 Axes>"
      ]
     },
     "metadata": {
      "needs_background": "light"
     },
     "output_type": "display_data"
    }
   ],
   "source": [
    "fig, ax = plt.subplots()\n",
    "\n",
    "ax.errorbar(years, pmt_d[:,0], yerr=err_d[:,0], color=\"blue\", \n",
    "            ms=3, fmt=\"-s\", elinewidth=0.5, lw=0.2, label=\"$R_1$\")\n",
    "ax.errorbar(years, pmt_d[:,1], yerr=err_d[:,1], color=\"black\", \n",
    "            ms=3, fmt=\"-o\", elinewidth=0.5, lw=0.2, label=\"$R_2$\")\n",
    "ax.errorbar(years, pmt_d[:,2], yerr=err_d[:,2], color=\"red\", \n",
    "            ms=3, fmt=\"-^\", elinewidth=0.5, lw=0.2, label=\"$R_3$\")\n",
    "\n",
    "ax.set_xlabel(\"Epoch (year)\", fontsize=12)\n",
    "ax.set_ylabel(\"Orientation angle ($\\mathrm{\\mu as}$)\", fontsize=12)\n",
    "ax.legend()"
   ]
  },
  {
   "cell_type": "code",
   "execution_count": 13,
   "metadata": {},
   "outputs": [
    {
     "name": "stdout",
     "output_type": "stream",
     "text": [
      "No weighted\n",
      "    Mean   RMS  Std\n",
      "    uas    uas  uas\n",
      "R1  +324  1021  967\n",
      "R2  -273   710  653\n",
      "R3   +77   436  429\n"
     ]
    }
   ],
   "source": [
    "wmean1, wrms1, wstd1 = rms_calc(pmt_d[:,0])\n",
    "wmean2, wrms2, wstd2 = rms_calc(pmt_d[:,1])\n",
    "wmean3, wrms3, wstd3 = rms_calc(pmt_d[:,2])\n",
    "\n",
    "print(\"No weighted\")\n",
    "print(\"    Mean   RMS  Std\")\n",
    "print(\"    uas    uas  uas\")\n",
    "print(\"R1  {:+4.0f}  {:4.0f}  {:.0f}\".format(wmean1, wrms1, wstd1))\n",
    "print(\"R2  {:+4.0f}  {:4.0f}  {:.0f}\".format(wmean2, wrms2, wstd2))\n",
    "print(\"R3  {:+4.0f}  {:4.0f}  {:.0f}\".format(wmean3, wrms3, wstd3))"
   ]
  },
  {
   "cell_type": "code",
   "execution_count": 14,
   "metadata": {},
   "outputs": [
    {
     "name": "stdout",
     "output_type": "stream",
     "text": [
      "Weighted\n",
      "    Mean  WRMS Std\n",
      "    uas   uas  uas\n",
      "R1   +50  525  522\n",
      "R2  -123  354  332\n",
      "R3   +21  178  176\n"
     ]
    }
   ],
   "source": [
    "wmean1, wrms1, wstd1 = rms_calc(pmt_d[:,0], err_d[:,0])\n",
    "wmean2, wrms2, wstd2 = rms_calc(pmt_d[:,1], err_d[:,1])\n",
    "wmean3, wrms3, wstd3 = rms_calc(pmt_d[:,2], err_d[:,2])\n",
    "\n",
    "print(\"Weighted\")\n",
    "print(\"    Mean  WRMS Std\")\n",
    "print(\"    uas   uas  uas\")\n",
    "print(\"R1  {:+4.0f}  {:.0f}  {:.0f}\".format(wmean1, wrms1, wstd1))\n",
    "print(\"R2  {:+4.0f}  {:.0f}  {:.0f}\".format(wmean2, wrms2, wstd2))\n",
    "print(\"R3  {:+4.0f}  {:.0f}  {:.0f}\".format(wmean3, wrms3, wstd3))"
   ]
  }
 ],
 "metadata": {
  "hide_input": false,
  "kernelspec": {
   "display_name": "Python 3",
   "language": "python",
   "name": "python3"
  },
  "language_info": {
   "codemirror_mode": {
    "name": "ipython",
    "version": 3
   },
   "file_extension": ".py",
   "mimetype": "text/x-python",
   "name": "python",
   "nbconvert_exporter": "python",
   "pygments_lexer": "ipython3",
   "version": "3.7.4"
  },
  "latex_envs": {
   "LaTeX_envs_menu_present": true,
   "autoclose": false,
   "autocomplete": true,
   "bibliofile": "biblio.bib",
   "cite_by": "apalike",
   "current_citInitial": 1,
   "eqLabelWithNumbers": true,
   "eqNumInitial": 1,
   "hotkeys": {
    "equation": "Ctrl-E",
    "itemize": "Ctrl-I"
   },
   "labels_anchors": false,
   "latex_user_defs": false,
   "report_style_numbering": false,
   "user_envs_cfg": false
  },
  "varInspector": {
   "cols": {
    "lenName": 16,
    "lenType": 16,
    "lenVar": 40
   },
   "kernels_config": {
    "python": {
     "delete_cmd_postfix": "",
     "delete_cmd_prefix": "del ",
     "library": "var_list.py",
     "varRefreshCmd": "print(var_dic_list())"
    },
    "r": {
     "delete_cmd_postfix": ") ",
     "delete_cmd_prefix": "rm(",
     "library": "var_list.r",
     "varRefreshCmd": "cat(var_dic_list()) "
    }
   },
   "types_to_exclude": [
    "module",
    "function",
    "builtin_function_or_method",
    "instance",
    "_Feature"
   ],
   "window_display": false
  }
 },
 "nbformat": 4,
 "nbformat_minor": 4
}
