{
 "cells": [
  {
   "cell_type": "markdown",
   "metadata": {},
   "source": [
    "This notebook presents the observing history of radio sources as seen from the coordinate time series."
   ]
  },
  {
   "cell_type": "code",
   "execution_count": 1,
   "metadata": {
    "ExecuteTime": {
     "end_time": "2021-12-08T14:02:13.468832Z",
     "start_time": "2021-12-08T14:02:10.791374Z"
    }
   },
   "outputs": [],
   "source": [
    "from astropy.table import Table, setdiff, join\n",
    "import matplotlib.pyplot as plt\n",
    "from matplotlib.ticker import MultipleLocator\n",
    "import numpy as np\n",
    "%matplotlib inline"
   ]
  },
  {
   "cell_type": "code",
   "execution_count": 2,
   "metadata": {
    "ExecuteTime": {
     "end_time": "2021-12-08T14:02:13.593206Z",
     "start_time": "2021-12-08T14:02:13.470833Z"
    }
   },
   "outputs": [],
   "source": [
    "# ts_stats = Table.read(\"../logs/ts_stat_20210315.log\", format=\"ascii\")\n",
    "# ts_stats = Table.read(\"../logs/ts_stat_nju_20210531.log\", format=\"ascii\")\n",
    "ts_stats = Table.read(\"../logs/ts_stat_nju_20210608.log\", format=\"ascii\")\n",
    "\n",
    "nses = ts_stats[\"num_ses\"]\n",
    "dt = ts_stats[\"obs_len\"]"
   ]
  },
  {
   "cell_type": "code",
   "execution_count": 3,
   "metadata": {
    "ExecuteTime": {
     "end_time": "2021-12-08T14:02:13.627146Z",
     "start_time": "2021-12-08T14:02:13.597546Z"
    }
   },
   "outputs": [],
   "source": [
    "# A special check on the ICRF3 defining sources\n",
    "def_sou = Table.read(\"../data/icrf3sx-def-sou.txt\", format=\"ascii\")\n",
    "\n",
    "def_sou_stats = join(ts_stats, def_sou, keys=\"iers_name\")\n",
    "\n",
    "def_nses = def_sou_stats[\"num_ses\"]\n",
    "def_dt = def_sou_stats[\"obs_len\"]"
   ]
  },
  {
   "cell_type": "code",
   "execution_count": 4,
   "metadata": {
    "ExecuteTime": {
     "end_time": "2021-12-08T14:02:15.053148Z",
     "start_time": "2021-12-08T14:02:13.628917Z"
    }
   },
   "outputs": [
    {
     "name": "stdout",
     "output_type": "stream",
     "text": [
      "There are 5290 sources, 4536 in common with the ICRF3 S/X catalogs, including 303 ICRF3 defning sources.\n"
     ]
    }
   ],
   "source": [
    "from myprogs.catalog.read_icrf import read_icrf3\n",
    "\n",
    "icrf3sx = read_icrf3(wv=\"sx\")\n",
    "\n",
    "icrf3sx.keep_columns([\"iers_name\"])\n",
    "\n",
    "N_com = len(join(icrf3sx, ts_stats))\n",
    "\n",
    "print(\"There are {:d} sources, {:d} in common with the ICRF3 S/X catalogs, \"\n",
    "      \"including {} ICRF3 defning sources.\".format(len(ts_stats), N_com, len(def_sou_stats)))"
   ]
  },
  {
   "cell_type": "markdown",
   "metadata": {},
   "source": [
    "Then plot the distribution of number of sessions."
   ]
  },
  {
   "cell_type": "code",
   "execution_count": 5,
   "metadata": {
    "ExecuteTime": {
     "end_time": "2021-12-08T14:02:15.604859Z",
     "start_time": "2021-12-08T14:02:15.054647Z"
    }
   },
   "outputs": [
    {
     "data": {
      "image/png": "[encoded data removed]",
      "text/plain": [
       "<Figure size 432x288 with 1 Axes>"
      ]
     },
     "metadata": {
      "needs_background": "light"
     },
     "output_type": "display_data"
    }
   ],
   "source": [
    "bins = [0, 5, 10, 20, 30, 40, 50, 100, 500, 1000, 1e8]\n",
    "num, loc = np.histogram(nses, bins=bins)\n",
    "def_num, def_loc = np.histogram(def_nses, bins=bins)\n",
    "\n",
    "loclabel = []\n",
    "for loci in loc[:-1]:\n",
    "    loclabel.append(\"%.0f\" % loci)\n",
    "\n",
    "loclabel.append(\">1000\")\n",
    "    \n",
    "# Plot the histogram of No. session.\n",
    "fig, ax = plt.subplots()\n",
    "\n",
    "xloc = np.arange(len(num))\n",
    "ax.bar(xloc, num, fill=False, align=\"edge\", edgecolor=\"b\", label=\"All\",\n",
    "       width=1)\n",
    "ax.bar(xloc, def_num, color=\"grey\", align=\"edge\", edgecolor=\"k\", label=\"Defining\",\n",
    "       width=1)\n",
    "\n",
    "ax.set_xticks(np.arange(len(num)+1))\n",
    "ax.set_xticklabels(loclabel)\n",
    "ax.set_yscale(\"log\")\n",
    "ax.set_ylim([1, 5000])\n",
    "ax.set_xlabel(\"No. session\", fontsize=12)\n",
    "ax.set_ylabel(\"No. source\", fontsize=12)\n",
    "ax.legend()\n",
    "\n",
    "plt.tight_layout()\n",
    "# plt.savefig(\"../plots/no_sess.eps\")"
   ]
  },
  {
   "cell_type": "code",
   "execution_count": 6,
   "metadata": {
    "ExecuteTime": {
     "end_time": "2021-12-08T14:02:15.611293Z",
     "start_time": "2021-12-08T14:02:15.606856Z"
    }
   },
   "outputs": [
    {
     "name": "stdout",
     "output_type": "stream",
     "text": [
      "The min, median, and max number of sessions for all sources are  1 and 5.0 and 4912\n",
      "The min, median, and max number of sessions for defining sources are  4 and 139.0 and 4912\n"
     ]
    }
   ],
   "source": [
    "print(\"The min, median, and max number of sessions for all sources are \", \n",
    "      np.min(nses), \"and\", np.median(nses), \"and\", np.max(nses))\n",
    "print(\"The min, median, and max number of sessions for defining sources are \", \n",
    "      np.min(def_nses), \"and\", np.median(def_nses), \"and\", np.max(def_nses))"
   ]
  },
  {
   "cell_type": "code",
   "execution_count": 7,
   "metadata": {
    "ExecuteTime": {
     "end_time": "2021-12-08T14:02:16.032344Z",
     "start_time": "2021-12-08T14:02:15.612626Z"
    }
   },
   "outputs": [
    {
     "data": {
      "image/png": "[encoded data removed]",
      "text/plain": [
       "<Figure size 432x288 with 1 Axes>"
      ]
     },
     "metadata": {
      "needs_background": "light"
     },
     "output_type": "display_data"
    }
   ],
   "source": [
    "bins = np.arange(0, 41, 5)\n",
    "num, loc = np.histogram(dt, bins=bins)\n",
    "def_num, def_loc = np.histogram(def_dt, bins=bins)\n",
    "\n",
    "loclabel = []\n",
    "for loci in loc:\n",
    "    loclabel.append(\"%.0f\" % loci)\n",
    "\n",
    "# Plot the histogram of No. session.\n",
    "fig, ax = plt.subplots()\n",
    "\n",
    "# xloc = np.arange(len(num))\n",
    "ax.hist(dt, bins=bins, histtype=\"bar\", edgecolor=\"b\", label=\"All\", fill=False)\n",
    "ax.hist(def_dt, bins=bins, histtype=\"bar\", color=\"grey\", edgecolor=\"k\", label=\"Defining\")\n",
    "\n",
    "ax.set_yscale(\"log\")\n",
    "ax.set_xlabel(\"Length of observing span (yr)\", fontsize=12)\n",
    "ax.set_ylabel(\"No. source\", fontsize=12)\n",
    "ax.set_ylim([1, 2000])\n",
    "ax.legend()\n",
    "\n",
    "plt.tight_layout()\n",
    "# plt.savefig(\"../plots/len_obs_time.eps\")"
   ]
  },
  {
   "cell_type": "code",
   "execution_count": 8,
   "metadata": {
    "ExecuteTime": {
     "end_time": "2021-12-08T14:02:16.039548Z",
     "start_time": "2021-12-08T14:02:16.033854Z"
    }
   },
   "outputs": [
    {
     "name": "stdout",
     "output_type": "stream",
     "text": [
      "The shortest and longest observing time span for all sources are  0.0 yr and 41.1 yr\n",
      "The shortest and longest observing time span for defining sources are  4.1 yr and 41.1 yr\n"
     ]
    }
   ],
   "source": [
    "print(\"The shortest and longest observing time span for all sources are \",\n",
    "      dt.min(), \"yr and\", dt.max(), \"yr\")\n",
    "print(\"The shortest and longest observing time span for defining sources are \",\n",
    "      def_dt.min(), \"yr and\", def_dt.max(), \"yr\")"
   ]
  },
  {
   "cell_type": "code",
   "execution_count": 9,
   "metadata": {
    "ExecuteTime": {
     "end_time": "2021-12-08T14:02:16.046484Z",
     "start_time": "2021-12-08T14:02:16.043151Z"
    }
   },
   "outputs": [
    {
     "name": "stdout",
     "output_type": "stream",
     "text": [
      "The earliest and lastest observations for all sources are made at 1979.90 and 2021.00.\n"
     ]
    }
   ],
   "source": [
    "print(\"The earliest and lastest observations for all sources \"\n",
    "      \"are made at {:.2f} and {:.2f}.\".format(\n",
    "      ts_stats[\"beg_epoch\"].min(), ts_stats[\"end_epoch\"].max()))"
   ]
  },
  {
   "cell_type": "code",
   "execution_count": 10,
   "metadata": {
    "ExecuteTime": {
     "end_time": "2021-12-08T14:02:16.507370Z",
     "start_time": "2021-12-08T14:02:16.052521Z"
    }
   },
   "outputs": [
    {
     "data": {
      "image/png": "[encoded data removed]",
      "text/plain": [
       "<Figure size 432x288 with 1 Axes>"
      ]
     },
     "metadata": {
      "needs_background": "light"
     },
     "output_type": "display_data"
    }
   ],
   "source": [
    "bins = np.arange(1979, 2021, 1)\n",
    "num, loc = np.histogram(dt, bins=bins)\n",
    "def_num, def_loc = np.histogram(def_dt, bins=bins)\n",
    "\n",
    "# loclabel = []\n",
    "# for loci in loc:\n",
    "#     loclabel.append(\"%.0f\" % loci)\n",
    "\n",
    "# Plot the histogram of Mean epoch\n",
    "fig, ax = plt.subplots()\n",
    "\n",
    "# # xloc = np.arange(len(num))\n",
    "ax.hist(ts_stats[\"mean_epoch\"], bins=bins, histtype=\"bar\", edgecolor=\"b\", label=\"All\", fill=False)\n",
    "ax.hist(def_sou_stats[\"mean_epoch\"], bins=bins, histtype=\"bar\", color=\"grey\", edgecolor=\"k\", label=\"Defining\")\n",
    "\n",
    "ax.set_yscale(\"log\")\n",
    "ax.set_xlabel(\"Mean observing epoch (yr)\", fontsize=12)\n",
    "ax.set_ylabel(\"Nb source\", fontsize=12)\n",
    "# ax.set_ylim([1, 2000])\n",
    "ax.legend()\n",
    "\n",
    "plt.tight_layout()\n",
    "# plt.savefig(\"../plots/len_obs_time.eps\")"
   ]
  },
  {
   "cell_type": "code",
   "execution_count": 11,
   "metadata": {
    "ExecuteTime": {
     "end_time": "2021-12-08T14:02:16.514536Z",
     "start_time": "2021-12-08T14:02:16.509390Z"
    }
   },
   "outputs": [
    {
     "name": "stdout",
     "output_type": "stream",
     "text": [
      "The median vaule of mean observing epoch for all sources is 2015.15, and 2013.11 for the defining sources.\n"
     ]
    }
   ],
   "source": [
    "print(\"The median vaule of mean observing epoch for all sources is {:.2f}, \"\n",
    "      \"and {:.2f} for the defining sources.\".format(\n",
    "      np.median(ts_stats[\"mean_epoch\"]), np.median(def_sou_stats[\"mean_epoch\"])))"
   ]
  }
 ],
 "metadata": {
  "hide_input": false,
  "kernelspec": {
   "display_name": "Python 3 (ipykernel)",
   "language": "python",
   "name": "python3"
  },
  "language_info": {
   "codemirror_mode": {
    "name": "ipython",
    "version": 3
   },
   "file_extension": ".py",
   "mimetype": "text/x-python",
   "name": "python",
   "nbconvert_exporter": "python",
   "pygments_lexer": "ipython3",
   "version": "3.9.7"
  },
  "latex_envs": {
   "LaTeX_envs_menu_present": true,
   "autoclose": false,
   "autocomplete": true,
   "bibliofile": "biblio.bib",
   "cite_by": "apalike",
   "current_citInitial": 1,
   "eqLabelWithNumbers": true,
   "eqNumInitial": 1,
   "hotkeys": {
    "equation": "Ctrl-E",
    "itemize": "Ctrl-I"
   },
   "labels_anchors": false,
   "latex_user_defs": false,
   "report_style_numbering": false,
   "user_envs_cfg": false
  },
  "varInspector": {
   "cols": {
    "lenName": 16,
    "lenType": 16,
    "lenVar": 40
   },
   "kernels_config": {
    "python": {
     "delete_cmd_postfix": "",
     "delete_cmd_prefix": "del ",
     "library": "var_list.py",
     "varRefreshCmd": "print(var_dic_list())"
    },
    "r": {
     "delete_cmd_postfix": ") ",
     "delete_cmd_prefix": "rm(",
     "library": "var_list.r",
     "varRefreshCmd": "cat(var_dic_list()) "
    }
   },
   "types_to_exclude": [
    "module",
    "function",
    "builtin_function_or_method",
    "instance",
    "_Feature"
   ],
   "window_display": false
  }
 },
 "nbformat": 4,
 "nbformat_minor": 2
}
