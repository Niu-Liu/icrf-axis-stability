{
 "cells": [
  {
   "cell_type": "code",
   "execution_count": 1,
   "metadata": {},
   "outputs": [],
   "source": [
    "from astropy.table import Table, Column\n",
    "from astropy.time import Time\n",
    "import matplotlib.pyplot as plt\n",
    "import numpy as np\n",
    "%matplotlib inline"
   ]
  },
  {
   "cell_type": "code",
   "execution_count": 2,
   "metadata": {},
   "outputs": [],
   "source": [
    "def calc_ses_epoch(sesname):\n",
    "    \"\"\"Calculate the epoch from a single session.\n",
    "\n",
    "    Parameter\n",
    "    ---------\n",
    "    sesname : str\n",
    "        session name (8-letters)\n",
    "\n",
    "    Return\n",
    "    ------\n",
    "    epoch.jyear : float\n",
    "        Epoch of session in Julian year\n",
    "    \"\"\"\n",
    "\n",
    "    # Mapping table between letter and number for month\n",
    "    monstr2num = {\n",
    "        \"JAN\": \"01\",\n",
    "        \"FEB\": \"02\",\n",
    "        \"MAR\": \"03\",\n",
    "        \"APR\": \"04\",\n",
    "        \"MAY\": \"05\",\n",
    "        \"JUN\": \"06\",\n",
    "        \"JUL\": \"07\",\n",
    "        \"AUG\": \"08\",\n",
    "        \"SEP\": \"09\",\n",
    "        \"OCT\": \"10\",\n",
    "        \"NOV\": \"11\",\n",
    "        \"DEC\": \"12\"\n",
    "    }\n",
    "\n",
    "    year = int(sesname[1:3])\n",
    "    monstr = sesname[3:6]\n",
    "    date = sesname[6:8]\n",
    "\n",
    "    if year >= 79:\n",
    "        year += 1900\n",
    "    else:\n",
    "        year += 2000\n",
    "\n",
    "    epoch = Time(\"{}-{}-{}\".format(year, monstr2num[monstr], date), format=\"iso\")\n",
    "\n",
    "    return epoch.jyear"
   ]
  },
  {
   "cell_type": "code",
   "execution_count": 19,
   "metadata": {},
   "outputs": [],
   "source": [
    "arc_list = Table.read(\"../data/opa2019a.arc\", format=\"ascii.fixed_width_no_header\",\n",
    "                     col_starts=[2, 0], col_ends=[12, 100], names=[\"db_name\", \"all\"])\n",
    "\n",
    "epoch = [calc_ses_epoch(db_name) for db_name in arc_list[\"db_name\"]]\n",
    "epoch = Column(epoch, name=\"epoch\")\n",
    "\n",
    "arc_list.add_column(epoch)"
   ]
  },
  {
   "cell_type": "code",
   "execution_count": 20,
   "metadata": {},
   "outputs": [
    {
     "data": {
      "text/html": [
       "<i>Table length=6781</i>\n",
       "<table id=\"table4874669456\" class=\"table-striped table-bordered table-condensed\">\n",
       "<thead><tr><th>db_name</th><th>all</th><th>epoch</th></tr></thead>\n",
       "<thead><tr><th>str10</th><th>str79</th><th>float64</th></tr></thead>\n",
       "<tr><td>$79AUG03XX</td><td>$79AUG03XX   27   ! X-US       XUS79C  HsG3Oo</td><td>1979.5852156057495</td></tr>\n",
       "<tr><td>$79NOV25X</td><td>$79NOV25X    50   ! XATL       XATL79  EbGbOoHs</td><td>1979.8973305954826</td></tr>\n",
       "<tr><td>$80APR11XQ</td><td>$80APR11XQ   48   ! X-US       XUS801  HrOoHsGb</td><td>1980.2751540041068</td></tr>\n",
       "<tr><td>$80JUL26X</td><td>$80JUL26X    46   ! MERIT-1    MERT01  HrOoHsEbOn</td><td>1980.5653661875428</td></tr>\n",
       "<tr><td>$80JUL27X</td><td>$80JUL27X    46   ! MERIT-2    MERT02  HsHrEbOoOn</td><td>1980.56810403833</td></tr>\n",
       "<tr><td>$80SEP26X</td><td>$80SEP26X    36   ! MERIT-4    MERT04  EbOoHrHsOn</td><td>1980.7351129363449</td></tr>\n",
       "<tr><td>$80SEP27X</td><td>$80SEP27X    35   ! MERIT-5    MERT05  HrEbOoHsOn</td><td>1980.7378507871322</td></tr>\n",
       "<tr><td>$80SEP28X</td><td>$80SEP28X    35   ! MERIT-6    MERT06  HsOoHrEbOn</td><td>1980.7405886379192</td></tr>\n",
       "<tr><td>$80SEP29X</td><td>$80SEP29X    39   ! MERIT-7    MERT07  HsHrOoOn</td><td>1980.7433264887063</td></tr>\n",
       "<tr><td>$80SEP30X</td><td>$80SEP30X    36   ! MERIT-8    MERT08  HrOoHsOn</td><td>1980.7460643394934</td></tr>\n",
       "<tr><td>...</td><td>...</td><td>...</td></tr>\n",
       "<tr><td>$20JAN02XE</td><td>$20JAN02XE    4   ! IVS-R4927  R4927   AgFtKkNyWnWzYg</td><td>2020.0013689253935</td></tr>\n",
       "<tr><td>$20JAN13XA</td><td>$20JAN13XA    4   ! IVS-R1929  R1929   AgBdFtHoHtKkKvMaNyOnSvWzZc</td><td>2020.031485284052</td></tr>\n",
       "<tr><td>$20JAN09XE</td><td>$20JAN09XE    4   ! IVS-R4928  R4928   FtHtKkNyUrWnWzYgYs</td><td>2020.0205338809035</td></tr>\n",
       "<tr><td>$20JAN16XE</td><td>$20JAN16XE    4   ! IVS-R4929  R4929   BdFtHtKkNySvWnWzYg</td><td>2020.0396988364134</td></tr>\n",
       "<tr><td>$20JAN21XA</td><td>$20JAN21XA    4   ! IVS-R1930  R1930   BdFtHoHtKkKvMaNySvWzYgZc</td><td>2020.053388090349</td></tr>\n",
       "<tr><td>$20JAN23XE</td><td>$20JAN23XE    4   ! IVS-R4930  R4930   BdFtHtKkNySvWnWzYgZc</td><td>2020.0588637919234</td></tr>\n",
       "<tr><td>$20FEB03XA</td><td>$20FEB03XA    4   ! IVS-R1932  R1932   AgBdFtHtKkKvMaNyOnSvWwWzYgZc</td><td>2020.0889801505818</td></tr>\n",
       "<tr><td>$20JAN30XE</td><td>$20JAN30XE    4   ! IVS-R4931  R4931   BdFtHtKkNySvWnWzYgZc</td><td>2020.0780287474333</td></tr>\n",
       "<tr><td>$20FEB06XE</td><td>$20FEB06XE    4   ! IVS-R4932  R4932   BdFtHtKkNySvWnWzYg</td><td>2020.0971937029433</td></tr>\n",
       "<tr><td>$20FEB10XA</td><td>$20FEB10XA    4   ! IVS-R1933  R1933   AgBdFtHtKvMaNyWnWwWzYg</td><td>2020.1081451060918</td></tr>\n",
       "</table>"
      ],
      "text/plain": [
       "<Table length=6781>\n",
       " db_name   ...       epoch       \n",
       "  str10    ...      float64      \n",
       "---------- ... ------------------\n",
       "$79AUG03XX ... 1979.5852156057495\n",
       " $79NOV25X ... 1979.8973305954826\n",
       "$80APR11XQ ... 1980.2751540041068\n",
       " $80JUL26X ... 1980.5653661875428\n",
       " $80JUL27X ...   1980.56810403833\n",
       " $80SEP26X ... 1980.7351129363449\n",
       " $80SEP27X ... 1980.7378507871322\n",
       " $80SEP28X ... 1980.7405886379192\n",
       " $80SEP29X ... 1980.7433264887063\n",
       " $80SEP30X ... 1980.7460643394934\n",
       "       ... ...                ...\n",
       "$20JAN02XE ... 2020.0013689253935\n",
       "$20JAN13XA ...  2020.031485284052\n",
       "$20JAN09XE ... 2020.0205338809035\n",
       "$20JAN16XE ... 2020.0396988364134\n",
       "$20JAN21XA ...  2020.053388090349\n",
       "$20JAN23XE ... 2020.0588637919234\n",
       "$20FEB03XA ... 2020.0889801505818\n",
       "$20JAN30XE ... 2020.0780287474333\n",
       "$20FEB06XE ... 2020.0971937029433\n",
       "$20FEB10XA ... 2020.1081451060918"
      ]
     },
     "execution_count": 20,
     "metadata": {},
     "output_type": "execute_result"
    }
   ],
   "source": [
    "arc_list"
   ]
  },
  {
   "cell_type": "code",
   "execution_count": 17,
   "metadata": {},
   "outputs": [
    {
     "name": "stdout",
     "output_type": "stream",
     "text": [
      "The statistics of the number of sessions in each years are\n",
      "Min      2.0\n",
      "Max      283.0\n",
      "Mean     165.1219512195122\n",
      "Median:  168.0\n"
     ]
    },
    {
     "data": {
      "image/png": "[encoded data removed]",
      "text/plain": [
       "<Figure size 432x288 with 1 Axes>"
      ]
     },
     "metadata": {
      "needs_background": "light"
     },
     "output_type": "display_data"
    }
   ],
   "source": [
    "bins = np.arange(1979, 2021, 1)\n",
    "\n",
    "coun, step, _ = plt.hist(arc_list[\"epoch\"], bins)\n",
    "\n",
    "print(\"The statistics of the number of sessions in each years are\")\n",
    "print(\"Min     \", np.min(coun))\n",
    "print(\"Max     \", np.max(coun))\n",
    "print(\"Mean    \", np.mean(coun))\n",
    "print(\"Median: \", np.median(coun))"
   ]
  },
  {
   "cell_type": "code",
   "execution_count": 18,
   "metadata": {},
   "outputs": [
    {
     "data": {
      "text/plain": [
       "array([  2.,  20.,  29.,  58.,  83., 116., 130., 152., 184., 239., 256.,\n",
       "       279., 255., 283., 209., 213., 157., 162., 139., 137., 155., 125.,\n",
       "       160., 176., 180., 176., 208., 178., 168., 180., 150., 147., 164.,\n",
       "       161., 184., 233., 225., 173., 195., 196., 133.])"
      ]
     },
     "execution_count": 18,
     "metadata": {},
     "output_type": "execute_result"
    }
   ],
   "source": [
    "coun"
   ]
  },
  {
   "cell_type": "markdown",
   "metadata": {},
   "source": [
    "Consider the few sessions in the first several years at the beginning, I start with 1985."
   ]
  },
  {
   "cell_type": "markdown",
   "metadata": {},
   "source": [
    "### Type 1 Separate sessions made in each year and make yearly solutions, namely yearly."
   ]
  },
  {
   "cell_type": "code",
   "execution_count": 26,
   "metadata": {},
   "outputs": [],
   "source": [
    "mask = (arc_list[\"epoch\"] < 1985)\n",
    "tabsub = arc_list[mask]\n",
    "tabsub.write(\"../data/yearly/{:d}-y.arc\".format(1985), \n",
    "             format=\"ascii.fixed_width_no_header\",\n",
    "             formats={\"all\": \"%-100s\"},\n",
    "             include_names=[\"all\"], delimiter=\" \",\n",
    "             overwrite=True)\n",
    "\n",
    "for year in range(1985, 2020):\n",
    "    mask = (arc_list[\"epoch\"] > year) & (arc_list[\"epoch\"] < year+1)\n",
    "    tabsub = arc_list[mask]\n",
    "    tabsub.write(\"../data/yearly/{:d}-y.arc\".format(year), \n",
    "             format=\"ascii.fixed_width_no_header\",\n",
    "             formats={\"all\": \"%-100s\"},\n",
    "             include_names=[\"all\"], delimiter=\" \",\n",
    "             overwrite=True)"
   ]
  },
  {
   "cell_type": "markdown",
   "metadata": {},
   "source": [
    "### Type 2 Use all the sessions made until a certain year, namely continued."
   ]
  },
  {
   "cell_type": "code",
   "execution_count": 27,
   "metadata": {},
   "outputs": [],
   "source": [
    "for year in range(1985, 2020):\n",
    "    mask = (arc_list[\"epoch\"] < year)\n",
    "    tabsub = arc_list[mask]\n",
    "    tabsub.write(\"../data/continued/{:d}-c.arc\".format(year), \n",
    "             format=\"ascii.fixed_width_no_header\",\n",
    "             formats={\"all\": \"%-100s\"},\n",
    "             include_names=[\"all\"], delimiter=\" \",\n",
    "             overwrite=True)"
   ]
  }
 ],
 "metadata": {
  "hide_input": false,
  "kernelspec": {
   "display_name": "Python 3",
   "language": "python",
   "name": "python3"
  },
  "language_info": {
   "codemirror_mode": {
    "name": "ipython",
    "version": 3
   },
   "file_extension": ".py",
   "mimetype": "text/x-python",
   "name": "python",
   "nbconvert_exporter": "python",
   "pygments_lexer": "ipython3",
   "version": "3.7.6"
  },
  "latex_envs": {
   "LaTeX_envs_menu_present": true,
   "autoclose": false,
   "autocomplete": true,
   "bibliofile": "biblio.bib",
   "cite_by": "apalike",
   "current_citInitial": 1,
   "eqLabelWithNumbers": true,
   "eqNumInitial": 1,
   "hotkeys": {
    "equation": "Ctrl-E",
    "itemize": "Ctrl-I"
   },
   "labels_anchors": false,
   "latex_user_defs": false,
   "report_style_numbering": false,
   "user_envs_cfg": false
  }
 },
 "nbformat": 4,
 "nbformat_minor": 2
}
