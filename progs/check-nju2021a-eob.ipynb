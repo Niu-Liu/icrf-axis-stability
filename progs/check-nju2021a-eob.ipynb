{
 "cells": [
  {
   "cell_type": "code",
   "execution_count": 1,
   "metadata": {
    "ExecuteTime": {
     "end_time": "2021-06-02T12:55:26.224466Z",
     "start_time": "2021-06-02T12:55:25.172813Z"
    }
   },
   "outputs": [],
   "source": [
    "from my_progs.vlbi.read_eop import read_eob\n",
    "from my_progs.vlbi.check_eob_wrt_c04 import calc_c04_offset"
   ]
  },
  {
   "cell_type": "code",
   "execution_count": 2,
   "metadata": {
    "ExecuteTime": {
     "end_time": "2021-06-02T12:55:26.522930Z",
     "start_time": "2021-06-02T12:55:26.228276Z"
    }
   },
   "outputs": [],
   "source": [
    "eob_ts = read_eob(\"../data/nju2021a.eob\")"
   ]
  },
  {
   "cell_type": "code",
   "execution_count": 3,
   "metadata": {
    "ExecuteTime": {
     "end_time": "2021-06-02T12:55:42.201328Z",
     "start_time": "2021-06-02T12:55:26.525632Z"
    },
    "hideCode": true
   },
   "outputs": [
    {
     "ename": "UFuncTypeError",
     "evalue": "ufunc 'subtract' did not contain a loop with signature matching types (dtype('<U32'), dtype('<U32')) -> dtype('<U32')",
     "output_type": "error",
     "traceback": [
      "\u001b[0;31m---------------------------------------------------------------------------\u001b[0m",
      "\u001b[0;31mUFuncTypeError\u001b[0m                            Traceback (most recent call last)",
      "\u001b[0;32m<ipython-input-3-7c3997ba47bf>\u001b[0m in \u001b[0;36m<module>\u001b[0;34m\u001b[0m\n\u001b[0;32m----> 1\u001b[0;31m \u001b[0meob_c04\u001b[0m \u001b[0;34m=\u001b[0m \u001b[0mcalc_c04_offset\u001b[0m\u001b[0;34m(\u001b[0m\u001b[0meob_ts\u001b[0m\u001b[0;34m)\u001b[0m\u001b[0;34m\u001b[0m\u001b[0;34m\u001b[0m\u001b[0m\n\u001b[0m",
      "\u001b[0;32m~/.ipython/my_progs/vlbi/check_eob_wrt_c04.py\u001b[0m in \u001b[0;36mcalc_c04_offset\u001b[0;34m(t_eob, aprfile, oftfile)\u001b[0m\n\u001b[1;32m    475\u001b[0m     \u001b[0mt_eob_oft\u001b[0m \u001b[0;34m=\u001b[0m \u001b[0mjoin\u001b[0m\u001b[0;34m(\u001b[0m\u001b[0mt_eob\u001b[0m\u001b[0;34m,\u001b[0m \u001b[0mt_c04_apr\u001b[0m\u001b[0;34m,\u001b[0m \u001b[0mkeys\u001b[0m\u001b[0;34m=\u001b[0m\u001b[0;34m\"db_name\"\u001b[0m\u001b[0;34m)\u001b[0m\u001b[0;34m\u001b[0m\u001b[0;34m\u001b[0m\u001b[0m\n\u001b[1;32m    476\u001b[0m \u001b[0;34m\u001b[0m\u001b[0m\n\u001b[0;32m--> 477\u001b[0;31m     \u001b[0mdxp\u001b[0m \u001b[0;34m=\u001b[0m \u001b[0mt_eob_oft\u001b[0m\u001b[0;34m[\u001b[0m\u001b[0;34m\"xp\"\u001b[0m\u001b[0;34m]\u001b[0m \u001b[0;34m-\u001b[0m \u001b[0mt_eob_oft\u001b[0m\u001b[0;34m[\u001b[0m\u001b[0;34m\"xp_c04_apr\"\u001b[0m\u001b[0;34m]\u001b[0m\u001b[0;34m\u001b[0m\u001b[0;34m\u001b[0m\u001b[0m\n\u001b[0m\u001b[1;32m    478\u001b[0m     \u001b[0mdyp\u001b[0m \u001b[0;34m=\u001b[0m \u001b[0mt_eob_oft\u001b[0m\u001b[0;34m[\u001b[0m\u001b[0;34m\"yp\"\u001b[0m\u001b[0;34m]\u001b[0m \u001b[0;34m-\u001b[0m \u001b[0mt_eob_oft\u001b[0m\u001b[0;34m[\u001b[0m\u001b[0;34m\"yp_c04_apr\"\u001b[0m\u001b[0;34m]\u001b[0m\u001b[0;34m\u001b[0m\u001b[0;34m\u001b[0m\u001b[0m\n\u001b[1;32m    479\u001b[0m     \u001b[0mdut\u001b[0m \u001b[0;34m=\u001b[0m \u001b[0mt_eob_oft\u001b[0m\u001b[0;34m[\u001b[0m\u001b[0;34m\"ut1_tai\"\u001b[0m\u001b[0;34m]\u001b[0m \u001b[0;34m-\u001b[0m \u001b[0mt_eob_oft\u001b[0m\u001b[0;34m[\u001b[0m\u001b[0;34m\"ut1_tai_c04_apr\"\u001b[0m\u001b[0;34m]\u001b[0m\u001b[0;34m\u001b[0m\u001b[0;34m\u001b[0m\u001b[0m\n",
      "\u001b[0;31mUFuncTypeError\u001b[0m: ufunc 'subtract' did not contain a loop with signature matching types (dtype('<U32'), dtype('<U32')) -> dtype('<U32')"
     ]
    }
   ],
   "source": [
    "eob_c04 = calc_c04_offset(eob_ts)"
   ]
  },
  {
   "cell_type": "code",
   "execution_count": null,
   "metadata": {
    "ExecuteTime": {
     "end_time": "2021-06-02T12:55:42.203213Z",
     "start_time": "2021-06-02T12:55:25.168Z"
    }
   },
   "outputs": [],
   "source": [
    "from my_progs.vlbi.check_eob_wrt_c04 import c04_pm_offset_plot\n",
    "\n",
    "c04_pm_offset_plot(eob_c04)"
   ]
  },
  {
   "cell_type": "code",
   "execution_count": null,
   "metadata": {
    "ExecuteTime": {
     "end_time": "2021-06-02T12:55:42.204502Z",
     "start_time": "2021-06-02T12:55:25.169Z"
    }
   },
   "outputs": [],
   "source": [
    "from my_progs.vlbi.check_eob_wrt_c04 import c04_ut1_offset_plot\n",
    "\n",
    "c04_ut1_offset_plot(eob_c04)"
   ]
  },
  {
   "cell_type": "code",
   "execution_count": null,
   "metadata": {
    "ExecuteTime": {
     "end_time": "2021-06-02T12:55:42.205694Z",
     "start_time": "2021-06-02T12:55:25.171Z"
    }
   },
   "outputs": [],
   "source": [
    "from my_progs.vlbi.check_eob_wrt_c04 import c04_lod_offset_plot\n",
    "\n",
    "c04_lod_offset_plot(eob_c04)"
   ]
  },
  {
   "cell_type": "code",
   "execution_count": null,
   "metadata": {
    "ExecuteTime": {
     "end_time": "2021-06-02T12:55:42.206781Z",
     "start_time": "2021-06-02T12:55:25.172Z"
    }
   },
   "outputs": [],
   "source": [
    "from my_progs.vlbi.check_eob_wrt_c04 import c04_nut_offset_plot\n",
    "\n",
    "c04_nut_offset_plot(eob_c04)"
   ]
  }
 ],
 "metadata": {
  "hide_input": false,
  "kernelspec": {
   "display_name": "Python 3",
   "language": "python",
   "name": "python3"
  },
  "language_info": {
   "codemirror_mode": {
    "name": "ipython",
    "version": 3
   },
   "file_extension": ".py",
   "mimetype": "text/x-python",
   "name": "python",
   "nbconvert_exporter": "python",
   "pygments_lexer": "ipython3",
   "version": "3.7.10"
  }
 },
 "nbformat": 4,
 "nbformat_minor": 4
}
