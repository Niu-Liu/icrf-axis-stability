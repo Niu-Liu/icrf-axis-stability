{
 "cells": [
  {
   "cell_type": "markdown",
   "id": "8727105d",
   "metadata": {},
   "source": [
    "I considered several values for the spin and calculated the CRF deformation among 1979-2021."
   ]
  },
  {
   "cell_type": "code",
   "execution_count": 1,
   "id": "6717a48c",
   "metadata": {
    "ExecuteTime": {
     "end_time": "2021-10-26T05:49:36.863785Z",
     "start_time": "2021-10-26T05:49:36.324222Z"
    }
   },
   "outputs": [],
   "source": [
    "from astropy.time import Time"
   ]
  },
  {
   "cell_type": "code",
   "execution_count": 2,
   "id": "cdf787e7",
   "metadata": {
    "ExecuteTime": {
     "end_time": "2021-10-26T05:49:36.870145Z",
     "start_time": "2021-10-26T05:49:36.865172Z"
    }
   },
   "outputs": [],
   "source": [
    "def calc_and_print_func(spin, sigma):\n",
    "    \"\"\"\n",
    "    \"\"\"\n",
    "    \n",
    "    epoch1 = Time(\"1979-08-03\", scale=\"utc\")\n",
    "    epoch2 = Time(\"2020-12-31\", scale=\"utc\")\n",
    "\n",
    "    dt = epoch2.jyear - epoch1.jyear\n",
    "\n",
    "    print(\"===================================================\")\n",
    "    print(\"      Estimate  Error     Deformation   Error\")\n",
    "    print(\"      muas/yr   muas/yr   muas          muas       \")\n",
    "    print(\"---------------------------------------------------\")\n",
    "    print(\"X     {:6.2f}  {:6.2f}   {:6.0f}       {:6.0f}\".format(\n",
    "        spin[0], sigma[0], spin[0] * dt, sigma[0] * dt))\n",
    "    print(\"Y     {:6.2f}  {:6.2f}   {:6.0f}       {:6.0f}\".format(\n",
    "        spin[1], sigma[1], spin[1] * dt, sigma[1] * dt))\n",
    "    print(\"Z     {:6.2f}  {:6.2f}   {:6.0f}       {:6.0f}\".format(\n",
    "        spin[2], sigma[2], spin[2] * dt, sigma[2] * dt))\n",
    "    print(\"---------------------------------------------------\")\n",
    "    print(\"Time span : {:.1f} yr\".format(dt))"
   ]
  },
  {
   "cell_type": "markdown",
   "id": "50028cab",
   "metadata": {},
   "source": [
    "For 3-sigma result"
   ]
  },
  {
   "cell_type": "markdown",
   "id": "15f341aa",
   "metadata": {},
   "source": [
    "For the LSQ values."
   ]
  },
  {
   "cell_type": "code",
   "execution_count": 3,
   "id": "43be9da2",
   "metadata": {
    "ExecuteTime": {
     "end_time": "2021-10-26T05:49:36.891715Z",
     "start_time": "2021-10-26T05:49:36.873561Z"
    }
   },
   "outputs": [
    {
     "name": "stdout",
     "output_type": "stream",
     "text": [
      "===================================================\n",
      "      Estimate  Error     Deformation   Error\n",
      "      muas/yr   muas/yr   muas          muas       \n",
      "---------------------------------------------------\n",
      "X       0.73    0.27       30           11\n",
      "Y       0.48    0.31       20           13\n",
      "Z       0.25    0.21       10            9\n",
      "---------------------------------------------------\n",
      "Time span : 41.4 yr\n"
     ]
    }
   ],
   "source": [
    "spin = [0.73, 0.48, 0.25]\n",
    "sigma = [0.27, 0.31, 0.21]\n",
    "\n",
    "calc_and_print_func(spin, sigma)"
   ]
  },
  {
   "cell_type": "markdown",
   "id": "5a99b4df",
   "metadata": {},
   "source": [
    "For the bootstrap values."
   ]
  },
  {
   "cell_type": "code",
   "execution_count": 4,
   "id": "aff24dd9",
   "metadata": {
    "ExecuteTime": {
     "end_time": "2021-10-26T05:49:36.899763Z",
     "start_time": "2021-10-26T05:49:36.893687Z"
    }
   },
   "outputs": [
    {
     "name": "stdout",
     "output_type": "stream",
     "text": [
      "===================================================\n",
      "      Estimate  Error     Deformation   Error\n",
      "      muas/yr   muas/yr   muas          muas       \n",
      "---------------------------------------------------\n",
      "X       0.71    0.42       29           17\n",
      "Y       0.51    0.57       21           24\n",
      "Z       0.24    0.36       10           15\n",
      "---------------------------------------------------\n",
      "Time span : 41.4 yr\n"
     ]
    }
   ],
   "source": [
    "spin = [0.71, 0.51, 0.24]\n",
    "sigma = [0.42, 0.57, 0.36]\n",
    "\n",
    "calc_and_print_func(spin, sigma)"
   ]
  },
  {
   "cell_type": "markdown",
   "id": "391a24e9",
   "metadata": {},
   "source": [
    "For 10-sigma result"
   ]
  },
  {
   "cell_type": "markdown",
   "id": "94007cfd",
   "metadata": {},
   "source": [
    "For the LSQ values."
   ]
  },
  {
   "cell_type": "code",
   "execution_count": 5,
   "id": "5ed89aca",
   "metadata": {
    "ExecuteTime": {
     "end_time": "2021-10-26T05:49:36.905387Z",
     "start_time": "2021-10-26T05:49:36.901241Z"
    }
   },
   "outputs": [
    {
     "name": "stdout",
     "output_type": "stream",
     "text": [
      "===================================================\n",
      "      Estimate  Error     Deformation   Error\n",
      "      muas/yr   muas/yr   muas          muas       \n",
      "---------------------------------------------------\n",
      "X       0.57    0.38       24           16\n",
      "Y       0.90    0.44       37           18\n",
      "Z       0.02    0.28        1           12\n",
      "---------------------------------------------------\n",
      "Time span : 41.4 yr\n"
     ]
    }
   ],
   "source": [
    "spin = [0.57, 0.90, 0.02]\n",
    "sigma = [0.38, 0.44, 0.28]\n",
    "\n",
    "calc_and_print_func(spin, sigma)"
   ]
  },
  {
   "cell_type": "markdown",
   "id": "2102490b",
   "metadata": {},
   "source": [
    "For the bootstrap values."
   ]
  },
  {
   "cell_type": "code",
   "execution_count": 6,
   "id": "7655d651",
   "metadata": {
    "ExecuteTime": {
     "end_time": "2021-10-26T05:49:36.913222Z",
     "start_time": "2021-10-26T05:49:36.907905Z"
    }
   },
   "outputs": [
    {
     "name": "stdout",
     "output_type": "stream",
     "text": [
      "===================================================\n",
      "      Estimate  Error     Deformation   Error\n",
      "      muas/yr   muas/yr   muas          muas       \n",
      "---------------------------------------------------\n",
      "X       0.63    0.71       26           29\n",
      "Y       0.92    0.88       38           36\n",
      "Z       0.02    0.65        1           27\n",
      "---------------------------------------------------\n",
      "Time span : 41.4 yr\n"
     ]
    }
   ],
   "source": [
    "spin = [0.63, 0.92, 0.02]\n",
    "sigma = [0.71, 0.88, 0.65]\n",
    "\n",
    "calc_and_print_func(spin, sigma)"
   ]
  }
 ],
 "metadata": {
  "hide_input": false,
  "kernelspec": {
   "display_name": "Python 3 (ipykernel)",
   "language": "python",
   "name": "python3"
  },
  "language_info": {
   "codemirror_mode": {
    "name": "ipython",
    "version": 3
   },
   "file_extension": ".py",
   "mimetype": "text/x-python",
   "name": "python",
   "nbconvert_exporter": "python",
   "pygments_lexer": "ipython3",
   "version": "3.9.7"
  }
 },
 "nbformat": 4,
 "nbformat_minor": 5
}
