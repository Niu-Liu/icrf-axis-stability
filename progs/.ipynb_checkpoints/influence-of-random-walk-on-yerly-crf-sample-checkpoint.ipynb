{
 "cells": [
  {
   "cell_type": "code",
   "execution_count": 1,
   "id": "64881397",
   "metadata": {
    "ExecuteTime": {
     "end_time": "2021-09-20T14:06:37.459699Z",
     "start_time": "2021-09-20T14:06:36.033689Z"
    }
   },
   "outputs": [],
   "source": [
    "import random\n",
    "\n",
    "import matplotlib.pyplot as plt\n",
    "import numpy as np\n",
    "from astropy.table import Table, join\n",
    "import astropy.units as u\n",
    "\n",
    "# My progs\n",
    "from my_progs.vlbi.ts_func import get_ts\n",
    "from tool_func import calc_orient, random_walk\n",
    "from linear_fit import linfit2d\n",
    "from my_progs.catalog.read_icrf import read_icrf3\n",
    "from my_progs.stat_func.rms_calc import rms_calc\n",
    "from my_progs.catalog.pos_diff import radio_cat_diff_calc\n",
    "\n",
    "np.random.seed(28)"
   ]
  },
  {
   "cell_type": "code",
   "execution_count": 2,
   "id": "c37e3d26",
   "metadata": {
    "ExecuteTime": {
     "end_time": "2021-09-20T14:06:37.464157Z",
     "start_time": "2021-09-20T14:06:37.461523Z"
    }
   },
   "outputs": [],
   "source": [
    "ts_dir = \"/Users/Neo/Astronomy/data/vlbi/nju/series-10step\"\n",
    "sou_list_file = \"{}/sou_list_4_ts.txt\".format(ts_dir)\n",
    "mean_pos_file = \"../data/yearly-mean-position-from-ts-nju-10step-rw.txt\"\n",
    "crf_dir = \"../data/yearly-ts-nju-10step-rw\""
   ]
  },
  {
   "cell_type": "code",
   "execution_count": 3,
   "id": "210e13ce",
   "metadata": {
    "ExecuteTime": {
     "end_time": "2021-09-20T14:06:37.648787Z",
     "start_time": "2021-09-20T14:06:37.466935Z"
    }
   },
   "outputs": [],
   "source": [
    "# Source list\n",
    "sou_list = Table.read(sou_list_file , format=\"ascii\")\n",
    "icrf3_def = Table.read(\"../data/icrf3sx-def-sou.txt\", format=\"ascii\")\n",
    "sou_list = join(sou_list, icrf3_def)"
   ]
  },
  {
   "cell_type": "code",
   "execution_count": 4,
   "id": "d6094966",
   "metadata": {
    "ExecuteTime": {
     "end_time": "2021-09-20T14:06:37.653790Z",
     "start_time": "2021-09-20T14:06:37.650318Z"
    }
   },
   "outputs": [],
   "source": [
    "# sample_size = 1\n",
    "# sou_rw = random.choices(icrf3_def[\"iers_name\"], k=sample_size)[0]\n",
    "sou_rw = \"0552+398\""
   ]
  },
  {
   "cell_type": "code",
   "execution_count": 5,
   "id": "98b43236",
   "metadata": {
    "ExecuteTime": {
     "end_time": "2021-09-20T14:06:37.659300Z",
     "start_time": "2021-09-20T14:06:37.655858Z"
    }
   },
   "outputs": [],
   "source": [
    "def calc_wmean(x, err):\n",
    "    \"\"\"Calculate the weighted mean.\n",
    "    \"\"\"\n",
    "\n",
    "    if len(x) == 1:\n",
    "        wmean,  wmerr = x[0], err[0]\n",
    "    else:\n",
    "        wmean = np.dot(x, err**-2) / np.sum(err**-2)\n",
    "        wmerr = np.sum(1/err) / np.sum(err**-2)\n",
    "\n",
    "    return wmean, wmerr"
   ]
  },
  {
   "cell_type": "code",
   "execution_count": null,
   "id": "47594a71",
   "metadata": {
    "ExecuteTime": {
     "start_time": "2021-09-20T14:06:36.029Z"
    }
   },
   "outputs": [],
   "source": [
    "# Output\n",
    "f_out = open(mean_pos_file, \"w\")\n",
    "\n",
    "print(\"iers_name, year, num_ses, ra, ra_err, dec, dec_err, ra_dec_corr\", file=f_out)\n",
    "\n",
    "N = len(sou_list)\n",
    "i = 0\n",
    "\n",
    "# Annually average the source positions\n",
    "for soui in sou_list[\"iers_name\"]:\n",
    "\n",
    "#     print(\"Processing source {:s} [{:4d}/{:4d}]\".format(soui, i+1, N))\n",
    "\n",
    "    coordts = get_ts(soui, ts_dir)\n",
    "\n",
    "    if soui == sou_rw:\n",
    "        # Add random walk process to the coordinate time series for this source\n",
    "        dra_rw, ddec_rw = random_walk(coordts[\"jyear\"], t_scale=5, sigma_var=2)\n",
    "\n",
    "        # Mas -> deg\n",
    "        coordts[\"ra\"] = coordts[\"ra\"] + dra_rw / 3.6e6\n",
    "        coordts[\"dec\"] = coordts[\"dec\"] + ddec_rw / 3.6e6\n",
    "\n",
    "    # Caculate the annual mean position\n",
    "    for year in range(1979, 2021):\n",
    "        coordts2 = coordts[((coordts[\"jyear\"] >= year) & (coordts[\"jyear\"] < year+1))]\n",
    "\n",
    "        if len(coordts2) >= 1:\n",
    "            ra0, ra0_err = calc_wmean(coordts2[\"ra\"], coordts2[\"ra_err\"])\n",
    "            dc0, dc0_err = calc_wmean(coordts2[\"dec\"], coordts2[\"dec_err\"])\n",
    "            ra_dec_cor = np.median(coordts2[\"ra_dec_corr\"])\n",
    "\n",
    "            print(\"{:8s}, {:.0f}, {:3d}, \"\n",
    "                  \"{:15.10f}, {:6.3f}, {:+15.10f}, {:6.3f}, {:6.3f}\".format(\n",
    "                      soui, year, len(coordts2),\n",
    "                      ra0, ra0_err, dc0, dc0_err, ra_dec_cor), file=f_out)\n",
    "    i += 1\n",
    "\n",
    "f_out.close()"
   ]
  },
  {
   "cell_type": "code",
   "execution_count": null,
   "id": "ea182501",
   "metadata": {
    "ExecuteTime": {
     "start_time": "2021-09-20T14:06:36.030Z"
    }
   },
   "outputs": [],
   "source": [
    "# Generate yearly CRF\n",
    "pos_tab = Table.read(mean_pos_file, format=\"ascii\")\n",
    "for year in np.arange(1979, 2021):\n",
    "    mask = (pos_tab[\"year\"] == year)\n",
    "    sub_tab = pos_tab[mask]\n",
    "\n",
    "    if len(sub_tab):\n",
    "        sub_tab.write(\"{:s}/{:d}.dat\".format(crf_dir, year),\n",
    "                      format=\"ascii.csv\", overwrite=True)"
   ]
  },
  {
   "cell_type": "code",
   "execution_count": null,
   "id": "06249b63",
   "metadata": {
    "ExecuteTime": {
     "start_time": "2021-09-20T14:06:36.031Z"
    }
   },
   "outputs": [],
   "source": [
    "icrf3sx = read_icrf3(wv=\"sx\")\n",
    "\n",
    "icrf3def = icrf3sx[icrf3sx[\"type\"] == \"D\"]"
   ]
  },
  {
   "cell_type": "code",
   "execution_count": null,
   "id": "bdfc0e87",
   "metadata": {
    "ExecuteTime": {
     "start_time": "2021-09-20T14:06:36.033Z"
    }
   },
   "outputs": [],
   "source": [
    "years = np.concatenate(([1984], np.arange(1986, 2021)))\n",
    "# years = np.concatenate((np.arange(1979, 2021)))\n",
    "num = len(years)\n"
   ]
  },
  {
   "cell_type": "code",
   "execution_count": null,
   "id": "2f1d19b2",
   "metadata": {
    "ExecuteTime": {
     "start_time": "2021-09-20T14:06:36.034Z"
    }
   },
   "outputs": [],
   "source": [
    "N0_d = np.zeros_like(years)\n",
    "N1_d = np.zeros_like(years)\n",
    "pmt_d = np.empty((num, 8), dtype=float)\n",
    "err_d = np.empty((num, 8), dtype=float)"
   ]
  },
  {
   "cell_type": "code",
   "execution_count": null,
   "id": "9553036a",
   "metadata": {
    "ExecuteTime": {
     "start_time": "2021-09-20T14:06:36.035Z"
    }
   },
   "outputs": [],
   "source": [
    "for i, year in enumerate(years):\n",
    "    \n",
    "#     print(\"\\nProcessing time series within {:d}-{:d}\".format(year, year+1))\n",
    "    \n",
    "    ts_sou = Table.read(\"{}/{:d}.dat\".format(crf_dir, year), format=\"ascii\")\n",
    "    \n",
    "    \n",
    "    # Add unit information\n",
    "    ts_sou[\"ra\"].unit = u.deg\n",
    "    ts_sou[\"dec\"].unit = u.deg\n",
    "    ts_sou[\"ra_err\"].unit = u.mas\n",
    "    ts_sou[\"dec_err\"].unit = u.mas\n",
    "    \n",
    "    # ICRF3 defining sources\n",
    "    pos_oft = radio_cat_diff_calc(ts_sou, icrf3def, sou_name=\"iers_name\")\n",
    "    N0_d[i], N1_d[i], pmt_d[i], err_d[i] = calc_orient(pos_oft)"
   ]
  },
  {
   "cell_type": "code",
   "execution_count": null,
   "id": "1b610187",
   "metadata": {
    "ExecuteTime": {
     "start_time": "2021-09-20T14:06:36.036Z"
    }
   },
   "outputs": [],
   "source": [
    "fig, ax = plt.subplots(figsize=(8, 6))\n",
    "\n",
    "ax.hlines(200, 1979, 2025, ls=\"dashed\", color=\"b\", lw=0.5)\n",
    "ax.hlines(0, 1979, 2025, ls=\"dashed\", color=\"k\", lw=0.5)\n",
    "ax.hlines(-200, 1979, 2025, ls=\"dashed\", color=\"r\", lw=0.5)\n",
    "\n",
    "ax.errorbar(years,\n",
    "            pmt_d[:, 3] + 200,\n",
    "            yerr=err_d[:, 3],\n",
    "            color=\"blue\",\n",
    "            ms=3,\n",
    "            fmt=\"-s\",\n",
    "            elinewidth=0.5,\n",
    "            lw=0.2,\n",
    "            label=\"$g_x+0.2$ mas\",\n",
    "            capsize=1)\n",
    "ax.errorbar(years,\n",
    "            pmt_d[:, 4],\n",
    "            yerr=err_d[:, 4],\n",
    "            color=\"black\",\n",
    "            ms=3,\n",
    "            fmt=\"-o\",\n",
    "            elinewidth=0.5,\n",
    "            lw=0.2,\n",
    "            label=\"$g_y$\",\n",
    "            capsize=1)\n",
    "ax.errorbar(years,\n",
    "            pmt_d[:, 5] - 200,\n",
    "            yerr=err_d[:, 5],\n",
    "            color=\"red\",\n",
    "            ms=3,\n",
    "            fmt=\"-^\",\n",
    "            elinewidth=0.5,\n",
    "            lw=0.2,\n",
    "            label=\"$g_x-0.2$ mas\",\n",
    "            capsize=1)\n",
    "\n",
    "ax.set_xlabel(\"Epoch (year)\", fontsize=12)\n",
    "ax.set_ylabel(\"Glide ($\\mathrm{\\mu as}$)\", fontsize=12)\n",
    "\n",
    "ax.axis([1983, 2022, -400, 400])\n",
    "# plt.title(\"Glide from 10-step solution\", fontsize=15)\n",
    "ax.legend()\n",
    "# plt.savefig(\"../plots/glide-from-yearly-ts-nju-rw.eps\")"
   ]
  },
  {
   "cell_type": "code",
   "execution_count": null,
   "id": "a0bb304c",
   "metadata": {
    "ExecuteTime": {
     "start_time": "2021-09-20T14:06:36.037Z"
    }
   },
   "outputs": [],
   "source": [
    "fig, ax = plt.subplots(figsize=(8, 6))\n",
    "\n",
    "ax.hlines(200, 1979, 2021, ls=\"dashed\", color=\"b\", lw=0.5)\n",
    "ax.hlines(0, 1979, 2021, ls=\"dashed\", color=\"k\", lw=0.5)\n",
    "ax.hlines(-200, 1979, 2021, ls=\"dashed\", color=\"r\", lw=0.5)\n",
    "\n",
    "ax.errorbar(years,\n",
    "            pmt_d[:, 0] + 200,\n",
    "            yerr=err_d[:, 0],\n",
    "            color=\"blue\",\n",
    "            ms=3,\n",
    "            fmt=\"-s\",\n",
    "            elinewidth=0.5,\n",
    "            lw=0.2,\n",
    "            label=\"$\\\\epsilon_x+0.2$ mas\",\n",
    "            capsize=1)\n",
    "ax.errorbar(years,\n",
    "            pmt_d[:, 1],\n",
    "            yerr=err_d[:, 1],\n",
    "            color=\"black\",\n",
    "            ms=3,\n",
    "            fmt=\"-o\",\n",
    "            elinewidth=0.5,\n",
    "            lw=0.2,\n",
    "            label=\"$\\\\epsilon_y$\",\n",
    "            capsize=1)\n",
    "ax.errorbar(years,\n",
    "            pmt_d[:, 2] - 200,\n",
    "            yerr=err_d[:, 2],\n",
    "            color=\"red\",\n",
    "            ms=3,\n",
    "            fmt=\"-^\",\n",
    "            elinewidth=0.5,\n",
    "            lw=0.2,\n",
    "            label=\"$\\\\epsilon_z-0.2$ mas\",\n",
    "            capsize=1)\n",
    "\n",
    "ax.axis([1982, 2021, -400, 400])\n",
    "ax.set_xlabel(\"Epoch (year)\", fontsize=12)\n",
    "ax.set_ylabel(\"Orientation angle ($\\mathrm{\\mu as}$)\", fontsize=12)\n",
    "ax.legend()\n",
    "\n",
    "plt.tight_layout()\n",
    "plt.savefig(\"../plots/orient-from-yearly-ts-nju-rw.eps\")"
   ]
  },
  {
   "cell_type": "code",
   "execution_count": null,
   "id": "aab32048",
   "metadata": {
    "ExecuteTime": {
     "start_time": "2021-09-20T14:06:36.038Z"
    }
   },
   "outputs": [],
   "source": [
    "wx = pmt_d[:, 3]\n",
    "wy = pmt_d[:, 4]\n",
    "wz = pmt_d[:, 5]\n",
    "\n",
    "wx_err = err_d[:, 3]\n",
    "wy_err = err_d[:, 4]\n",
    "wz_err = err_d[:, 5]"
   ]
  },
  {
   "cell_type": "code",
   "execution_count": null,
   "id": "f0cddd91",
   "metadata": {
    "ExecuteTime": {
     "start_time": "2021-09-20T14:06:36.039Z"
    }
   },
   "outputs": [],
   "source": [
    "wmean1, wrms1, wstd1 = rms_calc(wx)\n",
    "wmean2, wrms2, wstd2 = rms_calc(wy)\n",
    "wmean3, wrms3, wstd3 = rms_calc(wz)\n",
    "\n",
    "print(\"Rotation statistics (No weighted)\")\n",
    "print(\"    Mean   RMS  Std\")\n",
    "print(\"    uas    uas  uas\")\n",
    "print(\"R1  {:+4.0f}  {:4.0f}  {:.0f}\".format(wmean1, wrms1, wstd1))\n",
    "print(\"R2  {:+4.0f}  {:4.0f}  {:.0f}\".format(wmean2, wrms2, wstd2))\n",
    "print(\"R3  {:+4.0f}  {:4.0f}  {:.0f}\".format(wmean3, wrms3, wstd3))\n",
    "\n",
    "\n",
    "wmean1, wrms1, wstd1 = rms_calc(wx, wx_err)\n",
    "wmean2, wrms2, wstd2 = rms_calc(wy, wy_err)\n",
    "wmean3, wrms3, wstd3 = rms_calc(wz, wz_err)\n",
    "\n",
    "print(\"\\nRotation statistics (Weighted)\")\n",
    "print(\"    Mean  WRMS Std\")\n",
    "print(\"    uas   uas  uas\")\n",
    "print(\"R1  {:+4.0f}  {:.0f}  {:.0f}\".format(wmean1, wrms1, wstd1))\n",
    "print(\"R2  {:+4.0f}  {:.0f}  {:.0f}\".format(wmean2, wrms2, wstd2))\n",
    "print(\"R3  {:+4.0f}  {:.0f}  {:.0f}\".format(wmean3, wrms3, wstd3))"
   ]
  },
  {
   "cell_type": "code",
   "execution_count": null,
   "id": "b1d68460",
   "metadata": {
    "ExecuteTime": {
     "start_time": "2021-09-20T14:06:36.040Z"
    }
   },
   "outputs": [],
   "source": [
    "year_start = 1995\n",
    "mask = (years >= year_start)"
   ]
  },
  {
   "cell_type": "code",
   "execution_count": null,
   "id": "7294cbcc",
   "metadata": {
    "ExecuteTime": {
     "start_time": "2021-09-20T14:06:36.041Z"
    }
   },
   "outputs": [],
   "source": [
    "wmean1, wrms1, wstd1 = rms_calc(wx[mask])\n",
    "wmean2, wrms2, wstd2 = rms_calc(wy[mask])\n",
    "wmean3, wrms3, wstd3 = rms_calc(wz[mask])\n",
    "\n",
    "print(\"Rotation statistics (No weighted, Remove data < {:d})\".format(year_start))\n",
    "print(\"    Mean   RMS  Std\")\n",
    "print(\"    uas    uas  uas\")\n",
    "print(\"R1  {:+4.0f}  {:4.0f}  {:.0f}\".format(wmean1, wrms1, wstd1))\n",
    "print(\"R2  {:+4.0f}  {:4.0f}  {:.0f}\".format(wmean2, wrms2, wstd2))\n",
    "print(\"R3  {:+4.0f}  {:4.0f}  {:.0f}\".format(wmean3, wrms3, wstd3))\n",
    "\n",
    "wmean1, wrms1, wstd1 = rms_calc(wx[mask], wx_err[mask])\n",
    "wmean2, wrms2, wstd2 = rms_calc(wy[mask], wy_err[mask])\n",
    "wmean3, wrms3, wstd3 = rms_calc(wz[mask], wz_err[mask])\n",
    "\n",
    "print(\"Rotation statistics (Weighted, Remove data < {:d})\".format(year_start))\n",
    "print(\"    Mean  WRMS Std\")\n",
    "print(\"    uas   uas  uas\")\n",
    "print(\"R1  {:+4.0f}  {:.0f}  {:.0f}\".format(wmean1, wrms1, wstd1))\n",
    "print(\"R2  {:+4.0f}  {:.0f}  {:.0f}\".format(wmean2, wrms2, wstd2))\n",
    "print(\"R3  {:+4.0f}  {:.0f}  {:.0f}\".format(wmean3, wrms3, wstd3))"
   ]
  }
 ],
 "metadata": {
  "hide_input": false,
  "kernelspec": {
   "display_name": "Python 3 (ipykernel)",
   "language": "python",
   "name": "python3"
  },
  "language_info": {
   "codemirror_mode": {
    "name": "ipython",
    "version": 3
   },
   "file_extension": ".py",
   "mimetype": "text/x-python",
   "name": "python",
   "nbconvert_exporter": "python",
   "pygments_lexer": "ipython3",
   "version": "3.9.7"
  }
 },
 "nbformat": 4,
 "nbformat_minor": 5
}
