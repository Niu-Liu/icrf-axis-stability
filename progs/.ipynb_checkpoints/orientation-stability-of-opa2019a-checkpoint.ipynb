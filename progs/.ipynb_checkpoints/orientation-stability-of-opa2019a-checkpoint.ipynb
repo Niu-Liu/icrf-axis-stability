{
 "cells": [
  {
   "cell_type": "code",
   "execution_count": 1,
   "metadata": {
    "ExecuteTime": {
     "end_time": "2021-04-26T09:24:19.834695Z",
     "start_time": "2021-04-26T09:24:18.898757Z"
    }
   },
   "outputs": [],
   "source": [
    "import numpy as np\n",
    "\n",
    "# My progs\n",
    "from my_progs.vlbi.sou_func import read_crf\n",
    "from my_progs.catalog.read_icrf import read_icrf3\n",
    "from my_progs.catalog.pos_diff import radio_cat_diff_calc"
   ]
  },
  {
   "cell_type": "code",
   "execution_count": 2,
   "metadata": {
    "ExecuteTime": {
     "end_time": "2021-04-26T09:24:21.051015Z",
     "start_time": "2021-04-26T09:24:19.838131Z"
    }
   },
   "outputs": [],
   "source": [
    "icrf3sx = read_icrf3(wv=\"sx\")"
   ]
  },
  {
   "cell_type": "code",
   "execution_count": 3,
   "metadata": {
    "ExecuteTime": {
     "end_time": "2021-04-26T09:24:22.414422Z",
     "start_time": "2021-04-26T09:24:21.053394Z"
    }
   },
   "outputs": [
    {
     "name": "stdout",
     "output_type": "stream",
     "text": [
      "There are 4468 sources in the original catalog, 2 (0%) sources with #obs < 3 dropped, leaving 4466 sources in the present catalog.\n",
      "Common sources: 4380\n",
      "The sample size of 66.7% of the common source is 2920.\n"
     ]
    }
   ],
   "source": [
    "opa2019a = read_crf(\"../data/ivs-solutions/opa2019a.crf\", drop_few_obs=True, analy_cen=\"opa\")\n",
    "\n",
    "pos_oft = radio_cat_diff_calc(opa2019a, icrf3sx, sou_name=\"iers_name\")\n",
    "print(\"Common sources:\", len(pos_oft))\n",
    "print(\"The sample size of 66.7%% of the common source is %.0f.\" % (len(pos_oft)* 2 / 3))"
   ]
  },
  {
   "cell_type": "code",
   "execution_count": 4,
   "metadata": {
    "ExecuteTime": {
     "end_time": "2021-04-26T09:24:23.692917Z",
     "start_time": "2021-04-26T09:24:22.416441Z"
    }
   },
   "outputs": [
    {
     "name": "stdout",
     "output_type": "stream",
     "text": [
      "There are 4447 sources in the original catalog, 0 (0%) sources with #obs < 3 dropped, leaving 4447 sources in the present catalog.\n",
      "Common sources: 4296\n",
      "The sample size of 66.7% of the common source is 2864.\n"
     ]
    }
   ],
   "source": [
    "opa2019a = read_crf(\"../data/ivs-solutions/asi2020a.crf\", drop_few_obs=True, analy_cen=\"asi\")\n",
    "\n",
    "pos_oft = radio_cat_diff_calc(opa2019a, icrf3sx, sou_name=\"iers_name\")\n",
    "print(\"Common sources:\", len(pos_oft))\n",
    "print(\"The sample size of 66.7%% of the common source is %.0f.\" % (len(pos_oft) * 2 / 3))"
   ]
  },
  {
   "cell_type": "code",
   "execution_count": 5,
   "metadata": {
    "ExecuteTime": {
     "end_time": "2021-04-26T09:24:25.160441Z",
     "start_time": "2021-04-26T09:24:23.694943Z"
    }
   },
   "outputs": [
    {
     "name": "stdout",
     "output_type": "stream",
     "text": [
      "There are 4817 sources in the original catalog, 0 (0%) sources with #obs < 3 dropped, leaving 4817 sources in the present catalog.\n",
      "Common sources: 4456\n",
      "The sample size of 66.7% of the common source is 2971.\n"
     ]
    }
   ],
   "source": [
    "opa2019a = read_crf(\"../data/ivs-solutions/aus2020b.crf\", drop_few_obs=True, analy_cen=\"aus\")\n",
    "\n",
    "pos_oft = radio_cat_diff_calc(opa2019a, icrf3sx, sou_name=\"iers_name\")\n",
    "print(\"Common sources:\", len(pos_oft))\n",
    "print(\"The sample size of 66.7%% of the common source is %.0f.\" % (len(pos_oft) * 2 / 3))"
   ]
  },
  {
   "cell_type": "code",
   "execution_count": 7,
   "metadata": {
    "ExecuteTime": {
     "end_time": "2021-04-26T09:24:43.992835Z",
     "start_time": "2021-04-26T09:24:43.285684Z"
    }
   },
   "outputs": [
    {
     "name": "stdout",
     "output_type": "stream",
     "text": [
      "There are 2390 sources in the original catalog, 0 (0%) sources with #obs < 3 dropped, leaving 2390 sources in the present catalog.\n",
      "Common sources: 2263\n",
      "The sample size of 66.7% of the common source is 1509.\n"
     ]
    }
   ],
   "source": [
    "opa2019a = read_crf(\"../data/ivs-solutions/usn2019c.crf\", drop_few_obs=True, analy_cen=\"usn\")\n",
    "\n",
    "pos_oft = radio_cat_diff_calc(opa2019a, icrf3sx, sou_name=\"iers_name\")\n",
    "print(\"Common sources:\", len(pos_oft))\n",
    "print(\"The sample size of 66.7%% of the common source is %.0f.\" % (len(pos_oft) * 2 / 3))"
   ]
  },
  {
   "cell_type": "code",
   "execution_count": 8,
   "metadata": {
    "ExecuteTime": {
     "end_time": "2021-04-26T09:45:08.500205Z",
     "start_time": "2021-04-26T09:45:08.205082Z"
    }
   },
   "outputs": [],
   "source": [
    "from my_progs.catalog.read_gaia import read_edr3_icrf_sou"
   ]
  },
  {
   "cell_type": "code",
   "execution_count": 11,
   "metadata": {
    "ExecuteTime": {
     "end_time": "2021-04-26T09:45:35.230281Z",
     "start_time": "2021-04-26T09:45:34.879431Z"
    }
   },
   "outputs": [
    {
     "name": "stdout",
     "output_type": "stream",
     "text": [
      "Common sources: 3142\n",
      "The sample size of 66.7% of the common source is 2095.\n"
     ]
    }
   ],
   "source": [
    "opa2019a =  read_edr3_icrf_sou()\n",
    "\n",
    "pos_oft = radio_cat_diff_calc(opa2019a, icrf3sx, sou_name=\"iers_name\")\n",
    "print(\"Common sources:\", len(pos_oft))\n",
    "print(\"The sample size of 66.7%% of the common source is %.0f.\" % (len(pos_oft)* 2 / 3))"
   ]
  }
 ],
 "metadata": {
  "hide_input": false,
  "kernelspec": {
   "display_name": "Python 3",
   "language": "python",
   "name": "python3"
  },
  "language_info": {
   "codemirror_mode": {
    "name": "ipython",
    "version": 3
   },
   "file_extension": ".py",
   "mimetype": "text/x-python",
   "name": "python",
   "nbconvert_exporter": "python",
   "pygments_lexer": "ipython3",
   "version": "3.7.10"
  },
  "latex_envs": {
   "LaTeX_envs_menu_present": true,
   "autoclose": false,
   "autocomplete": true,
   "bibliofile": "biblio.bib",
   "cite_by": "apalike",
   "current_citInitial": 1,
   "eqLabelWithNumbers": true,
   "eqNumInitial": 1,
   "hotkeys": {
    "equation": "Ctrl-E",
    "itemize": "Ctrl-I"
   },
   "labels_anchors": false,
   "latex_user_defs": false,
   "report_style_numbering": false,
   "user_envs_cfg": false
  }
 },
 "nbformat": 4,
 "nbformat_minor": 4
}
