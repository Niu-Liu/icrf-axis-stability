{
 "cells": [
  {
   "cell_type": "markdown",
   "id": "2d1411fb",
   "metadata": {},
   "source": [
    "I compare the distribution of APM determined from solutions with different steps, to see if the number of steps used to generate the time series solution affects the distribution of APM."
   ]
  },
  {
   "cell_type": "code",
   "execution_count": 1,
   "id": "ff79509e",
   "metadata": {
    "ExecuteTime": {
     "end_time": "2021-09-18T10:05:43.209798Z",
     "start_time": "2021-09-18T10:05:41.188194Z"
    }
   },
   "outputs": [],
   "source": [
    "import matplotlib.pyplot as plt\n",
    "# from matplotlib.ticker import MultipleLocator\n",
    "import numpy as np\n",
    "import statsmodels.api as sm\n",
    "from astropy.time import Time\n",
    "from astropy.table import Table, join\n",
    "\n",
    "from statsmodels.iolib.table import (SimpleTable, default_txt_fmt)\n",
    "import seaborn as sns\n",
    "\n",
    "from my_progs.stat_func.rms_calc import rms_calc\n",
    "from my_progs.catalog.ga_func import glide_apex_calc"
   ]
  },
  {
   "cell_type": "code",
   "execution_count": null,
   "id": "66685b93",
   "metadata": {},
   "outputs": [],
   "source": []
  },
  {
   "cell_type": "code",
   "execution_count": 2,
   "id": "4f7029ff",
   "metadata": {
    "ExecuteTime": {
     "end_time": "2021-09-18T10:06:58.606661Z",
     "start_time": "2021-09-18T10:06:58.599148Z"
    }
   },
   "outputs": [],
   "source": [
    "def parse_apm_table(apm_tab, icrf3_def):\n",
    "    # Remove no\n",
    "    mask = apm_tab[\"num_cln\"] >= 5\n",
    "    apm_tab = apm_tab[mask]\n",
    "\n",
    "    # convert mas/yr into muas/yr\n",
    "    apm_tab[\"pmra\"] = apm_tab[\"pmra\"] * 1e3\n",
    "    apm_tab[\"pmra_err\"] = apm_tab[\"pmra_err\"] * 1e3\n",
    "    apm_tab[\"pmdec\"] = apm_tab[\"pmdec\"] * 1e3\n",
    "    apm_tab[\"pmdec_err\"] = apm_tab[\"pmdec_err\"] * 1e3\n",
    "    \n",
    "    apm_def = join(icrf3_def, apm_tab, keys=\"iers_name\")\n",
    "    \n",
    "    return apm_tab, apm_def"
   ]
  },
  {
   "cell_type": "code",
   "execution_count": 4,
   "id": "d9e72754",
   "metadata": {
    "ExecuteTime": {
     "end_time": "2021-09-18T10:08:14.956491Z",
     "start_time": "2021-09-18T10:08:14.928167Z"
    }
   },
   "outputs": [],
   "source": [
    "icrf3_def = Table.read(\"../data/icrf3sx-def-sou.txt\", format=\"ascii\")"
   ]
  },
  {
   "cell_type": "code",
   "execution_count": 3,
   "id": "3448b32f",
   "metadata": {
    "ExecuteTime": {
     "end_time": "2021-09-18T10:07:57.761758Z",
     "start_time": "2021-09-18T10:07:57.720094Z"
    }
   },
   "outputs": [],
   "source": [
    "apm_tab4 = Table.read(\"../data/ts_nju_pm_fit_3sigma.dat\", format=\"ascii.csv\")\n",
    "apm_tab8 = Table.read(\"../data/ts_nju_pm_fit_3sigma-8step.dat\", format=\"ascii.csv\")\n",
    "apm_tab10 = Table.read(\"../data/ts_nju_pm_fit_3sigma-10step.dat\", format=\"ascii.csv\")\n",
    "apm_tab20 = Table.read(\"../data/ts_nju_pm_fit_3sigma-20step.dat\", format=\"ascii.csv\")"
   ]
  },
  {
   "cell_type": "code",
   "execution_count": 5,
   "id": "b297281d",
   "metadata": {
    "ExecuteTime": {
     "end_time": "2021-09-18T10:08:56.032252Z",
     "start_time": "2021-09-18T10:08:55.995324Z"
    }
   },
   "outputs": [],
   "source": [
    "apm_tab4, apm_def4 = parse_apm_table(apm_tab4, icrf3_def)\n",
    "apm_tab8, apm_def8 = parse_apm_table(apm_tab8, icrf3_def)\n",
    "apm_tab10, apm_def10 = parse_apm_table(apm_tab10, icrf3_def)\n",
    "apm_tab20, apm_def20 = parse_apm_table(apm_tab20, icrf3_def)"
   ]
  },
  {
   "cell_type": "code",
   "execution_count": 8,
   "id": "8fc5b7cb",
   "metadata": {
    "ExecuteTime": {
     "end_time": "2021-09-18T10:11:07.363933Z",
     "start_time": "2021-09-18T10:11:07.359350Z"
    }
   },
   "outputs": [],
   "source": [
    "bin_array = np.arange(-100, 100, 5)"
   ]
  },
  {
   "cell_type": "code",
   "execution_count": 9,
   "id": "e39f407a",
   "metadata": {
    "ExecuteTime": {
     "end_time": "2021-09-18T10:11:09.615925Z",
     "start_time": "2021-09-18T10:11:09.070720Z"
    }
   },
   "outputs": [
    {
     "data": {
      "image/png": "[encoded data removed]",
      "text/plain": [
       "<Figure size 576x576 with 4 Axes>"
      ]
     },
     "metadata": {},
     "output_type": "display_data"
    }
   ],
   "source": [
    "fig, (ax0, ax1, ax2, ax3) = plt.subplots(figsize=(8,8), nrows=4, sharex=True, sharey=True)\n",
    "\n",
    "\n",
    "color = \"grey\"\n",
    "ax1.hist(apm_tab8[\"pmra\"],\n",
    "         bins=bin_array,\n",
    "         color=color,\n",
    "         fill=False,\n",
    "         label=\"All\")\n",
    "ax1.hist(apm_def8[\"pmra\"],\n",
    "         bins=bin_array,\n",
    "         color=color,\n",
    "         label=\"Defining\")\n",
    "\n",
    "ax3.set_xlabel(\"$\\\\mu_{\\\\alpha*}$ (mas/yr)\", fontsize=15)\n",
    "# ax.set_ylabel(\"Nb Sources in  bins\", color=color, fontsize=15)\n",
    "# ax.tick_params(axis=\"y\", labelcolor=color)\n",
    "# ax1.axis([-100, 100, 0, 180])\n",
    "# ax1.axis([-100, 100, 0, 400])\n",
    "# ax1.legend(loc=\"upper left\")\n",
    "\n",
    "plt.tight_layout()"
   ]
  }
 ],
 "metadata": {
  "hide_input": false,
  "kernelspec": {
   "display_name": "Python 3 (ipykernel)",
   "language": "python",
   "name": "python3"
  },
  "language_info": {
   "codemirror_mode": {
    "name": "ipython",
    "version": 3
   },
   "file_extension": ".py",
   "mimetype": "text/x-python",
   "name": "python",
   "nbconvert_exporter": "python",
   "pygments_lexer": "ipython3",
   "version": "3.9.7"
  }
 },
 "nbformat": 4,
 "nbformat_minor": 5
}
