{
 "cells": [
  {
   "cell_type": "code",
   "execution_count": 2,
   "metadata": {
    "ExecuteTime": {
     "end_time": "2021-06-02T12:50:07.934486Z",
     "start_time": "2021-06-02T12:50:06.542255Z"
    }
   },
   "outputs": [
    {
     "ename": "ImportError",
     "evalue": "cannot import name 'get_data_dir' from 'my_progs.vlbi.get_dir' (/Users/Neo/.ipython/my_progs/vlbi/get_dir.py)",
     "output_type": "error",
     "traceback": [
      "\u001b[0;31m---------------------------------------------------------------------------\u001b[0m",
      "\u001b[0;31mImportError\u001b[0m                               Traceback (most recent call last)",
      "\u001b[0;32m<ipython-input-2-f6412d33eac7>\u001b[0m in \u001b[0;36m<module>\u001b[0;34m\u001b[0m\n\u001b[1;32m      1\u001b[0m \u001b[0;32mfrom\u001b[0m \u001b[0mmy_progs\u001b[0m\u001b[0;34m.\u001b[0m\u001b[0mvlbi\u001b[0m\u001b[0;34m.\u001b[0m\u001b[0mread_eop\u001b[0m \u001b[0;32mimport\u001b[0m \u001b[0mread_eob\u001b[0m\u001b[0;34m\u001b[0m\u001b[0;34m\u001b[0m\u001b[0m\n\u001b[0;32m----> 2\u001b[0;31m \u001b[0;32mfrom\u001b[0m \u001b[0mmy_progs\u001b[0m\u001b[0;34m.\u001b[0m\u001b[0mvlbi\u001b[0m\u001b[0;34m.\u001b[0m\u001b[0mcheck_eob_wrt_c04\u001b[0m \u001b[0;32mimport\u001b[0m \u001b[0mcalc_c04_offset\u001b[0m\u001b[0;34m\u001b[0m\u001b[0;34m\u001b[0m\u001b[0m\n\u001b[0m",
      "\u001b[0;32m~/.ipython/my_progs/vlbi/check_eob_wrt_c04.py\u001b[0m in \u001b[0;36m<module>\u001b[0;34m\u001b[0m\n\u001b[1;32m     33\u001b[0m \u001b[0;31m# from my_progs.stat_func.rms_calc import rms_calc\u001b[0m\u001b[0;34m\u001b[0m\u001b[0;34m\u001b[0m\u001b[0;34m\u001b[0m\u001b[0m\n\u001b[1;32m     34\u001b[0m \u001b[0;32mfrom\u001b[0m \u001b[0;34m.\u001b[0m\u001b[0;34m.\u001b[0m\u001b[0mstat_func\u001b[0m\u001b[0;34m.\u001b[0m\u001b[0mrms_calc\u001b[0m \u001b[0;32mimport\u001b[0m \u001b[0mrms_calc\u001b[0m\u001b[0;34m\u001b[0m\u001b[0;34m\u001b[0m\u001b[0m\n\u001b[0;32m---> 35\u001b[0;31m \u001b[0;32mfrom\u001b[0m \u001b[0;34m.\u001b[0m\u001b[0mget_dir\u001b[0m \u001b[0;32mimport\u001b[0m \u001b[0mget_data_dir\u001b[0m\u001b[0;34m\u001b[0m\u001b[0;34m\u001b[0m\u001b[0m\n\u001b[0m\u001b[1;32m     36\u001b[0m \u001b[0;32mfrom\u001b[0m \u001b[0;34m.\u001b[0m\u001b[0mdelta_tai_utc\u001b[0m \u001b[0;32mimport\u001b[0m \u001b[0mdelta_tai_utc_calc\u001b[0m\u001b[0;34m\u001b[0m\u001b[0;34m\u001b[0m\u001b[0m\n\u001b[1;32m     37\u001b[0m \u001b[0;34m\u001b[0m\u001b[0m\n",
      "\u001b[0;31mImportError\u001b[0m: cannot import name 'get_data_dir' from 'my_progs.vlbi.get_dir' (/Users/Neo/.ipython/my_progs/vlbi/get_dir.py)"
     ]
    }
   ],
   "source": [
    "from my_progs.vlbi.read_eop import read_eob\n",
    "from my_progs.vlbi.check_eob_wrt_c04 import calc_c04_offset"
   ]
  },
  {
   "cell_type": "code",
   "execution_count": 1,
   "metadata": {
    "ExecuteTime": {
     "end_time": "2021-06-02T12:50:04.430238Z",
     "start_time": "2021-06-02T12:50:04.337664Z"
    }
   },
   "outputs": [
    {
     "ename": "NameError",
     "evalue": "name 'read_eob' is not defined",
     "output_type": "error",
     "traceback": [
      "\u001b[0;31m---------------------------------------------------------------------------\u001b[0m",
      "\u001b[0;31mNameError\u001b[0m                                 Traceback (most recent call last)",
      "\u001b[0;32m<ipython-input-1-40482d31eab2>\u001b[0m in \u001b[0;36m<module>\u001b[0;34m\u001b[0m\n\u001b[0;32m----> 1\u001b[0;31m \u001b[0meob_ts\u001b[0m \u001b[0;34m=\u001b[0m \u001b[0mread_eob\u001b[0m\u001b[0;34m(\u001b[0m\u001b[0;34m\"../data/nju2021a.eob\"\u001b[0m\u001b[0;34m)\u001b[0m\u001b[0;34m\u001b[0m\u001b[0;34m\u001b[0m\u001b[0m\n\u001b[0m",
      "\u001b[0;31mNameError\u001b[0m: name 'read_eob' is not defined"
     ]
    }
   ],
   "source": [
    "eob_ts = read_eob(\"../data/nju2021a.eob\")"
   ]
  },
  {
   "cell_type": "code",
   "execution_count": 3,
   "metadata": {
    "ExecuteTime": {
     "end_time": "2021-03-10T12:44:37.985415Z",
     "start_time": "2021-03-10T12:44:37.624436Z"
    },
    "hideCode": true
   },
   "outputs": [
    {
     "ename": "UFuncTypeError",
     "evalue": "ufunc 'subtract' did not contain a loop with signature matching types (dtype('<U32'), dtype('<U32')) -> dtype('<U32')",
     "output_type": "error",
     "traceback": [
      "\u001b[0;31m---------------------------------------------------------------------------\u001b[0m",
      "\u001b[0;31mUFuncTypeError\u001b[0m                            Traceback (most recent call last)",
      "\u001b[0;32m<ipython-input-3-7c3997ba47bf>\u001b[0m in \u001b[0;36m<module>\u001b[0;34m\u001b[0m\n\u001b[0;32m----> 1\u001b[0;31m \u001b[0meob_c04\u001b[0m \u001b[0;34m=\u001b[0m \u001b[0mcalc_c04_offset\u001b[0m\u001b[0;34m(\u001b[0m\u001b[0meob_ts\u001b[0m\u001b[0;34m)\u001b[0m\u001b[0;34m\u001b[0m\u001b[0;34m\u001b[0m\u001b[0m\n\u001b[0m",
      "\u001b[0;32m~/.ipython/my_progs/vlbi/check_eob_wrt_c04.py\u001b[0m in \u001b[0;36mcalc_c04_offset\u001b[0;34m(t_eob, aprfile, oftfile)\u001b[0m\n\u001b[1;32m    475\u001b[0m     \u001b[0mt_eob_oft\u001b[0m \u001b[0;34m=\u001b[0m \u001b[0mjoin\u001b[0m\u001b[0;34m(\u001b[0m\u001b[0mt_eob\u001b[0m\u001b[0;34m,\u001b[0m \u001b[0mt_c04_apr\u001b[0m\u001b[0;34m,\u001b[0m \u001b[0mkeys\u001b[0m\u001b[0;34m=\u001b[0m\u001b[0;34m\"db_name\"\u001b[0m\u001b[0;34m)\u001b[0m\u001b[0;34m\u001b[0m\u001b[0;34m\u001b[0m\u001b[0m\n\u001b[1;32m    476\u001b[0m \u001b[0;34m\u001b[0m\u001b[0m\n\u001b[0;32m--> 477\u001b[0;31m     \u001b[0mdxp\u001b[0m \u001b[0;34m=\u001b[0m \u001b[0mt_eob_oft\u001b[0m\u001b[0;34m[\u001b[0m\u001b[0;34m\"xp\"\u001b[0m\u001b[0;34m]\u001b[0m \u001b[0;34m-\u001b[0m \u001b[0mt_eob_oft\u001b[0m\u001b[0;34m[\u001b[0m\u001b[0;34m\"xp_c04_apr\"\u001b[0m\u001b[0;34m]\u001b[0m\u001b[0;34m\u001b[0m\u001b[0;34m\u001b[0m\u001b[0m\n\u001b[0m\u001b[1;32m    478\u001b[0m     \u001b[0mdyp\u001b[0m \u001b[0;34m=\u001b[0m \u001b[0mt_eob_oft\u001b[0m\u001b[0;34m[\u001b[0m\u001b[0;34m\"yp\"\u001b[0m\u001b[0;34m]\u001b[0m \u001b[0;34m-\u001b[0m \u001b[0mt_eob_oft\u001b[0m\u001b[0;34m[\u001b[0m\u001b[0;34m\"yp_c04_apr\"\u001b[0m\u001b[0;34m]\u001b[0m\u001b[0;34m\u001b[0m\u001b[0;34m\u001b[0m\u001b[0m\n\u001b[1;32m    479\u001b[0m     \u001b[0mdut\u001b[0m \u001b[0;34m=\u001b[0m \u001b[0mt_eob_oft\u001b[0m\u001b[0;34m[\u001b[0m\u001b[0;34m\"ut1_tai\"\u001b[0m\u001b[0;34m]\u001b[0m \u001b[0;34m-\u001b[0m \u001b[0mt_eob_oft\u001b[0m\u001b[0;34m[\u001b[0m\u001b[0;34m\"ut1_tai_c04_apr\"\u001b[0m\u001b[0;34m]\u001b[0m\u001b[0;34m\u001b[0m\u001b[0;34m\u001b[0m\u001b[0m\n",
      "\u001b[0;31mUFuncTypeError\u001b[0m: ufunc 'subtract' did not contain a loop with signature matching types (dtype('<U32'), dtype('<U32')) -> dtype('<U32')"
     ]
    }
   ],
   "source": [
    "eob_c04 = calc_c04_offset(eob_ts)"
   ]
  },
  {
   "cell_type": "code",
   "execution_count": null,
   "metadata": {
    "ExecuteTime": {
     "end_time": "2021-03-10T12:44:37.987182Z",
     "start_time": "2021-03-10T12:44:35.909Z"
    }
   },
   "outputs": [],
   "source": [
    "from my_progs.vlbi.check_eob_wrt_c04 import c04_pm_offset_plot\n",
    "\n",
    "c04_pm_offset_plot(eob_c04)"
   ]
  },
  {
   "cell_type": "code",
   "execution_count": null,
   "metadata": {
    "ExecuteTime": {
     "end_time": "2021-03-10T12:44:37.988353Z",
     "start_time": "2021-03-10T12:44:35.912Z"
    }
   },
   "outputs": [],
   "source": [
    "from my_progs.vlbi.check_eob_wrt_c04 import c04_ut1_offset_plot\n",
    "\n",
    "c04_ut1_offset_plot(eob_c04)"
   ]
  },
  {
   "cell_type": "code",
   "execution_count": null,
   "metadata": {
    "ExecuteTime": {
     "end_time": "2021-03-10T12:44:37.989373Z",
     "start_time": "2021-03-10T12:44:35.914Z"
    }
   },
   "outputs": [],
   "source": [
    "from my_progs.vlbi.check_eob_wrt_c04 import c04_lod_offset_plot\n",
    "\n",
    "c04_lod_offset_plot(eob_c04)"
   ]
  },
  {
   "cell_type": "code",
   "execution_count": null,
   "metadata": {
    "ExecuteTime": {
     "end_time": "2021-03-10T12:44:37.990765Z",
     "start_time": "2021-03-10T12:44:35.916Z"
    }
   },
   "outputs": [],
   "source": [
    "from my_progs.vlbi.check_eob_wrt_c04 import c04_nut_offset_plot\n",
    "\n",
    "c04_nut_offset_plot(eob_c04)"
   ]
  }
 ],
 "metadata": {
  "hide_input": false,
  "kernelspec": {
   "display_name": "Python 3",
   "language": "python",
   "name": "python3"
  },
  "language_info": {
   "codemirror_mode": {
    "name": "ipython",
    "version": 3
   },
   "file_extension": ".py",
   "mimetype": "text/x-python",
   "name": "python",
   "nbconvert_exporter": "python",
   "pygments_lexer": "ipython3",
   "version": "3.7.10"
  }
 },
 "nbformat": 4,
 "nbformat_minor": 4
}
