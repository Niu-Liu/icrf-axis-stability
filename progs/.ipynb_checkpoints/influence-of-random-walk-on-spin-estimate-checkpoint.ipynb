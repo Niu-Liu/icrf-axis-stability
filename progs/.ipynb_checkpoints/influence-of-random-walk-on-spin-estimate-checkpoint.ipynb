{
 "cells": [
  {
   "cell_type": "markdown",
   "id": "288d1782",
   "metadata": {},
   "source": [
    "In this notebook, I added the random walk process to a randomly selected sources among the ICRF3 defing source list and computed the global spin of the CRF."
   ]
  },
  {
   "cell_type": "code",
   "execution_count": 1,
   "id": "02d7653b",
   "metadata": {
    "ExecuteTime": {
     "end_time": "2021-09-20T03:39:24.110523Z",
     "start_time": "2021-09-20T03:39:22.703858Z"
    }
   },
   "outputs": [],
   "source": [
    "import random\n",
    "\n",
    "import matplotlib.pyplot as plt\n",
    "import numpy as np\n",
    "from astropy.table import Table, join\n",
    "\n",
    "# My progs\n",
    "from my_progs.vlbi.ts_func import get_ts\n",
    "from tool_func import vsh_fit_for_pm, random_walk\n",
    "from linear_fit import linfit2d\n",
    "\n",
    "np.random.seed(3)"
   ]
  },
  {
   "cell_type": "code",
   "execution_count": 2,
   "id": "8f194e29",
   "metadata": {
    "ExecuteTime": {
     "end_time": "2021-09-20T03:39:24.127645Z",
     "start_time": "2021-09-20T03:39:24.112515Z"
    }
   },
   "outputs": [],
   "source": [
    "apm_all = Table.read(\"../data/ts_nju_pm_fit_10sigma-10step.dat\", format=\"ascii.csv\")\n",
    "\n",
    "# convert mas/yr into muas/yr\n",
    "apm_all[\"pmra\"] = apm_all[\"pmra\"] * 1e3\n",
    "apm_all[\"pmra_err\"] = apm_all[\"pmra_err\"] * 1e3\n",
    "apm_all[\"pmdec\"] = apm_all[\"pmdec\"] * 1e3\n",
    "apm_all[\"pmdec_err\"] = apm_all[\"pmdec_err\"] * 1e3"
   ]
  },
  {
   "cell_type": "code",
   "execution_count": 3,
   "id": "27ae3004",
   "metadata": {
    "ExecuteTime": {
     "end_time": "2021-09-20T03:39:24.149165Z",
     "start_time": "2021-09-20T03:39:24.130129Z"
    }
   },
   "outputs": [],
   "source": [
    "icrf3_def = Table.read(\"../data/icrf3sx-def-sou.txt\", format=\"ascii\")"
   ]
  },
  {
   "cell_type": "code",
   "execution_count": 4,
   "id": "40af771c",
   "metadata": {
    "ExecuteTime": {
     "end_time": "2021-09-20T03:39:24.162194Z",
     "start_time": "2021-09-20T03:39:24.151580Z"
    }
   },
   "outputs": [],
   "source": [
    "mask = apm_all[\"num_cln\"] >= 5\n",
    "apm_all = apm_all[mask]\n",
    "\n",
    "apm_def = join(icrf3_def, apm_all, keys=\"iers_name\")"
   ]
  },
  {
   "cell_type": "code",
   "execution_count": 5,
   "id": "a2bcabad",
   "metadata": {
    "ExecuteTime": {
     "end_time": "2021-09-20T03:39:24.166572Z",
     "start_time": "2021-09-20T03:39:24.163679Z"
    }
   },
   "outputs": [],
   "source": [
    "sample_size = 100\n",
    "\n",
    "sou_idx = random.choices(np.arange(len(apm_def)), k=sample_size)"
   ]
  },
  {
   "cell_type": "code",
   "execution_count": 6,
   "id": "6c423aea",
   "metadata": {
    "ExecuteTime": {
     "end_time": "2021-09-20T03:39:24.171392Z",
     "start_time": "2021-09-20T03:39:24.168482Z"
    }
   },
   "outputs": [],
   "source": [
    "resample_wx = np.zeros(sample_size)\n",
    "resample_wy = np.zeros(sample_size)\n",
    "resample_wz = np.zeros(sample_size)\n",
    "resample_w = np.zeros(sample_size)\n",
    "resample_ra = np.zeros(sample_size)\n",
    "resample_dec = np.zeros(sample_size)"
   ]
  },
  {
   "cell_type": "code",
   "execution_count": 7,
   "id": "35b61e01",
   "metadata": {
    "ExecuteTime": {
     "end_time": "2021-09-20T03:41:39.380978Z",
     "start_time": "2021-09-20T03:39:24.172805Z"
    }
   },
   "outputs": [],
   "source": [
    "for i, idx in enumerate(sou_idx):\n",
    "    # Get the name for the selected source\n",
    "    sou_name = apm_def[\"iers_name\"][idx]\n",
    "\n",
    "    # Coordinate time series for the source\n",
    "    coordts = get_ts(\n",
    "        sou_name,\n",
    "        data_dir=\"/Users/Neo/Astronomy/data/vlbi/nju/series-10step\",\n",
    "        calc_oft=True)\n",
    "\n",
    "    # Add random walk process to the coordinate time series for this source\n",
    "    dra_rw, ddec_rw = random_walk(coordts[\"jyear\"], t_scale=5, sigma_var=2)\n",
    "\n",
    "    # Form the new coordinate offset series\n",
    "    coordts[\"dra\"] = coordts[\"dra\"] + dra_rw\n",
    "    coordts[\"ddec\"] = coordts[\"ddec\"] + ddec_rw\n",
    "\n",
    "    # Re-fit the apparent proper motion\n",
    "    res1 = linfit2d(coordts[\"jyear\"] - np.median(coordts[\"jyear\"]),\n",
    "                    coordts[\"dra\"],\n",
    "                    coordts[\"ddec\"],\n",
    "                    x_err=coordts[\"ra_err\"],\n",
    "                    y_err=coordts[\"dec_err\"],\n",
    "                    xy_cor=coordts[\"ra_dec_corr\"],\n",
    "                    fit_type=\"sep\")\n",
    "\n",
    "    # Update the APM data\n",
    "    apm_def[\"pmra\"][idx] = res1[\"x1\"] * 1e3\n",
    "    apm_def[\"pmra_err\"][idx] = res1[\"x1_err\"] * 1e3\n",
    "    apm_def[\"pmdec\"][idx] = res1[\"y1\"] * 1e3\n",
    "    apm_def[\"pmdec_err\"][idx] = res1[\"y1_err\"] * 1e3\n",
    "    apm_def[\"pmra_pmdec_cor\"][idx] = res1[\"x1y1_cor\"]\n",
    "    \n",
    "\n",
    "    # VSH fitting\n",
    "    pmt, sig, output = vsh_fit_for_pm(apm_def)\n",
    "\n",
    "    # Record the results\n",
    "    resample_wx[i] = pmt[0]\n",
    "    resample_wy[i] = pmt[1]\n",
    "    resample_wz[i] = pmt[2]\n",
    "    resample_w[i] = pmt[3]\n",
    "    resample_ra[i] = output[\"R_ra\"]\n",
    "    resample_dec[i] = output[\"R_dec\"]"
   ]
  },
  {
   "cell_type": "code",
   "execution_count": 21,
   "id": "83a65888",
   "metadata": {
    "ExecuteTime": {
     "end_time": "2021-09-20T03:52:45.391585Z",
     "start_time": "2021-09-20T03:52:45.219459Z"
    }
   },
   "outputs": [
    {
     "data": {
      "image/png": "[encoded data removed]",
      "text/plain": [
       "<Figure size 432x288 with 1 Axes>"
      ]
     },
     "metadata": {
      "needs_background": "light"
     },
     "output_type": "display_data"
    }
   ],
   "source": [
    "bin_size = 0.05\n",
    "bin_array = np.arange(-1.5, 0, bin_size)\n",
    "\n",
    "fig, ax = plt.subplots()\n",
    "\n",
    "ax.hist(resample_wx,\n",
    "        bins=bin_array,\n",
    "        color=\"grey\",\n",
    "        label=\"All\")\n",
    "\n",
    "\n",
    "ax.set_xlabel(\"$\\\\omega_{\\\\rm x}$ ($\\\\mu$as$\\,$yr$^{-1}$)\", fontsize=15)\n",
    "ax.set_ylabel(\"Nb sources in  bins\", fontsize=15)\n",
    "\n",
    "plt.tight_layout()\n",
    "# plt.savefig(\"../plots/spin-x-from-resampled-apm.eps\")"
   ]
  },
  {
   "cell_type": "code",
   "execution_count": 23,
   "id": "a13b2ea8",
   "metadata": {
    "ExecuteTime": {
     "end_time": "2021-09-20T03:53:09.730680Z",
     "start_time": "2021-09-20T03:53:09.560305Z"
    }
   },
   "outputs": [
    {
     "data": {
      "image/png": "[encoded data removed]",
      "text/plain": [
       "<Figure size 432x288 with 1 Axes>"
      ]
     },
     "metadata": {
      "needs_background": "light"
     },
     "output_type": "display_data"
    }
   ],
   "source": [
    "bin_size = 0.05\n",
    "bin_array = np.arange(-.5, 1.0, bin_size)\n",
    "\n",
    "fig, ax = plt.subplots()\n",
    "\n",
    "ax.hist(resample_wy,\n",
    "        bins=bin_array,\n",
    "        color=\"grey\",\n",
    "        label=\"All\")\n",
    "\n",
    "ax.set_xlabel(\"$\\\\omega_{\\\\rm y}$ ($\\\\mu$as$\\,$yr$^{-1}$)\", fontsize=15)\n",
    "ax.set_ylabel(\"Nb sources in  bins\", fontsize=15)\n",
    "\n",
    "plt.tight_layout()\n",
    "# plt.savefig(\"../plots/spin-y-from-resampled-apm.eps\")"
   ]
  },
  {
   "cell_type": "code",
   "execution_count": 29,
   "id": "80b8f9ad",
   "metadata": {
    "ExecuteTime": {
     "end_time": "2021-09-20T03:54:15.525551Z",
     "start_time": "2021-09-20T03:54:15.351635Z"
    }
   },
   "outputs": [
    {
     "data": {
      "image/png": "[encoded data removed]",
      "text/plain": [
       "<Figure size 432x288 with 1 Axes>"
      ]
     },
     "metadata": {
      "needs_background": "light"
     },
     "output_type": "display_data"
    }
   ],
   "source": [
    "bin_size = 0.05\n",
    "bin_array = np.arange(-.1, 1.6, bin_size)\n",
    "\n",
    "fig, ax = plt.subplots()\n",
    "\n",
    "ax.hist(resample_wz,\n",
    "        bins=bin_array,\n",
    "        color=\"grey\",\n",
    "        label=\"All\")\n",
    "\n",
    "# ax.plot(bin_array, rvs_wz.pdf(bin_array)*sample_num*bin_size, \"r--\")\n",
    "\n",
    "# ax.text(-2., 55, \"$\\mu={:+.2f}$\".format(mu_wz), fontsize=15)\n",
    "# ax.text(-2., 45, \"$\\sigma={:.2f}$\".format(std_wz), fontsize=15)\n",
    "\n",
    "ax.set_xlabel(\"$\\\\omega_{\\\\rm z}$ ($\\\\mu$as$\\,$yr$^{-1}$)\", fontsize=15)\n",
    "ax.set_ylabel(\"Nb sources in  bins\", fontsize=15)\n",
    "\n",
    "plt.tight_layout()\n",
    "# plt.savefig(\"../plots/spin-z-from-resampled-apm.eps\")"
   ]
  },
  {
   "cell_type": "code",
   "execution_count": 11,
   "id": "932cf4a5",
   "metadata": {
    "ExecuteTime": {
     "end_time": "2021-09-20T03:41:40.285271Z",
     "start_time": "2021-09-20T03:41:40.140272Z"
    }
   },
   "outputs": [
    {
     "data": {
      "image/png": "[encoded data removed]",
      "text/plain": [
       "<Figure size 432x288 with 1 Axes>"
      ]
     },
     "metadata": {
      "needs_background": "light"
     },
     "output_type": "display_data"
    }
   ],
   "source": [
    "bin_size = 5\n",
    "bin_array = np.arange(0, 150, bin_size)\n",
    "\n",
    "fig, ax = plt.subplots()\n",
    "\n",
    "ax.hist(resample_w,\n",
    "        bins=bin_array,\n",
    "        color=\"grey\",\n",
    "        label=\"All\")\n",
    "\n",
    "\n",
    "ax.set_xlabel(\"$\\\\omega$ ($\\\\mu$as$\\,$yr$^{-1}$)\", fontsize=15)\n",
    "ax.set_ylabel(\"Nb sources in  bins\", fontsize=15)\n",
    "\n",
    "plt.tight_layout()"
   ]
  },
  {
   "cell_type": "code",
   "execution_count": 12,
   "id": "f272412b",
   "metadata": {
    "ExecuteTime": {
     "end_time": "2021-09-20T03:41:40.436423Z",
     "start_time": "2021-09-20T03:41:40.287073Z"
    }
   },
   "outputs": [
    {
     "data": {
      "image/png": "[encoded data removed]",
      "text/plain": [
       "<Figure size 432x288 with 1 Axes>"
      ]
     },
     "metadata": {
      "needs_background": "light"
     },
     "output_type": "display_data"
    }
   ],
   "source": [
    "bin_size = 10\n",
    "bin_array = np.arange(0, 361, bin_size)\n",
    "\n",
    "fig, ax = plt.subplots()\n",
    "\n",
    "ax.hist(resample_ra,\n",
    "        bins=bin_array,\n",
    "        color=\"grey\",\n",
    "        label=\"All\")\n",
    "\n",
    "# ax.plot(bin_array, rvs_ra.pdf(bin_array)*sample_num*bin_size, \"r--\")\n",
    "\n",
    "# ax.text(0, 75, \"$\\mu={:.0f}$\".format(mu_ra), fontsize=15)\n",
    "# ax.text(0, 65, \"$\\sigma={:.0f}$\".format(std_ra), fontsize=15)\n",
    "\n",
    "ax.set_xlabel(\"$\\\\alpha_{\\\\rm apex}$ (degree))\", fontsize=15)\n",
    "ax.set_ylabel(\"Nb sources in  bins\", fontsize=15)\n",
    "\n",
    "plt.tight_layout()"
   ]
  },
  {
   "cell_type": "code",
   "execution_count": 13,
   "id": "48329b7d",
   "metadata": {
    "ExecuteTime": {
     "end_time": "2021-09-20T03:41:40.580511Z",
     "start_time": "2021-09-20T03:41:40.438099Z"
    }
   },
   "outputs": [
    {
     "data": {
      "image/png": "[encoded data removed]",
      "text/plain": [
       "<Figure size 432x288 with 1 Axes>"
      ]
     },
     "metadata": {
      "needs_background": "light"
     },
     "output_type": "display_data"
    }
   ],
   "source": [
    "bin_size = 5\n",
    "bin_array = np.arange(-90, 91, bin_size)\n",
    "\n",
    "fig, ax = plt.subplots()\n",
    "\n",
    "ax.hist(resample_dec,\n",
    "        bins=bin_array,\n",
    "        color=\"grey\",\n",
    "        label=\"All\")\n",
    "\n",
    "# ax.plot(bin_array, rvs_dec.pdf(bin_array)*sample_num*bin_size, \"r--\")\n",
    "\n",
    "# ax.text(-80, 85, \"$\\mu={:-.0f}$\".format(mu_dec), fontsize=15)\n",
    "# ax.text(-80, 75, \"$\\sigma={:.0f}$\".format(std_dec), fontsize=15)\n",
    "\n",
    "ax.set_xlabel(\"$\\\\delta_{\\\\rm apex}$ (degree))\", fontsize=15)\n",
    "ax.set_ylabel(\"Nb sources in  bins\", fontsize=15)\n",
    "\n",
    "plt.tight_layout()"
   ]
  }
 ],
 "metadata": {
  "hide_input": false,
  "kernelspec": {
   "display_name": "Python 3 (ipykernel)",
   "language": "python",
   "name": "python3"
  },
  "language_info": {
   "codemirror_mode": {
    "name": "ipython",
    "version": 3
   },
   "file_extension": ".py",
   "mimetype": "text/x-python",
   "name": "python",
   "nbconvert_exporter": "python",
   "pygments_lexer": "ipython3",
   "version": "3.9.7"
  }
 },
 "nbformat": 4,
 "nbformat_minor": 5
}
