{
 "cells": [
  {
   "cell_type": "markdown",
   "metadata": {},
   "source": [
    "I first constructed annual CRFs and then calculate the orientation angles between them and ICRF3.\n",
    "\n",
    "Here I presented the second method, which is that I use the mean positions of source within one-year windows to construct the annual CRF."
   ]
  },
  {
   "cell_type": "code",
   "execution_count": 1,
   "metadata": {
    "ExecuteTime": {
     "end_time": "2021-06-09T03:29:20.398470Z",
     "start_time": "2021-06-09T03:29:18.421715Z"
    }
   },
   "outputs": [],
   "source": [
    "import matplotlib.pyplot as plt\n",
    "from matplotlib.ticker import MultipleLocator\n",
    "import numpy as np\n",
    "\n",
    "from astropy.table import Table\n",
    "import astropy.units as u\n",
    "\n",
    "# My progs\n",
    "from my_progs.catalog.read_icrf import read_icrf3\n",
    "from my_progs.stat_func.rms_calc import rms_calc\n",
    "from my_progs.catalog.pos_diff import radio_cat_diff_calc\n",
    "from tool_func import calc_orient"
   ]
  },
  {
   "cell_type": "code",
   "execution_count": 2,
   "metadata": {
    "ExecuteTime": {
     "end_time": "2021-06-09T03:29:21.922663Z",
     "start_time": "2021-06-09T03:29:20.402499Z"
    }
   },
   "outputs": [],
   "source": [
    "icrf3sx = read_icrf3(wv=\"sx\")\n",
    "\n",
    "icrf3def = icrf3sx[icrf3sx[\"type\"] == \"D\"]"
   ]
  },
  {
   "cell_type": "code",
   "execution_count": 7,
   "metadata": {
    "ExecuteTime": {
     "end_time": "2021-06-09T03:29:42.475343Z",
     "start_time": "2021-06-09T03:29:42.470270Z"
    }
   },
   "outputs": [],
   "source": [
    "years = np.concatenate(([1984], np.arange(1986, 2021)))\n",
    "\n",
    "num = len(years)"
   ]
  },
  {
   "cell_type": "code",
   "execution_count": 8,
   "metadata": {
    "ExecuteTime": {
     "end_time": "2021-06-09T03:29:42.485443Z",
     "start_time": "2021-06-09T03:29:42.480105Z"
    }
   },
   "outputs": [],
   "source": [
    "N0 = np.zeros_like(years)\n",
    "N1 = np.zeros_like(years)\n",
    "pmt = np.empty((num, 8), dtype=np.float)\n",
    "err = np.empty((num, 8), dtype=np.float)"
   ]
  },
  {
   "cell_type": "code",
   "execution_count": 9,
   "metadata": {
    "ExecuteTime": {
     "end_time": "2021-06-09T03:29:42.494460Z",
     "start_time": "2021-06-09T03:29:42.489779Z"
    }
   },
   "outputs": [],
   "source": [
    "N0_d = np.zeros_like(years)\n",
    "N1_d = np.zeros_like(years)\n",
    "pmt_d = np.empty((num, 8), dtype=np.float)\n",
    "err_d = np.empty((num, 8), dtype=np.float)"
   ]
  },
  {
   "cell_type": "code",
   "execution_count": 10,
   "metadata": {
    "ExecuteTime": {
     "end_time": "2021-06-09T03:29:42.524357Z",
     "start_time": "2021-06-09T03:29:42.497161Z"
    },
    "scrolled": true
   },
   "outputs": [
    {
     "name": "stdout",
     "output_type": "stream",
     "text": [
      "\n",
      "Processing time series within 1981-1982\n",
      "The sample of 2 sources is insufficient for determining 6 unknowns!\n",
      "Abort!\n"
     ]
    },
    {
     "ename": "NameError",
     "evalue": "name 'sys' is not defined",
     "output_type": "error",
     "traceback": [
      "\u001b[0;31m---------------------------------------------------------------------------\u001b[0m",
      "\u001b[0;31mNameError\u001b[0m                                 Traceback (most recent call last)",
      "\u001b[0;32m<ipython-input-10-8a135a45634d>\u001b[0m in \u001b[0;36m<module>\u001b[0;34m\u001b[0m\n\u001b[1;32m     14\u001b[0m     \u001b[0;31m# ICRF3 defining sources\u001b[0m\u001b[0;34m\u001b[0m\u001b[0;34m\u001b[0m\u001b[0;34m\u001b[0m\u001b[0m\n\u001b[1;32m     15\u001b[0m     \u001b[0mpos_oft\u001b[0m \u001b[0;34m=\u001b[0m \u001b[0mradio_cat_diff_calc\u001b[0m\u001b[0;34m(\u001b[0m\u001b[0mts_sou\u001b[0m\u001b[0;34m,\u001b[0m \u001b[0micrf3def\u001b[0m\u001b[0;34m,\u001b[0m \u001b[0msou_name\u001b[0m\u001b[0;34m=\u001b[0m\u001b[0;34m\"iers_name\"\u001b[0m\u001b[0;34m)\u001b[0m\u001b[0;34m\u001b[0m\u001b[0;34m\u001b[0m\u001b[0m\n\u001b[0;32m---> 16\u001b[0;31m     \u001b[0mN0_d\u001b[0m\u001b[0;34m[\u001b[0m\u001b[0mi\u001b[0m\u001b[0;34m]\u001b[0m\u001b[0;34m,\u001b[0m \u001b[0mN1_d\u001b[0m\u001b[0;34m[\u001b[0m\u001b[0mi\u001b[0m\u001b[0;34m]\u001b[0m\u001b[0;34m,\u001b[0m \u001b[0mpmt_d\u001b[0m\u001b[0;34m[\u001b[0m\u001b[0mi\u001b[0m\u001b[0;34m]\u001b[0m\u001b[0;34m,\u001b[0m \u001b[0merr_d\u001b[0m\u001b[0;34m[\u001b[0m\u001b[0mi\u001b[0m\u001b[0;34m]\u001b[0m \u001b[0;34m=\u001b[0m \u001b[0mcalc_orient\u001b[0m\u001b[0;34m(\u001b[0m\u001b[0mpos_oft\u001b[0m\u001b[0;34m)\u001b[0m\u001b[0;34m\u001b[0m\u001b[0;34m\u001b[0m\u001b[0m\n\u001b[0m\u001b[1;32m     17\u001b[0m \u001b[0;34m\u001b[0m\u001b[0m\n\u001b[1;32m     18\u001b[0m     \u001b[0;31m# All sources\u001b[0m\u001b[0;34m\u001b[0m\u001b[0;34m\u001b[0m\u001b[0;34m\u001b[0m\u001b[0m\n",
      "\u001b[0;32m~/Documents/github/icrf-axis-stability/progs/tool_func.py\u001b[0m in \u001b[0;36mcalc_orient\u001b[0;34m(pos_oft)\u001b[0m\n\u001b[1;32m    104\u001b[0m     \u001b[0mpos_oft_cln\u001b[0m \u001b[0;34m=\u001b[0m \u001b[0msample_clean\u001b[0m\u001b[0;34m(\u001b[0m\u001b[0mpos_oft\u001b[0m\u001b[0;34m,\u001b[0m \u001b[0mrho0\u001b[0m\u001b[0;34m=\u001b[0m\u001b[0;36m10\u001b[0m\u001b[0;34m)\u001b[0m\u001b[0;34m\u001b[0m\u001b[0;34m\u001b[0m\u001b[0m\n\u001b[1;32m    105\u001b[0m     \u001b[0mN1\u001b[0m \u001b[0;34m=\u001b[0m \u001b[0mlen\u001b[0m\u001b[0;34m(\u001b[0m\u001b[0mpos_oft_cln\u001b[0m\u001b[0;34m)\u001b[0m\u001b[0;34m\u001b[0m\u001b[0;34m\u001b[0m\u001b[0m\n\u001b[0;32m--> 106\u001b[0;31m     \u001b[0mpmt\u001b[0m\u001b[0;34m,\u001b[0m \u001b[0msig\u001b[0m \u001b[0;34m=\u001b[0m \u001b[0mvsh_fit_for_pos\u001b[0m\u001b[0;34m(\u001b[0m\u001b[0mpos_oft_cln\u001b[0m\u001b[0;34m)\u001b[0m\u001b[0;34m\u001b[0m\u001b[0;34m\u001b[0m\u001b[0m\n\u001b[0m\u001b[1;32m    107\u001b[0m \u001b[0;34m\u001b[0m\u001b[0m\n\u001b[1;32m    108\u001b[0m     \u001b[0;32mreturn\u001b[0m \u001b[0mN0\u001b[0m\u001b[0;34m,\u001b[0m \u001b[0mN1\u001b[0m\u001b[0;34m,\u001b[0m \u001b[0mpmt\u001b[0m\u001b[0;34m,\u001b[0m \u001b[0msig\u001b[0m\u001b[0;34m\u001b[0m\u001b[0;34m\u001b[0m\u001b[0m\n",
      "\u001b[0;32m~/Documents/github/icrf-axis-stability/progs/tool_func.py\u001b[0m in \u001b[0;36mvsh_fit_for_pos\u001b[0;34m(pos_oft, print_log)\u001b[0m\n\u001b[1;32m     68\u001b[0m     \"\"\"\n\u001b[1;32m     69\u001b[0m \u001b[0;34m\u001b[0m\u001b[0m\n\u001b[0;32m---> 70\u001b[0;31m     \u001b[0moutput\u001b[0m \u001b[0;34m=\u001b[0m \u001b[0mrotgli_fit_4_table\u001b[0m\u001b[0;34m(\u001b[0m\u001b[0mpos_oft\u001b[0m\u001b[0;34m,\u001b[0m \u001b[0mverbose\u001b[0m\u001b[0;34m=\u001b[0m\u001b[0;32mFalse\u001b[0m\u001b[0;34m)\u001b[0m\u001b[0;34m\u001b[0m\u001b[0;34m\u001b[0m\u001b[0m\n\u001b[0m\u001b[1;32m     71\u001b[0m \u001b[0;34m\u001b[0m\u001b[0m\n\u001b[1;32m     72\u001b[0m     \u001b[0;31m# Keep rotation only and mas -> uas\u001b[0m\u001b[0;34m\u001b[0m\u001b[0;34m\u001b[0m\u001b[0;34m\u001b[0m\u001b[0m\n",
      "\u001b[0;32m~/.ipython/my_progs/vsh/vsh_fit.py\u001b[0m in \u001b[0;36mrotgli_fit_4_table\u001b[0;34m(data_tab, fit_type, pos_in_rad, num_iter, **kwargs)\u001b[0m\n\u001b[1;32m    430\u001b[0m     output = vsh_fit_4_table(\n\u001b[1;32m    431\u001b[0m         \u001b[0mdata_tab\u001b[0m\u001b[0;34m,\u001b[0m \u001b[0ml_max\u001b[0m\u001b[0;34m=\u001b[0m\u001b[0;36m1\u001b[0m\u001b[0;34m,\u001b[0m \u001b[0mfit_type\u001b[0m\u001b[0;34m=\u001b[0m\u001b[0mfit_type\u001b[0m\u001b[0;34m,\u001b[0m \u001b[0mpos_in_rad\u001b[0m\u001b[0;34m=\u001b[0m\u001b[0mpos_in_rad\u001b[0m\u001b[0;34m,\u001b[0m\u001b[0;34m\u001b[0m\u001b[0;34m\u001b[0m\u001b[0m\n\u001b[0;32m--> 432\u001b[0;31m         num_iter=num_iter, **kwargs)\n\u001b[0m\u001b[1;32m    433\u001b[0m \u001b[0;34m\u001b[0m\u001b[0m\n\u001b[1;32m    434\u001b[0m     \u001b[0;32mreturn\u001b[0m \u001b[0moutput\u001b[0m\u001b[0;34m\u001b[0m\u001b[0;34m\u001b[0m\u001b[0m\n",
      "\u001b[0;32m~/.ipython/my_progs/vsh/vsh_fit.py\u001b[0m in \u001b[0;36mvsh_fit_4_table\u001b[0;34m(data_tab, l_max, fit_type, pos_in_rad, num_iter, **kwargs)\u001b[0m\n\u001b[1;32m    293\u001b[0m                      \u001b[0mra_dc_cor\u001b[0m\u001b[0;34m=\u001b[0m\u001b[0mdra_ddc_cor\u001b[0m\u001b[0;34m,\u001b[0m \u001b[0ml_max\u001b[0m\u001b[0;34m=\u001b[0m\u001b[0ml_max\u001b[0m\u001b[0;34m,\u001b[0m\u001b[0;34m\u001b[0m\u001b[0;34m\u001b[0m\u001b[0m\n\u001b[1;32m    294\u001b[0m                      \u001b[0mpos_in_rad\u001b[0m\u001b[0;34m=\u001b[0m\u001b[0mpos_in_rad\u001b[0m\u001b[0;34m,\u001b[0m \u001b[0mnum_iter\u001b[0m\u001b[0;34m=\u001b[0m\u001b[0mnum_iter\u001b[0m\u001b[0;34m,\u001b[0m\u001b[0;34m\u001b[0m\u001b[0;34m\u001b[0m\u001b[0m\n\u001b[0;32m--> 295\u001b[0;31m                      fit_type=fit_type, **kwargs)\n\u001b[0m\u001b[1;32m    296\u001b[0m \u001b[0;34m\u001b[0m\u001b[0m\n\u001b[1;32m    297\u001b[0m     \u001b[0;32mreturn\u001b[0m \u001b[0moutput\u001b[0m\u001b[0;34m\u001b[0m\u001b[0;34m\u001b[0m\u001b[0m\n",
      "\u001b[0;32m~/.ipython/my_progs/vsh/vsh_fit.py\u001b[0m in \u001b[0;36mvsh_fit\u001b[0;34m(dra, ddc, dra_err, ddc_err, ra, dc, ra_dc_cor, l_max, fit_type, pos_in_rad, num_iter, **kwargs)\u001b[0m\n\u001b[1;32m     81\u001b[0m \u001b[0;34m\u001b[0m\u001b[0m\n\u001b[1;32m     82\u001b[0m     \u001b[0;31m# Pre-fit check\u001b[0m\u001b[0;34m\u001b[0m\u001b[0;34m\u001b[0m\u001b[0;34m\u001b[0m\u001b[0m\n\u001b[0;32m---> 83\u001b[0;31m     \u001b[0mprefit_check\u001b[0m\u001b[0;34m(\u001b[0m\u001b[0mnum_sou\u001b[0m\u001b[0;34m,\u001b[0m \u001b[0mnum_pmt\u001b[0m\u001b[0;34m)\u001b[0m\u001b[0;34m\u001b[0m\u001b[0;34m\u001b[0m\u001b[0m\n\u001b[0m\u001b[1;32m     84\u001b[0m \u001b[0;34m\u001b[0m\u001b[0m\n\u001b[1;32m     85\u001b[0m     \u001b[0;31m# Number of degree of freedom\u001b[0m\u001b[0;34m\u001b[0m\u001b[0;34m\u001b[0m\u001b[0;34m\u001b[0m\u001b[0m\n",
      "\u001b[0;32m~/.ipython/my_progs/vsh/vsh_aux_info.py\u001b[0m in \u001b[0;36mprefit_check\u001b[0;34m(num_sou, num_pmt)\u001b[0m\n\u001b[1;32m     28\u001b[0m               \"{:d} unknowns!\".format(num_sou, num_pmt))\n\u001b[1;32m     29\u001b[0m         \u001b[0mprint\u001b[0m\u001b[0;34m(\u001b[0m\u001b[0;34m\"Abort!\"\u001b[0m\u001b[0;34m)\u001b[0m\u001b[0;34m\u001b[0m\u001b[0;34m\u001b[0m\u001b[0m\n\u001b[0;32m---> 30\u001b[0;31m         \u001b[0msys\u001b[0m\u001b[0;34m.\u001b[0m\u001b[0mexit\u001b[0m\u001b[0;34m(\u001b[0m\u001b[0;36m1\u001b[0m\u001b[0;34m)\u001b[0m\u001b[0;34m\u001b[0m\u001b[0;34m\u001b[0m\u001b[0m\n\u001b[0m\u001b[1;32m     31\u001b[0m \u001b[0;34m\u001b[0m\u001b[0m\n\u001b[1;32m     32\u001b[0m \u001b[0;34m\u001b[0m\u001b[0m\n",
      "\u001b[0;31mNameError\u001b[0m: name 'sys' is not defined"
     ]
    }
   ],
   "source": [
    "for i, year in enumerate(years):\n",
    "    \n",
    "    print(\"\\nProcessing time series within {:d}-{:d}\".format(year, year+1))\n",
    "    \n",
    "    ts_sou = Table.read(\"../data/yearly-ts-nju-8step/{:d}.dat\".format(year), format=\"ascii\")\n",
    "    \n",
    "    \n",
    "    # Add unit information\n",
    "    ts_sou[\"ra\"].unit = u.deg\n",
    "    ts_sou[\"dec\"].unit = u.deg\n",
    "    ts_sou[\"ra_err\"].unit = u.mas\n",
    "    ts_sou[\"dec_err\"].unit = u.mas\n",
    "    \n",
    "    # ICRF3 defining sources\n",
    "    pos_oft = radio_cat_diff_calc(ts_sou, icrf3def, sou_name=\"iers_name\")\n",
    "    N0_d[i], N1_d[i], pmt_d[i], err_d[i] = calc_orient(pos_oft)\n",
    "\n",
    "    # All sources\n",
    "    pos_oft = radio_cat_diff_calc(ts_sou, icrf3sx, sou_name=\"iers_name\")\n",
    "    N0[i], N1[i], pmt[i], err[i] = calc_orient(pos_oft)"
   ]
  },
  {
   "cell_type": "markdown",
   "metadata": {},
   "source": [
    "# ICRF3 defining sources only"
   ]
  },
  {
   "cell_type": "code",
   "execution_count": null,
   "metadata": {
    "ExecuteTime": {
     "end_time": "2021-06-09T03:29:42.527169Z",
     "start_time": "2021-06-09T03:29:42.477Z"
    }
   },
   "outputs": [],
   "source": [
    "fig, ax = plt.subplots()\n",
    "\n",
    "ax.plot(years, N0_d, \"b-o\", ms=2, lw=0.5, label=\"$N_0$\")\n",
    "ax.plot(years, N1_d, \"r-s\", ms=2, lw=0.5, label=\"$N_1$\")\n",
    "\n",
    "# ax.set_yscale(\"log\")\n",
    "\n",
    "ax.set_xlabel(\"Epoch (year)\", fontsize=12)\n",
    "ax.set_ylabel(\"Nb sources\", fontsize=12)\n",
    "ax.legend()"
   ]
  },
  {
   "cell_type": "code",
   "execution_count": null,
   "metadata": {
    "ExecuteTime": {
     "end_time": "2021-06-09T03:29:42.529076Z",
     "start_time": "2021-06-09T03:29:42.479Z"
    }
   },
   "outputs": [],
   "source": [
    "fig, ax = plt.subplots(figsize=(8, 6))\n",
    "\n",
    "ax.hlines(200, 1979, 2025, ls=\"dashed\", color=\"b\", lw=0.5)\n",
    "ax.hlines(0, 1979, 2025, ls=\"dashed\", color=\"k\", lw=0.5)\n",
    "ax.hlines(-200, 1979, 2025, ls=\"dashed\", color=\"r\", lw=0.5)\n",
    "\n",
    "ax.errorbar(years,\n",
    "            pmt_d[:, 0] + 200,\n",
    "            yerr=err_d[:, 0],\n",
    "            color=\"blue\",\n",
    "            ms=3,\n",
    "            fmt=\"-s\",\n",
    "            elinewidth=0.5,\n",
    "            lw=0.2,\n",
    "            label=\"$g_x+0.2$ mas\",\n",
    "            capsize=1)\n",
    "ax.errorbar(years+1,\n",
    "            pmt_d[:, 1],\n",
    "            yerr=err_d[:, 1],\n",
    "            color=\"black\",\n",
    "            ms=3,\n",
    "            fmt=\"-o\",\n",
    "            elinewidth=0.5,\n",
    "            lw=0.2,\n",
    "            label=\"$g_y$\",\n",
    "            capsize=1)\n",
    "ax.errorbar(years+1,\n",
    "            pmt_d[:, 3] - 200,\n",
    "            yerr=err_d[:, 3],\n",
    "            color=\"red\",\n",
    "            ms=3,\n",
    "            fmt=\"-^\",\n",
    "            elinewidth=0.5,\n",
    "            lw=0.2,\n",
    "            label=\"$g_x-0.2$ mas\",\n",
    "            capsize=1)\n",
    "\n",
    "ax.set_xlabel(\"Epoch (year)\", fontsize=12)\n",
    "ax.set_ylabel(\"Glide ($\\mathrm{\\mu as}$)\", fontsize=12)\n",
    "\n",
    "ax.axis([1980, 2022, -400, 400])\n",
    "# ax.legend(bbox_to_anchor=(1.01, 1))\n",
    "plt.title(\"Glide from 8-step solution\", fontsize=15)\n",
    "ax.legend()\n",
    "plt.savefig(\"../plots/glide-from-yearly-ts-nju-8step.eps\")"
   ]
  },
  {
   "cell_type": "code",
   "execution_count": null,
   "metadata": {
    "ExecuteTime": {
     "end_time": "2021-06-09T03:29:42.530577Z",
     "start_time": "2021-06-09T03:29:42.480Z"
    }
   },
   "outputs": [],
   "source": [
    "fig, ax = plt.subplots(figsize=(8, 6))\n",
    "\n",
    "ax.hlines(200, 1979, 2021, ls=\"dashed\", color=\"b\", lw=0.5)\n",
    "ax.hlines(0, 1979, 2021, ls=\"dashed\", color=\"k\", lw=0.5)\n",
    "ax.hlines(-200, 1979, 2021, ls=\"dashed\", color=\"r\", lw=0.5)\n",
    "\n",
    "ax.errorbar(years,\n",
    "            pmt_d[:, 3] + 200,\n",
    "            yerr=err_d[:, 3],\n",
    "            color=\"blue\",\n",
    "            ms=3,\n",
    "            fmt=\"-s\",\n",
    "            elinewidth=0.5,\n",
    "            lw=0.2,\n",
    "            label=\"$\\\\epsilon_x+0.2$ mas\",\n",
    "            capsize=1)\n",
    "ax.errorbar(years,\n",
    "            pmt_d[:, 4],\n",
    "            yerr=err_d[:, 4],\n",
    "            color=\"black\",\n",
    "            ms=3,\n",
    "            fmt=\"-o\",\n",
    "            elinewidth=0.5,\n",
    "            lw=0.2,\n",
    "            label=\"$\\\\epsilon_y$\",\n",
    "            capsize=1)\n",
    "ax.errorbar(years,\n",
    "            pmt_d[:, 5] - 200,\n",
    "            yerr=err_d[:, 5],\n",
    "            color=\"red\",\n",
    "            ms=3,\n",
    "            fmt=\"-^\",\n",
    "            elinewidth=0.5,\n",
    "            lw=0.2,\n",
    "            label=\"$\\\\epsilon_z-0.2$ mas\",\n",
    "            capsize=1)\n",
    "\n",
    "ax.axis([1980, 2021, -400, 400])\n",
    "ax.set_xlabel(\"Epoch (year)\", fontsize=12)\n",
    "ax.set_ylabel(\"Orientation angle ($\\mathrm{\\mu as}$)\", fontsize=12)\n",
    "ax.legend()\n",
    "\n",
    "plt.title(\"Rotation from 8-step solution\", fontsize=15)\n",
    "plt.tight_layout()\n",
    "plt.savefig(\"../plots/orient-from-yearly-ts-nju-8step.eps\")"
   ]
  },
  {
   "cell_type": "code",
   "execution_count": null,
   "metadata": {
    "ExecuteTime": {
     "end_time": "2021-06-09T03:29:42.532366Z",
     "start_time": "2021-06-09T03:29:42.482Z"
    }
   },
   "outputs": [],
   "source": [
    "wmean1, wrms1, wstd1 = rms_calc(pmt_d[:, 3])\n",
    "wmean2, wrms2, wstd2 = rms_calc(pmt_d[:, 4])\n",
    "wmean3, wrms3, wstd3 = rms_calc(pmt_d[:, 5])\n",
    "\n",
    "print(\"Rotation statistics (No weighted)\")\n",
    "print(\"    Mean   RMS  Std\")\n",
    "print(\"    uas    uas  uas\")\n",
    "print(\"R1  {:+4.0f}  {:4.0f}  {:.0f}\".format(wmean1, wrms1, wstd1))\n",
    "print(\"R2  {:+4.0f}  {:4.0f}  {:.0f}\".format(wmean2, wrms2, wstd2))\n",
    "print(\"R3  {:+4.0f}  {:4.0f}  {:.0f}\".format(wmean3, wrms3, wstd3))\n",
    "\n",
    "\n",
    "wmean1, wrms1, wstd1 = rms_calc(pmt_d[:, 3], err_d[:, 3])\n",
    "wmean2, wrms2, wstd2 = rms_calc(pmt_d[:, 4], err_d[:, 4])\n",
    "wmean3, wrms3, wstd3 = rms_calc(pmt_d[:, 5], err_d[:, 5])\n",
    "\n",
    "print(\"Rotation statistics (Weighted)\")\n",
    "print(\"    Mean  WRMS Std\")\n",
    "print(\"    uas   uas  uas\")\n",
    "print(\"R1  {:+4.0f}  {:.0f}  {:.0f}\".format(wmean1, wrms1, wstd1))\n",
    "print(\"R2  {:+4.0f}  {:.0f}  {:.0f}\".format(wmean2, wrms2, wstd2))\n",
    "print(\"R3  {:+4.0f}  {:.0f}  {:.0f}\".format(wmean3, wrms3, wstd3))"
   ]
  },
  {
   "cell_type": "code",
   "execution_count": null,
   "metadata": {
    "ExecuteTime": {
     "end_time": "2021-06-09T03:29:42.534068Z",
     "start_time": "2021-06-09T03:29:42.483Z"
    }
   },
   "outputs": [],
   "source": [
    "mask = (years>=1985)"
   ]
  },
  {
   "cell_type": "code",
   "execution_count": null,
   "metadata": {
    "ExecuteTime": {
     "end_time": "2021-06-09T03:29:42.535553Z",
     "start_time": "2021-06-09T03:29:42.485Z"
    }
   },
   "outputs": [],
   "source": [
    "wmean1, wrms1, wstd1 = rms_calc(pmt_d[mask][:, 3])\n",
    "wmean2, wrms2, wstd2 = rms_calc(pmt_d[mask][:, 4])\n",
    "wmean3, wrms3, wstd3 = rms_calc(pmt_d[mask][:, 5])\n",
    "\n",
    "print(\"Rotation statistics (No weighted, Remove data < 1985)\")\n",
    "print(\"    Mean   RMS  Std\")\n",
    "print(\"    uas    uas  uas\")\n",
    "print(\"R1  {:+4.0f}  {:4.0f}  {:.0f}\".format(wmean1, wrms1, wstd1))\n",
    "print(\"R2  {:+4.0f}  {:4.0f}  {:.0f}\".format(wmean2, wrms2, wstd2))\n",
    "print(\"R3  {:+4.0f}  {:4.0f}  {:.0f}\".format(wmean3, wrms3, wstd3))\n",
    "\n",
    "wmean1, wrms1, wstd1 = rms_calc(pmt_d[mask][:, 3], err_d[mask][:, 3])\n",
    "wmean2, wrms2, wstd2 = rms_calc(pmt_d[mask][:, 4], err_d[mask][:, 4])\n",
    "wmean3, wrms3, wstd3 = rms_calc(pmt_d[mask][:, 5], err_d[mask][:, 5])\n",
    "\n",
    "print(\"Rotation statistics (Weighted, Remove data < 1985)\")\n",
    "print(\"    Mean  WRMS Std\")\n",
    "print(\"    uas   uas  uas\")\n",
    "print(\"R1  {:+4.0f}  {:.0f}  {:.0f}\".format(wmean1, wrms1, wstd1))\n",
    "print(\"R2  {:+4.0f}  {:.0f}  {:.0f}\".format(wmean2, wrms2, wstd2))\n",
    "print(\"R3  {:+4.0f}  {:.0f}  {:.0f}\".format(wmean3, wrms3, wstd3))"
   ]
  },
  {
   "cell_type": "code",
   "execution_count": null,
   "metadata": {
    "ExecuteTime": {
     "end_time": "2021-06-09T03:29:42.537127Z",
     "start_time": "2021-06-09T03:29:42.487Z"
    }
   },
   "outputs": [],
   "source": [
    "mask = (years>=1990)"
   ]
  },
  {
   "cell_type": "code",
   "execution_count": null,
   "metadata": {
    "ExecuteTime": {
     "end_time": "2021-06-09T03:29:42.539162Z",
     "start_time": "2021-06-09T03:29:42.488Z"
    }
   },
   "outputs": [],
   "source": [
    "wmean1, wrms1, wstd1 = rms_calc(pmt_d[mask][:, 3])\n",
    "wmean2, wrms2, wstd2 = rms_calc(pmt_d[mask][:, 4])\n",
    "wmean3, wrms3, wstd3 = rms_calc(pmt_d[mask][:, 5])\n",
    "\n",
    "print(\"Rotation statistics (No weighted, Remove data < 1990)\")\n",
    "print(\"    Mean   RMS  Std\")\n",
    "print(\"    uas    uas  uas\")\n",
    "print(\"R1  {:+4.0f}  {:4.0f}  {:.0f}\".format(wmean1, wrms1, wstd1))\n",
    "print(\"R2  {:+4.0f}  {:4.0f}  {:.0f}\".format(wmean2, wrms2, wstd2))\n",
    "print(\"R3  {:+4.0f}  {:4.0f}  {:.0f}\".format(wmean3, wrms3, wstd3))\n",
    "\n",
    "wmean1, wrms1, wstd1 = rms_calc(pmt_d[mask][:, 3], err_d[mask][:, 3])\n",
    "wmean2, wrms2, wstd2 = rms_calc(pmt_d[mask][:, 4], err_d[mask][:, 4])\n",
    "wmean3, wrms3, wstd3 = rms_calc(pmt_d[mask][:, 5], err_d[mask][:, 5])\n",
    "\n",
    "print(\"Rotation statistics (Weighted, Remove data < 1990)\")\n",
    "print(\"    Mean  WRMS Std\")\n",
    "print(\"    uas   uas  uas\")\n",
    "print(\"R1  {:+4.0f}  {:.0f}  {:.0f}\".format(wmean1, wrms1, wstd1))\n",
    "print(\"R2  {:+4.0f}  {:.0f}  {:.0f}\".format(wmean2, wrms2, wstd2))\n",
    "print(\"R3  {:+4.0f}  {:.0f}  {:.0f}\".format(wmean3, wrms3, wstd3))"
   ]
  },
  {
   "cell_type": "markdown",
   "metadata": {},
   "source": [
    "# All sources"
   ]
  },
  {
   "cell_type": "code",
   "execution_count": null,
   "metadata": {
    "ExecuteTime": {
     "end_time": "2021-06-09T03:29:42.540789Z",
     "start_time": "2021-06-09T03:29:42.490Z"
    }
   },
   "outputs": [],
   "source": [
    "fig, ax = plt.subplots()\n",
    "\n",
    "ax.plot(years, N0, \"b-o\", ms=2, lw=0.5, label=\"$N_0$\")\n",
    "ax.plot(years, N1, \"r-s\", ms=2, lw=0.5, label=\"$N_1$\")\n",
    "\n",
    "# ax.set_yscale(\"log\")\n",
    "\n",
    "ax.set_xlabel(\"Epoch (year)\", fontsize=12)\n",
    "ax.set_ylabel(\"No. sources\", fontsize=12)\n",
    "ax.legend()"
   ]
  },
  {
   "cell_type": "code",
   "execution_count": null,
   "metadata": {
    "ExecuteTime": {
     "end_time": "2021-06-09T03:29:42.542715Z",
     "start_time": "2021-06-09T03:29:42.491Z"
    }
   },
   "outputs": [],
   "source": [
    "fig, ax = plt.subplots(figsize=(8, 6))\n",
    "\n",
    "ax.hlines(200, 1984, 2021, ls=\"dashed\", color=\"b\", lw=0.5)\n",
    "ax.hlines(0, 1984, 2021, ls=\"dashed\", color=\"k\", lw=0.5)\n",
    "ax.hlines(-200, 1984, 2021, ls=\"dashed\", color=\"r\", lw=0.5)\n",
    "\n",
    "ax.errorbar(years,\n",
    "            pmt[:, 0] + 200,\n",
    "            yerr=err[:, 0],\n",
    "            color=\"blue\",\n",
    "            ms=3,\n",
    "            fmt=\"-s\",\n",
    "            elinewidth=0.5,\n",
    "            lw=0.2,\n",
    "            label=\"$g_x+0.2$ mas\",\n",
    "            capsize=1)\n",
    "ax.errorbar(years,\n",
    "            pmt[:, 1],\n",
    "            yerr=err[:, 1],\n",
    "            color=\"black\",\n",
    "            ms=3,\n",
    "            fmt=\"-o\",\n",
    "            elinewidth=0.5,\n",
    "            lw=0.2,\n",
    "            label=\"$g_y$\",\n",
    "            capsize=1)\n",
    "ax.errorbar(years,\n",
    "            pmt[:, 2] - 200,\n",
    "            yerr=err[:, 2],\n",
    "            color=\"red\",\n",
    "            ms=3,\n",
    "            fmt=\"-^\",\n",
    "            elinewidth=0.5,\n",
    "            lw=0.2,\n",
    "            label=\"$g_z-0.2$ mas\",\n",
    "            capsize=1)\n",
    "\n",
    "ax.axis([1984, 2021, -400, 400])\n",
    "ax.set_xlabel(\"Epoch (year)\", fontsize=12)\n",
    "ax.set_ylabel(\"Glide ($\\mathrm{\\mu as}$)\", fontsize=12)\n",
    "ax.legend()\n",
    "\n",
    "plt.tight_layout()\n",
    "# plt.savefig(\"../plots/glide-from-yearly-ts.eps\")"
   ]
  },
  {
   "cell_type": "code",
   "execution_count": null,
   "metadata": {
    "ExecuteTime": {
     "end_time": "2021-06-09T03:29:42.544082Z",
     "start_time": "2021-06-09T03:29:42.492Z"
    }
   },
   "outputs": [],
   "source": [
    "fig, ax = plt.subplots(figsize=(8, 6))\n",
    "\n",
    "ax.hlines(200, 1984, 2021, ls=\"dashed\", color=\"b\", lw=0.5)\n",
    "ax.hlines(0, 1984, 2021, ls=\"dashed\", color=\"k\", lw=0.5)\n",
    "ax.hlines(-200, 1984, 2021, ls=\"dashed\", color=\"r\", lw=0.5)\n",
    "\n",
    "ax.errorbar(years,\n",
    "            pmt[:, 3] + 200,\n",
    "            yerr=err[:, 3],\n",
    "            color=\"blue\",\n",
    "            ms=3,\n",
    "            fmt=\"-s\",\n",
    "            elinewidth=0.5,\n",
    "            lw=0.2,\n",
    "            label=\"$\\\\epsilon_x+0.2$ mas\",\n",
    "            capsize=1)\n",
    "ax.errorbar(years,\n",
    "            pmt[:, 4],\n",
    "            yerr=err[:, 4],\n",
    "            color=\"black\",\n",
    "            ms=3,\n",
    "            fmt=\"-o\",\n",
    "            elinewidth=0.5,\n",
    "            lw=0.2,\n",
    "            label=\"$\\\\epsilon_y$\",\n",
    "            capsize=1)\n",
    "ax.errorbar(years,\n",
    "            pmt[:, 5] - 200,\n",
    "            yerr=err[:, 5],\n",
    "            color=\"red\",\n",
    "            ms=3,\n",
    "            fmt=\"-^\",\n",
    "            elinewidth=0.5,\n",
    "            lw=0.2,\n",
    "            label=\"$\\\\epsilon_z-0.2$ mas\",\n",
    "            capsize=1)\n",
    "\n",
    "ax.axis([1984, 2021, -400, 400])\n",
    "ax.set_xlabel(\"Epoch (year)\", fontsize=12)\n",
    "ax.set_ylabel(\"Orientation angle ($\\mathrm{\\mu as}$)\", fontsize=12)\n",
    "ax.legend()\n",
    "\n",
    "plt.tight_layout()\n",
    "# plt.savefig(\"../plots/orient-from-yearly-ts.eps\")"
   ]
  },
  {
   "cell_type": "code",
   "execution_count": null,
   "metadata": {
    "ExecuteTime": {
     "end_time": "2021-06-09T03:29:42.545568Z",
     "start_time": "2021-06-09T03:29:42.494Z"
    }
   },
   "outputs": [],
   "source": [
    "wmean1, wrms1, wstd1 = rms_calc(pmt[:, 3])\n",
    "wmean2, wrms2, wstd2 = rms_calc(pmt[:, 4])\n",
    "wmean3, wrms3, wstd3 = rms_calc(pmt[:, 5])\n",
    "\n",
    "print(\"Rotation statistics (No weighted)\")\n",
    "print(\"    Mean   RMS  Std\")\n",
    "print(\"    uas    uas  uas\")\n",
    "print(\"R1  {:+4.0f}  {:4.0f}  {:.0f}\".format(wmean1, wrms1, wstd1))\n",
    "print(\"R2  {:+4.0f}  {:4.0f}  {:.0f}\".format(wmean2, wrms2, wstd2))\n",
    "print(\"R3  {:+4.0f}  {:4.0f}  {:.0f}\".format(wmean3, wrms3, wstd3))\n",
    "\n",
    "wmean1, wrms1, wstd1 = rms_calc(pmt[:, 3], err[:, 3])\n",
    "wmean2, wrms2, wstd2 = rms_calc(pmt[:, 4], err[:, 4])\n",
    "wmean3, wrms3, wstd3 = rms_calc(pmt[:, 5], err[:, 5])\n",
    "\n",
    "print(\"Rotation statistics (Weighted)\")\n",
    "print(\"    Mean  WRMS Std\")\n",
    "print(\"    uas   uas  uas\")\n",
    "print(\"R1  {:+4.0f}  {:.0f}  {:.0f}\".format(wmean1, wrms1, wstd1))\n",
    "print(\"R2  {:+4.0f}  {:.0f}  {:.0f}\".format(wmean2, wrms2, wstd2))\n",
    "print(\"R3  {:+4.0f}  {:.0f}  {:.0f}\".format(wmean3, wrms3, wstd3))"
   ]
  }
 ],
 "metadata": {
  "hide_input": false,
  "kernelspec": {
   "display_name": "Python 3",
   "language": "python",
   "name": "python3"
  },
  "language_info": {
   "codemirror_mode": {
    "name": "ipython",
    "version": 3
   },
   "file_extension": ".py",
   "mimetype": "text/x-python",
   "name": "python",
   "nbconvert_exporter": "python",
   "pygments_lexer": "ipython3",
   "version": "3.7.10"
  },
  "latex_envs": {
   "LaTeX_envs_menu_present": true,
   "autoclose": false,
   "autocomplete": true,
   "bibliofile": "biblio.bib",
   "cite_by": "apalike",
   "current_citInitial": 1,
   "eqLabelWithNumbers": true,
   "eqNumInitial": 1,
   "hotkeys": {
    "equation": "Ctrl-E",
    "itemize": "Ctrl-I"
   },
   "labels_anchors": false,
   "latex_user_defs": false,
   "report_style_numbering": false,
   "user_envs_cfg": false
  },
  "varInspector": {
   "cols": {
    "lenName": 16,
    "lenType": 16,
    "lenVar": 40
   },
   "kernels_config": {
    "python": {
     "delete_cmd_postfix": "",
     "delete_cmd_prefix": "del ",
     "library": "var_list.py",
     "varRefreshCmd": "print(var_dic_list())"
    },
    "r": {
     "delete_cmd_postfix": ") ",
     "delete_cmd_prefix": "rm(",
     "library": "var_list.r",
     "varRefreshCmd": "cat(var_dic_list()) "
    }
   },
   "types_to_exclude": [
    "module",
    "function",
    "builtin_function_or_method",
    "instance",
    "_Feature"
   ],
   "window_display": false
  }
 },
 "nbformat": 4,
 "nbformat_minor": 4
}
