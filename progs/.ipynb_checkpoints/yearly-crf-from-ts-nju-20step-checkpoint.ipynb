{
 "cells": [
  {
   "cell_type": "markdown",
   "metadata": {},
   "source": [
    "I first constructed annual CRFs and then calculate the orientation angles between them and ICRF3.\n",
    "\n",
    "Here I presented the second method, which is that I use the mean positions of source within one-year windows to construct the annual CRF."
   ]
  },
  {
   "cell_type": "code",
   "execution_count": 1,
   "metadata": {
    "ExecuteTime": {
     "end_time": "2021-06-09T03:33:35.317267Z",
     "start_time": "2021-06-09T03:33:33.836429Z"
    }
   },
   "outputs": [],
   "source": [
    "import matplotlib.pyplot as plt\n",
    "from matplotlib.ticker import MultipleLocator\n",
    "import numpy as np\n",
    "\n",
    "from astropy.table import Table\n",
    "import astropy.units as u\n",
    "\n",
    "# My progs\n",
    "from my_progs.catalog.read_icrf import read_icrf3\n",
    "from my_progs.stat_func.rms_calc import rms_calc\n",
    "from my_progs.catalog.pos_diff import radio_cat_diff_calc\n",
    "from tool_func import calc_orient"
   ]
  },
  {
   "cell_type": "code",
   "execution_count": null,
   "metadata": {
    "ExecuteTime": {
     "start_time": "2021-06-09T03:33:33.829Z"
    }
   },
   "outputs": [],
   "source": [
    "icrf3sx = read_icrf3(wv=\"sx\")\n",
    "\n",
    "icrf3def = icrf3sx[icrf3sx[\"type\"] == \"D\"]"
   ]
  },
  {
   "cell_type": "code",
   "execution_count": null,
   "metadata": {
    "ExecuteTime": {
     "start_time": "2021-06-09T03:33:33.831Z"
    }
   },
   "outputs": [],
   "source": [
    "years = np.concatenate(([1984], np.arange(1986, 2021)))\n",
    "\n",
    "num = len(years)"
   ]
  },
  {
   "cell_type": "code",
   "execution_count": null,
   "metadata": {
    "ExecuteTime": {
     "start_time": "2021-06-09T03:33:33.833Z"
    }
   },
   "outputs": [],
   "source": [
    "N0 = np.zeros_like(years)\n",
    "N1 = np.zeros_like(years)\n",
    "pmt = np.empty((num, 8), dtype=np.float)\n",
    "err = np.empty((num, 8), dtype=np.float)"
   ]
  },
  {
   "cell_type": "code",
   "execution_count": null,
   "metadata": {
    "ExecuteTime": {
     "start_time": "2021-06-09T03:33:33.835Z"
    }
   },
   "outputs": [],
   "source": [
    "N0_d = np.zeros_like(years)\n",
    "N1_d = np.zeros_like(years)\n",
    "pmt_d = np.empty((num, 8), dtype=np.float)\n",
    "err_d = np.empty((num, 8), dtype=np.float)"
   ]
  },
  {
   "cell_type": "code",
   "execution_count": null,
   "metadata": {
    "ExecuteTime": {
     "start_time": "2021-06-09T03:33:33.837Z"
    },
    "scrolled": true
   },
   "outputs": [],
   "source": [
    "for i, year in enumerate(years):\n",
    "    \n",
    "    print(\"\\nProcessing time series within {:d}-{:d}\".format(year, year+1))\n",
    "    \n",
    "    ts_sou = Table.read(\"../data/yearly-ts-nju-20step/{:d}.dat\".format(year), format=\"ascii\")\n",
    "    \n",
    "    \n",
    "    # Add unit information\n",
    "    ts_sou[\"ra\"].unit = u.deg\n",
    "    ts_sou[\"dec\"].unit = u.deg\n",
    "    ts_sou[\"ra_err\"].unit = u.mas\n",
    "    ts_sou[\"dec_err\"].unit = u.mas\n",
    "    \n",
    "    # ICRF3 defining sources\n",
    "    pos_oft = radio_cat_diff_calc(ts_sou, icrf3def, sou_name=\"iers_name\")\n",
    "    N0_d[i], N1_d[i], pmt_d[i], err_d[i] = calc_orient(pos_oft)\n",
    "\n",
    "    # All sources\n",
    "    pos_oft = radio_cat_diff_calc(ts_sou, icrf3sx, sou_name=\"iers_name\")\n",
    "    N0[i], N1[i], pmt[i], err[i] = calc_orient(pos_oft)"
   ]
  },
  {
   "cell_type": "markdown",
   "metadata": {},
   "source": [
    "# ICRF3 defining sources only"
   ]
  },
  {
   "cell_type": "code",
   "execution_count": null,
   "metadata": {
    "ExecuteTime": {
     "start_time": "2021-06-09T03:33:33.840Z"
    }
   },
   "outputs": [],
   "source": [
    "fig, ax = plt.subplots()\n",
    "\n",
    "ax.plot(years, N0_d, \"b-o\", ms=2, lw=0.5, label=\"$N_0$\")\n",
    "ax.plot(years, N1_d, \"r-s\", ms=2, lw=0.5, label=\"$N_1$\")\n",
    "\n",
    "# ax.set_yscale(\"log\")\n",
    "\n",
    "ax.set_xlabel(\"Epoch (year)\", fontsize=12)\n",
    "ax.set_ylabel(\"Nb sources\", fontsize=12)\n",
    "ax.legend()"
   ]
  },
  {
   "cell_type": "code",
   "execution_count": null,
   "metadata": {
    "ExecuteTime": {
     "start_time": "2021-06-09T03:33:33.842Z"
    }
   },
   "outputs": [],
   "source": [
    "fig, ax = plt.subplots(figsize=(8, 6))\n",
    "\n",
    "ax.hlines(200, 1979, 2025, ls=\"dashed\", color=\"b\", lw=0.5)\n",
    "ax.hlines(0, 1979, 2025, ls=\"dashed\", color=\"k\", lw=0.5)\n",
    "ax.hlines(-200, 1979, 2025, ls=\"dashed\", color=\"r\", lw=0.5)\n",
    "\n",
    "ax.errorbar(years,\n",
    "            pmt_d[:, 0] + 200,\n",
    "            yerr=err_d[:, 0],\n",
    "            color=\"blue\",\n",
    "            ms=3,\n",
    "            fmt=\"-s\",\n",
    "            elinewidth=0.5,\n",
    "            lw=0.2,\n",
    "            label=\"$g_x+0.2$ mas\",\n",
    "            capsize=1)\n",
    "ax.errorbar(years+1,\n",
    "            pmt_d[:, 1],\n",
    "            yerr=err_d[:, 1],\n",
    "            color=\"black\",\n",
    "            ms=3,\n",
    "            fmt=\"-o\",\n",
    "            elinewidth=0.5,\n",
    "            lw=0.2,\n",
    "            label=\"$g_y$\",\n",
    "            capsize=1)\n",
    "ax.errorbar(years+1,\n",
    "            pmt_d[:, 3] - 200,\n",
    "            yerr=err_d[:, 3],\n",
    "            color=\"red\",\n",
    "            ms=3,\n",
    "            fmt=\"-^\",\n",
    "            elinewidth=0.5,\n",
    "            lw=0.2,\n",
    "            label=\"$g_x-0.2$ mas\",\n",
    "            capsize=1)\n",
    "\n",
    "ax.set_xlabel(\"Epoch (year)\", fontsize=12)\n",
    "ax.set_ylabel(\"Glide ($\\mathrm{\\mu as}$)\", fontsize=12)\n",
    "\n",
    "ax.axis([1980, 2022, -400, 400])\n",
    "# ax.legend(bbox_to_anchor=(1.01, 1))\n",
    "plt.title(\"Glide from 20-step solution\", fontsize=15)\n",
    "ax.legend()\n",
    "plt.savefig(\"../plots/glide-from-yearly-ts-nju-20step.eps\")"
   ]
  },
  {
   "cell_type": "code",
   "execution_count": null,
   "metadata": {
    "ExecuteTime": {
     "start_time": "2021-06-09T03:33:33.844Z"
    }
   },
   "outputs": [],
   "source": [
    "fig, ax = plt.subplots(figsize=(8, 6))\n",
    "\n",
    "ax.hlines(200, 1979, 2021, ls=\"dashed\", color=\"b\", lw=0.5)\n",
    "ax.hlines(0, 1979, 2021, ls=\"dashed\", color=\"k\", lw=0.5)\n",
    "ax.hlines(-200, 1979, 2021, ls=\"dashed\", color=\"r\", lw=0.5)\n",
    "\n",
    "ax.errorbar(years,\n",
    "            pmt_d[:, 3] + 200,\n",
    "            yerr=err_d[:, 3],\n",
    "            color=\"blue\",\n",
    "            ms=3,\n",
    "            fmt=\"-s\",\n",
    "            elinewidth=0.5,\n",
    "            lw=0.2,\n",
    "            label=\"$\\\\epsilon_x+0.2$ mas\",\n",
    "            capsize=1)\n",
    "ax.errorbar(years,\n",
    "            pmt_d[:, 4],\n",
    "            yerr=err_d[:, 4],\n",
    "            color=\"black\",\n",
    "            ms=3,\n",
    "            fmt=\"-o\",\n",
    "            elinewidth=0.5,\n",
    "            lw=0.2,\n",
    "            label=\"$\\\\epsilon_y$\",\n",
    "            capsize=1)\n",
    "ax.errorbar(years,\n",
    "            pmt_d[:, 5] - 200,\n",
    "            yerr=err_d[:, 5],\n",
    "            color=\"red\",\n",
    "            ms=3,\n",
    "            fmt=\"-^\",\n",
    "            elinewidth=0.5,\n",
    "            lw=0.2,\n",
    "            label=\"$\\\\epsilon_z-0.2$ mas\",\n",
    "            capsize=1)\n",
    "\n",
    "ax.axis([1980, 2021, -400, 400])\n",
    "ax.set_xlabel(\"Epoch (year)\", fontsize=12)\n",
    "ax.set_ylabel(\"Orientation angle ($\\mathrm{\\mu as}$)\", fontsize=12)\n",
    "ax.legend()\n",
    "\n",
    "plt.title(\"Rotation from 20-step solution\", fontsize=15)\n",
    "plt.tight_layout()\n",
    "plt.savefig(\"../plots/orient-from-yearly-ts-nju-20step.eps\")"
   ]
  },
  {
   "cell_type": "code",
   "execution_count": null,
   "metadata": {
    "ExecuteTime": {
     "start_time": "2021-06-09T03:33:33.846Z"
    }
   },
   "outputs": [],
   "source": [
    "wmean1, wrms1, wstd1 = rms_calc(pmt_d[:, 3])\n",
    "wmean2, wrms2, wstd2 = rms_calc(pmt_d[:, 4])\n",
    "wmean3, wrms3, wstd3 = rms_calc(pmt_d[:, 5])\n",
    "\n",
    "print(\"Rotation statistics (No weighted)\")\n",
    "print(\"    Mean   RMS  Std\")\n",
    "print(\"    uas    uas  uas\")\n",
    "print(\"R1  {:+4.0f}  {:4.0f}  {:.0f}\".format(wmean1, wrms1, wstd1))\n",
    "print(\"R2  {:+4.0f}  {:4.0f}  {:.0f}\".format(wmean2, wrms2, wstd2))\n",
    "print(\"R3  {:+4.0f}  {:4.0f}  {:.0f}\".format(wmean3, wrms3, wstd3))\n",
    "\n",
    "\n",
    "wmean1, wrms1, wstd1 = rms_calc(pmt_d[:, 3], err_d[:, 3])\n",
    "wmean2, wrms2, wstd2 = rms_calc(pmt_d[:, 4], err_d[:, 4])\n",
    "wmean3, wrms3, wstd3 = rms_calc(pmt_d[:, 5], err_d[:, 5])\n",
    "\n",
    "print(\"Rotation statistics (Weighted)\")\n",
    "print(\"    Mean  WRMS Std\")\n",
    "print(\"    uas   uas  uas\")\n",
    "print(\"R1  {:+4.0f}  {:.0f}  {:.0f}\".format(wmean1, wrms1, wstd1))\n",
    "print(\"R2  {:+4.0f}  {:.0f}  {:.0f}\".format(wmean2, wrms2, wstd2))\n",
    "print(\"R3  {:+4.0f}  {:.0f}  {:.0f}\".format(wmean3, wrms3, wstd3))"
   ]
  },
  {
   "cell_type": "code",
   "execution_count": null,
   "metadata": {
    "ExecuteTime": {
     "start_time": "2021-06-09T03:33:33.848Z"
    }
   },
   "outputs": [],
   "source": [
    "mask = (years>=1985)"
   ]
  },
  {
   "cell_type": "code",
   "execution_count": null,
   "metadata": {
    "ExecuteTime": {
     "start_time": "2021-06-09T03:33:33.850Z"
    }
   },
   "outputs": [],
   "source": [
    "wmean1, wrms1, wstd1 = rms_calc(pmt_d[mask][:, 3])\n",
    "wmean2, wrms2, wstd2 = rms_calc(pmt_d[mask][:, 4])\n",
    "wmean3, wrms3, wstd3 = rms_calc(pmt_d[mask][:, 5])\n",
    "\n",
    "print(\"Rotation statistics (No weighted, Remove data < 1985)\")\n",
    "print(\"    Mean   RMS  Std\")\n",
    "print(\"    uas    uas  uas\")\n",
    "print(\"R1  {:+4.0f}  {:4.0f}  {:.0f}\".format(wmean1, wrms1, wstd1))\n",
    "print(\"R2  {:+4.0f}  {:4.0f}  {:.0f}\".format(wmean2, wrms2, wstd2))\n",
    "print(\"R3  {:+4.0f}  {:4.0f}  {:.0f}\".format(wmean3, wrms3, wstd3))\n",
    "\n",
    "wmean1, wrms1, wstd1 = rms_calc(pmt_d[mask][:, 3], err_d[mask][:, 3])\n",
    "wmean2, wrms2, wstd2 = rms_calc(pmt_d[mask][:, 4], err_d[mask][:, 4])\n",
    "wmean3, wrms3, wstd3 = rms_calc(pmt_d[mask][:, 5], err_d[mask][:, 5])\n",
    "\n",
    "print(\"Rotation statistics (Weighted, Remove data < 1985)\")\n",
    "print(\"    Mean  WRMS Std\")\n",
    "print(\"    uas   uas  uas\")\n",
    "print(\"R1  {:+4.0f}  {:.0f}  {:.0f}\".format(wmean1, wrms1, wstd1))\n",
    "print(\"R2  {:+4.0f}  {:.0f}  {:.0f}\".format(wmean2, wrms2, wstd2))\n",
    "print(\"R3  {:+4.0f}  {:.0f}  {:.0f}\".format(wmean3, wrms3, wstd3))"
   ]
  },
  {
   "cell_type": "code",
   "execution_count": null,
   "metadata": {
    "ExecuteTime": {
     "start_time": "2021-06-09T03:33:33.852Z"
    }
   },
   "outputs": [],
   "source": [
    "mask = (years>=1990)"
   ]
  },
  {
   "cell_type": "code",
   "execution_count": null,
   "metadata": {
    "ExecuteTime": {
     "start_time": "2021-06-09T03:33:33.854Z"
    }
   },
   "outputs": [],
   "source": [
    "wmean1, wrms1, wstd1 = rms_calc(pmt_d[mask][:, 3])\n",
    "wmean2, wrms2, wstd2 = rms_calc(pmt_d[mask][:, 4])\n",
    "wmean3, wrms3, wstd3 = rms_calc(pmt_d[mask][:, 5])\n",
    "\n",
    "print(\"Rotation statistics (No weighted, Remove data < 1990)\")\n",
    "print(\"    Mean   RMS  Std\")\n",
    "print(\"    uas    uas  uas\")\n",
    "print(\"R1  {:+4.0f}  {:4.0f}  {:.0f}\".format(wmean1, wrms1, wstd1))\n",
    "print(\"R2  {:+4.0f}  {:4.0f}  {:.0f}\".format(wmean2, wrms2, wstd2))\n",
    "print(\"R3  {:+4.0f}  {:4.0f}  {:.0f}\".format(wmean3, wrms3, wstd3))\n",
    "\n",
    "wmean1, wrms1, wstd1 = rms_calc(pmt_d[mask][:, 3], err_d[mask][:, 3])\n",
    "wmean2, wrms2, wstd2 = rms_calc(pmt_d[mask][:, 4], err_d[mask][:, 4])\n",
    "wmean3, wrms3, wstd3 = rms_calc(pmt_d[mask][:, 5], err_d[mask][:, 5])\n",
    "\n",
    "print(\"Rotation statistics (Weighted, Remove data < 1990)\")\n",
    "print(\"    Mean  WRMS Std\")\n",
    "print(\"    uas   uas  uas\")\n",
    "print(\"R1  {:+4.0f}  {:.0f}  {:.0f}\".format(wmean1, wrms1, wstd1))\n",
    "print(\"R2  {:+4.0f}  {:.0f}  {:.0f}\".format(wmean2, wrms2, wstd2))\n",
    "print(\"R3  {:+4.0f}  {:.0f}  {:.0f}\".format(wmean3, wrms3, wstd3))"
   ]
  },
  {
   "cell_type": "markdown",
   "metadata": {},
   "source": [
    "# All sources"
   ]
  },
  {
   "cell_type": "code",
   "execution_count": null,
   "metadata": {
    "ExecuteTime": {
     "start_time": "2021-06-09T03:33:33.855Z"
    }
   },
   "outputs": [],
   "source": [
    "fig, ax = plt.subplots()\n",
    "\n",
    "ax.plot(years, N0, \"b-o\", ms=2, lw=0.5, label=\"$N_0$\")\n",
    "ax.plot(years, N1, \"r-s\", ms=2, lw=0.5, label=\"$N_1$\")\n",
    "\n",
    "# ax.set_yscale(\"log\")\n",
    "\n",
    "ax.set_xlabel(\"Epoch (year)\", fontsize=12)\n",
    "ax.set_ylabel(\"No. sources\", fontsize=12)\n",
    "ax.legend()"
   ]
  },
  {
   "cell_type": "code",
   "execution_count": null,
   "metadata": {
    "ExecuteTime": {
     "start_time": "2021-06-09T03:33:33.857Z"
    }
   },
   "outputs": [],
   "source": [
    "fig, ax = plt.subplots(figsize=(8, 6))\n",
    "\n",
    "ax.hlines(200, 1984, 2021, ls=\"dashed\", color=\"b\", lw=0.5)\n",
    "ax.hlines(0, 1984, 2021, ls=\"dashed\", color=\"k\", lw=0.5)\n",
    "ax.hlines(-200, 1984, 2021, ls=\"dashed\", color=\"r\", lw=0.5)\n",
    "\n",
    "ax.errorbar(years,\n",
    "            pmt[:, 0] + 200,\n",
    "            yerr=err[:, 0],\n",
    "            color=\"blue\",\n",
    "            ms=3,\n",
    "            fmt=\"-s\",\n",
    "            elinewidth=0.5,\n",
    "            lw=0.2,\n",
    "            label=\"$g_x+0.2$ mas\",\n",
    "            capsize=1)\n",
    "ax.errorbar(years,\n",
    "            pmt[:, 1],\n",
    "            yerr=err[:, 1],\n",
    "            color=\"black\",\n",
    "            ms=3,\n",
    "            fmt=\"-o\",\n",
    "            elinewidth=0.5,\n",
    "            lw=0.2,\n",
    "            label=\"$g_y$\",\n",
    "            capsize=1)\n",
    "ax.errorbar(years,\n",
    "            pmt[:, 2] - 200,\n",
    "            yerr=err[:, 2],\n",
    "            color=\"red\",\n",
    "            ms=3,\n",
    "            fmt=\"-^\",\n",
    "            elinewidth=0.5,\n",
    "            lw=0.2,\n",
    "            label=\"$g_z-0.2$ mas\",\n",
    "            capsize=1)\n",
    "\n",
    "ax.axis([1984, 2021, -400, 400])\n",
    "ax.set_xlabel(\"Epoch (year)\", fontsize=12)\n",
    "ax.set_ylabel(\"Glide ($\\mathrm{\\mu as}$)\", fontsize=12)\n",
    "ax.legend()\n",
    "\n",
    "plt.tight_layout()\n",
    "# plt.savefig(\"../plots/glide-from-yearly-ts.eps\")"
   ]
  },
  {
   "cell_type": "code",
   "execution_count": null,
   "metadata": {
    "ExecuteTime": {
     "start_time": "2021-06-09T03:33:33.860Z"
    }
   },
   "outputs": [],
   "source": [
    "fig, ax = plt.subplots(figsize=(8, 6))\n",
    "\n",
    "ax.hlines(200, 1984, 2021, ls=\"dashed\", color=\"b\", lw=0.5)\n",
    "ax.hlines(0, 1984, 2021, ls=\"dashed\", color=\"k\", lw=0.5)\n",
    "ax.hlines(-200, 1984, 2021, ls=\"dashed\", color=\"r\", lw=0.5)\n",
    "\n",
    "ax.errorbar(years,\n",
    "            pmt[:, 3] + 200,\n",
    "            yerr=err[:, 3],\n",
    "            color=\"blue\",\n",
    "            ms=3,\n",
    "            fmt=\"-s\",\n",
    "            elinewidth=0.5,\n",
    "            lw=0.2,\n",
    "            label=\"$\\\\epsilon_x+0.2$ mas\",\n",
    "            capsize=1)\n",
    "ax.errorbar(years,\n",
    "            pmt[:, 4],\n",
    "            yerr=err[:, 4],\n",
    "            color=\"black\",\n",
    "            ms=3,\n",
    "            fmt=\"-o\",\n",
    "            elinewidth=0.5,\n",
    "            lw=0.2,\n",
    "            label=\"$\\\\epsilon_y$\",\n",
    "            capsize=1)\n",
    "ax.errorbar(years,\n",
    "            pmt[:, 5] - 200,\n",
    "            yerr=err[:, 5],\n",
    "            color=\"red\",\n",
    "            ms=3,\n",
    "            fmt=\"-^\",\n",
    "            elinewidth=0.5,\n",
    "            lw=0.2,\n",
    "            label=\"$\\\\epsilon_z-0.2$ mas\",\n",
    "            capsize=1)\n",
    "\n",
    "ax.axis([1984, 2021, -400, 400])\n",
    "ax.set_xlabel(\"Epoch (year)\", fontsize=12)\n",
    "ax.set_ylabel(\"Orientation angle ($\\mathrm{\\mu as}$)\", fontsize=12)\n",
    "ax.legend()\n",
    "\n",
    "plt.tight_layout()\n",
    "# plt.savefig(\"../plots/orient-from-yearly-ts.eps\")"
   ]
  },
  {
   "cell_type": "code",
   "execution_count": null,
   "metadata": {
    "ExecuteTime": {
     "start_time": "2021-06-09T03:33:33.862Z"
    }
   },
   "outputs": [],
   "source": [
    "wmean1, wrms1, wstd1 = rms_calc(pmt[:, 3])\n",
    "wmean2, wrms2, wstd2 = rms_calc(pmt[:, 4])\n",
    "wmean3, wrms3, wstd3 = rms_calc(pmt[:, 5])\n",
    "\n",
    "print(\"Rotation statistics (No weighted)\")\n",
    "print(\"    Mean   RMS  Std\")\n",
    "print(\"    uas    uas  uas\")\n",
    "print(\"R1  {:+4.0f}  {:4.0f}  {:.0f}\".format(wmean1, wrms1, wstd1))\n",
    "print(\"R2  {:+4.0f}  {:4.0f}  {:.0f}\".format(wmean2, wrms2, wstd2))\n",
    "print(\"R3  {:+4.0f}  {:4.0f}  {:.0f}\".format(wmean3, wrms3, wstd3))\n",
    "\n",
    "wmean1, wrms1, wstd1 = rms_calc(pmt[:, 3], err[:, 3])\n",
    "wmean2, wrms2, wstd2 = rms_calc(pmt[:, 4], err[:, 4])\n",
    "wmean3, wrms3, wstd3 = rms_calc(pmt[:, 5], err[:, 5])\n",
    "\n",
    "print(\"Rotation statistics (Weighted)\")\n",
    "print(\"    Mean  WRMS Std\")\n",
    "print(\"    uas   uas  uas\")\n",
    "print(\"R1  {:+4.0f}  {:.0f}  {:.0f}\".format(wmean1, wrms1, wstd1))\n",
    "print(\"R2  {:+4.0f}  {:.0f}  {:.0f}\".format(wmean2, wrms2, wstd2))\n",
    "print(\"R3  {:+4.0f}  {:.0f}  {:.0f}\".format(wmean3, wrms3, wstd3))"
   ]
  }
 ],
 "metadata": {
  "hide_input": false,
  "kernelspec": {
   "display_name": "Python 3",
   "language": "python",
   "name": "python3"
  },
  "language_info": {
   "codemirror_mode": {
    "name": "ipython",
    "version": 3
   },
   "file_extension": ".py",
   "mimetype": "text/x-python",
   "name": "python",
   "nbconvert_exporter": "python",
   "pygments_lexer": "ipython3",
   "version": "3.7.10"
  },
  "latex_envs": {
   "LaTeX_envs_menu_present": true,
   "autoclose": false,
   "autocomplete": true,
   "bibliofile": "biblio.bib",
   "cite_by": "apalike",
   "current_citInitial": 1,
   "eqLabelWithNumbers": true,
   "eqNumInitial": 1,
   "hotkeys": {
    "equation": "Ctrl-E",
    "itemize": "Ctrl-I"
   },
   "labels_anchors": false,
   "latex_user_defs": false,
   "report_style_numbering": false,
   "user_envs_cfg": false
  },
  "varInspector": {
   "cols": {
    "lenName": 16,
    "lenType": 16,
    "lenVar": 40
   },
   "kernels_config": {
    "python": {
     "delete_cmd_postfix": "",
     "delete_cmd_prefix": "del ",
     "library": "var_list.py",
     "varRefreshCmd": "print(var_dic_list())"
    },
    "r": {
     "delete_cmd_postfix": ") ",
     "delete_cmd_prefix": "rm(",
     "library": "var_list.r",
     "varRefreshCmd": "cat(var_dic_list()) "
    }
   },
   "types_to_exclude": [
    "module",
    "function",
    "builtin_function_or_method",
    "instance",
    "_Feature"
   ],
   "window_display": false
  }
 },
 "nbformat": 4,
 "nbformat_minor": 4
}
