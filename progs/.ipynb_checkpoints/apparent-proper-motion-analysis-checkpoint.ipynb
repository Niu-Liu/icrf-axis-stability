{
 "cells": [
  {
   "cell_type": "markdown",
   "metadata": {},
   "source": [
    "I study the apparent proper motion of radio sources to estimate the ICRF axis stability."
   ]
  },
  {
   "cell_type": "code",
   "execution_count": 20,
   "metadata": {
    "ExecuteTime": {
     "end_time": "2021-09-19T09:02:30.960031Z",
     "start_time": "2021-09-19T09:02:30.953046Z"
    }
   },
   "outputs": [],
   "source": [
    "import matplotlib.pyplot as plt\n",
    "# from matplotlib.ticker import MultipleLocator\n",
    "import numpy as np\n",
    "import statsmodels.api as sm\n",
    "from astropy.time import Time\n",
    "from astropy.table import Table, join\n",
    "\n",
    "from statsmodels.iolib.table import (SimpleTable, default_txt_fmt)\n",
    "import seaborn as sns\n",
    "\n",
    "from my_progs.stat_func.rms_calc import rms_calc\n",
    "from my_progs.catalog.ga_func import glide_apex_calc"
   ]
  },
  {
   "cell_type": "code",
   "execution_count": 21,
   "metadata": {
    "ExecuteTime": {
     "end_time": "2021-09-19T09:02:30.996809Z",
     "start_time": "2021-09-19T09:02:30.964758Z"
    }
   },
   "outputs": [],
   "source": [
    "icrf3_def = Table.read(\"../data/icrf3sx-def-sou.txt\", format=\"ascii\")"
   ]
  },
  {
   "cell_type": "markdown",
   "metadata": {},
   "source": [
    "# 1 Distribution of the APM"
   ]
  },
  {
   "cell_type": "code",
   "execution_count": 22,
   "metadata": {
    "ExecuteTime": {
     "end_time": "2021-09-19T09:02:31.023112Z",
     "start_time": "2021-09-19T09:02:31.000050Z"
    }
   },
   "outputs": [],
   "source": [
    "apm_tab = Table.read(\"../data/ts_nju_pm_fit_10sigma-10step.dat\", format=\"ascii.csv\")\n",
    "\n",
    "# convert mas/yr into muas/yr\n",
    "apm_tab[\"pmra\"] = apm_tab[\"pmra\"] * 1e3\n",
    "apm_tab[\"pmra_err\"] = apm_tab[\"pmra_err\"] * 1e3\n",
    "apm_tab[\"pmdec\"] = apm_tab[\"pmdec\"] * 1e3\n",
    "apm_tab[\"pmdec_err\"] = apm_tab[\"pmdec_err\"] * 1e3"
   ]
  },
  {
   "cell_type": "markdown",
   "metadata": {},
   "source": [
    "Remove sources without apparant proper motion estimate."
   ]
  },
  {
   "cell_type": "code",
   "execution_count": 23,
   "metadata": {
    "ExecuteTime": {
     "end_time": "2021-09-19T09:02:31.033647Z",
     "start_time": "2021-09-19T09:02:31.026864Z"
    }
   },
   "outputs": [],
   "source": [
    "mask = apm_tab[\"num_cln\"] >= 5\n",
    "apm_tab = apm_tab[mask]"
   ]
  },
  {
   "cell_type": "markdown",
   "metadata": {},
   "source": [
    "Estimate the empirical cumulative probability function."
   ]
  },
  {
   "cell_type": "code",
   "execution_count": 24,
   "metadata": {
    "ExecuteTime": {
     "end_time": "2021-09-19T09:02:31.040803Z",
     "start_time": "2021-09-19T09:02:31.035642Z"
    }
   },
   "outputs": [],
   "source": [
    "ecdf_pmra = sm.distributions.ECDF(apm_tab[\"pmra\"])\n",
    "ecdf_pmdec = sm.distributions.ECDF(apm_tab[\"pmdec\"])"
   ]
  },
  {
   "cell_type": "markdown",
   "metadata": {},
   "source": [
    "For the ICRF3 defining sources."
   ]
  },
  {
   "cell_type": "code",
   "execution_count": 25,
   "metadata": {
    "ExecuteTime": {
     "end_time": "2021-09-19T09:02:31.058157Z",
     "start_time": "2021-09-19T09:02:31.043838Z"
    }
   },
   "outputs": [],
   "source": [
    "apm_def = join(icrf3_def, apm_tab, keys=\"iers_name\")"
   ]
  },
  {
   "cell_type": "code",
   "execution_count": 26,
   "metadata": {
    "ExecuteTime": {
     "end_time": "2021-09-19T09:02:31.068909Z",
     "start_time": "2021-09-19T09:02:31.062201Z"
    }
   },
   "outputs": [],
   "source": [
    "ecdf_pmra_def = sm.distributions.ECDF(apm_def[\"pmra\"])\n",
    "ecdf_pmdec_def = sm.distributions.ECDF(apm_def[\"pmdec\"])"
   ]
  },
  {
   "cell_type": "markdown",
   "metadata": {},
   "source": [
    "Make the plot."
   ]
  },
  {
   "cell_type": "code",
   "execution_count": 27,
   "metadata": {
    "ExecuteTime": {
     "end_time": "2021-09-19T09:02:31.076342Z",
     "start_time": "2021-09-19T09:02:31.072334Z"
    }
   },
   "outputs": [],
   "source": [
    "bin_array = np.arange(-100, 100, 5)"
   ]
  },
  {
   "cell_type": "code",
   "execution_count": 28,
   "metadata": {
    "ExecuteTime": {
     "end_time": "2021-09-19T09:02:31.810459Z",
     "start_time": "2021-09-19T09:02:31.080257Z"
    },
    "scrolled": false
   },
   "outputs": [
    {
     "name": "stderr",
     "output_type": "stream",
     "text": [
      "The PostScript backend does not support transparency; partially transparent artists will be rendered opaque.\n",
      "The PostScript backend does not support transparency; partially transparent artists will be rendered opaque.\n",
      "The PostScript backend does not support transparency; partially transparent artists will be rendered opaque.\n",
      "The PostScript backend does not support transparency; partially transparent artists will be rendered opaque.\n"
     ]
    },
    {
     "data": {
      "image/png": "[encoded data removed]",
      "text/plain": [
       "<Figure size 432x288 with 2 Axes>"
      ]
     },
     "metadata": {},
     "output_type": "display_data"
    }
   ],
   "source": [
    "fig, ax1 = plt.subplots()\n",
    "\n",
    "color = \"grey\"\n",
    "ax1.hist(apm_tab[\"pmra\"],\n",
    "         bins=bin_array,\n",
    "         color=color,\n",
    "         fill=False,\n",
    "         label=\"All\")\n",
    "ax1.hist(apm_def[\"pmra\"],\n",
    "         bins=bin_array,\n",
    "         color=color,\n",
    "         label=\"Defining\")\n",
    "ax1.set_xlabel(\"$\\\\mu_{\\\\alpha*}$ (mas/yr)\", fontsize=15)\n",
    "ax1.set_ylabel(\"Nb Sources in  bins\", color=color, fontsize=15)\n",
    "ax1.tick_params(axis=\"y\", labelcolor=color)\n",
    "ax1.axis([-100, 100, 0, 400])\n",
    "ax1.legend(loc=\"upper left\")\n",
    "\n",
    "ax2 = ax1.twinx()  # instantiate a second axes that shares the same x-axis\n",
    "\n",
    "color = \"tab:red\"\n",
    "ax2.plot(ecdf_pmra.x,\n",
    "         ecdf_pmra.y * len(apm_tab),\n",
    "         color=color,\n",
    "         lw=1,\n",
    "         ls=\"--\",\n",
    "         label=\"All\")\n",
    "ax2.step(ecdf_pmra_def.x,\n",
    "         ecdf_pmra_def.y * len(apm_def),\n",
    "         color=color,\n",
    "         lw=1,\n",
    "         ls=\"-\",\n",
    "         label=\"Defining\")\n",
    "ax2.tick_params(axis=\"y\", labelcolor=color)\n",
    "ax2.set_ylabel(\"Cumulative Nb sources\", color=color,\n",
    "               fontsize=15)  # we already handled the x-label with ax1\n",
    "ax2.axis([-100, 100, 0, 3500])\n",
    "ax2.legend(loc=\"center right\")\n",
    "\n",
    "plt.tight_layout()\n",
    "plt.savefig(\"../plots/pmra-hist-nju.eps\")"
   ]
  },
  {
   "cell_type": "code",
   "execution_count": 29,
   "metadata": {
    "ExecuteTime": {
     "end_time": "2021-09-19T09:02:31.831522Z",
     "start_time": "2021-09-19T09:02:31.816845Z"
    }
   },
   "outputs": [
    {
     "name": "stdout",
     "output_type": "stream",
     "text": [
      "PM in R.A. (muas/yr)\n",
      "Percentile(%)          0         5        10        25        50        75        90        95       100\n",
      "                -50510.69   -154.90    -77.59    -21.02     -0.33     18.69     69.21    137.59   9731.04\n",
      "[-30, 30]: 60.59%\n"
     ]
    }
   ],
   "source": [
    "per = [0, 5, 10, 25, 50, 75, 90, 95, 100] \n",
    "Q = np.percentile(apm_tab[\"pmra\"], per)\n",
    "\n",
    "line_fmt1 = \"  {:8d}\" * len(per)\n",
    "line_fmt2 = \"  {:8.2f}\" * len(Q)\n",
    "\n",
    "print(\"PM in R.A. (muas/yr)\")\n",
    "print(\"Percentile(%)\", line_fmt1.format(*per))\n",
    "print(\"             \", line_fmt2.format(*Q))\n",
    "\n",
    "lim = 30\n",
    "mask = (np.fabs(apm_tab[\"pmra\"]) < lim)\n",
    "print(\"[-{:2d}, {:2d}]: {:.2f}%\".format(lim, lim, len(apm_tab[mask])/len(apm_tab)*100))"
   ]
  },
  {
   "cell_type": "code",
   "execution_count": 30,
   "metadata": {
    "ExecuteTime": {
     "end_time": "2021-09-19T09:02:32.572139Z",
     "start_time": "2021-09-19T09:02:31.834177Z"
    },
    "scrolled": false
   },
   "outputs": [
    {
     "name": "stderr",
     "output_type": "stream",
     "text": [
      "The PostScript backend does not support transparency; partially transparent artists will be rendered opaque.\n",
      "The PostScript backend does not support transparency; partially transparent artists will be rendered opaque.\n",
      "The PostScript backend does not support transparency; partially transparent artists will be rendered opaque.\n",
      "The PostScript backend does not support transparency; partially transparent artists will be rendered opaque.\n"
     ]
    },
    {
     "data": {
      "image/png": "[encoded data removed]",
      "text/plain": [
       "<Figure size 432x288 with 2 Axes>"
      ]
     },
     "metadata": {},
     "output_type": "display_data"
    }
   ],
   "source": [
    "fig, ax1 = plt.subplots()\n",
    "\n",
    "color = \"grey\"\n",
    "ax1.hist(apm_tab[\"pmdec\"],\n",
    "         bins=bin_array,\n",
    "         color=color,\n",
    "         fill=False,\n",
    "         label=\"All\")\n",
    "ax1.hist(apm_def[\"pmdec\"],\n",
    "         bins=bin_array,\n",
    "         color=color,\n",
    "         label=\"Defining\")\n",
    "ax1.set_xlabel(\"$\\\\mu_{\\\\delta}$ (mas/yr)\", fontsize=15)\n",
    "ax1.set_ylabel(\"Nb Sources in  bins\", color=color, fontsize=15)\n",
    "ax1.tick_params(axis=\"y\", labelcolor=color)\n",
    "ax1.axis([-100, 100, 0, 400])\n",
    "ax1.legend(loc=\"upper left\")\n",
    "\n",
    "ax2 = ax1.twinx()  # instantiate a second axes that shares the same x-axis\n",
    "\n",
    "color = \"tab:red\"\n",
    "ax2.step(ecdf_pmdec.x,\n",
    "         ecdf_pmdec.y * len(apm_tab),\n",
    "         color=color,\n",
    "         lw=1,\n",
    "         ls=\"--\",\n",
    "         label=\"All\")\n",
    "ax2.step(ecdf_pmdec_def.x,\n",
    "         ecdf_pmdec_def.y * len(apm_def),\n",
    "         color=color,\n",
    "         lw=1,\n",
    "         ls=\"-\",\n",
    "         label=\"Defining\")\n",
    "ax2.tick_params(axis=\"y\", labelcolor=color)\n",
    "ax2.set_ylabel(\"Cumulative Nb sources\", color=color,\n",
    "               fontsize=15)  # we already handled the x-label with ax1\n",
    "ax2.axis([-100, 100, 0, 3500])\n",
    "ax2.legend(loc=\"center right\")\n",
    "\n",
    "plt.tight_layout()\n",
    "plt.savefig(\"../plots/pmdec-hist-nju.eps\")"
   ]
  },
  {
   "cell_type": "code",
   "execution_count": 31,
   "metadata": {
    "ExecuteTime": {
     "end_time": "2021-09-19T09:02:32.597429Z",
     "start_time": "2021-09-19T09:02:32.575114Z"
    }
   },
   "outputs": [
    {
     "name": "stdout",
     "output_type": "stream",
     "text": [
      "PM in decl. (muas/yr)\n",
      "Percentile(%)          0         5        10        25        50        75        90        95       100\n",
      "                -14321.89   -214.67   -113.26    -29.08      0.87     32.31    117.52    237.71  15990.78\n",
      "[-30, 30]: 49.09%\n"
     ]
    }
   ],
   "source": [
    "per = [0, 5, 10, 25, 50, 75, 90, 95, 100] \n",
    "Q = np.percentile(apm_tab[\"pmdec\"], per)\n",
    "\n",
    "line_fmt1 = \"  {:8d}\" * len(per)\n",
    "line_fmt2 = \"  {:8.2f}\" * len(Q)\n",
    "\n",
    "print(\"PM in decl. (muas/yr)\")\n",
    "print(\"Percentile(%)\", line_fmt1.format(*per))\n",
    "print(\"             \", line_fmt2.format(*Q))\n",
    "\n",
    "lim = 30\n",
    "mask = (np.fabs(apm_tab[\"pmdec\"]) < lim)\n",
    "print(\"[-{:2d}, {:2d}]: {:.2f}%\".format(lim, lim, len(apm_tab[mask])/len(apm_tab)*100))"
   ]
  },
  {
   "cell_type": "code",
   "execution_count": 32,
   "metadata": {
    "ExecuteTime": {
     "end_time": "2021-09-19T09:02:32.616583Z",
     "start_time": "2021-09-19T09:02:32.602835Z"
    }
   },
   "outputs": [
    {
     "name": "stderr",
     "output_type": "stream",
     "text": [
      "/usr/local/lib/python3.9/site-packages/numpy/core/fromnumeric.py:755: UserWarning: Warning: 'partition' will ignore the 'mask' of the MaskedColumn.\n",
      "  a.partition(kth, axis=axis, kind=kind, order=order)\n"
     ]
    }
   ],
   "source": [
    "mean_pmra = np.mean(apm_tab[\"pmra\"])\n",
    "median_pmra = np.median(apm_tab[\"pmra\"])\n",
    "std_pmra = np.std(apm_tab[\"pmra\"])\n",
    "\n",
    "mean_pmdec = np.mean(apm_tab[\"pmdec\"])\n",
    "median_pmdec = np.median(apm_tab[\"pmdec\"])\n",
    "std_pmdec = np.std(apm_tab[\"pmdec\"])"
   ]
  },
  {
   "cell_type": "code",
   "execution_count": 33,
   "metadata": {
    "ExecuteTime": {
     "end_time": "2021-09-19T09:02:32.635473Z",
     "start_time": "2021-09-19T09:02:32.620647Z"
    }
   },
   "outputs": [],
   "source": [
    "mean_pmra_def = np.mean(apm_def[\"pmra\"])\n",
    "median_pmra_def = np.median(apm_def[\"pmra\"])\n",
    "std_pmra_def = np.std(apm_def[\"pmra\"])\n",
    "\n",
    "mean_pmdec_def = np.mean(apm_def[\"pmdec\"])\n",
    "median_pmdec_def = np.median(apm_def[\"pmdec\"])\n",
    "std_pmdec_def = np.std(apm_def[\"pmdec\"])"
   ]
  },
  {
   "cell_type": "code",
   "execution_count": 34,
   "metadata": {
    "ExecuteTime": {
     "end_time": "2021-09-19T09:02:32.652269Z",
     "start_time": "2021-09-19T09:02:32.640263Z"
    }
   },
   "outputs": [
    {
     "name": "stdout",
     "output_type": "stream",
     "text": [
      "==================================\n",
      "         #sou   Mean Median  Std  \n",
      "----------------------------------\n",
      "All-RA  3608.0 -20.5  -0.32 913.82\n",
      "All-Dec 3608.0  0.16   0.87 597.37\n",
      "Def-RA   293.0  0.39  -0.29  25.13\n",
      "Def-Dec  293.0  -0.9  -0.12  34.84\n",
      "----------------------------------\n",
      "Unit: muas/yr\n"
     ]
    }
   ],
   "source": [
    "se = np.vstack([[len(apm_tab), mean_pmra, median_pmra, std_pmra],\n",
    "                [len(apm_tab), mean_pmdec, median_pmdec, std_pmdec],\n",
    "                [len(apm_def), mean_pmra_def, median_pmra_def, std_pmra_def],\n",
    "                [len(apm_def), mean_pmdec_def, median_pmdec_def, std_pmdec_def]])\n",
    "\n",
    "se = np.round(se, 2)\n",
    "\n",
    "colnames = [\"#sou\", \"Mean\", \"Median\", \"Std\"]\n",
    "rownames = [\"All-RA\", \"All-Dec\", \"Def-RA\", \"Def-Dec\"]\n",
    "\n",
    "tabl = SimpleTable(se, colnames, rownames, txt_fmt=default_txt_fmt)\n",
    "print(tabl)\n",
    "print(\"Unit: muas/yr\")"
   ]
  },
  {
   "cell_type": "markdown",
   "metadata": {},
   "source": [
    "# 2. Global spin from the ICRF3-defining source subset"
   ]
  },
  {
   "cell_type": "code",
   "execution_count": 35,
   "metadata": {
    "ExecuteTime": {
     "end_time": "2021-09-19T09:02:32.670626Z",
     "start_time": "2021-09-19T09:02:32.655749Z"
    }
   },
   "outputs": [],
   "source": [
    "from tool_func import vsh_fit_for_pm, vsh_fit_for_pm2"
   ]
  },
  {
   "cell_type": "code",
   "execution_count": 36,
   "metadata": {
    "ExecuteTime": {
     "end_time": "2021-09-19T09:02:32.741950Z",
     "start_time": "2021-09-19T09:02:32.675806Z"
    }
   },
   "outputs": [],
   "source": [
    "pmt, sig, output = vsh_fit_for_pm(apm_def)\n",
    "pmt1, sig1, output1 = vsh_fit_for_pm2(apm_def)"
   ]
  },
  {
   "cell_type": "code",
   "execution_count": 37,
   "metadata": {
    "ExecuteTime": {
     "end_time": "2021-09-19T09:02:32.764100Z",
     "start_time": "2021-09-19T09:02:32.745233Z"
    }
   },
   "outputs": [
    {
     "name": "stdout",
     "output_type": "stream",
     "text": [
      "===========================\n",
      "    Full +/-  Rotation +/- \n",
      "---------------------------\n",
      "Rx -0.57 0.38    -0.15 0.32\n",
      "Ry   0.9 0.44      1.2 0.41\n",
      "Rz -0.02 0.28    -0.11 0.28\n",
      "R   1.06 0.43     1.22  0.4\n",
      "---------------------------\n",
      "=============\n",
      "   Glide +/- \n",
      "-------------\n",
      "Gx   0.5 0.32\n",
      "Gy -0.94 0.37\n",
      "Gz  -1.2 0.39\n",
      "G    1.6 0.37\n",
      "-------------\n",
      "Unit: muas/yr\n",
      "Number of sources used in the fitting is 293\n"
     ]
    }
   ],
   "source": [
    "se = np.vstack((pmt[:4], sig[:4], pmt1, sig1)).T\n",
    "se = np.round(se, 2)\n",
    "\n",
    "colnames = [\"Full\", \"+/-\", \"Rotation\", \"+/-\"]\n",
    "rownames = [\"Rx\", \"Ry\", \"Rz\", \"R\"]\n",
    "\n",
    "tabl = SimpleTable(se, colnames, rownames, txt_fmt=default_txt_fmt)\n",
    "print(tabl)\n",
    "\n",
    "se = np.vstack((pmt[4:], sig[4:])).T\n",
    "se = np.round(se, 2)\n",
    "\n",
    "colnames = [\"Glide\", \"+/-\"]\n",
    "rownames = [\"Gx\", \"Gy\", \"Gz\", \"G\"]\n",
    "\n",
    "tabl = SimpleTable(se, colnames, rownames, txt_fmt=default_txt_fmt)\n",
    "print(tabl)\n",
    "\n",
    "print(\"Unit: muas/yr\")\n",
    "print(\"Number of sources used in the fitting is\", len(apm_def))"
   ]
  },
  {
   "cell_type": "code",
   "execution_count": 38,
   "metadata": {
    "ExecuteTime": {
     "end_time": "2021-09-19T09:02:32.776260Z",
     "start_time": "2021-09-19T09:02:32.767665Z"
    }
   },
   "outputs": [
    {
     "name": "stdout",
     "output_type": "stream",
     "text": [
      "Apex for rotation (deg)\n",
      "      Full      Rotation\n",
      "RA : 122 +/-  21   97 +/-  15\n",
      "Dec:  -1 +/-  15   -5 +/-  14\n",
      "Apex for glide (deg)\n",
      "      Glide\n",
      "RA : 298 +/-  18  \n",
      "Dec: -48 +/-  13\n"
     ]
    }
   ],
   "source": [
    "print(\"Apex for rotation (deg)\")\n",
    "print(\"      Full      Rotation\")\n",
    "print(\"RA : {:3.0f} +/- {:3.0f}  {:3.0f} +/- {:3.0f}\".format(\n",
    "    output[\"R_ra\"], output[\"R_ra_err\"], output1[\"R_ra\"], output1[\"R_ra_err\"]))\n",
    "print(\"Dec: {:3.0f} +/- {:3.0f}  {:3.0f} +/- {:3.0f}\".format(\n",
    "    output[\"R_dec\"], output[\"R_dec_err\"], output1[\"R_dec\"],\n",
    "    output1[\"R_dec_err\"]))\n",
    "\n",
    "print(\"Apex for glide (deg)\")\n",
    "print(\"      Glide\")\n",
    "print(\"RA : {:3.0f} +/- {:3.0f}  \".format(\n",
    "    output[\"G_ra\"], output[\"G_ra_err\"]))\n",
    "print(\"Dec: {:3.0f} +/- {:3.0f}\".format(\n",
    "    output[\"G_dec\"], output[\"G_dec_err\"]))"
   ]
  }
 ],
 "metadata": {
  "hide_input": false,
  "kernelspec": {
   "display_name": "Python 3 (ipykernel)",
   "language": "python",
   "name": "python3"
  },
  "language_info": {
   "codemirror_mode": {
    "name": "ipython",
    "version": 3
   },
   "file_extension": ".py",
   "mimetype": "text/x-python",
   "name": "python",
   "nbconvert_exporter": "python",
   "pygments_lexer": "ipython3",
   "version": "3.9.7"
  },
  "latex_envs": {
   "LaTeX_envs_menu_present": true,
   "autoclose": false,
   "autocomplete": true,
   "bibliofile": "biblio.bib",
   "cite_by": "apalike",
   "current_citInitial": 1,
   "eqLabelWithNumbers": true,
   "eqNumInitial": 1,
   "hotkeys": {
    "equation": "Ctrl-E",
    "itemize": "Ctrl-I"
   },
   "labels_anchors": false,
   "latex_user_defs": false,
   "report_style_numbering": false,
   "user_envs_cfg": false
  },
  "varInspector": {
   "cols": {
    "lenName": 16,
    "lenType": 16,
    "lenVar": 40
   },
   "kernels_config": {
    "python": {
     "delete_cmd_postfix": "",
     "delete_cmd_prefix": "del ",
     "library": "var_list.py",
     "varRefreshCmd": "print(var_dic_list())"
    },
    "r": {
     "delete_cmd_postfix": ") ",
     "delete_cmd_prefix": "rm(",
     "library": "var_list.r",
     "varRefreshCmd": "cat(var_dic_list()) "
    }
   },
   "types_to_exclude": [
    "module",
    "function",
    "builtin_function_or_method",
    "instance",
    "_Feature"
   ],
   "window_display": false
  }
 },
 "nbformat": 4,
 "nbformat_minor": 4
}
