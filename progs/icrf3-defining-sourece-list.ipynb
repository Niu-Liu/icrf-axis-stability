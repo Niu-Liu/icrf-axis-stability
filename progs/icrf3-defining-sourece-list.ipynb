{
 "cells": [
  {
   "cell_type": "markdown",
   "metadata": {},
   "source": [
    "This notebook is used to generate the defining source lists of ICRF3 at S/X-, K-, and X/Ka-band."
   ]
  },
  {
   "cell_type": "code",
   "execution_count": 1,
   "metadata": {},
   "outputs": [],
   "source": [
    "from my_progs.catalog.read_icrf import read_icrf3"
   ]
  },
  {
   "cell_type": "code",
   "execution_count": 2,
   "metadata": {},
   "outputs": [],
   "source": [
    "sx = read_icrf3(wv=\"sx\")\n",
    "\n",
    "mask = sx[\"type\"] == \"D\"\n",
    "sxdef = sx[mask]\n",
    "\n",
    "sxdef.write(\"../data/icrf3sx-def-sou.txt\", format=\"ascii\",\n",
    "           include_names=[\"iers_name\"], overwrite=True)"
   ]
  },
  {
   "cell_type": "code",
   "execution_count": 3,
   "metadata": {},
   "outputs": [],
   "source": [
    "k = read_icrf3(wv=\"k\")\n",
    "\n",
    "mask = k[\"type\"] == \"D\"\n",
    "kdef = k[mask]\n",
    "\n",
    "kdef.write(\"../data/icrf3k-def-sou.txt\", format=\"ascii\",\n",
    "           include_names=[\"iers_name\"], overwrite=True)"
   ]
  },
  {
   "cell_type": "code",
   "execution_count": 4,
   "metadata": {},
   "outputs": [],
   "source": [
    "xka = read_icrf3(wv=\"xka\")\n",
    "\n",
    "mask = xka[\"type\"] == \"D\"\n",
    "xkadef = xka[mask]\n",
    "\n",
    "xkadef.write(\"../data/icrf3xka-def-sou.txt\", format=\"ascii\",\n",
    "           include_names=[\"iers_name\"], overwrite=True)"
   ]
  }
 ],
 "metadata": {
  "hide_input": false,
  "kernelspec": {
   "display_name": "Python 3",
   "language": "python",
   "name": "python3"
  },
  "language_info": {
   "codemirror_mode": {
    "name": "ipython",
    "version": 3
   },
   "file_extension": ".py",
   "mimetype": "text/x-python",
   "name": "python",
   "nbconvert_exporter": "python",
   "pygments_lexer": "ipython3",
   "version": "3.7.6"
  },
  "latex_envs": {
   "LaTeX_envs_menu_present": true,
   "autoclose": false,
   "autocomplete": true,
   "bibliofile": "biblio.bib",
   "cite_by": "apalike",
   "current_citInitial": 1,
   "eqLabelWithNumbers": true,
   "eqNumInitial": 1,
   "hotkeys": {
    "equation": "Ctrl-E",
    "itemize": "Ctrl-I"
   },
   "labels_anchors": false,
   "latex_user_defs": false,
   "report_style_numbering": false,
   "user_envs_cfg": false
  }
 },
 "nbformat": 4,
 "nbformat_minor": 4
}
