{
 "cells": [
  {
   "cell_type": "code",
   "execution_count": 1,
   "id": "specified-despite",
   "metadata": {
    "ExecuteTime": {
     "end_time": "2021-05-27T01:56:11.860481Z",
     "start_time": "2021-05-27T01:56:10.319852Z"
    }
   },
   "outputs": [],
   "source": [
    "from astropy.table import Table, join,setdiff\n",
    "from my_progs.vlbi.read_arc import get_sess_and_ns"
   ]
  },
  {
   "cell_type": "code",
   "execution_count": 2,
   "id": "oriented-sessions",
   "metadata": {
    "ExecuteTime": {
     "end_time": "2021-05-27T01:56:11.883218Z",
     "start_time": "2021-05-27T01:56:11.863517Z"
    }
   },
   "outputs": [],
   "source": [
    "opa_sess, opa_net = get_sess_and_ns(\"../data/opa2021a.arc\")\n",
    "nju_sess, nju_net = get_sess_and_ns(\"../data/nju_test.arc\")"
   ]
  },
  {
   "cell_type": "code",
   "execution_count": 3,
   "id": "minimal-franklin",
   "metadata": {
    "ExecuteTime": {
     "end_time": "2021-05-27T01:56:11.893996Z",
     "start_time": "2021-05-27T01:56:11.886445Z"
    },
    "scrolled": false
   },
   "outputs": [],
   "source": [
    "opa_sess_table = Table([opa_sess], names=[\"sess_name\"])\n",
    "nju_sess_table = Table([nju_sess], names=[\"sess_name\"])"
   ]
  },
  {
   "cell_type": "code",
   "execution_count": 4,
   "id": "younger-benjamin",
   "metadata": {
    "ExecuteTime": {
     "end_time": "2021-05-27T01:56:11.925491Z",
     "start_time": "2021-05-27T01:56:11.897241Z"
    }
   },
   "outputs": [],
   "source": [
    "com_table = join(opa_sess_table, nju_sess_table, keys=\"sess_name\")\n",
    "com_table.write(\"../data/com_sess.arc\", format=\"ascii\", overwrite=True)"
   ]
  },
  {
   "cell_type": "code",
   "execution_count": 5,
   "id": "fundamental-floor",
   "metadata": {
    "ExecuteTime": {
     "end_time": "2021-05-27T01:56:11.953426Z",
     "start_time": "2021-05-27T01:56:11.928823Z"
    }
   },
   "outputs": [],
   "source": [
    "new_table = setdiff(opa_sess_table, nju_sess_table, keys=\"sess_name\")\n",
    "new_table.write(\"../data/new_sess.arc\", format=\"ascii\", overwrite=True)"
   ]
  }
 ],
 "metadata": {
  "hide_input": false,
  "kernelspec": {
   "display_name": "Python 3",
   "language": "python",
   "name": "python3"
  },
  "language_info": {
   "codemirror_mode": {
    "name": "ipython",
    "version": 3
   },
   "file_extension": ".py",
   "mimetype": "text/x-python",
   "name": "python",
   "nbconvert_exporter": "python",
   "pygments_lexer": "ipython3",
   "version": "3.7.10"
  }
 },
 "nbformat": 4,
 "nbformat_minor": 5
}
