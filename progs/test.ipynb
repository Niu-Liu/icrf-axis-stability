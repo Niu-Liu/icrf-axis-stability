{
 "cells": [
  {
   "cell_type": "code",
   "execution_count": 1,
   "id": "8f6f1170",
   "metadata": {
    "ExecuteTime": {
     "end_time": "2021-10-25T01:49:23.681859Z",
     "start_time": "2021-10-25T01:49:21.879189Z"
    }
   },
   "outputs": [],
   "source": [
    "import os\n",
    "import sys\n",
    "import numpy as np\n",
    "\n",
    "from astropy.table import join, setdiff, Table, vstack"
   ]
  },
  {
   "cell_type": "code",
   "execution_count": 2,
   "id": "2d01c3a3",
   "metadata": {
    "ExecuteTime": {
     "end_time": "2021-10-25T01:50:49.474773Z",
     "start_time": "2021-10-25T01:50:49.465705Z"
    }
   },
   "outputs": [],
   "source": [
    "from myprogs.catalog.read_icrf import read_icrf3\n",
    "from myprogs.vlbi.sou_name import get_souname\n",
    "from myprogs.vlbi.read_lso import read_lso"
   ]
  },
  {
   "cell_type": "code",
   "execution_count": 3,
   "id": "3775b728",
   "metadata": {
    "ExecuteTime": {
     "end_time": "2021-10-21T08:26:27.658546Z",
     "start_time": "2021-10-21T08:26:26.555597Z"
    }
   },
   "outputs": [],
   "source": [
    "icrf3 = read_icrf3(wv=\"sx\")\n",
    "\n",
    "icrf3_def = icrf3[icrf3[\"type\"] == \"D\"]"
   ]
  },
  {
   "cell_type": "code",
   "execution_count": 4,
   "id": "22302cf8",
   "metadata": {
    "ExecuteTime": {
     "end_time": "2021-10-21T08:26:27.696619Z",
     "start_time": "2021-10-21T08:26:27.660866Z"
    }
   },
   "outputs": [],
   "source": [
    "t_souname = get_souname()\n",
    "t_souname.remove_column(\"icrf_name\")"
   ]
  },
  {
   "cell_type": "code",
   "execution_count": 5,
   "id": "de131208",
   "metadata": {
    "ExecuteTime": {
     "end_time": "2021-10-21T08:26:27.707797Z",
     "start_time": "2021-10-21T08:26:27.698201Z"
    }
   },
   "outputs": [],
   "source": [
    "icrf3_def = join(t_souname, icrf3_def, keys=[\"iers_name\"])"
   ]
  },
  {
   "cell_type": "code",
   "execution_count": 7,
   "id": "f986ae08",
   "metadata": {
    "ExecuteTime": {
     "end_time": "2021-10-21T08:26:27.716154Z",
     "start_time": "2021-10-21T08:26:27.712480Z"
    }
   },
   "outputs": [],
   "source": [
    "def write_nnrs(soun):\n",
    "    \"\"\"Net_Rotation constraint source list.\n",
    "\n",
    "    Parameters\n",
    "    ----------\n",
    "    soun: array, string\n",
    "        IVS/IERS designation name of radio source\n",
    "    list_file: Output file\n",
    "    \"\"\"\n",
    "\n",
    "    N = 8  # 8 source pre line\n",
    "\n",
    "    fopt = sys.stdout\n",
    "\n",
    "    for i, souni in enumerate(soun):\n",
    "        if not i % N:\n",
    "            if i:\n",
    "                print(\"\\\\\\n     \", end=\"\", file=fopt)\n",
    "            else:\n",
    "                print(\"     \", end=\"\", file=fopt)\n",
    "\n",
    "        print(\"%-9s\" % souni, end=\"\", file=fopt)\n",
    "\n",
    "#     fopt.close()"
   ]
  },
  {
   "cell_type": "code",
   "execution_count": 8,
   "id": "71b79541",
   "metadata": {
    "ExecuteTime": {
     "end_time": "2021-10-21T08:26:27.725176Z",
     "start_time": "2021-10-21T08:26:27.717644Z"
    }
   },
   "outputs": [
    {
     "name": "stdout",
     "output_type": "stream",
     "text": [
      "     0002-478 IIIZW2   0009-148 0010+405 0013-005 0016+731 0017+200 0035-252 \\\n",
      "     0038-326 0044-846 NGC0262  0047+023 0048-097 0054+161 0059+581 0104-408 \\\n",
      "     0107-610 0110+495 0133+476 0149+218 0159+723 0202+319 0202-172 0208-512 \\\n",
      "     0215+015 0221+067 0227+403 0227-369 0230-790 0234-301 0235+164 0235-618 \\\n",
      "     0237-027 0239+175 0256-005 0300+470 0302+625 NGC1218  0307+380 0308-611 \\\n",
      "     0312+100 0316-444 0322+222 0332-403 0334-131 0346+800 0346-279 0347-211 \\\n",
      "     0355-669 0400-319 0402-362 0403-132 0406-127 0415+398 0420+022 0430+289 \\\n",
      "     0437-454 0454+844 0454-234 0454-810 0458-020 0506+101 0506-612 0507+179 \\\n",
      "     0510+559 0515+208 0522-611 0524+034 0524-485 0529+483 0530-727 0534-340 \\\n",
      "     0536+145 0537-286 0539-057 0544+273 0548+084 0552+398 0556+238 0605-085 \\\n",
      "     0607-157 0613+570 0615+820 0627-199 0641+392 0642-349 0646-306 0648-165 \\\n",
      "     0657+172 0700-197 0700-465 0716+714 0727-115 0736+017 0738+491 0738-674 \\\n",
      "     0742-562 0743+259 0743+277 0743-006 0748+126 0749+540 0759+183 0800+618 \\\n",
      "     0802-010 0804+499 0804-267 0805+410 0808+019 0809-493 0818-128 0826-373 \\\n",
      "     0829+089 0834+250 0834-201 0847-120 0855-716 0912+297 0918-534 0920+390 \\\n",
      "     0926-039 0930-080 0943+105 0951+268 0954+658 0955+476 1004-217 1004-500 \\\n",
      "     1012+232 1015+057 1016-311 1022+194 1022-665 1027-186 1034-374 1036-529 \\\n",
      "     1040+244 1042+071 1053+704 1059+282 1101-536 1111+149 1116-462 1124-186 \\\n",
      "     1130+009 1133-032 1143-245 1143-332 1143-696 1144+402 1144-379 1149-084 \\\n",
      "     1150+497 1219+044 1221+809 1222+131 M84      1226+373 1227+255 1236+077 \\\n",
      "     1243-072 1243-160 1244-255 1245-457 1245-454 1251-713 1300+580 1306-395 \\\n",
      "     1308+328 1312-533 1313-333 1324+224 1325+126 1325-558 1330+022 1330+476 \\\n",
      "     1334-127 1348+308 1351-018 1357+769 1406-076 1406-267 1412-368 1418+546 \\\n",
      "     1420-679 1423+146 1424-418 1428+370 1435-218 1443-162 1448+762 1448-648 \\\n",
      "     1451-400 1502+106 1504+377 1508+572 1510-089 1511-476 1511-558 1514+197 \\\n",
      "     1519-273 1520+319 1520+437 1538+149 1555+001 1556-245 1557+032 1600-445 \\\n",
      "     1602-115 1606+106 1606-398 1608+243 1619-680 1623+578 1624-617 1636+473 \\\n",
      "     1639-062 1642+690 1647-296 1657-261 1659+399 1705+018 1706-174 1717+178 \\\n",
      "     1718-259 1725+044 NRAO530  1737-081 1741-038 1745+624 1749+096 1751+288 \\\n",
      "     1753+204 1754+155 1758+388 1759-396 1806-458 1815-553 1823+689 1831-711 \\\n",
      "     1846+322 1849+670 1908+484 1908-201 1909+161 1921-293 1925-610 1929+226 \\\n",
      "     1929-457 1935-692 1936+046 1936-155 1937-101 1949-052 1951+355 1954-388 \\\n",
      "     2000+148 2000+472 2002-375 2008-159 2017+743 2022-077 2029+121 2036-034 \\\n",
      "     2037+216 2037-253 2052-474 2059+034 2109-811 2111+400 2113+293 2121+547 \\\n",
      "     2142+110 2142-758 2143-156 2149+056 2155+312 2155-304 2209+236 2210-257 \\\n",
      "     2214+350 2215+150 2216-038 2220-351 2227-088 2229+695 2232-488 2236-572 \\\n",
      "     2244-372 2245-328 2254+074 2318+049 2319+317 2319+444 2325-150 2331-240 \\\n",
      "     2335-027 2336+598 2353+816 2353-686 2355-106 2355-534 2356+385 "
     ]
    }
   ],
   "source": [
    "write_nnrs(icrf3_def[\"ivs_name\"])"
   ]
  },
  {
   "cell_type": "markdown",
   "id": "c4352184",
   "metadata": {},
   "source": [
    "Wait for check new data."
   ]
  },
  {
   "cell_type": "code",
   "execution_count": 9,
   "id": "7e9b4537",
   "metadata": {
    "ExecuteTime": {
     "end_time": "2021-10-25T01:53:24.341955Z",
     "start_time": "2021-10-25T01:53:18.881636Z"
    }
   },
   "outputs": [
    {
     "data": {
      "text/plain": [
       "5112"
      ]
     },
     "execution_count": 9,
     "metadata": {},
     "output_type": "execute_result"
    }
   ],
   "source": [
    "opa2021s_data = read_lso(\n",
    "    \"/Users/Neo/Astronomy/data/vlbi/opa/ts-sou-from-glo/opa2021s.lso\")\n",
    "\n",
    "opa2021s_data_g = opa2021s_data.group_by(\"ivs_name\")\n",
    "\n",
    "len(opa2021s_data_g.groups)"
   ]
  },
  {
   "cell_type": "code",
   "execution_count": 11,
   "id": "cc95702f",
   "metadata": {
    "ExecuteTime": {
     "end_time": "2021-10-25T01:54:23.337044Z",
     "start_time": "2021-10-25T01:54:17.832078Z"
    }
   },
   "outputs": [
    {
     "data": {
      "text/plain": [
       "5259"
      ]
     },
     "execution_count": 11,
     "metadata": {},
     "output_type": "execute_result"
    }
   ],
   "source": [
    "opa2021r_data = read_lso(\n",
    "    \"/Users/Neo/Astronomy/data/vlbi/opa/ts-sou/opa2021r.lso\")\n",
    "\n",
    "opa2021r_data_g = opa2021r_data.group_by(\"ivs_name\")\n",
    "\n",
    "len(opa2021r_data_g.groups)"
   ]
  },
  {
   "cell_type": "code",
   "execution_count": null,
   "id": "948c565b",
   "metadata": {},
   "outputs": [],
   "source": []
  }
 ],
 "metadata": {
  "hide_input": false,
  "kernelspec": {
   "display_name": "Python 3 (ipykernel)",
   "language": "python",
   "name": "python3"
  },
  "language_info": {
   "codemirror_mode": {
    "name": "ipython",
    "version": 3
   },
   "file_extension": ".py",
   "mimetype": "text/x-python",
   "name": "python",
   "nbconvert_exporter": "python",
   "pygments_lexer": "ipython3",
   "version": "3.9.7"
  }
 },
 "nbformat": 4,
 "nbformat_minor": 5
}
