{
 "cells": [
  {
   "cell_type": "markdown",
   "metadata": {},
   "source": [
    "I study the apparent proper motion of radio sources to estimate the ICRF axis stability."
   ]
  },
  {
   "cell_type": "code",
   "execution_count": 1,
   "metadata": {
    "ExecuteTime": {
     "end_time": "2021-06-06T06:49:33.807803Z",
     "start_time": "2021-06-06T06:49:31.979800Z"
    }
   },
   "outputs": [],
   "source": [
    "import matplotlib.pyplot as plt\n",
    "# from matplotlib.ticker import MultipleLocator\n",
    "import numpy as np\n",
    "import statsmodels.api as sm\n",
    "from astropy.time import Time\n",
    "from astropy.table import Table, join\n",
    "\n",
    "from statsmodels.iolib.table import (SimpleTable, default_txt_fmt)\n",
    "import seaborn as sns\n",
    "\n",
    "from my_progs.stat_func.rms_calc import rms_calc\n",
    "from my_progs.catalog.ga_func import glide_apex_calc"
   ]
  },
  {
   "cell_type": "code",
   "execution_count": 2,
   "metadata": {
    "ExecuteTime": {
     "end_time": "2021-06-06T06:49:33.830945Z",
     "start_time": "2021-06-06T06:49:33.810370Z"
    }
   },
   "outputs": [],
   "source": [
    "icrf3_def = Table.read(\"../data/icrf3sx-def-sou.txt\", format=\"ascii\")"
   ]
  },
  {
   "cell_type": "markdown",
   "metadata": {},
   "source": [
    "# 1 Distribution of the APM"
   ]
  },
  {
   "cell_type": "code",
   "execution_count": 3,
   "metadata": {
    "ExecuteTime": {
     "end_time": "2021-06-06T06:49:33.844476Z",
     "start_time": "2021-06-06T06:49:33.833173Z"
    }
   },
   "outputs": [],
   "source": [
    "apm_tab = Table.read(\"../logs/ts_pm_fit_3sigma.dat\", format=\"ascii.csv\")\n",
    "\n",
    "# convert mas/yr into muas/yr\n",
    "apm_tab[\"pmra\"] = apm_tab[\"pmra\"] * 1e3\n",
    "apm_tab[\"pmra_err\"] = apm_tab[\"pmra_err\"] * 1e3\n",
    "apm_tab[\"pmdec\"] = apm_tab[\"pmdec\"] * 1e3\n",
    "apm_tab[\"pmdec_err\"] = apm_tab[\"pmdec_err\"] * 1e3"
   ]
  },
  {
   "cell_type": "markdown",
   "metadata": {},
   "source": [
    "Remove sources without apparant proper motion estimate."
   ]
  },
  {
   "cell_type": "code",
   "execution_count": 4,
   "metadata": {
    "ExecuteTime": {
     "end_time": "2021-06-06T06:49:33.852803Z",
     "start_time": "2021-06-06T06:49:33.846669Z"
    }
   },
   "outputs": [],
   "source": [
    "mask = apm_tab[\"num_cln\"] >= 5\n",
    "apm_tab = apm_tab[mask]"
   ]
  },
  {
   "cell_type": "markdown",
   "metadata": {},
   "source": [
    "Estimate the empirical cumulative probability function."
   ]
  },
  {
   "cell_type": "code",
   "execution_count": 5,
   "metadata": {
    "ExecuteTime": {
     "end_time": "2021-06-06T06:49:33.860874Z",
     "start_time": "2021-06-06T06:49:33.856059Z"
    }
   },
   "outputs": [],
   "source": [
    "ecdf_pmra = sm.distributions.ECDF(apm_tab[\"pmra\"])\n",
    "ecdf_pmdec = sm.distributions.ECDF(apm_tab[\"pmdec\"])"
   ]
  },
  {
   "cell_type": "markdown",
   "metadata": {},
   "source": [
    "For the ICRF3 defining sources."
   ]
  },
  {
   "cell_type": "code",
   "execution_count": 6,
   "metadata": {
    "ExecuteTime": {
     "end_time": "2021-06-06T06:49:33.870587Z",
     "start_time": "2021-06-06T06:49:33.862835Z"
    }
   },
   "outputs": [],
   "source": [
    "apm_def = join(icrf3_def, apm_tab, keys=\"iers_name\")"
   ]
  },
  {
   "cell_type": "code",
   "execution_count": 7,
   "metadata": {
    "ExecuteTime": {
     "end_time": "2021-06-06T06:49:33.879812Z",
     "start_time": "2021-06-06T06:49:33.875570Z"
    }
   },
   "outputs": [],
   "source": [
    "ecdf_pmra_def = sm.distributions.ECDF(apm_def[\"pmra\"])\n",
    "ecdf_pmdec_def = sm.distributions.ECDF(apm_def[\"pmdec\"])"
   ]
  },
  {
   "cell_type": "markdown",
   "metadata": {},
   "source": [
    "Make the plot."
   ]
  },
  {
   "cell_type": "code",
   "execution_count": 8,
   "metadata": {
    "ExecuteTime": {
     "end_time": "2021-06-06T06:49:33.887493Z",
     "start_time": "2021-06-06T06:49:33.884731Z"
    }
   },
   "outputs": [],
   "source": [
    "bin_array = np.arange(-100, 100, 5)"
   ]
  },
  {
   "cell_type": "code",
   "execution_count": 9,
   "metadata": {
    "ExecuteTime": {
     "end_time": "2021-06-06T06:49:34.483931Z",
     "start_time": "2021-06-06T06:49:33.889802Z"
    },
    "scrolled": false
   },
   "outputs": [
    {
     "data": {
      "image/png": "[encoded data removed]",
      "text/plain": [
       "<Figure size 432x288 with 2 Axes>"
      ]
     },
     "metadata": {},
     "output_type": "display_data"
    }
   ],
   "source": [
    "fig, ax1 = plt.subplots()\n",
    "\n",
    "color = \"grey\"\n",
    "ax1.hist(apm_tab[\"pmra\"],\n",
    "         bins=bin_array,\n",
    "         color=color,\n",
    "         fill=False,\n",
    "         label=\"All\")\n",
    "ax1.hist(apm_def[\"pmra\"],\n",
    "         bins=bin_array,\n",
    "         color=color,\n",
    "         label=\"Defining\")\n",
    "ax1.set_xlabel(\"$\\\\mu_{\\\\alpha*}$ (mas/yr)\", fontsize=15)\n",
    "ax1.set_ylabel(\"Nb Sources in  bins\", color=color, fontsize=15)\n",
    "ax1.tick_params(axis=\"y\", labelcolor=color)\n",
    "ax1.axis([-100, 100, 0, 180])\n",
    "ax1.legend(loc=\"upper left\")\n",
    "\n",
    "ax2 = ax1.twinx()  # instantiate a second axes that shares the same x-axis\n",
    "\n",
    "color = \"tab:red\"\n",
    "ax2.plot(ecdf_pmra.x,\n",
    "         ecdf_pmra.y * len(apm_tab),\n",
    "         color=color,\n",
    "         lw=1,\n",
    "         ls=\"--\",\n",
    "         label=\"All\")\n",
    "ax2.step(ecdf_pmra_def.x,\n",
    "         ecdf_pmra_def.y * len(apm_def),\n",
    "         color=color,\n",
    "         lw=1,\n",
    "         ls=\"-\",\n",
    "         label=\"Defining\")\n",
    "ax2.tick_params(axis=\"y\", labelcolor=color)\n",
    "ax2.set_ylabel(\"Cumulative Nb sources\", color=color,\n",
    "               fontsize=15)  # we already handled the x-label with ax1\n",
    "ax2.axis([-100, 100, 0, 1000])\n",
    "ax2.legend(loc=\"center right\")\n",
    "\n",
    "plt.tight_layout()\n",
    "# plt.savefig(\"../plots/pmra-hist.eps\")"
   ]
  },
  {
   "cell_type": "code",
   "execution_count": 10,
   "metadata": {
    "ExecuteTime": {
     "end_time": "2021-06-06T06:49:34.494718Z",
     "start_time": "2021-06-06T06:49:34.486041Z"
    }
   },
   "outputs": [
    {
     "name": "stdout",
     "output_type": "stream",
     "text": [
      "PM in R.A. (muas/yr)\n",
      "Percentile(%)          0         5        10        25        50        75        90        95       100\n",
      "                -1845.95    -57.63    -31.71     -9.97      0.70      9.65     29.01     54.79    736.67\n",
      "[-30, 30]: 79.62%\n"
     ]
    }
   ],
   "source": [
    "per = [0, 5, 10, 25, 50, 75, 90, 95, 100] \n",
    "Q = np.percentile(apm_tab[\"pmra\"], per)\n",
    "\n",
    "line_fmt1 = \"  {:8d}\" * len(per)\n",
    "line_fmt2 = \"  {:8.2f}\" * len(Q)\n",
    "\n",
    "print(\"PM in R.A. (muas/yr)\")\n",
    "print(\"Percentile(%)\", line_fmt1.format(*per))\n",
    "print(\"             \", line_fmt2.format(*Q))\n",
    "\n",
    "lim = 30\n",
    "mask = (np.fabs(apm_tab[\"pmra\"]) < lim)\n",
    "print(\"[-{:2d}, {:2d}]: {:.2f}%\".format(lim, lim, len(apm_tab[mask])/len(apm_tab)*100))"
   ]
  },
  {
   "cell_type": "code",
   "execution_count": 11,
   "metadata": {
    "ExecuteTime": {
     "end_time": "2021-06-06T06:49:34.873541Z",
     "start_time": "2021-06-06T06:49:34.496787Z"
    },
    "scrolled": false
   },
   "outputs": [
    {
     "data": {
      "image/png": "[encoded data removed]",
      "text/plain": [
       "<Figure size 432x288 with 2 Axes>"
      ]
     },
     "metadata": {},
     "output_type": "display_data"
    }
   ],
   "source": [
    "fig, ax1 = plt.subplots()\n",
    "\n",
    "\n",
    "color = \"grey\"\n",
    "ax1.hist(apm_tab[\"pmdec\"],\n",
    "         bins=bin_array,\n",
    "         color=color,\n",
    "         fill=False,\n",
    "         label=\"All\")\n",
    "ax1.hist(apm_def[\"pmdec\"],\n",
    "         bins=bin_array,\n",
    "         color=color,\n",
    "         label=\"Defining\")\n",
    "ax1.set_xlabel(\"$\\\\mu_{\\\\delta}$ (mas/yr)\", fontsize=15)\n",
    "ax1.set_ylabel(\"Nb Sources in  bins\", color=color, fontsize=15)\n",
    "ax1.tick_params(axis=\"y\", labelcolor=color)\n",
    "ax1.axis([-100, 100, 0, 180])\n",
    "ax1.legend(loc=\"upper left\")\n",
    "\n",
    "ax2 = ax1.twinx()  # instantiate a second axes that shares the same x-axis\n",
    "\n",
    "color = \"tab:red\"\n",
    "ax2.step(ecdf_pmdec.x,\n",
    "         ecdf_pmdec.y * len(apm_tab),\n",
    "         color=color,\n",
    "         lw=1,\n",
    "         ls=\"--\",\n",
    "         label=\"All\")\n",
    "ax2.step(ecdf_pmdec_def.x,\n",
    "         ecdf_pmdec_def.y * len(apm_def),\n",
    "         color=color,\n",
    "         lw=1,\n",
    "         ls=\"-\",\n",
    "         label=\"Defining\")\n",
    "ax2.tick_params(axis=\"y\", labelcolor=color)\n",
    "ax2.set_ylabel(\"Cumulative Nb sources\", color=color,\n",
    "               fontsize=15)  # we already handled the x-label with ax1\n",
    "ax2.axis([-100, 100, 0, 1000])\n",
    "ax2.legend(loc=\"center right\")\n",
    "\n",
    "plt.tight_layout()\n",
    "# plt.savefig(\"../plots/pmdec-hist.eps\")"
   ]
  },
  {
   "cell_type": "code",
   "execution_count": 12,
   "metadata": {
    "ExecuteTime": {
     "end_time": "2021-06-06T06:49:34.884312Z",
     "start_time": "2021-06-06T06:49:34.875508Z"
    }
   },
   "outputs": [
    {
     "name": "stdout",
     "output_type": "stream",
     "text": [
      "PM in decl. (muas/yr)\n",
      "Percentile(%)          0         5        10        25        50        75        90        95       100\n",
      "                -2278.04   -107.89    -52.32    -14.94     -1.61     12.77     44.88     80.10   1949.62\n",
      "[-30, 30]: 68.99%\n"
     ]
    }
   ],
   "source": [
    "per = [0, 5, 10, 25, 50, 75, 90, 95, 100] \n",
    "Q = np.percentile(apm_tab[\"pmdec\"], per)\n",
    "\n",
    "line_fmt1 = \"  {:8d}\" * len(per)\n",
    "line_fmt2 = \"  {:8.2f}\" * len(Q)\n",
    "\n",
    "print(\"PM in decl. (muas/yr)\")\n",
    "print(\"Percentile(%)\", line_fmt1.format(*per))\n",
    "print(\"             \", line_fmt2.format(*Q))\n",
    "\n",
    "lim = 30\n",
    "mask = (np.fabs(apm_tab[\"pmdec\"]) < lim)\n",
    "print(\"[-{:2d}, {:2d}]: {:.2f}%\".format(lim, lim, len(apm_tab[mask])/len(apm_tab)*100))"
   ]
  },
  {
   "cell_type": "code",
   "execution_count": 13,
   "metadata": {
    "ExecuteTime": {
     "end_time": "2021-06-06T06:49:34.895691Z",
     "start_time": "2021-06-06T06:49:34.886350Z"
    }
   },
   "outputs": [
    {
     "name": "stderr",
     "output_type": "stream",
     "text": [
      "/Users/Neo/scisoft/opt64/miniconda3/lib/python3.7/site-packages/numpy/core/fromnumeric.py:748: UserWarning: Warning: 'partition' will ignore the 'mask' of the MaskedColumn.\n",
      "  a.partition(kth, axis=axis, kind=kind, order=order)\n"
     ]
    }
   ],
   "source": [
    "mean_pmra = np.mean(apm_tab[\"pmra\"])\n",
    "median_pmra = np.median(apm_tab[\"pmra\"])\n",
    "std_pmra = np.std(apm_tab[\"pmra\"])\n",
    "\n",
    "mean_pmdec = np.mean(apm_tab[\"pmdec\"])\n",
    "median_pmdec = np.median(apm_tab[\"pmdec\"])\n",
    "std_pmdec = np.std(apm_tab[\"pmdec\"])"
   ]
  },
  {
   "cell_type": "code",
   "execution_count": 14,
   "metadata": {
    "ExecuteTime": {
     "end_time": "2021-06-06T06:49:34.905347Z",
     "start_time": "2021-06-06T06:49:34.897915Z"
    }
   },
   "outputs": [],
   "source": [
    "mean_pmra_def = np.mean(apm_def[\"pmra\"])\n",
    "median_pmra_def = np.median(apm_def[\"pmra\"])\n",
    "std_pmra_def = np.std(apm_def[\"pmra\"])\n",
    "\n",
    "mean_pmdec_def = np.mean(apm_def[\"pmdec\"])\n",
    "median_pmdec_def = np.median(apm_def[\"pmdec\"])\n",
    "std_pmdec_def = np.std(apm_def[\"pmdec\"])"
   ]
  },
  {
   "cell_type": "code",
   "execution_count": 15,
   "metadata": {
    "ExecuteTime": {
     "end_time": "2021-06-06T06:49:34.916089Z",
     "start_time": "2021-06-06T06:49:34.908078Z"
    }
   },
   "outputs": [
    {
     "name": "stdout",
     "output_type": "stream",
     "text": [
      "=========================================\n",
      "         #sou     Mean   Median    Std   \n",
      "-----------------------------------------\n",
      "All-RA  1006.0  -5.88117    0.7 107.71766\n",
      "All-Dec 1006.0 -11.72768 -1.615 162.34737\n",
      "Def-RA   290.0   2.10359   1.05  23.64274\n",
      "Def-Dec  290.0  -7.04886  -2.97  41.63198\n",
      "-----------------------------------------\n",
      "Unit: muas/yr\n"
     ]
    }
   ],
   "source": [
    "se = np.vstack([[len(apm_tab), mean_pmra, median_pmra, std_pmra],\n",
    "                [len(apm_tab), mean_pmdec, median_pmdec, std_pmdec],\n",
    "                [len(apm_def), mean_pmra_def, median_pmra_def, std_pmra_def],\n",
    "                [len(apm_def), mean_pmdec_def, median_pmdec_def, std_pmdec_def]])\n",
    "\n",
    "se = np.round(se, 5)\n",
    "\n",
    "colnames = [\"#sou\", \"Mean\", \"Median\", \"Std\"]\n",
    "rownames = [\"All-RA\", \"All-Dec\", \"Def-RA\", \"Def-Dec\"]\n",
    "\n",
    "tabl = SimpleTable(se, colnames, rownames, txt_fmt=default_txt_fmt)\n",
    "print(tabl)\n",
    "print(\"Unit: muas/yr\")"
   ]
  },
  {
   "cell_type": "markdown",
   "metadata": {},
   "source": [
    "# 2. Global spin from the ICRF3-defining source subset"
   ]
  },
  {
   "cell_type": "code",
   "execution_count": 16,
   "metadata": {
    "ExecuteTime": {
     "end_time": "2021-06-06T06:49:35.069321Z",
     "start_time": "2021-06-06T06:49:34.918783Z"
    }
   },
   "outputs": [],
   "source": [
    "from tool_func import vsh_fit_for_pm, vsh_fit_for_pm2"
   ]
  },
  {
   "cell_type": "code",
   "execution_count": 17,
   "metadata": {
    "ExecuteTime": {
     "end_time": "2021-06-06T06:49:35.088959Z",
     "start_time": "2021-06-06T06:49:35.071255Z"
    }
   },
   "outputs": [],
   "source": [
    "pmt, sig, output = vsh_fit_for_pm(apm_def)\n",
    "pmt1, sig1, output1 = vsh_fit_for_pm2(apm_def)"
   ]
  },
  {
   "cell_type": "code",
   "execution_count": 18,
   "metadata": {
    "ExecuteTime": {
     "end_time": "2021-06-06T06:49:35.097894Z",
     "start_time": "2021-06-06T06:49:35.090764Z"
    }
   },
   "outputs": [
    {
     "name": "stdout",
     "output_type": "stream",
     "text": [
      "====================================\n",
      "     Full     +/-   Rotation   +/-  \n",
      "------------------------------------\n",
      "Rx -0.65347 0.40808 -0.70584 0.36422\n",
      "Ry   0.2607 0.41389  0.53526   0.386\n",
      "Rz  0.79945 0.28485  0.70165 0.29251\n",
      "R   1.06495 0.34276  1.13005  0.3542\n",
      "------------------------------------\n",
      "Unit: muas/yr\n",
      "Number of sources used in the fitting is 290\n"
     ]
    }
   ],
   "source": [
    "se = np.vstack((pmt[:4], sig[:4], pmt1, sig1)).T\n",
    "se = np.round(se, 5)\n",
    "\n",
    "colnames = [\"Full\", \"+/-\", \"Rotation\", \"+/-\"]\n",
    "rownames = [\"Rx\", \"Ry\", \"Rz\", \"R\"]\n",
    "\n",
    "tabl = SimpleTable(se, colnames, rownames, txt_fmt=default_txt_fmt)\n",
    "print(tabl)\n",
    "print(\"Unit: muas/yr\")\n",
    "print(\"Number of sources used in the fitting is\", len(apm_def))"
   ]
  },
  {
   "cell_type": "code",
   "execution_count": 19,
   "metadata": {
    "ExecuteTime": {
     "end_time": "2021-06-06T06:49:35.104342Z",
     "start_time": "2021-06-06T06:49:35.100336Z"
    }
   },
   "outputs": [
    {
     "name": "stdout",
     "output_type": "stream",
     "text": [
      "Apex (deg)\n",
      "      Full      Rotation\n",
      "RA : 158 +/-  34  143 +/-  25\n",
      "Dec:  49 +/-  19   38 +/-  16\n"
     ]
    }
   ],
   "source": [
    "print(\"Apex (deg)\")\n",
    "print(\"      Full      Rotation\")\n",
    "print(\"RA : {:3.0f} +/- {:3.0f}  {:3.0f} +/- {:3.0f}\".format(\n",
    "    output[\"R_ra\"], output[\"R_ra_err\"], output1[\"R_ra\"], output1[\"R_ra_err\"]))\n",
    "print(\"Dec: {:3.0f} +/- {:3.0f}  {:3.0f} +/- {:3.0f}\".format(\n",
    "    output[\"R_dec\"], output[\"R_dec_err\"], output1[\"R_dec\"],\n",
    "    output1[\"R_dec_err\"]))"
   ]
  },
  {
   "cell_type": "markdown",
   "metadata": {},
   "source": [
    "# 3 Global Spin from the whole sample"
   ]
  },
  {
   "cell_type": "code",
   "execution_count": 20,
   "metadata": {
    "ExecuteTime": {
     "end_time": "2021-06-06T06:49:35.120292Z",
     "start_time": "2021-06-06T06:49:35.106899Z"
    },
    "scrolled": false
   },
   "outputs": [],
   "source": [
    "spin_tab = Table.read(\"../logs/spin_fit.txt\", format=\"ascii\")"
   ]
  },
  {
   "cell_type": "code",
   "execution_count": 21,
   "metadata": {
    "ExecuteTime": {
     "end_time": "2021-06-06T06:49:35.376273Z",
     "start_time": "2021-06-06T06:49:35.122318Z"
    }
   },
   "outputs": [
    {
     "data": {
      "image/png": "[encoded data removed]",
      "text/plain": [
       "<Figure size 432x288 with 1 Axes>"
      ]
     },
     "metadata": {
      "needs_background": "light"
     },
     "output_type": "display_data"
    }
   ],
   "source": [
    "fig, ax = plt.subplots()\n",
    "\n",
    "ax.plot(spin_tab[\"num_sou\"],\n",
    "         spin_tab[\"rx_std\"],\n",
    "         \"b-^\",\n",
    "         ms=5,\n",
    "         ls=\"--\",\n",
    "         lw=0.5,\n",
    "         label=\"$R_1$\")\n",
    "ax.plot(spin_tab[\"num_sou\"],\n",
    "         spin_tab[\"ry_std\"],\n",
    "         \"k-s\",\n",
    "         ms=5,\n",
    "         ls=\"--\",\n",
    "         lw=0.5,\n",
    "         label=\"$R_2$\")\n",
    "ax.plot(spin_tab[\"num_sou\"],\n",
    "         spin_tab[\"rz_std\"],\n",
    "         \"r-o\",\n",
    "         ms=5,\n",
    "         ls=\"--\",\n",
    "         lw=0.5,\n",
    "         label=\"$R_3$\")\n",
    "\n",
    "\n",
    "ax.set_xlabel(\"Number of sources\", fontsize=12)\n",
    "ax.set_ylabel(\"Global spin uncertainty ($\\mathrm{\\mu as/yr}$)\", fontsize=12)\n",
    "\n",
    "# ax.axis([50, 1250, 0.3, 0.5])\n",
    "ax.legend(bbox_to_anchor=(1., 1))\n",
    "\n",
    "plt.tight_layout()\n"
   ]
  },
  {
   "cell_type": "code",
   "execution_count": 22,
   "metadata": {
    "ExecuteTime": {
     "end_time": "2021-06-06T06:49:35.685598Z",
     "start_time": "2021-06-06T06:49:35.384358Z"
    }
   },
   "outputs": [
    {
     "data": {
      "image/png": "[encoded data removed]",
      "text/plain": [
       "<Figure size 432x288 with 1 Axes>"
      ]
     },
     "metadata": {
      "needs_background": "light"
     },
     "output_type": "display_data"
    }
   ],
   "source": [
    "fig, ax = plt.subplots()\n",
    "\n",
    "ax.plot(spin_tab[\"num_sou\"],\n",
    "         spin_tab[\"gx_std\"],\n",
    "         \"b-^\",\n",
    "         ms=5,\n",
    "         ls=\"--\",\n",
    "         lw=0.5,\n",
    "         label=\"$G_1$\")\n",
    "ax.plot(spin_tab[\"num_sou\"],\n",
    "         spin_tab[\"gy_std\"],\n",
    "         \"k-s\",\n",
    "         ms=5,\n",
    "         ls=\"--\",\n",
    "         lw=0.5,\n",
    "         label=\"$G_2$\")\n",
    "ax.plot(spin_tab[\"num_sou\"],\n",
    "         spin_tab[\"gz_std\"],\n",
    "         \"r-o\",\n",
    "         ms=5,\n",
    "         ls=\"--\",\n",
    "         lw=0.5,\n",
    "         label=\"$G_3$\")\n",
    "\n",
    "\n",
    "ax.set_xlabel(\"Number of sources\", fontsize=12)\n",
    "ax.set_ylabel(\"Global glide uncertainty ($\\mathrm{\\mu as/yr}$)\", fontsize=12)\n",
    "\n",
    "# ax.axis([50, 1250, 0.3, 0.5])\n",
    "ax.legend(bbox_to_anchor=(1., 1))\n",
    "\n",
    "plt.tight_layout()\n"
   ]
  },
  {
   "cell_type": "code",
   "execution_count": 23,
   "metadata": {
    "ExecuteTime": {
     "end_time": "2021-06-06T06:49:35.961780Z",
     "start_time": "2021-06-06T06:49:35.689328Z"
    },
    "scrolled": false
   },
   "outputs": [
    {
     "data": {
      "image/png": "[encoded data removed]",
      "text/plain": [
       "<Figure size 576x432 with 1 Axes>"
      ]
     },
     "metadata": {
      "needs_background": "light"
     },
     "output_type": "display_data"
    }
   ],
   "source": [
    "# fig, (ax0, ax1, ax2, ax3) = plt.subplots(figsize=(6, 8), nrows=4, sharex=True)\n",
    "fig, ax = plt.subplots(figsize=(8, 6))\n",
    "\n",
    "ax.hlines(3, 50, 1050, ls=\"dashed\", color=\"r\", lw=0.5)\n",
    "ax.hlines(0, 50, 1050, ls=\"dashed\", color=\"k\", lw=0.5)\n",
    "ax.hlines(-3, 50, 1050, ls=\"dashed\", color=\"b\", lw=0.5)\n",
    "\n",
    "ax.errorbar(spin_tab[\"num_sou\"],\n",
    "             spin_tab[\"rx_mean\"]-3,\n",
    "             yerr=spin_tab[\"rx_std\"],\n",
    "             color=\"blue\",\n",
    "             fmt=\"-s\",\n",
    "             elinewidth=0.5,\n",
    "             lw=0.2,\n",
    "#              label=\"$\\\\omega_x+3\\,\\mathrm{\\mu as/yr}$\",\n",
    "             label=\"$\\\\omega_x-3\\,\\mathrm{dex}$\",\n",
    "             capsize=1)\n",
    "ax.errorbar(spin_tab[\"num_sou\"],\n",
    "             spin_tab[\"ry_mean\"],\n",
    "             yerr=spin_tab[\"ry_std\"],\n",
    "             color=\"black\",\n",
    "             fmt=\"-o\",\n",
    "             elinewidth=0.5,\n",
    "             lw=0.2,\n",
    "             label=\"$\\\\omega_y$\",\n",
    "             capsize=1)\n",
    "ax.errorbar(spin_tab[\"num_sou\"],\n",
    "             spin_tab[\"rz_mean\"]+3,\n",
    "             yerr=spin_tab[\"rz_std\"],\n",
    "             color=\"red\",\n",
    "             fmt=\"-^\",\n",
    "             elinewidth=0.5,\n",
    "             lw=0.2,\n",
    "#              label=\"$\\\\omega_z-3\\,\\mathrm{\\mu as/yr}$\",\n",
    "             label=\"$\\\\omega_z+3\\,\\mathrm{dex}$\",\n",
    "             capsize=1)\n",
    "\n",
    "\n",
    "ax.axis([50, 1050, -4, 4])\n",
    "\n",
    "ax.set_xlabel(\"Number of sources\", fontsize=12)\n",
    "ax.set_ylabel(\"Spin ($\\mathrm{\\mu as/yr}$)\", fontsize=12)\n",
    "\n",
    "ax.legend(loc=\"upper right\")\n",
    "\n",
    "plt.tight_layout()\n",
    "# plt.savefig(\"../plots/spin-from-apm.eps\")"
   ]
  },
  {
   "cell_type": "code",
   "execution_count": 24,
   "metadata": {
    "ExecuteTime": {
     "end_time": "2021-06-06T06:49:36.226678Z",
     "start_time": "2021-06-06T06:49:35.963929Z"
    },
    "scrolled": false
   },
   "outputs": [
    {
     "data": {
      "image/png": "[encoded data removed]",
      "text/plain": [
       "<Figure size 576x432 with 1 Axes>"
      ]
     },
     "metadata": {
      "needs_background": "light"
     },
     "output_type": "display_data"
    }
   ],
   "source": [
    "# fig, (ax0, ax1, ax2, ax3) = plt.subplots(figsize=(6, 8), nrows=4, sharex=True)\n",
    "fig, ax = plt.subplots(figsize=(8, 6))\n",
    "\n",
    "ax.hlines(3, 50, 1050, ls=\"dashed\", color=\"r\", lw=0.5)\n",
    "ax.hlines(0, 50, 1050, ls=\"dashed\", color=\"k\", lw=0.5)\n",
    "ax.hlines(-3, 50, 1050, ls=\"dashed\", color=\"b\", lw=0.5)\n",
    "\n",
    "ax.errorbar(spin_tab[\"num_sou\"],\n",
    "             spin_tab[\"gx_mean\"]-3,\n",
    "             yerr=spin_tab[\"gx_std\"],\n",
    "             color=\"blue\",\n",
    "             fmt=\"-s\",\n",
    "             elinewidth=0.5,\n",
    "             lw=0.2,\n",
    "#              label=\"$\\\\omega_x+3\\,\\mathrm{\\mu as/yr}$\",\n",
    "             label=\"$g_x-3\\,\\mathrm{dex}$\",\n",
    "             capsize=1)\n",
    "ax.errorbar(spin_tab[\"num_sou\"],\n",
    "             spin_tab[\"gy_mean\"],\n",
    "             yerr=spin_tab[\"gy_std\"],\n",
    "             color=\"black\",\n",
    "             fmt=\"-o\",\n",
    "             elinewidth=0.5,\n",
    "             lw=0.2,\n",
    "             label=\"$g_y$\",\n",
    "             capsize=1)\n",
    "ax.errorbar(spin_tab[\"num_sou\"],\n",
    "             spin_tab[\"gz_mean\"]+3,\n",
    "             yerr=spin_tab[\"gz_std\"],\n",
    "             color=\"red\",\n",
    "             fmt=\"-^\",\n",
    "             elinewidth=0.5,\n",
    "             lw=0.2,\n",
    "#              label=\"$\\\\omega_z-3\\,\\mathrm{\\mu as/yr}$\",\n",
    "             label=\"$g_z+3\\,\\mathrm{dex}$\",\n",
    "             capsize=1)\n",
    "\n",
    "\n",
    "ax.axis([50, 1050, -4, 4])\n",
    "\n",
    "ax.set_xlabel(\"Number of sources\", fontsize=12)\n",
    "ax.set_ylabel(\"Glide ($\\mathrm{\\mu as/yr}$)\", fontsize=12)\n",
    "\n",
    "ax.legend(loc=\"lower right\")\n",
    "\n",
    "plt.tight_layout()\n",
    "# plt.savefig(\"../plots/glide-from-apm-nju.eps\")"
   ]
  },
  {
   "cell_type": "code",
   "execution_count": 25,
   "metadata": {
    "ExecuteTime": {
     "end_time": "2021-06-06T06:49:36.232887Z",
     "start_time": "2021-06-06T06:49:36.228593Z"
    }
   },
   "outputs": [],
   "source": [
    "rx_q1q3 = np.vstack((spin_tab[\"rx_q2\"] - spin_tab[\"rx_q1\"],\n",
    "                     spin_tab[\"rx_q3\"] - spin_tab[\"rx_q2\"]))\n",
    "ry_q1q3 = np.vstack((spin_tab[\"ry_q2\"] - spin_tab[\"ry_q1\"],\n",
    "                     spin_tab[\"ry_q3\"] - spin_tab[\"ry_q2\"]))\n",
    "rz_q1q3 = np.vstack((spin_tab[\"rz_q2\"] - spin_tab[\"rz_q1\"],\n",
    "                     spin_tab[\"rz_q3\"] - spin_tab[\"rz_q2\"]))\n",
    "r_q1q3 = np.vstack((spin_tab[\"r_q2\"] - spin_tab[\"r_q1\"],\n",
    "                    spin_tab[\"r_q3\"] - spin_tab[\"r_q2\"]))"
   ]
  },
  {
   "cell_type": "code",
   "execution_count": 26,
   "metadata": {
    "ExecuteTime": {
     "end_time": "2021-06-06T06:49:36.745817Z",
     "start_time": "2021-06-06T06:49:36.235079Z"
    }
   },
   "outputs": [
    {
     "data": {
      "image/png": "[encoded data removed]",
      "text/plain": [
       "<Figure size 432x720 with 4 Axes>"
      ]
     },
     "metadata": {
      "needs_background": "light"
     },
     "output_type": "display_data"
    }
   ],
   "source": [
    "fig, (ax0, ax1, ax2, ax3) = plt.subplots(figsize=(6, 10), nrows=4, sharex=True)\n",
    "\n",
    "ax0.errorbar(spin_tab[\"num_sou\"],\n",
    "             spin_tab[\"rx_q2\"],\n",
    "             yerr=rx_q1q3,\n",
    "             color=\"blue\",\n",
    "             fmt=\"-s\",\n",
    "             elinewidth=0.5,\n",
    "             lw=0.5,\n",
    "             label=\"$R_1$\",\n",
    "             capsize=3)\n",
    "ax1.errorbar(spin_tab[\"num_sou\"],\n",
    "             spin_tab[\"ry_q2\"],\n",
    "             yerr=ry_q1q3,\n",
    "             color=\"black\",\n",
    "             fmt=\"-o\",\n",
    "             elinewidth=0.5,\n",
    "             lw=0.5,\n",
    "             label=\"$R_2$\",\n",
    "             capsize=3)\n",
    "ax2.errorbar(spin_tab[\"num_sou\"],\n",
    "             spin_tab[\"rz_q2\"],\n",
    "             yerr=rz_q1q3,\n",
    "             color=\"red\",\n",
    "             fmt=\"-^\",\n",
    "             elinewidth=0.5,\n",
    "             lw=0.5,\n",
    "             label=\"$R_3$\",\n",
    "             capsize=3)\n",
    "ax3.errorbar(spin_tab[\"num_sou\"],\n",
    "             spin_tab[\"r_q2\"],\n",
    "             yerr=r_q1q3,\n",
    "             color=\"green\",\n",
    "             fmt=\"-v\",\n",
    "             elinewidth=0.5,\n",
    "             lw=0.5,\n",
    "             label=\"$R$\",\n",
    "             capsize=3)\n",
    "\n",
    "ax3.set_xlabel(\"Number of sources\", fontsize=15)\n",
    "ax0.set_ylabel(\"$\\\\omega_x$ ($\\mathrm{\\mu as/yr}$)\", fontsize=15)\n",
    "ax1.set_ylabel(\"$\\\\omega_y$ ($\\mathrm{\\mu as/yr}$)\", fontsize=15)\n",
    "ax2.set_ylabel(\"$\\\\omega_z$ ($\\mathrm{\\mu as/yr}$)\", fontsize=15)\n",
    "ax3.set_ylabel(\"$\\\\omega$ ($\\mathrm{\\mu as/yr}$)\", fontsize=15)\n",
    "\n",
    "plt.tight_layout()\n",
    "# plt.savefig(\"../plots/spin-from-apm.eps\")"
   ]
  },
  {
   "cell_type": "code",
   "execution_count": 27,
   "metadata": {
    "ExecuteTime": {
     "end_time": "2021-06-06T06:49:36.755092Z",
     "start_time": "2021-06-06T06:49:36.748341Z"
    }
   },
   "outputs": [
    {
     "name": "stdout",
     "output_type": "stream",
     "text": [
      "No weighted\n",
      "    Mean    RMS   Std\n",
      "   uas/yr uas/yr uas/yr\n",
      "R1  -0.66   0.68   0.07\n",
      "R2  -0.14   0.16   0.07\n",
      "R3  +0.58   0.60   0.05\n"
     ]
    }
   ],
   "source": [
    "wmean1, wrms1, wstd1 = rms_calc(spin_tab[\"rx_mean\"])\n",
    "wmean2, wrms2, wstd2 = rms_calc(spin_tab[\"ry_mean\"])\n",
    "wmean3, wrms3, wstd3 = rms_calc(spin_tab[\"rz_mean\"])\n",
    "\n",
    "print(\"No weighted\")\n",
    "print(\"    Mean    RMS   Std\")\n",
    "print(\"   uas/yr uas/yr uas/yr\")\n",
    "print(\"R1  {:+4.2f}   {:4.2f}   {:.2f}\".format(wmean1, wrms1, wstd1))\n",
    "print(\"R2  {:+4.2f}   {:4.2f}   {:.2f}\".format(wmean2, wrms2, wstd2))\n",
    "print(\"R3  {:+4.2f}   {:4.2f}   {:.2f}\".format(wmean3, wrms3, wstd3)) "
   ]
  },
  {
   "cell_type": "code",
   "execution_count": 28,
   "metadata": {
    "ExecuteTime": {
     "end_time": "2021-06-06T06:49:36.763403Z",
     "start_time": "2021-06-06T06:49:36.757497Z"
    },
    "scrolled": true
   },
   "outputs": [
    {
     "name": "stdout",
     "output_type": "stream",
     "text": [
      "Weighted\n",
      "    Mean   WRMS   Std\n",
      "   uas/yr uas/yr uas/yr\n",
      "R1  -0.70   0.70   0.01\n",
      "R2  -0.20   0.20   0.01\n",
      "R3  +0.55   0.55   0.01\n"
     ]
    }
   ],
   "source": [
    "wmean1, wrms1, wstd1 = rms_calc(spin_tab[\"rx_mean\"], spin_tab[\"rx_std\"])\n",
    "wmean2, wrms2, wstd2 = rms_calc(spin_tab[\"ry_mean\"], spin_tab[\"ry_std\"])\n",
    "wmean3, wrms3, wstd3 = rms_calc(spin_tab[\"rz_mean\"], spin_tab[\"rz_std\"])\n",
    "\n",
    "print(\"Weighted\")\n",
    "print(\"    Mean   WRMS   Std\")\n",
    "print(\"   uas/yr uas/yr uas/yr\")\n",
    "print(\"R1  {:+4.2f}   {:4.2f}   {:.2f}\".format(wmean1, wrms1, wstd1))\n",
    "print(\"R2  {:+4.2f}   {:4.2f}   {:.2f}\".format(wmean2, wrms2, wstd2))\n",
    "print(\"R3  {:+4.2f}   {:4.2f}   {:.2f}\".format(wmean3, wrms3, wstd3)) "
   ]
  },
  {
   "cell_type": "code",
   "execution_count": 29,
   "metadata": {
    "ExecuteTime": {
     "end_time": "2021-06-06T06:49:36.771408Z",
     "start_time": "2021-06-06T06:49:36.766879Z"
    }
   },
   "outputs": [
    {
     "name": "stdout",
     "output_type": "stream",
     "text": [
      "The amplitude is 0.908 dex, apex of (195.62, 36.89) deg.\n"
     ]
    }
   ],
   "source": [
    "R = np.array([wmean1, wmean2, wmean3])\n",
    "r, RAdeg, DCdeg = glide_apex_calc(R)\n",
    "\n",
    "print(\"The amplitude is {:.3f} dex, \"\n",
    "      \"apex of ({:.2f}, {:.2f}) deg.\".format(r, RAdeg, DCdeg))"
   ]
  },
  {
   "cell_type": "code",
   "execution_count": 30,
   "metadata": {
    "ExecuteTime": {
     "end_time": "2021-06-06T06:49:36.779772Z",
     "start_time": "2021-06-06T06:49:36.774130Z"
    }
   },
   "outputs": [
    {
     "name": "stdout",
     "output_type": "stream",
     "text": [
      "No weighted\n",
      "    Mean    RMS   Std\n",
      "   uas/yr uas/yr uas/yr\n",
      "G1  +0.28   0.30   0.08\n",
      "G2  -0.53   0.55   0.02\n",
      "G3  -1.94   1.99   0.07\n"
     ]
    }
   ],
   "source": [
    "wmean1, wrms1, wstd1 = rms_calc(spin_tab[\"gx_mean\"])\n",
    "wmean2, wrms2, wstd2 = rms_calc(spin_tab[\"gy_mean\"])\n",
    "wmean3, wrms3, wstd3 = rms_calc(spin_tab[\"gz_mean\"])\n",
    "\n",
    "print(\"No weighted\")\n",
    "print(\"    Mean    RMS   Std\")\n",
    "print(\"   uas/yr uas/yr uas/yr\")\n",
    "print(\"G1  {:+4.2f}   {:4.2f}   {:.2f}\".format(wmean1, wrms1, wstd1))\n",
    "print(\"G2  {:+4.2f}   {:4.2f}   {:.2f}\".format(wmean2, wrms2, wstd2))\n",
    "print(\"G3  {:+4.2f}   {:4.2f}   {:.2f}\".format(wmean3, wrms3, wstd3)) "
   ]
  },
  {
   "cell_type": "code",
   "execution_count": 31,
   "metadata": {
    "ExecuteTime": {
     "end_time": "2021-06-06T06:49:36.789011Z",
     "start_time": "2021-06-06T06:49:36.782192Z"
    },
    "scrolled": true
   },
   "outputs": [
    {
     "name": "stdout",
     "output_type": "stream",
     "text": [
      "Weighted\n",
      "    Mean   WRMS   Std\n",
      "   uas/yr uas/yr uas/yr\n",
      "G1  +0.34   0.34   0.01\n",
      "G2  -0.53   0.53   0.01\n",
      "G3  -1.98   1.98   0.01\n"
     ]
    }
   ],
   "source": [
    "wmean1, wrms1, wstd1 = rms_calc(spin_tab[\"gx_mean\"], spin_tab[\"gx_std\"])\n",
    "wmean2, wrms2, wstd2 = rms_calc(spin_tab[\"gy_mean\"], spin_tab[\"gy_std\"])\n",
    "wmean3, wrms3, wstd3 = rms_calc(spin_tab[\"gz_mean\"], spin_tab[\"gz_std\"])\n",
    "\n",
    "print(\"Weighted\")\n",
    "print(\"    Mean   WRMS   Std\")\n",
    "print(\"   uas/yr uas/yr uas/yr\")\n",
    "print(\"G1  {:+4.2f}   {:4.2f}   {:.2f}\".format(wmean1, wrms1, wstd1))\n",
    "print(\"G2  {:+4.2f}   {:4.2f}   {:.2f}\".format(wmean2, wrms2, wstd2))\n",
    "print(\"G3  {:+4.2f}   {:4.2f}   {:.2f}\".format(wmean3, wrms3, wstd3)) "
   ]
  },
  {
   "cell_type": "code",
   "execution_count": 32,
   "metadata": {
    "ExecuteTime": {
     "end_time": "2021-06-06T06:49:36.794278Z",
     "start_time": "2021-06-06T06:49:36.791050Z"
    }
   },
   "outputs": [
    {
     "name": "stdout",
     "output_type": "stream",
     "text": [
      "The amplitude is 2.080 dex, apex of (303.05, -72.38) deg.\n"
     ]
    }
   ],
   "source": [
    "G = np.array([wmean1, wmean2, wmean3])\n",
    "r, RAdeg, DCdeg = glide_apex_calc(G)\n",
    "\n",
    "print(\"The amplitude is {:.3f} dex, \"\n",
    "      \"apex of ({:.2f}, {:.2f}) deg.\".format(r, RAdeg, DCdeg))"
   ]
  },
  {
   "cell_type": "markdown",
   "metadata": {},
   "source": [
    "Consider the time span of J1979.59 - J2021.15."
   ]
  },
  {
   "cell_type": "code",
   "execution_count": 33,
   "metadata": {
    "ExecuteTime": {
     "end_time": "2021-06-06T06:49:36.804036Z",
     "start_time": "2021-06-06T06:49:36.797166Z"
    }
   },
   "outputs": [
    {
     "name": "stdout",
     "output_type": "stream",
     "text": [
      "Spin : 0.7 muas/yr\n",
      "Time span : 41.4 yr\n",
      "Deformation : 27.3 muas\n",
      "Spin : 0.1 muas/yr\n",
      "Time span : 41.4 yr\n",
      "Deformation : 2.9 muas\n",
      "Spin : 0.5 muas/yr\n",
      "Time span : 41.4 yr\n",
      "Deformation : 20.7 muas\n"
     ]
    }
   ],
   "source": [
    "epoch1 = Time(\"1979-08-03\", scale=\"utc\")\n",
    "epoch2 = Time(\"2020-12-31\", scale=\"utc\")\n",
    "\n",
    "dt = epoch2.jyear - epoch1.jyear\n",
    "spin = 0.66\n",
    "\n",
    "print(\"Spin : {:.1f} muas/yr\".format(spin))\n",
    "print(\"Time span : {:.1f} yr\".format(dt))\n",
    "print(\"Deformation : {:.1f} muas\".format(spin*dt))\n",
    "\n",
    "spin = 0.07\n",
    "\n",
    "print(\"Spin : {:.1f} muas/yr\".format(spin))\n",
    "print(\"Time span : {:.1f} yr\".format(dt))\n",
    "print(\"Deformation : {:.1f} muas\".format(spin*dt))\n",
    "\n",
    "spin = 0.50\n",
    "\n",
    "print(\"Spin : {:.1f} muas/yr\".format(spin))\n",
    "print(\"Time span : {:.1f} yr\".format(dt))\n",
    "print(\"Deformation : {:.1f} muas\".format(spin*dt))"
   ]
  },
  {
   "cell_type": "code",
   "execution_count": 34,
   "metadata": {
    "ExecuteTime": {
     "end_time": "2021-06-06T06:49:36.815815Z",
     "start_time": "2021-06-06T06:49:36.806427Z"
    }
   },
   "outputs": [
    {
     "name": "stdout",
     "output_type": "stream",
     "text": [
      "Spin : 0.3 muas/yr\n",
      "Time span : 41.4 yr\n",
      "Deformation : 12.0 muas\n",
      "Spin : 0.3 muas/yr\n",
      "Time span : 41.4 yr\n",
      "Deformation : 13.7 muas\n",
      "Spin : 0.2 muas/yr\n",
      "Time span : 41.4 yr\n",
      "Deformation : 9.1 muas\n"
     ]
    }
   ],
   "source": [
    "epoch1 = Time(\"1979-08-03\", scale=\"utc\")\n",
    "epoch2 = Time(\"2020-12-31\", scale=\"utc\")\n",
    "\n",
    "dt = epoch2.jyear - epoch1.jyear\n",
    "spin = 0.29\n",
    "\n",
    "print(\"Spin : {:.1f} muas/yr\".format(spin))\n",
    "print(\"Time span : {:.1f} yr\".format(dt))\n",
    "print(\"Deformation : {:.1f} muas\".format(spin*dt))\n",
    "\n",
    "spin = 0.33\n",
    "\n",
    "print(\"Spin : {:.1f} muas/yr\".format(spin))\n",
    "print(\"Time span : {:.1f} yr\".format(dt))\n",
    "print(\"Deformation : {:.1f} muas\".format(spin*dt))\n",
    "\n",
    "spin = 0.22\n",
    "\n",
    "print(\"Spin : {:.1f} muas/yr\".format(spin))\n",
    "print(\"Time span : {:.1f} yr\".format(dt))\n",
    "print(\"Deformation : {:.1f} muas\".format(spin*dt))"
   ]
  },
  {
   "cell_type": "code",
   "execution_count": 35,
   "metadata": {
    "ExecuteTime": {
     "end_time": "2021-06-06T06:49:36.823672Z",
     "start_time": "2021-06-06T06:49:36.818169Z"
    }
   },
   "outputs": [
    {
     "name": "stdout",
     "output_type": "stream",
     "text": [
      "Spin : 0.8 muas/yr\n",
      "Time span : 41.4 yr\n",
      "Deformation : 33.1 muas\n"
     ]
    }
   ],
   "source": [
    "epoch1 = Time(\"1979-08-03\", scale=\"utc\")\n",
    "epoch2 = Time(\"2020-12-31\", scale=\"utc\")\n",
    "\n",
    "dt = epoch2.jyear - epoch1.jyear\n",
    "spin = 0.8\n",
    "\n",
    "print(\"Spin : {:.1f} muas/yr\".format(spin))\n",
    "print(\"Time span : {:.1f} yr\".format(dt))\n",
    "print(\"Deformation : {:.1f} muas\".format(spin*dt))"
   ]
  }
 ],
 "metadata": {
  "hide_input": false,
  "kernelspec": {
   "display_name": "Python 3",
   "language": "python",
   "name": "python3"
  },
  "language_info": {
   "codemirror_mode": {
    "name": "ipython",
    "version": 3
   },
   "file_extension": ".py",
   "mimetype": "text/x-python",
   "name": "python",
   "nbconvert_exporter": "python",
   "pygments_lexer": "ipython3",
   "version": "3.7.10"
  },
  "latex_envs": {
   "LaTeX_envs_menu_present": true,
   "autoclose": false,
   "autocomplete": true,
   "bibliofile": "biblio.bib",
   "cite_by": "apalike",
   "current_citInitial": 1,
   "eqLabelWithNumbers": true,
   "eqNumInitial": 1,
   "hotkeys": {
    "equation": "Ctrl-E",
    "itemize": "Ctrl-I"
   },
   "labels_anchors": false,
   "latex_user_defs": false,
   "report_style_numbering": false,
   "user_envs_cfg": false
  },
  "varInspector": {
   "cols": {
    "lenName": 16,
    "lenType": 16,
    "lenVar": 40
   },
   "kernels_config": {
    "python": {
     "delete_cmd_postfix": "",
     "delete_cmd_prefix": "del ",
     "library": "var_list.py",
     "varRefreshCmd": "print(var_dic_list())"
    },
    "r": {
     "delete_cmd_postfix": ") ",
     "delete_cmd_prefix": "rm(",
     "library": "var_list.r",
     "varRefreshCmd": "cat(var_dic_list()) "
    }
   },
   "types_to_exclude": [
    "module",
    "function",
    "builtin_function_or_method",
    "instance",
    "_Feature"
   ],
   "window_display": false
  }
 },
 "nbformat": 4,
 "nbformat_minor": 4
}
