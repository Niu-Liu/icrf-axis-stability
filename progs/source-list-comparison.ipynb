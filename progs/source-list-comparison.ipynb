{
 "cells": [
  {
   "cell_type": "code",
   "execution_count": 1,
   "id": "5ea41ce6",
   "metadata": {
    "ExecuteTime": {
     "end_time": "2021-10-25T02:36:52.177904Z",
     "start_time": "2021-10-25T02:36:50.502908Z"
    }
   },
   "outputs": [],
   "source": [
    "from astropy.table import join, setdiff, Table"
   ]
  },
  {
   "cell_type": "code",
   "execution_count": 2,
   "id": "45ec35b1",
   "metadata": {
    "ExecuteTime": {
     "end_time": "2021-10-25T02:36:52.312334Z",
     "start_time": "2021-10-25T02:36:52.179220Z"
    }
   },
   "outputs": [],
   "source": [
    "from myprogs.catalog.read_icrf import read_icrf3\n",
    "from myprogs.vlbi.sou_name import get_souname\n",
    "from myprogs.vlbi.read_lso import read_lso"
   ]
  },
  {
   "cell_type": "code",
   "execution_count": 3,
   "id": "9701d4af",
   "metadata": {
    "ExecuteTime": {
     "end_time": "2021-10-25T02:36:53.572666Z",
     "start_time": "2021-10-25T02:36:52.314982Z"
    }
   },
   "outputs": [],
   "source": [
    "icrf3 = read_icrf3(wv=\"sx\")\n",
    "\n",
    "icrf3_def = icrf3[icrf3[\"type\"] == \"D\"]"
   ]
  },
  {
   "cell_type": "code",
   "execution_count": 4,
   "id": "2a500583",
   "metadata": {
    "ExecuteTime": {
     "end_time": "2021-10-25T02:36:59.325233Z",
     "start_time": "2021-10-25T02:36:53.575023Z"
    }
   },
   "outputs": [],
   "source": [
    "opa2021s_data = read_lso(\n",
    "    \"/Users/Neo/Astronomy/data/vlbi/opa/ts-sou-from-glo/opa2021s.lso\")\n",
    "\n",
    "opa2021s_sou = opa2021s_data.group_by(\"ivs_name\").groups.keys"
   ]
  },
  {
   "cell_type": "code",
   "execution_count": 6,
   "id": "ab179bac",
   "metadata": {
    "ExecuteTime": {
     "end_time": "2021-10-25T02:37:04.591072Z",
     "start_time": "2021-10-25T02:36:59.338250Z"
    }
   },
   "outputs": [],
   "source": [
    "opa2021r_data = read_lso(\n",
    "    \"/Users/Neo/Astronomy/data/vlbi/opa/ts-sou/opa2021r.lso\")\n",
    "\n",
    "opa2021r_sou = opa2021r_data.group_by(\"ivs_name\").groups.keys"
   ]
  },
  {
   "cell_type": "code",
   "execution_count": 8,
   "id": "360dee8a",
   "metadata": {
    "ExecuteTime": {
     "end_time": "2021-10-25T02:37:04.829906Z",
     "start_time": "2021-10-25T02:37:04.601516Z"
    }
   },
   "outputs": [],
   "source": [
    "nju4step_sou = Table.read(\n",
    "    \"/Users/Neo/Astronomy/data/vlbi/nju/sou-ts/series-4step/sou_list_4_ts.txt\",\n",
    "    format=\"ascii\")"
   ]
  },
  {
   "cell_type": "code",
   "execution_count": 10,
   "id": "8c4517a5",
   "metadata": {
    "ExecuteTime": {
     "end_time": "2021-10-25T02:37:04.992599Z",
     "start_time": "2021-10-25T02:37:04.841890Z"
    }
   },
   "outputs": [],
   "source": [
    "nju10step_sou = Table.read(\n",
    "    \"/Users/Neo/Astronomy/data/vlbi/nju/sou-ts/series-10step/sou_list_4_ts.txt\",\n",
    "    format=\"ascii\")"
   ]
  },
  {
   "cell_type": "code",
   "execution_count": 12,
   "id": "2e563dee",
   "metadata": {
    "ExecuteTime": {
     "end_time": "2021-10-25T02:37:05.144961Z",
     "start_time": "2021-10-25T02:37:05.001684Z"
    }
   },
   "outputs": [],
   "source": [
    "nju20step_sou = Table.read(\n",
    "    \"/Users/Neo/Astronomy/data/vlbi/nju/sou-ts/series-20step/sou_list_4_ts.txt\",\n",
    "    format=\"ascii\")"
   ]
  },
  {
   "cell_type": "code",
   "execution_count": 24,
   "id": "e5bb28a3",
   "metadata": {
    "ExecuteTime": {
     "end_time": "2021-10-25T02:40:42.722083Z",
     "start_time": "2021-10-25T02:40:42.693874Z"
    }
   },
   "outputs": [],
   "source": [
    "opa_arc = Table.read(\"/Users/Neo/Github/icrf-axis-stability/data/opa2021a.arc\",\n",
    "                    format=\"ascii.fixed_width_no_header\", col_starts=[3],\n",
    "                    col_ends=[12], names=[\"sess_name\"])"
   ]
  },
  {
   "cell_type": "code",
   "execution_count": 25,
   "id": "3583845e",
   "metadata": {
    "ExecuteTime": {
     "end_time": "2021-10-25T02:41:14.418707Z",
     "start_time": "2021-10-25T02:41:14.386471Z"
    }
   },
   "outputs": [],
   "source": [
    "nju_arc = Table.read(\"/Users/Neo/Astronomy/data/vlbi/nju/sou-ts/series-4step/nju2021s.arc\",\n",
    "                    format=\"ascii.fixed_width_no_header\", col_starts=[3],\n",
    "                    col_ends=[12], names=[\"sess_name\"])"
   ]
  },
  {
   "cell_type": "code",
   "execution_count": 30,
   "id": "92f84207",
   "metadata": {
    "ExecuteTime": {
     "end_time": "2021-10-25T03:10:37.802758Z",
     "start_time": "2021-10-25T03:10:37.779128Z"
    }
   },
   "outputs": [
    {
     "data": {
      "text/html": [
       "<div><i>Table length=108</i>\n",
       "<table id=\"table140731466265264\" class=\"table-striped table-bordered table-condensed\">\n",
       "<thead><tr><th>sess_name</th></tr></thead>\n",
       "<thead><tr><th>str9</th></tr></thead>\n",
       "<tr><td>05OCT05XG</td></tr>\n",
       "<tr><td>05OCT06XE</td></tr>\n",
       "<tr><td>06FEB23XV</td></tr>\n",
       "<tr><td>07MAR15XF</td></tr>\n",
       "<tr><td>08AUG05XN</td></tr>\n",
       "<tr><td>09JUL01XE</td></tr>\n",
       "<tr><td>10DEC22XE</td></tr>\n",
       "<tr><td>11DEC13XH</td></tr>\n",
       "<tr><td>11NOV23XA</td></tr>\n",
       "<tr><td>11OCT11XH</td></tr>\n",
       "<tr><td>12OCT02XA</td></tr>\n",
       "<tr><td>12OCT04XE</td></tr>\n",
       "<tr><td>13JUL09XN</td></tr>\n",
       "<tr><td>14AUG04XA</td></tr>\n",
       "<tr><td>14SEP03XA</td></tr>\n",
       "<tr><td>15JAN23XC</td></tr>\n",
       "<tr><td>15MAR17XC</td></tr>\n",
       "<tr><td>17APR11XA</td></tr>\n",
       "<tr><td>17DEC27XA</td></tr>\n",
       "<tr><td>17FEB07XH</td></tr>\n",
       "<tr><td>17JAN16XA</td></tr>\n",
       "<tr><td>17SEP12XH</td></tr>\n",
       "<tr><td>18AUG23XE</td></tr>\n",
       "<tr><td>18DEC20XC</td></tr>\n",
       "<tr><td>18JUN19XA</td></tr>\n",
       "<tr><td>18MAY21XA</td></tr>\n",
       "<tr><td>19DEC03XA</td></tr>\n",
       "<tr><td>19NOV12XA</td></tr>\n",
       "<tr><td>20APR28XA</td></tr>\n",
       "<tr><td>20AUG19XA</td></tr>\n",
       "<tr><td>20AUG19XB</td></tr>\n",
       "<tr><td>20FEB05XN</td></tr>\n",
       "<tr><td>20JUL07XB</td></tr>\n",
       "<tr><td>20JUL08XA</td></tr>\n",
       "<tr><td>20JUL15XA</td></tr>\n",
       "<tr><td>20JUL22XA</td></tr>\n",
       "<tr><td>20JUN09XA</td></tr>\n",
       "<tr><td>20JUN24XA</td></tr>\n",
       "<tr><td>20MAR17XA</td></tr>\n",
       "<tr><td>20MAY20XA</td></tr>\n",
       "<tr><td>20MAY25XA</td></tr>\n",
       "<tr><td>20NOV17XA</td></tr>\n",
       "<tr><td>...</td></tr>\n",
       "<tr><td>84JAN14XP</td></tr>\n",
       "<tr><td>85DEC12X</td></tr>\n",
       "<tr><td>87NOV07D</td></tr>\n",
       "<tr><td>88AUG06D</td></tr>\n",
       "<tr><td>88AUG07D</td></tr>\n",
       "<tr><td>88FEB13D</td></tr>\n",
       "<tr><td>88FEB14D</td></tr>\n",
       "<tr><td>88JAN08XI</td></tr>\n",
       "<tr><td>88MAR25D</td></tr>\n",
       "<tr><td>88MAR27D</td></tr>\n",
       "<tr><td>88MAY20D</td></tr>\n",
       "<tr><td>88SEP04D</td></tr>\n",
       "<tr><td>88SEP17D</td></tr>\n",
       "<tr><td>89FEB05D</td></tr>\n",
       "<tr><td>89JUN21XM</td></tr>\n",
       "<tr><td>89JUN23XM</td></tr>\n",
       "<tr><td>89JUN24XM</td></tr>\n",
       "<tr><td>89JUN25XM</td></tr>\n",
       "<tr><td>89JUN26XM</td></tr>\n",
       "<tr><td>89OCT23XO</td></tr>\n",
       "<tr><td>89SEP01XM</td></tr>\n",
       "<tr><td>89SEP04XM</td></tr>\n",
       "<tr><td>89SEP12XM</td></tr>\n",
       "<tr><td>89SEP13XM</td></tr>\n",
       "<tr><td>90DEC18XI</td></tr>\n",
       "<tr><td>90FEB06XO</td></tr>\n",
       "<tr><td>90JAN15X</td></tr>\n",
       "<tr><td>90JUL23DX</td></tr>\n",
       "<tr><td>90JUN30XA</td></tr>\n",
       "<tr><td>90MAY10DX</td></tr>\n",
       "<tr><td>90NOV26MV</td></tr>\n",
       "<tr><td>91APR16XT</td></tr>\n",
       "<tr><td>91DEC05MV</td></tr>\n",
       "<tr><td>91JUN04X</td></tr>\n",
       "<tr><td>91MAY16X</td></tr>\n",
       "<tr><td>91MAY30X</td></tr>\n",
       "<tr><td>92APR30X</td></tr>\n",
       "<tr><td>92FEB10X</td></tr>\n",
       "<tr><td>93FEB16X</td></tr>\n",
       "<tr><td>93JUN16X</td></tr>\n",
       "<tr><td>95OCT11XO</td></tr>\n",
       "<tr><td>96SEP09XA</td></tr>\n",
       "<tr><td>99FEB04XA</td></tr>\n",
       "</table></div>"
      ],
      "text/plain": [
       "<Table length=108>\n",
       "sess_name\n",
       "   str9  \n",
       "---------\n",
       "05OCT05XG\n",
       "05OCT06XE\n",
       "06FEB23XV\n",
       "07MAR15XF\n",
       "08AUG05XN\n",
       "09JUL01XE\n",
       "10DEC22XE\n",
       "11DEC13XH\n",
       "11NOV23XA\n",
       "11OCT11XH\n",
       "12OCT02XA\n",
       "12OCT04XE\n",
       "13JUL09XN\n",
       "14AUG04XA\n",
       "14SEP03XA\n",
       "15JAN23XC\n",
       "15MAR17XC\n",
       "17APR11XA\n",
       "17DEC27XA\n",
       "17FEB07XH\n",
       "17JAN16XA\n",
       "17SEP12XH\n",
       "18AUG23XE\n",
       "18DEC20XC\n",
       "18JUN19XA\n",
       "18MAY21XA\n",
       "19DEC03XA\n",
       "19NOV12XA\n",
       "20APR28XA\n",
       "20AUG19XA\n",
       "20AUG19XB\n",
       "20FEB05XN\n",
       "20JUL07XB\n",
       "20JUL08XA\n",
       "20JUL15XA\n",
       "20JUL22XA\n",
       "20JUN09XA\n",
       "20JUN24XA\n",
       "20MAR17XA\n",
       "20MAY20XA\n",
       "20MAY25XA\n",
       "20NOV17XA\n",
       "      ...\n",
       "84JAN14XP\n",
       " 85DEC12X\n",
       " 87NOV07D\n",
       " 88AUG06D\n",
       " 88AUG07D\n",
       " 88FEB13D\n",
       " 88FEB14D\n",
       "88JAN08XI\n",
       " 88MAR25D\n",
       " 88MAR27D\n",
       " 88MAY20D\n",
       " 88SEP04D\n",
       " 88SEP17D\n",
       " 89FEB05D\n",
       "89JUN21XM\n",
       "89JUN23XM\n",
       "89JUN24XM\n",
       "89JUN25XM\n",
       "89JUN26XM\n",
       "89OCT23XO\n",
       "89SEP01XM\n",
       "89SEP04XM\n",
       "89SEP12XM\n",
       "89SEP13XM\n",
       "90DEC18XI\n",
       "90FEB06XO\n",
       " 90JAN15X\n",
       "90JUL23DX\n",
       "90JUN30XA\n",
       "90MAY10DX\n",
       "90NOV26MV\n",
       "91APR16XT\n",
       "91DEC05MV\n",
       " 91JUN04X\n",
       " 91MAY16X\n",
       " 91MAY30X\n",
       " 92APR30X\n",
       " 92FEB10X\n",
       " 93FEB16X\n",
       " 93JUN16X\n",
       "95OCT11XO\n",
       "96SEP09XA\n",
       "99FEB04XA"
      ]
     },
     "execution_count": 30,
     "metadata": {},
     "output_type": "execute_result"
    }
   ],
   "source": [
    "setdiff(nju_arc, opa_arc)"
   ]
  },
  {
   "cell_type": "code",
   "execution_count": 32,
   "id": "14dd1f31",
   "metadata": {
    "ExecuteTime": {
     "end_time": "2021-10-25T03:10:50.281808Z",
     "start_time": "2021-10-25T03:10:50.257660Z"
    }
   },
   "outputs": [
    {
     "data": {
      "text/html": [
       "<div><i>Table length=191</i>\n",
       "<table id=\"table140730655850304\" class=\"table-striped table-bordered table-condensed\">\n",
       "<thead><tr><th>sess_name</th></tr></thead>\n",
       "<thead><tr><th>str9</th></tr></thead>\n",
       "<tr><td>00AUG10XG</td></tr>\n",
       "<tr><td>00JUN15XG</td></tr>\n",
       "<tr><td>00MAY31XC</td></tr>\n",
       "<tr><td>00OCT10XE</td></tr>\n",
       "<tr><td>00OCT11XX</td></tr>\n",
       "<tr><td>00OCT25XG</td></tr>\n",
       "<tr><td>00SEP20XG</td></tr>\n",
       "<tr><td>01APR18XG</td></tr>\n",
       "<tr><td>01JUN06XG</td></tr>\n",
       "<tr><td>01JUN27XF</td></tr>\n",
       "<tr><td>01MAY16XG</td></tr>\n",
       "<tr><td>01NOV29XF</td></tr>\n",
       "<tr><td>01OCT30XF</td></tr>\n",
       "<tr><td>02AUG06XF</td></tr>\n",
       "<tr><td>02JUN05XC</td></tr>\n",
       "<tr><td>03OCT27XC</td></tr>\n",
       "<tr><td>04FEB15XV</td></tr>\n",
       "<tr><td>05AUG26XV</td></tr>\n",
       "<tr><td>06FEB16XV</td></tr>\n",
       "<tr><td>10MAY26XF</td></tr>\n",
       "<tr><td>10NOV25XF</td></tr>\n",
       "<tr><td>11APR12XF</td></tr>\n",
       "<tr><td>11DEC08XF</td></tr>\n",
       "<tr><td>11JAN29XF</td></tr>\n",
       "<tr><td>11JUN23XF</td></tr>\n",
       "<tr><td>11OCT06XF</td></tr>\n",
       "<tr><td>11SEP08XF</td></tr>\n",
       "<tr><td>12APR12XF</td></tr>\n",
       "<tr><td>12DEC13XF</td></tr>\n",
       "<tr><td>12JAN11XF</td></tr>\n",
       "<tr><td>12JAN12XF</td></tr>\n",
       "<tr><td>12JUL12XF</td></tr>\n",
       "<tr><td>12JUN14XF</td></tr>\n",
       "<tr><td>12MAY17XF</td></tr>\n",
       "<tr><td>12NOV15XF</td></tr>\n",
       "<tr><td>12SEP13XF</td></tr>\n",
       "<tr><td>13DEC04XF</td></tr>\n",
       "<tr><td>13JAN24XF</td></tr>\n",
       "<tr><td>13JUL18XF</td></tr>\n",
       "<tr><td>13JUN13XF</td></tr>\n",
       "<tr><td>13MAR14XF</td></tr>\n",
       "<tr><td>13NOV14XF</td></tr>\n",
       "<tr><td>...</td></tr>\n",
       "<tr><td>88MAR04XO</td></tr>\n",
       "<tr><td>88MAY05X</td></tr>\n",
       "<tr><td>88NOV04X</td></tr>\n",
       "<tr><td>88NOV05X</td></tr>\n",
       "<tr><td>88OCT31X</td></tr>\n",
       "<tr><td>89APR18XO</td></tr>\n",
       "<tr><td>90JUL24X</td></tr>\n",
       "<tr><td>90JUL25X</td></tr>\n",
       "<tr><td>90JUL27X</td></tr>\n",
       "<tr><td>90NOV10X</td></tr>\n",
       "<tr><td>91MAR12XE</td></tr>\n",
       "<tr><td>92APR03D</td></tr>\n",
       "<tr><td>92APR06XI</td></tr>\n",
       "<tr><td>92APR13XI</td></tr>\n",
       "<tr><td>92JUN08XI</td></tr>\n",
       "<tr><td>92MAR03X</td></tr>\n",
       "<tr><td>92MAR30XI</td></tr>\n",
       "<tr><td>92MAY25XN</td></tr>\n",
       "<tr><td>92NOV23VX</td></tr>\n",
       "<tr><td>94JAN13XO</td></tr>\n",
       "<tr><td>94JUL08XW</td></tr>\n",
       "<tr><td>95JUL20DX</td></tr>\n",
       "<tr><td>95NOV21DX</td></tr>\n",
       "<tr><td>97MAY07XV</td></tr>\n",
       "<tr><td>97NOV24XH</td></tr>\n",
       "<tr><td>99AUG26XG</td></tr>\n",
       "<tr><td>99AUG27XG</td></tr>\n",
       "<tr><td>99JUN01XK</td></tr>\n",
       "<tr><td>99JUN04XK</td></tr>\n",
       "<tr><td>99JUN07XK</td></tr>\n",
       "<tr><td>99JUN08XK</td></tr>\n",
       "<tr><td>99JUN10XK</td></tr>\n",
       "<tr><td>99JUN11XK</td></tr>\n",
       "<tr><td>99JUN14XK</td></tr>\n",
       "<tr><td>99JUN17XK</td></tr>\n",
       "<tr><td>99JUN18XK</td></tr>\n",
       "<tr><td>99JUN24XG</td></tr>\n",
       "<tr><td>99MAY25XK</td></tr>\n",
       "<tr><td>99MAY27XK</td></tr>\n",
       "<tr><td>99MAY28XK</td></tr>\n",
       "<tr><td>99MAY31XK</td></tr>\n",
       "<tr><td>99OCT21XG</td></tr>\n",
       "<tr><td>99OCT23XG</td></tr>\n",
       "</table></div>"
      ],
      "text/plain": [
       "<Table length=191>\n",
       "sess_name\n",
       "   str9  \n",
       "---------\n",
       "00AUG10XG\n",
       "00JUN15XG\n",
       "00MAY31XC\n",
       "00OCT10XE\n",
       "00OCT11XX\n",
       "00OCT25XG\n",
       "00SEP20XG\n",
       "01APR18XG\n",
       "01JUN06XG\n",
       "01JUN27XF\n",
       "01MAY16XG\n",
       "01NOV29XF\n",
       "01OCT30XF\n",
       "02AUG06XF\n",
       "02JUN05XC\n",
       "03OCT27XC\n",
       "04FEB15XV\n",
       "05AUG26XV\n",
       "06FEB16XV\n",
       "10MAY26XF\n",
       "10NOV25XF\n",
       "11APR12XF\n",
       "11DEC08XF\n",
       "11JAN29XF\n",
       "11JUN23XF\n",
       "11OCT06XF\n",
       "11SEP08XF\n",
       "12APR12XF\n",
       "12DEC13XF\n",
       "12JAN11XF\n",
       "12JAN12XF\n",
       "12JUL12XF\n",
       "12JUN14XF\n",
       "12MAY17XF\n",
       "12NOV15XF\n",
       "12SEP13XF\n",
       "13DEC04XF\n",
       "13JAN24XF\n",
       "13JUL18XF\n",
       "13JUN13XF\n",
       "13MAR14XF\n",
       "13NOV14XF\n",
       "      ...\n",
       "88MAR04XO\n",
       " 88MAY05X\n",
       " 88NOV04X\n",
       " 88NOV05X\n",
       " 88OCT31X\n",
       "89APR18XO\n",
       " 90JUL24X\n",
       " 90JUL25X\n",
       " 90JUL27X\n",
       " 90NOV10X\n",
       "91MAR12XE\n",
       " 92APR03D\n",
       "92APR06XI\n",
       "92APR13XI\n",
       "92JUN08XI\n",
       " 92MAR03X\n",
       "92MAR30XI\n",
       "92MAY25XN\n",
       "92NOV23VX\n",
       "94JAN13XO\n",
       "94JUL08XW\n",
       "95JUL20DX\n",
       "95NOV21DX\n",
       "97MAY07XV\n",
       "97NOV24XH\n",
       "99AUG26XG\n",
       "99AUG27XG\n",
       "99JUN01XK\n",
       "99JUN04XK\n",
       "99JUN07XK\n",
       "99JUN08XK\n",
       "99JUN10XK\n",
       "99JUN11XK\n",
       "99JUN14XK\n",
       "99JUN17XK\n",
       "99JUN18XK\n",
       "99JUN24XG\n",
       "99MAY25XK\n",
       "99MAY27XK\n",
       "99MAY28XK\n",
       "99MAY31XK\n",
       "99OCT21XG\n",
       "99OCT23XG"
      ]
     },
     "execution_count": 32,
     "metadata": {},
     "output_type": "execute_result"
    }
   ],
   "source": [
    "setdiff(opa_arc, nju_arc)"
   ]
  }
 ],
 "metadata": {
  "hide_input": false,
  "kernelspec": {
   "display_name": "Python 3 (ipykernel)",
   "language": "python",
   "name": "python3"
  },
  "language_info": {
   "codemirror_mode": {
    "name": "ipython",
    "version": 3
   },
   "file_extension": ".py",
   "mimetype": "text/x-python",
   "name": "python",
   "nbconvert_exporter": "python",
   "pygments_lexer": "ipython3",
   "version": "3.9.7"
  }
 },
 "nbformat": 4,
 "nbformat_minor": 5
}
