{
 "cells": [
  {
   "cell_type": "markdown",
   "metadata": {},
   "source": [
    "I study the apparent proper motion of radio sources to estimate the ICRF axis stability."
   ]
  },
  {
   "cell_type": "code",
   "execution_count": 1,
   "metadata": {
    "ExecuteTime": {
     "end_time": "2021-09-17T08:50:35.683324Z",
     "start_time": "2021-09-17T08:50:34.382693Z"
    }
   },
   "outputs": [],
   "source": [
    "import matplotlib.pyplot as plt\n",
    "# from matplotlib.ticker import MultipleLocator\n",
    "import numpy as np\n",
    "import statsmodels.api as sm\n",
    "from astropy.time import Time\n",
    "from astropy.table import Table, join\n",
    "\n",
    "from statsmodels.iolib.table import (SimpleTable, default_txt_fmt)\n",
    "import seaborn as sns\n",
    "\n",
    "from my_progs.stat_func.rms_calc import rms_calc\n",
    "from my_progs.catalog.ga_func import glide_apex_calc"
   ]
  },
  {
   "cell_type": "code",
   "execution_count": 2,
   "metadata": {
    "ExecuteTime": {
     "end_time": "2021-09-17T08:50:35.707280Z",
     "start_time": "2021-09-17T08:50:35.686302Z"
    }
   },
   "outputs": [],
   "source": [
    "icrf3_def = Table.read(\"../data/icrf3sx-def-sou.txt\", format=\"ascii\")"
   ]
  },
  {
   "cell_type": "markdown",
   "metadata": {},
   "source": [
    "# 1 Distribution of the APM"
   ]
  },
  {
   "cell_type": "code",
   "execution_count": 3,
   "metadata": {
    "ExecuteTime": {
     "end_time": "2021-09-17T08:50:35.724748Z",
     "start_time": "2021-09-17T08:50:35.710336Z"
    }
   },
   "outputs": [],
   "source": [
    "apm_tab = Table.read(\"../data/ts_nju_pm_fit_3sigma-20step.dat\", format=\"ascii.csv\")\n",
    "\n",
    "# convert mas/yr into muas/yr\n",
    "apm_tab[\"pmra\"] = apm_tab[\"pmra\"] * 1e3\n",
    "apm_tab[\"pmra_err\"] = apm_tab[\"pmra_err\"] * 1e3\n",
    "apm_tab[\"pmdec\"] = apm_tab[\"pmdec\"] * 1e3\n",
    "apm_tab[\"pmdec_err\"] = apm_tab[\"pmdec_err\"] * 1e3"
   ]
  },
  {
   "cell_type": "markdown",
   "metadata": {},
   "source": [
    "Remove sources without apparant proper motion estimate."
   ]
  },
  {
   "cell_type": "code",
   "execution_count": 4,
   "metadata": {
    "ExecuteTime": {
     "end_time": "2021-09-17T08:50:35.731281Z",
     "start_time": "2021-09-17T08:50:35.726957Z"
    }
   },
   "outputs": [],
   "source": [
    "mask = apm_tab[\"num_cln\"] >= 5\n",
    "apm_tab = apm_tab[mask]"
   ]
  },
  {
   "cell_type": "markdown",
   "metadata": {},
   "source": [
    "Estimate the empirical cumulative probability function."
   ]
  },
  {
   "cell_type": "code",
   "execution_count": 5,
   "metadata": {
    "ExecuteTime": {
     "end_time": "2021-09-17T08:50:35.736361Z",
     "start_time": "2021-09-17T08:50:35.732501Z"
    }
   },
   "outputs": [],
   "source": [
    "ecdf_pmra = sm.distributions.ECDF(apm_tab[\"pmra\"])\n",
    "ecdf_pmdec = sm.distributions.ECDF(apm_tab[\"pmdec\"])"
   ]
  },
  {
   "cell_type": "markdown",
   "metadata": {},
   "source": [
    "For the ICRF3 defining sources."
   ]
  },
  {
   "cell_type": "code",
   "execution_count": 6,
   "metadata": {
    "ExecuteTime": {
     "end_time": "2021-09-17T08:50:35.744075Z",
     "start_time": "2021-09-17T08:50:35.737792Z"
    }
   },
   "outputs": [],
   "source": [
    "apm_def = join(icrf3_def, apm_tab, keys=\"iers_name\")"
   ]
  },
  {
   "cell_type": "code",
   "execution_count": 7,
   "metadata": {
    "ExecuteTime": {
     "end_time": "2021-09-17T08:50:35.749336Z",
     "start_time": "2021-09-17T08:50:35.745506Z"
    }
   },
   "outputs": [],
   "source": [
    "ecdf_pmra_def = sm.distributions.ECDF(apm_def[\"pmra\"])\n",
    "ecdf_pmdec_def = sm.distributions.ECDF(apm_def[\"pmdec\"])"
   ]
  },
  {
   "cell_type": "markdown",
   "metadata": {},
   "source": [
    "Make the plot."
   ]
  },
  {
   "cell_type": "code",
   "execution_count": 8,
   "metadata": {
    "ExecuteTime": {
     "end_time": "2021-09-17T08:50:35.753268Z",
     "start_time": "2021-09-17T08:50:35.750742Z"
    }
   },
   "outputs": [],
   "source": [
    "bin_array = np.arange(-100, 100, 5)"
   ]
  },
  {
   "cell_type": "code",
   "execution_count": 9,
   "metadata": {
    "ExecuteTime": {
     "end_time": "2021-09-17T08:50:36.182262Z",
     "start_time": "2021-09-17T08:50:35.756751Z"
    },
    "scrolled": false
   },
   "outputs": [
    {
     "data": {
      "image/png": "[encoded data removed]",
      "text/plain": [
       "<Figure size 432x288 with 2 Axes>"
      ]
     },
     "metadata": {},
     "output_type": "display_data"
    }
   ],
   "source": [
    "fig, ax1 = plt.subplots()\n",
    "\n",
    "color = \"grey\"\n",
    "ax1.hist(apm_tab[\"pmra\"],\n",
    "         bins=bin_array,\n",
    "         color=color,\n",
    "         fill=False,\n",
    "         label=\"All\")\n",
    "ax1.hist(apm_def[\"pmra\"],\n",
    "         bins=bin_array,\n",
    "         color=color,\n",
    "         label=\"Defining\")\n",
    "ax1.set_xlabel(\"$\\\\mu_{\\\\alpha*}$ (mas/yr)\", fontsize=15)\n",
    "ax1.set_ylabel(\"Nb Sources in  bins\", color=color, fontsize=15)\n",
    "ax1.tick_params(axis=\"y\", labelcolor=color)\n",
    "# ax1.axis([-100, 100, 0, 180])\n",
    "ax1.axis([-100, 100, 0, 400])\n",
    "ax1.legend(loc=\"upper left\")\n",
    "\n",
    "ax2 = ax1.twinx()  # instantiate a second axes that shares the same x-axis\n",
    "\n",
    "color = \"tab:red\"\n",
    "ax2.plot(ecdf_pmra.x,\n",
    "         ecdf_pmra.y * len(apm_tab),\n",
    "         color=color,\n",
    "         lw=1,\n",
    "         ls=\"--\",\n",
    "         label=\"All\")\n",
    "ax2.step(ecdf_pmra_def.x,\n",
    "         ecdf_pmra_def.y * len(apm_def),\n",
    "         color=color,\n",
    "         lw=1,\n",
    "         ls=\"-\",\n",
    "         label=\"Defining\")\n",
    "ax2.tick_params(axis=\"y\", labelcolor=color)\n",
    "ax2.set_ylabel(\"Cumulative Nb sources\", color=color,\n",
    "               fontsize=15)  # we already handled the x-label with ax1\n",
    "# ax2.axis([-100, 100, 0, 1000])\n",
    "ax2.axis([-100, 100, 0, 3000])\n",
    "ax2.legend(loc=\"center right\")\n",
    "\n",
    "plt.tight_layout()\n",
    "# plt.savefig(\"../plots/pmra-hist.eps\")\n",
    "# plt.savefig(\"../plots/pmra-hist-nju.eps\")"
   ]
  },
  {
   "cell_type": "code",
   "execution_count": 10,
   "metadata": {
    "ExecuteTime": {
     "end_time": "2021-09-17T08:50:36.191641Z",
     "start_time": "2021-09-17T08:50:36.184286Z"
    }
   },
   "outputs": [
    {
     "name": "stdout",
     "output_type": "stream",
     "text": [
      "PM in R.A. (muas/yr)\n",
      "Percentile(%)          0         5        10        25        50        75        90        95       100\n",
      "                -7427.61   -108.42    -56.67    -15.40     -0.30     14.43     54.51    106.15   5283.08\n",
      "[-30, 30]: 67.85%\n"
     ]
    }
   ],
   "source": [
    "per = [0, 5, 10, 25, 50, 75, 90, 95, 100] \n",
    "Q = np.percentile(apm_tab[\"pmra\"], per)\n",
    "\n",
    "line_fmt1 = \"  {:8d}\" * len(per)\n",
    "line_fmt2 = \"  {:8.2f}\" * len(Q)\n",
    "\n",
    "print(\"PM in R.A. (muas/yr)\")\n",
    "print(\"Percentile(%)\", line_fmt1.format(*per))\n",
    "print(\"             \", line_fmt2.format(*Q))\n",
    "\n",
    "lim = 30\n",
    "mask = (np.fabs(apm_tab[\"pmra\"]) < lim)\n",
    "print(\"[-{:2d}, {:2d}]: {:.2f}%\".format(lim, lim, len(apm_tab[mask])/len(apm_tab)*100))"
   ]
  },
  {
   "cell_type": "code",
   "execution_count": 11,
   "metadata": {
    "ExecuteTime": {
     "end_time": "2021-09-17T08:50:36.516934Z",
     "start_time": "2021-09-17T08:50:36.193009Z"
    },
    "scrolled": false
   },
   "outputs": [
    {
     "data": {
      "image/png": "[encoded data removed]",
      "text/plain": [
       "<Figure size 432x288 with 2 Axes>"
      ]
     },
     "metadata": {},
     "output_type": "display_data"
    }
   ],
   "source": [
    "fig, ax1 = plt.subplots()\n",
    "\n",
    "\n",
    "color = \"grey\"\n",
    "ax1.hist(apm_tab[\"pmdec\"],\n",
    "         bins=bin_array,\n",
    "         color=color,\n",
    "         fill=False,\n",
    "         label=\"All\")\n",
    "ax1.hist(apm_def[\"pmdec\"],\n",
    "         bins=bin_array,\n",
    "         color=color,\n",
    "         label=\"Defining\")\n",
    "ax1.set_xlabel(\"$\\\\mu_{\\\\delta}$ (mas/yr)\", fontsize=15)\n",
    "ax1.set_ylabel(\"Nb Sources in  bins\", color=color, fontsize=15)\n",
    "ax1.tick_params(axis=\"y\", labelcolor=color)\n",
    "# ax1.axis([-100, 100, 0, 180])\n",
    "ax1.axis([-100, 100, 0, 400])\n",
    "ax1.legend(loc=\"upper left\")\n",
    "\n",
    "ax2 = ax1.twinx()  # instantiate a second axes that shares the same x-axis\n",
    "\n",
    "color = \"tab:red\"\n",
    "ax2.step(ecdf_pmdec.x,\n",
    "         ecdf_pmdec.y * len(apm_tab),\n",
    "         color=color,\n",
    "         lw=1,\n",
    "         ls=\"--\",\n",
    "         label=\"All\")\n",
    "ax2.step(ecdf_pmdec_def.x,\n",
    "         ecdf_pmdec_def.y * len(apm_def),\n",
    "         color=color,\n",
    "         lw=1,\n",
    "         ls=\"-\",\n",
    "         label=\"Defining\")\n",
    "ax2.tick_params(axis=\"y\", labelcolor=color)\n",
    "ax2.set_ylabel(\"Cumulative Nb sources\", color=color,\n",
    "               fontsize=15)  # we already handled the x-label with ax1\n",
    "# ax2.axis([-100, 100, 0, 1000])\n",
    "ax2.axis([-100, 100, 0, 3000])\n",
    "ax2.legend(loc=\"center right\")\n",
    "\n",
    "plt.tight_layout()\n",
    "# plt.savefig(\"../plots/pmdec-hist.eps\")\n",
    "# plt.savefig(\"../plots/pmdec-hist-nju.eps\")"
   ]
  },
  {
   "cell_type": "code",
   "execution_count": 12,
   "metadata": {
    "ExecuteTime": {
     "end_time": "2021-09-17T08:50:36.525989Z",
     "start_time": "2021-09-17T08:50:36.518923Z"
    }
   },
   "outputs": [
    {
     "name": "stdout",
     "output_type": "stream",
     "text": [
      "PM in decl. (muas/yr)\n",
      "Percentile(%)          0         5        10        25        50        75        90        95       100\n",
      "                -9524.19   -196.58    -96.60    -25.12     -0.06     26.68     95.83    190.83  15967.12\n",
      "[-30, 30]: 53.86%\n"
     ]
    }
   ],
   "source": [
    "per = [0, 5, 10, 25, 50, 75, 90, 95, 100] \n",
    "Q = np.percentile(apm_tab[\"pmdec\"], per)\n",
    "\n",
    "line_fmt1 = \"  {:8d}\" * len(per)\n",
    "line_fmt2 = \"  {:8.2f}\" * len(Q)\n",
    "\n",
    "print(\"PM in decl. (muas/yr)\")\n",
    "print(\"Percentile(%)\", line_fmt1.format(*per))\n",
    "print(\"             \", line_fmt2.format(*Q))\n",
    "\n",
    "lim = 30\n",
    "mask = (np.fabs(apm_tab[\"pmdec\"]) < lim)\n",
    "print(\"[-{:2d}, {:2d}]: {:.2f}%\".format(lim, lim, len(apm_tab[mask])/len(apm_tab)*100))"
   ]
  },
  {
   "cell_type": "code",
   "execution_count": 13,
   "metadata": {
    "ExecuteTime": {
     "end_time": "2021-09-17T08:50:36.535443Z",
     "start_time": "2021-09-17T08:50:36.527755Z"
    }
   },
   "outputs": [
    {
     "name": "stderr",
     "output_type": "stream",
     "text": [
      "/usr/local/lib/python3.9/site-packages/numpy/core/fromnumeric.py:755: UserWarning: Warning: 'partition' will ignore the 'mask' of the MaskedColumn.\n",
      "  a.partition(kth, axis=axis, kind=kind, order=order)\n"
     ]
    }
   ],
   "source": [
    "mean_pmra = np.mean(apm_tab[\"pmra\"])\n",
    "median_pmra = np.median(apm_tab[\"pmra\"])\n",
    "std_pmra = np.std(apm_tab[\"pmra\"])\n",
    "\n",
    "mean_pmdec = np.mean(apm_tab[\"pmdec\"])\n",
    "median_pmdec = np.median(apm_tab[\"pmdec\"])\n",
    "std_pmdec = np.std(apm_tab[\"pmdec\"])"
   ]
  },
  {
   "cell_type": "code",
   "execution_count": 14,
   "metadata": {
    "ExecuteTime": {
     "end_time": "2021-09-17T08:50:36.542074Z",
     "start_time": "2021-09-17T08:50:36.536746Z"
    }
   },
   "outputs": [],
   "source": [
    "mean_pmra_def = np.mean(apm_def[\"pmra\"])\n",
    "median_pmra_def = np.median(apm_def[\"pmra\"])\n",
    "std_pmra_def = np.std(apm_def[\"pmra\"])\n",
    "\n",
    "mean_pmdec_def = np.mean(apm_def[\"pmdec\"])\n",
    "median_pmdec_def = np.median(apm_def[\"pmdec\"])\n",
    "std_pmdec_def = np.std(apm_def[\"pmdec\"])"
   ]
  },
  {
   "cell_type": "code",
   "execution_count": 15,
   "metadata": {
    "ExecuteTime": {
     "end_time": "2021-09-17T08:50:36.549923Z",
     "start_time": "2021-09-17T08:50:36.543626Z"
    }
   },
   "outputs": [
    {
     "name": "stdout",
     "output_type": "stream",
     "text": [
      "========================================\n",
      "         #sou    Mean   Median    Std   \n",
      "----------------------------------------\n",
      "All-RA  2837.0 -6.33476   -0.3 255.33089\n",
      "All-Dec 2837.0 -6.17455  -0.06 464.65335\n",
      "Def-RA   291.0  0.77371  -0.44   18.5113\n",
      "Def-Dec  291.0 -3.60794  -0.41  31.73257\n",
      "----------------------------------------\n",
      "Unit: muas/yr\n"
     ]
    }
   ],
   "source": [
    "se = np.vstack([[len(apm_tab), mean_pmra, median_pmra, std_pmra],\n",
    "                [len(apm_tab), mean_pmdec, median_pmdec, std_pmdec],\n",
    "                [len(apm_def), mean_pmra_def, median_pmra_def, std_pmra_def],\n",
    "                [len(apm_def), mean_pmdec_def, median_pmdec_def, std_pmdec_def]])\n",
    "\n",
    "se = np.round(se, 5)\n",
    "\n",
    "colnames = [\"#sou\", \"Mean\", \"Median\", \"Std\"]\n",
    "rownames = [\"All-RA\", \"All-Dec\", \"Def-RA\", \"Def-Dec\"]\n",
    "\n",
    "tabl = SimpleTable(se, colnames, rownames, txt_fmt=default_txt_fmt)\n",
    "print(tabl)\n",
    "print(\"Unit: muas/yr\")"
   ]
  },
  {
   "cell_type": "markdown",
   "metadata": {},
   "source": [
    "# 2. Global spin from the ICRF3-defining source subset"
   ]
  },
  {
   "cell_type": "code",
   "execution_count": 16,
   "metadata": {
    "ExecuteTime": {
     "end_time": "2021-09-17T08:50:36.583805Z",
     "start_time": "2021-09-17T08:50:36.552693Z"
    }
   },
   "outputs": [],
   "source": [
    "from tool_func import vsh_fit_for_pm, vsh_fit_for_pm2"
   ]
  },
  {
   "cell_type": "code",
   "execution_count": 17,
   "metadata": {
    "ExecuteTime": {
     "end_time": "2021-09-17T08:50:36.606812Z",
     "start_time": "2021-09-17T08:50:36.585986Z"
    }
   },
   "outputs": [
    {
     "name": "stdout",
     "output_type": "stream",
     "text": [
      "----------------------- VSH Fit (by Niu LIU) -----------------------\n",
      "\n",
      "Pre-fit information:\n",
      "    Number of sources                       291\n",
      "    Maximum degree of VSH                     1\n",
      "    Number of unknowns to determine           6\n",
      "    Number of degree of freedom             575\n",
      "\n",
      "No constraint is put on the data, so the fitting will be done only once.\n",
      "\n",
      "Convert t_lm/s_lm at l=1 into rotation/glide vector\n",
      "--------------------------------------------------------------------\n",
      "           Glide [dex]                 Rotation [dex]   \n",
      "  G1         G2        G3         R1         R2        R3       \n",
      "--------------------------------------------------------------------\n",
      "  +1    0    -1    0   -1    0    -1    0   +0    0    -0    0  \n",
      "--------------------------------------------------------------------\n"
     ]
    }
   ],
   "source": [
    "pmt, sig, output = vsh_fit_for_pm(apm_def)\n",
    "pmt1, sig1, output1 = vsh_fit_for_pm2(apm_def)"
   ]
  },
  {
   "cell_type": "code",
   "execution_count": 18,
   "metadata": {
    "ExecuteTime": {
     "end_time": "2021-09-17T08:50:36.619123Z",
     "start_time": "2021-09-17T08:50:36.609278Z"
    }
   },
   "outputs": [
    {
     "name": "stdout",
     "output_type": "stream",
     "text": [
      "===========================\n",
      "    Full +/-  Rotation +/- \n",
      "---------------------------\n",
      "Rx -0.59 0.28    -0.06 0.23\n",
      "Ry  0.02 0.32     0.51 0.29\n",
      "Rz -0.42 0.21    -0.46 0.21\n",
      "R   0.72 0.27     0.69 0.23\n",
      "---------------------------\n",
      "=============\n",
      "   Glide +/- \n",
      "-------------\n",
      "Gx  0.74 0.24\n",
      "Gy -1.07 0.27\n",
      "Gz -0.88 0.29\n",
      "G   1.57 0.26\n",
      "-------------\n",
      "Unit: muas/yr\n",
      "Number of sources used in the fitting is 291\n"
     ]
    }
   ],
   "source": [
    "se = np.vstack((pmt[:4], sig[:4], pmt1, sig1)).T\n",
    "se = np.round(se, 2)\n",
    "\n",
    "colnames = [\"Full\", \"+/-\", \"Rotation\", \"+/-\"]\n",
    "rownames = [\"Rx\", \"Ry\", \"Rz\", \"R\"]\n",
    "\n",
    "tabl = SimpleTable(se, colnames, rownames, txt_fmt=default_txt_fmt)\n",
    "print(tabl)\n",
    "\n",
    "se = np.vstack((pmt[4:], sig[4:])).T\n",
    "se = np.round(se, 2)\n",
    "\n",
    "colnames = [\"Glide\", \"+/-\"]\n",
    "rownames = [\"Gx\", \"Gy\", \"Gz\", \"G\"]\n",
    "\n",
    "tabl = SimpleTable(se, colnames, rownames, txt_fmt=default_txt_fmt)\n",
    "print(tabl)\n",
    "\n",
    "print(\"Unit: muas/yr\")\n",
    "print(\"Number of sources used in the fitting is\", len(apm_def))"
   ]
  },
  {
   "cell_type": "code",
   "execution_count": 19,
   "metadata": {
    "ExecuteTime": {
     "end_time": "2021-09-17T08:50:36.627702Z",
     "start_time": "2021-09-17T08:50:36.621518Z"
    }
   },
   "outputs": [
    {
     "name": "stdout",
     "output_type": "stream",
     "text": [
      "Apex for rotation (deg)\n",
      "      Full      Rotation\n",
      "RA : 178 +/-  31   97 +/-  26\n",
      "Dec: -35 +/-  18  -42 +/-  23\n",
      "Apex for glide (deg)\n",
      "      Glide\n",
      "RA : 305 +/-  11  \n",
      "Dec: -34 +/-  10\n"
     ]
    }
   ],
   "source": [
    "print(\"Apex for rotation (deg)\")\n",
    "print(\"      Full      Rotation\")\n",
    "print(\"RA : {:3.0f} +/- {:3.0f}  {:3.0f} +/- {:3.0f}\".format(\n",
    "    output[\"R_ra\"], output[\"R_ra_err\"], output1[\"R_ra\"], output1[\"R_ra_err\"]))\n",
    "print(\"Dec: {:3.0f} +/- {:3.0f}  {:3.0f} +/- {:3.0f}\".format(\n",
    "    output[\"R_dec\"], output[\"R_dec_err\"], output1[\"R_dec\"],\n",
    "    output1[\"R_dec_err\"]))\n",
    "\n",
    "print(\"Apex for glide (deg)\")\n",
    "print(\"      Glide\")\n",
    "print(\"RA : {:3.0f} +/- {:3.0f}  \".format(\n",
    "    output[\"G_ra\"], output[\"G_ra_err\"]))\n",
    "print(\"Dec: {:3.0f} +/- {:3.0f}\".format(\n",
    "    output[\"G_dec\"], output[\"G_dec_err\"]))"
   ]
  },
  {
   "cell_type": "markdown",
   "metadata": {},
   "source": [
    "# 3 Global Spin from the whole sample"
   ]
  },
  {
   "cell_type": "code",
   "execution_count": 20,
   "metadata": {
    "ExecuteTime": {
     "end_time": "2021-09-17T08:50:36.641848Z",
     "start_time": "2021-09-17T08:50:36.629790Z"
    },
    "scrolled": false
   },
   "outputs": [],
   "source": [
    "spin_tab = Table.read(\"../logs/spin_fit_from_glo_ts-20step.txt\", format=\"ascii\")"
   ]
  },
  {
   "cell_type": "code",
   "execution_count": 21,
   "metadata": {
    "ExecuteTime": {
     "end_time": "2021-09-17T08:50:36.830954Z",
     "start_time": "2021-09-17T08:50:36.643867Z"
    }
   },
   "outputs": [
    {
     "name": "stderr",
     "output_type": "stream",
     "text": [
      "/var/folders/cx/w871dcfn6h18zc_07dj7mxgm0000gn/T/ipykernel_12621/390599747.py:3: UserWarning: linestyle is redundantly defined by the 'linestyle' keyword argument and the fmt string \"b-^\" (-> linestyle='-'). The keyword argument will take precedence.\n",
      "  ax.plot(spin_tab[\"num_sou\"],\n",
      "/var/folders/cx/w871dcfn6h18zc_07dj7mxgm0000gn/T/ipykernel_12621/390599747.py:10: UserWarning: linestyle is redundantly defined by the 'linestyle' keyword argument and the fmt string \"k-s\" (-> linestyle='-'). The keyword argument will take precedence.\n",
      "  ax.plot(spin_tab[\"num_sou\"],\n",
      "/var/folders/cx/w871dcfn6h18zc_07dj7mxgm0000gn/T/ipykernel_12621/390599747.py:17: UserWarning: linestyle is redundantly defined by the 'linestyle' keyword argument and the fmt string \"r-o\" (-> linestyle='-'). The keyword argument will take precedence.\n",
      "  ax.plot(spin_tab[\"num_sou\"],\n"
     ]
    },
    {
     "data": {
      "image/png": "[encoded data removed]",
      "text/plain": [
       "<Figure size 432x288 with 1 Axes>"
      ]
     },
     "metadata": {
      "needs_background": "light"
     },
     "output_type": "display_data"
    }
   ],
   "source": [
    "fig, ax = plt.subplots()\n",
    "\n",
    "ax.plot(spin_tab[\"num_sou\"],\n",
    "         spin_tab[\"rx_std\"],\n",
    "         \"b-^\",\n",
    "         ms=5,\n",
    "         ls=\"--\",\n",
    "         lw=0.5,\n",
    "         label=\"$R_1$\")\n",
    "ax.plot(spin_tab[\"num_sou\"],\n",
    "         spin_tab[\"ry_std\"],\n",
    "         \"k-s\",\n",
    "         ms=5,\n",
    "         ls=\"--\",\n",
    "         lw=0.5,\n",
    "         label=\"$R_2$\")\n",
    "ax.plot(spin_tab[\"num_sou\"],\n",
    "         spin_tab[\"rz_std\"],\n",
    "         \"r-o\",\n",
    "         ms=5,\n",
    "         ls=\"--\",\n",
    "         lw=0.5,\n",
    "         label=\"$R_3$\")\n",
    "\n",
    "\n",
    "ax.set_xlabel(\"Number of sources\", fontsize=12)\n",
    "ax.set_ylabel(\"Global spin uncertainty ($\\mathrm{\\mu as/yr}$)\", fontsize=12)\n",
    "\n",
    "# ax.axis([50, 1250, 0.3, 0.5])\n",
    "ax.legend(bbox_to_anchor=(1., 1))\n",
    "\n",
    "plt.tight_layout()\n"
   ]
  },
  {
   "cell_type": "code",
   "execution_count": 22,
   "metadata": {
    "ExecuteTime": {
     "end_time": "2021-09-17T08:50:37.021980Z",
     "start_time": "2021-09-17T08:50:36.832886Z"
    }
   },
   "outputs": [
    {
     "name": "stderr",
     "output_type": "stream",
     "text": [
      "/var/folders/cx/w871dcfn6h18zc_07dj7mxgm0000gn/T/ipykernel_12621/1480582121.py:3: UserWarning: linestyle is redundantly defined by the 'linestyle' keyword argument and the fmt string \"b-^\" (-> linestyle='-'). The keyword argument will take precedence.\n",
      "  ax.plot(spin_tab[\"num_sou\"],\n",
      "/var/folders/cx/w871dcfn6h18zc_07dj7mxgm0000gn/T/ipykernel_12621/1480582121.py:10: UserWarning: linestyle is redundantly defined by the 'linestyle' keyword argument and the fmt string \"k-s\" (-> linestyle='-'). The keyword argument will take precedence.\n",
      "  ax.plot(spin_tab[\"num_sou\"],\n",
      "/var/folders/cx/w871dcfn6h18zc_07dj7mxgm0000gn/T/ipykernel_12621/1480582121.py:17: UserWarning: linestyle is redundantly defined by the 'linestyle' keyword argument and the fmt string \"r-o\" (-> linestyle='-'). The keyword argument will take precedence.\n",
      "  ax.plot(spin_tab[\"num_sou\"],\n"
     ]
    },
    {
     "data": {
      "image/png": "[encoded data removed]",
      "text/plain": [
       "<Figure size 432x288 with 1 Axes>"
      ]
     },
     "metadata": {
      "needs_background": "light"
     },
     "output_type": "display_data"
    }
   ],
   "source": [
    "fig, ax = plt.subplots()\n",
    "\n",
    "ax.plot(spin_tab[\"num_sou\"],\n",
    "         spin_tab[\"gx_std\"],\n",
    "         \"b-^\",\n",
    "         ms=5,\n",
    "         ls=\"--\",\n",
    "         lw=0.5,\n",
    "         label=\"$G_1$\")\n",
    "ax.plot(spin_tab[\"num_sou\"],\n",
    "         spin_tab[\"gy_std\"],\n",
    "         \"k-s\",\n",
    "         ms=5,\n",
    "         ls=\"--\",\n",
    "         lw=0.5,\n",
    "         label=\"$G_2$\")\n",
    "ax.plot(spin_tab[\"num_sou\"],\n",
    "         spin_tab[\"gz_std\"],\n",
    "         \"r-o\",\n",
    "         ms=5,\n",
    "         ls=\"--\",\n",
    "         lw=0.5,\n",
    "         label=\"$G_3$\")\n",
    "\n",
    "\n",
    "ax.set_xlabel(\"Number of sources\", fontsize=12)\n",
    "ax.set_ylabel(\"Global glide uncertainty ($\\mathrm{\\mu as/yr}$)\", fontsize=12)\n",
    "\n",
    "# ax.axis([50, 1250, 0.3, 0.5])\n",
    "ax.legend(bbox_to_anchor=(1., 1))\n",
    "\n",
    "plt.tight_layout()\n"
   ]
  },
  {
   "cell_type": "code",
   "execution_count": 23,
   "metadata": {
    "ExecuteTime": {
     "end_time": "2021-09-17T08:50:37.368519Z",
     "start_time": "2021-09-17T08:50:37.023963Z"
    },
    "scrolled": false
   },
   "outputs": [
    {
     "name": "stderr",
     "output_type": "stream",
     "text": [
      "The PostScript backend does not support transparency; partially transparent artists will be rendered opaque.\n",
      "The PostScript backend does not support transparency; partially transparent artists will be rendered opaque.\n"
     ]
    },
    {
     "data": {
      "image/png": "[encoded data removed]",
      "text/plain": [
       "<Figure size 576x432 with 1 Axes>"
      ]
     },
     "metadata": {
      "needs_background": "light"
     },
     "output_type": "display_data"
    }
   ],
   "source": [
    "# fig, (ax0, ax1, ax2, ax3) = plt.subplots(figsize=(6, 8), nrows=4, sharex=True)\n",
    "fig, ax = plt.subplots(figsize=(8, 6))\n",
    "\n",
    "ax.hlines(3, 50, 1050, ls=\"dashed\", color=\"r\", lw=0.5)\n",
    "ax.hlines(0, 50, 1050, ls=\"dashed\", color=\"k\", lw=0.5)\n",
    "ax.hlines(-3, 50, 1050, ls=\"dashed\", color=\"b\", lw=0.5)\n",
    "\n",
    "ax.errorbar(spin_tab[\"num_sou\"],\n",
    "             spin_tab[\"rx_mean\"]-3,\n",
    "             yerr=spin_tab[\"rx_std\"],\n",
    "             color=\"blue\",\n",
    "             fmt=\"-s\",\n",
    "             elinewidth=0.5,\n",
    "             lw=0.2,\n",
    "#              label=\"$\\\\omega_x+3\\,\\mathrm{\\mu as/yr}$\",\n",
    "             label=\"$\\\\omega_x-3\\,\\mathrm{dex}$\",\n",
    "             capsize=1)\n",
    "ax.errorbar(spin_tab[\"num_sou\"],\n",
    "             spin_tab[\"ry_mean\"],\n",
    "             yerr=spin_tab[\"ry_std\"],\n",
    "             color=\"black\",\n",
    "             fmt=\"-o\",\n",
    "             elinewidth=0.5,\n",
    "             lw=0.2,\n",
    "             label=\"$\\\\omega_y$\",\n",
    "             capsize=1)\n",
    "ax.errorbar(spin_tab[\"num_sou\"],\n",
    "             spin_tab[\"rz_mean\"]+3,\n",
    "             yerr=spin_tab[\"rz_std\"],\n",
    "             color=\"red\",\n",
    "             fmt=\"-^\",\n",
    "             elinewidth=0.5,\n",
    "             lw=0.2,\n",
    "#              label=\"$\\\\omega_z-3\\,\\mathrm{\\mu as/yr}$\",\n",
    "             label=\"$\\\\omega_z+3\\,\\mathrm{dex}$\",\n",
    "             capsize=1)\n",
    "\n",
    "\n",
    "ax.axis([50, 1050, -4, 4])\n",
    "\n",
    "ax.set_xlabel(\"Number of sources\", fontsize=12)\n",
    "ax.set_ylabel(\"Spin ($\\mathrm{\\mu as/yr}$)\", fontsize=12)\n",
    "\n",
    "ax.legend(loc=\"upper right\")\n",
    "\n",
    "plt.title(\"Spin from 20-step solution\", fontsize=12)\n",
    "plt.tight_layout()\n",
    "plt.savefig(\"../plots/spin-from-apm-nju-20step.eps\")"
   ]
  },
  {
   "cell_type": "code",
   "execution_count": 24,
   "metadata": {
    "ExecuteTime": {
     "end_time": "2021-09-17T08:50:37.662668Z",
     "start_time": "2021-09-17T08:50:37.370978Z"
    },
    "scrolled": false
   },
   "outputs": [
    {
     "name": "stderr",
     "output_type": "stream",
     "text": [
      "The PostScript backend does not support transparency; partially transparent artists will be rendered opaque.\n",
      "The PostScript backend does not support transparency; partially transparent artists will be rendered opaque.\n"
     ]
    },
    {
     "data": {
      "image/png": "[encoded data removed]",
      "text/plain": [
       "<Figure size 576x432 with 1 Axes>"
      ]
     },
     "metadata": {
      "needs_background": "light"
     },
     "output_type": "display_data"
    }
   ],
   "source": [
    "# fig, (ax0, ax1, ax2, ax3) = plt.subplots(figsize=(6, 8), nrows=4, sharex=True)\n",
    "fig, ax = plt.subplots(figsize=(8, 6))\n",
    "\n",
    "ax.hlines(3, 50, 1050, ls=\"dashed\", color=\"r\", lw=0.5)\n",
    "ax.hlines(0, 50, 1050, ls=\"dashed\", color=\"k\", lw=0.5)\n",
    "ax.hlines(-3, 50, 1050, ls=\"dashed\", color=\"b\", lw=0.5)\n",
    "\n",
    "ax.errorbar(spin_tab[\"num_sou\"],\n",
    "             spin_tab[\"gx_mean\"]-3,\n",
    "             yerr=spin_tab[\"gx_std\"],\n",
    "             color=\"blue\",\n",
    "             fmt=\"-s\",\n",
    "             elinewidth=0.5,\n",
    "             lw=0.2,\n",
    "#              label=\"$\\\\omega_x+3\\,\\mathrm{\\mu as/yr}$\",\n",
    "             label=\"$g_x-3\\,\\mathrm{dex}$\",\n",
    "             capsize=1)\n",
    "ax.errorbar(spin_tab[\"num_sou\"],\n",
    "             spin_tab[\"gy_mean\"],\n",
    "             yerr=spin_tab[\"gy_std\"],\n",
    "             color=\"black\",\n",
    "             fmt=\"-o\",\n",
    "             elinewidth=0.5,\n",
    "             lw=0.2,\n",
    "             label=\"$g_y$\",\n",
    "             capsize=1)\n",
    "ax.errorbar(spin_tab[\"num_sou\"],\n",
    "             spin_tab[\"gz_mean\"]+3,\n",
    "             yerr=spin_tab[\"gz_std\"],\n",
    "             color=\"red\",\n",
    "             fmt=\"-^\",\n",
    "             elinewidth=0.5,\n",
    "             lw=0.2,\n",
    "#              label=\"$\\\\omega_z-3\\,\\mathrm{\\mu as/yr}$\",\n",
    "             label=\"$g_z+3\\,\\mathrm{dex}$\",\n",
    "             capsize=1)\n",
    "\n",
    "\n",
    "ax.axis([50, 1050, -4, 4])\n",
    "\n",
    "ax.set_xlabel(\"Number of sources\", fontsize=12)\n",
    "ax.set_ylabel(\"Glide ($\\mathrm{\\mu as/yr}$)\", fontsize=12)\n",
    "\n",
    "ax.legend(loc=\"lower right\")\n",
    "\n",
    "plt.title(\"Glide from 20-step solution\", fontsize=12)\n",
    "plt.tight_layout()\n",
    "plt.savefig(\"../plots/glide-from-apm-nju-20step.eps\")"
   ]
  },
  {
   "cell_type": "code",
   "execution_count": 25,
   "metadata": {
    "ExecuteTime": {
     "end_time": "2021-09-17T08:50:37.668294Z",
     "start_time": "2021-09-17T08:50:37.664265Z"
    }
   },
   "outputs": [],
   "source": [
    "rx_q1q3 = np.vstack((spin_tab[\"rx_q2\"] - spin_tab[\"rx_q1\"],\n",
    "                     spin_tab[\"rx_q3\"] - spin_tab[\"rx_q2\"]))\n",
    "ry_q1q3 = np.vstack((spin_tab[\"ry_q2\"] - spin_tab[\"ry_q1\"],\n",
    "                     spin_tab[\"ry_q3\"] - spin_tab[\"ry_q2\"]))\n",
    "rz_q1q3 = np.vstack((spin_tab[\"rz_q2\"] - spin_tab[\"rz_q1\"],\n",
    "                     spin_tab[\"rz_q3\"] - spin_tab[\"rz_q2\"]))\n",
    "r_q1q3 = np.vstack((spin_tab[\"r_q2\"] - spin_tab[\"r_q1\"],\n",
    "                    spin_tab[\"r_q3\"] - spin_tab[\"r_q2\"]))"
   ]
  },
  {
   "cell_type": "code",
   "execution_count": 26,
   "metadata": {
    "ExecuteTime": {
     "end_time": "2021-09-17T08:50:38.178143Z",
     "start_time": "2021-09-17T08:50:37.669916Z"
    }
   },
   "outputs": [
    {
     "data": {
      "image/png": "[encoded data removed]",
      "text/plain": [
       "<Figure size 432x720 with 4 Axes>"
      ]
     },
     "metadata": {
      "needs_background": "light"
     },
     "output_type": "display_data"
    }
   ],
   "source": [
    "fig, (ax0, ax1, ax2, ax3) = plt.subplots(figsize=(6, 10), nrows=4, sharex=True)\n",
    "\n",
    "ax0.errorbar(spin_tab[\"num_sou\"],\n",
    "             spin_tab[\"rx_q2\"],\n",
    "             yerr=rx_q1q3,\n",
    "             color=\"blue\",\n",
    "             fmt=\"-s\",\n",
    "             elinewidth=0.5,\n",
    "             lw=0.5,\n",
    "             label=\"$R_1$\",\n",
    "             capsize=3)\n",
    "ax1.errorbar(spin_tab[\"num_sou\"],\n",
    "             spin_tab[\"ry_q2\"],\n",
    "             yerr=ry_q1q3,\n",
    "             color=\"black\",\n",
    "             fmt=\"-o\",\n",
    "             elinewidth=0.5,\n",
    "             lw=0.5,\n",
    "             label=\"$R_2$\",\n",
    "             capsize=3)\n",
    "ax2.errorbar(spin_tab[\"num_sou\"],\n",
    "             spin_tab[\"rz_q2\"],\n",
    "             yerr=rz_q1q3,\n",
    "             color=\"red\",\n",
    "             fmt=\"-^\",\n",
    "             elinewidth=0.5,\n",
    "             lw=0.5,\n",
    "             label=\"$R_3$\",\n",
    "             capsize=3)\n",
    "ax3.errorbar(spin_tab[\"num_sou\"],\n",
    "             spin_tab[\"r_q2\"],\n",
    "             yerr=r_q1q3,\n",
    "             color=\"green\",\n",
    "             fmt=\"-v\",\n",
    "             elinewidth=0.5,\n",
    "             lw=0.5,\n",
    "             label=\"$R$\",\n",
    "             capsize=3)\n",
    "\n",
    "ax3.set_xlabel(\"Number of sources\", fontsize=15)\n",
    "ax0.set_ylabel(\"$\\\\omega_x$ ($\\mathrm{\\mu as/yr}$)\", fontsize=15)\n",
    "ax1.set_ylabel(\"$\\\\omega_y$ ($\\mathrm{\\mu as/yr}$)\", fontsize=15)\n",
    "ax2.set_ylabel(\"$\\\\omega_z$ ($\\mathrm{\\mu as/yr}$)\", fontsize=15)\n",
    "ax3.set_ylabel(\"$\\\\omega$ ($\\mathrm{\\mu as/yr}$)\", fontsize=15)\n",
    "\n",
    "plt.tight_layout()\n",
    "# plt.savefig(\"../plots/spin-from-apm.eps\")"
   ]
  },
  {
   "cell_type": "code",
   "execution_count": 27,
   "metadata": {
    "ExecuteTime": {
     "end_time": "2021-09-17T08:50:38.189916Z",
     "start_time": "2021-09-17T08:50:38.184792Z"
    }
   },
   "outputs": [
    {
     "name": "stdout",
     "output_type": "stream",
     "text": [
      "No weighted\n",
      "    Mean    RMS   Std\n",
      "   uas/yr uas/yr uas/yr\n",
      "R1  +0.14   0.26   0.22\n",
      "R2  -0.10   0.17   0.13\n",
      "R3  -0.38   0.39   0.06\n"
     ]
    }
   ],
   "source": [
    "wmean1, wrms1, wstd1 = rms_calc(spin_tab[\"rx_mean\"])\n",
    "wmean2, wrms2, wstd2 = rms_calc(spin_tab[\"ry_mean\"])\n",
    "wmean3, wrms3, wstd3 = rms_calc(spin_tab[\"rz_mean\"])\n",
    "\n",
    "print(\"No weighted\")\n",
    "print(\"    Mean    RMS   Std\")\n",
    "print(\"   uas/yr uas/yr uas/yr\")\n",
    "print(\"R1  {:+4.2f}   {:4.2f}   {:.2f}\".format(wmean1, wrms1, wstd1))\n",
    "print(\"R2  {:+4.2f}   {:4.2f}   {:.2f}\".format(wmean2, wrms2, wstd2))\n",
    "print(\"R3  {:+4.2f}   {:4.2f}   {:.2f}\".format(wmean3, wrms3, wstd3)) "
   ]
  },
  {
   "cell_type": "code",
   "execution_count": 28,
   "metadata": {
    "ExecuteTime": {
     "end_time": "2021-09-17T08:50:38.195880Z",
     "start_time": "2021-09-17T08:50:38.191294Z"
    },
    "scrolled": true
   },
   "outputs": [
    {
     "name": "stdout",
     "output_type": "stream",
     "text": [
      "Weighted\n",
      "    Mean   WRMS   Std\n",
      "   uas/yr uas/yr uas/yr\n",
      "R1  +0.03   0.11   0.11\n",
      "R2  -0.17   0.19   0.07\n",
      "R3  -0.41   0.41   0.04\n"
     ]
    }
   ],
   "source": [
    "wmean1, wrms1, wstd1 = rms_calc(spin_tab[\"rx_mean\"], spin_tab[\"rx_std\"])\n",
    "wmean2, wrms2, wstd2 = rms_calc(spin_tab[\"ry_mean\"], spin_tab[\"ry_std\"])\n",
    "wmean3, wrms3, wstd3 = rms_calc(spin_tab[\"rz_mean\"], spin_tab[\"rz_std\"])\n",
    "\n",
    "print(\"Weighted\")\n",
    "print(\"    Mean   WRMS   Std\")\n",
    "print(\"   uas/yr uas/yr uas/yr\")\n",
    "print(\"R1  {:+4.2f}   {:4.2f}   {:.2f}\".format(wmean1, wrms1, wstd1))\n",
    "print(\"R2  {:+4.2f}   {:4.2f}   {:.2f}\".format(wmean2, wrms2, wstd2))\n",
    "print(\"R3  {:+4.2f}   {:4.2f}   {:.2f}\".format(wmean3, wrms3, wstd3)) "
   ]
  },
  {
   "cell_type": "code",
   "execution_count": 29,
   "metadata": {
    "ExecuteTime": {
     "end_time": "2021-09-17T08:50:38.203377Z",
     "start_time": "2021-09-17T08:50:38.197999Z"
    }
   },
   "outputs": [
    {
     "name": "stdout",
     "output_type": "stream",
     "text": [
      "The amplitude is 0.44 +/- 0.04 dex, apex of (280.31 +/- 34.15, -66.62 +/- 8.95) deg.\n"
     ]
    }
   ],
   "source": [
    "R = np.array([wmean1, wmean2, wmean3])\n",
    "R_err = np.array([wstd1, wstd2, wstd3])\n",
    "r, RAdeg, DCdeg, r_err, RAdeg_err, DCdeg_err = glide_apex_calc(R, R_err)\n",
    "\n",
    "print(\"The amplitude is {:.2f} +/- {:.2f} dex, \"\n",
    "      \"apex of ({:.2f} +/- {:.2f}, \"\n",
    "      \"{:.2f} +/- {:.2f}) deg.\".format(\n",
    "          r, r_err, \n",
    "          RAdeg, RAdeg_err, \n",
    "          DCdeg, DCdeg_err))"
   ]
  },
  {
   "cell_type": "code",
   "execution_count": 30,
   "metadata": {
    "ExecuteTime": {
     "end_time": "2021-09-17T08:50:38.209042Z",
     "start_time": "2021-09-17T08:50:38.204837Z"
    }
   },
   "outputs": [
    {
     "name": "stdout",
     "output_type": "stream",
     "text": [
      "No weighted\n",
      "    Mean    RMS   Std\n",
      "   uas/yr uas/yr uas/yr\n",
      "G1  +0.67   0.69   0.04\n",
      "G2  +0.14   0.19   0.12\n",
      "G3  +0.25   0.30   0.16\n"
     ]
    }
   ],
   "source": [
    "wmean1, wrms1, wstd1 = rms_calc(spin_tab[\"gx_mean\"])\n",
    "wmean2, wrms2, wstd2 = rms_calc(spin_tab[\"gy_mean\"])\n",
    "wmean3, wrms3, wstd3 = rms_calc(spin_tab[\"gz_mean\"])\n",
    "\n",
    "print(\"No weighted\")\n",
    "print(\"    Mean    RMS   Std\")\n",
    "print(\"   uas/yr uas/yr uas/yr\")\n",
    "print(\"G1  {:+4.2f}   {:4.2f}   {:.2f}\".format(wmean1, wrms1, wstd1))\n",
    "print(\"G2  {:+4.2f}   {:4.2f}   {:.2f}\".format(wmean2, wrms2, wstd2))\n",
    "print(\"G3  {:+4.2f}   {:4.2f}   {:.2f}\".format(wmean3, wrms3, wstd3)) "
   ]
  },
  {
   "cell_type": "code",
   "execution_count": 31,
   "metadata": {
    "ExecuteTime": {
     "end_time": "2021-09-17T08:50:38.216343Z",
     "start_time": "2021-09-17T08:50:38.210711Z"
    },
    "scrolled": true
   },
   "outputs": [
    {
     "name": "stdout",
     "output_type": "stream",
     "text": [
      "Weighted\n",
      "    Mean   WRMS   Std\n",
      "   uas/yr uas/yr uas/yr\n",
      "G1  +0.67   0.67   0.03\n",
      "G2  +0.08   0.11   0.07\n",
      "G3  +0.16   0.19   0.10\n"
     ]
    }
   ],
   "source": [
    "wmean1, wrms1, wstd1 = rms_calc(spin_tab[\"gx_mean\"], spin_tab[\"gx_std\"])\n",
    "wmean2, wrms2, wstd2 = rms_calc(spin_tab[\"gy_mean\"], spin_tab[\"gy_std\"])\n",
    "wmean3, wrms3, wstd3 = rms_calc(spin_tab[\"gz_mean\"], spin_tab[\"gz_std\"])\n",
    "\n",
    "print(\"Weighted\")\n",
    "print(\"    Mean   WRMS   Std\")\n",
    "print(\"   uas/yr uas/yr uas/yr\")\n",
    "print(\"G1  {:+4.2f}   {:4.2f}   {:.2f}\".format(wmean1, wrms1, wstd1))\n",
    "print(\"G2  {:+4.2f}   {:4.2f}   {:.2f}\".format(wmean2, wrms2, wstd2))\n",
    "print(\"G3  {:+4.2f}   {:4.2f}   {:.2f}\".format(wmean3, wrms3, wstd3)) "
   ]
  },
  {
   "cell_type": "code",
   "execution_count": 32,
   "metadata": {
    "ExecuteTime": {
     "end_time": "2021-09-17T08:50:38.222882Z",
     "start_time": "2021-09-17T08:50:38.218280Z"
    }
   },
   "outputs": [
    {
     "name": "stdout",
     "output_type": "stream",
     "text": [
      "The amplitude is 0.69 +/- 0.04 dex, apex of (7.00 +/- 5.91, 13.67 +/- 7.95) deg.\n"
     ]
    }
   ],
   "source": [
    "G = np.array([wmean1, wmean2, wmean3])\n",
    "G_err = np.array([wstd1, wstd2, wstd3])\n",
    "r, RAdeg, DCdeg, r_err, RAdeg_err, DCdeg_err = glide_apex_calc(G, G_err)\n",
    "\n",
    "print(\"The amplitude is {:.2f} +/- {:.2f} dex, \"\n",
    "      \"apex of ({:.2f} +/- {:.2f}, \"\n",
    "      \"{:.2f} +/- {:.2f}) deg.\".format(\n",
    "          r, r_err, \n",
    "          RAdeg, RAdeg_err, \n",
    "          DCdeg, DCdeg_err))"
   ]
  },
  {
   "cell_type": "markdown",
   "metadata": {},
   "source": [
    "Consider the time span of J1979.59 - J2021.15."
   ]
  },
  {
   "cell_type": "code",
   "execution_count": 33,
   "metadata": {
    "ExecuteTime": {
     "end_time": "2021-09-17T08:50:38.230074Z",
     "start_time": "2021-09-17T08:50:38.224183Z"
    }
   },
   "outputs": [
    {
     "name": "stdout",
     "output_type": "stream",
     "text": [
      "Spin : 0.7 muas/yr\n",
      "Time span : 41.4 yr\n",
      "Deformation : 27.3 muas\n",
      "Spin : 0.1 muas/yr\n",
      "Time span : 41.4 yr\n",
      "Deformation : 2.9 muas\n",
      "Spin : 0.5 muas/yr\n",
      "Time span : 41.4 yr\n",
      "Deformation : 20.7 muas\n"
     ]
    }
   ],
   "source": [
    "epoch1 = Time(\"1979-08-03\", scale=\"utc\")\n",
    "epoch2 = Time(\"2020-12-31\", scale=\"utc\")\n",
    "\n",
    "dt = epoch2.jyear - epoch1.jyear\n",
    "spin = 0.66\n",
    "\n",
    "print(\"Spin : {:.1f} muas/yr\".format(spin))\n",
    "print(\"Time span : {:.1f} yr\".format(dt))\n",
    "print(\"Deformation : {:.1f} muas\".format(spin*dt))\n",
    "\n",
    "spin = 0.07\n",
    "\n",
    "print(\"Spin : {:.1f} muas/yr\".format(spin))\n",
    "print(\"Time span : {:.1f} yr\".format(dt))\n",
    "print(\"Deformation : {:.1f} muas\".format(spin*dt))\n",
    "\n",
    "spin = 0.50\n",
    "\n",
    "print(\"Spin : {:.1f} muas/yr\".format(spin))\n",
    "print(\"Time span : {:.1f} yr\".format(dt))\n",
    "print(\"Deformation : {:.1f} muas\".format(spin*dt))"
   ]
  },
  {
   "cell_type": "code",
   "execution_count": 34,
   "metadata": {
    "ExecuteTime": {
     "end_time": "2021-09-17T08:50:38.241152Z",
     "start_time": "2021-09-17T08:50:38.232425Z"
    }
   },
   "outputs": [
    {
     "name": "stdout",
     "output_type": "stream",
     "text": [
      "Spin : 0.3 muas/yr\n",
      "Time span : 41.4 yr\n",
      "Deformation : 12.0 muas\n",
      "Spin : 0.3 muas/yr\n",
      "Time span : 41.4 yr\n",
      "Deformation : 13.7 muas\n",
      "Spin : 0.2 muas/yr\n",
      "Time span : 41.4 yr\n",
      "Deformation : 9.1 muas\n"
     ]
    }
   ],
   "source": [
    "epoch1 = Time(\"1979-08-03\", scale=\"utc\")\n",
    "epoch2 = Time(\"2020-12-31\", scale=\"utc\")\n",
    "\n",
    "dt = epoch2.jyear - epoch1.jyear\n",
    "spin = 0.29\n",
    "\n",
    "print(\"Spin : {:.1f} muas/yr\".format(spin))\n",
    "print(\"Time span : {:.1f} yr\".format(dt))\n",
    "print(\"Deformation : {:.1f} muas\".format(spin*dt))\n",
    "\n",
    "spin = 0.33\n",
    "\n",
    "print(\"Spin : {:.1f} muas/yr\".format(spin))\n",
    "print(\"Time span : {:.1f} yr\".format(dt))\n",
    "print(\"Deformation : {:.1f} muas\".format(spin*dt))\n",
    "\n",
    "spin = 0.22\n",
    "\n",
    "print(\"Spin : {:.1f} muas/yr\".format(spin))\n",
    "print(\"Time span : {:.1f} yr\".format(dt))\n",
    "print(\"Deformation : {:.1f} muas\".format(spin*dt))"
   ]
  },
  {
   "cell_type": "code",
   "execution_count": 35,
   "metadata": {
    "ExecuteTime": {
     "end_time": "2021-09-17T08:50:38.251100Z",
     "start_time": "2021-09-17T08:50:38.243496Z"
    }
   },
   "outputs": [
    {
     "name": "stdout",
     "output_type": "stream",
     "text": [
      "Spin : 0.8 muas/yr\n",
      "Time span : 41.4 yr\n",
      "Deformation : 33.1 muas\n"
     ]
    }
   ],
   "source": [
    "epoch1 = Time(\"1979-08-03\", scale=\"utc\")\n",
    "epoch2 = Time(\"2020-12-31\", scale=\"utc\")\n",
    "\n",
    "dt = epoch2.jyear - epoch1.jyear\n",
    "spin = 0.8\n",
    "\n",
    "print(\"Spin : {:.1f} muas/yr\".format(spin))\n",
    "print(\"Time span : {:.1f} yr\".format(dt))\n",
    "print(\"Deformation : {:.1f} muas\".format(spin*dt))"
   ]
  }
 ],
 "metadata": {
  "hide_input": false,
  "kernelspec": {
   "display_name": "Python 3 (ipykernel)",
   "language": "python",
   "name": "python3"
  },
  "language_info": {
   "codemirror_mode": {
    "name": "ipython",
    "version": 3
   },
   "file_extension": ".py",
   "mimetype": "text/x-python",
   "name": "python",
   "nbconvert_exporter": "python",
   "pygments_lexer": "ipython3",
   "version": "3.9.7"
  },
  "latex_envs": {
   "LaTeX_envs_menu_present": true,
   "autoclose": false,
   "autocomplete": true,
   "bibliofile": "biblio.bib",
   "cite_by": "apalike",
   "current_citInitial": 1,
   "eqLabelWithNumbers": true,
   "eqNumInitial": 1,
   "hotkeys": {
    "equation": "Ctrl-E",
    "itemize": "Ctrl-I"
   },
   "labels_anchors": false,
   "latex_user_defs": false,
   "report_style_numbering": false,
   "user_envs_cfg": false
  },
  "varInspector": {
   "cols": {
    "lenName": 16,
    "lenType": 16,
    "lenVar": 40
   },
   "kernels_config": {
    "python": {
     "delete_cmd_postfix": "",
     "delete_cmd_prefix": "del ",
     "library": "var_list.py",
     "varRefreshCmd": "print(var_dic_list())"
    },
    "r": {
     "delete_cmd_postfix": ") ",
     "delete_cmd_prefix": "rm(",
     "library": "var_list.r",
     "varRefreshCmd": "cat(var_dic_list()) "
    }
   },
   "types_to_exclude": [
    "module",
    "function",
    "builtin_function_or_method",
    "instance",
    "_Feature"
   ],
   "window_display": false
  }
 },
 "nbformat": 4,
 "nbformat_minor": 4
}
