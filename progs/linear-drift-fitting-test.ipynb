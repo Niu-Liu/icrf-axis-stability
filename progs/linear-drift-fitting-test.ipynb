{
 "cells": [
  {
   "cell_type": "markdown",
   "metadata": {},
   "source": [
    "In this notebook, I fit the linear drift of the radio source coordinate time series."
   ]
  },
  {
   "cell_type": "code",
   "execution_count": 1,
   "metadata": {
    "ExecuteTime": {
     "end_time": "2021-03-15T05:56:12.254233Z",
     "start_time": "2021-03-15T05:56:10.619453Z"
    }
   },
   "outputs": [],
   "source": [
    "import numpy as np\n",
    "import matplotlib.pyplot as plt\n",
    "# from matplotlib.ticker import MultipleLocator\n",
    "from sklearn import linear_model\n",
    "from sklearn.metrics import mean_squared_error, r2_score\n",
    "from statsmodels.iolib.table import (SimpleTable, default_txt_fmt)\n",
    "%matplotlib inline\n",
    "%config InlineBackend.figure_format = \"svg\"\n",
    "\n",
    "# My progs\n",
    "from read_ts import get_ts"
   ]
  },
  {
   "cell_type": "code",
   "execution_count": 2,
   "metadata": {
    "ExecuteTime": {
     "end_time": "2021-03-15T05:56:13.306413Z",
     "start_time": "2021-03-15T05:56:12.256399Z"
    }
   },
   "outputs": [
    {
     "ename": "AttributeError",
     "evalue": "'numpy.ndarray' object has no attribute 'info'",
     "output_type": "error",
     "traceback": [
      "\u001b[0;31m---------------------------------------------------------------------------\u001b[0m",
      "\u001b[0;31mAttributeError\u001b[0m                            Traceback (most recent call last)",
      "\u001b[0;32m<ipython-input-2-70da05870061>\u001b[0m in \u001b[0;36m<module>\u001b[0;34m\u001b[0m\n\u001b[1;32m      1\u001b[0m \u001b[0msouname\u001b[0m \u001b[0;34m=\u001b[0m \u001b[0;34m\"2250+190\"\u001b[0m\u001b[0;34m\u001b[0m\u001b[0;34m\u001b[0m\u001b[0m\n\u001b[0;32m----> 2\u001b[0;31m \u001b[0mcoordts\u001b[0m \u001b[0;34m=\u001b[0m \u001b[0mget_ts\u001b[0m\u001b[0;34m(\u001b[0m\u001b[0msouname\u001b[0m\u001b[0;34m,\u001b[0m \u001b[0;34m\"../data/ts\"\u001b[0m\u001b[0;34m)\u001b[0m\u001b[0;34m\u001b[0m\u001b[0;34m\u001b[0m\u001b[0m\n\u001b[0m",
      "\u001b[0;32m~/Documents/github/icrf-axis-stability/progs/read_ts.py\u001b[0m in \u001b[0;36mget_ts\u001b[0;34m(souname, datadir)\u001b[0m\n\u001b[1;32m    239\u001b[0m     \u001b[0mpa\u001b[0m \u001b[0;34m=\u001b[0m \u001b[0mdpos\u001b[0m\u001b[0;34m[\u001b[0m\u001b[0;34m\"pa\"\u001b[0m\u001b[0;34m]\u001b[0m\u001b[0;34m\u001b[0m\u001b[0;34m\u001b[0m\u001b[0m\n\u001b[1;32m    240\u001b[0m \u001b[0;34m\u001b[0m\u001b[0m\n\u001b[0;32m--> 241\u001b[0;31m     \u001b[0mcoordts\u001b[0m\u001b[0;34m.\u001b[0m\u001b[0madd_columns\u001b[0m\u001b[0;34m(\u001b[0m\u001b[0;34m[\u001b[0m\u001b[0mdra\u001b[0m\u001b[0;34m,\u001b[0m \u001b[0mddec\u001b[0m\u001b[0;34m,\u001b[0m \u001b[0mrho\u001b[0m\u001b[0;34m,\u001b[0m \u001b[0mpa\u001b[0m\u001b[0;34m]\u001b[0m\u001b[0;34m,\u001b[0m \u001b[0mnames\u001b[0m\u001b[0;34m=\u001b[0m\u001b[0;34m[\u001b[0m\u001b[0;34m\"dra\"\u001b[0m\u001b[0;34m,\u001b[0m \u001b[0;34m\"ddec\"\u001b[0m\u001b[0;34m,\u001b[0m \u001b[0;34m\"rho\"\u001b[0m\u001b[0;34m,\u001b[0m \u001b[0;34m\"pa\"\u001b[0m\u001b[0;34m]\u001b[0m\u001b[0;34m)\u001b[0m\u001b[0;34m\u001b[0m\u001b[0;34m\u001b[0m\u001b[0m\n\u001b[0m\u001b[1;32m    242\u001b[0m \u001b[0;34m\u001b[0m\u001b[0m\n\u001b[1;32m    243\u001b[0m     \u001b[0;32mreturn\u001b[0m \u001b[0mcoordts\u001b[0m\u001b[0;34m\u001b[0m\u001b[0;34m\u001b[0m\u001b[0m\n",
      "\u001b[0;32m~/anaconda3/lib/python3.7/site-packages/astropy/table/table.py\u001b[0m in \u001b[0;36madd_columns\u001b[0;34m(self, cols, indexes, names, copy, rename_duplicate)\u001b[0m\n\u001b[1;32m   1800\u001b[0m \u001b[0;34m\u001b[0m\u001b[0m\n\u001b[1;32m   1801\u001b[0m         \u001b[0;32mif\u001b[0m \u001b[0mcopy\u001b[0m\u001b[0;34m:\u001b[0m\u001b[0;34m\u001b[0m\u001b[0;34m\u001b[0m\u001b[0m\n\u001b[0;32m-> 1802\u001b[0;31m             \u001b[0mcols\u001b[0m \u001b[0;34m=\u001b[0m \u001b[0;34m[\u001b[0m\u001b[0mcol_copy\u001b[0m\u001b[0;34m(\u001b[0m\u001b[0mcol\u001b[0m\u001b[0;34m)\u001b[0m \u001b[0;32mfor\u001b[0m \u001b[0mcol\u001b[0m \u001b[0;32min\u001b[0m \u001b[0mcols\u001b[0m\u001b[0;34m]\u001b[0m\u001b[0;34m\u001b[0m\u001b[0;34m\u001b[0m\u001b[0m\n\u001b[0m\u001b[1;32m   1803\u001b[0m \u001b[0;34m\u001b[0m\u001b[0m\n\u001b[1;32m   1804\u001b[0m         \u001b[0;32mif\u001b[0m \u001b[0mlen\u001b[0m\u001b[0;34m(\u001b[0m\u001b[0mself\u001b[0m\u001b[0;34m.\u001b[0m\u001b[0mcolumns\u001b[0m\u001b[0;34m)\u001b[0m \u001b[0;34m==\u001b[0m \u001b[0;36m0\u001b[0m\u001b[0;34m:\u001b[0m\u001b[0;34m\u001b[0m\u001b[0;34m\u001b[0m\u001b[0m\n",
      "\u001b[0;32m~/anaconda3/lib/python3.7/site-packages/astropy/table/table.py\u001b[0m in \u001b[0;36m<listcomp>\u001b[0;34m(.0)\u001b[0m\n\u001b[1;32m   1800\u001b[0m \u001b[0;34m\u001b[0m\u001b[0m\n\u001b[1;32m   1801\u001b[0m         \u001b[0;32mif\u001b[0m \u001b[0mcopy\u001b[0m\u001b[0;34m:\u001b[0m\u001b[0;34m\u001b[0m\u001b[0;34m\u001b[0m\u001b[0m\n\u001b[0;32m-> 1802\u001b[0;31m             \u001b[0mcols\u001b[0m \u001b[0;34m=\u001b[0m \u001b[0;34m[\u001b[0m\u001b[0mcol_copy\u001b[0m\u001b[0;34m(\u001b[0m\u001b[0mcol\u001b[0m\u001b[0;34m)\u001b[0m \u001b[0;32mfor\u001b[0m \u001b[0mcol\u001b[0m \u001b[0;32min\u001b[0m \u001b[0mcols\u001b[0m\u001b[0;34m]\u001b[0m\u001b[0;34m\u001b[0m\u001b[0;34m\u001b[0m\u001b[0m\n\u001b[0m\u001b[1;32m   1803\u001b[0m \u001b[0;34m\u001b[0m\u001b[0m\n\u001b[1;32m   1804\u001b[0m         \u001b[0;32mif\u001b[0m \u001b[0mlen\u001b[0m\u001b[0;34m(\u001b[0m\u001b[0mself\u001b[0m\u001b[0;34m.\u001b[0m\u001b[0mcolumns\u001b[0m\u001b[0;34m)\u001b[0m \u001b[0;34m==\u001b[0m \u001b[0;36m0\u001b[0m\u001b[0;34m:\u001b[0m\u001b[0;34m\u001b[0m\u001b[0;34m\u001b[0m\u001b[0m\n",
      "\u001b[0;32m~/anaconda3/lib/python3.7/site-packages/astropy/table/column.py\u001b[0m in \u001b[0;36mcol_copy\u001b[0;34m(col, copy_indices)\u001b[0m\n\u001b[1;32m     90\u001b[0m     \u001b[0;31m# manner.\u001b[0m\u001b[0;34m\u001b[0m\u001b[0;34m\u001b[0m\u001b[0;34m\u001b[0m\u001b[0m\n\u001b[1;32m     91\u001b[0m \u001b[0;34m\u001b[0m\u001b[0m\n\u001b[0;32m---> 92\u001b[0;31m     \u001b[0mparent_table\u001b[0m \u001b[0;34m=\u001b[0m \u001b[0mcol\u001b[0m\u001b[0;34m.\u001b[0m\u001b[0minfo\u001b[0m\u001b[0;34m.\u001b[0m\u001b[0mparent_table\u001b[0m\u001b[0;34m\u001b[0m\u001b[0;34m\u001b[0m\u001b[0m\n\u001b[0m\u001b[1;32m     93\u001b[0m     \u001b[0mindices\u001b[0m \u001b[0;34m=\u001b[0m \u001b[0mcol\u001b[0m\u001b[0;34m.\u001b[0m\u001b[0minfo\u001b[0m\u001b[0;34m.\u001b[0m\u001b[0mindices\u001b[0m\u001b[0;34m\u001b[0m\u001b[0;34m\u001b[0m\u001b[0m\n\u001b[1;32m     94\u001b[0m     \u001b[0mcol\u001b[0m\u001b[0;34m.\u001b[0m\u001b[0minfo\u001b[0m\u001b[0;34m.\u001b[0m\u001b[0mparent_table\u001b[0m \u001b[0;34m=\u001b[0m \u001b[0;32mNone\u001b[0m\u001b[0;34m\u001b[0m\u001b[0;34m\u001b[0m\u001b[0m\n",
      "\u001b[0;31mAttributeError\u001b[0m: 'numpy.ndarray' object has no attribute 'info'"
     ]
    }
   ],
   "source": [
    "souname = \"2250+190\"\n",
    "coordts = get_ts(souname, \"../data/ts\")"
   ]
  },
  {
   "cell_type": "code",
   "execution_count": null,
   "metadata": {
    "ExecuteTime": {
     "end_time": "2021-03-15T05:56:13.309516Z",
     "start_time": "2021-03-15T05:56:10.504Z"
    }
   },
   "outputs": [],
   "source": [
    "coordts"
   ]
  },
  {
   "cell_type": "markdown",
   "metadata": {},
   "source": [
    "# 1 Linear drift test\n",
    "\n",
    "## 1.1 Without weights, with intercept"
   ]
  },
  {
   "cell_type": "code",
   "execution_count": null,
   "metadata": {
    "ExecuteTime": {
     "end_time": "2021-03-15T05:56:13.310117Z",
     "start_time": "2021-03-15T05:56:10.506Z"
    }
   },
   "outputs": [],
   "source": [
    "# Create linear regression object\n",
    "regr1 = linear_model.LinearRegression()\n",
    "\n",
    "mjy = np.array(coordts[\"mjy\"])\n",
    "mjy = mjy[:, np.newaxis]\n",
    "\n",
    "# Train the model using the training sets\n",
    "reg1 = regr1.fit(mjy, coordts[\"dra\"])\n",
    "\n",
    "# # Make predictions using the testing set\n",
    "dra1 = reg1.predict(mjy)\n",
    "\n",
    "# The coefficients\n",
    "print(\"t_0 = 0\")\n",
    "print(\"Coefficients: %.3f mas/yr\" % reg1.coef_[0])\n",
    "print(\"Interception: %.3f mas\" % reg1.intercept_)\n",
    "\n",
    "# The mean squared error\n",
    "print(\"Mean squared error: %.2f\"\n",
    "      % mean_squared_error(coordts[\"dra\"], dra1))\n",
    "\n",
    "# The coefficient of determination: 1 is perfect prediction\n",
    "print(\"Coefficient of determination: %.2f\"\n",
    "      % r2_score(coordts[\"dra\"], dra1))"
   ]
  },
  {
   "cell_type": "code",
   "execution_count": null,
   "metadata": {
    "ExecuteTime": {
     "end_time": "2021-03-15T05:56:13.310718Z",
     "start_time": "2021-03-15T05:56:10.507Z"
    }
   },
   "outputs": [],
   "source": [
    "# Create linear regression object\n",
    "mjy = np.array(coordts[\"mjy\"]-2000)\n",
    "mjy = mjy[:, np.newaxis]\n",
    "\n",
    "# Train the model using the training sets\n",
    "reg1_a = regr1.fit(mjy, coordts[\"dra\"])\n",
    "\n",
    "# # Make predictions using the testing set\n",
    "dra1_a = reg1_a.predict(mjy)\n",
    "\n",
    "# The coefficients\n",
    "print(\"t_0 = 2000\")\n",
    "print(\"Coefficients: %.3f mas/yr\" % reg1_a.coef_[0])\n",
    "print(\"Interception: %.3f mas\" % reg1_a.intercept_)\n",
    "\n",
    "# The mean squared error\n",
    "print(\"Mean squared error: %.2f\"\n",
    "      % mean_squared_error(coordts[\"dra\"], dra1_a))\n",
    "\n",
    "# The coefficient of determination: 1 is perfect prediction\n",
    "print(\"Coefficient of determination: %.2f\"\n",
    "      % r2_score(coordts[\"dra\"], dra1_a))"
   ]
  },
  {
   "cell_type": "code",
   "execution_count": null,
   "metadata": {
    "ExecuteTime": {
     "end_time": "2021-03-15T05:56:13.311384Z",
     "start_time": "2021-03-15T05:56:10.509Z"
    }
   },
   "outputs": [],
   "source": [
    "mjy = np.array(coordts[\"mjy\"]-2015)\n",
    "mjy = mjy[:, np.newaxis]\n",
    "\n",
    "# Train the model using the training sets\n",
    "reg1_b = regr1.fit(mjy, coordts[\"dra\"])\n",
    "\n",
    "# # Make predictions using the testing set\n",
    "dra1_b = reg1_b.predict(mjy)\n",
    "\n",
    "# The coefficients\n",
    "print(\"t_0 = 2000\")\n",
    "print(\"Coefficients: %.3f mas/yr\" % reg1_b.coef_[0])\n",
    "print(\"Interception: %.3f mas\" % reg1_b.intercept_)\n",
    "\n",
    "# The mean squared error\n",
    "print(\"Mean squared error: %.2f\"\n",
    "      % mean_squared_error(coordts[\"dra\"], dra1_b))\n",
    "\n",
    "# The coefficient of determination: 1 is perfect prediction\n",
    "print(\"Coefficient of determination: %.2f\"\n",
    "      % r2_score(coordts[\"dra\"], dra1_b))"
   ]
  },
  {
   "cell_type": "markdown",
   "metadata": {},
   "source": [
    "## 1.2 -- Without weights, without intercept"
   ]
  },
  {
   "cell_type": "code",
   "execution_count": null,
   "metadata": {
    "ExecuteTime": {
     "end_time": "2021-03-15T05:56:13.311984Z",
     "start_time": "2021-03-15T05:56:10.510Z"
    }
   },
   "outputs": [],
   "source": [
    "# Create linear regression object\n",
    "regr2 = linear_model.LinearRegression(fit_intercept=False)\n",
    "\n",
    "mjy = np.array(coordts[\"mjy\"])\n",
    "mjy = mjy[:, np.newaxis]\n",
    "\n",
    "# Train the model using the training sets\n",
    "reg2 = regr2.fit(mjy, coordts[\"dra\"])\n",
    "\n",
    "# # Make predictions using the testing set\n",
    "dra2 = reg2.predict(mjy)\n",
    "\n",
    "# The coefficients\n",
    "print(\"Coefficients: %.3f mas/yr\" % reg2.coef_[0])\n",
    "print(\"Interception: %.3f mas\" % reg2.intercept_)\n",
    "\n",
    "# The mean squared error\n",
    "print(\"Mean squared error: %.2f\"\n",
    "      % mean_squared_error(coordts[\"dra\"], dra2))\n",
    "\n",
    "# The coefficient of determination: 1 is perfect prediction\n",
    "print(\"Coefficient of determination: %.2f\"\n",
    "      % r2_score(coordts[\"dra\"], dra2))"
   ]
  },
  {
   "cell_type": "markdown",
   "metadata": {},
   "source": [
    "## 1.3 -- With weights, with intercept"
   ]
  },
  {
   "cell_type": "code",
   "execution_count": null,
   "metadata": {
    "ExecuteTime": {
     "end_time": "2021-03-15T05:56:13.312572Z",
     "start_time": "2021-03-15T05:56:10.511Z"
    }
   },
   "outputs": [],
   "source": [
    "# Create linear regression object\n",
    "mjy = np.array(coordts[\"mjy\"]-2015)\n",
    "mjy = mjy[:, np.newaxis]\n",
    "\n",
    "wgt = np.sum(1 / coordts[\"ra_err\"]**2) / coordts[\"ra_err\"]**2\n",
    "\n",
    "# Train the model using the training sets\n",
    "reg3 = regr1.fit(mjy, coordts[\"dra\"], wgt)\n",
    "\n",
    "# # Make predictions using the testing set\n",
    "dra3 = reg3.predict(mjy)\n",
    "\n",
    "# The coefficients\n",
    "print(\"Coefficients: %.3f mas/yr\" % reg3.coef_[0])\n",
    "print(\"Interception: %.3f mas\" % reg3.intercept_)\n",
    "\n",
    "# The mean squared error\n",
    "print(\"Mean squared error: %.2f\"\n",
    "      % mean_squared_error(coordts[\"dra\"], dra3))\n",
    "\n",
    "# The coefficient of determination: 1 is perfect prediction\n",
    "print(\"Coefficient of determination: %.2f\"\n",
    "      % r2_score(coordts[\"dra\"], dra3))"
   ]
  },
  {
   "cell_type": "markdown",
   "metadata": {},
   "source": [
    "## 1.4 -- With weights, without intercept"
   ]
  },
  {
   "cell_type": "code",
   "execution_count": null,
   "metadata": {
    "ExecuteTime": {
     "end_time": "2021-03-15T05:56:13.313111Z",
     "start_time": "2021-03-15T05:56:10.513Z"
    }
   },
   "outputs": [],
   "source": [
    "# Create linear regression object\n",
    "mjy = np.array(coordts[\"mjy\"]-2015)\n",
    "mjy = mjy[:, np.newaxis]\n",
    "\n",
    "# Train the model using the training sets\n",
    "reg4 = regr2.fit(mjy, coordts[\"dra\"], 1 / coordts[\"ra_err\"]**2)\n",
    "\n",
    "# # Make predictions using the testing set\n",
    "dra4 = reg4.predict(mjy)\n",
    "\n",
    "# The coefficients\n",
    "print(\"Coefficients: %.3f mas/yr\" % reg4.coef_[0])\n",
    "print(\"Interception: %.3f mas\" % reg4.intercept_)\n",
    "\n",
    "# The mean squared error\n",
    "print(\"Mean squared error: %.2f\"\n",
    "      % mean_squared_error(coordts[\"dra\"], dra4))\n",
    "\n",
    "# The coefficient of determination: 1 is perfect prediction\n",
    "print(\"Coefficient of determination: %.2f\"\n",
    "      % r2_score(coordts[\"dra\"], dra4))"
   ]
  },
  {
   "cell_type": "markdown",
   "metadata": {},
   "source": [
    "## 1.5 -- RANSAC algorithm"
   ]
  },
  {
   "cell_type": "code",
   "execution_count": null,
   "metadata": {
    "ExecuteTime": {
     "end_time": "2021-03-15T05:56:13.313651Z",
     "start_time": "2021-03-15T05:56:10.514Z"
    }
   },
   "outputs": [],
   "source": [
    "ransac = linear_model.RANSACRegressor()\n",
    "reg5 = ransac.fit(mjy, coordts[\"dra\"], 1 / coordts[\"ra_err\"]**2)\n",
    "inlier_mask = reg5.inlier_mask_\n",
    "outlier_mask = np.logical_not(inlier_mask)\n",
    "dra5 = reg5.predict(mjy)"
   ]
  },
  {
   "cell_type": "markdown",
   "metadata": {},
   "source": [
    "## 1.6 Ordinary Least Square (OLS) from statsmodels"
   ]
  },
  {
   "cell_type": "code",
   "execution_count": null,
   "metadata": {
    "ExecuteTime": {
     "end_time": "2021-03-15T05:56:13.314328Z",
     "start_time": "2021-03-15T05:56:10.517Z"
    }
   },
   "outputs": [],
   "source": [
    "import statsmodels.api as sm"
   ]
  },
  {
   "cell_type": "code",
   "execution_count": null,
   "metadata": {
    "ExecuteTime": {
     "end_time": "2021-03-15T05:56:13.314851Z",
     "start_time": "2021-03-15T05:56:10.522Z"
    }
   },
   "outputs": [],
   "source": [
    "mjy = np.array(coordts[\"mjy\"]-2015)\n",
    "mjy = sm.add_constant(mjy)\n",
    "\n",
    "mod_ols = sm.OLS(coordts[\"dra\"], mjy)\n",
    "res_ols = mod_ols.fit()\n",
    "\n",
    "print(res_ols.summary())\n",
    "dra6 = res_ols.fittedvalues"
   ]
  },
  {
   "cell_type": "markdown",
   "metadata": {},
   "source": [
    "## 1.7 Weighted Least Square (WLS) from statsmodels"
   ]
  },
  {
   "cell_type": "code",
   "execution_count": null,
   "metadata": {
    "ExecuteTime": {
     "end_time": "2021-03-15T05:56:13.315442Z",
     "start_time": "2021-03-15T05:56:10.527Z"
    }
   },
   "outputs": [],
   "source": [
    "mjy = np.array(coordts[\"mjy\"]-2015)\n",
    "mjy = sm.add_constant(mjy)\n",
    "\n",
    "mod_wls = sm.WLS(coordts[\"dra\"], mjy, weights=1./(coordts[\"ra_err\"] ** 2))\n",
    "res_wls = mod_wls.fit()\n",
    "print(res_wls.summary())\n",
    "\n",
    "dra7 = res_wls.fittedvalues"
   ]
  },
  {
   "cell_type": "code",
   "execution_count": null,
   "metadata": {
    "ExecuteTime": {
     "end_time": "2021-03-15T05:56:13.316021Z",
     "start_time": "2021-03-15T05:56:10.529Z"
    }
   },
   "outputs": [],
   "source": [
    "res_wls.params"
   ]
  },
  {
   "cell_type": "code",
   "execution_count": null,
   "metadata": {
    "ExecuteTime": {
     "end_time": "2021-03-15T05:56:13.316620Z",
     "start_time": "2021-03-15T05:56:10.531Z"
    }
   },
   "outputs": [],
   "source": [
    "res_wls.bse"
   ]
  },
  {
   "cell_type": "markdown",
   "metadata": {},
   "source": [
    "## 1.8 Curve_fit"
   ]
  },
  {
   "cell_type": "code",
   "execution_count": null,
   "metadata": {
    "ExecuteTime": {
     "end_time": "2021-03-15T05:56:13.317327Z",
     "start_time": "2021-03-15T05:56:10.533Z"
    }
   },
   "outputs": [],
   "source": [
    "#!/usr/bin/env python3\n",
    "# -*- coding: utf-8 -*-\n",
    "# File name: linear_fit.py\n",
    "\"\"\"\n",
    "Created on Thu Mar 28 10:40:19 2019\n",
    "\n",
    "@author: Neo(liuniu@smail.nju.edu.cn)\n",
    "\"\"\"\n",
    "\n",
    "\n",
    "import numpy as np\n",
    "from numpy import sqrt\n",
    "from scipy.optimize import curve_fit\n",
    "\n",
    "def linear_func(x, a, b):\n",
    "    return a + b * x\n",
    "\n",
    "\n",
    "def linear_fit1(x, y, yerr=None, return_mod=False):\n",
    "    \"\"\"(Weighted) Linear fitting of y(x) = offset + drift * x\n",
    "\n",
    "    Parameters\n",
    "    ---------\n",
    "    x / y : series\n",
    "\n",
    "    Returns\n",
    "    -------\n",
    "    offset/offset_err : float\n",
    "        estimate and formal uncertainty of offset\n",
    "    drift/drift_err : float\n",
    "        estimate and formal uncertainty of offset\n",
    "    y_model : array_like of float\n",
    "        predicition series from linear model of y\n",
    "    \"\"\"\n",
    "\n",
    "    if yerr is None:\n",
    "        popt, pcov = curve_fit(linear_func, x, y)\n",
    "    else:\n",
    "        popt, pcov = curve_fit(\n",
    "            linear_func, x, y, sigma=yerr, absolute_sigma=True)\n",
    "\n",
    "    offset, drift = popt\n",
    "    offset_err, drift_err = sqrt(pcov[0, 0]), sqrt(pcov[1, 1])\n",
    "    corr = pcov[0, 1] / offset_err / drift_err\n",
    "\n",
    "    # Prediction\n",
    "    y_model = linear_func(x, *popt)\n",
    "\n",
    "    if return_mod:\n",
    "        return offset, offset_err, drift, drift_err, corr, y_model\n",
    "    else:\n",
    "        return offset, offset_err, drift, drift_err, corr\n",
    "    \n",
    "def linear_fit2(x, y, yerr=None, return_mod=False):\n",
    "    \"\"\"(Weighted) Linear fitting of y(x) = offset + drift * x\n",
    "\n",
    "    Parameters\n",
    "    ---------\n",
    "    x / y : series\n",
    "\n",
    "    Returns\n",
    "    -------\n",
    "    offset/offset_err : float\n",
    "        estimate and formal uncertainty of offset\n",
    "    drift/drift_err : float\n",
    "        estimate and formal uncertainty of offset\n",
    "    y_model : array_like of float\n",
    "        predicition series from linear model of y\n",
    "    \"\"\"\n",
    "\n",
    "    if yerr is None:\n",
    "        popt, pcov = curve_fit(linear_func, x, y)\n",
    "    else:\n",
    "        popt, pcov = curve_fit(\n",
    "            linear_func, x, y, sigma=yerr, absolute_sigma=False)\n",
    "\n",
    "    offset, drift = popt\n",
    "    offset_err, drift_err = sqrt(pcov[0, 0]), sqrt(pcov[1, 1])\n",
    "    corr = pcov[0, 1] / offset_err / drift_err\n",
    "\n",
    "    # Prediction\n",
    "    y_model = linear_func(x, *popt)\n",
    "\n",
    "    if return_mod:\n",
    "        return offset, offset_err, drift, drift_err, corr, y_model\n",
    "    else:\n",
    "        return offset, offset_err, drift, drift_err, corr"
   ]
  },
  {
   "cell_type": "code",
   "execution_count": null,
   "metadata": {
    "ExecuteTime": {
     "end_time": "2021-03-15T05:56:13.317876Z",
     "start_time": "2021-03-15T05:56:10.534Z"
    }
   },
   "outputs": [],
   "source": [
    "mjy = np.array(coordts[\"mjy\"]-2015)\n",
    "pmt1 = linear_fit1(mjy, coordts[\"dra\"], yerr=coordts[\"ra_err\"], return_mod=True)\n",
    "pmt2 = linear_fit2(mjy, coordts[\"dra\"], yerr=coordts[\"ra_err\"], return_mod=True)\n",
    "\n",
    "se = np.vstack([[pmt1[1], pmt1[3]], \n",
    "                [pmt2[1], pmt2[3]]])\n",
    "se = np.round(se, 4)\n",
    "\n",
    "colnames = [\"x0_err\", \"x1_err\"]\n",
    "rownames = [\"ABS\", \"RET\"]\n",
    "\n",
    "tab = SimpleTable(se, colnames, rownames, txt_fmt=default_txt_fmt)\n",
    "\n",
    "print(\"Formal errors are \")\n",
    "print(tab)"
   ]
  },
  {
   "cell_type": "code",
   "execution_count": null,
   "metadata": {
    "ExecuteTime": {
     "end_time": "2021-03-15T05:56:13.318478Z",
     "start_time": "2021-03-15T05:56:10.536Z"
    }
   },
   "outputs": [],
   "source": [
    "se = np.vstack([[reg1.coef_[0], reg1.intercept_], \n",
    "                [reg2.coef_[0], reg2.intercept_], \n",
    "                [reg3.coef_[0], reg3.intercept_],\n",
    "                [reg4.coef_[0], reg4.intercept_], \n",
    "                [0, 0],\n",
    "                [res_ols.params[1], res_ols.params[0]], \n",
    "                [res_wls.params[1], res_wls.params[0]],\n",
    "                [pmt1[2], pmt1[0]], \n",
    "                [pmt2[2], pmt2[0]]])\n",
    "\n",
    "se = np.round(se, 4)\n",
    "\n",
    "colnames = [\"x1\", \"x0\"]\n",
    "rownames = [\"SK_OWI\", \"SK_ONI\", \"SK_WWI\", \"SK_WNI\", \"SK_RAN\",\n",
    "           \"ST_OLS\", \"ST_WLS\", \"CF_ABS\", \"CF_RET\"]\n",
    "\n",
    "tabl = SimpleTable(se, colnames, rownames, txt_fmt=default_txt_fmt)\n",
    "print(tabl)"
   ]
  },
  {
   "cell_type": "code",
   "execution_count": null,
   "metadata": {
    "ExecuteTime": {
     "end_time": "2021-03-15T05:56:13.319019Z",
     "start_time": "2021-03-15T05:56:10.537Z"
    }
   },
   "outputs": [],
   "source": [
    "# Plot outputs\n",
    "plt.errorbar(coordts[\"mjy\"], coordts[\"dra\"], yerr=coordts[\"ra_err\"], \n",
    "             color=\"black\", ms=2, fmt=\".\", elinewidth=0.2)\n",
    "plt.plot(coordts[\"mjy\"], dra1, color=\"b\", linewidth=1, label=\"Method#1\")\n",
    "plt.plot(coordts[\"mjy\"], dra2, color=\"y\", linewidth=1, label=\"Method#2\")\n",
    "plt.plot(coordts[\"mjy\"], dra3, color=\"r\", linewidth=1, label=\"Method#3\")\n",
    "plt.plot(coordts[\"mjy\"], dra4, color=\"g\", linewidth=1, label=\"Method#4\")\n",
    "plt.plot(coordts[\"mjy\"], dra5, color=\"m\", linewidth=1, label=\"Method#5\")\n",
    "plt.plot(coordts[\"mjy\"], dra6, color=\"royalblue\", linewidth=1, label=\"Method#6\")\n",
    "plt.plot(coordts[\"mjy\"], dra7, color=\"skyblue\", linewidth=1, label=\"Method#7\")\n",
    "\n",
    "plt.legend(fontsize=\"x-small\")\n",
    "plt.ylim([-10, 10])"
   ]
  },
  {
   "cell_type": "markdown",
   "metadata": {},
   "source": [
    "# 2. statistics of the time series"
   ]
  },
  {
   "cell_type": "code",
   "execution_count": null,
   "metadata": {
    "ExecuteTime": {
     "end_time": "2021-03-15T05:56:13.319589Z",
     "start_time": "2021-03-15T05:56:10.538Z"
    }
   },
   "outputs": [],
   "source": [
    "X_a = coordts[\"dra\"] / coordts[\"ra_err\"]\n",
    "X_d = coordts[\"ddec\"] / coordts[\"dec_err\"]"
   ]
  },
  {
   "cell_type": "code",
   "execution_count": null,
   "metadata": {
    "ExecuteTime": {
     "end_time": "2021-03-15T05:56:13.320200Z",
     "start_time": "2021-03-15T05:56:10.540Z"
    }
   },
   "outputs": [],
   "source": [
    "coordts1 = coordts[((X_a <= 10) & (coordts[\"dra\"] < 10))]\n",
    "coordts2 = coordts[((X_d <= 10) & (coordts[\"ddec\"] < 10))]"
   ]
  }
 ],
 "metadata": {
  "hide_input": false,
  "kernelspec": {
   "display_name": "Python 3",
   "language": "python",
   "name": "python3"
  },
  "language_info": {
   "codemirror_mode": {
    "name": "ipython",
    "version": 3
   },
   "file_extension": ".py",
   "mimetype": "text/x-python",
   "name": "python",
   "nbconvert_exporter": "python",
   "pygments_lexer": "ipython3",
   "version": "3.7.4"
  },
  "latex_envs": {
   "LaTeX_envs_menu_present": true,
   "autoclose": false,
   "autocomplete": true,
   "bibliofile": "biblio.bib",
   "cite_by": "apalike",
   "current_citInitial": 1,
   "eqLabelWithNumbers": true,
   "eqNumInitial": 1,
   "hotkeys": {
    "equation": "Ctrl-E",
    "itemize": "Ctrl-I"
   },
   "labels_anchors": false,
   "latex_user_defs": false,
   "report_style_numbering": false,
   "user_envs_cfg": false
  },
  "varInspector": {
   "cols": {
    "lenName": 16,
    "lenType": 16,
    "lenVar": 40
   },
   "kernels_config": {
    "python": {
     "delete_cmd_postfix": "",
     "delete_cmd_prefix": "del ",
     "library": "var_list.py",
     "varRefreshCmd": "print(var_dic_list())"
    },
    "r": {
     "delete_cmd_postfix": ") ",
     "delete_cmd_prefix": "rm(",
     "library": "var_list.r",
     "varRefreshCmd": "cat(var_dic_list()) "
    }
   },
   "types_to_exclude": [
    "module",
    "function",
    "builtin_function_or_method",
    "instance",
    "_Feature"
   ],
   "window_display": false
  }
 },
 "nbformat": 4,
 "nbformat_minor": 4
}
