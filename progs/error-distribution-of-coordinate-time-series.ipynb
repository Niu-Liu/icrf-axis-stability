{
 "cells": [
  {
   "cell_type": "markdown",
   "id": "98db774b",
   "metadata": {},
   "source": [
    "I look at the formal uncertainty of the coordinates for radio sources."
   ]
  },
  {
   "cell_type": "code",
   "execution_count": 1,
   "id": "67c22a3a",
   "metadata": {
    "ExecuteTime": {
     "end_time": "2021-10-26T06:02:32.991916Z",
     "start_time": "2021-10-26T06:02:31.237952Z"
    }
   },
   "outputs": [],
   "source": [
    "from astropy.table import Table, join\n",
    "import numpy as np\n",
    "\n",
    "import matplotlib.pyplot as plt\n",
    "%matplotlib inline"
   ]
  },
  {
   "cell_type": "markdown",
   "id": "eef0f3a1",
   "metadata": {},
   "source": [
    "Load the statistical information."
   ]
  },
  {
   "cell_type": "code",
   "execution_count": 2,
   "id": "c875cdc0",
   "metadata": {
    "ExecuteTime": {
     "end_time": "2021-10-26T06:02:33.431378Z",
     "start_time": "2021-10-26T06:02:32.994564Z"
    }
   },
   "outputs": [],
   "source": [
    "# 4-step\n",
    "ts_stats4 = Table.read(\"../logs/ts_stat_nju_20210531.log\", format=\"ascii\")\n",
    "\n",
    "# 8-step\n",
    "ts_stats8 = Table.read(\"../logs/ts_stat_nju_20210608.log\", format=\"ascii\")\n",
    "\n",
    "# 10-step\n",
    "ts_stats10 = Table.read(\"../logs/ts_stat_nju_20210605.log\", format=\"ascii\")\n",
    "\n",
    "# 20-step\n",
    "ts_stats20 = Table.read(\"../logs/ts_stat_nju_20210609.log\", format=\"ascii\")"
   ]
  },
  {
   "cell_type": "code",
   "execution_count": 3,
   "id": "388dfca1",
   "metadata": {
    "ExecuteTime": {
     "end_time": "2021-10-26T06:02:33.438054Z",
     "start_time": "2021-10-26T06:02:33.435600Z"
    }
   },
   "outputs": [],
   "source": [
    "bin_array = np.arange(0, 100, 5) * 0.01"
   ]
  },
  {
   "cell_type": "code",
   "execution_count": 4,
   "id": "d9d30a35",
   "metadata": {
    "ExecuteTime": {
     "end_time": "2021-10-26T06:02:34.098112Z",
     "start_time": "2021-10-26T06:02:33.440135Z"
    }
   },
   "outputs": [
    {
     "data": {
      "image/png": "[encoded data removed]",
      "text/plain": [
       "<Figure size 288x576 with 4 Axes>"
      ]
     },
     "metadata": {
      "needs_background": "light"
     },
     "output_type": "display_data"
    }
   ],
   "source": [
    "fig, (ax0, ax1, ax2, ax3) = plt.subplots(figsize=(4, 8),\n",
    "                                         nrows=4,\n",
    "                                         sharex=True,\n",
    "                                         sharey=True)\n",
    "\n",
    "ax0.hist(ts_stats4[\"med_err_ra\"],\n",
    "         bins=bin_array,\n",
    "         edgecolor=\"r\",\n",
    "         fill=False,\n",
    "         label=\"R.A.\")\n",
    "ax0.hist(ts_stats4[\"med_err_dec\"],\n",
    "         bins=bin_array,\n",
    "         edgecolor=\"b\",\n",
    "         fill=False,\n",
    "         label=\"Dec.\")\n",
    "\n",
    "ax1.hist(ts_stats8[\"med_err_ra\"],\n",
    "         bins=bin_array,\n",
    "         edgecolor=\"r\",\n",
    "         fill=False,\n",
    "         label=\"R.A.\")\n",
    "ax1.hist(ts_stats8[\"med_err_dec\"],\n",
    "         bins=bin_array,\n",
    "         edgecolor=\"b\",\n",
    "         fill=False,\n",
    "         label=\"Dec.\")\n",
    "\n",
    "ax2.hist(ts_stats10[\"med_err_ra\"],\n",
    "         bins=bin_array,\n",
    "         edgecolor=\"r\",\n",
    "         fill=False,\n",
    "         label=\"R.A.\")\n",
    "ax2.hist(ts_stats10[\"med_err_dec\"],\n",
    "         bins=bin_array,\n",
    "         edgecolor=\"b\",\n",
    "         fill=False,\n",
    "         label=\"Dec.\")\n",
    "\n",
    "ax3.hist(ts_stats20[\"med_err_ra\"],\n",
    "         bins=bin_array,\n",
    "         edgecolor=\"r\",\n",
    "         fill=False,\n",
    "         label=\"R.A.\")\n",
    "ax3.hist(ts_stats20[\"med_err_dec\"],\n",
    "         bins=bin_array,\n",
    "         edgecolor=\"b\",\n",
    "         fill=False,\n",
    "         label=\"Dec.\")\n",
    "\n",
    "ax3.set_xlabel(\"$\\\\sigma$ (mas)\", fontsize=12)\n",
    "ax0.set_ylabel(\"Nb Sources\", fontsize=12)\n",
    "ax1.set_ylabel(\"Nb Sources\", fontsize=12)\n",
    "ax2.set_ylabel(\"Nb Sources\", fontsize=12)\n",
    "ax3.set_ylabel(\"Nb Sources\", fontsize=12)\n",
    "\n",
    "loc_x, loc_y = 0.4, 1000\n",
    "ax0.text(loc_x, loc_y, \" 4-step\")\n",
    "ax1.text(loc_x, loc_y, \" 8-step\")\n",
    "ax2.text(loc_x, loc_y, \"10-step\")\n",
    "ax3.text(loc_x, loc_y, \"20-step\")\n",
    "\n",
    "ax0.legend(loc=\"upper right\")\n",
    "\n",
    "plt.tight_layout()"
   ]
  },
  {
   "cell_type": "markdown",
   "id": "9450dc5b",
   "metadata": {},
   "source": [
    "Also format the output in a table."
   ]
  },
  {
   "cell_type": "code",
   "execution_count": 5,
   "id": "7120aede",
   "metadata": {
    "ExecuteTime": {
     "end_time": "2021-10-26T06:02:34.164395Z",
     "start_time": "2021-10-26T06:02:34.100365Z"
    }
   },
   "outputs": [],
   "source": [
    "icrf3_def = Table.read(\"../data/icrf3sx-def-sou.txt\", format=\"ascii\")"
   ]
  },
  {
   "cell_type": "code",
   "execution_count": 6,
   "id": "3c48694d",
   "metadata": {
    "ExecuteTime": {
     "end_time": "2021-10-26T06:02:34.172920Z",
     "start_time": "2021-10-26T06:02:34.167092Z"
    }
   },
   "outputs": [],
   "source": [
    "def simple_sigma_stats(ts_stats, icrf3_def):\n",
    "\n",
    "    ts_stats_def = join(icrf3_def, ts_stats, keys=\"iers_name\")\n",
    "\n",
    "    # For all sources\n",
    "    median_sigmara_all = np.median(ts_stats[\"med_err_ra\"])\n",
    "    median_sigmadec_all = np.median(ts_stats[\"med_err_dec\"])\n",
    "\n",
    "    # For defining sources only\n",
    "    median_sigmara_def = np.median(ts_stats_def[\"med_err_ra\"])\n",
    "    median_sigmadec_def = np.median(ts_stats_def[\"med_err_dec\"])\n",
    "\n",
    "    # Format the output\n",
    "    line_format = \"{:8.3f}  {:8.3f}    \"\n",
    "\n",
    "    line_all = line_format.format(\n",
    "        median_sigmara_all, median_sigmadec_all)\n",
    "    line_def = line_format.format(\n",
    "        median_sigmara_def, median_sigmadec_def)\n",
    "\n",
    "    line = line_all + line_def\n",
    "\n",
    "    return line\n"
   ]
  },
  {
   "cell_type": "code",
   "execution_count": 7,
   "id": "4c3250ae",
   "metadata": {
    "ExecuteTime": {
     "end_time": "2021-10-26T06:02:34.197370Z",
     "start_time": "2021-10-26T06:02:34.174522Z"
    }
   },
   "outputs": [],
   "source": [
    "line4 = simple_sigma_stats(ts_stats4, icrf3_def)\n",
    "line8 = simple_sigma_stats(ts_stats8, icrf3_def)\n",
    "line10 = simple_sigma_stats(ts_stats10, icrf3_def)\n",
    "line20 = simple_sigma_stats(ts_stats20, icrf3_def)"
   ]
  },
  {
   "cell_type": "code",
   "execution_count": 8,
   "id": "5de071d8",
   "metadata": {
    "ExecuteTime": {
     "end_time": "2021-10-26T06:02:34.206093Z",
     "start_time": "2021-10-26T06:02:34.200451Z"
    }
   },
   "outputs": [
    {
     "name": "stdout",
     "output_type": "stream",
     "text": [
      "=======================================================\n",
      "                      All               ICRF3 defining\n",
      "               -----------------     ------------------\n",
      "Solution       RA        DEC         RA        DEC    \n",
      "R.A.\n",
      " 4-step sol    0.217     0.361       0.251     0.311    \n",
      " 8-step sol    0.217     0.359       0.246     0.316    \n",
      "10-step sol    0.215     0.358       0.247     0.309    \n",
      "20-step sol    0.214     0.356       0.246     0.307    \n",
      "-------------------------------------------------------\n",
      "Unit: mas\n",
      "The values given are median.\n"
     ]
    }
   ],
   "source": [
    "print(\"=======================================================\")\n",
    "print(\"                      All               ICRF3 defining\")\n",
    "print(\"               -----------------     ------------------\")\n",
    "print(\"Solution       RA        DEC         RA        DEC    \")\n",
    "print(\"R.A.\")\n",
    "print(\" 4-step sol {:s}\".format(line4))\n",
    "print(\" 8-step sol {:s}\".format(line8))\n",
    "print(\"10-step sol {:s}\".format(line10))\n",
    "print(\"20-step sol {:s}\".format(line20))\n",
    "print(\"-------------------------------------------------------\")\n",
    "print(\"Unit: mas\")\n",
    "print(\"The values given are median.\")"
   ]
  }
 ],
 "metadata": {
  "hide_input": false,
  "kernelspec": {
   "display_name": "Python 3 (ipykernel)",
   "language": "python",
   "name": "python3"
  },
  "language_info": {
   "codemirror_mode": {
    "name": "ipython",
    "version": 3
   },
   "file_extension": ".py",
   "mimetype": "text/x-python",
   "name": "python",
   "nbconvert_exporter": "python",
   "pygments_lexer": "ipython3",
   "version": "3.9.7"
  }
 },
 "nbformat": 4,
 "nbformat_minor": 5
}
