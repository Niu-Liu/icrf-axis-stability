{
 "cells": [
  {
   "cell_type": "markdown",
   "id": "322b334d",
   "metadata": {},
   "source": [
    "This notebook deals with 9 ICRF3 defining sources that does not have an apparent proper motion estimate."
   ]
  },
  {
   "cell_type": "code",
   "execution_count": 2,
   "id": "326ecd3e",
   "metadata": {
    "ExecuteTime": {
     "end_time": "2021-10-21T06:46:34.251924Z",
     "start_time": "2021-10-21T06:46:34.247724Z"
    }
   },
   "outputs": [],
   "source": [
    "from astropy.table import Table, join, setdiff"
   ]
  },
  {
   "cell_type": "code",
   "execution_count": 4,
   "id": "9b19b711",
   "metadata": {
    "ExecuteTime": {
     "end_time": "2021-10-21T06:46:50.122463Z",
     "start_time": "2021-10-21T06:46:50.084223Z"
    }
   },
   "outputs": [],
   "source": [
    "icrf3_def = Table.read(\"../data/icrf3sx-def-sou.txt\", format=\"ascii\")\n",
    "\n",
    "apm_tab = Table.read(\"../data/ts_nju_pm_fit_3sigma-10step.dat\",\n",
    "                     format=\"ascii.csv\")"
   ]
  },
  {
   "cell_type": "code",
   "execution_count": 5,
   "id": "c774a4a6",
   "metadata": {
    "ExecuteTime": {
     "end_time": "2021-10-21T06:47:09.680732Z",
     "start_time": "2021-10-21T06:47:09.676348Z"
    }
   },
   "outputs": [],
   "source": [
    "mask = apm_tab[\"num_cln\"] >= 5"
   ]
  },
  {
   "cell_type": "code",
   "execution_count": 6,
   "id": "2f83ba44",
   "metadata": {
    "ExecuteTime": {
     "end_time": "2021-10-21T06:47:23.720123Z",
     "start_time": "2021-10-21T06:47:23.700580Z"
    }
   },
   "outputs": [],
   "source": [
    "apm_def1 = join(icrf3_def, apm_tab, keys=\"iers_name\")\n",
    "apm_def2 = join(icrf3_def, apm_tab[mask], keys=\"iers_name\")"
   ]
  },
  {
   "cell_type": "code",
   "execution_count": 8,
   "id": "cc4c9dcc",
   "metadata": {
    "ExecuteTime": {
     "end_time": "2021-10-21T06:47:50.639250Z",
     "start_time": "2021-10-21T06:47:50.625638Z"
    }
   },
   "outputs": [],
   "source": [
    "diff_def = setdiff(apm_def1, apm_def2, keys=\"iers_name\")"
   ]
  },
  {
   "cell_type": "code",
   "execution_count": 9,
   "id": "4a8da2b8",
   "metadata": {
    "ExecuteTime": {
     "end_time": "2021-10-21T06:47:53.913041Z",
     "start_time": "2021-10-21T06:47:53.896328Z"
    }
   },
   "outputs": [
    {
     "data": {
      "text/html": [
       "<div><i>Table length=2</i>\n",
       "<table id=\"table140406549802096\" class=\"table-striped table-bordered table-condensed\">\n",
       "<thead><tr><th>iers_name</th><th>num_cln</th><th>num_outl</th><th>outl_ra</th><th>outl_dec</th><th>ra</th><th>dec</th><th>pmra</th><th>pmdec</th><th>pmra_err</th><th>pmdec_err</th><th>pmra_pmdec_cor</th></tr></thead>\n",
       "<thead><tr><th>str8</th><th>int64</th><th>int64</th><th>int64</th><th>int64</th><th>float64</th><th>float64</th><th>float64</th><th>float64</th><th>float64</th><th>float64</th><th>float64</th></tr></thead>\n",
       "<tr><td>0044-846</td><td>2</td><td>4</td><td>4</td><td>0</td><td>11.111</td><td>-84.378</td><td>--</td><td>--</td><td>--</td><td>--</td><td>--</td></tr>\n",
       "<tr><td>2109-811</td><td>0</td><td>27</td><td>27</td><td>1</td><td>319.129</td><td>-80.899</td><td>--</td><td>--</td><td>--</td><td>--</td><td>--</td></tr>\n",
       "</table></div>"
      ],
      "text/plain": [
       "<Table length=2>\n",
       "iers_name num_cln num_outl outl_ra ... pmra_err pmdec_err pmra_pmdec_cor\n",
       "   str8    int64   int64    int64  ... float64   float64     float64    \n",
       "--------- ------- -------- ------- ... -------- --------- --------------\n",
       " 0044-846       2        4       4 ...       --        --             --\n",
       " 2109-811       0       27      27 ...       --        --             --"
      ]
     },
     "execution_count": 9,
     "metadata": {},
     "output_type": "execute_result"
    }
   ],
   "source": [
    "diff_def"
   ]
  },
  {
   "cell_type": "code",
   "execution_count": 11,
   "id": "6cf05305",
   "metadata": {
    "ExecuteTime": {
     "end_time": "2021-10-21T06:48:10.428413Z",
     "start_time": "2021-10-21T06:48:10.420381Z"
    }
   },
   "outputs": [
    {
     "data": {
      "text/html": [
       "<div><i>Table length=290</i>\n",
       "<table id=\"table140406548817856\" class=\"table-striped table-bordered table-condensed\">\n",
       "<thead><tr><th>iers_name</th><th>num_cln</th><th>num_outl</th><th>outl_ra</th><th>outl_dec</th><th>ra</th><th>dec</th><th>pmra</th><th>pmdec</th><th>pmra_err</th><th>pmdec_err</th><th>pmra_pmdec_cor</th></tr></thead>\n",
       "<thead><tr><th>str8</th><th>int64</th><th>int64</th><th>int64</th><th>int64</th><th>float64</th><th>float64</th><th>float64</th><th>float64</th><th>float64</th><th>float64</th><th>float64</th></tr></thead>\n",
       "<tr><td>0002-478</td><td>56</td><td>12</td><td>12</td><td>1</td><td>1.149</td><td>-47.605</td><td>-0.00971</td><td>-0.00987</td><td>0.00559</td><td>0.01441</td><td>0.24924</td></tr>\n",
       "<tr><td>0009-148</td><td>9</td><td>0</td><td>0</td><td>0</td><td>2.919</td><td>-14.568</td><td>-0.0117</td><td>-0.05052</td><td>0.0305</td><td>0.04853</td><td>0.17178</td></tr>\n",
       "<tr><td>0010+405</td><td>88</td><td>7</td><td>6</td><td>1</td><td>3.38</td><td>40.86</td><td>0.00074</td><td>0.00283</td><td>0.00171</td><td>0.0033</td><td>-0.18512</td></tr>\n",
       "<tr><td>0013-005</td><td>92</td><td>2</td><td>1</td><td>2</td><td>4.046</td><td>-0.253</td><td>-0.00154</td><td>-0.00714</td><td>0.00221</td><td>0.00266</td><td>-0.73617</td></tr>\n",
       "<tr><td>0016+731</td><td>260</td><td>868</td><td>857</td><td>107</td><td>4.941</td><td>73.458</td><td>-0.00112</td><td>-0.00033</td><td>0.00032</td><td>0.0011</td><td>-0.05897</td></tr>\n",
       "<tr><td>0017+200</td><td>374</td><td>62</td><td>42</td><td>31</td><td>4.908</td><td>20.363</td><td>-0.01108</td><td>0.00206</td><td>0.00196</td><td>0.00226</td><td>-0.05236</td></tr>\n",
       "<tr><td>...</td><td>...</td><td>...</td><td>...</td><td>...</td><td>...</td><td>...</td><td>...</td><td>...</td><td>...</td><td>...</td><td>...</td></tr>\n",
       "<tr><td>2335-027</td><td>306</td><td>19</td><td>10</td><td>10</td><td>354.489</td><td>-2.516</td><td>-0.00011</td><td>0.00524</td><td>0.00225</td><td>0.00298</td><td>-0.02287</td></tr>\n",
       "<tr><td>2336+598</td><td>10</td><td>3</td><td>3</td><td>0</td><td>354.838</td><td>60.17</td><td>-0.00907</td><td>0.02718</td><td>0.00617</td><td>0.01552</td><td>-0.40135</td></tr>\n",
       "<tr><td>2353+816</td><td>18</td><td>45</td><td>44</td><td>4</td><td>359.095</td><td>81.881</td><td>0.00296</td><td>0.0132</td><td>0.00273</td><td>0.01915</td><td>-0.05691</td></tr>\n",
       "<tr><td>2353-686</td><td>47</td><td>54</td><td>51</td><td>9</td><td>359.003</td><td>-68.334</td><td>0.00722</td><td>-0.03693</td><td>0.00372</td><td>0.01</td><td>-0.06062</td></tr>\n",
       "<tr><td>2355-106</td><td>800</td><td>94</td><td>66</td><td>53</td><td>359.545</td><td>-10.336</td><td>-0.00023</td><td>-0.00849</td><td>0.00128</td><td>0.00131</td><td>-0.28006</td></tr>\n",
       "<tr><td>2355-534</td><td>134</td><td>41</td><td>36</td><td>10</td><td>359.472</td><td>-53.187</td><td>-0.00751</td><td>-0.00585</td><td>0.00387</td><td>0.00913</td><td>0.23241</td></tr>\n",
       "<tr><td>2356+385</td><td>1049</td><td>79</td><td>54</td><td>34</td><td>359.888</td><td>38.845</td><td>-0.01347</td><td>0.08401</td><td>0.00567</td><td>0.00999</td><td>-0.11621</td></tr>\n",
       "</table></div>"
      ],
      "text/plain": [
       "<Table length=290>\n",
       "iers_name num_cln num_outl outl_ra ... pmra_err pmdec_err pmra_pmdec_cor\n",
       "   str8    int64   int64    int64  ... float64   float64     float64    \n",
       "--------- ------- -------- ------- ... -------- --------- --------------\n",
       " 0002-478      56       12      12 ...  0.00559   0.01441        0.24924\n",
       " 0009-148       9        0       0 ...   0.0305   0.04853        0.17178\n",
       " 0010+405      88        7       6 ...  0.00171    0.0033       -0.18512\n",
       " 0013-005      92        2       1 ...  0.00221   0.00266       -0.73617\n",
       " 0016+731     260      868     857 ...  0.00032    0.0011       -0.05897\n",
       " 0017+200     374       62      42 ...  0.00196   0.00226       -0.05236\n",
       "      ...     ...      ...     ... ...      ...       ...            ...\n",
       " 2335-027     306       19      10 ...  0.00225   0.00298       -0.02287\n",
       " 2336+598      10        3       3 ...  0.00617   0.01552       -0.40135\n",
       " 2353+816      18       45      44 ...  0.00273   0.01915       -0.05691\n",
       " 2353-686      47       54      51 ...  0.00372      0.01       -0.06062\n",
       " 2355-106     800       94      66 ...  0.00128   0.00131       -0.28006\n",
       " 2355-534     134       41      36 ...  0.00387   0.00913        0.23241\n",
       " 2356+385    1049       79      54 ...  0.00567   0.00999       -0.11621"
      ]
     },
     "execution_count": 11,
     "metadata": {},
     "output_type": "execute_result"
    }
   ],
   "source": [
    "apm_def2"
   ]
  }
 ],
 "metadata": {
  "hide_input": false,
  "kernelspec": {
   "display_name": "Python 3 (ipykernel)",
   "language": "python",
   "name": "python3"
  },
  "language_info": {
   "codemirror_mode": {
    "name": "ipython",
    "version": 3
   },
   "file_extension": ".py",
   "mimetype": "text/x-python",
   "name": "python",
   "nbconvert_exporter": "python",
   "pygments_lexer": "ipython3",
   "version": "3.9.7"
  }
 },
 "nbformat": 4,
 "nbformat_minor": 5
}
