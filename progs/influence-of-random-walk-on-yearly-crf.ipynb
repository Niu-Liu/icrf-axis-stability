{
 "cells": [
  {
   "cell_type": "code",
   "execution_count": 1,
   "id": "2da466df",
   "metadata": {
    "ExecuteTime": {
     "end_time": "2021-09-20T14:07:17.961008Z",
     "start_time": "2021-09-20T14:07:16.592671Z"
    }
   },
   "outputs": [],
   "source": [
    "import random\n",
    "\n",
    "import matplotlib.pyplot as plt\n",
    "import numpy as np\n",
    "from astropy.table import Table, join\n",
    "import astropy.units as u\n",
    "\n",
    "# My progs\n",
    "from my_progs.vlbi.ts_func import get_ts\n",
    "from tool_func import calc_orient_new, random_walk\n",
    "from linear_fit import linfit2d\n",
    "from my_progs.catalog.read_icrf import read_icrf3\n",
    "from my_progs.stat_func.rms_calc import rms_calc\n",
    "from my_progs.catalog.pos_diff import radio_cat_diff_calc\n",
    "\n",
    "\n",
    "np.random.seed(28)"
   ]
  },
  {
   "cell_type": "code",
   "execution_count": 2,
   "id": "0c4cde4a",
   "metadata": {
    "ExecuteTime": {
     "end_time": "2021-09-20T14:07:17.965450Z",
     "start_time": "2021-09-20T14:07:17.963103Z"
    }
   },
   "outputs": [],
   "source": [
    "ts_dir = \"/Users/Neo/Astronomy/data/vlbi/nju/series-10step\"\n",
    "sou_list_file = \"{}/sou_list_4_ts.txt\".format(ts_dir)"
   ]
  },
  {
   "cell_type": "code",
   "execution_count": 3,
   "id": "4f8658fb",
   "metadata": {
    "ExecuteTime": {
     "end_time": "2021-09-20T14:07:17.971540Z",
     "start_time": "2021-09-20T14:07:17.968585Z"
    }
   },
   "outputs": [],
   "source": [
    "sou_rw = \"0552+398\""
   ]
  },
  {
   "cell_type": "code",
   "execution_count": 4,
   "id": "b29a8fff",
   "metadata": {
    "ExecuteTime": {
     "end_time": "2021-09-20T14:07:18.178948Z",
     "start_time": "2021-09-20T14:07:17.974001Z"
    }
   },
   "outputs": [],
   "source": [
    "# Source list\n",
    "sou_list = Table.read(sou_list_file, format=\"ascii\")\n",
    "def_list = Table.read(\"../data/icrf3sx-def-sou.txt\", format=\"ascii\")\n",
    "\n",
    "sou_list = join(sou_list, def_list)"
   ]
  },
  {
   "cell_type": "code",
   "execution_count": 5,
   "id": "cc944e9c",
   "metadata": {
    "ExecuteTime": {
     "end_time": "2021-09-20T14:07:19.472170Z",
     "start_time": "2021-09-20T14:07:18.180475Z"
    }
   },
   "outputs": [],
   "source": [
    "icrf3sx = read_icrf3(wv=\"sx\")\n",
    "\n",
    "icrf3def = icrf3sx[icrf3sx[\"type\"] == \"D\"]"
   ]
  },
  {
   "cell_type": "code",
   "execution_count": 6,
   "id": "47db3adf",
   "metadata": {
    "ExecuteTime": {
     "end_time": "2021-09-20T14:07:19.477998Z",
     "start_time": "2021-09-20T14:07:19.473744Z"
    }
   },
   "outputs": [],
   "source": [
    "def calc_wmean(x, err):\n",
    "    \"\"\"Calculate the weighted mean.\n",
    "    \"\"\"\n",
    "\n",
    "    if len(x) == 1:\n",
    "        wmean,  wmerr = x[0], err[0]\n",
    "    else:\n",
    "        wmean = np.dot(x, err**-2) / np.sum(err**-2)\n",
    "        wmerr = np.sum(1/err) / np.sum(err**-2)\n",
    "\n",
    "    return wmean, wmerr"
   ]
  },
  {
   "cell_type": "code",
   "execution_count": 7,
   "id": "f1b344fb",
   "metadata": {
    "ExecuteTime": {
     "end_time": "2021-09-20T14:07:19.487634Z",
     "start_time": "2021-09-20T14:07:19.480225Z"
    }
   },
   "outputs": [],
   "source": [
    "def calc_mean_pos(sou_list, ts_dir, sigma_var):\n",
    "\n",
    "    sou_name = []\n",
    "    epoch = []\n",
    "    mean_ra = []\n",
    "    mean_dec = []\n",
    "    mean_ra_err = []\n",
    "    mean_dec_err = []\n",
    "    mean_ra_dec_cor = []\n",
    "\n",
    "    # Annually average the source positions\n",
    "    for soui in sou_list[\"iers_name\"]:\n",
    "\n",
    "        coordts = get_ts(soui, ts_dir)\n",
    "\n",
    "        if soui == sou_rw:\n",
    "            # Add random walk process to the coordinate time series for this source\n",
    "            dra_rw, ddec_rw = random_walk(coordts[\"jyear\"],\n",
    "                                          t_scale=5,\n",
    "                                          sigma_var=sigma_var)\n",
    "\n",
    "            coordts[\"ra\"] = coordts[\"ra\"] + dra_rw / 3.6e6\n",
    "            coordts[\"dec\"] = coordts[\"dec\"] + ddec_rw / 3.6e6\n",
    "\n",
    "        # Caculate the annual mean position\n",
    "        for year in range(1979, 2021):\n",
    "            coordts2 = coordts[((coordts[\"jyear\"] >= year) &\n",
    "                                (coordts[\"jyear\"] < year + 1))]\n",
    "\n",
    "            if len(coordts2) >= 1:\n",
    "                ra0, ra0_err = calc_wmean(coordts2[\"ra\"], coordts2[\"ra_err\"])\n",
    "                dec0, dec0_err = calc_wmean(coordts2[\"dec\"],\n",
    "                                            coordts2[\"dec_err\"])\n",
    "                ra_dec_cor = np.median(coordts2[\"ra_dec_corr\"])\n",
    "\n",
    "                sou_name.append(soui)\n",
    "                epoch.append(int(year))\n",
    "                mean_ra.append(ra0)\n",
    "                mean_dec.append(dec0)\n",
    "                mean_ra_err.append(ra0_err)\n",
    "                mean_dec_err.append(dec0_err)\n",
    "                mean_ra_dec_cor.append(ra_dec_cor)\n",
    "\n",
    "    # Construct an Astropy.Table object to store the results\n",
    "    mean_pos_table = Table([\n",
    "        sou_name, epoch, mean_ra, mean_ra_err, mean_dec, mean_dec_err,\n",
    "        mean_ra_dec_cor\n",
    "    ],\n",
    "                           names=[\n",
    "                               \"iers_name\", \"year\", \"ra\", \"ra_err\", \"dec\",\n",
    "                               \"dec_err\", \"ra_dec_corr\"\n",
    "                           ])\n",
    "\n",
    "    return mean_pos_table"
   ]
  },
  {
   "cell_type": "code",
   "execution_count": 8,
   "id": "7e70d1e4",
   "metadata": {
    "ExecuteTime": {
     "end_time": "2021-09-20T14:07:19.496079Z",
     "start_time": "2021-09-20T14:07:19.490040Z"
    }
   },
   "outputs": [],
   "source": [
    "def fetch_data_for_year(mean_pos_table, year):\n",
    "    \"\"\"\n",
    "    \"\"\"\n",
    "\n",
    "    mask = (mean_pos_table[\"year\"] == year)\n",
    "    sub_table = mean_pos_table[mask]\n",
    "\n",
    "    return sub_table"
   ]
  },
  {
   "cell_type": "code",
   "execution_count": 9,
   "id": "9b1bb0dd",
   "metadata": {
    "ExecuteTime": {
     "end_time": "2021-09-20T14:07:19.507341Z",
     "start_time": "2021-09-20T14:07:19.501051Z"
    }
   },
   "outputs": [],
   "source": [
    "def orient_for_yearly_crf(years, sou_list, ts_dir, sigma_var, icrf3def):\n",
    "\n",
    "    num = len(years)\n",
    "\n",
    "    pmt = np.zeros((num, 8))\n",
    "    err = np.ones((num, 8))\n",
    "\n",
    "    mean_pos_table = calc_mean_pos(sou_list, ts_dir, sigma_var)\n",
    "    # Add unit information\n",
    "    mean_pos_table[\"ra\"].unit = u.deg\n",
    "    mean_pos_table[\"dec\"].unit = u.deg\n",
    "    mean_pos_table[\"ra_err\"].unit = u.mas\n",
    "    mean_pos_table[\"dec_err\"].unit = u.mas\n",
    "\n",
    "    for i, year in enumerate(years):\n",
    "        year_crf = fetch_data_for_year(mean_pos_table, year)\n",
    "\n",
    "        # ICRF3 defining sources\n",
    "        pos_oft = radio_cat_diff_calc(year_crf, icrf3def, sou_name=\"iers_name\")\n",
    "        N, pmt[i], err[i] = calc_orient_new(pos_oft)\n",
    "\n",
    "    return pmt, err"
   ]
  },
  {
   "cell_type": "code",
   "execution_count": 10,
   "id": "548b32b4",
   "metadata": {
    "ExecuteTime": {
     "end_time": "2021-09-20T14:07:19.515596Z",
     "start_time": "2021-09-20T14:07:19.509865Z"
    }
   },
   "outputs": [],
   "source": [
    "def estimate_axis_stability(years, sou_list, ts_dir, sigma_var, icrf3def):\n",
    "\n",
    "    pmt, err = orient_for_yearly_crf(years, sou_list, ts_dir, sigma_var,\n",
    "                                     icrf3def)\n",
    "\n",
    "    wx = pmt[:, 3]\n",
    "    wy = pmt[:, 4]\n",
    "    wz = pmt[:, 5]\n",
    "    wx_err = err[:, 3]\n",
    "    wy_err = err[:, 4]\n",
    "    wz_err = err[:, 5]\n",
    "\n",
    "    wmean1, wrms1, wstd1 = rms_calc(wx, wx_err)\n",
    "    wmean2, wrms2, wstd2 = rms_calc(wy, wy_err)\n",
    "    wmean3, wrms3, wstd3 = rms_calc(wz, wz_err)\n",
    "\n",
    "    result = {}\n",
    "    #     result[\"year\"] = years\n",
    "    #     result[\"mean1\"] = wmean1\n",
    "    #     result[\"mean2\"] = wmean2\n",
    "    #     result[\"mean3\"] = wmean3\n",
    "#     result[\"wrms1\"] = wrms1\n",
    "#     result[\"wrms2\"] = wrms2\n",
    "#     result[\"wrms3\"] = wrms3\n",
    "    result[\"std1\"] = wstd1\n",
    "    result[\"std2\"] = wstd2\n",
    "    result[\"std3\"] = wstd3\n",
    "\n",
    "    return result"
   ]
  },
  {
   "cell_type": "code",
   "execution_count": 11,
   "id": "a443942f",
   "metadata": {
    "ExecuteTime": {
     "end_time": "2021-09-20T14:07:19.520721Z",
     "start_time": "2021-09-20T14:07:19.517968Z"
    }
   },
   "outputs": [],
   "source": [
    "years = np.concatenate(([1984], np.arange(1986, 2021)))"
   ]
  },
  {
   "cell_type": "code",
   "execution_count": 12,
   "id": "45fe19cf",
   "metadata": {
    "ExecuteTime": {
     "end_time": "2021-09-20T14:07:19.527672Z",
     "start_time": "2021-09-20T14:07:19.523157Z"
    }
   },
   "outputs": [],
   "source": [
    "sigmas = np.arange(1, 11, 1)\n",
    "\n",
    "wrms1 = np.zeros(len(sigmas))\n",
    "wrms2 = np.zeros(len(sigmas))\n",
    "wrms3 = np.zeros(len(sigmas))"
   ]
  },
  {
   "cell_type": "code",
   "execution_count": 13,
   "id": "3886a930",
   "metadata": {
    "ExecuteTime": {
     "end_time": "2021-09-20T14:09:00.930846Z",
     "start_time": "2021-09-20T14:07:19.530110Z"
    }
   },
   "outputs": [
    {
     "name": "stderr",
     "output_type": "stream",
     "text": [
      "/usr/local/lib/python3.9/site-packages/my_progs/catalog/pos_err.py:168: RuntimeWarning: invalid value encountered in sqrt\n",
      "  M, m = np.sqrt(M2), np.sqrt(m2)\n",
      "/usr/local/lib/python3.9/site-packages/my_progs/catalog/pos_err.py:168: RuntimeWarning: invalid value encountered in sqrt\n",
      "  M, m = np.sqrt(M2), np.sqrt(m2)\n",
      "/usr/local/lib/python3.9/site-packages/my_progs/catalog/pos_err.py:168: RuntimeWarning: invalid value encountered in sqrt\n",
      "  M, m = np.sqrt(M2), np.sqrt(m2)\n",
      "/usr/local/lib/python3.9/site-packages/my_progs/catalog/pos_err.py:168: RuntimeWarning: invalid value encountered in sqrt\n",
      "  M, m = np.sqrt(M2), np.sqrt(m2)\n",
      "/usr/local/lib/python3.9/site-packages/my_progs/catalog/pos_err.py:168: RuntimeWarning: invalid value encountered in sqrt\n",
      "  M, m = np.sqrt(M2), np.sqrt(m2)\n",
      "/usr/local/lib/python3.9/site-packages/my_progs/catalog/pos_err.py:168: RuntimeWarning: invalid value encountered in sqrt\n",
      "  M, m = np.sqrt(M2), np.sqrt(m2)\n",
      "/usr/local/lib/python3.9/site-packages/my_progs/catalog/pos_err.py:168: RuntimeWarning: invalid value encountered in sqrt\n",
      "  M, m = np.sqrt(M2), np.sqrt(m2)\n",
      "/usr/local/lib/python3.9/site-packages/my_progs/catalog/pos_err.py:168: RuntimeWarning: invalid value encountered in sqrt\n",
      "  M, m = np.sqrt(M2), np.sqrt(m2)\n",
      "/usr/local/lib/python3.9/site-packages/my_progs/catalog/pos_err.py:168: RuntimeWarning: invalid value encountered in sqrt\n",
      "  M, m = np.sqrt(M2), np.sqrt(m2)\n",
      "/usr/local/lib/python3.9/site-packages/my_progs/catalog/pos_err.py:168: RuntimeWarning: invalid value encountered in sqrt\n",
      "  M, m = np.sqrt(M2), np.sqrt(m2)\n"
     ]
    }
   ],
   "source": [
    "for i, sigma in enumerate(sigmas):\n",
    "    \n",
    "    results = estimate_axis_stability(years, sou_list, ts_dir, sigma, icrf3def)\n",
    "    wrms1[i] = results[\"std1\"]\n",
    "    wrms2[i] = results[\"std2\"]\n",
    "    wrms3[i] = results[\"std3\"]\n",
    "    "
   ]
  },
  {
   "cell_type": "code",
   "execution_count": 14,
   "id": "b635190d",
   "metadata": {
    "ExecuteTime": {
     "end_time": "2021-09-20T14:09:01.350825Z",
     "start_time": "2021-09-20T14:09:00.932417Z"
    }
   },
   "outputs": [
    {
     "name": "stderr",
     "output_type": "stream",
     "text": [
      "The PostScript backend does not support transparency; partially transparent artists will be rendered opaque.\n",
      "The PostScript backend does not support transparency; partially transparent artists will be rendered opaque.\n"
     ]
    },
    {
     "data": {
      "image/png": "[encoded data removed]",
      "text/plain": [
       "<Figure size 432x288 with 1 Axes>"
      ]
     },
     "metadata": {
      "needs_background": "light"
     },
     "output_type": "display_data"
    }
   ],
   "source": [
    "fig, ax = plt.subplots()\n",
    "\n",
    "ax.errorbar(sigmas,\n",
    "            wrms1,\n",
    "            color=\"blue\",\n",
    "            ms=3,\n",
    "            fmt=\"-s\",\n",
    "            elinewidth=0.5,\n",
    "            lw=0.2,\n",
    "            label=\"X-axis\",\n",
    "            capsize=1)\n",
    "ax.errorbar(sigmas,\n",
    "            wrms2,\n",
    "            color=\"black\",\n",
    "            ms=3,\n",
    "            fmt=\"-o\",\n",
    "            elinewidth=0.5,\n",
    "            lw=0.2,\n",
    "            label=\"Y-axis\",\n",
    "            capsize=1)\n",
    "ax.errorbar(sigmas,\n",
    "            wrms3,\n",
    "            color=\"red\",\n",
    "            ms=3,\n",
    "            fmt=\"-^\",\n",
    "            elinewidth=0.5,\n",
    "            lw=0.2,\n",
    "            label=\"Z-axis\",\n",
    "            capsize=1)\n",
    "\n",
    "ax.set_xlabel(\"$\\\\sigma_{\\\\rm var}$ (year)\", fontsize=15)\n",
    "ax.set_ylabel(\"Axis stability ($\\mathrm{\\mu as}$)\", fontsize=15)\n",
    "ax.legend()\n",
    "\n",
    "plt.tight_layout()\n",
    "plt.savefig(\"../plots/orient-from-yearly-ts-nju-rw.eps\")"
   ]
  }
 ],
 "metadata": {
  "hide_input": false,
  "kernelspec": {
   "display_name": "Python 3 (ipykernel)",
   "language": "python",
   "name": "python3"
  },
  "language_info": {
   "codemirror_mode": {
    "name": "ipython",
    "version": 3
   },
   "file_extension": ".py",
   "mimetype": "text/x-python",
   "name": "python",
   "nbconvert_exporter": "python",
   "pygments_lexer": "ipython3",
   "version": "3.9.7"
  }
 },
 "nbformat": 4,
 "nbformat_minor": 5
}
