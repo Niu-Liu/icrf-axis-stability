{
 "cells": [
  {
   "cell_type": "code",
   "execution_count": 1,
   "metadata": {},
   "outputs": [],
   "source": [
    "import numpy as np\n",
    "from scipy.optimize import curve_fit\n",
    "import statsmodels.api as sm\n",
    "from statsmodels.iolib.table import (SimpleTable, default_txt_fmt)\n",
    "\n",
    "# My progs\n",
    "from read_ts import get_ts"
   ]
  },
  {
   "cell_type": "code",
   "execution_count": 2,
   "metadata": {},
   "outputs": [],
   "source": [
    "# Coordinate time series\n",
    "souname = \"2250+190\"\n",
    "coordts = get_ts(souname, \"../data/ts\")"
   ]
  },
  {
   "cell_type": "code",
   "execution_count": 3,
   "metadata": {},
   "outputs": [],
   "source": [
    "mjy = np.array(coordts[\"mjy\"]-2015)\n",
    "mjy = sm.add_constant(mjy)\n",
    "\n",
    "# Fit the slope\n",
    "# R.A.\n",
    "mod_wls_ra = sm.WLS(coordts[\"dra\"], mjy, weights=1./(coordts[\"ra_err\"] ** 2))\n",
    "res_wls_ra = mod_wls_ra.fit()\n",
    "\n",
    "# Declination\n",
    "mod_wls_dec = sm.WLS(coordts[\"ddec\"], mjy, weights=1./(coordts[\"dec_err\"] ** 2))\n",
    "res_wls_dec = mod_wls_dec.fit()\n",
    "\n",
    "# Predictions\n",
    "fit_dra = res_wls_ra.fittedvalues\n",
    "fit_ddec = res_wls_dec.fittedvalues"
   ]
  },
  {
   "cell_type": "code",
   "execution_count": 4,
   "metadata": {},
   "outputs": [
    {
     "name": "stdout",
     "output_type": "stream",
     "text": [
      "R.A.\n",
      "                            WLS Regression Results                            \n",
      "==============================================================================\n",
      "Dep. Variable:                      y   R-squared:                       0.002\n",
      "Model:                            WLS   Adj. R-squared:                 -0.004\n",
      "Method:                 Least Squares   F-statistic:                    0.3531\n",
      "Date:                Thu, 07 May 2020   Prob (F-statistic):              0.553\n",
      "Time:                        18:31:13   Log-Likelihood:                -360.08\n",
      "No. Observations:                 167   AIC:                             724.2\n",
      "Df Residuals:                     165   BIC:                             730.4\n",
      "Df Model:                           1                                         \n",
      "Covariance Type:            nonrobust                                         \n",
      "==============================================================================\n",
      "                 coef    std err          t      P>|t|      [0.025      0.975]\n",
      "------------------------------------------------------------------------------\n",
      "const         -0.1213      0.114     -1.069      0.287      -0.345       0.103\n",
      "x1            -0.0087      0.015     -0.594      0.553      -0.037       0.020\n",
      "==============================================================================\n",
      "Omnibus:                      200.839   Durbin-Watson:                   2.204\n",
      "Prob(Omnibus):                  0.000   Jarque-Bera (JB):             7830.860\n",
      "Skew:                          -4.710   Prob(JB):                         0.00\n",
      "Kurtosis:                      35.197   Cond. No.                         9.70\n",
      "==============================================================================\n",
      "\n",
      "Warnings:\n",
      "[1] Standard Errors assume that the covariance matrix of the errors is correctly specified.\n"
     ]
    }
   ],
   "source": [
    "print(\"R.A.\")\n",
    "print(res_wls_ra.summary())"
   ]
  },
  {
   "cell_type": "code",
   "execution_count": 5,
   "metadata": {},
   "outputs": [
    {
     "name": "stdout",
     "output_type": "stream",
     "text": [
      "Decl.\n",
      "                            WLS Regression Results                            \n",
      "==============================================================================\n",
      "Dep. Variable:                      y   R-squared:                       0.002\n",
      "Model:                            WLS   Adj. R-squared:                 -0.004\n",
      "Method:                 Least Squares   F-statistic:                    0.2824\n",
      "Date:                Thu, 07 May 2020   Prob (F-statistic):              0.596\n",
      "Time:                        18:31:13   Log-Likelihood:                -426.80\n",
      "No. Observations:                 167   AIC:                             857.6\n",
      "Df Residuals:                     165   BIC:                             863.8\n",
      "Df Model:                           1                                         \n",
      "Covariance Type:            nonrobust                                         \n",
      "==============================================================================\n",
      "                 coef    std err          t      P>|t|      [0.025      0.975]\n",
      "------------------------------------------------------------------------------\n",
      "const          0.2784      0.173      1.605      0.110      -0.064       0.621\n",
      "x1             0.0119      0.022      0.531      0.596      -0.032       0.056\n",
      "==============================================================================\n",
      "Omnibus:                      185.919   Durbin-Watson:                   2.230\n",
      "Prob(Omnibus):                  0.000   Jarque-Bera (JB):            10289.541\n",
      "Skew:                          -3.932   Prob(JB):                         0.00\n",
      "Kurtosis:                      40.642   Cond. No.                         9.87\n",
      "==============================================================================\n",
      "\n",
      "Warnings:\n",
      "[1] Standard Errors assume that the covariance matrix of the errors is correctly specified.\n"
     ]
    }
   ],
   "source": [
    "print(\"Decl.\")\n",
    "print(res_wls_dec.summary())"
   ]
  },
  {
   "cell_type": "code",
   "execution_count": 6,
   "metadata": {},
   "outputs": [],
   "source": [
    "pm_ra, pmra_err = res_wls_ra.params[1], res_wls_ra.bse[1]\n",
    "pm_dec, pmdec_err = res_wls_dec.params[1], res_wls_dec.bse[1]"
   ]
  },
  {
   "cell_type": "code",
   "execution_count": 7,
   "metadata": {},
   "outputs": [
    {
     "name": "stdout",
     "output_type": "stream",
     "text": [
      "PM: 0.0147 +/- 0.0201\n"
     ]
    }
   ],
   "source": [
    "# Total proper motion\n",
    "pm2 = pm_ra**2 + pm_dec**2\n",
    "pm = np.sqrt(pm2)\n",
    "pm_err = np.sqrt(pm_ra**2 * pmra_err**2 + \n",
    "                 pm_dec**2 * pmdec_err**2) / pm\n",
    "\n",
    "print(\"PM: {:.4f} +/- {:.4f}\".format(pm, pm_err))"
   ]
  },
  {
   "cell_type": "code",
   "execution_count": 8,
   "metadata": {},
   "outputs": [
    {
     "name": "stdout",
     "output_type": "stream",
     "text": [
      "PA: 324 +/- 69\n"
     ]
    }
   ],
   "source": [
    "# P.A.\n",
    "import astropy.units as u\n",
    "from astropy.coordinates import SkyCoord\n",
    "\n",
    "cen = SkyCoord(0*u.deg, 0*u.deg, frame=\"icrs\")\n",
    "oft = SkyCoord(pm_ra*u.deg, pm_dec*u.deg, frame=\"icrs\")\n",
    "\n",
    "pa = cen.position_angle(oft)\n",
    "pa_deg = pa.to(u.deg).value\n",
    "\n",
    "# Formal error\n",
    "pa_err = np.sqrt(pm_dec**2 * pmra_err**2 + \n",
    "                 pm_ra**2 * pmdec_err**2) / pm2\n",
    "pa_err_deg = np.rad2deg(pa_err)\n",
    "\n",
    "print(\"PA: {:.0f} +/- {:.0f}\".format(pa_deg, pa_err_deg))"
   ]
  },
  {
   "cell_type": "code",
   "execution_count": 9,
   "metadata": {},
   "outputs": [],
   "source": [
    "from numpy import sin, cos, sqrt"
   ]
  },
  {
   "cell_type": "code",
   "execution_count": 10,
   "metadata": {},
   "outputs": [],
   "source": [
    "### TO-DO\n",
    "### Calculate from the Matrix translation method\n",
    "# spa2 = sin(pa)**2\n",
    "# cpa2 = cos(pa)**2\n",
    "# pm2 = pm**2\n",
    "\n",
    "# par_mat = np.array([[spa2, pm2 * cpa2], \n",
    "#                   [cpa2, pm2 * spa2]])\n",
    "# wgt_mat = np.linalg.inv(par_mat)\n",
    "\n",
    "# oft_sig = np.array([pmra_err**2, pmdec_err**2])\n",
    "# pmt_sig2 = np.dot(wgt_mat, oft_sig)\n",
    "# # pmt_sig = sqrt(np.dot(wgt_mat, oft_sig))\n",
    "\n",
    "# pmt_sig2\n",
    "\n",
    "# sqrt(pmt_sig2[0])\n",
    "\n",
    "# par_mat, wgt_mat"
   ]
  },
  {
   "cell_type": "code",
   "execution_count": 11,
   "metadata": {},
   "outputs": [],
   "source": [
    "def func(t, pm, pa, dra0, ddec0):\n",
    "    \"\"\"\n",
    "    \"\"\"\n",
    "    \n",
    "    dra = pm * sin(pa) * t + dra0\n",
    "    ddec = pm * cos(pa) * t + ddec0\n",
    "    \n",
    "    return np.concatenate((dra, ddec))"
   ]
  },
  {
   "cell_type": "code",
   "execution_count": 12,
   "metadata": {},
   "outputs": [],
   "source": [
    "mjy = np.array(coordts[\"mjy\"]-2015)\n",
    "\n",
    "doft = np.concatenate((coordts[\"dra\"], coordts[\"ddec\"]))"
   ]
  },
  {
   "cell_type": "code",
   "execution_count": 13,
   "metadata": {},
   "outputs": [],
   "source": [
    "cov = coordts[\"ra_err\"] * coordts[\"dec_err\"] * coordts[\"ra_dec_corr\"]\n",
    "N = len(cov)\n",
    "\n",
    "var_err = np.diag(np.concatenate((coordts[\"ra_err\"]**2, coordts[\"dec_err\"]**2)))\n",
    "\n",
    "for i, covi in enumerate(cov):\n",
    "    var_err[i, i+N] = covi\n",
    "    var_err[i+N, i] = covi"
   ]
  },
  {
   "cell_type": "code",
   "execution_count": 14,
   "metadata": {},
   "outputs": [],
   "source": [
    "popt, pcov = curve_fit(func, mjy, doft, sigma=var_err, absolute_sigma=False, \n",
    "                       bounds=([0, 0, -np.inf, -np.inf], \n",
    "                               [np.inf, 2*np.pi, np.inf, np.inf]))"
   ]
  },
  {
   "cell_type": "code",
   "execution_count": 15,
   "metadata": {},
   "outputs": [
    {
     "data": {
      "text/plain": [
       "array([3.50000067, 0.78539929, 0.30130429, 0.69841121])"
      ]
     },
     "execution_count": 15,
     "metadata": {},
     "output_type": "execute_result"
    }
   ],
   "source": [
    "# Test the results\n",
    "t = np.arange(1, 30000) * 0.1\n",
    "pm, pa = 3.5, np.pi / 4\n",
    "dra0, ddec0 = 0.3, 0.7\n",
    "\n",
    "from scipy.stats import norm\n",
    "f0 = func(t, pm, pa, dra0, ddec0)\n",
    "noise = norm.rvs(scale=0.4, size=len(f0))\n",
    "f1 = f0 + noise\n",
    "\n",
    "popt, pcov = curve_fit(func, t, f1)\n",
    "\n",
    "popt"
   ]
  },
  {
   "cell_type": "markdown",
   "metadata": {},
   "source": [
    "Try with the VSH fitting"
   ]
  },
  {
   "cell_type": "code",
   "execution_count": 16,
   "metadata": {},
   "outputs": [],
   "source": [
    "def rotation(X, r1, r2, r3):\n",
    "    \"\"\"\n",
    "\n",
    "    Parameters\n",
    "    ----------\n",
    "    x : 1-D array\n",
    "        (ra, dec) in radian\n",
    "    \"\"\"\n",
    "\n",
    "    ra, dec = X\n",
    "    dra = -r1 * cos(ra) * sin(dec) - r2 * sin(ra) * sin(dec) + \\\n",
    "           r3 * cos(dec)\n",
    "    ddec = + r1 * sin(ra) - r2 * cos(ra)\n",
    "\n",
    "    return np.concatenate((dra, ddec))"
   ]
  },
  {
   "cell_type": "code",
   "execution_count": 40,
   "metadata": {},
   "outputs": [],
   "source": [
    "def rotation1(X, **kwargs):\n",
    "    \"\"\"\n",
    "\n",
    "    Parameters\n",
    "    ----------\n",
    "    x : 1-D array\n",
    "        (ra, dec) in radian\n",
    "    \"\"\"\n",
    "\n",
    "    ra, dec = X\n",
    "    dra = -locals[\"r1\"] * cos(ra) * sin(dec) - locals[\"r2\"] * sin(ra) * sin(dec) + \\\n",
    "           locals[\"r3\"] * cos(dec)\n",
    "    ddec = + locals[\"r1\"] * sin(ra) - locals[\"r2\"] * cos(ra)\n",
    "\n",
    "    return np.concatenate((dra, ddec))"
   ]
  },
  {
   "cell_type": "code",
   "execution_count": 18,
   "metadata": {},
   "outputs": [],
   "source": [
    "from my_progs.catalog.read_icrf import read_icrf3\n",
    "from my_progs.catalog.pos_diff import radio_cat_diff_calc\n",
    "\n",
    "icrf3sx = read_icrf3(wv=\"sx\")\n",
    "icrf3k = read_icrf3(wv=\"k\")\n",
    "\n",
    "oft = radio_cat_diff_calc(icrf3k, icrf3sx, sou_name=\"iers_name\")"
   ]
  },
  {
   "cell_type": "code",
   "execution_count": 19,
   "metadata": {},
   "outputs": [],
   "source": [
    "from astropy import units as u\n",
    "\n",
    "ra = oft[\"ra\"].to(u.rad)\n",
    "dec = oft[\"dec\"].to(u.rad)"
   ]
  },
  {
   "cell_type": "code",
   "execution_count": 20,
   "metadata": {},
   "outputs": [],
   "source": [
    "pos = (ra, dec)\n",
    "doft = np.concatenate((oft[\"dra\"], oft[\"ddec\"]))\n",
    "\n",
    "cov = oft[\"dra_ddec_cov\"]\n",
    "N = len(cov)\n",
    "\n",
    "var_err = np.diag(np.concatenate((oft[\"dra_err\"]**2, oft[\"ddec_err\"]**2)))\n",
    "\n",
    "for i, covi in enumerate(cov):\n",
    "    var_err[i, i+N] = covi\n",
    "    var_err[i+N, i] = covi"
   ]
  },
  {
   "cell_type": "code",
   "execution_count": 21,
   "metadata": {},
   "outputs": [
    {
     "data": {
      "text/plain": [
       "1586"
      ]
     },
     "execution_count": 21,
     "metadata": {},
     "output_type": "execute_result"
    }
   ],
   "source": [
    "doft.size"
   ]
  },
  {
   "cell_type": "code",
   "execution_count": 42,
   "metadata": {},
   "outputs": [],
   "source": [
    "popt, pcov = curve_fit(rotation, pos, doft, sigma=var_err, absolute_sigma=False)"
   ]
  },
  {
   "cell_type": "code",
   "execution_count": 34,
   "metadata": {},
   "outputs": [
    {
     "data": {
      "text/plain": [
       "(array([-0.03861199, -0.03117128,  0.00299405]),\n",
       " array([[ 4.80399602e-04,  5.61544931e-07, -2.53444850e-06],\n",
       "        [ 5.61544931e-07,  4.75886605e-04,  1.59718526e-05],\n",
       "        [-2.53444850e-06,  1.59718526e-05,  1.95857805e-04]]))"
      ]
     },
     "execution_count": 34,
     "metadata": {},
     "output_type": "execute_result"
    }
   ],
   "source": [
    "popt, pcov"
   ]
  },
  {
   "cell_type": "code",
   "execution_count": 24,
   "metadata": {},
   "outputs": [
    {
     "data": {
      "text/plain": [
       "array([0.02191802, 0.02181483, 0.01399492])"
      ]
     },
     "execution_count": 24,
     "metadata": {},
     "output_type": "execute_result"
    }
   ],
   "source": [
    "sig1 = np.sqrt(pcov.diagonal())\n",
    "sig1"
   ]
  },
  {
   "cell_type": "code",
   "execution_count": 25,
   "metadata": {},
   "outputs": [],
   "source": [
    "from my_progs.catalog.vsh_deg1_cor import vsh_deg01_fitting"
   ]
  },
  {
   "cell_type": "code",
   "execution_count": 26,
   "metadata": {},
   "outputs": [],
   "source": [
    "# Transform columns into np.array\n",
    "dra = np.array(oft[\"dra\"])\n",
    "ddec = np.array(oft[\"ddec\"])\n",
    "dra_err = np.array(oft[\"dra_err\"])\n",
    "ddec_err = np.array(oft[\"ddec_err\"])\n",
    "ra_rad = np.array(oft[\"ra\"].to(u.radian))\n",
    "dec_rad = np.array(oft[\"dec\"].to(u.radian))\n",
    "dra_ddec_cov = np.array(oft[\"dra_ddec_cov\"])\n",
    "\n",
    "# Transformation parameters\n",
    "pmt, sig, corr = vsh_deg01_fitting(\n",
    "    dra, ddec, ra_rad, dec_rad, dra_err, ddec_err,\n",
    "    cov=dra_ddec_cov, elim_flag=\"None\", fit_type=\"rotation\")"
   ]
  },
  {
   "cell_type": "code",
   "execution_count": 27,
   "metadata": {},
   "outputs": [
    {
     "data": {
      "text/plain": [
       "(array([-0.038612  , -0.03117128,  0.00299405]),\n",
       " array([0.02194576, 0.02184244, 0.01401264]))"
      ]
     },
     "execution_count": 27,
     "metadata": {},
     "output_type": "execute_result"
    }
   ],
   "source": [
    "pmt, sig"
   ]
  },
  {
   "cell_type": "code",
   "execution_count": 28,
   "metadata": {},
   "outputs": [],
   "source": [
    "# eval?"
   ]
  },
  {
   "cell_type": "code",
   "execution_count": 29,
   "metadata": {},
   "outputs": [],
   "source": [
    "# for i in range(5):\n",
    "\n",
    "#     locals()[\"t_{:d}\".format(i)] \n",
    "\n",
    "# # x = []"
   ]
  }
 ],
 "metadata": {
  "hide_input": false,
  "kernelspec": {
   "display_name": "Python 3",
   "language": "python",
   "name": "python3"
  },
  "language_info": {
   "codemirror_mode": {
    "name": "ipython",
    "version": 3
   },
   "file_extension": ".py",
   "mimetype": "text/x-python",
   "name": "python",
   "nbconvert_exporter": "python",
   "pygments_lexer": "ipython3",
   "version": "3.7.6"
  },
  "latex_envs": {
   "LaTeX_envs_menu_present": true,
   "autoclose": false,
   "autocomplete": true,
   "bibliofile": "biblio.bib",
   "cite_by": "apalike",
   "current_citInitial": 1,
   "eqLabelWithNumbers": true,
   "eqNumInitial": 1,
   "hotkeys": {
    "equation": "Ctrl-E",
    "itemize": "Ctrl-I"
   },
   "labels_anchors": false,
   "latex_user_defs": false,
   "report_style_numbering": false,
   "user_envs_cfg": false
  }
 },
 "nbformat": 4,
 "nbformat_minor": 4
}
