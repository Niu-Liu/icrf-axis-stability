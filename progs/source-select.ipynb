{
 "cells": [
  {
   "cell_type": "markdown",
   "metadata": {},
   "source": [
    "In this notebook, I did a pre-selection of sources to whom I will fit their apparent proper motions.\n",
    "\n",
    "The criterion are\n",
    "\n",
    "- #sessions > 10  \n",
    "- length of observing time span (dt) > 10 yr"
   ]
  },
  {
   "cell_type": "code",
   "execution_count": 1,
   "metadata": {},
   "outputs": [],
   "source": [
    "from astropy.table import Table, setdiff\n",
    "import matplotlib.pyplot as plt\n",
    "from matplotlib.ticker import MultipleLocator\n",
    "import numpy as np\n",
    "%matplotlib inline\n",
    "\n",
    "from read_ts import get_sou_ts"
   ]
  },
  {
   "cell_type": "code",
   "execution_count": 2,
   "metadata": {},
   "outputs": [],
   "source": [
    "sou = Table.read(\"../data/sou_list.txt\", format=\"ascii\")\n",
    "\n",
    "# A special check on the ICRF3 defining sources\n",
    "def_sou = Table.read(\"../data/icrf3sx-def-sou.txt\", format=\"ascii\")\n",
    "\n",
    "nses = []\n",
    "dt = []\n",
    "def_nses = []\n",
    "def_dt = []\n",
    "\n",
    "for soui in sou[\"iers_name\"]:\n",
    "    ts = get_sou_ts(soui, \"../data/ts\")\n",
    "    \n",
    "    # Number of sessions\n",
    "    N = len(ts)\n",
    "    \n",
    "    # length of observing time span\n",
    "    dti = ts[\"mjy\"].max() - ts[\"mjy\"].min()\n",
    "    \n",
    "    # All group\n",
    "    nses.append(N)\n",
    "    dt.append(dti)\n",
    "    \n",
    "    # Defining source group\n",
    "    if soui in def_sou[\"iers_name\"]:\n",
    "        def_nses.append(N)\n",
    "        def_dt.append(dti)\n",
    "    \n",
    "nses = np.array(nses)\n",
    "dt = np.array(dt)\n",
    "def_nses = np.array(def_nses)\n",
    "def_dt = np.array(def_dt)"
   ]
  },
  {
   "cell_type": "markdown",
   "metadata": {},
   "source": [
    "Then plot the distribution of number of sessions."
   ]
  },
  {
   "cell_type": "code",
   "execution_count": 3,
   "metadata": {},
   "outputs": [
    {
     "name": "stderr",
     "output_type": "stream",
     "text": [
      "The PostScript backend does not support transparency; partially transparent artists will be rendered opaque.\n",
      "The PostScript backend does not support transparency; partially transparent artists will be rendered opaque.\n"
     ]
    },
    {
     "data": {
      "image/png": "[encoded data removed]",
      "text/plain": [
       "<Figure size 432x288 with 1 Axes>"
      ]
     },
     "metadata": {
      "needs_background": "light"
     },
     "output_type": "display_data"
    }
   ],
   "source": [
    "bins = [0, 5, 10, 20, 30, 40, 50, 100, 500, 1000, 1e8]\n",
    "num, loc = np.histogram(nses, bins=bins)\n",
    "def_num, def_loc = np.histogram(def_nses, bins=bins)\n",
    "\n",
    "loclabel = []\n",
    "for loci in loc[:-1]:\n",
    "    loclabel.append(\"%.0f\" % loci)\n",
    "\n",
    "loclabel.append(\">1000\")\n",
    "    \n",
    "# Plot the histogram of No. session.\n",
    "fig, ax = plt.subplots()\n",
    "\n",
    "xloc = np.arange(len(num))\n",
    "ax.bar(xloc, num, fill=False, align=\"edge\", edgecolor=\"b\", label=\"All\",\n",
    "       width=1)\n",
    "ax.bar(xloc, def_num, color=\"grey\", align=\"edge\", edgecolor=\"k\", label=\"Defining\",\n",
    "       width=1)\n",
    "\n",
    "ax.set_xticks(np.arange(len(num)+1))\n",
    "ax.set_xticklabels(loclabel)\n",
    "ax.set_yscale(\"log\")\n",
    "ax.set_ylim([1, 5000])\n",
    "ax.set_xlabel(\"No. session\", fontsize=12)\n",
    "ax.set_ylabel(\"No. source\", fontsize=12)\n",
    "ax.legend()\n",
    "\n",
    "plt.tight_layout()\n",
    "plt.savefig(\"../plots/no_sess.eps\")"
   ]
  },
  {
   "cell_type": "code",
   "execution_count": 4,
   "metadata": {},
   "outputs": [
    {
     "name": "stdout",
     "output_type": "stream",
     "text": [
      "The min and max number of sessions for all sources are  1 and 4770\n",
      "The min and max number of sessions for defining sources are  3 and 4770\n"
     ]
    }
   ],
   "source": [
    "print(\"The min and max number of sessions for all sources are \", \n",
    "      np.min(nses), \"and\", np.max(nses))\n",
    "print(\"The min and max number of sessions for defining sources are \", \n",
    "      np.min(def_nses), \"and\", np.max(def_nses))"
   ]
  },
  {
   "cell_type": "code",
   "execution_count": 5,
   "metadata": {},
   "outputs": [
    {
     "name": "stderr",
     "output_type": "stream",
     "text": [
      "The PostScript backend does not support transparency; partially transparent artists will be rendered opaque.\n",
      "The PostScript backend does not support transparency; partially transparent artists will be rendered opaque.\n"
     ]
    },
    {
     "data": {
      "image/png": "[encoded data removed]",
      "text/plain": [
       "<Figure size 432x288 with 1 Axes>"
      ]
     },
     "metadata": {
      "needs_background": "light"
     },
     "output_type": "display_data"
    }
   ],
   "source": [
    "bins = np.arange(0, 41, 5)\n",
    "num, loc = np.histogram(dt, bins=bins)\n",
    "def_num, def_loc = np.histogram(def_dt, bins=bins)\n",
    "\n",
    "loclabel = []\n",
    "for loci in loc:\n",
    "    loclabel.append(\"%.0f\" % loci)\n",
    "\n",
    "# Plot the histogram of No. session.\n",
    "fig, ax = plt.subplots()\n",
    "\n",
    "# xloc = np.arange(len(num))\n",
    "ax.hist(dt, bins=bins, histtype=\"bar\", edgecolor=\"b\", label=\"All\", fill=False)\n",
    "ax.hist(def_dt, bins=bins, histtype=\"bar\", color=\"grey\", edgecolor=\"k\", label=\"Defining\")\n",
    "\n",
    "ax.set_yscale(\"log\")\n",
    "ax.set_xlabel(\"Length of observing span (yr)\", fontsize=12)\n",
    "ax.set_ylabel(\"No. source\", fontsize=12)\n",
    "ax.set_ylim([1, 2000])\n",
    "ax.legend()\n",
    "\n",
    "plt.tight_layout()\n",
    "plt.savefig(\"../plots/len_obs_time.eps\")"
   ]
  },
  {
   "cell_type": "code",
   "execution_count": 6,
   "metadata": {},
   "outputs": [
    {
     "name": "stdout",
     "output_type": "stream",
     "text": [
      "The shortest and longest observing time span for all sources are  0.0 yr and 40.47166872005482 yr\n",
      "The shortest and longest observing time span for defining sources are  2.403099247091177 yr and 40.4276878850103 yr\n"
     ]
    }
   ],
   "source": [
    "print(\"The shortest and longest observing time span for all sources are \", \n",
    "      np.trunc(np.min(dt), 2), \"yr and\", np.max(dt), \"yr\")\n",
    "print(\"The shortest and longest observing time span for defining sources are \", \n",
    "      np.min(def_dt), \"yr and\", np.max(def_dt), \"yr\")"
   ]
  },
  {
   "cell_type": "code",
   "execution_count": 7,
   "metadata": {},
   "outputs": [
    {
     "name": "stdout",
     "output_type": "stream",
     "text": [
      "We get 800 sources to fitting the apparent proper motions.\n"
     ]
    }
   ],
   "source": [
    "soulong = sou[(nses>10) & (dt>10)]\n",
    "\n",
    "print(\"We get\", len(soulong), \"sources to fitting the apparent proper motions.\")\n",
    "\n",
    "soulong.write(\"../data/sou_list_longhist.txt\", format=\"ascii\", overwrite=True)"
   ]
  }
 ],
 "metadata": {
  "hide_input": false,
  "kernelspec": {
   "display_name": "Python 3",
   "language": "python",
   "name": "python3"
  },
  "language_info": {
   "codemirror_mode": {
    "name": "ipython",
    "version": 3
   },
   "file_extension": ".py",
   "mimetype": "text/x-python",
   "name": "python",
   "nbconvert_exporter": "python",
   "pygments_lexer": "ipython3",
   "version": "3.7.4"
  },
  "latex_envs": {
   "LaTeX_envs_menu_present": true,
   "autoclose": false,
   "autocomplete": true,
   "bibliofile": "biblio.bib",
   "cite_by": "apalike",
   "current_citInitial": 1,
   "eqLabelWithNumbers": true,
   "eqNumInitial": 1,
   "hotkeys": {
    "equation": "Ctrl-E",
    "itemize": "Ctrl-I"
   },
   "labels_anchors": false,
   "latex_user_defs": false,
   "report_style_numbering": false,
   "user_envs_cfg": false
  },
  "varInspector": {
   "cols": {
    "lenName": 16,
    "lenType": 16,
    "lenVar": 40
   },
   "kernels_config": {
    "python": {
     "delete_cmd_postfix": "",
     "delete_cmd_prefix": "del ",
     "library": "var_list.py",
     "varRefreshCmd": "print(var_dic_list())"
    },
    "r": {
     "delete_cmd_postfix": ") ",
     "delete_cmd_prefix": "rm(",
     "library": "var_list.r",
     "varRefreshCmd": "cat(var_dic_list()) "
    }
   },
   "types_to_exclude": [
    "module",
    "function",
    "builtin_function_or_method",
    "instance",
    "_Feature"
   ],
   "window_display": false
  }
 },
 "nbformat": 4,
 "nbformat_minor": 2
}
