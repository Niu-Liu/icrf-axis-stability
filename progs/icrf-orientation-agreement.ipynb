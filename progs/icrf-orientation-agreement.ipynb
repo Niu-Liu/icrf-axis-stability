{
 "cells": [
  {
   "cell_type": "markdown",
   "metadata": {},
   "source": [
    "This note estimates the orientation angles between different ICRFs and the stability of these estimates.\n",
    "\n",
    "I used two kinds of bootstrap resampling: with/without replacement.\n",
    "\n",
    "For each sample, I estimated the orientation angles with referred to ICRF3 SX catalog based on the whole sample or the \"clean\" sample."
   ]
  },
  {
   "cell_type": "code",
   "execution_count": 1,
   "metadata": {
    "ExecuteTime": {
     "end_time": "2021-05-12T04:12:50.811579Z",
     "start_time": "2021-05-12T04:12:47.851800Z"
    }
   },
   "outputs": [],
   "source": [
    "from astropy.table import join, Table\n",
    "from astropy import units as u\n",
    "import numpy as np\n",
    "from numpy.random import choice\n",
    "import matplotlib.pyplot as plt\n",
    "\n",
    "# My progs\n",
    "from my_progs.vlbi.sou_func import read_crf\n",
    "from my_progs.catalog.read_icrf import read_icrf3, read_icrf2\n",
    "from my_progs.catalog.pos_diff import radio_cat_diff_calc\n",
    "from my_progs.catalog.vsh_deg1_cor import vsh_deg01_fitting\n",
    "from tool_func import vsh_fit_for_pos, sample_clean, calc_mean_std"
   ]
  },
  {
   "cell_type": "code",
   "execution_count": 2,
   "metadata": {
    "ExecuteTime": {
     "end_time": "2021-05-12T04:12:53.431814Z",
     "start_time": "2021-05-12T04:12:50.814142Z"
    }
   },
   "outputs": [],
   "source": [
    "icrf2 = read_icrf2()\n",
    "icrf3sx = read_icrf3(wv=\"sx\")\n",
    "icrf3k = read_icrf3(wv=\"k\")\n",
    "icrf3xka = read_icrf3(wv=\"xka\")\n",
    "\n",
    "# Defining source list\n",
    "def_list = Table([icrf3sx[icrf3sx[\"type\"] == \"D\"][\"iers_name\"]])"
   ]
  },
  {
   "cell_type": "code",
   "execution_count": 3,
   "metadata": {
    "ExecuteTime": {
     "end_time": "2021-05-12T04:12:58.885654Z",
     "start_time": "2021-05-12T04:12:53.434046Z"
    }
   },
   "outputs": [
    {
     "name": "stdout",
     "output_type": "stream",
     "text": [
      "There are 4468 sources in the original catalog, 2 (0%) sources with #obs < 3 dropped, leaving 4466 sources in the present catalog.\n",
      "There are 5117 sources in the original catalog, 1 (0%) sources with #obs < 3 dropped, leaving 5116 sources in the present catalog.\n",
      "There are 4447 sources in the original catalog, 0 (0%) sources with #obs < 3 dropped, leaving 4447 sources in the present catalog.\n",
      "There are 4817 sources in the original catalog, 0 (0%) sources with #obs < 3 dropped, leaving 4817 sources in the present catalog.\n",
      "There are 2390 sources in the original catalog, 0 (0%) sources with #obs < 3 dropped, leaving 2390 sources in the present catalog.\n"
     ]
    }
   ],
   "source": [
    "# Various solutions\n",
    "opa2019a = read_crf(\"../data/ivs-solutions/opa2019a.crf\",\n",
    "                    drop_few_obs=True, analy_cen=\"opa\")\n",
    "opa2021a = read_crf(\"../data/ivs-solutions/opa2021a.crf\",\n",
    "                    drop_few_obs=True, analy_cen=\"opa\")\n",
    "asi2020a = read_crf(\"../data/ivs-solutions/asi2020a.crf\",\n",
    "                    drop_few_obs=True, analy_cen=\"asi\")\n",
    "aus2020b = read_crf(\"../data/ivs-solutions/aus2020b.crf\",\n",
    "                    drop_few_obs=True, analy_cen=\"aus\")\n",
    "usn2019c = read_crf(\"../data/ivs-solutions/usn2019c.crf\",\n",
    "                    drop_few_obs=True, analy_cen=\"usn\")"
   ]
  },
  {
   "cell_type": "code",
   "execution_count": 4,
   "metadata": {
    "ExecuteTime": {
     "end_time": "2021-05-12T04:12:59.314790Z",
     "start_time": "2021-05-12T04:12:58.887710Z"
    }
   },
   "outputs": [],
   "source": [
    "oft_2_sx = radio_cat_diff_calc(icrf2, icrf3sx, sou_name=\"iers_name\")\n",
    "oft_2_sx_def = join(oft_2_sx, def_list, keys=\"iers_name\")\n",
    "\n",
    "oft_k_sx = radio_cat_diff_calc(icrf3k, icrf3sx, sou_name=\"iers_name\")\n",
    "oft_k_sx_def = join(oft_k_sx, def_list, keys=\"iers_name\")\n",
    "\n",
    "oft_ka_sx = radio_cat_diff_calc(icrf3xka, icrf3sx, sou_name=\"iers_name\")\n",
    "oft_ka_sx_def = join(oft_ka_sx, def_list, keys=\"iers_name\")"
   ]
  },
  {
   "cell_type": "code",
   "execution_count": 5,
   "metadata": {
    "ExecuteTime": {
     "end_time": "2021-05-12T04:13:00.924702Z",
     "start_time": "2021-05-12T04:12:59.316894Z"
    }
   },
   "outputs": [],
   "source": [
    "oft_opa_sx = radio_cat_diff_calc(opa2019a, icrf3sx, sou_name=\"iers_name\")\n",
    "oft_opa_sx_def = join(oft_opa_sx, def_list, keys=\"iers_name\")\n",
    "\n",
    "oft_opa_sx1 = radio_cat_diff_calc(opa2021a, icrf3sx, sou_name=\"iers_name\")\n",
    "oft_opa_sx_def1 = join(oft_opa_sx1, def_list, keys=\"iers_name\")\n",
    "\n",
    "oft_asi_sx = radio_cat_diff_calc(asi2020a, icrf3sx, sou_name=\"iers_name\")\n",
    "oft_asi_sx_def = join(oft_asi_sx, def_list, keys=\"iers_name\")\n",
    "\n",
    "oft_aus_sx = radio_cat_diff_calc(aus2020b, icrf3sx, sou_name=\"iers_name\")\n",
    "oft_aus_sx_def = join(oft_aus_sx, def_list, keys=\"iers_name\")\n",
    "\n",
    "oft_usn_sx = radio_cat_diff_calc(usn2019c, icrf3sx, sou_name=\"iers_name\")\n",
    "oft_usn_sx_def = join(oft_usn_sx, def_list, keys=\"iers_name\")"
   ]
  },
  {
   "cell_type": "markdown",
   "metadata": {},
   "source": [
    "The number of common sources in the K-band catalog to the SX catalog is 793 (824 in K-band), \n",
    "and for Ka-band it is 638 (all 678).\n",
    "\n",
    "Where are the missing sources? No idea (maybe Sebastien knows something).\n",
    "\n",
    "Between ICRF2 and ICRF3, I only find 3410 sources.\n",
    "\n",
    "(I remember I reported this issus before. The possible reason could be the update of the IERS designation)"
   ]
  },
  {
   "cell_type": "markdown",
   "metadata": {},
   "source": [
    "# Orientation distribution"
   ]
  },
  {
   "cell_type": "markdown",
   "metadata": {},
   "source": [
    "## a) ICRF2 vs. ICRF3 SX"
   ]
  },
  {
   "cell_type": "markdown",
   "metadata": {},
   "source": [
    "## a.1 Orientation for defining sources"
   ]
  },
  {
   "cell_type": "code",
   "execution_count": 6,
   "metadata": {
    "ExecuteTime": {
     "end_time": "2021-05-12T04:13:01.015098Z",
     "start_time": "2021-05-12T04:13:00.928957Z"
    }
   },
   "outputs": [
    {
     "name": "stdout",
     "output_type": "stream",
     "text": [
      "Between ICRF2 and ICRF3 SX (without outlier elimination)\n",
      "Estimates (  3410 sources)\n",
      "----------------------------------------------\n",
      "               Rotation [uas]                 \n",
      "       x             y             z          \n",
      "----------------------------------------------\n",
      "    +7 +/-   7   +11 +/-   7    +3 +/-   5\n",
      "----------------------------------------------\n",
      "\n",
      "Between ICRF2 and ICRF3 SX (with outlier elimination)\n",
      "For a sample of 3410 sources, the number of the outlier is smaller than 1 when X >= 4.03.\n",
      "After elimination, there are 3237 sources in the clean sample.\n",
      "The outlier rate is 5.07%.\n",
      "\n",
      "Estimates (  3237 sources)\n",
      "----------------------------------------------\n",
      "               Rotation [uas]                 \n",
      "       x             y             z          \n",
      "----------------------------------------------\n",
      "    +9 +/-   4   +14 +/-   4    -2 +/-   3\n",
      "----------------------------------------------\n",
      "\n",
      "Between ICRF2 and ICRF3 SX (Only ICRF3 defining sources)\n",
      "Estimates (   296 sources)\n",
      "----------------------------------------------\n",
      "               Rotation [uas]                 \n",
      "       x             y             z          \n",
      "----------------------------------------------\n",
      "   +14 +/-   6   +14 +/-   6    -4 +/-   5\n",
      "----------------------------------------------\n",
      "\n"
     ]
    }
   ],
   "source": [
    "print(\"Between ICRF2 and ICRF3 SX (without outlier elimination)\")\n",
    "_ = vsh_fit_for_pos(oft_2_sx, print_log=True)\n",
    "\n",
    "print(\"Between ICRF2 and ICRF3 SX (with outlier elimination)\")\n",
    "oft_2_sx_cln = sample_clean(oft_2_sx, rho0=10, print_log=True)\n",
    "_ = vsh_fit_for_pos(oft_2_sx_cln, print_log=True)\n",
    "\n",
    "print(\"Between ICRF2 and ICRF3 SX (Only ICRF3 defining sources)\")\n",
    "_ = vsh_fit_for_pos(oft_2_sx_def, print_log=True)"
   ]
  },
  {
   "cell_type": "markdown",
   "metadata": {},
   "source": [
    "## a.2 Bootstrap sampling"
   ]
  },
  {
   "cell_type": "code",
   "execution_count": 7,
   "metadata": {
    "ExecuteTime": {
     "end_time": "2021-05-12T04:13:01.052265Z",
     "start_time": "2021-05-12T04:13:01.018389Z"
    }
   },
   "outputs": [],
   "source": [
    "opt2 = Table.read(\"../logs/icrf2_icrf3sx_orient.fits\")\n",
    "opt21 = Table.read(\"../logs/icrf2_icrf3sx_orient_cln.fits\")"
   ]
  },
  {
   "cell_type": "code",
   "execution_count": 8,
   "metadata": {
    "ExecuteTime": {
     "end_time": "2021-05-12T04:13:01.076640Z",
     "start_time": "2021-05-12T04:13:01.054467Z"
    }
   },
   "outputs": [],
   "source": [
    "# Mean and Std\n",
    "# All\n",
    "R1m_2, R1s_2 = calc_mean_std(opt2[\"R1\"])\n",
    "R2m_2, R2s_2 = calc_mean_std(opt2[\"R2\"])\n",
    "R3m_2, R3s_2 = calc_mean_std(opt2[\"R3\"])\n",
    "\n",
    "# Clean\n",
    "R1m_21, R1s_21 = calc_mean_std(opt21[\"R3\"])\n",
    "R2m_21, R2s_21 = calc_mean_std(opt21[\"R3\"])\n",
    "R3m_21, R3s_21 = calc_mean_std(opt21[\"R3\"])"
   ]
  },
  {
   "cell_type": "code",
   "execution_count": 9,
   "metadata": {
    "ExecuteTime": {
     "end_time": "2021-05-12T04:13:02.154948Z",
     "start_time": "2021-05-12T04:13:01.079157Z"
    }
   },
   "outputs": [
    {
     "data": {
      "image/png": "[encoded data removed]",
      "text/plain": [
       "<Figure size 432x288 with 1 Axes>"
      ]
     },
     "metadata": {
      "needs_background": "light"
     },
     "output_type": "display_data"
    }
   ],
   "source": [
    "fig, ax = plt.subplots()\n",
    "\n",
    "bins = np.arange(-50, 50, 1)\n",
    "\n",
    "ax.hist(opt2[\"R1\"], bins, histtype=\"bar\", color=\"silver\", \n",
    "        edgecolor=\"lightgrey\", label=\"All\")\n",
    "ax.hist(opt21[\"R1\"], bins, histtype=\"bar\",\n",
    "        fill=False, edgecolor=\"b\", label=\"Clean\")\n",
    "ax.legend()\n",
    "\n",
    "ax.set_xlabel(\"$R_1$ (ICRF2 $-$ ICRF3 SX, $\\mu$as)\", fontsize=12)\n",
    "ax.set_ylabel(\"No. Source\", fontsize=12)\n",
    "\n",
    "ax.hist(opt21[\"R1\"], bins, histtype=\"bar\",\n",
    "        fill=False, edgecolor=\"b\", label=\"Clean\")\n",
    "ax.set_xlabel(\"$R_1$ ($\\mathrm{\\\\mu as}$)\", fontsize=12)\n",
    "\n",
    "xloc = -4\n",
    "yloc = [180, 160, 140, 120]\n",
    "ax.text(xloc, yloc[0], \"Mean=$\\mathrm{%+2.0f\\,\\mu as}$\" % R1m_2,\n",
    "       fontsize=12, color=\"silver\")\n",
    "ax.text(xloc, yloc[1], \" Std=$\\mathrm{%2.0f\\,\\mu as}$\" % R1s_2,\n",
    "       fontsize=12, color=\"silver\")\n",
    "ax.text(xloc, yloc[2], \"Mean=$\\mathrm{%+2.0f\\,\\mu as}$\" % R1m_21,\n",
    "       fontsize=12, color=\"b\")\n",
    "ax.text(xloc, yloc[3], \" Std=$\\mathrm{%2.0f\\,\\mu as}$\" % R1s_21,\n",
    "       fontsize=12, color=\"b\")\n",
    "\n",
    "ax.axis([-5, 20, 0, 200])\n",
    "\n",
    "ax.set_title(\"ICRF2 $-$ ICRF3 S/X\", fontsize=15)\n",
    "\n",
    "plt.tight_layout()\n",
    "# plt.savefig(\"../plots/icrf2-icrf3sx-R1.eps\")"
   ]
  },
  {
   "cell_type": "code",
   "execution_count": 10,
   "metadata": {
    "ExecuteTime": {
     "end_time": "2021-05-12T04:13:02.766046Z",
     "start_time": "2021-05-12T04:13:02.156831Z"
    }
   },
   "outputs": [
    {
     "data": {
      "image/png": "[encoded data removed]",
      "text/plain": [
       "<Figure size 432x288 with 1 Axes>"
      ]
     },
     "metadata": {
      "needs_background": "light"
     },
     "output_type": "display_data"
    }
   ],
   "source": [
    "fig, ax = plt.subplots()\n",
    "\n",
    "bins = np.arange(-40, 40, 1)\n",
    "\n",
    "ax.hist(opt2[\"R2\"], bins, histtype=\"bar\", color=\"silver\", \n",
    "        edgecolor=\"lightgrey\", label=\"All\")\n",
    "ax.hist(opt21[\"R2\"], bins, histtype=\"bar\",\n",
    "        fill=False, edgecolor=\"b\", label=\"Clean\")\n",
    "ax.legend()\n",
    "\n",
    "ax.set_xlabel(\"$R_2$ (ICRF2 $-$ ICRF3SX, $\\mu$as)\", fontsize=12)\n",
    "ax.set_ylabel(\"No. Source\", fontsize=12)\n",
    "\n",
    "xloc = -4\n",
    "yloc = [180, 160, 140, 120]\n",
    "ax.text(xloc, yloc[0], \"Mean=$\\mathrm{%+2.0f\\,\\mu as}$\" % R2m_2,\n",
    "       fontsize=12, color=\"silver\")\n",
    "ax.text(xloc, yloc[1], \" Std=$\\mathrm{%2.0f\\,\\mu as}$\" % R2s_2,\n",
    "       fontsize=12, color=\"silver\")\n",
    "ax.text(xloc, yloc[2], \"Mean=$\\mathrm{%+2.0f\\,\\mu as}$\" % R2m_21,\n",
    "       fontsize=12, color=\"b\")\n",
    "ax.text(xloc, yloc[3], \" Std=$\\mathrm{%2.0f\\,\\mu as}$\" % R2s_21,\n",
    "       fontsize=12, color=\"b\")\n",
    "\n",
    "ax.axis([-5, 25, 0, 200])\n",
    "ax.set_xlabel(\"$R_2$ ($\\mathrm{\\\\mu as}$)\", fontsize=15)\n",
    "ax.set_title(\"ICRF2 $-$ ICRF3 S/X\")\n",
    "\n",
    "plt.tight_layout()\n",
    "# plt.savefig(\"../plots/icrf2-icrf3sx-R2.eps\")"
   ]
  },
  {
   "cell_type": "code",
   "execution_count": 11,
   "metadata": {
    "ExecuteTime": {
     "end_time": "2021-05-12T04:13:03.319497Z",
     "start_time": "2021-05-12T04:13:02.768305Z"
    }
   },
   "outputs": [
    {
     "data": {
      "image/png": "[encoded data removed]",
      "text/plain": [
       "<Figure size 432x288 with 1 Axes>"
      ]
     },
     "metadata": {
      "needs_background": "light"
     },
     "output_type": "display_data"
    }
   ],
   "source": [
    "fig, ax = plt.subplots()\n",
    "\n",
    "bins = np.arange(-50, 50, 1)\n",
    "\n",
    "ax.hist(opt2[\"R3\"], bins, histtype=\"bar\", color=\"silver\", \n",
    "        edgecolor=\"lightgrey\", label=\"All\")\n",
    "ax.hist(opt21[\"R3\"], bins, histtype=\"bar\",\n",
    "        fill=False, edgecolor=\"b\", label=\"Clean\")\n",
    "ax.legend(loc=\"upper left\")\n",
    "\n",
    "ax.set_xlabel(\"$R_3$ ($\\mu$as)\", fontsize=12)\n",
    "ax.set_ylabel(\"No. Source\", fontsize=12)\n",
    "\n",
    "xloc = 6\n",
    "yloc = [275, 250, 225, 200]\n",
    "ax.text(xloc, yloc[0], \"Mean=$\\mathrm{%+2.0f\\,\\mu as}$\" % R3m_2,\n",
    "       fontsize=12, color=\"silver\")\n",
    "ax.text(xloc, yloc[1], \" Std=$\\mathrm{%2.0f\\,\\mu as}$\" % R3s_2,\n",
    "       fontsize=12, color=\"silver\")\n",
    "ax.text(xloc, yloc[2], \"Mean=$\\mathrm{%+2.0f\\,\\mu as}$\" % R3m_21,\n",
    "       fontsize=12, color=\"b\")\n",
    "ax.text(xloc, yloc[3], \" Std=$\\mathrm{%2.0f\\,\\mu as}$\" % R3s_21,\n",
    "       fontsize=12, color=\"b\")\n",
    "\n",
    "ax.axis([-10, 15, 0, 300])\n",
    "\n",
    "ax.set_xlabel(\"$R_3$ ($\\mathrm{\\\\mu as}$)\", fontsize=12)\n",
    "ax.set_title(\"ICRF2 $-$ ICRF3 S/X\")\n",
    "\n",
    "plt.tight_layout()\n",
    "# plt.savefig(\"../plots/icrf2-icrf3sx-R3.eps\")"
   ]
  },
  {
   "cell_type": "markdown",
   "metadata": {},
   "source": [
    "## b) ICRF3 K vs ICRF3 SX"
   ]
  },
  {
   "cell_type": "markdown",
   "metadata": {},
   "source": [
    "## a.1 Orientation for defining sources"
   ]
  },
  {
   "cell_type": "code",
   "execution_count": 12,
   "metadata": {
    "ExecuteTime": {
     "end_time": "2021-05-12T04:13:03.358636Z",
     "start_time": "2021-05-12T04:13:03.321808Z"
    }
   },
   "outputs": [
    {
     "name": "stdout",
     "output_type": "stream",
     "text": [
      "Between ICRF3 K and ICRF3 SX (without outlier elimination)\n",
      "Estimates (   793 sources)\n",
      "----------------------------------------------\n",
      "               Rotation [uas]                 \n",
      "       x             y             z          \n",
      "----------------------------------------------\n",
      "   -22 +/-  24   -33 +/-  24    +1 +/-  14\n",
      "----------------------------------------------\n",
      "\n",
      "Between ICRF3 K and ICRF3 SX (with outlier elimination)\n",
      "For a sample of 793 sources, the number of the outlier is smaller than 1 when X >= 3.65.\n",
      "After elimination, there are 753 sources in the clean sample.\n",
      "The outlier rate is 5.04%.\n",
      "\n",
      "Estimates (   753 sources)\n",
      "----------------------------------------------\n",
      "               Rotation [uas]                 \n",
      "       x             y             z          \n",
      "----------------------------------------------\n",
      "   -11 +/-   7   -18 +/-   6    -7 +/-   4\n",
      "----------------------------------------------\n",
      "\n",
      "Between ICRF3 K and ICRF3 SX (Only ICRF3 defining sources)\n",
      "Estimates (   193 sources)\n",
      "----------------------------------------------\n",
      "               Rotation [uas]                 \n",
      "       x             y             z          \n",
      "----------------------------------------------\n",
      "    -3 +/-  11   -15 +/-  11    -7 +/-   7\n",
      "----------------------------------------------\n",
      "\n"
     ]
    }
   ],
   "source": [
    "print(\"Between ICRF3 K and ICRF3 SX (without outlier elimination)\")\n",
    "_ = vsh_fit_for_pos(oft_k_sx, print_log=True)\n",
    "\n",
    "print(\"Between ICRF3 K and ICRF3 SX (with outlier elimination)\")\n",
    "oft_k_sx_cln = sample_clean(oft_k_sx, rho0=10, print_log=True)\n",
    "_ = vsh_fit_for_pos(oft_k_sx_cln, print_log=True)\n",
    "\n",
    "print(\"Between ICRF3 K and ICRF3 SX (Only ICRF3 defining sources)\")\n",
    "_ = vsh_fit_for_pos(oft_k_sx_def, print_log=True)"
   ]
  },
  {
   "cell_type": "markdown",
   "metadata": {},
   "source": [
    "## b.2 Bootstrap sampling"
   ]
  },
  {
   "cell_type": "code",
   "execution_count": 13,
   "metadata": {
    "ExecuteTime": {
     "end_time": "2021-05-12T04:13:03.400372Z",
     "start_time": "2021-05-12T04:13:03.362719Z"
    }
   },
   "outputs": [],
   "source": [
    "optk = Table.read(\"../logs/icrf3k_icrf3sx_orient.fits\")\n",
    "optk1 = Table.read(\"../logs/icrf3k_icrf3sx_orient_cln.fits\")"
   ]
  },
  {
   "cell_type": "code",
   "execution_count": 14,
   "metadata": {
    "ExecuteTime": {
     "end_time": "2021-05-12T04:13:03.424290Z",
     "start_time": "2021-05-12T04:13:03.402160Z"
    }
   },
   "outputs": [],
   "source": [
    "# Mean and Std\n",
    "# All\n",
    "R1m_k, R1s_k = calc_mean_std(optk[\"R1\"])\n",
    "R2m_k, R2s_k = calc_mean_std(optk[\"R2\"])\n",
    "R3m_k, R3s_k = calc_mean_std(optk[\"R3\"])\n",
    "\n",
    "# Clean\n",
    "R1m_k1, R1s_k1 = calc_mean_std(optk1[\"R1\"])\n",
    "R2m_k1, R2s_k1 = calc_mean_std(optk1[\"R2\"])\n",
    "R3m_k1, R3s_k1 = calc_mean_std(optk1[\"R3\"])"
   ]
  },
  {
   "cell_type": "code",
   "execution_count": 15,
   "metadata": {
    "ExecuteTime": {
     "end_time": "2021-05-12T04:13:04.654941Z",
     "start_time": "2021-05-12T04:13:03.426653Z"
    }
   },
   "outputs": [
    {
     "data": {
      "image/png": "[encoded data removed]",
      "text/plain": [
       "<Figure size 432x288 with 1 Axes>"
      ]
     },
     "metadata": {
      "needs_background": "light"
     },
     "output_type": "display_data"
    }
   ],
   "source": [
    "fig, ax = plt.subplots()\n",
    "\n",
    "bins = np.arange(-120, 120, 1)\n",
    "\n",
    "ax.hist(optk[\"R1\"], bins, histtype=\"bar\", color=\"silver\", \n",
    "        edgecolor=\"lightgrey\", label=\"All\")\n",
    "ax.hist(optk1[\"R1\"], bins, histtype=\"bar\",\n",
    "        fill=False, edgecolor=\"b\", label=\"Clean\")\n",
    "ax.legend()\n",
    "\n",
    "ax.set_xlabel(\"$R_1$ ($\\mu$as)\", fontsize=12)\n",
    "ax.set_ylabel(\"No. Source\", fontsize=12)\n",
    "\n",
    "ax.axis([-60, 30, 0, 100])\n",
    "\n",
    "xloc = -55\n",
    "yloc = [90, 80, 70, 60]\n",
    "ax.text(xloc, yloc[0], \"Mean=$\\mathrm{%+2.0f\\,\\mu as}$\" % R1m_k,\n",
    "       fontsize=12, color=\"silver\")\n",
    "ax.text(xloc, yloc[1], \" Std=$\\mathrm{%2.0f\\,\\mu as}$\" % R1s_k,\n",
    "       fontsize=12, color=\"silver\")\n",
    "ax.text(xloc, yloc[2], \"Mean=$\\mathrm{%+2.0f\\,\\mu as}$\" % R1m_k1,\n",
    "       fontsize=12, color=\"b\")\n",
    "ax.text(xloc, yloc[3], \" Std=$\\mathrm{%2.0f\\,\\mu as}$\" % R1s_k1,\n",
    "       fontsize=12, color=\"b\")\n",
    "\n",
    "ax.set_title(\"ICRF3 K $-$ ICRF3 S/X\", fontsize=15)\n",
    "\n",
    "plt.tight_layout()\n",
    "# plt.savefig(\"../plots/icrf3k-icrf3sx-R1.eps\")"
   ]
  },
  {
   "cell_type": "code",
   "execution_count": 16,
   "metadata": {
    "ExecuteTime": {
     "end_time": "2021-05-12T04:13:05.847197Z",
     "start_time": "2021-05-12T04:13:04.657565Z"
    }
   },
   "outputs": [
    {
     "data": {
      "image/png": "[encoded data removed]",
      "text/plain": [
       "<Figure size 432x288 with 1 Axes>"
      ]
     },
     "metadata": {
      "needs_background": "light"
     },
     "output_type": "display_data"
    }
   ],
   "source": [
    "fig, ax = plt.subplots()\n",
    "\n",
    "bins = np.arange(-120, 120, 1)\n",
    "\n",
    "ax.hist(optk[\"R2\"], bins, histtype=\"bar\", color=\"silver\", \n",
    "        edgecolor=\"lightgrey\", label=\"All\")\n",
    "ax.hist(optk1[\"R2\"], bins, histtype=\"bar\",\n",
    "        fill=False, edgecolor=\"b\", label=\"Clean\")\n",
    "ax.legend()\n",
    "\n",
    "ax.set_xlabel(\"$R_2$ ($\\mu$as)\", fontsize=12)\n",
    "ax.set_ylabel(\"No. Source\", fontsize=12)\n",
    "\n",
    "ax.axis([-60, 10, 0, 120])\n",
    "\n",
    "xloc = -55\n",
    "yloc = [110, 100, 90, 80]\n",
    "ax.text(xloc, yloc[0], \"Mean=$\\mathrm{%+2.0f\\,\\mu as}$\" % R2m_k,\n",
    "       fontsize=12, color=\"silver\")\n",
    "ax.text(xloc, yloc[1], \" Std=$\\mathrm{%2.0f\\,\\mu as}$\" % R2s_k,\n",
    "       fontsize=12, color=\"silver\")\n",
    "ax.text(xloc, yloc[2], \"Mean=$\\mathrm{%+2.0f\\,\\mu as}$\" % R2m_k1,\n",
    "       fontsize=12, color=\"b\")\n",
    "ax.text(xloc, yloc[3], \" Std=$\\mathrm{%2.0f\\,\\mu as}$\" % R2s_k1,\n",
    "       fontsize=12, color=\"b\")\n",
    "\n",
    "ax.set_title(\"ICRF3 K $-$ ICRF3 S/X\", fontsize=15)\n",
    "\n",
    "plt.tight_layout()\n",
    "# plt.savefig(\"../plots/icrf3k-icrf3sx-R2.eps\")"
   ]
  },
  {
   "cell_type": "code",
   "execution_count": 17,
   "metadata": {
    "ExecuteTime": {
     "end_time": "2021-05-12T04:13:06.827541Z",
     "start_time": "2021-05-12T04:13:05.849402Z"
    }
   },
   "outputs": [
    {
     "data": {
      "image/png": "[encoded data removed]",
      "text/plain": [
       "<Figure size 432x288 with 1 Axes>"
      ]
     },
     "metadata": {
      "needs_background": "light"
     },
     "output_type": "display_data"
    }
   ],
   "source": [
    "fig, ax = plt.subplots()\n",
    "\n",
    "bins = np.arange(-120, 120, 1)\n",
    "\n",
    "ax.hist(optk[\"R3\"], bins, histtype=\"bar\", color=\"silver\", \n",
    "        edgecolor=\"lightgrey\", label=\"All\")\n",
    "ax.hist(optk1[\"R3\"], bins, histtype=\"bar\",\n",
    "        fill=False, edgecolor=\"b\", label=\"Clean\")\n",
    "ax.legend(loc=\"upper left\")\n",
    "\n",
    "ax.set_xlabel(\"$R_3$ ($\\mu$as)\", fontsize=12)\n",
    "ax.set_ylabel(\"No. Source\", fontsize=12)\n",
    "\n",
    "ax.axis([-20, 20, 0, 160])\n",
    "\n",
    "xloc = 5\n",
    "yloc = [140, 125, 110, 95]\n",
    "ax.text(xloc, yloc[0], \"Mean=$\\mathrm{%+2.0f\\,\\mu as}$\" % R3m_k,\n",
    "       fontsize=12, color=\"silver\")\n",
    "ax.text(xloc, yloc[1], \" Std=$\\mathrm{%2.0f\\,\\mu as}$\" % R3s_k,\n",
    "       fontsize=12, color=\"silver\")\n",
    "ax.text(xloc, yloc[2], \"Mean=$\\mathrm{%+2.0f\\,\\mu as}$\" % R3m_k1,\n",
    "       fontsize=12, color=\"b\")\n",
    "ax.text(xloc, yloc[3], \" Std=$\\mathrm{%2.0f\\,\\mu as}$\" % R3s_k1,\n",
    "       fontsize=12, color=\"b\")\n",
    "\n",
    "ax.set_title(\"ICRF3 K $-$ ICRF3 S/X\", fontsize=15)\n",
    "\n",
    "plt.tight_layout()\n",
    "# plt.savefig(\"../plots/icrf3k-icrf3sx-R3.eps\")"
   ]
  },
  {
   "cell_type": "markdown",
   "metadata": {},
   "source": [
    "# c) ICRF3 XKa vs ICRF3 SX"
   ]
  },
  {
   "cell_type": "markdown",
   "metadata": {},
   "source": [
    "## c.1 Orientation for defining sources"
   ]
  },
  {
   "cell_type": "code",
   "execution_count": 18,
   "metadata": {
    "ExecuteTime": {
     "end_time": "2021-05-12T04:13:06.860853Z",
     "start_time": "2021-05-12T04:13:06.833264Z"
    }
   },
   "outputs": [
    {
     "name": "stdout",
     "output_type": "stream",
     "text": [
      "Between ICRF3 XKa and ICRF3 SX (without outlier elimination)\n",
      "Estimates (   638 sources)\n",
      "----------------------------------------------\n",
      "               Rotation [uas]                 \n",
      "       x             y             z          \n",
      "----------------------------------------------\n",
      "    -7 +/-  13    -6 +/-  13   +67 +/-   9\n",
      "----------------------------------------------\n",
      "\n",
      "Between ICRF3 XKa and ICRF3 SX (with outlier elimination)\n",
      "For a sample of 638 sources, the number of the outlier is smaller than 1 when X >= 3.59.\n",
      "After elimination, there are 402 sources in the clean sample.\n",
      "The outlier rate is 36.99%.\n",
      "\n",
      "Estimates (   402 sources)\n",
      "----------------------------------------------\n",
      "               Rotation [uas]                 \n",
      "       x             y             z          \n",
      "----------------------------------------------\n",
      "   -16 +/-  11    -3 +/-  10   +46 +/-   7\n",
      "----------------------------------------------\n",
      "\n",
      "Between ICRF3 XKa and ICRF3 SX (Only ICRF3 defining sources)\n",
      "Estimates (   176 sources)\n",
      "----------------------------------------------\n",
      "               Rotation [uas]                 \n",
      "       x             y             z          \n",
      "----------------------------------------------\n",
      "    +6 +/-  20   -11 +/-  21   +28 +/-  15\n",
      "----------------------------------------------\n",
      "\n"
     ]
    }
   ],
   "source": [
    "print(\"Between ICRF3 XKa and ICRF3 SX (without outlier elimination)\")\n",
    "_ = vsh_fit_for_pos(oft_ka_sx, print_log=True)\n",
    "\n",
    "print(\"Between ICRF3 XKa and ICRF3 SX (with outlier elimination)\")\n",
    "oft_ka_sx_cln = sample_clean(oft_ka_sx, rho0=10, print_log=True)\n",
    "_ = vsh_fit_for_pos(oft_ka_sx_cln, print_log=True)\n",
    "\n",
    "print(\"Between ICRF3 XKa and ICRF3 SX (Only ICRF3 defining sources)\")\n",
    "_ = vsh_fit_for_pos(oft_ka_sx_def, print_log=True)"
   ]
  },
  {
   "cell_type": "markdown",
   "metadata": {},
   "source": [
    "## c.2 Bootstrap sampling"
   ]
  },
  {
   "cell_type": "code",
   "execution_count": 19,
   "metadata": {
    "ExecuteTime": {
     "end_time": "2021-05-12T04:13:06.906909Z",
     "start_time": "2021-05-12T04:13:06.867062Z"
    }
   },
   "outputs": [],
   "source": [
    "optka = Table.read(\"../logs/icrf3xka_icrf3sx_orient.fits\")\n",
    "optka1 = Table.read(\"../logs/icrf3xka_icrf3sx_orient_cln.fits\")"
   ]
  },
  {
   "cell_type": "code",
   "execution_count": 20,
   "metadata": {
    "ExecuteTime": {
     "end_time": "2021-05-12T04:13:06.929402Z",
     "start_time": "2021-05-12T04:13:06.909290Z"
    }
   },
   "outputs": [],
   "source": [
    "# Mean and Std\n",
    "# All\n",
    "R1m_ka, R1s_ka = calc_mean_std(optka[\"R1\"])\n",
    "R2m_ka, R2s_ka = calc_mean_std(optka[\"R2\"])\n",
    "R3m_ka, R3s_ka = calc_mean_std(optka[\"R3\"])\n",
    "\n",
    "# Clean\n",
    "R1m_ka1, R1s_ka1 = calc_mean_std(optka1[\"R1\"])\n",
    "R2m_ka1, R2s_ka1 = calc_mean_std(optka1[\"R2\"])\n",
    "R3m_ka1, R3s_ka1 = calc_mean_std(optka1[\"R3\"])"
   ]
  },
  {
   "cell_type": "code",
   "execution_count": 21,
   "metadata": {
    "ExecuteTime": {
     "end_time": "2021-05-12T04:13:07.902070Z",
     "start_time": "2021-05-12T04:13:06.931209Z"
    }
   },
   "outputs": [
    {
     "data": {
      "image/png": "[encoded data removed]",
      "text/plain": [
       "<Figure size 432x288 with 1 Axes>"
      ]
     },
     "metadata": {
      "needs_background": "light"
     },
     "output_type": "display_data"
    }
   ],
   "source": [
    "fig, ax = plt.subplots()\n",
    "\n",
    "bins = np.arange(-120, 120, 1)\n",
    "\n",
    "ax.hist(optka[\"R1\"], bins, histtype=\"bar\", color=\"silver\", \n",
    "        edgecolor=\"lightgrey\", label=\"All\")\n",
    "ax.hist(optka1[\"R1\"], bins, histtype=\"bar\",\n",
    "        fill=False, edgecolor=\"b\", label=\"Clean\")\n",
    "ax.legend(loc=\"upper left\")\n",
    "\n",
    "ax.set_xlabel(\"$R_1$ ($\\mu$as)\", fontsize=12)\n",
    "ax.set_ylabel(\"No. Source\", fontsize=12)\n",
    "\n",
    "ax.axis([-40, 40, 0, 80])\n",
    "\n",
    "xloc = 10\n",
    "yloc = [70, 60, 50, 40]\n",
    "ax.text(xloc, yloc[0], \"Mean=$\\mathrm{%+2.0f\\,\\mu as}$\" % R1m_ka,\n",
    "       fontsize=12, color=\"silver\")\n",
    "ax.text(xloc, yloc[1], \" Std=$\\mathrm{%2.0f\\,\\mu as}$\" % R1s_ka,\n",
    "       fontsize=12, color=\"silver\")\n",
    "ax.text(xloc, yloc[2], \"Mean=$\\mathrm{%+2.0f\\,\\mu as}$\" % R1m_ka1,\n",
    "       fontsize=12, color=\"b\")\n",
    "ax.text(xloc, yloc[3], \" Std=$\\mathrm{%2.0f\\,\\mu as}$\" % R1s_ka1,\n",
    "       fontsize=12, color=\"b\")\n",
    "\n",
    "ax.set_title(\"ICRF3 X/Ka $-$ ICRF3 S/X\", fontsize=15)\n",
    "\n",
    "plt.tight_layout()\n",
    "# plt.savefig(\"../plots/icrf3ka-icrf3sx-R1.eps\")"
   ]
  },
  {
   "cell_type": "code",
   "execution_count": 22,
   "metadata": {
    "ExecuteTime": {
     "end_time": "2021-05-12T04:13:09.148010Z",
     "start_time": "2021-05-12T04:13:07.904753Z"
    }
   },
   "outputs": [
    {
     "data": {
      "image/png": "[encoded data removed]",
      "text/plain": [
       "<Figure size 432x288 with 1 Axes>"
      ]
     },
     "metadata": {
      "needs_background": "light"
     },
     "output_type": "display_data"
    }
   ],
   "source": [
    "fig, ax = plt.subplots()\n",
    "\n",
    "bins = np.arange(-120, 120, 1)\n",
    "\n",
    "ax.hist(optka[\"R2\"], bins, histtype=\"bar\", color=\"silver\", \n",
    "        edgecolor=\"lightgrey\", label=\"All\")\n",
    "ax.hist(optka1[\"R2\"], bins, histtype=\"bar\",\n",
    "        fill=False, edgecolor=\"b\", label=\"Clean\")\n",
    "ax.legend()\n",
    "\n",
    "ax.set_xlabel(\"$R_2$ ($\\mu$as)\", fontsize=12)\n",
    "ax.set_ylabel(\"No. Source\", fontsize=12)\n",
    "\n",
    "ax.axis([-40, 30, 0, 80])\n",
    "\n",
    "xloc = -35\n",
    "yloc = [70, 60, 50, 40]\n",
    "ax.text(xloc, yloc[0], \"Mean=$\\mathrm{%+2.0f\\,\\mu as}$\" % R2m_ka,\n",
    "       fontsize=12, color=\"silver\")\n",
    "ax.text(xloc, yloc[1], \" Std=$\\mathrm{%2.0f\\,\\mu as}$\" % R2s_ka,\n",
    "       fontsize=12, color=\"silver\")\n",
    "ax.text(xloc, yloc[2], \"Mean=$\\mathrm{%+2.0f\\,\\mu as}$\" % R2m_ka1,\n",
    "       fontsize=12, color=\"b\")\n",
    "ax.text(xloc, yloc[3], \" Std=$\\mathrm{%2.0f\\,\\mu as}$\" % R2s_ka1,\n",
    "       fontsize=12, color=\"b\")\n",
    "\n",
    "ax.set_title(\"ICRF3 X/Ka $-$ ICRF3 S/X\", fontsize=15)\n",
    "\n",
    "plt.tight_layout()\n",
    "# plt.savefig(\"../plots/icrf3ka-icrf3sx-R2.eps\")"
   ]
  },
  {
   "cell_type": "code",
   "execution_count": 23,
   "metadata": {
    "ExecuteTime": {
     "end_time": "2021-05-12T04:13:10.165567Z",
     "start_time": "2021-05-12T04:13:09.150820Z"
    }
   },
   "outputs": [
    {
     "data": {
      "image/png": "[encoded data removed]",
      "text/plain": [
       "<Figure size 432x288 with 1 Axes>"
      ]
     },
     "metadata": {
      "needs_background": "light"
     },
     "output_type": "display_data"
    }
   ],
   "source": [
    "fig, ax = plt.subplots()\n",
    "\n",
    "bins = np.arange(-120, 120, 1)\n",
    "\n",
    "ax.hist(optka[\"R3\"], bins, histtype=\"bar\", color=\"silver\", \n",
    "        edgecolor=\"lightgrey\", label=\"All\")\n",
    "ax.hist(optka1[\"R3\"], bins, histtype=\"bar\",\n",
    "        fill=False, edgecolor=\"b\", label=\"Clean\")\n",
    "ax.legend(loc=\"upper left\")\n",
    "\n",
    "ax.set_xlabel(\"$R_3$ ($\\mu$as)\", fontsize=12)\n",
    "ax.set_ylabel(\"No. Source\", fontsize=12)\n",
    "\n",
    "ax.axis([30, 100, 0, 100])\n",
    "\n",
    "xloc = 80\n",
    "yloc = [90, 80, 70, 60]\n",
    "ax.text(xloc, yloc[0], \"Mean=$\\mathrm{%+2.0f\\,\\mu as}$\" % R3m_ka,\n",
    "       fontsize=12, color=\"silver\")\n",
    "ax.text(xloc, yloc[1], \" Std=$\\mathrm{%2.0f\\,\\mu as}$\" % R3s_ka,\n",
    "       fontsize=12, color=\"silver\")\n",
    "ax.text(xloc, yloc[2], \"Mean=$\\mathrm{%+2.0f\\,\\mu as}$\" % R3m_ka1,\n",
    "       fontsize=12, color=\"b\")\n",
    "ax.text(xloc, yloc[3], \" Std=$\\mathrm{%2.0f\\,\\mu as}$\" % R3s_ka1,\n",
    "       fontsize=12, color=\"b\")\n",
    "\n",
    "ax.set_title(\"ICRF3 X/Ka $-$ ICRF3 S/X\", fontsize=15)\n",
    "\n",
    "plt.tight_layout()\n",
    "# plt.savefig(\"../plots/icrf3ka-icrf3sx-R3.eps\")"
   ]
  },
  {
   "cell_type": "markdown",
   "metadata": {},
   "source": [
    "## d) opa2019a vs. ICRF3 SX"
   ]
  },
  {
   "cell_type": "markdown",
   "metadata": {},
   "source": [
    "## d.1 Orientation for defining sources"
   ]
  },
  {
   "cell_type": "code",
   "execution_count": 24,
   "metadata": {
    "ExecuteTime": {
     "end_time": "2021-05-12T04:13:10.285233Z",
     "start_time": "2021-05-12T04:13:10.167563Z"
    }
   },
   "outputs": [
    {
     "name": "stdout",
     "output_type": "stream",
     "text": [
      "Between opa2019a and ICRF3 SX (without outlier elimination)\n",
      "Estimates (  4380 sources)\n",
      "----------------------------------------------\n",
      "               Rotation [uas]                 \n",
      "       x             y             z          \n",
      "----------------------------------------------\n",
      "   +24 +/-   8   -45 +/-   7    -0 +/-   5\n",
      "----------------------------------------------\n",
      "\n",
      "Between opa2019a and ICRF3 SX (with outlier elimination)\n",
      "For a sample of 4380 sources, the number of the outlier is smaller than 1 when X >= 4.10.\n",
      "After elimination, there are 4348 sources in the clean sample.\n",
      "The outlier rate is 0.73%.\n",
      "\n",
      "Estimates (  4348 sources)\n",
      "----------------------------------------------\n",
      "               Rotation [uas]                 \n",
      "       x             y             z          \n",
      "----------------------------------------------\n",
      "   +26 +/-   1   -51 +/-   1    -2 +/-   1\n",
      "----------------------------------------------\n",
      "\n",
      "Between opa2019a and ICRF3 SX (Only ICRF3 defining sources)\n",
      "Estimates (   303 sources)\n",
      "----------------------------------------------\n",
      "               Rotation [uas]                 \n",
      "       x             y             z          \n",
      "----------------------------------------------\n",
      "   +25 +/-   1   -52 +/-   1    -1 +/-   1\n",
      "----------------------------------------------\n",
      "\n"
     ]
    }
   ],
   "source": [
    "print(\"Between opa2019a and ICRF3 SX (without outlier elimination)\")\n",
    "_ = vsh_fit_for_pos(oft_opa_sx, print_log=True)\n",
    "\n",
    "print(\"Between opa2019a and ICRF3 SX (with outlier elimination)\")\n",
    "oft_opa_sx_cln = sample_clean(oft_opa_sx, rho0=10, print_log=True)\n",
    "_ = vsh_fit_for_pos(oft_opa_sx_cln, print_log=True)\n",
    "\n",
    "print(\"Between opa2019a and ICRF3 SX (Only ICRF3 defining sources)\")\n",
    "_ = vsh_fit_for_pos(oft_opa_sx_def, print_log=True)"
   ]
  },
  {
   "cell_type": "markdown",
   "metadata": {},
   "source": [
    "## d.2 Bootstrap sampling"
   ]
  },
  {
   "cell_type": "code",
   "execution_count": 25,
   "metadata": {
    "ExecuteTime": {
     "end_time": "2021-05-12T04:13:10.320050Z",
     "start_time": "2021-05-12T04:13:10.287262Z"
    }
   },
   "outputs": [],
   "source": [
    "optopa = Table.read(\"../logs/opa2019a_icrf3sx_orient.fits\")\n",
    "optopa1 = Table.read(\"../logs/opa2019a_icrf3sx_orient_cln.fits\")"
   ]
  },
  {
   "cell_type": "code",
   "execution_count": 26,
   "metadata": {
    "ExecuteTime": {
     "end_time": "2021-05-12T04:13:10.344532Z",
     "start_time": "2021-05-12T04:13:10.322612Z"
    }
   },
   "outputs": [],
   "source": [
    "# Mean and Std\n",
    "# All\n",
    "R1m_opa, R1s_opa = calc_mean_std(optopa[\"R1\"])\n",
    "R2m_opa, R2s_opa = calc_mean_std(optopa[\"R2\"])\n",
    "R3m_opa, R3s_opa = calc_mean_std(optopa[\"R3\"])\n",
    "\n",
    "# Clean\n",
    "R1m_opa1, R1s_opa1 = calc_mean_std(optopa1[\"R1\"])\n",
    "R2m_opa1, R2s_opa1 = calc_mean_std(optopa1[\"R2\"]) \n",
    "R3m_opa1, R3s_opa1 = calc_mean_std(optopa1[\"R3\"])"
   ]
  },
  {
   "cell_type": "code",
   "execution_count": 27,
   "metadata": {
    "ExecuteTime": {
     "end_time": "2021-05-12T04:13:11.401921Z",
     "start_time": "2021-05-12T04:13:10.347028Z"
    }
   },
   "outputs": [
    {
     "data": {
      "image/png": "[encoded data removed]",
      "text/plain": [
       "<Figure size 432x288 with 1 Axes>"
      ]
     },
     "metadata": {
      "needs_background": "light"
     },
     "output_type": "display_data"
    }
   ],
   "source": [
    "fig, ax = plt.subplots()\n",
    "\n",
    "bins = np.arange(-100, 100, 1)\n",
    "\n",
    "ax.hist(optopa[\"R1\"], bins, histtype=\"bar\", color=\"silver\", \n",
    "        edgecolor=\"lightgrey\", label=\"All\")\n",
    "ax.hist(optopa1[\"R1\"], bins, histtype=\"bar\",\n",
    "        fill=False, edgecolor=\"b\", label=\"Clean\")\n",
    "ax.legend()\n",
    "\n",
    "ax.set_xlabel(\"$R_1$ ($\\mu$as)\", fontsize=12)\n",
    "ax.set_ylabel(\"No. Source\", fontsize=12)\n",
    "\n",
    "ax.axis([18, 30, 0, 500])\n",
    "\n",
    "xloc = 19\n",
    "yloc = [450, 400, 350, 300]\n",
    "ax.text(xloc, yloc[0], \"Mean=$\\mathrm{%+2.0f\\,\\mu as}$\" % R1m_opa,\n",
    "       fontsize=12, color=\"silver\")\n",
    "ax.text(xloc, yloc[1], \" Std=$\\mathrm{%2.0f\\,\\mu as}$\" % R1s_opa,\n",
    "       fontsize=12, color=\"silver\")\n",
    "ax.text(xloc, yloc[2], \"Mean=$\\mathrm{%+2.0f\\,\\mu as}$\" % R1m_opa1,\n",
    "       fontsize=12, color=\"b\")\n",
    "ax.text(xloc, yloc[3], \" Std=$\\mathrm{%2.0f\\,\\mu as}$\" % R1s_opa1,\n",
    "       fontsize=12, color=\"b\")\n",
    "\n",
    "ax.set_title(\"opa2019a $-$ ICRF3 S/X\", fontsize=15)\n",
    "\n",
    "plt.tight_layout()\n",
    "# plt.savefig(\"../plots/opa-icrf3sx-R1.eps\")"
   ]
  },
  {
   "cell_type": "code",
   "execution_count": 28,
   "metadata": {
    "ExecuteTime": {
     "end_time": "2021-05-12T04:13:12.279835Z",
     "start_time": "2021-05-12T04:13:11.403854Z"
    }
   },
   "outputs": [
    {
     "data": {
      "image/png": "[encoded data removed]",
      "text/plain": [
       "<Figure size 432x288 with 1 Axes>"
      ]
     },
     "metadata": {
      "needs_background": "light"
     },
     "output_type": "display_data"
    }
   ],
   "source": [
    "fig, ax = plt.subplots()\n",
    "\n",
    "bins = np.arange(-120, 120, 1)\n",
    "\n",
    "ax.hist(optopa[\"R2\"], bins, histtype=\"bar\", color=\"silver\", \n",
    "        edgecolor=\"lightgrey\", label=\"All\")\n",
    "ax.hist(optopa1[\"R2\"], bins, histtype=\"bar\",\n",
    "        fill=False, edgecolor=\"b\", label=\"Clean\")\n",
    "ax.legend(loc=\"upper left\")\n",
    "\n",
    "ax.set_xlabel(\"$R_2$ ($\\mu$as)\", fontsize=12)\n",
    "ax.set_ylabel(\"No. Source\", fontsize=12)\n",
    "\n",
    "ax.axis([-55, -35, 0, 550])\n",
    "\n",
    "xloc = -42\n",
    "yloc = [500, 450, 400, 350]\n",
    "ax.text(xloc, yloc[0], \"Mean=$\\mathrm{%+2.0f\\,\\mu as}$\" % R2m_opa,\n",
    "       fontsize=12, color=\"silver\")\n",
    "ax.text(xloc, yloc[1], \" Std=$\\mathrm{%2.0f\\,\\mu as}$\" % R2s_opa,\n",
    "       fontsize=12, color=\"silver\")\n",
    "ax.text(xloc, yloc[2], \"Mean=$\\mathrm{%+2.0f\\,\\mu as}$\" % R2m_opa1,\n",
    "       fontsize=12, color=\"b\")\n",
    "ax.text(xloc, yloc[3], \" Std=$\\mathrm{%2.0f\\,\\mu as}$\" % R2s_opa1,\n",
    "       fontsize=12, color=\"b\")\n",
    "\n",
    "ax.set_title(\"opa2019a $-$ ICRF3 S/X\", fontsize=15)\n",
    "\n",
    "plt.tight_layout()\n",
    "# plt.savefig(\"../plots/opa-icrf3sx-R2.eps\")"
   ]
  },
  {
   "cell_type": "code",
   "execution_count": 29,
   "metadata": {
    "ExecuteTime": {
     "end_time": "2021-05-12T04:13:13.310256Z",
     "start_time": "2021-05-12T04:13:12.281750Z"
    }
   },
   "outputs": [
    {
     "data": {
      "image/png": "[encoded data removed]",
      "text/plain": [
       "<Figure size 432x288 with 1 Axes>"
      ]
     },
     "metadata": {
      "needs_background": "light"
     },
     "output_type": "display_data"
    }
   ],
   "source": [
    "fig, ax = plt.subplots()\n",
    "\n",
    "bins = np.arange(-100, 100, 1)\n",
    "\n",
    "ax.hist(optopa[\"R3\"], bins, histtype=\"bar\", color=\"silver\",\n",
    "        edgecolor=\"lightgrey\", label=\"All\")\n",
    "ax.hist(optopa1[\"R3\"], bins, histtype=\"bar\",\n",
    "        fill=False, edgecolor=\"b\", label=\"Clean\")\n",
    "ax.legend()\n",
    "\n",
    "ax.set_xlabel(\"$R_3$ ($\\mu$as)\", fontsize=12)\n",
    "ax.set_ylabel(\"No. Source\", fontsize=12)\n",
    "\n",
    "ax.axis([-5, 5, 0, 750])\n",
    "\n",
    "xloc = -4.5\n",
    "yloc = np.array([700, 600, 500, 400])-50\n",
    "ax.text(xloc, yloc[0], \"Mean=$\\mathrm{%+2.0f\\,\\mu as}$\" % R3m_opa,\n",
    "        fontsize=12, color=\"silver\")\n",
    "ax.text(xloc, yloc[1], \" Std=$\\mathrm{%2.0f\\,\\mu as}$\" % R3s_opa,\n",
    "        fontsize=12, color=\"silver\")\n",
    "ax.text(xloc, yloc[2], \"Mean=$\\mathrm{%+2.0f\\,\\mu as}$\" % R3m_opa1,\n",
    "        fontsize=12, color=\"b\")\n",
    "ax.text(xloc, yloc[3], \" Std=$\\mathrm{%2.0f\\,\\mu as}$\" % R3s_opa1,\n",
    "        fontsize=12, color=\"b\")\n",
    "\n",
    "ax.set_title(\"opa2019a $-$ ICRF3 S/X\", fontsize=15)\n",
    "\n",
    "plt.tight_layout()\n",
    "# plt.savefig(\"../plots/opa-icrf3sx-R3.eps\")"
   ]
  },
  {
   "cell_type": "markdown",
   "metadata": {},
   "source": [
    "## e) asi2020a vs. ICRF3 SX"
   ]
  },
  {
   "cell_type": "markdown",
   "metadata": {},
   "source": [
    "## e.1 Orientation for defining sources"
   ]
  },
  {
   "cell_type": "code",
   "execution_count": 30,
   "metadata": {
    "ExecuteTime": {
     "end_time": "2021-05-12T04:13:13.436420Z",
     "start_time": "2021-05-12T04:13:13.312513Z"
    }
   },
   "outputs": [
    {
     "name": "stdout",
     "output_type": "stream",
     "text": [
      "Between asi2020a and ICRF3 SX (without outlier elimination)\n",
      "Estimates (  4296 sources)\n",
      "----------------------------------------------\n",
      "               Rotation [uas]                 \n",
      "       x             y             z          \n",
      "----------------------------------------------\n",
      "    -8 +/-  12   +15 +/-  10    +5 +/-   6\n",
      "----------------------------------------------\n",
      "\n",
      "Between asi2020a and ICRF3 SX (with outlier elimination)\n",
      "For a sample of 4296 sources, the number of the outlier is smaller than 1 when X >= 4.09.\n",
      "After elimination, there are 4271 sources in the clean sample.\n",
      "The outlier rate is 0.58%.\n",
      "\n",
      "Estimates (  4271 sources)\n",
      "----------------------------------------------\n",
      "               Rotation [uas]                 \n",
      "       x             y             z          \n",
      "----------------------------------------------\n",
      "    -2 +/-   3    +7 +/-   2    +7 +/-   1\n",
      "----------------------------------------------\n",
      "\n",
      "Between asi2020a and ICRF3 SX (Only ICRF3 defining sources)\n",
      "Estimates (   290 sources)\n",
      "----------------------------------------------\n",
      "               Rotation [uas]                 \n",
      "       x             y             z          \n",
      "----------------------------------------------\n",
      "    -4 +/-   3    +5 +/-   2    +5 +/-   1\n",
      "----------------------------------------------\n",
      "\n"
     ]
    }
   ],
   "source": [
    "print(\"Between asi2020a and ICRF3 SX (without outlier elimination)\")\n",
    "_ = vsh_fit_for_pos(oft_asi_sx, print_log=True)\n",
    "\n",
    "print(\"Between asi2020a and ICRF3 SX (with outlier elimination)\")\n",
    "oft_asi_sx_cln = sample_clean(oft_asi_sx, rho0=10, print_log=True)\n",
    "_ = vsh_fit_for_pos(oft_asi_sx_cln, print_log=True)\n",
    "\n",
    "print(\"Between asi2020a and ICRF3 SX (Only ICRF3 defining sources)\")\n",
    "_ = vsh_fit_for_pos(oft_asi_sx_def, print_log=True)"
   ]
  },
  {
   "cell_type": "markdown",
   "metadata": {},
   "source": [
    "## e.2 Bootstrap sampling"
   ]
  },
  {
   "cell_type": "code",
   "execution_count": 31,
   "metadata": {
    "ExecuteTime": {
     "end_time": "2021-05-12T04:13:13.473588Z",
     "start_time": "2021-05-12T04:13:13.438550Z"
    }
   },
   "outputs": [],
   "source": [
    "optasi = Table.read(\"../logs/asi2020a_icrf3sx_orient.fits\")\n",
    "optasi1 = Table.read(\"../logs/asi2020a_icrf3sx_orient_cln.fits\")"
   ]
  },
  {
   "cell_type": "code",
   "execution_count": 32,
   "metadata": {
    "ExecuteTime": {
     "end_time": "2021-05-12T04:13:13.502133Z",
     "start_time": "2021-05-12T04:13:13.476694Z"
    }
   },
   "outputs": [],
   "source": [
    "# Mean and Std\n",
    "# All\n",
    "R1m_asi, R1s_asi = calc_mean_std(optasi[\"R1\"])\n",
    "R2m_asi, R2s_asi = calc_mean_std(optasi[\"R2\"])\n",
    "R3m_asi, R3s_asi = calc_mean_std(optasi[\"R3\"])\n",
    "\n",
    "# Clean\n",
    "R1m_asi1, R1s_asi1 = calc_mean_std(optasi1[\"R1\"])\n",
    "R2m_asi1, R2s_asi1 = calc_mean_std(optasi1[\"R2\"])\n",
    "R3m_asi1, R3s_asi1 = calc_mean_std(optasi1[\"R3\"])"
   ]
  },
  {
   "cell_type": "code",
   "execution_count": 33,
   "metadata": {
    "ExecuteTime": {
     "end_time": "2021-05-12T04:13:14.618561Z",
     "start_time": "2021-05-12T04:13:13.504381Z"
    }
   },
   "outputs": [
    {
     "data": {
      "image/png": "[encoded data removed]",
      "text/plain": [
       "<Figure size 432x288 with 1 Axes>"
      ]
     },
     "metadata": {
      "needs_background": "light"
     },
     "output_type": "display_data"
    }
   ],
   "source": [
    "fig, ax = plt.subplots()\n",
    "\n",
    "bins = np.arange(-100, 100, 1)\n",
    "\n",
    "ax.hist(optasi[\"R1\"], bins, histtype=\"bar\", color=\"silver\", \n",
    "        edgecolor=\"lightgrey\", label=\"All\")\n",
    "ax.hist(optasi1[\"R1\"], bins, histtype=\"bar\",\n",
    "        fill=False, edgecolor=\"b\", label=\"Clean\")\n",
    "ax.legend()\n",
    "\n",
    "ax.set_xlabel(\"$R_1$ ($\\mu$as)\", fontsize=12)\n",
    "ax.set_ylabel(\"No. Source\", fontsize=12)\n",
    "\n",
    "ax.axis([-20, 10, 0, 350])\n",
    "\n",
    "xloc = -18\n",
    "yloc = [300, 250, 200, 150]\n",
    "ax.text(xloc, yloc[0], \"Mean=$\\mathrm{%+2.0f\\,\\mu as}$\" % R1m_asi,\n",
    "       fontsize=12, color=\"silver\")\n",
    "ax.text(xloc, yloc[1], \" Std=$\\mathrm{%2.0f\\,\\mu as}$\" % R1s_asi,\n",
    "       fontsize=12, color=\"silver\")\n",
    "ax.text(xloc, yloc[2], \"Mean=$\\mathrm{%+2.0f\\,\\mu as}$\" % R1m_asi1,\n",
    "       fontsize=12, color=\"b\")\n",
    "ax.text(xloc, yloc[3], \" Std=$\\mathrm{%2.0f\\,\\mu as}$\" % R1s_asi1,\n",
    "       fontsize=12, color=\"b\")\n",
    "\n",
    "ax.set_title(\"asi2020a $-$ ICRF3 S/X\", fontsize=15)\n",
    "\n",
    "plt.tight_layout()\n",
    "# plt.savefig(\"../plots/asi-icrf3sx-R1.eps\")"
   ]
  },
  {
   "cell_type": "code",
   "execution_count": 34,
   "metadata": {
    "ExecuteTime": {
     "end_time": "2021-05-12T04:13:15.641739Z",
     "start_time": "2021-05-12T04:13:14.620775Z"
    }
   },
   "outputs": [
    {
     "data": {
      "image/png": "[encoded data removed]",
      "text/plain": [
       "<Figure size 432x288 with 1 Axes>"
      ]
     },
     "metadata": {
      "needs_background": "light"
     },
     "output_type": "display_data"
    }
   ],
   "source": [
    "fig, ax = plt.subplots()\n",
    "\n",
    "bins = np.arange(-120, 120, 1)\n",
    "\n",
    "ax.hist(optasi[\"R2\"], bins, histtype=\"bar\", color=\"silver\",\n",
    "        edgecolor=\"lightgrey\", label=\"All\")\n",
    "ax.hist(optasi1[\"R2\"], bins, histtype=\"bar\",\n",
    "        fill=False, edgecolor=\"b\", label=\"Clean\")\n",
    "ax.legend(loc=\"upper left\")\n",
    "\n",
    "ax.set_xlabel(\"$R_2$ ($\\mu$as)\", fontsize=12)\n",
    "ax.set_ylabel(\"No. Source\", fontsize=12)\n",
    "\n",
    "ax.axis([0, 30, 0, 450])\n",
    "\n",
    "xloc = 20\n",
    "yloc = [400, 350, 300, 250]\n",
    "ax.text(xloc, yloc[0], \"Mean=$\\mathrm{%+2.0f\\,\\mu as}$\" % R2m_asi,\n",
    "        fontsize=12, color=\"silver\")\n",
    "ax.text(xloc, yloc[1], \" Std=$\\mathrm{%2.0f\\,\\mu as}$\" % R2s_asi,\n",
    "        fontsize=12, color=\"silver\")\n",
    "ax.text(xloc, yloc[2], \"Mean=$\\mathrm{%+2.0f\\,\\mu as}$\" % R2m_asi1,\n",
    "        fontsize=12, color=\"b\")\n",
    "ax.text(xloc, yloc[3], \" Std=$\\mathrm{%2.0f\\,\\mu as}$\" % R2s_asi1,\n",
    "        fontsize=12, color=\"b\")\n",
    "\n",
    "ax.set_title(\"asi2020a $-$ ICRF3 S/X\", fontsize=15)\n",
    "\n",
    "plt.tight_layout()\n",
    "# plt.savefig(\"../plots/asi-icrf3sx-R2.eps\")"
   ]
  },
  {
   "cell_type": "code",
   "execution_count": 35,
   "metadata": {
    "ExecuteTime": {
     "end_time": "2021-05-12T04:13:16.600008Z",
     "start_time": "2021-05-12T04:13:15.643771Z"
    },
    "scrolled": true
   },
   "outputs": [
    {
     "data": {
      "image/png": "[encoded data removed]",
      "text/plain": [
       "<Figure size 432x288 with 1 Axes>"
      ]
     },
     "metadata": {
      "needs_background": "light"
     },
     "output_type": "display_data"
    }
   ],
   "source": [
    "fig, ax = plt.subplots()\n",
    "\n",
    "bins = np.arange(-100, 100, 1)\n",
    "\n",
    "ax.hist(optasi[\"R3\"], bins, histtype=\"bar\", color=\"silver\",\n",
    "        edgecolor=\"lightgrey\", label=\"All\")\n",
    "ax.hist(optasi1[\"R3\"], bins, histtype=\"bar\",\n",
    "        fill=False, edgecolor=\"b\", label=\"Clean\")\n",
    "ax.legend()\n",
    "\n",
    "ax.set_xlabel(\"$R_3$ ($\\mu$as)\", fontsize=12)\n",
    "ax.set_ylabel(\"No. Source\", fontsize=12)\n",
    "\n",
    "ax.axis([0, 10, 0, 550])\n",
    "\n",
    "xloc = 0.5\n",
    "yloc = np.array([500, 450, 400, 350])\n",
    "ax.text(xloc, yloc[0], \"Mean=$\\mathrm{%+2.0f\\,\\mu as}$\" % R3m_asi,\n",
    "        fontsize=12, color=\"silver\")\n",
    "ax.text(xloc, yloc[1], \" Std=$\\mathrm{%2.0f\\,\\mu as}$\" % R3s_asi,\n",
    "        fontsize=12, color=\"silver\")\n",
    "ax.text(xloc, yloc[2], \"Mean=$\\mathrm{%+2.0f\\,\\mu as}$\" % R3m_asi1,\n",
    "        fontsize=12, color=\"b\")\n",
    "ax.text(xloc, yloc[3], \" Std=$\\mathrm{%2.0f\\,\\mu as}$\" % R3s_asi1,\n",
    "        fontsize=12, color=\"b\")\n",
    "\n",
    "ax.set_title(\"asi2020a $-$ ICRF3 S/X\", fontsize=15)\n",
    "\n",
    "plt.tight_layout()\n",
    "# plt.savefig(\"../plots/asi-icrf3sx-R3.eps\")"
   ]
  },
  {
   "cell_type": "markdown",
   "metadata": {},
   "source": [
    "## f) aus2020b vs. ICRF3 SX"
   ]
  },
  {
   "cell_type": "markdown",
   "metadata": {},
   "source": [
    "## f.1 Orientation for defining sources"
   ]
  },
  {
   "cell_type": "code",
   "execution_count": 36,
   "metadata": {
    "ExecuteTime": {
     "end_time": "2021-05-12T04:13:16.716739Z",
     "start_time": "2021-05-12T04:13:16.602268Z"
    }
   },
   "outputs": [
    {
     "name": "stdout",
     "output_type": "stream",
     "text": [
      "Between aus2020b and ICRF3 SX (without outlier elimination)\n",
      "Estimates (  4456 sources)\n",
      "----------------------------------------------\n",
      "               Rotation [uas]                 \n",
      "       x             y             z          \n",
      "----------------------------------------------\n",
      "   -15 +/-  15    +5 +/-  16    -7 +/-  15\n",
      "----------------------------------------------\n",
      "\n",
      "Between aus2020b and ICRF3 SX (with outlier elimination)\n",
      "For a sample of 4456 sources, the number of the outlier is smaller than 1 when X >= 4.10.\n",
      "After elimination, there are 4378 sources in the clean sample.\n",
      "The outlier rate is 1.75%.\n",
      "\n",
      "Estimates (  4378 sources)\n",
      "----------------------------------------------\n",
      "               Rotation [uas]                 \n",
      "       x             y             z          \n",
      "----------------------------------------------\n",
      "   -14 +/-   3    +3 +/-   3    -7 +/-   3\n",
      "----------------------------------------------\n",
      "\n",
      "Between aus2020b and ICRF3 SX (Only ICRF3 defining sources)\n",
      "Estimates (   299 sources)\n",
      "----------------------------------------------\n",
      "               Rotation [uas]                 \n",
      "       x             y             z          \n",
      "----------------------------------------------\n",
      "    -4 +/-   3    +0 +/-   3    -9 +/-   3\n",
      "----------------------------------------------\n",
      "\n"
     ]
    }
   ],
   "source": [
    "print(\"Between aus2020b and ICRF3 SX (without outlier elimination)\")\n",
    "_ = vsh_fit_for_pos(oft_aus_sx, print_log=True)\n",
    "\n",
    "print(\"Between aus2020b and ICRF3 SX (with outlier elimination)\")\n",
    "oft_aus_sx_cln = sample_clean(oft_aus_sx, rho0=10, print_log=True)\n",
    "_ = vsh_fit_for_pos(oft_aus_sx_cln, print_log=True)\n",
    "\n",
    "print(\"Between aus2020b and ICRF3 SX (Only ICRF3 defining sources)\")\n",
    "_ = vsh_fit_for_pos(oft_aus_sx_def, print_log=True)"
   ]
  },
  {
   "cell_type": "markdown",
   "metadata": {},
   "source": [
    "## f.2 Bootstrap sampling"
   ]
  },
  {
   "cell_type": "code",
   "execution_count": 37,
   "metadata": {
    "ExecuteTime": {
     "end_time": "2021-05-12T04:13:16.753564Z",
     "start_time": "2021-05-12T04:13:16.719165Z"
    }
   },
   "outputs": [],
   "source": [
    "optaus = Table.read(\"../logs/aus2020b_icrf3sx_orient.fits\")\n",
    "optaus1 = Table.read(\"../logs/aus2020b_icrf3sx_orient_cln.fits\")"
   ]
  },
  {
   "cell_type": "code",
   "execution_count": 38,
   "metadata": {
    "ExecuteTime": {
     "end_time": "2021-05-12T04:13:16.775725Z",
     "start_time": "2021-05-12T04:13:16.755648Z"
    }
   },
   "outputs": [],
   "source": [
    "# Mean and Std\n",
    "# All\n",
    "R1m_aus, R1s_aus = calc_mean_std(optaus[\"R1\"])\n",
    "R2m_aus, R2s_aus = calc_mean_std(optaus[\"R2\"])\n",
    "R3m_aus, R3s_aus = calc_mean_std(optaus[\"R3\"])\n",
    "\n",
    "# Clean\n",
    "R1m_aus1, R1s_aus1 = calc_mean_std(optaus1[\"R1\"])\n",
    "R2m_aus1, R2s_aus1 = calc_mean_std(optaus1[\"R2\"])\n",
    "R3m_aus1, R3s_aus1 = calc_mean_std(optaus1[\"R3\"])"
   ]
  },
  {
   "cell_type": "code",
   "execution_count": 39,
   "metadata": {
    "ExecuteTime": {
     "end_time": "2021-05-12T04:13:17.855299Z",
     "start_time": "2021-05-12T04:13:16.778276Z"
    }
   },
   "outputs": [
    {
     "data": {
      "image/png": "[encoded data removed]",
      "text/plain": [
       "<Figure size 432x288 with 1 Axes>"
      ]
     },
     "metadata": {
      "needs_background": "light"
     },
     "output_type": "display_data"
    }
   ],
   "source": [
    "fig, ax = plt.subplots()\n",
    "\n",
    "bins = np.arange(-100, 100, 1)\n",
    "\n",
    "ax.hist(optaus[\"R1\"], bins, histtype=\"bar\", color=\"silver\",\n",
    "        edgecolor=\"lightgrey\", label=\"All\")\n",
    "ax.hist(optaus1[\"R1\"], bins, histtype=\"bar\",\n",
    "        fill=False, edgecolor=\"b\", label=\"Clean\")\n",
    "ax.legend()\n",
    "\n",
    "ax.set_xlabel(\"$R_1$ ($\\mu$as)\", fontsize=12)\n",
    "ax.set_ylabel(\"No. Source\", fontsize=12)\n",
    "\n",
    "ax.axis([-50, 20, 0, 80])\n",
    "\n",
    "xloc = -45\n",
    "yloc = [70, 60, 50, 40]\n",
    "ax.text(xloc, yloc[0], \"Mean=$\\mathrm{%+2.0f\\,\\mu as}$\" % R1m_aus,\n",
    "        fontsize=12, color=\"silver\")\n",
    "ax.text(xloc, yloc[1], \" Std=$\\mathrm{%2.0f\\,\\mu as}$\" % R1s_aus,\n",
    "        fontsize=12, color=\"silver\")\n",
    "ax.text(xloc, yloc[2], \"Mean=$\\mathrm{%+2.0f\\,\\mu as}$\" % R1m_aus1,\n",
    "        fontsize=12, color=\"b\")\n",
    "ax.text(xloc, yloc[3], \" Std=$\\mathrm{%2.0f\\,\\mu as}$\" % R1s_aus1,\n",
    "        fontsize=12, color=\"b\")\n",
    "\n",
    "ax.set_title(\"aus2020b $-$ ICRF3 S/X\", fontsize=15)\n",
    "\n",
    "plt.tight_layout()\n",
    "# plt.savefig(\"../plots/aus-icrf3sx-R1.eps\")"
   ]
  },
  {
   "cell_type": "code",
   "execution_count": 40,
   "metadata": {
    "ExecuteTime": {
     "end_time": "2021-05-12T04:13:19.053439Z",
     "start_time": "2021-05-12T04:13:17.858063Z"
    }
   },
   "outputs": [
    {
     "data": {
      "image/png": "[encoded data removed]",
      "text/plain": [
       "<Figure size 432x288 with 1 Axes>"
      ]
     },
     "metadata": {
      "needs_background": "light"
     },
     "output_type": "display_data"
    }
   ],
   "source": [
    "fig, ax = plt.subplots()\n",
    "\n",
    "bins = np.arange(-120, 120, 1)\n",
    "\n",
    "ax.hist(optaus[\"R2\"], bins, histtype=\"bar\", color=\"silver\",\n",
    "        edgecolor=\"lightgrey\", label=\"All\")\n",
    "ax.hist(optaus1[\"R2\"], bins, histtype=\"bar\",\n",
    "        fill=False, edgecolor=\"b\", label=\"Clean\")\n",
    "ax.legend()\n",
    "\n",
    "ax.set_xlabel(\"$R_2$ ($\\mu$as)\", fontsize=12)\n",
    "ax.set_ylabel(\"No. Source\", fontsize=12)\n",
    "\n",
    "ax.axis([-10, 20, 0, 150])\n",
    "\n",
    "xloc = -8\n",
    "yloc = np.array([140, 120, 100, 80])-10\n",
    "ax.text(xloc, yloc[0], \"Mean=$\\mathrm{%+2.0f\\,\\mu as}$\" % R2m_aus,\n",
    "        fontsize=12, color=\"silver\")\n",
    "ax.text(xloc, yloc[1], \" Std=$\\mathrm{%2.0f\\,\\mu as}$\" % R2s_aus,\n",
    "        fontsize=12, color=\"silver\")\n",
    "ax.text(xloc, yloc[2], \"Mean=$\\mathrm{%+2.0f\\,\\mu as}$\" % R2m_aus1,\n",
    "        fontsize=12, color=\"b\")\n",
    "ax.text(xloc, yloc[3], \" Std=$\\mathrm{%2.0f\\,\\mu as}$\" % R2s_aus1,\n",
    "        fontsize=12, color=\"b\")\n",
    "\n",
    "ax.set_title(\"aus2020b $-$ ICRF3 S/X\", fontsize=15)\n",
    "\n",
    "plt.tight_layout()\n",
    "# plt.savefig(\"../plots/aus-icrf3sx-R2.eps\")"
   ]
  },
  {
   "cell_type": "code",
   "execution_count": 41,
   "metadata": {
    "ExecuteTime": {
     "end_time": "2021-05-12T04:13:20.025263Z",
     "start_time": "2021-05-12T04:13:19.056251Z"
    },
    "scrolled": true
   },
   "outputs": [
    {
     "data": {
      "image/png": "[encoded data removed]",
      "text/plain": [
       "<Figure size 432x288 with 1 Axes>"
      ]
     },
     "metadata": {
      "needs_background": "light"
     },
     "output_type": "display_data"
    }
   ],
   "source": [
    "fig, ax = plt.subplots()\n",
    "\n",
    "bins = np.arange(-100, 100, 1)\n",
    "\n",
    "ax.hist(optaus[\"R3\"], bins, histtype=\"bar\", color=\"silver\",\n",
    "        edgecolor=\"lightgrey\", label=\"All\")\n",
    "ax.hist(optaus1[\"R3\"], bins, histtype=\"bar\",\n",
    "        fill=False, edgecolor=\"b\", label=\"Clean\")\n",
    "ax.legend()\n",
    "\n",
    "ax.set_xlabel(\"$R_3$ ($\\mu$as)\", fontsize=12)\n",
    "ax.set_ylabel(\"No. Source\", fontsize=12)\n",
    "\n",
    "ax.axis([-20, 10, 0, 160])\n",
    "\n",
    "xloc = -18\n",
    "yloc = np.array([130, 110, 90, 70])\n",
    "ax.text(xloc, yloc[0], \"Mean=$\\mathrm{%+2.0f\\,\\mu as}$\" % R3m_aus,\n",
    "        fontsize=12, color=\"silver\")\n",
    "ax.text(xloc, yloc[1], \" Std=$\\mathrm{%2.0f\\,\\mu as}$\" % R3s_aus,\n",
    "        fontsize=12, color=\"silver\")\n",
    "ax.text(xloc, yloc[2], \"Mean=$\\mathrm{%+2.0f\\,\\mu as}$\" % R3m_aus1,\n",
    "        fontsize=12, color=\"b\")\n",
    "ax.text(xloc, yloc[3], \" Std=$\\mathrm{%2.0f\\,\\mu as}$\" % R3s_aus1,\n",
    "        fontsize=12, color=\"b\")\n",
    "\n",
    "ax.set_title(\"aus2020b $-$ ICRF3 S/X\", fontsize=15)\n",
    "\n",
    "plt.tight_layout()\n",
    "# plt.savefig(\"../plots/aus-icrf3sx-R3.eps\")"
   ]
  },
  {
   "cell_type": "markdown",
   "metadata": {},
   "source": [
    "## g) usn2019c vs. ICRF3 SX"
   ]
  },
  {
   "cell_type": "markdown",
   "metadata": {},
   "source": [
    "## g.1 Orientation for defining sources"
   ]
  },
  {
   "cell_type": "code",
   "execution_count": 42,
   "metadata": {
    "ExecuteTime": {
     "end_time": "2021-05-12T04:13:20.101362Z",
     "start_time": "2021-05-12T04:13:20.027891Z"
    }
   },
   "outputs": [
    {
     "name": "stdout",
     "output_type": "stream",
     "text": [
      "Between usn2019c and ICRF3 SX (without outlier elimination)\n",
      "Estimates (  2263 sources)\n",
      "----------------------------------------------\n",
      "               Rotation [uas]                 \n",
      "       x             y             z          \n",
      "----------------------------------------------\n",
      "    +3 +/-   1    -0 +/-   1   +13 +/-   1\n",
      "----------------------------------------------\n",
      "\n",
      "Between usn2019c and ICRF3 SX (with outlier elimination)\n",
      "For a sample of 2263 sources, the number of the outlier is smaller than 1 when X >= 3.93.\n",
      "After elimination, there are 2216 sources in the clean sample.\n",
      "The outlier rate is 2.08%.\n",
      "\n",
      "Estimates (  2216 sources)\n",
      "----------------------------------------------\n",
      "               Rotation [uas]                 \n",
      "       x             y             z          \n",
      "----------------------------------------------\n",
      "    +3 +/-   1    -0 +/-   1   +13 +/-   1\n",
      "----------------------------------------------\n",
      "\n",
      "Between usn2019c and ICRF3 SX (Only ICRF3 defining sources)\n",
      "Estimates (   292 sources)\n",
      "----------------------------------------------\n",
      "               Rotation [uas]                 \n",
      "       x             y             z          \n",
      "----------------------------------------------\n",
      "    +2 +/-   1    +0 +/-   1   +12 +/-   1\n",
      "----------------------------------------------\n",
      "\n"
     ]
    }
   ],
   "source": [
    "print(\"Between usn2019c and ICRF3 SX (without outlier elimination)\")\n",
    "_ = vsh_fit_for_pos(oft_usn_sx, print_log=True)\n",
    "\n",
    "print(\"Between usn2019c and ICRF3 SX (with outlier elimination)\")\n",
    "oft_usn_sx_cln = sample_clean(oft_usn_sx, rho0=10, print_log=True)\n",
    "_ = vsh_fit_for_pos(oft_usn_sx_cln, print_log=True)\n",
    "\n",
    "print(\"Between usn2019c and ICRF3 SX (Only ICRF3 defining sources)\")\n",
    "_ = vsh_fit_for_pos(oft_usn_sx_def, print_log=True)"
   ]
  },
  {
   "cell_type": "markdown",
   "metadata": {},
   "source": [
    "## g.2 Bootstrap sampling"
   ]
  },
  {
   "cell_type": "code",
   "execution_count": 43,
   "metadata": {
    "ExecuteTime": {
     "end_time": "2021-05-12T04:13:20.238603Z",
     "start_time": "2021-05-12T04:13:20.103307Z"
    }
   },
   "outputs": [],
   "source": [
    "optusn = Table.read(\"../logs/usn2019c_icrf3sx_orient.fits\")\n",
    "optusn1 = Table.read(\"../logs/usn2019c_icrf3sx_orient_cln.fits\")"
   ]
  },
  {
   "cell_type": "code",
   "execution_count": 44,
   "metadata": {
    "ExecuteTime": {
     "end_time": "2021-05-12T04:13:20.259860Z",
     "start_time": "2021-05-12T04:13:20.240435Z"
    }
   },
   "outputs": [],
   "source": [
    "# Mean and Std\n",
    "# All\n",
    "R1m_usn, R1s_usn = calc_mean_std(optusn[\"R1\"])\n",
    "R2m_usn, R2s_usn = calc_mean_std(optusn[\"R2\"])\n",
    "R3m_usn, R3s_usn = calc_mean_std(optusn[\"R3\"])\n",
    "\n",
    "# Clean\n",
    "R1m_usn1, R1s_usn1 = calc_mean_std(optusn1[\"R1\"])\n",
    "R2m_usn1, R2s_usn1 = calc_mean_std(optusn1[\"R2\"])\n",
    "R3m_usn1, R3s_usn1 = calc_mean_std(optusn1[\"R3\"])"
   ]
  },
  {
   "cell_type": "code",
   "execution_count": 45,
   "metadata": {
    "ExecuteTime": {
     "end_time": "2021-05-12T04:13:21.195530Z",
     "start_time": "2021-05-12T04:13:20.261626Z"
    }
   },
   "outputs": [
    {
     "data": {
      "image/png": "[encoded data removed]",
      "text/plain": [
       "<Figure size 432x288 with 1 Axes>"
      ]
     },
     "metadata": {
      "needs_background": "light"
     },
     "output_type": "display_data"
    }
   ],
   "source": [
    "fig, ax = plt.subplots()\n",
    "\n",
    "bins = np.arange(-100, 100, 1)\n",
    "\n",
    "ax.hist(optusn[\"R1\"], bins, histtype=\"bar\", color=\"silver\",\n",
    "        edgecolor=\"lightgrey\", label=\"All\")\n",
    "ax.hist(optusn1[\"R1\"], bins, histtype=\"bar\",\n",
    "        fill=False, edgecolor=\"b\", label=\"Clean\")\n",
    "ax.legend()\n",
    "\n",
    "ax.set_xlabel(\"$R_1$ ($\\mu$as)\", fontsize=12)\n",
    "ax.set_ylabel(\"No. Source\", fontsize=12)\n",
    "\n",
    "ax.axis([-5, 10, 0, 650])\n",
    "\n",
    "xloc = -4\n",
    "yloc = [550, 450, 350, 250]\n",
    "ax.text(xloc, yloc[0], \"Mean=$\\mathrm{%+2.0f\\,\\mu as}$\" % R1m_usn,\n",
    "        fontsize=12, color=\"silver\")\n",
    "ax.text(xloc, yloc[1], \" Std=$\\mathrm{%2.0f\\,\\mu as}$\" % R1s_usn,\n",
    "        fontsize=12, color=\"silver\")\n",
    "ax.text(xloc, yloc[2], \"Mean=$\\mathrm{%+2.0f\\,\\mu as}$\" % R1m_usn1,\n",
    "        fontsize=12, color=\"b\")\n",
    "ax.text(xloc, yloc[3], \" Std=$\\mathrm{%2.0f\\,\\mu as}$\" % R1s_usn1,\n",
    "        fontsize=12, color=\"b\")\n",
    "\n",
    "ax.set_title(\"usn2019c $-$ ICRF3 S/X\", fontsize=15)\n",
    "\n",
    "plt.tight_layout()\n",
    "# plt.savefig(\"../plots/usn-icrf3sx-R1.eps\")"
   ]
  },
  {
   "cell_type": "code",
   "execution_count": 46,
   "metadata": {
    "ExecuteTime": {
     "end_time": "2021-05-12T04:13:22.370084Z",
     "start_time": "2021-05-12T04:13:21.197450Z"
    }
   },
   "outputs": [
    {
     "data": {
      "image/png": "[encoded data removed]",
      "text/plain": [
       "<Figure size 432x288 with 1 Axes>"
      ]
     },
     "metadata": {
      "needs_background": "light"
     },
     "output_type": "display_data"
    }
   ],
   "source": [
    "fig, ax = plt.subplots()\n",
    "\n",
    "bins = np.arange(-120, 120, 1)\n",
    "\n",
    "ax.hist(optusn[\"R2\"], bins, histtype=\"bar\", color=\"silver\",\n",
    "        edgecolor=\"lightgrey\", label=\"All\")\n",
    "ax.hist(optusn1[\"R2\"], bins, histtype=\"bar\",\n",
    "        fill=False, edgecolor=\"b\", label=\"Clean\")\n",
    "ax.legend()\n",
    "\n",
    "ax.set_xlabel(\"$R_2$ ($\\mu$as)\", fontsize=12)\n",
    "ax.set_ylabel(\"No. Source\", fontsize=12)\n",
    "\n",
    "ax.axis([-5, 5, 0, 650])\n",
    "\n",
    "xloc = -4\n",
    "yloc = [550, 450, 350, 250]\n",
    "ax.text(xloc, yloc[0], \"Mean=$\\mathrm{%+2.0f\\,\\mu as}$\" % R2m_usn,\n",
    "        fontsize=12, color=\"silver\")\n",
    "ax.text(xloc, yloc[1], \" Std=$\\mathrm{%2.0f\\,\\mu as}$\" % R2s_usn,\n",
    "        fontsize=12, color=\"silver\")\n",
    "ax.text(xloc, yloc[2], \"Mean=$\\mathrm{%+2.0f\\,\\mu as}$\" % R2m_usn1,\n",
    "        fontsize=12, color=\"b\")\n",
    "ax.text(xloc, yloc[3], \" Std=$\\mathrm{%2.0f\\,\\mu as}$\" % R2s_usn1,\n",
    "        fontsize=12, color=\"b\")\n",
    "\n",
    "ax.set_title(\"usn2019c $-$ ICRF3 S/X\", fontsize=15)\n",
    "\n",
    "plt.tight_layout()\n",
    "# plt.savefig(\"../plots/usn-icrf3sx-R2.eps\")"
   ]
  },
  {
   "cell_type": "code",
   "execution_count": 47,
   "metadata": {
    "ExecuteTime": {
     "end_time": "2021-05-12T04:13:23.320472Z",
     "start_time": "2021-05-12T04:13:22.371960Z"
    },
    "scrolled": false
   },
   "outputs": [
    {
     "data": {
      "image/png": "[encoded data removed]",
      "text/plain": [
       "<Figure size 432x288 with 1 Axes>"
      ]
     },
     "metadata": {
      "needs_background": "light"
     },
     "output_type": "display_data"
    }
   ],
   "source": [
    "fig, ax = plt.subplots()\n",
    "\n",
    "bins = np.arange(-100, 100, 1)\n",
    "\n",
    "ax.hist(optusn[\"R3\"], bins, histtype=\"bar\", color=\"silver\",\n",
    "        edgecolor=\"lightgrey\", label=\"All\")\n",
    "ax.hist(optusn1[\"R3\"], bins, histtype=\"bar\",\n",
    "        fill=False, edgecolor=\"b\", label=\"Clean\")\n",
    "ax.legend()\n",
    "\n",
    "ax.set_xlabel(\"$R_3$ ($\\mu$as)\", fontsize=12)\n",
    "ax.set_ylabel(\"No. Source\", fontsize=12)\n",
    "\n",
    "ax.axis([10, 15, 0, 800])\n",
    "\n",
    "xloc = 10.2\n",
    "yloc = [700, 600, 500, 400]\n",
    "ax.text(xloc, yloc[0], \"Mean=$\\mathrm{%+2.0f\\,\\mu as}$\" % R3m_usn,\n",
    "        fontsize=12, color=\"silver\")\n",
    "ax.text(xloc, yloc[1], \" Std=$\\mathrm{%2.0f\\,\\mu as}$\" % R3s_usn,\n",
    "        fontsize=12, color=\"silver\")\n",
    "ax.text(xloc, yloc[2], \"Mean=$\\mathrm{%+2.0f\\,\\mu as}$\" % R3m_usn1,\n",
    "        fontsize=12, color=\"b\")\n",
    "ax.text(xloc, yloc[3], \" Std=$\\mathrm{%2.0f\\,\\mu as}$\" % R3s_usn1,\n",
    "        fontsize=12, color=\"b\")\n",
    "\n",
    "ax.set_title(\"usn2019c $-$ ICRF3 S/X\", fontsize=15)\n",
    "\n",
    "plt.tight_layout()\n",
    "# plt.savefig(\"../plots/usn-icrf3sx-R3.eps\")"
   ]
  },
  {
   "cell_type": "markdown",
   "metadata": {},
   "source": [
    "## h) opa2021a vs. ICRF3 SX"
   ]
  },
  {
   "cell_type": "markdown",
   "metadata": {},
   "source": [
    "## h.1 Orientation for defining sources"
   ]
  },
  {
   "cell_type": "code",
   "execution_count": 48,
   "metadata": {
    "ExecuteTime": {
     "end_time": "2021-05-12T04:13:23.450901Z",
     "start_time": "2021-05-12T04:13:23.323151Z"
    }
   },
   "outputs": [
    {
     "name": "stdout",
     "output_type": "stream",
     "text": [
      "Between opa2021a and ICRF3 SX (without outlier elimination)\n",
      "Estimates (  4490 sources)\n",
      "----------------------------------------------\n",
      "               Rotation [uas]                 \n",
      "       x             y             z          \n",
      "----------------------------------------------\n",
      "   +30 +/-  10   -40 +/-   9    -5 +/-   7\n",
      "----------------------------------------------\n",
      "\n",
      "Between opa2021a and ICRF3 SX (with outlier elimination)\n",
      "For a sample of 4490 sources, the number of the outlier is smaller than 1 when X >= 4.10.\n",
      "After elimination, there are 4465 sources in the clean sample.\n",
      "The outlier rate is 0.56%.\n",
      "\n",
      "Estimates (  4465 sources)\n",
      "----------------------------------------------\n",
      "               Rotation [uas]                 \n",
      "       x             y             z          \n",
      "----------------------------------------------\n",
      "   +34 +/-   2   -50 +/-   2    -8 +/-   1\n",
      "----------------------------------------------\n",
      "\n",
      "Between opa2021a and ICRF3 SX (Only ICRF3 defining sources)\n",
      "Estimates (   303 sources)\n",
      "----------------------------------------------\n",
      "               Rotation [uas]                 \n",
      "       x             y             z          \n",
      "----------------------------------------------\n",
      "   +36 +/-   4   -52 +/-   4   -10 +/-   3\n",
      "----------------------------------------------\n",
      "\n"
     ]
    }
   ],
   "source": [
    "print(\"Between opa2021a and ICRF3 SX (without outlier elimination)\")\n",
    "_ = vsh_fit_for_pos(oft_opa_sx1, print_log=True)\n",
    "\n",
    "print(\"Between opa2021a and ICRF3 SX (with outlier elimination)\")\n",
    "oft_opa_sx_cln1 = sample_clean(oft_opa_sx1, rho0=10, print_log=True)\n",
    "_ = vsh_fit_for_pos(oft_opa_sx_cln1, print_log=True)\n",
    "\n",
    "print(\"Between opa2021a and ICRF3 SX (Only ICRF3 defining sources)\")\n",
    "_ = vsh_fit_for_pos(oft_opa_sx_def1, print_log=True)"
   ]
  },
  {
   "cell_type": "markdown",
   "metadata": {},
   "source": [
    "## d.2 Bootstrap sampling"
   ]
  },
  {
   "cell_type": "code",
   "execution_count": 49,
   "metadata": {
    "ExecuteTime": {
     "end_time": "2021-05-12T04:13:23.582713Z",
     "start_time": "2021-05-12T04:13:23.453425Z"
    }
   },
   "outputs": [],
   "source": [
    "optopa_1 = Table.read(\"../logs/opa2021a_icrf3sx_orient.fits\")\n",
    "optopa1_1 = Table.read(\"../logs/opa2021a_icrf3sx_orient_cln.fits\")"
   ]
  },
  {
   "cell_type": "code",
   "execution_count": 50,
   "metadata": {
    "ExecuteTime": {
     "end_time": "2021-05-12T04:13:23.605077Z",
     "start_time": "2021-05-12T04:13:23.584680Z"
    }
   },
   "outputs": [],
   "source": [
    "# Mean and Std\n",
    "# All\n",
    "R1m_opa_1, R1s_opa_1 = calc_mean_std(optopa_1[\"R1\"])\n",
    "R2m_opa_1, R2s_opa_1 = calc_mean_std(optopa_1[\"R2\"])\n",
    "R3m_opa_1, R3s_opa_1 = calc_mean_std(optopa_1[\"R3\"])\n",
    "\n",
    "# Clean\n",
    "R1m_opa1_1, R1s_opa1_1 = calc_mean_std(optopa1_1[\"R1\"])\n",
    "R2m_opa1_1, R2s_opa1_1 = calc_mean_std(optopa1_1[\"R2\"])\n",
    "R3m_opa1_1, R3s_opa1_1 = calc_mean_std(optopa1_1[\"R3\"])"
   ]
  },
  {
   "cell_type": "code",
   "execution_count": 77,
   "metadata": {
    "ExecuteTime": {
     "end_time": "2021-05-12T04:17:06.860253Z",
     "start_time": "2021-05-12T04:17:05.891840Z"
    }
   },
   "outputs": [
    {
     "data": {
      "image/png": "[encoded data removed]",
      "text/plain": [
       "<Figure size 432x288 with 1 Axes>"
      ]
     },
     "metadata": {
      "needs_background": "light"
     },
     "output_type": "display_data"
    }
   ],
   "source": [
    "fig, ax = plt.subplots()\n",
    "\n",
    "bins = np.arange(-100, 100, 1)\n",
    "\n",
    "ax.hist(optopa_1[\"R1\"], bins, histtype=\"bar\", color=\"silver\",\n",
    "        edgecolor=\"lightgrey\", label=\"All\")\n",
    "ax.hist(optopa1_1[\"R1\"], bins, histtype=\"bar\",\n",
    "        fill=False, edgecolor=\"b\", label=\"Clean\")\n",
    "ax.legend()\n",
    "\n",
    "ax.set_xlabel(\"$R_1$ ($\\mu$as)\", fontsize=12)\n",
    "ax.set_ylabel(\"No. Source\", fontsize=12)\n",
    "\n",
    "ax.axis([15, 45, 0, 500])\n",
    "\n",
    "xloc = 19\n",
    "yloc = [450, 400, 350, 300]\n",
    "ax.text(xloc, yloc[0], \"Mean=$\\mathrm{%+2.0f\\,\\mu as}$\" % R1m_opa,\n",
    "        fontsize=12, color=\"silver\")\n",
    "ax.text(xloc, yloc[1], \" Std=$\\mathrm{%2.0f\\,\\mu as}$\" % R1s_opa,\n",
    "        fontsize=12, color=\"silver\")\n",
    "ax.text(xloc, yloc[2], \"Mean=$\\mathrm{%+2.0f\\,\\mu as}$\" % R1m_opa1,\n",
    "        fontsize=12, color=\"b\")\n",
    "ax.text(xloc, yloc[3], \" Std=$\\mathrm{%2.0f\\,\\mu as}$\" % R1s_opa1,\n",
    "        fontsize=12, color=\"b\")\n",
    "\n",
    "ax.set_title(\"opa2021a $-$ ICRF3 S/X\", fontsize=15)\n",
    "\n",
    "plt.tight_layout()\n",
    "# plt.savefig(\"../plots/opa-icrf3sx-R1.eps\")"
   ]
  },
  {
   "cell_type": "code",
   "execution_count": 74,
   "metadata": {
    "ExecuteTime": {
     "end_time": "2021-05-12T04:16:43.860560Z",
     "start_time": "2021-05-12T04:16:42.929455Z"
    }
   },
   "outputs": [
    {
     "data": {
      "image/png": "[encoded data removed]",
      "text/plain": [
       "<Figure size 432x288 with 1 Axes>"
      ]
     },
     "metadata": {
      "needs_background": "light"
     },
     "output_type": "display_data"
    }
   ],
   "source": [
    "fig, ax = plt.subplots()\n",
    "\n",
    "bins = np.arange(-120, 120, 1)\n",
    "\n",
    "ax.hist(optopa_1[\"R2\"], bins, histtype=\"bar\", color=\"silver\", \n",
    "        edgecolor=\"lightgrey\", label=\"All\")\n",
    "ax.hist(optopa1_1[\"R2\"], bins, histtype=\"bar\",\n",
    "        fill=False, edgecolor=\"b\", label=\"Clean\")\n",
    "ax.legend(loc=\"upper left\")\n",
    "\n",
    "ax.set_xlabel(\"$R_2$ ($\\mu$as)\", fontsize=12)\n",
    "ax.set_ylabel(\"No. Source\", fontsize=12)\n",
    "\n",
    "ax.axis([-60, -20, 0, 550])\n",
    "\n",
    "xloc = -42\n",
    "yloc = [500, 450, 400, 350]\n",
    "ax.text(xloc, yloc[0], \"Mean=$\\mathrm{%+2.0f\\,\\mu as}$\" % R2m_opa,\n",
    "       fontsize=12, color=\"silver\")\n",
    "ax.text(xloc, yloc[1], \" Std=$\\mathrm{%2.0f\\,\\mu as}$\" % R2s_opa,\n",
    "       fontsize=12, color=\"silver\")\n",
    "ax.text(xloc, yloc[2], \"Mean=$\\mathrm{%+2.0f\\,\\mu as}$\" % R2m_opa1,\n",
    "       fontsize=12, color=\"b\")\n",
    "ax.text(xloc, yloc[3], \" Std=$\\mathrm{%2.0f\\,\\mu as}$\" % R2s_opa1,\n",
    "       fontsize=12, color=\"b\")\n",
    "\n",
    "ax.set_title(\"opa2021a $-$ ICRF3 S/X\", fontsize=15)\n",
    "\n",
    "plt.tight_layout()\n",
    "# plt.savefig(\"../plots/opa-icrf3sx-R2.eps\")"
   ]
  },
  {
   "cell_type": "code",
   "execution_count": 80,
   "metadata": {
    "ExecuteTime": {
     "end_time": "2021-05-12T04:17:21.715945Z",
     "start_time": "2021-05-12T04:17:20.798231Z"
    }
   },
   "outputs": [
    {
     "data": {
      "image/png": "[encoded data removed]",
      "text/plain": [
       "<Figure size 432x288 with 1 Axes>"
      ]
     },
     "metadata": {
      "needs_background": "light"
     },
     "output_type": "display_data"
    }
   ],
   "source": [
    "fig, ax = plt.subplots()\n",
    "\n",
    "bins = np.arange(-100, 100, 1)\n",
    "\n",
    "ax.hist(optopa_1[\"R3\"], bins, histtype=\"bar\", color=\"silver\",\n",
    "        edgecolor=\"lightgrey\", label=\"All\")\n",
    "ax.hist(optopa1_1[\"R3\"], bins, histtype=\"bar\",\n",
    "        fill=False, edgecolor=\"b\", label=\"Clean\")\n",
    "ax.legend()\n",
    "\n",
    "ax.set_xlabel(\"$R_3$ ($\\mu$as)\", fontsize=12)\n",
    "ax.set_ylabel(\"No. Source\", fontsize=12)\n",
    "\n",
    "ax.axis([-20, 5, 0, 750])\n",
    "\n",
    "xloc = -4.5\n",
    "yloc = np.array([700, 600, 500, 400])-50\n",
    "ax.text(xloc, yloc[0], \"Mean=$\\mathrm{%+2.0f\\,\\mu as}$\" % R3m_opa,\n",
    "        fontsize=12, color=\"silver\")\n",
    "ax.text(xloc, yloc[1], \" Std=$\\mathrm{%2.0f\\,\\mu as}$\" % R3s_opa,\n",
    "        fontsize=12, color=\"silver\")\n",
    "ax.text(xloc, yloc[2], \"Mean=$\\mathrm{%+2.0f\\,\\mu as}$\" % R3m_opa1,\n",
    "        fontsize=12, color=\"b\")\n",
    "ax.text(xloc, yloc[3], \" Std=$\\mathrm{%2.0f\\,\\mu as}$\" % R3s_opa1,\n",
    "        fontsize=12, color=\"b\")\n",
    "\n",
    "ax.set_title(\"opa2021a $-$ ICRF3 S/X\", fontsize=15)\n",
    "\n",
    "plt.tight_layout()\n",
    "# plt.savefig(\"../plots/opa-icrf3sx-R3.eps\")"
   ]
  },
  {
   "cell_type": "markdown",
   "metadata": {},
   "source": [
    "# With referred to the Gaia EDR3"
   ]
  },
  {
   "cell_type": "markdown",
   "metadata": {},
   "source": [
    "# ICRF3 K versus Gaia EDR3\n",
    "\n",
    "## h.2 Bootstrap sampling"
   ]
  },
  {
   "cell_type": "code",
   "execution_count": 54,
   "metadata": {
    "ExecuteTime": {
     "end_time": "2021-05-12T04:13:26.601644Z",
     "start_time": "2021-05-12T04:13:26.569597Z"
    }
   },
   "outputs": [],
   "source": [
    "optk2g = Table.read(\"../logs/icrf3k_gedr3_orient_norep.fits\")\n",
    "optk2g1 = Table.read(\"../logs/icrf3k_gedr3_orient_cln_norep.fits\")"
   ]
  },
  {
   "cell_type": "code",
   "execution_count": 55,
   "metadata": {
    "ExecuteTime": {
     "end_time": "2021-05-12T04:13:26.619225Z",
     "start_time": "2021-05-12T04:13:26.604284Z"
    }
   },
   "outputs": [],
   "source": [
    "# Mean and Std\n",
    "# All\n",
    "R1m_k2g, R1s_k2g = calc_mean_std(optk2g[\"R1\"])\n",
    "R2m_k2g, R2s_k2g = calc_mean_std(optk2g[\"R2\"])\n",
    "R3m_k2g, R3s_k2g = calc_mean_std(optk2g[\"R3\"])\n",
    "\n",
    "# Clean\n",
    "R1m_k2g1, R1s_k2g1 = calc_mean_std(optk2g1[\"R1\"])\n",
    "R2m_k2g1, R2s_k2g1 = calc_mean_std(optk2g1[\"R2\"])\n",
    "R3m_k2g1, R3s_k2g1 = calc_mean_std(optk2g1[\"R3\"])"
   ]
  },
  {
   "cell_type": "code",
   "execution_count": 56,
   "metadata": {
    "ExecuteTime": {
     "end_time": "2021-05-12T04:13:27.630401Z",
     "start_time": "2021-05-12T04:13:26.620862Z"
    }
   },
   "outputs": [
    {
     "data": {
      "image/png": "[encoded data removed]",
      "text/plain": [
       "<Figure size 432x288 with 1 Axes>"
      ]
     },
     "metadata": {
      "needs_background": "light"
     },
     "output_type": "display_data"
    }
   ],
   "source": [
    "fig, ax = plt.subplots()\n",
    "\n",
    "bins = np.arange(-500, 500, 5)\n",
    "\n",
    "ax.hist(optk2g[\"R1\"], bins, histtype=\"bar\", color=\"silver\",\n",
    "        edgecolor=\"lightgrey\", label=\"All\")\n",
    "ax.hist(optk2g1[\"R1\"], bins, histtype=\"bar\",\n",
    "        fill=False, edgecolor=\"b\", label=\"Clean\")\n",
    "ax.legend()\n",
    "\n",
    "ax.set_xlabel(\"$R_1$ ($\\mu$as)\", fontsize=12)\n",
    "ax.set_ylabel(\"No. Source\", fontsize=12)\n",
    "\n",
    "ax.axis([-200, 100, 0, 200])\n",
    "\n",
    "xloc = -190\n",
    "yloc = [175, 150, 125, 100]\n",
    "ax.text(xloc, yloc[0], \"Mean=$\\mathrm{%+2.0f\\,\\mu as}$\" % R1m_k2g,\n",
    "        fontsize=12, color=\"silver\")\n",
    "ax.text(xloc, yloc[1], \" Std=$\\mathrm{%2.0f\\,\\mu as}$\" % R1s_k2g,\n",
    "        fontsize=12, color=\"silver\")\n",
    "ax.text(xloc, yloc[2], \"Mean=$\\mathrm{%+2.0f\\,\\mu as}$\" % R1m_k2g1,\n",
    "        fontsize=12, color=\"b\")\n",
    "ax.text(xloc, yloc[3], \" Std=$\\mathrm{%2.0f\\,\\mu as}$\" % R1s_k2g1,\n",
    "        fontsize=12, color=\"b\")\n",
    "\n",
    "ax.set_title(\"ICRF3 K $-$ Gaia EDR3\", fontsize=15)\n",
    "\n",
    "plt.tight_layout()"
   ]
  },
  {
   "cell_type": "code",
   "execution_count": 57,
   "metadata": {
    "ExecuteTime": {
     "end_time": "2021-05-12T04:13:28.335480Z",
     "start_time": "2021-05-12T04:13:27.632357Z"
    }
   },
   "outputs": [
    {
     "data": {
      "image/png": "[encoded data removed]",
      "text/plain": [
       "<Figure size 432x288 with 1 Axes>"
      ]
     },
     "metadata": {
      "needs_background": "light"
     },
     "output_type": "display_data"
    }
   ],
   "source": [
    "fig, ax = plt.subplots()\n",
    "\n",
    "bins = np.arange(-200, 200, 5)\n",
    "\n",
    "ax.hist(optk2g[\"R2\"], bins, histtype=\"bar\", color=\"silver\",\n",
    "        edgecolor=\"lightgrey\", label=\"All\")\n",
    "ax.hist(optk2g1[\"R2\"], bins, histtype=\"bar\",\n",
    "        fill=False, edgecolor=\"b\", label=\"Clean\")\n",
    "ax.legend()\n",
    "\n",
    "ax.set_xlabel(\"$R_2$ ($\\mu$as)\", fontsize=12)\n",
    "ax.set_ylabel(\"No. Source\", fontsize=12)\n",
    "\n",
    "ax.axis([-150, 150, 0, 180])\n",
    "\n",
    "xloc = -140\n",
    "yloc = [160, 140, 120, 100]\n",
    "ax.text(xloc, yloc[0], \"Mean=$\\mathrm{%+2.0f\\,\\mu as}$\" % R2m_k2g,\n",
    "        fontsize=12, color=\"silver\")\n",
    "ax.text(xloc, yloc[1], \" Std=$\\mathrm{%2.0f\\,\\mu as}$\" % R2s_k2g,\n",
    "        fontsize=12, color=\"silver\")\n",
    "ax.text(xloc, yloc[2], \"Mean=$\\mathrm{%+2.0f\\,\\mu as}$\" % R2m_k2g1,\n",
    "        fontsize=12, color=\"b\")\n",
    "ax.text(xloc, yloc[3], \" Std=$\\mathrm{%2.0f\\,\\mu as}$\" % R2s_k2g1,\n",
    "        fontsize=12, color=\"b\")\n",
    "\n",
    "ax.set_title(\"ICRF3 K $-$ Gaia EDR3\", fontsize=15)\n",
    "\n",
    "plt.tight_layout()"
   ]
  },
  {
   "cell_type": "code",
   "execution_count": 58,
   "metadata": {
    "ExecuteTime": {
     "end_time": "2021-05-12T04:13:28.934887Z",
     "start_time": "2021-05-12T04:13:28.337751Z"
    },
    "scrolled": true
   },
   "outputs": [
    {
     "data": {
      "image/png": "[encoded data removed]",
      "text/plain": [
       "<Figure size 432x288 with 1 Axes>"
      ]
     },
     "metadata": {
      "needs_background": "light"
     },
     "output_type": "display_data"
    }
   ],
   "source": [
    "fig, ax = plt.subplots()\n",
    "\n",
    "bins = np.arange(-200, 200, 5)\n",
    "\n",
    "ax.hist(optk2g[\"R3\"], bins, histtype=\"bar\", color=\"silver\",\n",
    "        edgecolor=\"lightgrey\", label=\"All\")\n",
    "ax.hist(optk2g1[\"R3\"], bins, histtype=\"bar\",\n",
    "        fill=False, edgecolor=\"b\", label=\"Clean\")\n",
    "ax.legend()\n",
    "\n",
    "ax.set_xlabel(\"$R_3$ ($\\mu$as)\", fontsize=12)\n",
    "ax.set_ylabel(\"No. Source\", fontsize=12)\n",
    "\n",
    "ax.axis([-150, 150, 0, 160])\n",
    "\n",
    "xloc = -140\n",
    "yloc = [110, 100, 90, 80]\n",
    "ax.text(xloc, yloc[0], \"Mean=$\\mathrm{%+2.0f\\,\\mu as}$\" % R3m_k2g,\n",
    "        fontsize=12, color=\"silver\")\n",
    "ax.text(xloc, yloc[1], \" Std=$\\mathrm{%2.0f\\,\\mu as}$\" % R3s_k2g,\n",
    "        fontsize=12, color=\"silver\")\n",
    "ax.text(xloc, yloc[2], \"Mean=$\\mathrm{%+2.0f\\,\\mu as}$\" % R3m_k2g1,\n",
    "        fontsize=12, color=\"b\")\n",
    "ax.text(xloc, yloc[3], \" Std=$\\mathrm{%2.0f\\,\\mu as}$\" % R3s_k2g1,\n",
    "        fontsize=12, color=\"b\")\n",
    "\n",
    "ax.set_title(\"ICRF3 K $-$ Gaia EDR3\", fontsize=15)\n",
    "\n",
    "plt.tight_layout()\n"
   ]
  },
  {
   "cell_type": "markdown",
   "metadata": {},
   "source": [
    "# ICRF3 X/Ka versus Gaia EDR3\n",
    "\n",
    "## i.2 Bootstrap sampling"
   ]
  },
  {
   "cell_type": "code",
   "execution_count": 59,
   "metadata": {
    "ExecuteTime": {
     "end_time": "2021-05-12T04:13:28.974601Z",
     "start_time": "2021-05-12T04:13:28.937129Z"
    }
   },
   "outputs": [],
   "source": [
    "optkag = Table.read(\"../logs/icrf3xka_gedr3_orient_norep.fits\")\n",
    "optkag1 = Table.read(\"../logs/icrf3xka_gedr3_orient_cln_norep.fits\")"
   ]
  },
  {
   "cell_type": "code",
   "execution_count": 60,
   "metadata": {
    "ExecuteTime": {
     "end_time": "2021-05-12T04:13:28.997068Z",
     "start_time": "2021-05-12T04:13:28.976713Z"
    }
   },
   "outputs": [],
   "source": [
    "# Mean and Std\n",
    "# All\n",
    "R1m_kag, R1s_kag = calc_mean_std(optkag[\"R1\"])\n",
    "R2m_kag, R2s_kag = calc_mean_std(optkag[\"R2\"])\n",
    "R3m_kag, R3s_kag = calc_mean_std(optkag[\"R3\"])\n",
    "\n",
    "# Clean\n",
    "R1m_kag1, R1s_kag1 = calc_mean_std(optkag1[\"R1\"])\n",
    "R2m_kag1, R2s_kag1 = calc_mean_std(optkag1[\"R2\"])\n",
    "R3m_kag1, R3s_kag1 = calc_mean_std(optkag1[\"R3\"])"
   ]
  },
  {
   "cell_type": "code",
   "execution_count": 61,
   "metadata": {
    "ExecuteTime": {
     "end_time": "2021-05-12T04:13:29.638988Z",
     "start_time": "2021-05-12T04:13:28.999190Z"
    }
   },
   "outputs": [
    {
     "data": {
      "image/png": "[encoded data removed]",
      "text/plain": [
       "<Figure size 432x288 with 1 Axes>"
      ]
     },
     "metadata": {
      "needs_background": "light"
     },
     "output_type": "display_data"
    }
   ],
   "source": [
    "fig, ax = plt.subplots()\n",
    "\n",
    "bins = np.arange(-200, 200, 5)\n",
    "\n",
    "ax.hist(optkag[\"R1\"], bins, histtype=\"bar\", color=\"silver\",\n",
    "        edgecolor=\"lightgrey\", label=\"All\")\n",
    "ax.hist(optkag1[\"R1\"], bins, histtype=\"bar\",\n",
    "        fill=False, edgecolor=\"b\", label=\"Clean\")\n",
    "ax.legend()\n",
    "\n",
    "ax.set_xlabel(\"$R_1$ ($\\mu$as)\", fontsize=12)\n",
    "ax.set_ylabel(\"No. Source\", fontsize=12)\n",
    "\n",
    "ax.axis([-150, 150, 0, 120])\n",
    "\n",
    "xloc = -140\n",
    "yloc = [110, 100, 90, 80]\n",
    "ax.text(xloc, yloc[0], \"Mean=$\\mathrm{%+2.0f\\,\\mu as}$\" % R1m_kag,\n",
    "        fontsize=12, color=\"silver\")\n",
    "ax.text(xloc, yloc[1], \" Std=$\\mathrm{%2.0f\\,\\mu as}$\" % R1s_kag,\n",
    "        fontsize=12, color=\"silver\")\n",
    "ax.text(xloc, yloc[2], \"Mean=$\\mathrm{%+2.0f\\,\\mu as}$\" % R1m_kag1,\n",
    "        fontsize=12, color=\"b\")\n",
    "ax.text(xloc, yloc[3], \" Std=$\\mathrm{%2.0f\\,\\mu as}$\" % R1s_kag1,\n",
    "        fontsize=12, color=\"b\")\n",
    "\n",
    "ax.set_title(\"ICRF3 X/Ka $-$ Gaia EDR3\", fontsize=15)\n",
    "\n",
    "plt.tight_layout()\n"
   ]
  },
  {
   "cell_type": "code",
   "execution_count": 62,
   "metadata": {
    "ExecuteTime": {
     "end_time": "2021-05-12T04:13:30.244836Z",
     "start_time": "2021-05-12T04:13:29.642297Z"
    }
   },
   "outputs": [
    {
     "data": {
      "image/png": "[encoded data removed]",
      "text/plain": [
       "<Figure size 432x288 with 1 Axes>"
      ]
     },
     "metadata": {
      "needs_background": "light"
     },
     "output_type": "display_data"
    }
   ],
   "source": [
    "fig, ax = plt.subplots()\n",
    "\n",
    "bins = np.arange(-200, 200, 5)\n",
    "\n",
    "ax.hist(optkag[\"R2\"], bins, histtype=\"bar\", color=\"silver\",\n",
    "        edgecolor=\"lightgrey\", label=\"All\")\n",
    "ax.hist(optkag1[\"R2\"], bins, histtype=\"bar\",\n",
    "        fill=False, edgecolor=\"b\", label=\"Clean\")\n",
    "ax.legend()\n",
    "\n",
    "ax.set_xlabel(\"$R_2$ ($\\mu$as)\", fontsize=12)\n",
    "ax.set_ylabel(\"No. Source\", fontsize=12)\n",
    "\n",
    "ax.axis([-150, 150, 0, 140])\n",
    "\n",
    "xloc = -140\n",
    "yloc = [110, 100, 90, 80]\n",
    "ax.text(xloc, yloc[0], \"Mean=$\\mathrm{%+2.0f\\,\\mu as}$\" % R2m_kag,\n",
    "        fontsize=12, color=\"silver\")\n",
    "ax.text(xloc, yloc[1], \" Std=$\\mathrm{%2.0f\\,\\mu as}$\" % R2s_kag,\n",
    "        fontsize=12, color=\"silver\")\n",
    "ax.text(xloc, yloc[2], \"Mean=$\\mathrm{%+2.0f\\,\\mu as}$\" % R2m_kag1,\n",
    "        fontsize=12, color=\"b\")\n",
    "ax.text(xloc, yloc[3], \" Std=$\\mathrm{%2.0f\\,\\mu as}$\" % R2s_kag1,\n",
    "        fontsize=12, color=\"b\")\n",
    "\n",
    "ax.set_title(\"ICRF3 X/Ka $-$ Gaia EDR3\", fontsize=15)\n",
    "\n",
    "plt.tight_layout()"
   ]
  },
  {
   "cell_type": "code",
   "execution_count": 63,
   "metadata": {
    "ExecuteTime": {
     "end_time": "2021-05-12T04:13:30.938958Z",
     "start_time": "2021-05-12T04:13:30.247573Z"
    },
    "scrolled": true
   },
   "outputs": [
    {
     "data": {
      "image/png": "[encoded data removed]",
      "text/plain": [
       "<Figure size 432x288 with 1 Axes>"
      ]
     },
     "metadata": {
      "needs_background": "light"
     },
     "output_type": "display_data"
    }
   ],
   "source": [
    "fig, ax = plt.subplots()\n",
    "\n",
    "bins = np.arange(-200, 200, 5)\n",
    "\n",
    "ax.hist(optkag[\"R3\"], bins, histtype=\"bar\", color=\"silver\",\n",
    "        edgecolor=\"lightgrey\", label=\"All\")\n",
    "ax.hist(optkag1[\"R3\"], bins, histtype=\"bar\",\n",
    "        fill=False, edgecolor=\"b\", label=\"Clean\")\n",
    "ax.legend()\n",
    "\n",
    "ax.set_xlabel(\"$R_3$ ($\\mu$as)\", fontsize=12)\n",
    "ax.set_ylabel(\"No. Source\", fontsize=12)\n",
    "\n",
    "ax.axis([-150, 150, 0, 140])\n",
    "\n",
    "xloc = -140\n",
    "yloc = [110, 100, 90, 80]\n",
    "ax.text(xloc, yloc[0], \"Mean=$\\mathrm{%+2.0f\\,\\mu as}$\" % R3m_kag,\n",
    "        fontsize=12, color=\"silver\")\n",
    "ax.text(xloc, yloc[1], \" Std=$\\mathrm{%2.0f\\,\\mu as}$\" % R3s_kag,\n",
    "        fontsize=12, color=\"silver\")\n",
    "ax.text(xloc, yloc[2], \"Mean=$\\mathrm{%+2.0f\\,\\mu as}$\" % R3m_kag1,\n",
    "        fontsize=12, color=\"b\")\n",
    "ax.text(xloc, yloc[3], \" Std=$\\mathrm{%2.0f\\,\\mu as}$\" % R3s_kag1,\n",
    "        fontsize=12, color=\"b\")\n",
    "\n",
    "ax.set_title(\"ICRF3 X/Ka $-$ Gaia EDR3\", fontsize=15)\n",
    "\n",
    "plt.tight_layout()"
   ]
  },
  {
   "cell_type": "markdown",
   "metadata": {},
   "source": [
    "# Statistic results"
   ]
  },
  {
   "cell_type": "code",
   "execution_count": 64,
   "metadata": {
    "ExecuteTime": {
     "end_time": "2021-05-12T04:13:30.945416Z",
     "start_time": "2021-05-12T04:13:30.941500Z"
    }
   },
   "outputs": [],
   "source": [
    "cat = [\"ICRF2\", \"ICRF3 K\", \"ICRF3 X/Ka\", \"opa2019a\", \"opa2021a\", \"asi2020a\", \"aus2020b\", \"usn2019c\"]\n",
    "\n",
    "N_com = [3410, 793, 638, 4380, 4490, 4296, 4456, 2263]\n",
    "N_pick = [2300, 550, 450, 3000, 3000, 3000, 3000, 1500]"
   ]
  },
  {
   "cell_type": "markdown",
   "metadata": {},
   "source": [
    "## a) use all sources without replacement"
   ]
  },
  {
   "cell_type": "code",
   "execution_count": 65,
   "metadata": {
    "ExecuteTime": {
     "end_time": "2021-05-12T04:13:30.964821Z",
     "start_time": "2021-05-12T04:13:30.948450Z"
    }
   },
   "outputs": [],
   "source": [
    "data = np.vstack([\n",
    "    # ICRF2\n",
    "    [\n",
    "        R1m_2, R1s_2,\n",
    "       R1m_2, R1s_2,\n",
    "        R1m_2, R1s_2,\n",
    "    ],\n",
    "    # ICRF3 K\n",
    "    [\n",
    "        np.mean(optk[\"R1\"]),\n",
    "        np.std(optk[\"R1\"]),\n",
    "        np.mean(optk[\"R2\"]),\n",
    "        np.std(optk[\"R2\"]),\n",
    "        np.mean(optk[\"R3\"]),\n",
    "        np.std(optk[\"R3\"])\n",
    "    ],\n",
    "    # ICRF3 X/Ka\n",
    "    [\n",
    "        np.mean(optka[\"R1\"]),\n",
    "        np.std(optka[\"R1\"]),\n",
    "        np.mean(optka[\"R2\"]),\n",
    "        np.std(optka[\"R2\"]),\n",
    "        np.mean(optka[\"R3\"]),\n",
    "        np.std(optka[\"R3\"])\n",
    "    ],\n",
    "    # opa2019a\n",
    "    [\n",
    "        np.mean(optopa[\"R1\"]),\n",
    "        np.std(optopa[\"R1\"]),\n",
    "        np.mean(optopa[\"R2\"]),\n",
    "        np.std(optopa[\"R2\"]),\n",
    "        np.mean(optopa[\"R3\"]),\n",
    "        np.std(optopa[\"R3\"])\n",
    "    ],\n",
    "    # opa2021a\n",
    "    [\n",
    "        np.mean(optopa_1[\"R1\"]),\n",
    "        np.std(optopa_1[\"R1\"]),\n",
    "        np.mean(optopa_1[\"R2\"]),\n",
    "        np.std(optopa_1[\"R2\"]),\n",
    "        np.mean(optopa_1[\"R3\"]),\n",
    "        np.std(optopa_1[\"R3\"])\n",
    "    ],\n",
    "    # asi2020a\n",
    "    [\n",
    "        np.mean(optasi[\"R1\"]),\n",
    "        np.std(optasi[\"R1\"]),\n",
    "        np.mean(optasi[\"R2\"]),\n",
    "        np.std(optasi[\"R2\"]),\n",
    "        np.mean(optasi[\"R3\"]),\n",
    "        np.std(optasi[\"R3\"])\n",
    "    ],\n",
    "    # aus2020b\n",
    "    [\n",
    "        np.mean(optaus[\"R1\"]),\n",
    "        np.std(optaus[\"R1\"]),\n",
    "        np.mean(optaus[\"R2\"]),\n",
    "        np.std(optaus[\"R2\"]),\n",
    "        np.mean(optaus[\"R3\"]),\n",
    "        np.std(optaus[\"R3\"])\n",
    "    ],\n",
    "    # usn2019c\n",
    "    [\n",
    "        np.mean(optusn[\"R1\"]),\n",
    "        np.std(optusn[\"R1\"]),\n",
    "        np.mean(optusn[\"R2\"]),\n",
    "        np.std(optusn[\"R2\"]),\n",
    "        np.mean(optusn[\"R3\"]),\n",
    "        np.std(optusn[\"R3\"])\n",
    "    ],\n",
    "])\n",
    "\n",
    "data = data.T"
   ]
  },
  {
   "cell_type": "code",
   "execution_count": 66,
   "metadata": {
    "ExecuteTime": {
     "end_time": "2021-05-12T04:13:30.979916Z",
     "start_time": "2021-05-12T04:13:30.967500Z"
    }
   },
   "outputs": [
    {
     "data": {
      "text/html": [
       "<i>Table length=8</i>\n",
       "<table id=\"table140255123500176\" class=\"table-striped table-bordered table-condensed\">\n",
       "<thead><tr><th>catalog</th><th>num_com</th><th>num_pick</th><th>R1_m</th><th>R1_std</th><th>R2_m</th><th>R2_std</th><th>R3_m</th><th>R3_std</th></tr></thead>\n",
       "<thead><tr><th>str10</th><th>int64</th><th>int64</th><th>float64</th><th>float64</th><th>float64</th><th>float64</th><th>float64</th><th>float64</th></tr></thead>\n",
       "<tr><td>ICRF2</td><td>3410</td><td>2300</td><td>$  +8$</td><td>4</td><td>$  +8$</td><td>4</td><td>$  +8$</td><td>4</td></tr>\n",
       "<tr><td>ICRF3 K</td><td>793</td><td>550</td><td>$ -22$</td><td>13</td><td>$ -33$</td><td>8</td><td>$  +1$</td><td>5</td></tr>\n",
       "<tr><td>ICRF3 X/Ka</td><td>638</td><td>450</td><td>$  -6$</td><td>9</td><td>$  -6$</td><td>9</td><td>$ +67$</td><td>8</td></tr>\n",
       "<tr><td>opa2019a</td><td>4380</td><td>3000</td><td>$ +24$</td><td>2</td><td>$ -45$</td><td>4</td><td>$  +0$</td><td>1</td></tr>\n",
       "<tr><td>opa2021a</td><td>4490</td><td>3000</td><td>$ +30$</td><td>4</td><td>$ -39$</td><td>7</td><td>$  -5$</td><td>4</td></tr>\n",
       "<tr><td>asi2020a</td><td>4296</td><td>3000</td><td>$  -8$</td><td>4</td><td>$ +15$</td><td>6</td><td>$  +5$</td><td>1</td></tr>\n",
       "<tr><td>aus2020b</td><td>4456</td><td>3000</td><td>$ -16$</td><td>7</td><td>$  +5$</td><td>4</td><td>$  -7$</td><td>4</td></tr>\n",
       "<tr><td>usn2019c</td><td>2263</td><td>1500</td><td>$  +3$</td><td>1</td><td>$  -0$</td><td>1</td><td>$ +13$</td><td>1</td></tr>\n",
       "</table>"
      ],
      "text/plain": [
       "<Table length=8>\n",
       " catalog   num_com num_pick   R1_m   R1_std   R2_m   R2_std   R3_m   R3_std\n",
       "  str10     int64   int64   float64 float64 float64 float64 float64 float64\n",
       "---------- ------- -------- ------- ------- ------- ------- ------- -------\n",
       "     ICRF2    3410     2300  $  +8$       4  $  +8$       4  $  +8$       4\n",
       "   ICRF3 K     793      550  $ -22$      13  $ -33$       8  $  +1$       5\n",
       "ICRF3 X/Ka     638      450  $  -6$       9  $  -6$       9  $ +67$       8\n",
       "  opa2019a    4380     3000  $ +24$       2  $ -45$       4  $  +0$       1\n",
       "  opa2021a    4490     3000  $ +30$       4  $ -39$       7  $  -5$       4\n",
       "  asi2020a    4296     3000  $  -8$       4  $ +15$       6  $  +5$       1\n",
       "  aus2020b    4456     3000  $ -16$       7  $  +5$       4  $  -7$       4\n",
       "  usn2019c    2263     1500  $  +3$       1  $  -0$       1  $ +13$       1"
      ]
     },
     "execution_count": 66,
     "metadata": {},
     "output_type": "execute_result"
    }
   ],
   "source": [
    "tab = Table([cat, N_com, N_pick, *data],\n",
    "            names=[\"catalog\", \"num_com\", \"num_pick\", \"R1_m\", \"R1_std\", \"R2_m\", \"R2_std\", \"R3_m\", \"R3_std\"])\n",
    "\n",
    "tab[\"catalog\"].format = \"%8s\"\n",
    "\n",
    "tab[\"R1_m\"].format = \"$%+4.0f$\"\n",
    "tab[\"R2_m\"].format = \"$%+4.0f$\"\n",
    "tab[\"R3_m\"].format = \"$%+4.0f$\"\n",
    "\n",
    "tab[\"R1_std\"].format = \"%3.0f\"\n",
    "tab[\"R2_std\"].format = \"%3.0f\"\n",
    "tab[\"R3_std\"].format = \"%3.0f\"\n",
    "\n",
    "tab"
   ]
  },
  {
   "cell_type": "code",
   "execution_count": 67,
   "metadata": {
    "ExecuteTime": {
     "end_time": "2021-05-12T04:13:30.984829Z",
     "start_time": "2021-05-12T04:13:30.981705Z"
    }
   },
   "outputs": [],
   "source": [
    "# tab[\"R1_std\"].format = \"$\\pm$%3.0f\"\n",
    "# tab[\"R2_std\"].format = \"$\\pm$%3.0f\"\n",
    "# tab[\"R3_std\"].format = \"$\\pm$%3.0f\"\n",
    "\n",
    "# tab.write(\"../logs/icrf-orient-sta.tex\", format=\"ascii.latex\", overwrite=True)"
   ]
  },
  {
   "cell_type": "markdown",
   "metadata": {},
   "source": [
    "## b) use clean samples without replacement"
   ]
  },
  {
   "cell_type": "code",
   "execution_count": 68,
   "metadata": {
    "ExecuteTime": {
     "end_time": "2021-05-12T04:13:31.004925Z",
     "start_time": "2021-05-12T04:13:30.986993Z"
    }
   },
   "outputs": [],
   "source": [
    "data1 = np.vstack([\n",
    "    # ICRF2\n",
    "    [\n",
    "        np.mean(opt21[\"R1\"]),\n",
    "        np.std(opt21[\"R1\"]),\n",
    "        np.mean(opt21[\"R2\"]),\n",
    "        np.std(opt21[\"R2\"]),\n",
    "        np.mean(opt21[\"R3\"]),\n",
    "        np.std(opt21[\"R3\"])\n",
    "    ],\n",
    "    # ICRF3 K\n",
    "    [\n",
    "        np.mean(optk1[\"R1\"]),\n",
    "        np.std(optk1[\"R1\"]),\n",
    "        np.mean(optk1[\"R2\"]),\n",
    "        np.std(optk1[\"R2\"]),\n",
    "        np.mean(optk1[\"R3\"]),\n",
    "        np.std(optk1[\"R3\"])\n",
    "    ],\n",
    "    # ICRF3 X/Ka\n",
    "    [\n",
    "        np.mean(optka1[\"R1\"]),\n",
    "        np.std(optka1[\"R1\"]),\n",
    "        np.mean(optka1[\"R2\"]),\n",
    "        np.std(optka1[\"R2\"]),\n",
    "        np.mean(optka1[\"R3\"]),\n",
    "        np.std(optka1[\"R3\"])\n",
    "    ],\n",
    "    # opa2019a\n",
    "    [\n",
    "        np.mean(optopa1[\"R1\"]),\n",
    "        np.std(optopa1[\"R1\"]),\n",
    "        np.mean(optopa1[\"R2\"]),\n",
    "        np.std(optopa1[\"R2\"]),\n",
    "        np.mean(optopa1[\"R3\"]),\n",
    "        np.std(optopa1[\"R3\"])\n",
    "    ],\n",
    "    # opa2021a\n",
    "    [\n",
    "        np.mean(optopa1_1[\"R1\"]),\n",
    "        np.std(optopa1_1[\"R1\"]),\n",
    "        np.mean(optopa1_1[\"R2\"]),\n",
    "        np.std(optopa1_1[\"R2\"]),\n",
    "        np.mean(optopa1_1[\"R3\"]),\n",
    "        np.std(optopa1_1[\"R3\"])\n",
    "    ],\n",
    "    # asi2020a\n",
    "    [\n",
    "        np.mean(optasi1[\"R1\"]),\n",
    "        np.std(optasi1[\"R1\"]),\n",
    "        np.mean(optasi1[\"R2\"]),\n",
    "        np.std(optasi1[\"R2\"]),\n",
    "        np.mean(optasi1[\"R3\"]),\n",
    "        np.std(optasi1[\"R3\"])\n",
    "    ],\n",
    "    # aus2020b\n",
    "    [\n",
    "        np.mean(optaus1[\"R1\"]),\n",
    "        np.std(optaus1[\"R1\"]),\n",
    "        np.mean(optaus1[\"R2\"]),\n",
    "        np.std(optaus1[\"R2\"]),\n",
    "        np.mean(optaus1[\"R3\"]),\n",
    "        np.std(optaus1[\"R3\"])\n",
    "    ],\n",
    "    # usn2019c\n",
    "    [\n",
    "        np.mean(optusn1[\"R1\"]),\n",
    "        np.std(optusn1[\"R1\"]),\n",
    "        np.mean(optusn1[\"R2\"]),\n",
    "        np.std(optusn1[\"R2\"]),\n",
    "        np.mean(optusn1[\"R3\"]),\n",
    "        np.std(optusn1[\"R3\"])\n",
    "    ],\n",
    "])\n",
    "\n",
    "data1 = data1.T"
   ]
  },
  {
   "cell_type": "code",
   "execution_count": 69,
   "metadata": {
    "ExecuteTime": {
     "end_time": "2021-05-12T04:13:31.023025Z",
     "start_time": "2021-05-12T04:13:31.007266Z"
    },
    "scrolled": true
   },
   "outputs": [
    {
     "data": {
      "text/html": [
       "<i>Table length=8</i>\n",
       "<table id=\"table140255408458640\" class=\"table-striped table-bordered table-condensed\">\n",
       "<thead><tr><th>catalog</th><th>num_com</th><th>num_pick</th><th>R1_m</th><th>R1_std</th><th>R2_m</th><th>R2_std</th><th>R3_m</th><th>R3_std</th></tr></thead>\n",
       "<thead><tr><th>str10</th><th>int64</th><th>int64</th><th>float64</th><th>float64</th><th>float64</th><th>float64</th><th>float64</th><th>float64</th></tr></thead>\n",
       "<tr><td>ICRF2</td><td>3410</td><td>2300</td><td>$  +9$</td><td>3</td><td>$ +14$</td><td>3</td><td>$  -2$</td><td>2</td></tr>\n",
       "<tr><td>ICRF3 K</td><td>793</td><td>550</td><td>$ -11$</td><td>5</td><td>$ -18$</td><td>5</td><td>$  -7$</td><td>3</td></tr>\n",
       "<tr><td>ICRF3 X/Ka</td><td>638</td><td>450</td><td>$ -17$</td><td>7</td><td>$  -3$</td><td>7</td><td>$ +49$</td><td>5</td></tr>\n",
       "<tr><td>opa2019a</td><td>4380</td><td>3000</td><td>$ +26$</td><td>1</td><td>$ -51$</td><td>2</td><td>$  -2$</td><td>1</td></tr>\n",
       "<tr><td>opa2021a</td><td>4490</td><td>3000</td><td>$ +34$</td><td>3</td><td>$ -50$</td><td>3</td><td>$  -8$</td><td>4</td></tr>\n",
       "<tr><td>asi2020a</td><td>4296</td><td>3000</td><td>$  -2$</td><td>2</td><td>$  +7$</td><td>2</td><td>$  +7$</td><td>1</td></tr>\n",
       "<tr><td>aus2020b</td><td>4456</td><td>3000</td><td>$ -15$</td><td>7</td><td>$  +4$</td><td>4</td><td>$  -7$</td><td>3</td></tr>\n",
       "<tr><td>usn2019c</td><td>2263</td><td>1500</td><td>$  +3$</td><td>1</td><td>$  -0$</td><td>1</td><td>$ +13$</td><td>1</td></tr>\n",
       "</table>"
      ],
      "text/plain": [
       "<Table length=8>\n",
       " catalog   num_com num_pick   R1_m   R1_std   R2_m   R2_std   R3_m   R3_std\n",
       "  str10     int64   int64   float64 float64 float64 float64 float64 float64\n",
       "---------- ------- -------- ------- ------- ------- ------- ------- -------\n",
       "     ICRF2    3410     2300  $  +9$       3  $ +14$       3  $  -2$       2\n",
       "   ICRF3 K     793      550  $ -11$       5  $ -18$       5  $  -7$       3\n",
       "ICRF3 X/Ka     638      450  $ -17$       7  $  -3$       7  $ +49$       5\n",
       "  opa2019a    4380     3000  $ +26$       1  $ -51$       2  $  -2$       1\n",
       "  opa2021a    4490     3000  $ +34$       3  $ -50$       3  $  -8$       4\n",
       "  asi2020a    4296     3000  $  -2$       2  $  +7$       2  $  +7$       1\n",
       "  aus2020b    4456     3000  $ -15$       7  $  +4$       4  $  -7$       3\n",
       "  usn2019c    2263     1500  $  +3$       1  $  -0$       1  $ +13$       1"
      ]
     },
     "execution_count": 69,
     "metadata": {},
     "output_type": "execute_result"
    }
   ],
   "source": [
    "tab1 = Table([cat, N_com, N_pick, *data1],\n",
    "             names=[\"catalog\", \"num_com\", \"num_pick\", \"R1_m\", \"R1_std\", \"R2_m\", \"R2_std\", \"R3_m\", \"R3_std\"])\n",
    "\n",
    "tab1[\"catalog\"].format = \"%8s\"\n",
    "\n",
    "tab1[\"R1_m\"].format = \"$%+4.0f$\"\n",
    "tab1[\"R2_m\"].format = \"$%+4.0f$\"\n",
    "tab1[\"R3_m\"].format = \"$%+4.0f$\"\n",
    "\n",
    "tab1[\"R1_std\"].format = \"%3.0f\"\n",
    "tab1[\"R2_std\"].format = \"%3.0f\"\n",
    "tab1[\"R3_std\"].format = \"%3.0f\"\n",
    "\n",
    "tab1"
   ]
  },
  {
   "cell_type": "code",
   "execution_count": 70,
   "metadata": {
    "ExecuteTime": {
     "end_time": "2021-05-12T04:13:31.038152Z",
     "start_time": "2021-05-12T04:13:31.027593Z"
    }
   },
   "outputs": [],
   "source": [
    "tab1[\"R1_std\"].format = \"%3.0f\"\n",
    "tab1[\"R2_std\"].format = \"%3.0f\"\n",
    "tab1[\"R3_std\"].format = \"%3.0f\"\n",
    "\n",
    "tab1.write(\"../logs/icrf-orient-sta.tex\", format=\"ascii.latex\", overwrite=True)"
   ]
  }
 ],
 "metadata": {
  "hide_input": false,
  "kernelspec": {
   "display_name": "Python 3",
   "language": "python",
   "name": "python3"
  },
  "language_info": {
   "codemirror_mode": {
    "name": "ipython",
    "version": 3
   },
   "file_extension": ".py",
   "mimetype": "text/x-python",
   "name": "python",
   "nbconvert_exporter": "python",
   "pygments_lexer": "ipython3",
   "version": "3.7.10"
  },
  "latex_envs": {
   "LaTeX_envs_menu_present": true,
   "autoclose": false,
   "autocomplete": true,
   "bibliofile": "biblio.bib",
   "cite_by": "apalike",
   "current_citInitial": 1,
   "eqLabelWithNumbers": true,
   "eqNumInitial": 1,
   "hotkeys": {
    "equation": "Ctrl-E",
    "itemize": "Ctrl-I"
   },
   "labels_anchors": false,
   "latex_user_defs": false,
   "report_style_numbering": false,
   "user_envs_cfg": false
  },
  "varInspector": {
   "cols": {
    "lenName": 16,
    "lenType": 16,
    "lenVar": 40
   },
   "kernels_config": {
    "python": {
     "delete_cmd_postfix": "",
     "delete_cmd_prefix": "del ",
     "library": "var_list.py",
     "varRefreshCmd": "print(var_dic_list())"
    },
    "r": {
     "delete_cmd_postfix": ") ",
     "delete_cmd_prefix": "rm(",
     "library": "var_list.r",
     "varRefreshCmd": "cat(var_dic_list()) "
    }
   },
   "types_to_exclude": [
    "module",
    "function",
    "builtin_function_or_method",
    "instance",
    "_Feature"
   ],
   "window_display": false
  }
 },
 "nbformat": 4,
 "nbformat_minor": 4
}
