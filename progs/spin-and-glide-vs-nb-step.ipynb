{
 "cells": [
  {
   "cell_type": "markdown",
   "id": "incorrect-curve",
   "metadata": {},
   "source": [
    "In this notebook, I would like to test how the number of steps used to generate the global time series affects the gloabl spin (rotation vector) and deformation (glide vector) of the celestial reference frame.\n",
    "\n"
   ]
  },
  {
   "cell_type": "code",
   "execution_count": 1,
   "id": "interesting-winter",
   "metadata": {
    "ExecuteTime": {
     "end_time": "2021-09-17T08:53:53.035080Z",
     "start_time": "2021-09-17T08:53:52.475321Z"
    }
   },
   "outputs": [],
   "source": [
    "import numpy as np\n",
    "import matplotlib.pyplot as plt\n",
    "\n",
    "from astropy.table import Table"
   ]
  },
  {
   "cell_type": "markdown",
   "id": "presidential-camel",
   "metadata": {},
   "source": [
    "Load data."
   ]
  },
  {
   "cell_type": "code",
   "execution_count": 2,
   "id": "metric-affair",
   "metadata": {
    "ExecuteTime": {
     "end_time": "2021-09-17T08:53:53.059572Z",
     "start_time": "2021-09-17T08:53:53.037031Z"
    }
   },
   "outputs": [],
   "source": [
    "def_spin = Table.read(\"../logs/spin-vs-nb-step-4-def-sou.log\", format=\"ascii\")\n",
    "def_glide = Table.read(\"../logs/glide-vs-nb-step-4-def-sou.log\", format=\"ascii\")\n",
    "\n",
    "all_spin = Table.read(\"../logs/spin-vs-nb-step-4-all-sou.log\", format=\"ascii\")\n",
    "all_glide = Table.read(\"../logs/glide-vs-nb-step-4-all-sou.log\", format=\"ascii\")"
   ]
  },
  {
   "cell_type": "markdown",
   "id": "durable-suspension",
   "metadata": {},
   "source": [
    "# 1 For defining source subset"
   ]
  },
  {
   "cell_type": "code",
   "execution_count": 3,
   "id": "portuguese-roots",
   "metadata": {
    "ExecuteTime": {
     "end_time": "2021-09-17T08:53:53.065409Z",
     "start_time": "2021-09-17T08:53:53.062781Z"
    }
   },
   "outputs": [],
   "source": [
    "cat_names = [\" 4-step\", \" 8-step\", \"10-step\", \"20-step\"]\n",
    "\n",
    "colors = [\"r\", \"g\", \"b\", \"m\"]"
   ]
  },
  {
   "cell_type": "markdown",
   "id": "classical-destruction",
   "metadata": {},
   "source": [
    "## 1.1 Global spin"
   ]
  },
  {
   "cell_type": "code",
   "execution_count": 4,
   "id": "rotary-pittsburgh",
   "metadata": {
    "ExecuteTime": {
     "end_time": "2021-09-17T08:53:53.077617Z",
     "start_time": "2021-09-17T08:53:53.067628Z"
    }
   },
   "outputs": [],
   "source": [
    "estimates = [\n",
    "    np.array([\n",
    "        def_spin[\"r1\"][0], def_spin[\"r2\"][0], def_spin[\"r3\"][0],\n",
    "        def_spin[\"r\"][0]\n",
    "    ]),\n",
    "    np.array([\n",
    "        def_spin[\"r1\"][1], def_spin[\"r2\"][1], def_spin[\"r3\"][1],\n",
    "        def_spin[\"r\"][1]\n",
    "    ]),\n",
    "    np.array([\n",
    "        def_spin[\"r1\"][2], def_spin[\"r2\"][2], def_spin[\"r3\"][2],\n",
    "        def_spin[\"r\"][2]\n",
    "    ]),\n",
    "    np.array([\n",
    "        def_spin[\"r1\"][3], def_spin[\"r2\"][3], def_spin[\"r3\"][3],\n",
    "        def_spin[\"r\"][3]\n",
    "    ])\n",
    "]\n",
    "\n",
    "heights = [\n",
    "    np.array([\n",
    "        def_spin[\"r1_err\"][0], def_spin[\"r2_err\"][0], def_spin[\"r3_err\"][0],\n",
    "        def_spin[\"r_err\"][0]\n",
    "    ]) * 2,\n",
    "    np.array([\n",
    "        def_spin[\"r1_err\"][1], def_spin[\"r2_err\"][1], def_spin[\"r3_err\"][1],\n",
    "        def_spin[\"r_err\"][1]\n",
    "    ]) * 2,\n",
    "    np.array([\n",
    "        def_spin[\"r1_err\"][2], def_spin[\"r2_err\"][2], def_spin[\"r3_err\"][2],\n",
    "        def_spin[\"r_err\"][2]\n",
    "    ]) * 2,\n",
    "    np.array([\n",
    "        def_spin[\"r1_err\"][3], def_spin[\"r2_err\"][3], def_spin[\"r3_err\"][3],\n",
    "        def_spin[\"r_err\"][3]\n",
    "    ]) * 2\n",
    "]\n",
    "\n",
    "bottoms = [\n",
    "    np.array([\n",
    "        def_spin[\"r1\"][0] - def_spin[\"r1_err\"][0],\n",
    "        def_spin[\"r2\"][0] - def_spin[\"r2_err\"][0],\n",
    "        def_spin[\"r3\"][0] - def_spin[\"r3_err\"][0],\n",
    "        def_spin[\"r\"][0] - def_spin[\"r_err\"][0]\n",
    "    ]),\n",
    "    np.array([\n",
    "        def_spin[\"r1\"][1] - def_spin[\"r1_err\"][1],\n",
    "        def_spin[\"r2\"][1] - def_spin[\"r2_err\"][1],\n",
    "        def_spin[\"r3\"][1] - def_spin[\"r3_err\"][1],\n",
    "        def_spin[\"r\"][1] - def_spin[\"r_err\"][1]\n",
    "    ]),\n",
    "    np.array([\n",
    "        def_spin[\"r1\"][2] - def_spin[\"r1_err\"][2],\n",
    "        def_spin[\"r2\"][2] - def_spin[\"r2_err\"][2],\n",
    "        def_spin[\"r3\"][2] - def_spin[\"r3_err\"][2],\n",
    "        def_spin[\"r\"][2] - def_spin[\"r_err\"][2]\n",
    "    ]),\n",
    "    np.array([\n",
    "        def_spin[\"r1\"][3] - def_spin[\"r1_err\"][3],\n",
    "        def_spin[\"r2\"][3] - def_spin[\"r2_err\"][3],\n",
    "        def_spin[\"r3\"][3] - def_spin[\"r3_err\"][3],\n",
    "        def_spin[\"r\"][3] - def_spin[\"r_err\"][3]\n",
    "    ])\n",
    "]"
   ]
  },
  {
   "cell_type": "code",
   "execution_count": 5,
   "id": "selected-request",
   "metadata": {
    "ExecuteTime": {
     "end_time": "2021-09-17T08:53:53.082893Z",
     "start_time": "2021-09-17T08:53:53.079889Z"
    }
   },
   "outputs": [],
   "source": [
    "names = [\"$\\omega_1$\", \"$\\omega_2$\", \"$\\omega_3$\", \"$\\omega$\"]\n",
    "\n",
    "num = len(names)\n",
    "width = 0.2\n",
    "loc = np.arange(num) * 2"
   ]
  },
  {
   "cell_type": "code",
   "execution_count": 6,
   "id": "saving-canada",
   "metadata": {
    "ExecuteTime": {
     "end_time": "2021-09-17T08:53:53.544686Z",
     "start_time": "2021-09-17T08:53:53.085304Z"
    }
   },
   "outputs": [
    {
     "name": "stderr",
     "output_type": "stream",
     "text": [
      "The PostScript backend does not support transparency; partially transparent artists will be rendered opaque.\n",
      "The PostScript backend does not support transparency; partially transparent artists will be rendered opaque.\n"
     ]
    },
    {
     "data": {
      "image/png": "[encoded data removed]",
      "text/plain": [
       "<Figure size 432x288 with 1 Axes>"
      ]
     },
     "metadata": {
      "needs_background": "light"
     },
     "output_type": "display_data"
    }
   ],
   "source": [
    "fig, ax = plt.subplots()\n",
    "\n",
    "for i, cat_name in enumerate(cat_names):\n",
    "    ax.bar(loc + (i-1)*width, heights[i], fill=False,\n",
    "           bottom=bottoms[i], edgecolor=colors[i],\n",
    "           width=width, align=\"edge\", label=cat_name)\n",
    "\n",
    "    ax.hlines(estimates[i], loc + (i-1)*width, loc + i*width, color=colors[i])\n",
    "\n",
    "\n",
    "ax.set_ylim([-1.2, 1.2])\n",
    "\n",
    "ax.legend(fontsize=\"small\")\n",
    "\n",
    "ax.set_ylabel(\"Spin ($\\mu$as/yr)\", fontsize=15)\n",
    "ax.set_xticks(loc)\n",
    "ax.set_xticklabels(names, fontsize=15)\n",
    "ax.set_title(\"Spin from global time series\", fontsize=15)\n",
    "ax.grid(lw=0.5)\n",
    "\n",
    "plt.tight_layout()\n",
    "plt.savefig(\"../plots/spin-vs-nb-step-def.eps\")"
   ]
  },
  {
   "cell_type": "code",
   "execution_count": 7,
   "id": "swiss-boards",
   "metadata": {
    "ExecuteTime": {
     "end_time": "2021-09-17T08:53:53.839998Z",
     "start_time": "2021-09-17T08:53:53.546665Z"
    }
   },
   "outputs": [
    {
     "name": "stderr",
     "output_type": "stream",
     "text": [
      "The PostScript backend does not support transparency; partially transparent artists will be rendered opaque.\n",
      "The PostScript backend does not support transparency; partially transparent artists will be rendered opaque.\n"
     ]
    },
    {
     "data": {
      "image/png": "[encoded data removed]",
      "text/plain": [
       "<Figure size 432x288 with 1 Axes>"
      ]
     },
     "metadata": {
      "needs_background": "light"
     },
     "output_type": "display_data"
    }
   ],
   "source": [
    "fig, ax = plt.subplots()\n",
    "\n",
    "ax.errorbar(def_spin[\"ra\"][0], def_spin[\"dec\"][0],\n",
    "            xerr=def_spin[\"ra_err\"][0],\n",
    "            yerr=def_spin[\"dec_err\"][0],\n",
    "            capsize=3, elinewidth=0.5,\n",
    "            fmt=\"v\", color=\"r\", label=\" 4-step\")\n",
    "ax.errorbar(def_spin[\"ra\"][1], def_spin[\"dec\"][1],\n",
    "            xerr=def_spin[\"ra_err\"][1],\n",
    "            yerr=def_spin[\"dec_err\"][1],\n",
    "            capsize=3, elinewidth=0.5,\n",
    "            fmt=\"x\", color=\"g\", label=\" 8-step\")\n",
    "ax.errorbar(def_spin[\"ra\"][2], def_spin[\"dec\"][2],\n",
    "            xerr=def_spin[\"ra_err\"][2],\n",
    "            yerr=def_spin[\"dec_err\"][2],\n",
    "            capsize=3, elinewidth=0.5,\n",
    "            fmt=\"^\", color=\"b\", label=\"10-step\")\n",
    "ax.errorbar(def_spin[\"ra\"][3], def_spin[\"dec\"][3],\n",
    "            xerr=def_spin[\"ra_err\"][3],\n",
    "            yerr=def_spin[\"dec_err\"][3],\n",
    "            capsize=3, elinewidth=0.5,\n",
    "            fmt=\"s\", color=\"m\", label=\"20-step\")\n",
    "\n",
    "\n",
    "ax.plot(265, -30, \"ko\", label=\"GC\")\n",
    "\n",
    "ax.legend()\n",
    "\n",
    "ax.set_title(\"Direction of rotation axis\", fontsize=15)\n",
    "ax.set_xlabel(\"RA (degree)\", fontsize=15)\n",
    "ax.set_ylabel(\"Decl. (degree)\", fontsize=15)\n",
    "\n",
    "plt.tight_layout()\n",
    "plt.savefig(\"../plots/spin-axis-vs-nb-step-def.eps\")"
   ]
  },
  {
   "cell_type": "markdown",
   "id": "ethical-camping",
   "metadata": {},
   "source": [
    "## 1.2 Global glide"
   ]
  },
  {
   "cell_type": "code",
   "execution_count": 8,
   "id": "vocal-conversion",
   "metadata": {
    "ExecuteTime": {
     "end_time": "2021-09-17T08:53:53.844767Z",
     "start_time": "2021-09-17T08:53:53.841696Z"
    }
   },
   "outputs": [],
   "source": [
    "names = [\"$g_1$\", \"$g_2$\", \"$g_3$\", \"$g$\"]\n",
    "\n",
    "num = len(names)\n",
    "width = 0.2\n",
    "loc = np.arange(num) * 2"
   ]
  },
  {
   "cell_type": "code",
   "execution_count": 9,
   "id": "close-zealand",
   "metadata": {
    "ExecuteTime": {
     "end_time": "2021-09-17T08:53:53.857684Z",
     "start_time": "2021-09-17T08:53:53.848615Z"
    }
   },
   "outputs": [],
   "source": [
    "estimates = [\n",
    "    np.array([\n",
    "        def_glide[\"g1\"][0], def_glide[\"g2\"][0], def_glide[\"g3\"][0],\n",
    "        def_glide[\"g\"][0]\n",
    "    ]),\n",
    "    np.array([\n",
    "        def_glide[\"g1\"][1], def_glide[\"g2\"][1], def_glide[\"g3\"][1],\n",
    "        def_glide[\"g\"][1]\n",
    "    ]),\n",
    "    np.array([\n",
    "        def_glide[\"g1\"][2], def_glide[\"g2\"][2], def_glide[\"g3\"][2],\n",
    "        def_glide[\"g\"][2]\n",
    "    ]),\n",
    "    np.array([\n",
    "        def_glide[\"g1\"][3], def_glide[\"g2\"][3], def_glide[\"g3\"][3],\n",
    "        def_glide[\"g\"][3]\n",
    "    ])\n",
    "]\n",
    "\n",
    "heights = [\n",
    "    np.array([\n",
    "        def_glide[\"g1_err\"][0], def_glide[\"g2_err\"][0], def_glide[\"g3_err\"][0],\n",
    "        def_glide[\"g_err\"][0]\n",
    "    ]) * 2,\n",
    "    np.array([\n",
    "        def_glide[\"g1_err\"][1], def_glide[\"g2_err\"][1], def_glide[\"g3_err\"][1],\n",
    "        def_glide[\"g_err\"][1]\n",
    "    ]) * 2,\n",
    "    np.array([\n",
    "        def_glide[\"g1_err\"][2], def_glide[\"g2_err\"][2], def_glide[\"g3_err\"][2],\n",
    "        def_glide[\"g_err\"][2]\n",
    "    ]) * 2,\n",
    "    np.array([\n",
    "        def_glide[\"g1_err\"][3], def_glide[\"g2_err\"][3], def_glide[\"g3_err\"][3],\n",
    "        def_glide[\"g_err\"][3]\n",
    "    ]) * 2\n",
    "]\n",
    "\n",
    "bottoms = [\n",
    "    np.array([\n",
    "        def_glide[\"g1\"][0] - def_glide[\"g1_err\"][0],\n",
    "        def_glide[\"g2\"][0] - def_glide[\"g2_err\"][0],\n",
    "        def_glide[\"g3\"][0] - def_glide[\"g3_err\"][0],\n",
    "        def_glide[\"g\"][0] - def_glide[\"g_err\"][0]\n",
    "    ]),\n",
    "    np.array([\n",
    "        def_glide[\"g1\"][1] - def_glide[\"g1_err\"][1],\n",
    "        def_glide[\"g2\"][1] - def_glide[\"g2_err\"][1],\n",
    "        def_glide[\"g3\"][1] - def_glide[\"g3_err\"][1],\n",
    "        def_glide[\"g\"][1] - def_glide[\"g_err\"][1]\n",
    "    ]),\n",
    "    np.array([\n",
    "        def_glide[\"g1\"][2] - def_glide[\"g1_err\"][2],\n",
    "        def_glide[\"g2\"][2] - def_glide[\"g2_err\"][2],\n",
    "        def_glide[\"g3\"][2] - def_glide[\"g3_err\"][2],\n",
    "        def_glide[\"g\"][2] - def_glide[\"g_err\"][2]\n",
    "    ]),\n",
    "    np.array([\n",
    "        def_glide[\"g1\"][3] - def_glide[\"g1_err\"][3],\n",
    "        def_glide[\"g2\"][3] - def_glide[\"g2_err\"][3],\n",
    "        def_glide[\"g3\"][3] - def_glide[\"g3_err\"][3],\n",
    "        def_glide[\"g\"][3] - def_glide[\"g_err\"][3]\n",
    "    ])\n",
    "]"
   ]
  },
  {
   "cell_type": "code",
   "execution_count": 10,
   "id": "timely-starter",
   "metadata": {
    "ExecuteTime": {
     "end_time": "2021-09-17T08:53:54.162482Z",
     "start_time": "2021-09-17T08:53:53.859343Z"
    }
   },
   "outputs": [
    {
     "name": "stderr",
     "output_type": "stream",
     "text": [
      "The PostScript backend does not support transparency; partially transparent artists will be rendered opaque.\n",
      "The PostScript backend does not support transparency; partially transparent artists will be rendered opaque.\n"
     ]
    },
    {
     "data": {
      "image/png": "[encoded data removed]",
      "text/plain": [
       "<Figure size 432x288 with 1 Axes>"
      ]
     },
     "metadata": {
      "needs_background": "light"
     },
     "output_type": "display_data"
    }
   ],
   "source": [
    "fig, ax = plt.subplots()\n",
    "\n",
    "for i, cat_name in enumerate(cat_names):\n",
    "    ax.bar(loc + (i-1)*width, heights[i], fill=False,\n",
    "           bottom=bottoms[i], edgecolor=colors[i],\n",
    "           width=width, align=\"edge\", label=cat_name)\n",
    "\n",
    "    ax.hlines(estimates[i], loc + (i-1)*width, loc + i*width, color=colors[i])\n",
    "\n",
    "\n",
    "ax.set_ylim([-2., 2.])\n",
    "\n",
    "ax.legend(fontsize=\"small\")\n",
    "\n",
    "ax.set_ylabel(\"Glide ($\\mu$as/yr)\", fontsize=15)\n",
    "\n",
    "ax.set_xticks(loc)\n",
    "ax.set_xticklabels(names, fontsize=15)\n",
    "\n",
    "ax.grid(lw=0.5)\n",
    "ax.set_title(\"glide from global time series\", fontsize=15)\n",
    "plt.tight_layout()\n",
    "plt.savefig(\"../plots/glide-vs-nb-step-def.eps\")"
   ]
  },
  {
   "cell_type": "code",
   "execution_count": 11,
   "id": "concrete-joining",
   "metadata": {
    "ExecuteTime": {
     "end_time": "2021-09-17T08:53:54.493730Z",
     "start_time": "2021-09-17T08:53:54.164656Z"
    },
    "scrolled": false
   },
   "outputs": [
    {
     "name": "stderr",
     "output_type": "stream",
     "text": [
      "The PostScript backend does not support transparency; partially transparent artists will be rendered opaque.\n",
      "The PostScript backend does not support transparency; partially transparent artists will be rendered opaque.\n"
     ]
    },
    {
     "data": {
      "image/png": "[encoded data removed]",
      "text/plain": [
       "<Figure size 432x288 with 1 Axes>"
      ]
     },
     "metadata": {
      "needs_background": "light"
     },
     "output_type": "display_data"
    }
   ],
   "source": [
    "fig, ax = plt.subplots()\n",
    "\n",
    "ax.errorbar(def_glide[\"ra\"][0], def_glide[\"dec\"][0],\n",
    "            xerr=def_glide[\"ra_err\"][0],\n",
    "            yerr=def_glide[\"dec_err\"][0],\n",
    "            capsize=3, elinewidth=0.5,\n",
    "            fmt=\"v\", color=\"r\", label=\" 4-step\")\n",
    "ax.errorbar(def_glide[\"ra\"][1], def_glide[\"dec\"][1],\n",
    "            xerr=def_glide[\"ra_err\"][1],\n",
    "            yerr=def_glide[\"dec_err\"][1],\n",
    "            capsize=3, elinewidth=0.5,\n",
    "            fmt=\"x\", color=\"g\", label=\" 8-step\")\n",
    "ax.errorbar(def_glide[\"ra\"][2], def_glide[\"dec\"][2],\n",
    "            xerr=def_glide[\"ra_err\"][2],\n",
    "            yerr=def_glide[\"dec_err\"][2],\n",
    "            capsize=3, elinewidth=0.5,\n",
    "            fmt=\"^\", color=\"b\", label=\"10-step\")\n",
    "ax.errorbar(def_glide[\"ra\"][3], def_glide[\"dec\"][3],\n",
    "            xerr=def_glide[\"ra_err\"][3],\n",
    "            yerr=def_glide[\"dec_err\"][3],\n",
    "            capsize=3, elinewidth=0.5,\n",
    "            fmt=\"s\", color=\"m\", label=\"20-step\")\n",
    "\n",
    "ax.plot(265, -30, \"ko\", label=\"GC\")\n",
    "\n",
    "ax.legend()\n",
    "\n",
    "ax.set_title(\"Direction of glide axis\", fontsize=15)\n",
    "ax.set_xlabel(\"RA (degree)\", fontsize=15)\n",
    "ax.set_ylabel(\"Decl. (degree)\", fontsize=15)\n",
    "\n",
    "plt.tight_layout()\n",
    "plt.savefig(\"../plots/glide-axis-vs-nb-step-def.eps\")"
   ]
  },
  {
   "cell_type": "markdown",
   "id": "beneficial-trial",
   "metadata": {},
   "source": [
    "# 2 For all source subset"
   ]
  },
  {
   "cell_type": "code",
   "execution_count": 12,
   "id": "military-passage",
   "metadata": {
    "ExecuteTime": {
     "end_time": "2021-09-17T08:53:54.499034Z",
     "start_time": "2021-09-17T08:53:54.495211Z"
    }
   },
   "outputs": [],
   "source": [
    "cat_names = [\" 4-step\", \" 8-step\", \"10-step\", \"20-step\"]\n",
    "\n",
    "num = len(names)\n",
    "width = 0.2\n",
    "loc = np.arange(num) * 2\n",
    "\n",
    "colors = [\"r\", \"g\", \"b\", \"m\"]"
   ]
  },
  {
   "cell_type": "markdown",
   "id": "suited-digit",
   "metadata": {},
   "source": [
    "## 1.1 Global spin"
   ]
  },
  {
   "cell_type": "code",
   "execution_count": 13,
   "id": "civilian-religious",
   "metadata": {
    "ExecuteTime": {
     "end_time": "2021-09-17T08:53:54.557227Z",
     "start_time": "2021-09-17T08:53:54.501275Z"
    }
   },
   "outputs": [],
   "source": [
    "estimates = [\n",
    "    np.array([\n",
    "        all_spin[\"r1\"][0], all_spin[\"r2\"][0], all_spin[\"r3\"][0],\n",
    "        all_spin[\"r\"][0]\n",
    "    ]),\n",
    "    np.array([\n",
    "        all_spin[\"r1\"][1], all_spin[\"r2\"][1], all_spin[\"r3\"][1],\n",
    "        all_spin[\"r\"][1]\n",
    "    ]),\n",
    "    np.array([\n",
    "        all_spin[\"r1\"][2], all_spin[\"r2\"][2], all_spin[\"r3\"][2],\n",
    "        all_spin[\"r\"][2]\n",
    "    ]),\n",
    "    np.array([\n",
    "        all_spin[\"r1\"][3], all_spin[\"r2\"][3], all_spin[\"r3\"][3],\n",
    "        all_spin[\"r\"][3]\n",
    "    ])\n",
    "]\n",
    "\n",
    "heights = [\n",
    "    np.array([\n",
    "        all_spin[\"r1_err\"][0], all_spin[\"r2_err\"][0], all_spin[\"r3_err\"][0],\n",
    "        all_spin[\"r_err\"][0]\n",
    "    ]) * 2,\n",
    "    np.array([\n",
    "        all_spin[\"r1_err\"][1], all_spin[\"r2_err\"][1], all_spin[\"r3_err\"][1],\n",
    "        all_spin[\"r_err\"][1]\n",
    "    ]) * 2,\n",
    "    np.array([\n",
    "        all_spin[\"r1_err\"][2], all_spin[\"r2_err\"][2], all_spin[\"r3_err\"][2],\n",
    "        all_spin[\"r_err\"][2]\n",
    "    ]) * 2,\n",
    "    np.array([\n",
    "        all_spin[\"r1_err\"][3], all_spin[\"r2_err\"][3], all_spin[\"r3_err\"][3],\n",
    "        all_spin[\"r_err\"][3]\n",
    "    ]) * 2\n",
    "]\n",
    "\n",
    "bottoms = [\n",
    "    np.array([\n",
    "        all_spin[\"r1\"][0] - all_spin[\"r1_err\"][0],\n",
    "        all_spin[\"r2\"][0] - all_spin[\"r2_err\"][0],\n",
    "        all_spin[\"r3\"][0] - all_spin[\"r3_err\"][0],\n",
    "        all_spin[\"r\"][0] - all_spin[\"r_err\"][0]\n",
    "    ]),\n",
    "    np.array([\n",
    "        all_spin[\"r1\"][1] - all_spin[\"r1_err\"][1],\n",
    "        all_spin[\"r2\"][1] - all_spin[\"r2_err\"][1],\n",
    "        all_spin[\"r3\"][1] - all_spin[\"r3_err\"][1],\n",
    "        all_spin[\"r\"][1] - all_spin[\"r_err\"][1]\n",
    "    ]),\n",
    "    np.array([\n",
    "        all_spin[\"r1\"][2] - all_spin[\"r1_err\"][2],\n",
    "        all_spin[\"r2\"][2] - all_spin[\"r2_err\"][2],\n",
    "        all_spin[\"r3\"][2] - all_spin[\"r3_err\"][2],\n",
    "        all_spin[\"r\"][2] - all_spin[\"r_err\"][2]\n",
    "    ]),\n",
    "    np.array([\n",
    "        all_spin[\"r1\"][3] - all_spin[\"r1_err\"][3],\n",
    "        all_spin[\"r2\"][3] - all_spin[\"r2_err\"][3],\n",
    "        all_spin[\"r3\"][3] - all_spin[\"r3_err\"][3],\n",
    "        all_spin[\"r\"][3] - all_spin[\"r_err\"][3]\n",
    "    ])\n",
    "]"
   ]
  },
  {
   "cell_type": "code",
   "execution_count": 14,
   "id": "chubby-joseph",
   "metadata": {
    "ExecuteTime": {
     "end_time": "2021-09-17T08:53:54.561843Z",
     "start_time": "2021-09-17T08:53:54.558814Z"
    }
   },
   "outputs": [],
   "source": [
    "names = [\"$\\omega_1$\", \"$\\omega_2$\", \"$\\omega_3$\", \"$\\omega$\"]\n",
    "\n",
    "num = len(names)\n",
    "width = 0.2\n",
    "loc = np.arange(num) * 2"
   ]
  },
  {
   "cell_type": "code",
   "execution_count": 15,
   "id": "committed-momentum",
   "metadata": {
    "ExecuteTime": {
     "end_time": "2021-09-17T08:53:54.874465Z",
     "start_time": "2021-09-17T08:53:54.563547Z"
    }
   },
   "outputs": [
    {
     "name": "stderr",
     "output_type": "stream",
     "text": [
      "The PostScript backend does not support transparency; partially transparent artists will be rendered opaque.\n",
      "The PostScript backend does not support transparency; partially transparent artists will be rendered opaque.\n"
     ]
    },
    {
     "data": {
      "image/png": "[encoded data removed]",
      "text/plain": [
       "<Figure size 432x288 with 1 Axes>"
      ]
     },
     "metadata": {
      "needs_background": "light"
     },
     "output_type": "display_data"
    }
   ],
   "source": [
    "fig, ax = plt.subplots()\n",
    "\n",
    "for i, cat_name in enumerate(cat_names):\n",
    "    ax.bar(loc + (i-1)*width, heights[i], fill=False,\n",
    "           bottom=bottoms[i], edgecolor=colors[i],\n",
    "           width=width, align=\"edge\", label=cat_name)\n",
    "\n",
    "    ax.hlines(estimates[i], loc + (i-1)*width, loc + i*width, color=colors[i])\n",
    "\n",
    "\n",
    "ax.set_ylim([-1., 1.2])\n",
    "\n",
    "ax.legend(fontsize=\"small\")\n",
    "\n",
    "ax.set_ylabel(\"Spin ($\\mu$as/yr)\", fontsize=15)\n",
    "ax.set_xticks(loc)\n",
    "ax.set_xticklabels(names, fontsize=15)\n",
    "# ax.set_title(\"Spin from global time series\", fontsize=15)\n",
    "ax.grid(lw=0.5)\n",
    "\n",
    "plt.tight_layout()\n",
    "plt.savefig(\"../plots/spin-vs-nb-step-all.eps\")"
   ]
  },
  {
   "cell_type": "code",
   "execution_count": 16,
   "id": "instrumental-publicity",
   "metadata": {
    "ExecuteTime": {
     "end_time": "2021-09-17T08:53:55.140288Z",
     "start_time": "2021-09-17T08:53:54.876025Z"
    }
   },
   "outputs": [
    {
     "name": "stderr",
     "output_type": "stream",
     "text": [
      "The PostScript backend does not support transparency; partially transparent artists will be rendered opaque.\n",
      "The PostScript backend does not support transparency; partially transparent artists will be rendered opaque.\n"
     ]
    },
    {
     "data": {
      "image/png": "[encoded data removed]",
      "text/plain": [
       "<Figure size 432x288 with 1 Axes>"
      ]
     },
     "metadata": {
      "needs_background": "light"
     },
     "output_type": "display_data"
    }
   ],
   "source": [
    "fig, ax = plt.subplots()\n",
    "\n",
    "ax.errorbar(all_spin[\"ra\"][0], all_spin[\"dec\"][0],\n",
    "            xerr=all_spin[\"ra_err\"][0],\n",
    "            yerr=all_spin[\"dec_err\"][0],\n",
    "            capsize=3, elinewidth=0.5,\n",
    "            fmt=\"v\", color=\"r\", label=\" 4-step\")\n",
    "ax.errorbar(all_spin[\"ra\"][1], all_spin[\"dec\"][1],\n",
    "            xerr=all_spin[\"ra_err\"][1],\n",
    "            yerr=all_spin[\"dec_err\"][1],\n",
    "            capsize=3, elinewidth=0.5,\n",
    "            fmt=\"x\", color=\"g\", label=\" 8-step\")\n",
    "ax.errorbar(all_spin[\"ra\"][2], all_spin[\"dec\"][2],\n",
    "            xerr=all_spin[\"ra_err\"][2],\n",
    "            yerr=all_spin[\"dec_err\"][2],\n",
    "            capsize=3, elinewidth=0.5,\n",
    "            fmt=\"^\", color=\"b\", label=\"10-step\")\n",
    "ax.errorbar(all_spin[\"ra\"][3], all_spin[\"dec\"][3],\n",
    "            xerr=all_spin[\"ra_err\"][3],\n",
    "            yerr=all_spin[\"dec_err\"][3],\n",
    "            capsize=3, elinewidth=0.5,\n",
    "            fmt=\"s\", color=\"m\", label=\"20-step\")\n",
    "\n",
    "ax.plot(265, -30, \"ko\", label=\"GC\")\n",
    "\n",
    "ax.legend()\n",
    "\n",
    "ax.set_title(\"Direction of rotation axis\", fontsize=15)\n",
    "ax.set_xlabel(\"RA (degree)\", fontsize=15)\n",
    "ax.set_ylabel(\"Decl. (degree)\", fontsize=15)\n",
    "\n",
    "plt.tight_layout()\n",
    "plt.savefig(\"../plots/spin-axis-vs-nb-step-all.eps\")"
   ]
  },
  {
   "cell_type": "markdown",
   "id": "meaningful-focus",
   "metadata": {},
   "source": [
    "## 1.2 Global glide"
   ]
  },
  {
   "cell_type": "code",
   "execution_count": 17,
   "id": "editorial-diversity",
   "metadata": {
    "ExecuteTime": {
     "end_time": "2021-09-17T08:53:55.145129Z",
     "start_time": "2021-09-17T08:53:55.141881Z"
    }
   },
   "outputs": [],
   "source": [
    "names = [\"$g_1$\", \"$g_2$\", \"$g_3$\", \"$g$\"]\n",
    "\n",
    "num = len(names)\n",
    "width = 0.2\n",
    "loc = np.arange(num) * 2"
   ]
  },
  {
   "cell_type": "code",
   "execution_count": 18,
   "id": "sudden-aaron",
   "metadata": {
    "ExecuteTime": {
     "end_time": "2021-09-17T08:53:55.156832Z",
     "start_time": "2021-09-17T08:53:55.146724Z"
    }
   },
   "outputs": [],
   "source": [
    "estimates = [\n",
    "    np.array([\n",
    "        all_glide[\"g1\"][0], all_glide[\"g2\"][0], all_glide[\"g3\"][0],\n",
    "        all_glide[\"g\"][0]\n",
    "    ]),\n",
    "    np.array([\n",
    "        all_glide[\"g1\"][1], all_glide[\"g2\"][1], all_glide[\"g3\"][1],\n",
    "        all_glide[\"g\"][1]\n",
    "    ]),\n",
    "    np.array([\n",
    "        all_glide[\"g1\"][2], all_glide[\"g2\"][2], all_glide[\"g3\"][2],\n",
    "        all_glide[\"g\"][2]\n",
    "    ]),\n",
    "    np.array([\n",
    "        all_glide[\"g1\"][3], all_glide[\"g2\"][3], all_glide[\"g3\"][3],\n",
    "        all_glide[\"g\"][3]\n",
    "    ])\n",
    "]\n",
    "\n",
    "heights = [\n",
    "    np.array([\n",
    "        all_glide[\"g1_err\"][0], all_glide[\"g2_err\"][0], all_glide[\"g3_err\"][0],\n",
    "        all_glide[\"g_err\"][0]\n",
    "    ]) * 2,\n",
    "    np.array([\n",
    "        all_glide[\"g1_err\"][1], all_glide[\"g2_err\"][1], all_glide[\"g3_err\"][1],\n",
    "        all_glide[\"g_err\"][1]\n",
    "    ]) * 2,\n",
    "    np.array([\n",
    "        all_glide[\"g1_err\"][2], all_glide[\"g2_err\"][2], all_glide[\"g3_err\"][2],\n",
    "        all_glide[\"g_err\"][2]\n",
    "    ]) * 2,\n",
    "    np.array([\n",
    "        all_glide[\"g1_err\"][3], all_glide[\"g2_err\"][3], all_glide[\"g3_err\"][3],\n",
    "        all_glide[\"g_err\"][3]\n",
    "    ]) * 2\n",
    "]\n",
    "\n",
    "bottoms = [\n",
    "    np.array([\n",
    "        all_glide[\"g1\"][0] - all_glide[\"g1_err\"][0],\n",
    "        all_glide[\"g2\"][0] - all_glide[\"g2_err\"][0],\n",
    "        all_glide[\"g3\"][0] - all_glide[\"g3_err\"][0],\n",
    "        all_glide[\"g\"][0] - all_glide[\"g_err\"][0]\n",
    "    ]),\n",
    "    np.array([\n",
    "        all_glide[\"g1\"][1] - all_glide[\"g1_err\"][1],\n",
    "        all_glide[\"g2\"][1] - all_glide[\"g2_err\"][1],\n",
    "        all_glide[\"g3\"][1] - all_glide[\"g3_err\"][1],\n",
    "        all_glide[\"g\"][1] - all_glide[\"g_err\"][1]\n",
    "    ]),\n",
    "    np.array([\n",
    "        all_glide[\"g1\"][2] - all_glide[\"g1_err\"][2],\n",
    "        all_glide[\"g2\"][2] - all_glide[\"g2_err\"][2],\n",
    "        all_glide[\"g3\"][2] - all_glide[\"g3_err\"][2],\n",
    "        all_glide[\"g\"][2] - all_glide[\"g_err\"][2]\n",
    "    ]),\n",
    "    np.array([\n",
    "        all_glide[\"g1\"][3] - all_glide[\"g1_err\"][3],\n",
    "        all_glide[\"g2\"][3] - all_glide[\"g2_err\"][3],\n",
    "        all_glide[\"g3\"][3] - all_glide[\"g3_err\"][3],\n",
    "        all_glide[\"g\"][3] - all_glide[\"g_err\"][3]\n",
    "    ])\n",
    "]"
   ]
  },
  {
   "cell_type": "code",
   "execution_count": 19,
   "id": "fantastic-force",
   "metadata": {
    "ExecuteTime": {
     "end_time": "2021-09-17T08:53:55.413630Z",
     "start_time": "2021-09-17T08:53:55.158947Z"
    }
   },
   "outputs": [
    {
     "name": "stderr",
     "output_type": "stream",
     "text": [
      "The PostScript backend does not support transparency; partially transparent artists will be rendered opaque.\n",
      "The PostScript backend does not support transparency; partially transparent artists will be rendered opaque.\n"
     ]
    },
    {
     "data": {
      "image/png": "[encoded data removed]",
      "text/plain": [
       "<Figure size 432x288 with 1 Axes>"
      ]
     },
     "metadata": {
      "needs_background": "light"
     },
     "output_type": "display_data"
    }
   ],
   "source": [
    "fig, ax = plt.subplots()\n",
    "\n",
    "for i, cat_name in enumerate(cat_names):\n",
    "    ax.bar(loc + (i-1)*width, heights[i], fill=False,\n",
    "           bottom=bottoms[i], edgecolor=colors[i],\n",
    "           width=width, align=\"edge\", label=cat_name)\n",
    "\n",
    "    ax.hlines(estimates[i], loc + (i-1)*width, loc + i*width, color=colors[i])\n",
    "\n",
    "\n",
    "ax.set_ylim([-.2, 1.2])\n",
    "\n",
    "ax.legend(fontsize=\"small\")\n",
    "\n",
    "ax.set_ylabel(\"Glide ($\\mu$as/yr)\", fontsize=15)\n",
    "\n",
    "ax.set_xticks(loc)\n",
    "ax.set_xticklabels(names, fontsize=15)\n",
    "\n",
    "ax.grid(lw=0.5)\n",
    "# ax.set_title(\"glide from global time series\", fontsize=15)\n",
    "plt.tight_layout()\n",
    "plt.savefig(\"../plots/glide-vs-nb-step-all.eps\")"
   ]
  },
  {
   "cell_type": "code",
   "execution_count": 20,
   "id": "designed-scope",
   "metadata": {
    "ExecuteTime": {
     "end_time": "2021-09-17T08:53:55.679340Z",
     "start_time": "2021-09-17T08:53:55.415238Z"
    },
    "scrolled": false
   },
   "outputs": [
    {
     "name": "stderr",
     "output_type": "stream",
     "text": [
      "The PostScript backend does not support transparency; partially transparent artists will be rendered opaque.\n",
      "The PostScript backend does not support transparency; partially transparent artists will be rendered opaque.\n"
     ]
    },
    {
     "data": {
      "image/png": "[encoded data removed]",
      "text/plain": [
       "<Figure size 432x288 with 1 Axes>"
      ]
     },
     "metadata": {
      "needs_background": "light"
     },
     "output_type": "display_data"
    }
   ],
   "source": [
    "fig, ax = plt.subplots()\n",
    "\n",
    "ax.errorbar(all_glide[\"ra\"][0], all_glide[\"dec\"][0],\n",
    "            xerr=all_glide[\"ra_err\"][0],\n",
    "            yerr=all_glide[\"dec_err\"][0],\n",
    "            capsize=3, elinewidth=0.5,\n",
    "            fmt=\"v\", color=\"r\", label=\" 4-step\")\n",
    "ax.errorbar(all_glide[\"ra\"][1], all_glide[\"dec\"][1],\n",
    "            xerr=all_glide[\"ra_err\"][1],\n",
    "            yerr=all_glide[\"dec_err\"][1],\n",
    "            capsize=3, elinewidth=0.5,\n",
    "            fmt=\"x\", color=\"g\", label=\" 8-step\")\n",
    "ax.errorbar(all_glide[\"ra\"][2], all_glide[\"dec\"][2],\n",
    "            xerr=all_glide[\"ra_err\"][2],\n",
    "            yerr=all_glide[\"dec_err\"][2],\n",
    "            capsize=3, elinewidth=0.5,\n",
    "            fmt=\"^\", color=\"b\", label=\"10-step\")\n",
    "ax.errorbar(all_glide[\"ra\"][3], all_glide[\"dec\"][3],\n",
    "            xerr=all_glide[\"ra_err\"][3],\n",
    "            yerr=all_glide[\"dec_err\"][3],\n",
    "            capsize=3, elinewidth=0.5,\n",
    "            fmt=\"s\", color=\"m\", label=\"20-step\")\n",
    "\n",
    "ax.plot(265, -30, \"ko\", label=\"GC\")\n",
    "ax.set_xlim([-5, 365])\n",
    "ax.set_xticks(np.arange(0, 361, 60))\n",
    "\n",
    "ax.legend()\n",
    "\n",
    "ax.set_title(\"Direction of glide axis\", fontsize=15)\n",
    "ax.set_xlabel(\"RA (degree)\", fontsize=15)\n",
    "ax.set_ylabel(\"Decl. (degree)\", fontsize=15)\n",
    "\n",
    "plt.tight_layout()\n",
    "plt.savefig(\"../plots/glide-axis-vs-nb-step-all.eps\")"
   ]
  }
 ],
 "metadata": {
  "hide_input": false,
  "kernelspec": {
   "display_name": "Python 3 (ipykernel)",
   "language": "python",
   "name": "python3"
  },
  "language_info": {
   "codemirror_mode": {
    "name": "ipython",
    "version": 3
   },
   "file_extension": ".py",
   "mimetype": "text/x-python",
   "name": "python",
   "nbconvert_exporter": "python",
   "pygments_lexer": "ipython3",
   "version": "3.9.7"
  }
 },
 "nbformat": 4,
 "nbformat_minor": 5
}
