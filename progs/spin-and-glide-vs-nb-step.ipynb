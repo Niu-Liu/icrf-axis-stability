{
 "cells": [
  {
   "cell_type": "markdown",
   "id": "incorrect-curve",
   "metadata": {},
   "source": [
    "In this notebook, I would like to test how the number of steps used to generate the global time series affects the gloabl spin (rotation vector) and deformation (glide vector) of the celestial reference frame.\n",
    "\n"
   ]
  },
  {
   "cell_type": "code",
   "execution_count": 1,
   "id": "interesting-winter",
   "metadata": {
    "ExecuteTime": {
     "end_time": "2021-10-28T02:00:09.013871Z",
     "start_time": "2021-10-28T02:00:07.534094Z"
    }
   },
   "outputs": [],
   "source": [
    "import numpy as np\n",
    "import matplotlib.pyplot as plt\n",
    "from astropy.table import Table, join\n",
    "\n",
    "from tool_func import vsh_fit_for_pm"
   ]
  },
  {
   "cell_type": "markdown",
   "id": "presidential-camel",
   "metadata": {},
   "source": [
    "Load data."
   ]
  },
  {
   "cell_type": "markdown",
   "id": "ad110b73",
   "metadata": {},
   "source": [
    "ICRF3 defining source list."
   ]
  },
  {
   "cell_type": "code",
   "execution_count": 2,
   "id": "2549eb6f",
   "metadata": {
    "ExecuteTime": {
     "end_time": "2021-10-28T02:00:09.036151Z",
     "start_time": "2021-10-28T02:00:09.015431Z"
    }
   },
   "outputs": [],
   "source": [
    "icrf3_def = Table.read(\"../data/icrf3sx-def-sou.txt\", format=\"ascii\")"
   ]
  },
  {
   "cell_type": "markdown",
   "id": "ce24b1d2",
   "metadata": {},
   "source": [
    "Table of apparent proper motion from different steps."
   ]
  },
  {
   "cell_type": "code",
   "execution_count": 3,
   "id": "dc352197",
   "metadata": {
    "ExecuteTime": {
     "end_time": "2021-10-28T02:00:09.044535Z",
     "start_time": "2021-10-28T02:00:09.038774Z"
    }
   },
   "outputs": [],
   "source": [
    "def read_apm_table(file_name):\n",
    "\n",
    "    apm_table = Table.read(file_name, format=\"ascii.csv\")\n",
    "\n",
    "    mask = apm_table[\"num_cln\"] >= 5\n",
    "    apm_table = apm_table[mask]\n",
    "\n",
    "    # Test\n",
    "    rm_sou = [\n",
    "        \"0007+106\", \"0046+316\", \"0305+039\", \"1222+131\", \"1245-457\", \"1730-130\",\n",
    "        \"1746+470\", \"2017+745\", \"2250+190\"\n",
    "    ]\n",
    "\n",
    "    mask = np.ones(len(apm_table), dtype=bool)\n",
    "\n",
    "    for sou in rm_sou:\n",
    "        maski = (apm_table[\"iers_name\"] != sou)\n",
    "        mask = (mask &maski)\n",
    "\n",
    "    apm_table = apm_table[mask]\n",
    "\n",
    "    # convert mas/yr into muas/yr\n",
    "    apm_table[\"pmra\"] = apm_table[\"pmra\"] * 1e3\n",
    "    apm_table[\"pmra_err\"] = apm_table[\"pmra_err\"] * 1e3\n",
    "    apm_table[\"pmdec\"] = apm_table[\"pmdec\"] * 1e3\n",
    "    apm_table[\"pmdec_err\"] = apm_table[\"pmdec_err\"] * 1e3\n",
    "\n",
    "    return apm_table"
   ]
  },
  {
   "cell_type": "code",
   "execution_count": 4,
   "id": "9fa7ad2f",
   "metadata": {
    "ExecuteTime": {
     "end_time": "2021-10-28T02:00:09.100897Z",
     "start_time": "2021-10-28T02:00:09.047284Z"
    }
   },
   "outputs": [],
   "source": [
    "all_apm4 = read_apm_table(\"../data/ts_nju_pm_fit_3sigma.dat\")\n",
    "all_apm8 = read_apm_table(\"../data/ts_nju_pm_fit_3sigma-8step.dat\")\n",
    "all_apm10 = read_apm_table(\"../data/ts_nju_pm_fit_3sigma-10step.dat\")\n",
    "all_apm20 = read_apm_table(\"../data/ts_nju_pm_fit_3sigma-20step.dat\")\n",
    "\n",
    "# all_apm4 = read_apm_table(\"../data/ts_nju_pm_fit_5sigma.dat\")\n",
    "# all_apm8 = read_apm_table(\"../data/ts_nju_pm_fit_5sigma-8step.dat\")\n",
    "# all_apm10 = read_apm_table(\"../data/ts_nju_pm_fit_5sigma-10step.dat\")\n",
    "# all_apm20 = read_apm_table(\"../data/ts_nju_pm_fit_5sigma-20step.dat\")\n",
    "\n",
    "# all_apm4 = read_apm_table(\"../data/ts_nju_pm_fit_10sigma.dat\")\n",
    "# all_apm8 = read_apm_table(\"../data/ts_nju_pm_fit_10sigma-8step.dat\")\n",
    "# all_apm10 = read_apm_table(\"../data/ts_nju_pm_fit_10sigma-10step.dat\")\n",
    "# all_apm20 = read_apm_table(\"../data/ts_nju_pm_fit_10sigma-20step.dat\")"
   ]
  },
  {
   "cell_type": "markdown",
   "id": "b8f9e6cb",
   "metadata": {},
   "source": [
    "A function to do the least square fitting."
   ]
  },
  {
   "cell_type": "code",
   "execution_count": 5,
   "id": "d90c18db",
   "metadata": {
    "ExecuteTime": {
     "end_time": "2021-10-28T02:00:09.107027Z",
     "start_time": "2021-10-28T02:00:09.103037Z"
    }
   },
   "outputs": [],
   "source": [
    "def spin_fit(apm_table, icrf3_def):\n",
    "    \n",
    "    pmt1, sig1, output1 = vsh_fit_for_pm(apm_table)\n",
    "    \n",
    "    # Extract the data for ICRF3 defining sources.\n",
    "    def_apm_table = join(icrf3_def, apm_table, keys=\"iers_name\")\n",
    "    pmt2, sig2, output2 = vsh_fit_for_pm(def_apm_table)\n",
    "    \n",
    "    return pmt1, sig1, output1, pmt2, sig2, output2"
   ]
  },
  {
   "cell_type": "code",
   "execution_count": 6,
   "id": "40ac7e6b",
   "metadata": {
    "ExecuteTime": {
     "end_time": "2021-10-28T02:00:09.258969Z",
     "start_time": "2021-10-28T02:00:09.109033Z"
    }
   },
   "outputs": [],
   "source": [
    "pmt1_4, sig1_4, output1_4, pmt2_4, sig2_4, output2_4 = spin_fit(\n",
    "    all_apm4, icrf3_def)\n",
    "pmt1_8, sig1_8, output1_8, pmt2_8, sig2_8, output2_8 = spin_fit(\n",
    "    all_apm8, icrf3_def)\n",
    "pmt1_10, sig1_10, output1_10, pmt2_10, sig2_10, output2_10 = spin_fit(\n",
    "    all_apm10, icrf3_def)\n",
    "pmt1_20, sig1_20, output1_20, pmt2_20, sig2_20, output2_20 = spin_fit(\n",
    "    all_apm20, icrf3_def)"
   ]
  },
  {
   "cell_type": "code",
   "execution_count": 7,
   "id": "2713d92f",
   "metadata": {
    "ExecuteTime": {
     "end_time": "2021-10-28T02:00:09.265115Z",
     "start_time": "2021-10-28T02:00:09.260492Z"
    }
   },
   "outputs": [],
   "source": [
    "r1_all = np.array([pmt1_4[0], pmt1_8[0], pmt1_10[0], pmt1_20[0]])\n",
    "r2_all = np.array([pmt1_4[1], pmt1_8[1], pmt1_10[1], pmt1_20[1]])\n",
    "r3_all = np.array([pmt1_4[2], pmt1_8[2], pmt1_10[2], pmt1_20[2]])\n",
    "\n",
    "g1_all = np.array([pmt1_4[4], pmt1_8[4], pmt1_10[4], pmt1_20[4]])\n",
    "g2_all = np.array([pmt1_4[5], pmt1_8[5], pmt1_10[5], pmt1_20[5]])\n",
    "g3_all = np.array([pmt1_4[6], pmt1_8[6], pmt1_10[6], pmt1_20[6]])"
   ]
  },
  {
   "cell_type": "code",
   "execution_count": 8,
   "id": "b844689b",
   "metadata": {
    "ExecuteTime": {
     "end_time": "2021-10-28T02:00:09.272438Z",
     "start_time": "2021-10-28T02:00:09.266951Z"
    }
   },
   "outputs": [],
   "source": [
    "r1_err_all = np.array([sig1_4[0], sig1_8[0], sig1_10[0], sig1_20[0]])\n",
    "r2_err_all = np.array([sig1_4[1], sig1_8[1], sig1_10[1], sig1_20[1]])\n",
    "r3_err_all = np.array([sig1_4[2], sig1_8[2], sig1_10[2], sig1_20[2]])\n",
    "\n",
    "g1_err_all = np.array([sig1_4[4], sig1_8[4], sig1_10[4], sig1_20[4]])\n",
    "g2_err_all = np.array([sig1_4[5], sig1_8[5], sig1_10[5], sig1_20[5]])\n",
    "g3_err_all = np.array([sig1_4[6], sig1_8[6], sig1_10[6], sig1_20[6]])"
   ]
  },
  {
   "cell_type": "code",
   "execution_count": 9,
   "id": "8cedda29",
   "metadata": {
    "ExecuteTime": {
     "end_time": "2021-10-28T02:00:09.282123Z",
     "start_time": "2021-10-28T02:00:09.276339Z"
    }
   },
   "outputs": [],
   "source": [
    "r1_def = np.array([pmt2_4[0], pmt2_8[0], pmt2_10[0], pmt2_20[0]])\n",
    "r2_def = np.array([pmt2_4[1], pmt2_8[1], pmt2_10[1], pmt2_20[1]])\n",
    "r3_def = np.array([pmt2_4[2], pmt2_8[2], pmt2_10[2], pmt2_20[2]])\n",
    "\n",
    "g1_def = np.array([pmt2_4[4], pmt2_8[4], pmt2_10[4], pmt2_20[4]])\n",
    "g2_def = np.array([pmt2_4[5], pmt2_8[5], pmt2_10[5], pmt2_20[5]])\n",
    "g3_def = np.array([pmt2_4[6], pmt2_8[6], pmt2_10[6], pmt2_20[6]])"
   ]
  },
  {
   "cell_type": "code",
   "execution_count": 10,
   "id": "aea9773d",
   "metadata": {
    "ExecuteTime": {
     "end_time": "2021-10-28T02:00:09.288780Z",
     "start_time": "2021-10-28T02:00:09.284254Z"
    }
   },
   "outputs": [],
   "source": [
    "r1_err_def = np.array([sig2_4[0], sig2_8[0], sig2_10[0], sig2_20[0]])\n",
    "r2_err_def = np.array([sig2_4[1], sig2_8[1], sig2_10[1], sig2_20[1]])\n",
    "r3_err_def = np.array([sig2_4[2], sig2_8[2], sig2_10[2], sig2_20[2]])\n",
    "\n",
    "g1_err_def = np.array([sig2_4[3], sig2_8[3], sig2_10[3], sig2_20[3]])\n",
    "g2_err_def = np.array([sig2_4[4], sig2_8[4], sig2_10[4], sig2_20[4]])\n",
    "g3_err_def = np.array([sig2_4[5], sig2_8[5], sig2_10[5], sig2_20[5]])"
   ]
  },
  {
   "cell_type": "markdown",
   "id": "durable-suspension",
   "metadata": {},
   "source": [
    "# 1 For defining source subset"
   ]
  },
  {
   "cell_type": "code",
   "execution_count": 11,
   "id": "portuguese-roots",
   "metadata": {
    "ExecuteTime": {
     "end_time": "2021-10-28T02:00:09.293638Z",
     "start_time": "2021-10-28T02:00:09.290407Z"
    }
   },
   "outputs": [],
   "source": [
    "cat_names = [\" 4-step\", \" 8-step\", \"10-step\", \"20-step\"]\n",
    "\n",
    "colors = [\"r\", \"g\", \"b\", \"m\"]\n",
    "\n",
    "names = [\"$\\omega_x$\", \"$\\omega_y$\", \"$\\omega_z$\", \"$g_x$\", \"$g_y$\", \"$g_z$\"]\n",
    "\n",
    "num = len(names)\n",
    "width = 0.2\n",
    "loc = np.arange(num)"
   ]
  },
  {
   "cell_type": "markdown",
   "id": "classical-destruction",
   "metadata": {},
   "source": [
    "## 1.1 Parameter estimate"
   ]
  },
  {
   "cell_type": "code",
   "execution_count": 12,
   "id": "rotary-pittsburgh",
   "metadata": {
    "ExecuteTime": {
     "end_time": "2021-10-28T02:00:09.299233Z",
     "start_time": "2021-10-28T02:00:09.295710Z"
    }
   },
   "outputs": [],
   "source": [
    "estimates = np.array([r1_def, r2_def, r3_def, g1_def, g2_def, g3_def]).T\n",
    "\n",
    "heights = np.array(\n",
    "    [r1_err_def, r2_err_def, r3_err_def, g1_err_def, g2_err_def, g3_err_def]).T\n",
    "\n",
    "bottoms = estimates - heights"
   ]
  },
  {
   "cell_type": "code",
   "execution_count": 13,
   "id": "saving-canada",
   "metadata": {
    "ExecuteTime": {
     "end_time": "2021-10-28T02:00:09.775557Z",
     "start_time": "2021-10-28T02:00:09.301170Z"
    }
   },
   "outputs": [
    {
     "name": "stderr",
     "output_type": "stream",
     "text": [
      "The PostScript backend does not support transparency; partially transparent artists will be rendered opaque.\n",
      "The PostScript backend does not support transparency; partially transparent artists will be rendered opaque.\n"
     ]
    },
    {
     "data": {
      "image/png": "[encoded data removed]",
      "text/plain": [
       "<Figure size 432x288 with 1 Axes>"
      ]
     },
     "metadata": {
      "needs_background": "light"
     },
     "output_type": "display_data"
    }
   ],
   "source": [
    "fig, ax = plt.subplots()\n",
    "\n",
    "for i, cat_name in enumerate(cat_names):\n",
    "    ax.bar(loc + (i-2)*width, heights[i,:]*2, fill=False,\n",
    "           bottom=bottoms[i,:], edgecolor=colors[i],\n",
    "           width=width, align=\"edge\", label=cat_name)\n",
    "\n",
    "    start = loc + (i-2)*width\n",
    "    end = start + width\n",
    "    ax.hlines(estimates[i,:], start, end, color=colors[i])\n",
    "\n",
    "\n",
    "ax.set_ylim([-2, 2])\n",
    "\n",
    "ax.legend(fontsize=\"small\")\n",
    "\n",
    "ax.set_ylabel(\"Estimate ($\\mu$as/yr)\", fontsize=15)\n",
    "ax.set_xticks(loc)\n",
    "ax.set_xticklabels(names, fontsize=15)\n",
    "\n",
    "plt.tight_layout()\n",
    "plt.savefig(\"../plots/spin-vs-nb-step-def.eps\")"
   ]
  },
  {
   "cell_type": "code",
   "execution_count": 14,
   "id": "swiss-boards",
   "metadata": {
    "ExecuteTime": {
     "end_time": "2021-10-28T02:00:10.030022Z",
     "start_time": "2021-10-28T02:00:09.777384Z"
    }
   },
   "outputs": [
    {
     "name": "stderr",
     "output_type": "stream",
     "text": [
      "The PostScript backend does not support transparency; partially transparent artists will be rendered opaque.\n",
      "The PostScript backend does not support transparency; partially transparent artists will be rendered opaque.\n"
     ]
    },
    {
     "data": {
      "image/png": "[encoded data removed]",
      "text/plain": [
       "<Figure size 432x288 with 1 Axes>"
      ]
     },
     "metadata": {
      "needs_background": "light"
     },
     "output_type": "display_data"
    }
   ],
   "source": [
    "fig, ax = plt.subplots()\n",
    "\n",
    "ax.errorbar(output2_4[\"R_ra\"], output2_4[\"R_dec\"],\n",
    "            xerr=output2_4[\"R_ra_err\"],\n",
    "            yerr=output2_4[\"R_dec_err\"],\n",
    "            capsize=3, elinewidth=0.5,\n",
    "            fmt=\"v\", color=\"r\", label=\" 4-step\")\n",
    "ax.errorbar(output2_8[\"R_ra\"], output2_8[\"R_dec\"],\n",
    "            xerr=output2_8[\"R_ra_err\"],\n",
    "            yerr=output2_8[\"R_dec_err\"],\n",
    "            capsize=3, elinewidth=0.5,\n",
    "            fmt=\"x\", color=\"g\", label=\" 8-step\")\n",
    "ax.errorbar(output2_10[\"R_ra\"], output2_10[\"R_dec\"],\n",
    "            xerr=output2_10[\"R_ra_err\"],\n",
    "            yerr=output2_10[\"R_dec_err\"],\n",
    "            capsize=3, elinewidth=0.5,\n",
    "            fmt=\"^\", color=\"b\", label=\"10-step\")\n",
    "ax.errorbar(output2_20[\"R_ra\"], output2_20[\"R_dec\"],\n",
    "            xerr=output2_20[\"R_ra_err\"],\n",
    "            yerr=output2_20[\"R_dec_err\"],\n",
    "            capsize=3, elinewidth=0.5,\n",
    "            fmt=\"s\", color=\"m\", label=\"20-step\")\n",
    "\n",
    "\n",
    "ax.plot(265, -30, \"ko\", label=\"GC\")\n",
    "\n",
    "ax.legend()\n",
    "\n",
    "ax.set_title(\"Direction of rotation axis\", fontsize=15)\n",
    "ax.set_xlabel(\"RA (degree)\", fontsize=15)\n",
    "ax.set_ylabel(\"Decl. (degree)\", fontsize=15)\n",
    "\n",
    "plt.tight_layout()\n",
    "plt.savefig(\"../plots/spin-axis-vs-nb-step-def.eps\")"
   ]
  },
  {
   "cell_type": "code",
   "execution_count": 15,
   "id": "concrete-joining",
   "metadata": {
    "ExecuteTime": {
     "end_time": "2021-10-28T02:00:10.195487Z",
     "start_time": "2021-10-28T02:00:10.031784Z"
    },
    "scrolled": false
   },
   "outputs": [
    {
     "data": {
      "image/png": "[encoded data removed]",
      "text/plain": [
       "<Figure size 432x288 with 1 Axes>"
      ]
     },
     "metadata": {
      "needs_background": "light"
     },
     "output_type": "display_data"
    }
   ],
   "source": [
    "fig, ax = plt.subplots()\n",
    "\n",
    "ax.errorbar(output2_4[\"G_ra\"], output2_4[\"G_dec\"],\n",
    "            xerr=output2_4[\"G_ra_err\"],\n",
    "            yerr=output2_4[\"G_dec_err\"],\n",
    "            capsize=3, elinewidth=0.5,\n",
    "            fmt=\"v\", color=\"r\", label=\" 4-step\")\n",
    "ax.errorbar(output2_8[\"G_ra\"], output2_8[\"G_dec\"],\n",
    "            xerr=output2_8[\"G_ra_err\"],\n",
    "            yerr=output2_8[\"G_dec_err\"],\n",
    "            capsize=3, elinewidth=0.5,\n",
    "            fmt=\"x\", color=\"g\", label=\" 8-step\")\n",
    "ax.errorbar(output2_10[\"G_ra\"], output2_10[\"G_dec\"],\n",
    "            xerr=output2_10[\"G_ra_err\"],\n",
    "            yerr=output2_10[\"G_dec_err\"],\n",
    "            capsize=3, elinewidth=0.5,\n",
    "            fmt=\"^\", color=\"b\", label=\"10-step\")\n",
    "ax.errorbar(output2_20[\"G_ra\"], output2_20[\"G_dec\"],\n",
    "            xerr=output2_20[\"G_ra_err\"],\n",
    "            yerr=output2_20[\"G_dec_err\"],\n",
    "            capsize=3, elinewidth=0.5,\n",
    "            fmt=\"s\", color=\"m\", label=\"20-step\")\n",
    "\n",
    "\n",
    "ax.plot(265, -30, \"ko\", label=\"GC\")\n",
    "\n",
    "ax.legend()\n",
    "\n",
    "ax.set_title(\"Direction of glide axis\", fontsize=15)\n",
    "ax.set_xlabel(\"RA (degree)\", fontsize=15)\n",
    "ax.set_ylabel(\"Decl. (degree)\", fontsize=15)\n",
    "\n",
    "plt.tight_layout()\n",
    "# plt.savefig(\"../plots/glide-axis-vs-nb-step-def.eps\")"
   ]
  },
  {
   "cell_type": "markdown",
   "id": "beneficial-trial",
   "metadata": {},
   "source": [
    "# 2 For all source subset"
   ]
  },
  {
   "cell_type": "code",
   "execution_count": 16,
   "id": "civilian-religious",
   "metadata": {
    "ExecuteTime": {
     "end_time": "2021-10-28T02:00:10.200304Z",
     "start_time": "2021-10-28T02:00:10.197330Z"
    }
   },
   "outputs": [],
   "source": [
    "estimates = np.array([r1_all, r2_all, r3_all, g1_all, g2_all, g3_all]).T\n",
    "\n",
    "heights = np.array(\n",
    "    [r1_err_all, r2_err_all, r3_err_all, g1_err_all, g2_err_all, g3_err_all]).T\n",
    "\n",
    "bottoms = estimates - heights"
   ]
  },
  {
   "cell_type": "code",
   "execution_count": 17,
   "id": "committed-momentum",
   "metadata": {
    "ExecuteTime": {
     "end_time": "2021-10-28T02:00:10.383335Z",
     "start_time": "2021-10-28T02:00:10.201833Z"
    }
   },
   "outputs": [
    {
     "data": {
      "image/png": "[encoded data removed]",
      "text/plain": [
       "<Figure size 432x288 with 1 Axes>"
      ]
     },
     "metadata": {
      "needs_background": "light"
     },
     "output_type": "display_data"
    }
   ],
   "source": [
    "fig, ax = plt.subplots()\n",
    "\n",
    "for i, cat_name in enumerate(cat_names):\n",
    "    ax.bar(loc + (i-2)*width, heights[i,:]*2, fill=False,\n",
    "           bottom=bottoms[i,:], edgecolor=colors[i],\n",
    "           width=width, align=\"edge\", label=cat_name)\n",
    "\n",
    "    start = loc + (i-2)*width\n",
    "    end = start + width\n",
    "    ax.hlines(estimates[i,:], start, end, color=colors[i])\n",
    "\n",
    "\n",
    "ax.set_ylim([-2, 2])\n",
    "\n",
    "ax.legend(fontsize=\"small\")\n",
    "\n",
    "ax.set_ylabel(\"Estimate ($\\mu$as/yr)\", fontsize=15)\n",
    "ax.set_xticks(loc)\n",
    "ax.set_xticklabels(names, fontsize=15)\n",
    "\n",
    "plt.tight_layout()\n",
    "# plt.savefig(\"../plots/spin-vs-nb-step-def.eps\")"
   ]
  },
  {
   "cell_type": "code",
   "execution_count": 18,
   "id": "instrumental-publicity",
   "metadata": {
    "ExecuteTime": {
     "end_time": "2021-10-28T02:00:10.617296Z",
     "start_time": "2021-10-28T02:00:10.384874Z"
    }
   },
   "outputs": [
    {
     "name": "stderr",
     "output_type": "stream",
     "text": [
      "The PostScript backend does not support transparency; partially transparent artists will be rendered opaque.\n",
      "The PostScript backend does not support transparency; partially transparent artists will be rendered opaque.\n"
     ]
    },
    {
     "data": {
      "image/png": "[encoded data removed]",
      "text/plain": [
       "<Figure size 432x288 with 1 Axes>"
      ]
     },
     "metadata": {
      "needs_background": "light"
     },
     "output_type": "display_data"
    }
   ],
   "source": [
    "fig, ax = plt.subplots()\n",
    "\n",
    "ax.errorbar(output1_4[\"R_ra\"], output1_4[\"R_dec\"],\n",
    "            xerr=output1_4[\"R_ra_err\"],\n",
    "            yerr=output1_4[\"R_dec_err\"],\n",
    "            capsize=3, elinewidth=0.5,\n",
    "            fmt=\"v\", color=\"r\", label=\" 4-step\")\n",
    "ax.errorbar(output1_8[\"R_ra\"], output1_8[\"R_dec\"],\n",
    "            xerr=output1_8[\"R_ra_err\"],\n",
    "            yerr=output1_8[\"R_dec_err\"],\n",
    "            capsize=3, elinewidth=0.5,\n",
    "            fmt=\"x\", color=\"g\", label=\" 8-step\")\n",
    "ax.errorbar(output1_10[\"R_ra\"], output1_10[\"R_dec\"],\n",
    "            xerr=output1_10[\"R_ra_err\"],\n",
    "            yerr=output1_10[\"R_dec_err\"],\n",
    "            capsize=3, elinewidth=0.5,\n",
    "            fmt=\"^\", color=\"b\", label=\"10-step\")\n",
    "ax.errorbar(output1_20[\"R_ra\"], output1_20[\"R_dec\"],\n",
    "            xerr=output1_20[\"R_ra_err\"],\n",
    "            yerr=output1_20[\"R_dec_err\"],\n",
    "            capsize=3, elinewidth=0.5,\n",
    "            fmt=\"s\", color=\"m\", label=\"20-step\")\n",
    "\n",
    "\n",
    "ax.plot(265, -30, \"ko\", label=\"GC\")\n",
    "\n",
    "ax.legend()\n",
    "\n",
    "ax.set_title(\"Direction of rotation axis\", fontsize=15)\n",
    "ax.set_xlabel(\"RA (degree)\", fontsize=15)\n",
    "ax.set_ylabel(\"Decl. (degree)\", fontsize=15)\n",
    "\n",
    "plt.tight_layout()\n",
    "plt.savefig(\"../plots/spin-axis-vs-nb-step-all.eps\")"
   ]
  },
  {
   "cell_type": "code",
   "execution_count": 19,
   "id": "fantastic-force",
   "metadata": {
    "ExecuteTime": {
     "end_time": "2021-10-28T02:00:10.832829Z",
     "start_time": "2021-10-28T02:00:10.618604Z"
    }
   },
   "outputs": [
    {
     "data": {
      "image/png": "[encoded data removed]",
      "text/plain": [
       "<Figure size 432x288 with 1 Axes>"
      ]
     },
     "metadata": {
      "needs_background": "light"
     },
     "output_type": "display_data"
    }
   ],
   "source": [
    "fig, ax = plt.subplots()\n",
    "\n",
    "ax.errorbar(output1_4[\"G_ra\"], output1_4[\"G_dec\"],\n",
    "            xerr=output1_4[\"G_ra_err\"],\n",
    "            yerr=output1_4[\"G_dec_err\"],\n",
    "            capsize=3, elinewidth=0.5,\n",
    "            fmt=\"v\", color=\"r\", label=\" 4-step\")\n",
    "ax.errorbar(output1_8[\"G_ra\"], output1_8[\"G_dec\"],\n",
    "            xerr=output1_8[\"G_ra_err\"],\n",
    "            yerr=output1_8[\"G_dec_err\"],\n",
    "            capsize=3, elinewidth=0.5,\n",
    "            fmt=\"x\", color=\"g\", label=\" 8-step\")\n",
    "ax.errorbar(output1_10[\"G_ra\"], output1_10[\"G_dec\"],\n",
    "            xerr=output1_10[\"G_ra_err\"],\n",
    "            yerr=output1_10[\"G_dec_err\"],\n",
    "            capsize=3, elinewidth=0.5,\n",
    "            fmt=\"^\", color=\"b\", label=\"10-step\")\n",
    "ax.errorbar(output1_20[\"G_ra\"], output1_20[\"G_dec\"],\n",
    "            xerr=output1_20[\"G_ra_err\"],\n",
    "            yerr=output1_20[\"G_dec_err\"],\n",
    "            capsize=3, elinewidth=0.5,\n",
    "            fmt=\"s\", color=\"m\", label=\"20-step\")\n",
    "\n",
    "\n",
    "ax.plot(265, -30, \"ko\", label=\"GC\")\n",
    "\n",
    "ax.legend()\n",
    "\n",
    "ax.set_title(\"Direction of glide axis\", fontsize=15)\n",
    "ax.set_xlabel(\"RA (degree)\", fontsize=15)\n",
    "ax.set_ylabel(\"Decl. (degree)\", fontsize=15)\n",
    "\n",
    "plt.tight_layout()\n",
    "# plt.savefig(\"../plots/glide-vs-nb-step-all.eps\")"
   ]
  }
 ],
 "metadata": {
  "hide_input": false,
  "kernelspec": {
   "display_name": "Python 3 (ipykernel)",
   "language": "python",
   "name": "python3"
  },
  "language_info": {
   "codemirror_mode": {
    "name": "ipython",
    "version": 3
   },
   "file_extension": ".py",
   "mimetype": "text/x-python",
   "name": "python",
   "nbconvert_exporter": "python",
   "pygments_lexer": "ipython3",
   "version": "3.9.7"
  }
 },
 "nbformat": 4,
 "nbformat_minor": 5
}
