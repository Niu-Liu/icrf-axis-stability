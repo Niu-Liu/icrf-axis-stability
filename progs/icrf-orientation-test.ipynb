{
 "cells": [
  {
   "cell_type": "markdown",
   "metadata": {},
   "source": [
    "This note estimates the orientation angles between different ICRFs and the stability of these estimates.\n",
    "\n",
    "I used two kinds of bootstrap resampling: with/without replacement.\n",
    "\n",
    "For each sample, I estimated the orientation angles with referred to ICRF3 SX catalog based on the whole sample or the \"clean\" sample."
   ]
  },
  {
   "cell_type": "code",
   "execution_count": 1,
   "metadata": {},
   "outputs": [],
   "source": [
    "from astropy.table import join, Table\n",
    "from astropy import units as u\n",
    "import numpy as np\n",
    "from numpy.random import choice\n",
    "import matplotlib.pyplot as plt\n",
    "\n",
    "# My progs\n",
    "from my_progs.vlbi.read_sou import read_crf\n",
    "from my_progs.catalog.read_icrf import read_icrf3, read_icrf2\n",
    "from my_progs.catalog.pos_diff import radio_cat_diff_calc\n",
    "from my_progs.catalog.vsh_deg1_cor import vsh_deg01_fitting\n",
    "from tool_func import vsh_fitting, sample_clean"
   ]
  },
  {
   "cell_type": "code",
   "execution_count": 2,
   "metadata": {},
   "outputs": [
    {
     "name": "stdout",
     "output_type": "stream",
     "text": [
      "There are 4468 sources in the original catalog, 2 (0%) sources with #obs < 3 dropped, leaving 4466 sources in the present catalog.\n"
     ]
    }
   ],
   "source": [
    "icrf2 = read_icrf2()\n",
    "icrf3sx = read_icrf3(wv=\"sx\")\n",
    "icrf3k = read_icrf3(wv=\"k\")\n",
    "icrf3xka = read_icrf3(wv=\"xka\")\n",
    "def_list = Table([icrf3sx[icrf3sx[\"type\"] == \"D\"][\"iers_name\"]])\n",
    "opa2019a = read_crf(\"../data/opa2019a.crf\", drop_few_obs=True)\n",
    "\n",
    "oft_2_sx = radio_cat_diff_calc(icrf2, icrf3sx, sou_name=\"iers_name\")\n",
    "oft_2_sx_def = join(oft_2_sx, def_list, keys=\"iers_name\")\n",
    "\n",
    "oft_k_sx = radio_cat_diff_calc(icrf3k, icrf3sx, sou_name=\"iers_name\")\n",
    "oft_k_sx_def = join(oft_k_sx, def_list, keys=\"iers_name\")\n",
    "\n",
    "oft_ka_sx = radio_cat_diff_calc(icrf3xka, icrf3sx, sou_name=\"iers_name\")\n",
    "oft_ka_sx_def = join(oft_ka_sx, def_list, keys=\"iers_name\")\n",
    "\n",
    "oft_opa_sx = radio_cat_diff_calc(opa2019a, icrf3sx, sou_name=\"iers_name\")\n",
    "oft_opa_sx_def = join(oft_opa_sx, def_list, keys=\"iers_name\")"
   ]
  },
  {
   "cell_type": "markdown",
   "metadata": {},
   "source": [
    "The number of common sources in the K-band catalog to the SX catalog is 793 (824 in K-band), \n",
    "and for Ka-band it is 638 (all 678).\n",
    "\n",
    "Where are the missing sources? No idea (maybe Sebastien knows something).\n",
    "\n",
    "Between ICRF2 and ICRF3, I only find 3410 sources.\n",
    "\n",
    "(I remember I reported this issus before. The possible reason could be the update of the IERS designation)"
   ]
  },
  {
   "cell_type": "markdown",
   "metadata": {},
   "source": [
    "# Orientation distribution"
   ]
  },
  {
   "cell_type": "markdown",
   "metadata": {},
   "source": [
    "## a) ICRF2 vs. ICRF3 SX"
   ]
  },
  {
   "cell_type": "code",
   "execution_count": 3,
   "metadata": {},
   "outputs": [
    {
     "name": "stdout",
     "output_type": "stream",
     "text": [
      "Between ICRF2 and ICRF3 SX (without outlier elimination)\n",
      "Estimates (  3410 sources)\n",
      "----------------------------------------------\n",
      "               Rotation [uas]                 \n",
      "       x             y             z          \n",
      "----------------------------------------------\n",
      "   -17 +/-   7   +20 +/-   6    +5 +/-   5\n",
      "----------------------------------------------\n",
      "\n",
      "Between ICRF2 and ICRF3 SX (with outlier elimination)\n",
      "For a sample of 3410 sources, the number of the outlier is smaller than 1 when X >= 5.00.\n",
      "After elimination, there are 3250 sources in the clean sample.\n",
      "The outlier rate is 4.69%.\n",
      "\n",
      "Estimates (  3250 sources)\n",
      "----------------------------------------------\n",
      "               Rotation [uas]                 \n",
      "       x             y             z          \n",
      "----------------------------------------------\n",
      "   -19 +/-   4   +23 +/-   4    +0 +/-   3\n",
      "----------------------------------------------\n",
      "\n",
      "Between ICRF2 and ICRF3 SX (Only ICRF3 defining sources)\n",
      "Estimates (   296 sources)\n",
      "----------------------------------------------\n",
      "               Rotation [uas]                 \n",
      "       x             y             z          \n",
      "----------------------------------------------\n",
      "   -10 +/-   7   +20 +/-   8    -1 +/-   7\n",
      "----------------------------------------------\n",
      "\n"
     ]
    }
   ],
   "source": [
    "print(\"Between ICRF2 and ICRF3 SX (without outlier elimination)\")\n",
    "_ = vsh_fitting(oft_2_sx, print_log=True)\n",
    "\n",
    "print(\"Between ICRF2 and ICRF3 SX (with outlier elimination)\")\n",
    "oft_2_sx_cln = sample_clean(oft_2_sx, rho0=10, print_log=True)\n",
    "_ = vsh_fitting(oft_2_sx_cln, print_log=True)\n",
    "\n",
    "print(\"Between ICRF2 and ICRF3 SX (Only ICRF3 defining sources)\")\n",
    "_ = vsh_fitting(oft_2_sx_def, print_log=True)"
   ]
  },
  {
   "cell_type": "markdown",
   "metadata": {},
   "source": [
    "### Sampling without replacement"
   ]
  },
  {
   "cell_type": "code",
   "execution_count": 38,
   "metadata": {},
   "outputs": [],
   "source": [
    "opt2 = Table.read(\"../logs/icrf2_icrf3sx_orient.fits\")\n",
    "opt21 = Table.read(\"../logs/icrf2_icrf3sx_orient_cln.fits\")\n",
    "\n",
    "R1m_2, R1s_2 = np.mean(opt21[\"R1\"]), np.std(opt21[\"R1\"])\n",
    "R2m_2, R2s_2 = np.mean(opt21[\"R2\"]), np.std(opt21[\"R2\"])\n",
    "R3m_2, R3s_2 = np.mean(opt21[\"R3\"]), np.std(opt21[\"R3\"])\n",
    "# data1 = np.vstack([[np.mean(opt21[\"R1\"]), np.std(opt21[\"R1\"]),\n",
    "#                     np.mean(opt21[\"R2\"]), np.std(opt21[\"R2\"]),\n",
    "#                     np.mean(opt21[\"R3\"]), np.std(opt21[\"R3\"])],\n",
    "#                    [np.mean(optk1[\"R1\"]), np.std(optk1[\"R1\"]),\n",
    "#                     np.mean(optk1[\"R2\"]), np.std(optk1[\"R2\"]),\n",
    "#                     np.mean(optk1[\"R3\"]), np.std(optk1[\"R3\"])],\n",
    "#                    [np.mean(optka1[\"R1\"]), np.std(optka1[\"R1\"]),\n",
    "#                     np.mean(optka1[\"R2\"]), np.std(optka1[\"R2\"]),\n",
    "#                     np.mean(optka1[\"R3\"]), np.std(optka1[\"R3\"])],\n",
    "#                    [np.mean(optopa1[\"R1\"]), np.std(optopa1[\"R1\"]),\n",
    "#                     np.mean(optopa1[\"R2\"]), np.std(optopa1[\"R2\"]),\n",
    "#                     np.mean(optopa1[\"R3\"]), np.std(optopa1[\"R3\"])]])"
   ]
  },
  {
   "cell_type": "code",
   "execution_count": 60,
   "metadata": {},
   "outputs": [
    {
     "data": {
      "image/png": "[encoded data removed]",
      "text/plain": [
       "<Figure size 432x288 with 1 Axes>"
      ]
     },
     "metadata": {
      "needs_background": "light"
     },
     "output_type": "display_data"
    }
   ],
   "source": [
    "fig, ax = plt.subplots()\n",
    "\n",
    "bins = np.arange(-50, 10, 2)\n",
    "\n",
    "# ax.hist(opt2[\"R1\"], bins, histtype=\"bar\", color=\"silver\", \n",
    "#         edgecolor=\"lightgrey\", label=\"All\")\n",
    "# ax.hist(opt21[\"R1\"], bins, histtype=\"bar\",\n",
    "#         fill=False, edgecolor=\"b\", label=\"Clean\")\n",
    "# ax.legend()\n",
    "\n",
    "# ax.set_xlabel(\"$R_1$ (ICRF2 $-$ ICRF3 SX, $\\mu$as)\", fontsize=12)\n",
    "ax.set_ylabel(\"No. Source\", fontsize=12)\n",
    "\n",
    "ax.hist(opt21[\"R1\"], bins, histtype=\"bar\",\n",
    "        fill=False, edgecolor=\"b\", label=\"Clean\")\n",
    "ax.set_xlim([-50, 10])\n",
    "ax.set_xlabel(\"$R_1$ ($\\mathrm{\\\\mu as}$)\", fontsize=12)\n",
    "\n",
    "ax.text(-48, 120, \"Mean=$\\mathrm{%+2.0f\\,\\mu as}$\" % R1m_2,\n",
    "       fontsize=15)\n",
    "ax.text(-48, 100, \"   Std=$\\mathrm{%2.0f\\,\\mu as}$\" % R1s_2,\n",
    "       fontsize=15)\n",
    "\n",
    "plt.tight_layout()\n",
    "plt.savefig(\"../plots/icrf2-icrf3sx-R1.eps\", hbox=\"tight\")"
   ]
  },
  {
   "cell_type": "code",
   "execution_count": 65,
   "metadata": {},
   "outputs": [
    {
     "data": {
      "image/png": "[encoded data removed]",
      "text/plain": [
       "<Figure size 432x288 with 1 Axes>"
      ]
     },
     "metadata": {
      "needs_background": "light"
     },
     "output_type": "display_data"
    }
   ],
   "source": [
    "fig, ax = plt.subplots()\n",
    "\n",
    "bins = np.arange(0, 40, 2)\n",
    "\n",
    "# ax.hist(opt2[\"R2\"], bins, histtype=\"bar\", color=\"silver\", \n",
    "#         edgecolor=\"lightgrey\", label=\"All\")\n",
    "ax.hist(opt21[\"R2\"], bins, histtype=\"bar\",\n",
    "        fill=False, edgecolor=\"b\", label=\"Clean\")\n",
    "# ax.legend()\n",
    "\n",
    "# ax.set_xlabel(\"$R_2$ (ICRF2 $-$ ICRF3SX, $\\mu$as)\", fontsize=12)\n",
    "ax.set_ylabel(\"No. Source\", fontsize=12)\n",
    "\n",
    "ax.text(2, 140, \"Mean=$\\mathrm{%+2.0f\\,\\mu as}$\" % R2m_2,\n",
    "       fontsize=15)\n",
    "ax.text(2, 120, \"   Std=$\\mathrm{%2.0f\\,\\mu as}$\" % R2s_2,\n",
    "       fontsize=15)\n",
    "\n",
    "ax.set_xlim([0, 40])\n",
    "ax.set_xlabel(\"$R_Y$ ($\\mathrm{\\\\mu as}$)\", fontsize=12)\n",
    "\n",
    "plt.tight_layout()\n",
    "plt.savefig(\"../plots/icrf2-icrf3sx-R2.eps\", hbox=\"tight\")"
   ]
  },
  {
   "cell_type": "code",
   "execution_count": 64,
   "metadata": {},
   "outputs": [
    {
     "data": {
      "image/png": "[encoded data removed]",
      "text/plain": [
       "<Figure size 432x288 with 1 Axes>"
      ]
     },
     "metadata": {
      "needs_background": "light"
     },
     "output_type": "display_data"
    }
   ],
   "source": [
    "fig, ax = plt.subplots()\n",
    "\n",
    "bins = np.arange(-20, 30, 2)\n",
    "\n",
    "# ax.hist(opt2[\"R3\"], bins, histtype=\"bar\", color=\"silver\", \n",
    "#         edgecolor=\"lightgrey\", label=\"All\")\n",
    "ax.hist(opt21[\"R3\"], bins, histtype=\"bar\",\n",
    "        fill=False, edgecolor=\"b\", label=\"Clean\")\n",
    "# ax.legend()\n",
    "\n",
    "# ax.set_xlabel(\"$R_3$ (ICRF2 $-$ ICRF3SX, $\\mu$as)\", fontsize=12)\n",
    "ax.set_ylabel(\"No. Source\", fontsize=12)\n",
    "ax.set_xlim([-20, 20])\n",
    "\n",
    "ax.text(-18, 160, \"Mean=$\\mathrm{%+2.0f\\,\\mu as}$\" % R3m_2,\n",
    "       fontsize=15)\n",
    "ax.text(-18, 140, \"   Std=$\\mathrm{%2.0f\\,\\mu as}$\" % R3s_2,\n",
    "       fontsize=15)\n",
    "\n",
    "ax.set_xlabel(\"$R_3$ ($\\mathrm{\\\\mu as}$)\", fontsize=12)\n",
    "\n",
    "plt.tight_layout()\n",
    "plt.savefig(\"../plots/icrf2-icrf3sx-R3.eps\", hbox=\"tight\")"
   ]
  },
  {
   "cell_type": "markdown",
   "metadata": {},
   "source": [
    "## b) ICRF3 K vs ICRF3 SX"
   ]
  },
  {
   "cell_type": "code",
   "execution_count": 8,
   "metadata": {},
   "outputs": [
    {
     "name": "stdout",
     "output_type": "stream",
     "text": [
      "Between ICRF3 K and ICRF3 SX (without outlier elimination)\n",
      "Estimates (   793 sources)\n",
      "----------------------------------------------\n",
      "               Rotation [uas]                 \n",
      "       x             y             z          \n",
      "----------------------------------------------\n",
      "   -39 +/-  22   -31 +/-  22    +3 +/-  14\n",
      "----------------------------------------------\n",
      "\n",
      "Between ICRF3 K and ICRF3 SX (with outlier elimination)\n",
      "For a sample of 793 sources, the number of the outlier is smaller than 1 when X >= 5.00.\n",
      "After elimination, there are 770 sources in the clean sample.\n",
      "The outlier rate is 2.90%.\n",
      "\n",
      "Estimates (   770 sources)\n",
      "----------------------------------------------\n",
      "               Rotation [uas]                 \n",
      "       x             y             z          \n",
      "----------------------------------------------\n",
      "   -21 +/-   6   -18 +/-   6   -11 +/-   4\n",
      "----------------------------------------------\n",
      "\n",
      "Between ICRF3 K and ICRF3 SX (Only ICRF3 defining sources)\n",
      "Estimates (   193 sources)\n",
      "----------------------------------------------\n",
      "               Rotation [uas]                 \n",
      "       x             y             z          \n",
      "----------------------------------------------\n",
      "   -10 +/-  10    -9 +/-  11    -5 +/-   7\n",
      "----------------------------------------------\n",
      "\n"
     ]
    }
   ],
   "source": [
    "print(\"Between ICRF3 K and ICRF3 SX (without outlier elimination)\")\n",
    "_ = vsh_fitting(oft_k_sx, print_log=True)\n",
    "\n",
    "print(\"Between ICRF3 K and ICRF3 SX (with outlier elimination)\")\n",
    "oft_k_sx_cln = sample_clean(oft_k_sx, rho0=10, print_log=True)\n",
    "_ = vsh_fitting(oft_k_sx_cln, print_log=True)\n",
    "\n",
    "print(\"Between ICRF3 K and ICRF3 SX (Only ICRF3 defining sources)\")\n",
    "_ = vsh_fitting(oft_k_sx_def, print_log=True)"
   ]
  },
  {
   "cell_type": "code",
   "execution_count": 9,
   "metadata": {},
   "outputs": [],
   "source": [
    "optk = Table.read(\"../logs/icrf3k_icrf3sx_orient.fits\")\n",
    "optk1 = Table.read(\"../logs/icrf3k_icrf3sx_orient_cln.fits\")"
   ]
  },
  {
   "cell_type": "code",
   "execution_count": 10,
   "metadata": {},
   "outputs": [
    {
     "data": {
      "text/plain": [
       "Text(0, 0.5, 'No. Source')"
      ]
     },
     "execution_count": 10,
     "metadata": {},
     "output_type": "execute_result"
    },
    {
     "data": {
      "image/png": "[encoded data removed]",
      "text/plain": [
       "<Figure size 432x288 with 1 Axes>"
      ]
     },
     "metadata": {
      "needs_background": "light"
     },
     "output_type": "display_data"
    }
   ],
   "source": [
    "fig, ax = plt.subplots()\n",
    "\n",
    "bins = np.arange(-120, 30, 5)\n",
    "\n",
    "ax.hist(optk[\"R1\"], bins, histtype=\"bar\", color=\"silver\", \n",
    "        edgecolor=\"lightgrey\", label=\"All\")\n",
    "ax.hist(optk1[\"R1\"], bins, histtype=\"bar\",\n",
    "        fill=False, edgecolor=\"b\", label=\"Clean\")\n",
    "ax.legend()\n",
    "\n",
    "ax.set_xlabel(\"$R_1$ (ICRF3K $-$ ICRF3SX, $\\mu$as)\", fontsize=12)\n",
    "ax.set_ylabel(\"No. Source\", fontsize=12)"
   ]
  },
  {
   "cell_type": "code",
   "execution_count": 11,
   "metadata": {},
   "outputs": [
    {
     "data": {
      "text/plain": [
       "Text(0, 0.5, 'No. Source')"
      ]
     },
     "execution_count": 11,
     "metadata": {},
     "output_type": "execute_result"
    },
    {
     "data": {
      "image/png": "[encoded data removed]",
      "text/plain": [
       "<Figure size 432x288 with 1 Axes>"
      ]
     },
     "metadata": {
      "needs_background": "light"
     },
     "output_type": "display_data"
    }
   ],
   "source": [
    "fig, ax = plt.subplots()\n",
    "\n",
    "bins = np.arange(-120, 50, 5)\n",
    "\n",
    "ax.hist(optk[\"R2\"], bins, histtype=\"bar\", color=\"silver\", \n",
    "        edgecolor=\"lightgrey\", label=\"All\")\n",
    "ax.hist(optk1[\"R2\"], bins, histtype=\"bar\",\n",
    "        fill=False, edgecolor=\"b\", label=\"Clean\")\n",
    "ax.legend()\n",
    "\n",
    "ax.set_xlabel(\"$R_2$ (ICRF3K $-$ ICRF3SX, $\\mu$as)\", fontsize=12)\n",
    "ax.set_ylabel(\"No. Source\", fontsize=12)"
   ]
  },
  {
   "cell_type": "code",
   "execution_count": 12,
   "metadata": {},
   "outputs": [
    {
     "data": {
      "text/plain": [
       "Text(0, 0.5, 'No. Source')"
      ]
     },
     "execution_count": 12,
     "metadata": {},
     "output_type": "execute_result"
    },
    {
     "data": {
      "image/png": "[encoded data removed]",
      "text/plain": [
       "<Figure size 432x288 with 1 Axes>"
      ]
     },
     "metadata": {
      "needs_background": "light"
     },
     "output_type": "display_data"
    }
   ],
   "source": [
    "fig, ax = plt.subplots()\n",
    "\n",
    "bins = np.arange(-50, 100, 5)\n",
    "\n",
    "ax.hist(optk[\"R3\"], bins, histtype=\"bar\", color=\"silver\", \n",
    "        edgecolor=\"lightgrey\", label=\"All\")\n",
    "ax.hist(optk1[\"R3\"], bins, histtype=\"bar\",\n",
    "        fill=False, edgecolor=\"b\", label=\"Clean\")\n",
    "ax.legend()\n",
    "\n",
    "ax.set_xlabel(\"$R_3$ (ICRF3K $-$ ICRF3SX, $\\mu$as)\", fontsize=12)\n",
    "ax.set_ylabel(\"No. Source\", fontsize=12)"
   ]
  },
  {
   "cell_type": "markdown",
   "metadata": {},
   "source": [
    "# ICRF3 XKa vs ICRF3 SX"
   ]
  },
  {
   "cell_type": "code",
   "execution_count": 13,
   "metadata": {},
   "outputs": [
    {
     "name": "stdout",
     "output_type": "stream",
     "text": [
      "Between ICRF3 XKa and ICRF3 SX (without outlier elimination)\n",
      "Estimates (   638 sources)\n",
      "----------------------------------------------\n",
      "               Rotation [uas]                 \n",
      "       x             y             z          \n",
      "----------------------------------------------\n",
      "   -52 +/-  15   -15 +/-  15   -10 +/-  10\n",
      "----------------------------------------------\n",
      "\n",
      "Between ICRF3 XKa and ICRF3 SX (with outlier elimination)\n",
      "For a sample of 638 sources, the number of the outlier is smaller than 1 when X >= 5.00.\n",
      "After elimination, there are 523 sources in the clean sample.\n",
      "The outlier rate is 18.03%.\n",
      "\n",
      "Estimates (   523 sources)\n",
      "----------------------------------------------\n",
      "               Rotation [uas]                 \n",
      "       x             y             z          \n",
      "----------------------------------------------\n",
      "   -53 +/-  12    -9 +/-  12    +6 +/-   9\n",
      "----------------------------------------------\n",
      "\n",
      "Between ICRF3 XKa and ICRF3 SX (Only ICRF3 defining sources)\n",
      "Estimates (   176 sources)\n",
      "----------------------------------------------\n",
      "               Rotation [uas]                 \n",
      "       x             y             z          \n",
      "----------------------------------------------\n",
      "   -28 +/-  26   -25 +/-  27   -52 +/-  19\n",
      "----------------------------------------------\n",
      "\n"
     ]
    }
   ],
   "source": [
    "print(\"Between ICRF3 XKa and ICRF3 SX (without outlier elimination)\")\n",
    "_ = vsh_fitting(oft_ka_sx, print_log=True)\n",
    "\n",
    "print(\"Between ICRF3 XKa and ICRF3 SX (with outlier elimination)\")\n",
    "oft_ka_sx_cln = sample_clean(oft_ka_sx, rho0=10, print_log=True)\n",
    "_ = vsh_fitting(oft_ka_sx_cln, print_log=True)\n",
    "\n",
    "print(\"Between ICRF3 XKa and ICRF3 SX (Only ICRF3 defining sources)\")\n",
    "_ = vsh_fitting(oft_ka_sx_def, print_log=True)"
   ]
  },
  {
   "cell_type": "code",
   "execution_count": 14,
   "metadata": {},
   "outputs": [],
   "source": [
    "optka = Table.read(\"../logs/icrf3xka_icrf3sx_orient.fits\")\n",
    "optka1 = Table.read(\"../logs/icrf3xka_icrf3sx_orient_cln.fits\")"
   ]
  },
  {
   "cell_type": "code",
   "execution_count": 15,
   "metadata": {},
   "outputs": [
    {
     "data": {
      "text/plain": [
       "Text(0, 0.5, 'No. Source')"
      ]
     },
     "execution_count": 15,
     "metadata": {},
     "output_type": "execute_result"
    },
    {
     "data": {
      "image/png": "[encoded data removed]",
      "text/plain": [
       "<Figure size 432x288 with 1 Axes>"
      ]
     },
     "metadata": {
      "needs_background": "light"
     },
     "output_type": "display_data"
    }
   ],
   "source": [
    "fig, ax = plt.subplots()\n",
    "\n",
    "bins = np.arange(-120, 20, 5)\n",
    "\n",
    "ax.hist(optka[\"R1\"], bins, histtype=\"bar\", color=\"silver\", \n",
    "        edgecolor=\"lightgrey\", label=\"All\")\n",
    "ax.hist(optka1[\"R1\"], bins, histtype=\"bar\",\n",
    "        fill=False, edgecolor=\"b\", label=\"Clean\")\n",
    "ax.legend()\n",
    "\n",
    "ax.set_xlabel(\"$R_1$ (ICRF3XKa $-$ ICRF3SX, $\\mu$as)\", fontsize=12)\n",
    "ax.set_ylabel(\"No. Source\", fontsize=12)"
   ]
  },
  {
   "cell_type": "code",
   "execution_count": 16,
   "metadata": {},
   "outputs": [
    {
     "data": {
      "text/plain": [
       "Text(0, 0.5, 'No. Source')"
      ]
     },
     "execution_count": 16,
     "metadata": {},
     "output_type": "execute_result"
    },
    {
     "data": {
      "image/png": "[encoded data removed]",
      "text/plain": [
       "<Figure size 432x288 with 1 Axes>"
      ]
     },
     "metadata": {
      "needs_background": "light"
     },
     "output_type": "display_data"
    }
   ],
   "source": [
    "fig, ax = plt.subplots()\n",
    "\n",
    "bins = np.arange(-100, 80, 5)\n",
    "\n",
    "ax.hist(optka[\"R2\"], bins, histtype=\"bar\", color=\"silver\", \n",
    "        edgecolor=\"lightgrey\", label=\"All\")\n",
    "ax.hist(optka1[\"R2\"], bins, histtype=\"bar\",\n",
    "        fill=False, edgecolor=\"b\", label=\"Clean\")\n",
    "ax.legend()\n",
    "\n",
    "ax.set_xlabel(\"$R_2$ (ICRF3XKa $-$ ICRF3SX, $\\mu$as)\", fontsize=12)\n",
    "ax.set_ylabel(\"No. Source\", fontsize=12)"
   ]
  },
  {
   "cell_type": "code",
   "execution_count": 17,
   "metadata": {},
   "outputs": [
    {
     "data": {
      "text/plain": [
       "Text(0, 0.5, 'No. Source')"
      ]
     },
     "execution_count": 17,
     "metadata": {},
     "output_type": "execute_result"
    },
    {
     "data": {
      "image/png": "[encoded data removed]",
      "text/plain": [
       "<Figure size 432x288 with 1 Axes>"
      ]
     },
     "metadata": {
      "needs_background": "light"
     },
     "output_type": "display_data"
    }
   ],
   "source": [
    "fig, ax = plt.subplots()\n",
    "\n",
    "bins = np.arange(-60, 120, 5)\n",
    "\n",
    "ax.hist(optka[\"R3\"], bins, histtype=\"bar\", color=\"silver\", \n",
    "        edgecolor=\"lightgrey\", label=\"All\")\n",
    "ax.hist(optka1[\"R3\"], bins, histtype=\"bar\",\n",
    "        fill=False, edgecolor=\"b\", label=\"Clean\")\n",
    "ax.legend()\n",
    "\n",
    "ax.set_xlabel(\"$R_3$ (ICRF3XKa $-$ ICRF3SX, $\\mu$as)\", fontsize=12)\n",
    "ax.set_ylabel(\"No. Source\", fontsize=12)"
   ]
  },
  {
   "cell_type": "markdown",
   "metadata": {},
   "source": [
    "## OPA2019a vs. ICRF3 SX"
   ]
  },
  {
   "cell_type": "code",
   "execution_count": 18,
   "metadata": {},
   "outputs": [
    {
     "name": "stdout",
     "output_type": "stream",
     "text": [
      "Between OPA2019a and ICRF3 SX (without outlier elimination)\n",
      "Estimates (  4380 sources)\n",
      "----------------------------------------------\n",
      "               Rotation [uas]                 \n",
      "       x             y             z          \n",
      "----------------------------------------------\n",
      "   +29 +/-   4   -51 +/-   4    -1 +/-   3\n",
      "----------------------------------------------\n",
      "\n",
      "Between OPA2019a and ICRF3 SX (with outlier elimination)\n",
      "For a sample of 4380 sources, the number of the outlier is smaller than 1 when X >= 5.00.\n",
      "After elimination, there are 4331 sources in the clean sample.\n",
      "The outlier rate is 1.12%.\n",
      "\n",
      "Estimates (  4331 sources)\n",
      "----------------------------------------------\n",
      "               Rotation [uas]                 \n",
      "       x             y             z          \n",
      "----------------------------------------------\n",
      "   +28 +/-   2   -50 +/-   2    -1 +/-   1\n",
      "----------------------------------------------\n",
      "\n",
      "Between OPA2019a and ICRF3 SX (Only ICRF3 defining sources)\n",
      "Estimates (   303 sources)\n",
      "----------------------------------------------\n",
      "               Rotation [uas]                 \n",
      "       x             y             z          \n",
      "----------------------------------------------\n",
      "   +26 +/-   2   -52 +/-   2    -2 +/-   1\n",
      "----------------------------------------------\n",
      "\n"
     ]
    }
   ],
   "source": [
    "print(\"Between OPA2019a and ICRF3 SX (without outlier elimination)\")\n",
    "_ = vsh_fitting(oft_opa_sx, print_log=True)\n",
    "\n",
    "print(\"Between OPA2019a and ICRF3 SX (with outlier elimination)\")\n",
    "oft_opa_sx_cln = sample_clean(oft_opa_sx, rho0=10, print_log=True)\n",
    "_ = vsh_fitting(oft_opa_sx_cln, print_log=True)\n",
    "\n",
    "print(\"Between OPA2019a and ICRF3 SX (Only ICRF3 defining sources)\")\n",
    "_ = vsh_fitting(oft_opa_sx_def, print_log=True)"
   ]
  },
  {
   "cell_type": "code",
   "execution_count": 19,
   "metadata": {},
   "outputs": [],
   "source": [
    "optopa = Table.read(\"../logs/opa2019a_icrf3sx_orient.fits\")\n",
    "optopa1 = Table.read(\"../logs/opa2019a_icrf3sx_orient_cln.fits\")"
   ]
  },
  {
   "cell_type": "code",
   "execution_count": 20,
   "metadata": {},
   "outputs": [
    {
     "data": {
      "text/plain": [
       "Text(0, 0.5, 'No. Source')"
      ]
     },
     "execution_count": 20,
     "metadata": {},
     "output_type": "execute_result"
    },
    {
     "data": {
      "image/png": "[encoded data removed]",
      "text/plain": [
       "<Figure size 432x288 with 1 Axes>"
      ]
     },
     "metadata": {
      "needs_background": "light"
     },
     "output_type": "display_data"
    }
   ],
   "source": [
    "fig, ax = plt.subplots()\n",
    "\n",
    "bins = np.arange(-10, 40, 2)\n",
    "\n",
    "ax.hist(optopa[\"R1\"], bins, histtype=\"bar\", color=\"silver\", \n",
    "        edgecolor=\"lightgrey\", label=\"All\")\n",
    "ax.hist(optopa1[\"R1\"], bins, histtype=\"bar\",\n",
    "        fill=False, edgecolor=\"b\", label=\"Clean\")\n",
    "ax.legend()\n",
    "\n",
    "ax.set_xlabel(\"$R_1$ (OPA2019a $-$ ICRF3SX, $\\mu$as)\", fontsize=12)\n",
    "ax.set_ylabel(\"No. Source\", fontsize=12)"
   ]
  },
  {
   "cell_type": "code",
   "execution_count": 21,
   "metadata": {},
   "outputs": [
    {
     "data": {
      "text/plain": [
       "Text(0, 0.5, 'No. Source')"
      ]
     },
     "execution_count": 21,
     "metadata": {},
     "output_type": "execute_result"
    },
    {
     "data": {
      "image/png": "[encoded data removed]",
      "text/plain": [
       "<Figure size 432x288 with 1 Axes>"
      ]
     },
     "metadata": {
      "needs_background": "light"
     },
     "output_type": "display_data"
    }
   ],
   "source": [
    "fig, ax = plt.subplots()\n",
    "\n",
    "bins = np.arange(-60, 0, 2)\n",
    "\n",
    "ax.hist(optopa[\"R2\"], bins, histtype=\"bar\", color=\"silver\", \n",
    "        edgecolor=\"lightgrey\", label=\"All\")\n",
    "ax.hist(optopa1[\"R2\"], bins, histtype=\"bar\",\n",
    "        fill=False, edgecolor=\"b\", label=\"Clean\")\n",
    "ax.legend()\n",
    "\n",
    "ax.set_xlabel(\"$R_2$ (OPA2019a $-$ ICRF3SX, $\\mu$as)\", fontsize=12)\n",
    "ax.set_ylabel(\"No. Source\", fontsize=12)"
   ]
  },
  {
   "cell_type": "code",
   "execution_count": 22,
   "metadata": {},
   "outputs": [
    {
     "data": {
      "text/plain": [
       "Text(0, 0.5, 'No. Source')"
      ]
     },
     "execution_count": 22,
     "metadata": {},
     "output_type": "execute_result"
    },
    {
     "data": {
      "image/png": "[encoded data removed]",
      "text/plain": [
       "<Figure size 432x288 with 1 Axes>"
      ]
     },
     "metadata": {
      "needs_background": "light"
     },
     "output_type": "display_data"
    }
   ],
   "source": [
    "fig, ax = plt.subplots()\n",
    "\n",
    "bins = np.arange(-10, 10, 2)\n",
    "\n",
    "ax.hist(optopa[\"R3\"], bins, histtype=\"bar\", color=\"silver\", \n",
    "        edgecolor=\"lightgrey\", label=\"All\")\n",
    "ax.hist(optopa1[\"R3\"], bins, histtype=\"bar\",\n",
    "        fill=False, edgecolor=\"b\", label=\"Clean\")\n",
    "ax.legend()\n",
    "\n",
    "ax.set_xlabel(\"$R_3$ (OPA2019a $-$ ICRF3SX, $\\mu$as)\", fontsize=12)\n",
    "ax.set_ylabel(\"No. Source\", fontsize=12)"
   ]
  },
  {
   "cell_type": "markdown",
   "metadata": {},
   "source": [
    "# Statistic results"
   ]
  },
  {
   "cell_type": "code",
   "execution_count": 23,
   "metadata": {},
   "outputs": [],
   "source": [
    "cat = [\"ICRF2\", \"ICRF3K\", \"ICRF3Ka\", \"OPA2019a\"]\n",
    "\n",
    "N_com = [3410, 793, 638, 4380]\n",
    "N_pick = [2275, 530, 425, 2920]"
   ]
  },
  {
   "cell_type": "markdown",
   "metadata": {},
   "source": [
    "## a) use all sources without replacement"
   ]
  },
  {
   "cell_type": "code",
   "execution_count": 24,
   "metadata": {},
   "outputs": [],
   "source": [
    "data = np.vstack([[np.mean(opt2[\"R1\"]), np.std(opt2[\"R1\"]),\n",
    "                   np.mean(opt2[\"R2\"]), np.std(opt2[\"R2\"]),\n",
    "                   np.mean(opt2[\"R3\"]), np.std(opt2[\"R3\"])],\n",
    "                  [np.mean(optk[\"R1\"]), np.std(optk[\"R1\"]),\n",
    "                   np.mean(optk[\"R2\"]), np.std(optk[\"R2\"]),\n",
    "                   np.mean(optk[\"R3\"]), np.std(optk[\"R3\"])],\n",
    "                  [np.mean(optka[\"R1\"]), np.std(optka[\"R1\"]),\n",
    "                   np.mean(optka[\"R2\"]), np.std(optka[\"R2\"]),\n",
    "                   np.mean(optka[\"R3\"]), np.std(optka[\"R3\"])],\n",
    "                  [np.mean(optopa[\"R1\"]), np.std(optopa[\"R1\"]),\n",
    "                   np.mean(optopa[\"R2\"]), np.std(optopa[\"R2\"]),\n",
    "                   np.mean(optopa[\"R3\"]), np.std(optopa[\"R3\"])]])\n",
    "\n",
    "data = data.T"
   ]
  },
  {
   "cell_type": "code",
   "execution_count": 25,
   "metadata": {},
   "outputs": [
    {
     "data": {
      "text/html": [
       "<i>Table length=4</i>\n",
       "<table id=\"table112246604688\" class=\"table-striped table-bordered table-condensed\">\n",
       "<thead><tr><th>catalog</th><th>num_com</th><th>num_pick</th><th>R1_m</th><th>R1_std</th><th>R2_m</th><th>R2_std</th><th>R3_m</th><th>R3_std</th></tr></thead>\n",
       "<thead><tr><th>str8</th><th>int64</th><th>int64</th><th>float64</th><th>float64</th><th>float64</th><th>float64</th><th>float64</th><th>float64</th></tr></thead>\n",
       "<tr><td>ICRF2</td><td>3410</td><td>2275</td><td>$ -17$</td><td>7</td><td>$ +20$</td><td>7</td><td>$  +5$</td><td>5</td></tr>\n",
       "<tr><td>ICRF3K</td><td>793</td><td>530</td><td>$ -38$</td><td>22</td><td>$ -30$</td><td>13</td><td>$  +3$</td><td>10</td></tr>\n",
       "<tr><td>ICRF3Ka</td><td>638</td><td>425</td><td>$ -52$</td><td>24</td><td>$ -13$</td><td>22</td><td>$ -10$</td><td>14</td></tr>\n",
       "<tr><td>OPA2019a</td><td>4380</td><td>2920</td><td>$ +29$</td><td>2</td><td>$ -51$</td><td>2</td><td>$  -1$</td><td>1</td></tr>\n",
       "</table>"
      ],
      "text/plain": [
       "<Table length=4>\n",
       "catalog  num_com num_pick   R1_m   R1_std   R2_m   R2_std   R3_m   R3_std\n",
       "  str8    int64   int64   float64 float64 float64 float64 float64 float64\n",
       "-------- ------- -------- ------- ------- ------- ------- ------- -------\n",
       "   ICRF2    3410     2275  $ -17$       7  $ +20$       7  $  +5$       5\n",
       "  ICRF3K     793      530  $ -38$      22  $ -30$      13  $  +3$      10\n",
       " ICRF3Ka     638      425  $ -52$      24  $ -13$      22  $ -10$      14\n",
       "OPA2019a    4380     2920  $ +29$       2  $ -51$       2  $  -1$       1"
      ]
     },
     "execution_count": 25,
     "metadata": {},
     "output_type": "execute_result"
    }
   ],
   "source": [
    "tab = Table([cat, N_com, N_pick, *data],\n",
    "            names=[\"catalog\", \"num_com\", \"num_pick\", \"R1_m\", \"R1_std\", \"R2_m\", \"R2_std\", \"R3_m\", \"R3_std\"])\n",
    "\n",
    "tab[\"catalog\"].format = \"%8s\"\n",
    "\n",
    "tab[\"R1_m\"].format = \"$%+4.0f$\"\n",
    "tab[\"R2_m\"].format = \"$%+4.0f$\"\n",
    "tab[\"R3_m\"].format = \"$%+4.0f$\"\n",
    "\n",
    "tab[\"R1_std\"].format = \"%3.0f\"\n",
    "tab[\"R2_std\"].format = \"%3.0f\"\n",
    "tab[\"R3_std\"].format = \"%3.0f\"\n",
    "\n",
    "tab"
   ]
  },
  {
   "cell_type": "code",
   "execution_count": 26,
   "metadata": {},
   "outputs": [],
   "source": [
    "tab[\"R1_std\"].format = \"$\\pm$%3.0f\"\n",
    "tab[\"R2_std\"].format = \"$\\pm$%3.0f\"\n",
    "tab[\"R3_std\"].format = \"$\\pm$%3.0f\"\n",
    "\n",
    "tab.write(\"../logs/icrf-orient-sta.tex\", format=\"ascii.latex\", overwrite=True)"
   ]
  },
  {
   "cell_type": "markdown",
   "metadata": {},
   "source": [
    "## b) use clean samples without replacement"
   ]
  },
  {
   "cell_type": "code",
   "execution_count": 27,
   "metadata": {},
   "outputs": [],
   "source": [
    "data1 = np.vstack([[np.mean(opt21[\"R1\"]), np.std(opt21[\"R1\"]),\n",
    "                    np.mean(opt21[\"R2\"]), np.std(opt21[\"R2\"]),\n",
    "                    np.mean(opt21[\"R3\"]), np.std(opt21[\"R3\"])],\n",
    "                   [np.mean(optk1[\"R1\"]), np.std(optk1[\"R1\"]),\n",
    "                    np.mean(optk1[\"R2\"]), np.std(optk1[\"R2\"]),\n",
    "                    np.mean(optk1[\"R3\"]), np.std(optk1[\"R3\"])],\n",
    "                   [np.mean(optka1[\"R1\"]), np.std(optka1[\"R1\"]),\n",
    "                    np.mean(optka1[\"R2\"]), np.std(optka1[\"R2\"]),\n",
    "                    np.mean(optka1[\"R3\"]), np.std(optka1[\"R3\"])],\n",
    "                   [np.mean(optopa1[\"R1\"]), np.std(optopa1[\"R1\"]),\n",
    "                    np.mean(optopa1[\"R2\"]), np.std(optopa1[\"R2\"]),\n",
    "                    np.mean(optopa1[\"R3\"]), np.std(optopa1[\"R3\"])]])\n",
    "\n",
    "data1 = data1.T"
   ]
  },
  {
   "cell_type": "code",
   "execution_count": 28,
   "metadata": {},
   "outputs": [
    {
     "data": {
      "text/html": [
       "<i>Table length=4</i>\n",
       "<table id=\"table112247579472\" class=\"table-striped table-bordered table-condensed\">\n",
       "<thead><tr><th>catalog</th><th>num_com</th><th>num_pick</th><th>R1_m</th><th>R1_std</th><th>R2_m</th><th>R2_std</th><th>R3_m</th><th>R3_std</th></tr></thead>\n",
       "<thead><tr><th>str8</th><th>int64</th><th>int64</th><th>float64</th><th>float64</th><th>float64</th><th>float64</th><th>float64</th><th>float64</th></tr></thead>\n",
       "<tr><td>ICRF2</td><td>3410</td><td>2275</td><td>$ -19$</td><td>6</td><td>$ +22$</td><td>5</td><td>$  +0$</td><td>4</td></tr>\n",
       "<tr><td>ICRF3K</td><td>793</td><td>530</td><td>$ -21$</td><td>8</td><td>$ -18$</td><td>8</td><td>$ -11$</td><td>6</td></tr>\n",
       "<tr><td>ICRF3Ka</td><td>638</td><td>425</td><td>$ -53$</td><td>19</td><td>$  -7$</td><td>19</td><td>$  +6$</td><td>10</td></tr>\n",
       "<tr><td>OPA2019a</td><td>4380</td><td>2920</td><td>$ +28$</td><td>2</td><td>$ -50$</td><td>2</td><td>$  -1$</td><td>1</td></tr>\n",
       "</table>"
      ],
      "text/plain": [
       "<Table length=4>\n",
       "catalog  num_com num_pick   R1_m   R1_std   R2_m   R2_std   R3_m   R3_std\n",
       "  str8    int64   int64   float64 float64 float64 float64 float64 float64\n",
       "-------- ------- -------- ------- ------- ------- ------- ------- -------\n",
       "   ICRF2    3410     2275  $ -19$       6  $ +22$       5  $  +0$       4\n",
       "  ICRF3K     793      530  $ -21$       8  $ -18$       8  $ -11$       6\n",
       " ICRF3Ka     638      425  $ -53$      19  $  -7$      19  $  +6$      10\n",
       "OPA2019a    4380     2920  $ +28$       2  $ -50$       2  $  -1$       1"
      ]
     },
     "execution_count": 28,
     "metadata": {},
     "output_type": "execute_result"
    }
   ],
   "source": [
    "tab1 = Table([cat, N_com, N_pick, *data1],\n",
    "             names=[\"catalog\", \"num_com\", \"num_pick\", \"R1_m\", \"R1_std\", \"R2_m\", \"R2_std\", \"R3_m\", \"R3_std\"])\n",
    "\n",
    "tab1[\"catalog\"].format = \"%8s\"\n",
    "\n",
    "tab1[\"R1_m\"].format = \"$%+4.0f$\"\n",
    "tab1[\"R2_m\"].format = \"$%+4.0f$\"\n",
    "tab1[\"R3_m\"].format = \"$%+4.0f$\"\n",
    "\n",
    "tab1[\"R1_std\"].format = \"%3.0f\"\n",
    "tab1[\"R2_std\"].format = \"%3.0f\"\n",
    "tab1[\"R3_std\"].format = \"%3.0f\"\n",
    "\n",
    "tab1"
   ]
  },
  {
   "cell_type": "code",
   "execution_count": 29,
   "metadata": {},
   "outputs": [],
   "source": [
    "tab1[\"R1_std\"].format = \"$\\pm$%3.0f\"\n",
    "tab1[\"R2_std\"].format = \"$\\pm$%3.0f\"\n",
    "tab1[\"R3_std\"].format = \"$\\pm$%3.0f\"\n",
    "\n",
    "tab1.write(\"../logs/icrf-orient-sta1.tex\", format=\"ascii.latex\", overwrite=True)"
   ]
  }
 ],
 "metadata": {
  "hide_input": false,
  "kernelspec": {
   "display_name": "Python 3",
   "language": "python",
   "name": "python3"
  },
  "language_info": {
   "codemirror_mode": {
    "name": "ipython",
    "version": 3
   },
   "file_extension": ".py",
   "mimetype": "text/x-python",
   "name": "python",
   "nbconvert_exporter": "python",
   "pygments_lexer": "ipython3",
   "version": "3.7.4"
  },
  "latex_envs": {
   "LaTeX_envs_menu_present": true,
   "autoclose": false,
   "autocomplete": true,
   "bibliofile": "biblio.bib",
   "cite_by": "apalike",
   "current_citInitial": 1,
   "eqLabelWithNumbers": true,
   "eqNumInitial": 1,
   "hotkeys": {
    "equation": "Ctrl-E",
    "itemize": "Ctrl-I"
   },
   "labels_anchors": false,
   "latex_user_defs": false,
   "report_style_numbering": false,
   "user_envs_cfg": false
  },
  "varInspector": {
   "cols": {
    "lenName": 16,
    "lenType": 16,
    "lenVar": 40
   },
   "kernels_config": {
    "python": {
     "delete_cmd_postfix": "",
     "delete_cmd_prefix": "del ",
     "library": "var_list.py",
     "varRefreshCmd": "print(var_dic_list())"
    },
    "r": {
     "delete_cmd_postfix": ") ",
     "delete_cmd_prefix": "rm(",
     "library": "var_list.r",
     "varRefreshCmd": "cat(var_dic_list()) "
    }
   },
   "types_to_exclude": [
    "module",
    "function",
    "builtin_function_or_method",
    "instance",
    "_Feature"
   ],
   "window_display": false
  }
 },
 "nbformat": 4,
 "nbformat_minor": 4
}
