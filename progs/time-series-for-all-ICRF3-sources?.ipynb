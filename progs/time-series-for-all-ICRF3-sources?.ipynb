{
 "cells": [
  {
   "cell_type": "markdown",
   "id": "blond-mouse",
   "metadata": {},
   "source": [
    "I checked if the coordinate time series are given all sources in the ICRF3 catalogs (S/X, K, and X/Ka band)."
   ]
  },
  {
   "cell_type": "code",
   "execution_count": 1,
   "id": "demonstrated-attack",
   "metadata": {
    "ExecuteTime": {
     "end_time": "2021-04-20T07:33:52.708990Z",
     "start_time": "2021-04-20T07:33:50.129016Z"
    }
   },
   "outputs": [],
   "source": [
    "import numpy as np\n",
    "\n",
    "from astropy.table import join, Table, vstack, unique\n",
    "import seaborn as sns\n",
    "from statsmodels.iolib.table import (SimpleTable, default_txt_fmt)\n",
    "\n",
    "from my_progs.catalog.read_icrf import read_icrf3"
   ]
  },
  {
   "cell_type": "markdown",
   "id": "acknowledged-capitol",
   "metadata": {},
   "source": [
    "The list of radio sources with coordinate time series."
   ]
  },
  {
   "cell_type": "code",
   "execution_count": 2,
   "id": "supposed-belize",
   "metadata": {
    "ExecuteTime": {
     "end_time": "2021-04-20T07:33:52.817005Z",
     "start_time": "2021-04-20T07:33:52.712088Z"
    }
   },
   "outputs": [],
   "source": [
    "ts_stats = Table.read(\"../logs/ts_stat_20210315.log\", format=\"ascii\")"
   ]
  },
  {
   "cell_type": "code",
   "execution_count": 3,
   "id": "worst-allocation",
   "metadata": {
    "ExecuteTime": {
     "end_time": "2021-04-20T07:33:53.333922Z",
     "start_time": "2021-04-20T07:33:52.819714Z"
    }
   },
   "outputs": [
    {
     "data": {
      "text/plain": [
       "<seaborn.axisgrid.FacetGrid at 0x7fc6e11e4d50>"
      ]
     },
     "execution_count": 3,
     "metadata": {},
     "output_type": "execute_result"
    },
    {
     "data": {
      "image/png": "[encoded data removed]",
      "text/plain": [
       "<Figure size 360x360 with 1 Axes>"
      ]
     },
     "metadata": {
      "needs_background": "light"
     },
     "output_type": "display_data"
    },
    {
     "data": {
      "image/png": "[encoded data removed]",
      "text/plain": [
       "<Figure size 360x360 with 1 Axes>"
      ]
     },
     "metadata": {
      "needs_background": "light"
     },
     "output_type": "display_data"
    }
   ],
   "source": [
    "tmp = ts_stats.to_pandas()\n",
    "sns.displot(tmp, x=\"num_ses\", bins=np.arange(0, 100, 5))\n",
    "sns.displot(tmp, x=\"obs_len\", bins=20)"
   ]
  },
  {
   "cell_type": "markdown",
   "id": "correct-photography",
   "metadata": {},
   "source": [
    "The ICRF3 catalogs."
   ]
  },
  {
   "cell_type": "code",
   "execution_count": 4,
   "id": "threaded-insurance",
   "metadata": {
    "ExecuteTime": {
     "end_time": "2021-04-20T07:33:55.182092Z",
     "start_time": "2021-04-20T07:33:53.335724Z"
    }
   },
   "outputs": [],
   "source": [
    "icrf3_sx = read_icrf3(wv=\"sx\")\n",
    "icrf3_k = read_icrf3(wv=\"k\")\n",
    "icrf3_xka = read_icrf3(wv=\"xka\")\n",
    "\n",
    "icrf3_sx.keep_columns([\"iers_name\", \"type\"])\n",
    "icrf3_k.keep_columns([\"iers_name\", \"type\"])\n",
    "icrf3_xka.keep_columns([\"iers_name\", \"type\"])"
   ]
  },
  {
   "cell_type": "code",
   "execution_count": 5,
   "id": "several-solution",
   "metadata": {
    "ExecuteTime": {
     "end_time": "2021-04-20T07:33:55.199852Z",
     "start_time": "2021-04-20T07:33:55.184300Z"
    }
   },
   "outputs": [],
   "source": [
    "icrf3 =vstack((icrf3_sx, icrf3_k))\n",
    "icrf3 = vstack((icrf3, icrf3_xka))\n",
    "\n",
    "icrf3 = unique(icrf3, keys=\"iers_name\")"
   ]
  },
  {
   "cell_type": "markdown",
   "id": "greater-vienna",
   "metadata": {},
   "source": [
    "Cross-match with the ICRF3 catalogs."
   ]
  },
  {
   "cell_type": "code",
   "execution_count": 6,
   "id": "declared-knight",
   "metadata": {
    "ExecuteTime": {
     "end_time": "2021-04-20T07:33:55.234254Z",
     "start_time": "2021-04-20T07:33:55.202242Z"
    }
   },
   "outputs": [],
   "source": [
    "sx_list = join(ts_stats, icrf3_sx)\n",
    "k_list = join(ts_stats, icrf3_k)\n",
    "xka_list = join(ts_stats, icrf3_xka)\n",
    "\n",
    "icrf3_list = join(ts_stats, icrf3)"
   ]
  },
  {
   "cell_type": "markdown",
   "id": "incomplete-overall",
   "metadata": {},
   "source": [
    "ICRF3 defining source list."
   ]
  },
  {
   "cell_type": "code",
   "execution_count": 7,
   "id": "saving-participant",
   "metadata": {
    "ExecuteTime": {
     "end_time": "2021-04-20T07:33:55.246016Z",
     "start_time": "2021-04-20T07:33:55.238122Z"
    }
   },
   "outputs": [],
   "source": [
    "mask = sx_list[\"type\"] == \"D\"\n",
    "sx_def = sx_list[mask]\n",
    "\n",
    "mask = k_list[\"type\"] == \"D\"\n",
    "k_def = k_list[mask]\n",
    "\n",
    "mask = xka_list[\"type\"] == \"D\"\n",
    "xka_def = xka_list[mask]\n",
    "\n",
    "mask = icrf3_list[\"type\"] == \"D\"\n",
    "icrf3_def = icrf3_list[mask]"
   ]
  },
  {
   "cell_type": "code",
   "execution_count": 8,
   "id": "above-arrangement",
   "metadata": {
    "ExecuteTime": {
     "end_time": "2021-04-20T07:33:55.251504Z",
     "start_time": "2021-04-20T07:33:55.248159Z"
    }
   },
   "outputs": [],
   "source": [
    "def simple_func(tab):\n",
    "    \"\"\"\n",
    "    \"\"\"\n",
    "    \n",
    "    N_all = len(tab)\n",
    "    mask = tab[\"num_ses\"] >= 5\n",
    "    \n",
    "    N_ge5 = len(tab[mask])\n",
    "    N_lt5 = N_all - N_ge5\n",
    "    \n",
    "    return N_all, N_ge5, N_lt5"
   ]
  },
  {
   "cell_type": "code",
   "execution_count": 9,
   "id": "sharp-joshua",
   "metadata": {
    "ExecuteTime": {
     "end_time": "2021-04-20T07:33:55.259588Z",
     "start_time": "2021-04-20T07:33:55.254167Z"
    }
   },
   "outputs": [],
   "source": [
    "N0, N1, N2 = simple_func(ts_stats)\n",
    "N_0, N_1, N_2 = simple_func(icrf3_list)\n",
    "\n",
    "N_not0 = N0 - N_0\n",
    "N_not1 = N1 - N_1\n",
    "N_not2 = N2 - N_2\n",
    "\n",
    "N_def0, N_def1, N_def2 = simple_func(icrf3_def)\n",
    "\n",
    "N_oth0 = N_0 - N_def0\n",
    "N_oth1 = N_1 - N_def1\n",
    "N_oth2 = N_2 - N_def2"
   ]
  },
  {
   "cell_type": "code",
   "execution_count": 10,
   "id": "joint-rolling",
   "metadata": {
    "ExecuteTime": {
     "end_time": "2021-04-20T07:33:55.266829Z",
     "start_time": "2021-04-20T07:33:55.261052Z"
    }
   },
   "outputs": [],
   "source": [
    "N_sx0, N_sx1, N_sx2 = simple_func(sx_list)\n",
    "\n",
    "N_sx_not0 = N0 - N_sx0\n",
    "N_sx_not1 = N1 - N_sx1\n",
    "N_sx_not2 = N2 - N_sx2\n",
    "\n",
    "N_sx_def0, N_sx_def1, N_sx_def2 = simple_func(sx_list)\n",
    "\n",
    "N_sx_oth0 = N_sx0 - N_sx_def0\n",
    "N_sx_oth1 = N_sx1 - N_sx_def1\n",
    "N_sx_oth2 = N_sx2 - N_sx_def2"
   ]
  },
  {
   "cell_type": "code",
   "execution_count": 11,
   "id": "functioning-sleeve",
   "metadata": {
    "ExecuteTime": {
     "end_time": "2021-04-20T07:33:55.274422Z",
     "start_time": "2021-04-20T07:33:55.268851Z"
    }
   },
   "outputs": [],
   "source": [
    "N_k0, N_k1, N_k2 = simple_func(k_list)\n",
    "\n",
    "N_k_not0 = N0 - N_k0\n",
    "N_k_not1 = N1 - N_k1\n",
    "N_k_not2 = N2 - N_k2\n",
    "\n",
    "N_k_def0, N_k_def1, N_k_def2 = simple_func(k_list)\n",
    "\n",
    "N_k_oth0 = N_k0 - N_k_def0\n",
    "N_k_oth1 = N_k1 - N_k_def1\n",
    "N_k_oth2 = N_k2 - N_k_def2"
   ]
  },
  {
   "cell_type": "code",
   "execution_count": 12,
   "id": "overall-tactics",
   "metadata": {
    "ExecuteTime": {
     "end_time": "2021-04-20T07:33:55.285033Z",
     "start_time": "2021-04-20T07:33:55.276847Z"
    }
   },
   "outputs": [],
   "source": [
    "N0, N1, N2 = simple_func(ts_stats)\n",
    "N_xka0, N_xka1, N_xka2 = simple_func(xka_list)\n",
    "\n",
    "N_xka_not0 = N0 - N_xka0\n",
    "N_xka_not1 = N1 - N_xka1\n",
    "N_xka_not2 = N2 - N_xka2\n",
    "\n",
    "N_xka_def0, N_xka_def1, N_xka_def2 = simple_func(xka_list)\n",
    "\n",
    "N_xka_oth0 = N_xka0 - N_xka_def0\n",
    "N_xka_oth1 = N_xka1 - N_xka_def1\n",
    "N_xka_oth2 = N_xka2 - N_xka_def2"
   ]
  },
  {
   "cell_type": "code",
   "execution_count": 13,
   "id": "engaging-allowance",
   "metadata": {
    "ExecuteTime": {
     "end_time": "2021-04-20T07:33:55.301308Z",
     "start_time": "2021-04-20T07:33:55.287277Z"
    }
   },
   "outputs": [
    {
     "name": "stdout",
     "output_type": "stream",
     "text": [
      "=================================\n",
      "          All  N_sess>=5 N_sess<5\n",
      "---------------------------------\n",
      "All       4879      1404     3475\n",
      "ICRF3-Com 4538      1401     3137\n",
      "ICRF3-Not  341         3      338\n",
      "ICRF3-Def  303       301        2\n",
      "ICRF3-Oth 4235      1100     3135\n",
      "SX-Com    4520      1401     3119\n",
      "SX-Not     359         3      356\n",
      "SX-Def    4520      1401     3119\n",
      "SX-Oth       0         0        0\n",
      "K-Com      806       592      214\n",
      "K-Not     4073       812     3261\n",
      "K-Def      806       592      214\n",
      "K-Oth        0         0        0\n",
      "XKa-Com    646       524      122\n",
      "XKa-Not   4233       880     3353\n",
      "XKa-Def    646       524      122\n",
      "XKa-Oth      0         0        0\n",
      "---------------------------------\n",
      "Com for common, Not for not included in this catalog, Def for ICRF3 defining sources, and Oth for other\n",
      "Source in the ICRF3 catlogs but not given the time series:\n",
      "SX : 16\n",
      "K  : 18\n",
      "XKa: 32\n",
      "All: 50\n"
     ]
    }
   ],
   "source": [
    "se = np.vstack([[N0, N1, N2],\n",
    "                [N_0, N_1, N_2],\n",
    "                [N_not0, N_not1, N_not2],\n",
    "                [N_def0, N_def1, N_def2],\n",
    "                [N_oth0, N_oth1, N_oth2],\n",
    "                [N_sx0, N_sx1, N_sx2],\n",
    "                [N_sx_not0, N_sx_not1, N_sx_not2],\n",
    "                [N_sx_def0, N_sx_def1, N_sx_def2],\n",
    "                [N_sx_oth0, N_sx_oth1, N_sx_oth2],\n",
    "                [N_k0, N_k1, N_k2],\n",
    "                [N_k_not0, N_k_not1, N_k_not2],\n",
    "                [N_k_def0, N_k_def1, N_k_def2],\n",
    "                [N_k_oth0, N_k_oth1, N_k_oth2],\n",
    "                [N_xka0, N_xka1, N_xka2],\n",
    "                [N_xka_not0, N_xka_not1, N_xka_not2],\n",
    "                [N_xka_def0, N_xka_def1, N_xka_def2],\n",
    "                [N_xka_oth0, N_xka_oth1, N_xka_oth2]])\n",
    "\n",
    "\n",
    "colnames = [\"All\", \"N_sess>=5\", \"N_sess<5\"]\n",
    "rownames = [\"All\",\n",
    "            \"ICRF3-Com\", \"ICRF3-Not\", \"ICRF3-Def\", \"ICRF3-Oth\",\n",
    "            \"SX-Com\", \"SX-Not\", \"SX-Def\", \"SX-Oth\",\n",
    "            \"K-Com\", \"K-Not\", \"K-Def\", \"K-Oth\",\n",
    "            \"XKa-Com\", \"XKa-Not\", \"XKa-Def\", \"XKa-Oth\"]\n",
    "\n",
    "\n",
    "\n",
    "tabl = SimpleTable(se, colnames, rownames, txt_fmt=default_txt_fmt)\n",
    "print(tabl)\n",
    "print(\"Com for common, Not for not included in this catalog, Def for ICRF3 defining sources, and Oth for other\")\n",
    "\n",
    "print(\"Source in the ICRF3 catlogs but not given the time series:\")\n",
    "print(\"SX :\", len(icrf3_sx)-len(sx_list))\n",
    "print(\"K  :\", len(icrf3_k)-len(k_list))\n",
    "print(\"XKa:\", len(icrf3_xka)-len(xka_list))\n",
    "print(\"All:\", len(icrf3)-len(icrf3_list))"
   ]
  },
  {
   "cell_type": "markdown",
   "id": "particular-voltage",
   "metadata": {},
   "source": [
    "Create a list of sources with $N_{sess}>5$."
   ]
  },
  {
   "cell_type": "code",
   "execution_count": 20,
   "id": "german-brand",
   "metadata": {
    "ExecuteTime": {
     "end_time": "2021-04-20T07:34:23.463193Z",
     "start_time": "2021-04-20T07:34:23.449161Z"
    }
   },
   "outputs": [],
   "source": [
    "mask = ts_stats[\"num_ses\"] >= 5\n",
    "new_tab = ts_stats[mask]\n",
    "\n",
    "new_tab.write(\"../data/sou_#ses_gt_5.list\",\n",
    "              format=\"ascii\",\n",
    "              include_names=[\"iers_name\"],\n",
    "              overwrite=True)"
   ]
  }
 ],
 "metadata": {
  "hide_input": false,
  "kernelspec": {
   "display_name": "Python 3",
   "language": "python",
   "name": "python3"
  },
  "language_info": {
   "codemirror_mode": {
    "name": "ipython",
    "version": 3
   },
   "file_extension": ".py",
   "mimetype": "text/x-python",
   "name": "python",
   "nbconvert_exporter": "python",
   "pygments_lexer": "ipython3",
   "version": "3.7.10"
  }
 },
 "nbformat": 4,
 "nbformat_minor": 5
}
