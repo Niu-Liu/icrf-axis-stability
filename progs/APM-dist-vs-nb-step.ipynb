{
 "cells": [
  {
   "cell_type": "markdown",
   "id": "3cb241f7",
   "metadata": {},
   "source": [
    "I compare the distribution of APM determined from solutions with different steps, to see if the number of steps used to generate the time series solution affects the distribution of APM."
   ]
  },
  {
   "cell_type": "code",
   "execution_count": 1,
   "id": "7b7f303f",
   "metadata": {
    "ExecuteTime": {
     "end_time": "2021-10-28T01:26:01.266477Z",
     "start_time": "2021-10-28T01:25:59.869240Z"
    }
   },
   "outputs": [],
   "source": [
    "import matplotlib.pyplot as plt\n",
    "import numpy as np\n",
    "from astropy.table import Table, join"
   ]
  },
  {
   "cell_type": "markdown",
   "id": "1f9a0b73",
   "metadata": {},
   "source": [
    "A function to process the table."
   ]
  },
  {
   "cell_type": "code",
   "execution_count": 2,
   "id": "ce90c497",
   "metadata": {
    "ExecuteTime": {
     "end_time": "2021-10-28T01:26:01.271966Z",
     "start_time": "2021-10-28T01:26:01.267901Z"
    }
   },
   "outputs": [],
   "source": [
    "def parse_apm_table(apm_tab, icrf3_def):\n",
    "    \n",
    "    mask = apm_tab[\"num_cln\"] >= 5\n",
    "    apm_tab = apm_tab[mask]\n",
    "\n",
    "    # convert mas/yr into muas/yr\n",
    "    apm_tab[\"pmra\"] = apm_tab[\"pmra\"] * 1e3\n",
    "    apm_tab[\"pmra_err\"] = apm_tab[\"pmra_err\"] * 1e3\n",
    "    apm_tab[\"pmdec\"] = apm_tab[\"pmdec\"] * 1e3\n",
    "    apm_tab[\"pmdec_err\"] = apm_tab[\"pmdec_err\"] * 1e3\n",
    "    \n",
    "    apm_def = join(icrf3_def, apm_tab, keys=\"iers_name\")\n",
    "    \n",
    "    return apm_tab, apm_def"
   ]
  },
  {
   "cell_type": "markdown",
   "id": "62685454",
   "metadata": {},
   "source": [
    "ICRF3 defining source list"
   ]
  },
  {
   "cell_type": "code",
   "execution_count": 3,
   "id": "013bbf98",
   "metadata": {
    "ExecuteTime": {
     "end_time": "2021-10-28T01:26:01.298277Z",
     "start_time": "2021-10-28T01:26:01.275566Z"
    }
   },
   "outputs": [],
   "source": [
    "icrf3_def = Table.read(\"../data/icrf3sx-def-sou.txt\", format=\"ascii\")"
   ]
  },
  {
   "cell_type": "code",
   "execution_count": 4,
   "id": "f1a5d273",
   "metadata": {
    "ExecuteTime": {
     "end_time": "2021-10-28T01:26:01.362523Z",
     "start_time": "2021-10-28T01:26:01.300363Z"
    }
   },
   "outputs": [],
   "source": [
    "apm_tab4 = Table.read(\"../data/ts_nju_pm_fit_3sigma.dat\", format=\"ascii.csv\")\n",
    "apm_tab8 = Table.read(\"../data/ts_nju_pm_fit_3sigma-8step.dat\", format=\"ascii.csv\")\n",
    "apm_tab10 = Table.read(\"../data/ts_nju_pm_fit_3sigma-10step.dat\", format=\"ascii.csv\")\n",
    "apm_tab20 = Table.read(\"../data/ts_nju_pm_fit_3sigma-20step.dat\", format=\"ascii.csv\")"
   ]
  },
  {
   "cell_type": "code",
   "execution_count": 5,
   "id": "99645943",
   "metadata": {
    "ExecuteTime": {
     "end_time": "2021-10-28T01:26:01.397774Z",
     "start_time": "2021-10-28T01:26:01.363824Z"
    }
   },
   "outputs": [],
   "source": [
    "apm_tab4, apm_def4 = parse_apm_table(apm_tab4, icrf3_def)\n",
    "apm_tab8, apm_def8 = parse_apm_table(apm_tab8, icrf3_def)\n",
    "apm_tab10, apm_def10 = parse_apm_table(apm_tab10, icrf3_def)\n",
    "apm_tab20, apm_def20 = parse_apm_table(apm_tab20, icrf3_def)"
   ]
  },
  {
   "cell_type": "code",
   "execution_count": 6,
   "id": "42721bea",
   "metadata": {
    "ExecuteTime": {
     "end_time": "2021-10-28T01:26:01.402455Z",
     "start_time": "2021-10-28T01:26:01.399599Z"
    }
   },
   "outputs": [],
   "source": [
    "bin_array = np.arange(-100, 100, 5)\n",
    "color = \"grey\""
   ]
  },
  {
   "cell_type": "code",
   "execution_count": 7,
   "id": "3b8d0c84",
   "metadata": {
    "ExecuteTime": {
     "end_time": "2021-10-28T01:26:02.440971Z",
     "start_time": "2021-10-28T01:26:01.405172Z"
    }
   },
   "outputs": [
    {
     "data": {
      "image/png": "[encoded data removed]",
      "text/plain": [
       "<Figure size 576x576 with 4 Axes>"
      ]
     },
     "metadata": {
      "needs_background": "light"
     },
     "output_type": "display_data"
    }
   ],
   "source": [
    "fig, (ax0, ax1, ax2, ax3) = plt.subplots(figsize=(8, 8),\n",
    "                                         nrows=4,\n",
    "                                         sharex=True,\n",
    "                                         sharey=True)\n",
    "\n",
    "ax0.hist(apm_tab4[\"pmra\"],\n",
    "         bins=bin_array,\n",
    "         color=color,\n",
    "         fill=False,\n",
    "         label=\"All\")\n",
    "ax0.hist(apm_def4[\"pmra\"], bins=bin_array, color=color, label=\"Defining\")\n",
    "\n",
    "ax1.hist(apm_tab8[\"pmra\"],\n",
    "         bins=bin_array,\n",
    "         color=color,\n",
    "         fill=False,\n",
    "         label=\"All\")\n",
    "ax1.hist(apm_def8[\"pmra\"], bins=bin_array, color=color, label=\"Defining\")\n",
    "\n",
    "ax2.hist(apm_tab10[\"pmra\"],\n",
    "         bins=bin_array,\n",
    "         color=color,\n",
    "         fill=False,\n",
    "         label=\"All\")\n",
    "ax2.hist(apm_def10[\"pmra\"], bins=bin_array, color=color, label=\"Defining\")\n",
    "\n",
    "ax3.hist(apm_tab20[\"pmra\"],\n",
    "         bins=bin_array,\n",
    "         color=color,\n",
    "         fill=False,\n",
    "         label=\"All\")\n",
    "ax3.hist(apm_def20[\"pmra\"], bins=bin_array, color=color, label=\"Defining\")\n",
    "\n",
    "ax3.set_xlabel(\"$\\\\mu_{\\\\alpha*}$ (mas/yr)\", fontsize=15)\n",
    "\n",
    "ax0.set_ylabel(\" 4-Step\", color=color, fontsize=15)\n",
    "ax1.set_ylabel(\" 8-Step\", color=color, fontsize=15)\n",
    "ax2.set_ylabel(\"10-Step\", color=color, fontsize=15)\n",
    "ax3.set_ylabel(\"20-Step\", color=color, fontsize=15)\n",
    "\n",
    "ax3.axis([-100, 100, 0, 400])\n",
    "ax0.legend(loc=\"upper left\")\n",
    "\n",
    "plt.tight_layout()"
   ]
  },
  {
   "cell_type": "code",
   "execution_count": 8,
   "id": "04a0b750",
   "metadata": {
    "ExecuteTime": {
     "end_time": "2021-10-28T01:26:03.163651Z",
     "start_time": "2021-10-28T01:26:02.442904Z"
    }
   },
   "outputs": [
    {
     "data": {
      "image/png": "[encoded data removed]",
      "text/plain": [
       "<Figure size 576x576 with 4 Axes>"
      ]
     },
     "metadata": {
      "needs_background": "light"
     },
     "output_type": "display_data"
    }
   ],
   "source": [
    "fig, (ax0, ax1, ax2, ax3) = plt.subplots(figsize=(8, 8),\n",
    "                                         nrows=4,\n",
    "                                         sharex=True,\n",
    "                                         sharey=True)\n",
    "\n",
    "ax0.hist(apm_tab4[\"pmdec\"],\n",
    "         bins=bin_array,\n",
    "         color=color,\n",
    "         fill=False,\n",
    "         label=\"All\")\n",
    "ax0.hist(apm_def4[\"pmdec\"], bins=bin_array, color=color, label=\"Defining\")\n",
    "\n",
    "ax1.hist(apm_tab8[\"pmdec\"],\n",
    "         bins=bin_array,\n",
    "         color=color,\n",
    "         fill=False,\n",
    "         label=\"All\")\n",
    "ax1.hist(apm_def8[\"pmdec\"], bins=bin_array, color=color, label=\"Defining\")\n",
    "\n",
    "ax2.hist(apm_tab10[\"pmdec\"],\n",
    "         bins=bin_array,\n",
    "         color=color,\n",
    "         fill=False,\n",
    "         label=\"All\")\n",
    "ax2.hist(apm_def10[\"pmdec\"], bins=bin_array, color=color, label=\"Defining\")\n",
    "\n",
    "ax3.hist(apm_tab20[\"pmdec\"],\n",
    "         bins=bin_array,\n",
    "         color=color,\n",
    "         fill=False,\n",
    "         label=\"All\")\n",
    "ax3.hist(apm_def20[\"pmdec\"], bins=bin_array, color=color, label=\"Defining\")\n",
    "\n",
    "ax3.set_xlabel(\"$\\\\mu_{\\\\delta}$ (mas/yr)\", fontsize=15)\n",
    "\n",
    "ax0.set_ylabel(\" 4-Step\", color=color, fontsize=15)\n",
    "ax1.set_ylabel(\" 8-Step\", color=color, fontsize=15)\n",
    "ax2.set_ylabel(\"10-Step\", color=color, fontsize=15)\n",
    "ax3.set_ylabel(\"20-Step\", color=color, fontsize=15)\n",
    "\n",
    "ax3.axis([-100, 100, 0, 400])\n",
    "ax0.legend(loc=\"upper left\")\n",
    "\n",
    "plt.tight_layout()"
   ]
  },
  {
   "cell_type": "markdown",
   "id": "deec24ee",
   "metadata": {},
   "source": [
    "Now I will give some statistics for these apparent proper motion."
   ]
  },
  {
   "cell_type": "code",
   "execution_count": 9,
   "id": "5adfcb08",
   "metadata": {
    "ExecuteTime": {
     "end_time": "2021-10-28T01:26:03.171790Z",
     "start_time": "2021-10-28T01:26:03.168592Z"
    }
   },
   "outputs": [],
   "source": [
    "per = [0, 5, 10, 25, 50, 75, 90, 95, 100] \n",
    "line_fmt1 = \" {:7d}\" * len(per)\n",
    "\n",
    "line_fmt2 = \" {:7.1f}\" * len(per)"
   ]
  },
  {
   "cell_type": "markdown",
   "id": "68dea2fb",
   "metadata": {},
   "source": [
    "For the right ascension component $\\mu_{\\alpha^*}$, the percentiles are give by an array of $Q_n$_ra."
   ]
  },
  {
   "cell_type": "code",
   "execution_count": 10,
   "id": "5a4c0a95",
   "metadata": {
    "ExecuteTime": {
     "end_time": "2021-10-28T01:26:03.178994Z",
     "start_time": "2021-10-28T01:26:03.173657Z"
    }
   },
   "outputs": [],
   "source": [
    "Q4_ra = np.percentile(apm_tab4[\"pmra\"], per)\n",
    "Q8_ra = np.percentile(apm_tab8[\"pmra\"], per)\n",
    "Q10_ra = np.percentile(apm_tab10[\"pmra\"], per)\n",
    "Q20_ra = np.percentile(apm_tab20[\"pmra\"], per)"
   ]
  },
  {
   "cell_type": "markdown",
   "id": "da5bc5e2",
   "metadata": {},
   "source": [
    "Let's do the same for the declination component $\\mu_\\delta$"
   ]
  },
  {
   "cell_type": "code",
   "execution_count": 11,
   "id": "27f5c1bd",
   "metadata": {
    "ExecuteTime": {
     "end_time": "2021-10-28T01:26:03.186357Z",
     "start_time": "2021-10-28T01:26:03.180419Z"
    }
   },
   "outputs": [],
   "source": [
    "Q4_dec = np.percentile(apm_tab4[\"pmdec\"], per)\n",
    "Q8_dec = np.percentile(apm_tab8[\"pmdec\"], per)\n",
    "Q10_dec = np.percentile(apm_tab10[\"pmdec\"], per)\n",
    "Q20_dec = np.percentile(apm_tab20[\"pmdec\"], per)"
   ]
  },
  {
   "cell_type": "markdown",
   "id": "a939ac87",
   "metadata": {},
   "source": [
    "Print the statistics."
   ]
  },
  {
   "cell_type": "code",
   "execution_count": 12,
   "id": "cf614f19",
   "metadata": {
    "ExecuteTime": {
     "end_time": "2021-10-28T01:26:03.195826Z",
     "start_time": "2021-10-28T01:26:03.188482Z"
    }
   },
   "outputs": [
    {
     "name": "stdout",
     "output_type": "stream",
     "text": [
      "Apparent Proper Motion (muas/yr)\n",
      "(%)                 0       5      10      25      50      75      90      95     100\n",
      "-------------------------------------------------------------------------------------\n",
      "R.A. \n",
      " 4-step sol   -7301.4  -119.1   -59.9   -16.3    -0.2    14.7    56.4   110.5  9921.4\n",
      " 8-step sol   -7336.2  -115.2   -58.9   -17.1    -0.3    14.5    57.1   112.4  9911.6\n",
      "10-step sol   -7327.9  -117.0   -58.7   -15.9    -0.4    14.8    55.4   115.5  9909.6\n",
      "20-step sol   -7329.5  -113.0   -58.0   -16.1    -0.2    14.3    55.0   111.6  9907.0\n",
      "-------------------------------------------------------------------------------------\n",
      "Dec. \n",
      " 4-step sol   -13855.4  -187.7   -96.5   -25.5     0.1    29.0    99.9   200.4 15678.8\n",
      " 8-step sol   -13852.2  -198.7   -97.1   -24.6     0.5    29.7   100.6   196.6 16001.7\n",
      "10-step sol   -13987.2  -185.7   -96.0   -25.5     0.3    28.8   103.9   200.3 15861.2\n",
      "20-step sol   -13978.0  -184.9   -97.5   -25.2     0.4    28.9   100.7   196.2 15991.9\n",
      "-------------------------------------------------------------------------------------\n"
     ]
    }
   ],
   "source": [
    "print(\"Apparent Proper Motion (muas/yr)\")\n",
    "print(\"(%)         \", line_fmt1.format(*per))\n",
    "\n",
    "print(\"---------------------------------------\"\n",
    "      \"----------------------------------------------\")\n",
    "print(\"R.A. \")\n",
    "print(\" 4-step sol \", line_fmt2.format(*Q4_ra))\n",
    "print(\" 8-step sol \", line_fmt2.format(*Q8_ra))\n",
    "print(\"10-step sol \", line_fmt2.format(*Q10_ra))\n",
    "print(\"20-step sol \", line_fmt2.format(*Q20_ra))\n",
    "\n",
    "print(\"---------------------------------------\"\n",
    "      \"----------------------------------------------\")\n",
    "print(\"Dec. \")\n",
    "print(\" 4-step sol \", line_fmt2.format(*Q4_dec))\n",
    "print(\" 8-step sol \", line_fmt2.format(*Q8_dec))\n",
    "print(\"10-step sol \", line_fmt2.format(*Q10_dec))\n",
    "print(\"20-step sol \", line_fmt2.format(*Q20_dec))\n",
    "\n",
    "print(\"---------------------------------------\"\n",
    "      \"----------------------------------------------\")"
   ]
  },
  {
   "cell_type": "markdown",
   "id": "8fb62763",
   "metadata": {},
   "source": [
    "Another thing I would like to know is that how many sources with an apparent proper motion smaller than $\\mathrm{30\\,\\mu as\\,yr^{-1}}$ in an absolute sense there are in the sample."
   ]
  },
  {
   "cell_type": "code",
   "execution_count": 13,
   "id": "fcb94e5e",
   "metadata": {
    "ExecuteTime": {
     "end_time": "2021-10-28T01:26:03.199723Z",
     "start_time": "2021-10-28T01:26:03.197157Z"
    }
   },
   "outputs": [],
   "source": [
    "lim = 30"
   ]
  },
  {
   "cell_type": "markdown",
   "id": "50c5d0f6",
   "metadata": {},
   "source": [
    "Calculate the fraction."
   ]
  },
  {
   "cell_type": "code",
   "execution_count": 14,
   "id": "a2d289ed",
   "metadata": {
    "ExecuteTime": {
     "end_time": "2021-10-28T01:26:03.205411Z",
     "start_time": "2021-10-28T01:26:03.201870Z"
    }
   },
   "outputs": [],
   "source": [
    "def calc_frac(apm_tab, key, lim):\n",
    "    \n",
    "    mask = (np.fabs(apm_tab[key]) < lim)\n",
    "    frac = len(apm_tab[mask])/len(apm_tab)*100\n",
    "    \n",
    "    return frac"
   ]
  },
  {
   "cell_type": "code",
   "execution_count": 15,
   "id": "ca7c9044",
   "metadata": {
    "ExecuteTime": {
     "end_time": "2021-10-28T01:26:03.225304Z",
     "start_time": "2021-10-28T01:26:03.208240Z"
    }
   },
   "outputs": [],
   "source": [
    "frac4_ra = calc_frac(apm_tab4, \"pmra\", lim)\n",
    "frac8_ra = calc_frac(apm_tab8, \"pmra\", lim)\n",
    "frac10_ra = calc_frac(apm_tab10, \"pmra\", lim)\n",
    "frac20_ra = calc_frac(apm_tab20, \"pmra\", lim)\n",
    "\n",
    "frac4_dec = calc_frac(apm_tab4, \"pmdec\", lim)\n",
    "frac8_dec = calc_frac(apm_tab8, \"pmdec\", lim)\n",
    "frac10_dec = calc_frac(apm_tab10, \"pmdec\", lim)\n",
    "frac20_dec = calc_frac(apm_tab20, \"pmdec\", lim)"
   ]
  },
  {
   "cell_type": "code",
   "execution_count": 16,
   "id": "863fe559",
   "metadata": {
    "ExecuteTime": {
     "end_time": "2021-10-28T01:26:03.232763Z",
     "start_time": "2021-10-28T01:26:03.227003Z"
    }
   },
   "outputs": [
    {
     "name": "stdout",
     "output_type": "stream",
     "text": [
      "Fraction of sources with the APM in the range of [-30, 30]\n",
      "Solution        %\n",
      "-------------------------------------------------------------------------------------\n",
      "R.A. \n",
      " 4-step sol   66.31\n",
      " 8-step sol   65.95\n",
      "10-step sol   66.05\n",
      "20-step sol   66.69\n",
      "-------------------------------------------------------------------------------------\n",
      "Dec. \n",
      " 4-step sol   52.04\n",
      " 8-step sol   52.34\n",
      "10-step sol   52.57\n",
      "20-step sol   52.50\n",
      "-------------------------------------------------------------------------------------\n"
     ]
    }
   ],
   "source": [
    "print(\"Fraction of sources with the APM in the range of [-{:2d}, {:2d}]\".format(lim, lim))\n",
    "print(\"Solution        %\")\n",
    "\n",
    "print(\"---------------------------------------\"\n",
    "      \"----------------------------------------------\")\n",
    "print(\"R.A. \")\n",
    "print(\" 4-step sol   {:.2f}\".format(frac4_ra))\n",
    "print(\" 8-step sol   {:.2f}\".format(frac8_ra))\n",
    "print(\"10-step sol   {:.2f}\".format(frac10_ra))\n",
    "print(\"20-step sol   {:.2f}\".format(frac20_ra))\n",
    "\n",
    "print(\"---------------------------------------\"\n",
    "      \"----------------------------------------------\")\n",
    "print(\"Dec. \")\n",
    "print(\" 4-step sol   {:.2f}\".format(frac4_dec))\n",
    "print(\" 8-step sol   {:.2f}\".format(frac8_dec))\n",
    "print(\"10-step sol   {:.2f}\".format(frac10_dec))\n",
    "print(\"20-step sol   {:.2f}\".format(frac20_dec))\n",
    "\n",
    "print(\"---------------------------------------\"\n",
    "      \"----------------------------------------------\")"
   ]
  },
  {
   "cell_type": "markdown",
   "id": "2dfd0d7d",
   "metadata": {},
   "source": [
    "I then calculate the `mean`, `median`, and `standard deviation` for these data sets."
   ]
  },
  {
   "cell_type": "code",
   "execution_count": 17,
   "id": "0694e891",
   "metadata": {
    "ExecuteTime": {
     "end_time": "2021-10-28T01:26:03.241810Z",
     "start_time": "2021-10-28T01:26:03.235151Z"
    }
   },
   "outputs": [],
   "source": [
    "def simple_apm_stats(apm_tab, apm_def):\n",
    "\n",
    "    # For all sources\n",
    "    num_all = len(apm_tab)\n",
    "    mean_pmra_all = np.mean(apm_tab[\"pmra\"])\n",
    "    median_pmra_all = np.median(apm_tab[\"pmra\"])\n",
    "    std_pmra_all = np.std(apm_tab[\"pmra\"])\n",
    "\n",
    "    mean_pmdec_all = np.mean(apm_tab[\"pmdec\"])\n",
    "    median_pmdec_all = np.median(apm_tab[\"pmdec\"])\n",
    "    std_pmdec_all = np.std(apm_tab[\"pmdec\"])\n",
    "\n",
    "    # For defining sources only\n",
    "    num_def = len(apm_def)\n",
    "    mean_pmra_def = np.mean(apm_def[\"pmra\"])\n",
    "    median_pmra_def = np.median(apm_def[\"pmra\"])\n",
    "    std_pmra_def = np.std(apm_def[\"pmra\"])\n",
    "\n",
    "    mean_pmdec_def = np.mean(apm_def[\"pmdec\"])\n",
    "    median_pmdec_def = np.median(apm_def[\"pmdec\"])\n",
    "    std_pmdec_def = np.std(apm_def[\"pmdec\"])\n",
    "\n",
    "    # Format the output\n",
    "    line_format = \"{:5d}  {:6.2f}  {:6.2f}  {:6.2f} \"\n",
    "\n",
    "    line_ra_all = line_format.format(\n",
    "        num_all, mean_pmra_all, median_pmra_all, std_pmra_all)\n",
    "    line_dec_all = line_format.format(\n",
    "        num_all, mean_pmdec_all, median_pmdec_all, std_pmdec_all)\n",
    "    line_ra_def = line_format.format(\n",
    "        num_def, mean_pmra_def, median_pmra_def, std_pmra_def)\n",
    "    line_dec_def = line_format.format(\n",
    "        num_def, mean_pmdec_def, median_pmdec_def, std_pmdec_def)\n",
    "\n",
    "    line_ra = line_ra_all + line_ra_def\n",
    "    line_dec = line_dec_all + line_dec_def\n",
    "\n",
    "    return line_ra, line_dec"
   ]
  },
  {
   "cell_type": "code",
   "execution_count": 18,
   "id": "ae02d4ff",
   "metadata": {
    "ExecuteTime": {
     "end_time": "2021-10-28T01:26:03.274434Z",
     "start_time": "2021-10-28T01:26:03.244200Z"
    }
   },
   "outputs": [
    {
     "name": "stderr",
     "output_type": "stream",
     "text": [
      "/Users/Neo/scisoft/opt64/lib/python3.9/site-packages/numpy/core/fromnumeric.py:755: UserWarning: Warning: 'partition' will ignore the 'mask' of the MaskedColumn.\n",
      "  a.partition(kth, axis=axis, kind=kind, order=order)\n"
     ]
    }
   ],
   "source": [
    "line4_ra, line4_dec = simple_apm_stats(apm_tab4, apm_def4)\n",
    "line8_ra, line8_dec = simple_apm_stats(apm_tab8, apm_def8)\n",
    "line10_ra, line10_dec = simple_apm_stats(apm_tab10, apm_def10)\n",
    "line20_ra, line20_dec = simple_apm_stats(apm_tab20, apm_def20)"
   ]
  },
  {
   "cell_type": "code",
   "execution_count": 19,
   "id": "bb0ed8a7",
   "metadata": {
    "ExecuteTime": {
     "end_time": "2021-10-28T01:26:03.284026Z",
     "start_time": "2021-10-28T01:26:03.276872Z"
    }
   },
   "outputs": [
    {
     "name": "stdout",
     "output_type": "stream",
     "text": [
      "====================================================================================\n",
      "                        All                    ICRF3 defining\n",
      "             ---------------------------   ---------------------------\n",
      "Solution     Nb_sou  Mean  Median  Std     Nb_sou  Mean  Median  Std\n",
      "R.A.\n",
      " 4-step sol  3013   -0.54   -0.25  288.33   299    0.38    0.30   20.31 \n",
      " 8-step sol  3013   -0.51   -0.31  287.16   299    0.52    0.06   19.26 \n",
      "10-step sol  3034   -0.29   -0.35  286.88   299   -0.75   -0.57   21.34 \n",
      "20-step sol  3038   -0.55   -0.23  286.13   299    0.56   -0.22   19.20 \n",
      "-------------------------------------------------------------------------------------\n",
      "Dec. \n",
      " 4-step sol  3013   -1.29    0.14  502.22   299   -2.57   -0.46   40.74 \n",
      " 8-step sol  3013   -2.02    0.47  504.74   299   -4.41   -0.57   33.95 \n",
      "10-step sol  3034   -1.17    0.27  502.32   299   -6.28   -0.33   53.80 \n",
      "20-step sol  3038   -1.85    0.39  502.89   299   -3.12   -0.59   30.15 \n",
      "-------------------------------------------------------------------------------------\n",
      "Unit: muas/yr\n"
     ]
    }
   ],
   "source": [
    "print(\"========================================\"\n",
    "      \"============================================\")\n",
    "print(\"                        All                    ICRF3 defining\")\n",
    "print(\"             ---------------------------   ---------------------------\")\n",
    "print(\"Solution     Nb_sou  Mean  Median  Std     Nb_sou  Mean  Median  Std\")\n",
    "print(\"R.A.\")\n",
    "print(\" 4-step sol {:s}\".format(line4_ra))\n",
    "print(\" 8-step sol {:s}\".format(line8_ra))\n",
    "print(\"10-step sol {:s}\".format(line10_ra))\n",
    "print(\"20-step sol {:s}\".format(line20_ra))\n",
    "\n",
    "print(\"---------------------------------------\"\n",
    "      \"----------------------------------------------\")\n",
    "print(\"Dec. \")\n",
    "print(\" 4-step sol {:s}\".format(line4_dec))\n",
    "print(\" 8-step sol {:s}\".format(line8_dec))\n",
    "print(\"10-step sol {:s}\".format(line10_dec))\n",
    "print(\"20-step sol {:s}\".format(line20_dec))\n",
    "\n",
    "print(\"---------------------------------------\"\n",
    "      \"----------------------------------------------\")\n",
    "print(\"Unit: muas/yr\")"
   ]
  }
 ],
 "metadata": {
  "hide_input": false,
  "kernelspec": {
   "display_name": "Python 3 (ipykernel)",
   "language": "python",
   "name": "python3"
  },
  "language_info": {
   "codemirror_mode": {
    "name": "ipython",
    "version": 3
   },
   "file_extension": ".py",
   "mimetype": "text/x-python",
   "name": "python",
   "nbconvert_exporter": "python",
   "pygments_lexer": "ipython3",
   "version": "3.9.7"
  }
 },
 "nbformat": 4,
 "nbformat_minor": 5
}
