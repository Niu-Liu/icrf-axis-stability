{
 "cells": [
  {
   "cell_type": "markdown",
   "id": "a7b34d12",
   "metadata": {},
   "source": [
    "I compare the distribution of APM determined from solutions with different steps, to see if the number of steps used to generate the time series solution affects the distribution of APM."
   ]
  },
  {
   "cell_type": "code",
   "execution_count": 1,
   "id": "eb558b24",
   "metadata": {
    "ExecuteTime": {
     "end_time": "2021-09-18T10:05:43.209798Z",
     "start_time": "2021-09-18T10:05:41.188194Z"
    }
   },
   "outputs": [],
   "source": [
    "import matplotlib.pyplot as plt\n",
    "# from matplotlib.ticker import MultipleLocator\n",
    "import numpy as np\n",
    "from astropy.table import Table\n",
    "\n",
    "\n"
   ]
  },
  {
   "cell_type": "markdown",
   "id": "a78c0a24",
   "metadata": {},
   "source": [
    "A function to process the table."
   ]
  },
  {
   "cell_type": "code",
   "execution_count": null,
   "id": "6982875f",
   "metadata": {
    "ExecuteTime": {
     "end_time": "2021-09-18T10:06:58.606661Z",
     "start_time": "2021-09-18T10:06:58.599148Z"
    }
   },
   "outputs": [],
   "source": [
    "def parse_apm_table(apm_tab, icrf3_def):\n",
    "    # Remove no\n",
    "    mask = apm_tab[\"num_cln\"] >= 5\n",
    "    apm_tab = apm_tab[mask]\n",
    "\n",
    "    # convert mas/yr into muas/yr\n",
    "    apm_tab[\"pmra\"] = apm_tab[\"pmra\"] * 1e3\n",
    "    apm_tab[\"pmra_err\"] = apm_tab[\"pmra_err\"] * 1e3\n",
    "    apm_tab[\"pmdec\"] = apm_tab[\"pmdec\"] * 1e3\n",
    "    apm_tab[\"pmdec_err\"] = apm_tab[\"pmdec_err\"] * 1e3\n",
    "    \n",
    "    apm_def = join(icrf3_def, apm_tab, keys=\"iers_name\")\n",
    "    \n",
    "    return apm_tab, apm_def"
   ]
  },
  {
   "cell_type": "markdown",
   "id": "98a0c1e4",
   "metadata": {},
   "source": [
    "ICRF3 defining source list"
   ]
  },
  {
   "cell_type": "code",
   "execution_count": 4,
   "id": "fe7461a7",
   "metadata": {
    "ExecuteTime": {
     "end_time": "2021-09-18T10:08:14.956491Z",
     "start_time": "2021-09-18T10:08:14.928167Z"
    }
   },
   "outputs": [],
   "source": [
    "icrf3_def = Table.read(\"../data/icrf3sx-def-sou.txt\", format=\"ascii\")"
   ]
  },
  {
   "cell_type": "code",
   "execution_count": 3,
   "id": "2c3f2cee",
   "metadata": {
    "ExecuteTime": {
     "end_time": "2021-09-18T10:07:57.761758Z",
     "start_time": "2021-09-18T10:07:57.720094Z"
    }
   },
   "outputs": [],
   "source": [
    "apm_tab4 = Table.read(\"../data/ts_nju_pm_fit_3sigma.dat\", format=\"ascii.csv\")\n",
    "apm_tab8 = Table.read(\"../data/ts_nju_pm_fit_3sigma-8step.dat\", format=\"ascii.csv\")\n",
    "apm_tab10 = Table.read(\"../data/ts_nju_pm_fit_3sigma-10step.dat\", format=\"ascii.csv\")\n",
    "apm_tab20 = Table.read(\"../data/ts_nju_pm_fit_3sigma-20step.dat\", format=\"ascii.csv\")"
   ]
  },
  {
   "cell_type": "code",
   "execution_count": 5,
   "id": "d2faac2c",
   "metadata": {
    "ExecuteTime": {
     "end_time": "2021-09-18T10:08:56.032252Z",
     "start_time": "2021-09-18T10:08:55.995324Z"
    }
   },
   "outputs": [],
   "source": [
    "apm_tab4, apm_def4 = parse_apm_table(apm_tab4, icrf3_def)\n",
    "apm_tab8, apm_def8 = parse_apm_table(apm_tab8, icrf3_def)\n",
    "apm_tab10, apm_def10 = parse_apm_table(apm_tab10, icrf3_def)\n",
    "apm_tab20, apm_def20 = parse_apm_table(apm_tab20, icrf3_def)"
   ]
  },
  {
   "cell_type": "code",
   "execution_count": 8,
   "id": "5694138c",
   "metadata": {
    "ExecuteTime": {
     "end_time": "2021-09-18T10:11:07.363933Z",
     "start_time": "2021-09-18T10:11:07.359350Z"
    }
   },
   "outputs": [],
   "source": [
    "bin_array = np.arange(-100, 100, 5)"
   ]
  },
  {
   "cell_type": "code",
   "execution_count": 16,
   "id": "0642bf69",
   "metadata": {
    "ExecuteTime": {
     "end_time": "2021-09-18T10:14:22.159118Z",
     "start_time": "2021-09-18T10:14:21.404552Z"
    }
   },
   "outputs": [
    {
     "data": {
      "image/png": "[encoded data removed]",
      "text/plain": [
       "<Figure size 576x576 with 4 Axes>"
      ]
     },
     "metadata": {
      "needs_background": "light"
     },
     "output_type": "display_data"
    }
   ],
   "source": [
    "fig, (ax0, ax1, ax2, ax3) = plt.subplots(figsize=(8, 8),\n",
    "                                         nrows=4,\n",
    "                                         sharex=True,\n",
    "                                         sharey=True)\n",
    "\n",
    "color = \"grey\"\n",
    "\n",
    "ax0.hist(apm_tab4[\"pmra\"],\n",
    "         bins=bin_array,\n",
    "         color=color,\n",
    "         fill=False,\n",
    "         label=\"All\")\n",
    "ax0.hist(apm_def4[\"pmra\"], bins=bin_array, color=color, label=\"Defining\")\n",
    "\n",
    "ax1.hist(apm_tab8[\"pmra\"],\n",
    "         bins=bin_array,\n",
    "         color=color,\n",
    "         fill=False,\n",
    "         label=\"All\")\n",
    "ax1.hist(apm_def8[\"pmra\"], bins=bin_array, color=color, label=\"Defining\")\n",
    "\n",
    "ax2.hist(apm_tab10[\"pmra\"],\n",
    "         bins=bin_array,\n",
    "         color=color,\n",
    "         fill=False,\n",
    "         label=\"All\")\n",
    "ax2.hist(apm_def10[\"pmra\"], bins=bin_array, color=color, label=\"Defining\")\n",
    "\n",
    "ax3.hist(apm_tab20[\"pmra\"],\n",
    "         bins=bin_array,\n",
    "         color=color,\n",
    "         fill=False,\n",
    "         label=\"All\")\n",
    "ax3.hist(apm_def20[\"pmra\"], bins=bin_array, color=color, label=\"Defining\")\n",
    "\n",
    "ax3.set_xlabel(\"$\\\\mu_{\\\\alpha*}$ (mas/yr)\", fontsize=15)\n",
    "\n",
    "ax0.set_ylabel(\" 4-Step\", color=color, fontsize=15)\n",
    "ax1.set_ylabel(\" 8-Step\", color=color, fontsize=15)\n",
    "ax2.set_ylabel(\"10-Step\", color=color, fontsize=15)\n",
    "ax3.set_ylabel(\"20-Step\", color=color, fontsize=15)\n",
    "\n",
    "ax3.axis([-100, 100, 0, 400])\n",
    "ax0.legend(loc=\"upper left\")\n",
    "\n",
    "plt.tight_layout()"
   ]
  },
  {
   "cell_type": "code",
   "execution_count": 17,
   "id": "87828ac3",
   "metadata": {
    "ExecuteTime": {
     "end_time": "2021-09-18T10:15:07.290393Z",
     "start_time": "2021-09-18T10:15:06.639878Z"
    }
   },
   "outputs": [
    {
     "data": {
      "image/png": "[encoded data removed]",
      "text/plain": [
       "<Figure size 576x576 with 4 Axes>"
      ]
     },
     "metadata": {
      "needs_background": "light"
     },
     "output_type": "display_data"
    }
   ],
   "source": [
    "fig, (ax0, ax1, ax2, ax3) = plt.subplots(figsize=(8, 8),\n",
    "                                         nrows=4,\n",
    "                                         sharex=True,\n",
    "                                         sharey=True)\n",
    "\n",
    "color = \"grey\"\n",
    "\n",
    "ax0.hist(apm_tab4[\"pmdec\"],\n",
    "         bins=bin_array,\n",
    "         color=color,\n",
    "         fill=False,\n",
    "         label=\"All\")\n",
    "ax0.hist(apm_def4[\"pmdec\"], bins=bin_array, color=color, label=\"Defining\")\n",
    "\n",
    "ax1.hist(apm_tab8[\"pmdec\"],\n",
    "         bins=bin_array,\n",
    "         color=color,\n",
    "         fill=False,\n",
    "         label=\"All\")\n",
    "ax1.hist(apm_def8[\"pmdec\"], bins=bin_array, color=color, label=\"Defining\")\n",
    "\n",
    "ax2.hist(apm_tab10[\"pmdec\"],\n",
    "         bins=bin_array,\n",
    "         color=color,\n",
    "         fill=False,\n",
    "         label=\"All\")\n",
    "ax2.hist(apm_def10[\"pmdec\"], bins=bin_array, color=color, label=\"Defining\")\n",
    "\n",
    "ax3.hist(apm_tab20[\"pmdec\"],\n",
    "         bins=bin_array,\n",
    "         color=color,\n",
    "         fill=False,\n",
    "         label=\"All\")\n",
    "ax3.hist(apm_def20[\"pmdec\"], bins=bin_array, color=color, label=\"Defining\")\n",
    "\n",
    "ax3.set_xlabel(\"$\\\\mu_{\\\\delta}$ (mas/yr)\", fontsize=15)\n",
    "\n",
    "ax0.set_ylabel(\" 4-Step\", color=color, fontsize=15)\n",
    "ax1.set_ylabel(\" 8-Step\", color=color, fontsize=15)\n",
    "ax2.set_ylabel(\"10-Step\", color=color, fontsize=15)\n",
    "ax3.set_ylabel(\"20-Step\", color=color, fontsize=15)\n",
    "\n",
    "ax3.axis([-100, 100, 0, 400])\n",
    "ax0.legend(loc=\"upper left\")\n",
    "\n",
    "plt.tight_layout()"
   ]
  }
 ],
 "metadata": {
  "hide_input": false,
  "kernelspec": {
   "display_name": "Python 3 (ipykernel)",
   "language": "python",
   "name": "python3"
  },
  "language_info": {
   "codemirror_mode": {
    "name": "ipython",
    "version": 3
   },
   "file_extension": ".py",
   "mimetype": "text/x-python",
   "name": "python",
   "nbconvert_exporter": "python",
   "pygments_lexer": "ipython3",
   "version": "3.9.7"
  }
 },
 "nbformat": 4,
 "nbformat_minor": 5
}
