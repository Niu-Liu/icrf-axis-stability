{
 "cells": [
  {
   "cell_type": "markdown",
   "id": "7cdbf856",
   "metadata": {},
   "source": [
    "In the notebook, I evaluate the influence of the clip limit adopted in the apparent proper motion on the estimation of the global spin of the CRF."
   ]
  },
  {
   "cell_type": "code",
   "execution_count": 1,
   "id": "904a984d",
   "metadata": {
    "ExecuteTime": {
     "end_time": "2021-09-19T06:55:39.104841Z",
     "start_time": "2021-09-19T06:55:37.603687Z"
    }
   },
   "outputs": [],
   "source": [
    "import matplotlib.pyplot as plt\n",
    "import numpy as np\n",
    "from astropy.table import Table, join\n",
    "\n",
    "\n",
    "from my_progs.stat_func.rms_calc import rms_calc\n",
    "from my_progs.catalog.ga_func import glide_apex_calc\n",
    "\n",
    "from tool_func import vsh_fit_for_pm, vsh_fit_for_pm2"
   ]
  },
  {
   "cell_type": "code",
   "execution_count": 2,
   "id": "b92b7273",
   "metadata": {
    "ExecuteTime": {
     "end_time": "2021-09-19T06:55:39.125869Z",
     "start_time": "2021-09-19T06:55:39.106719Z"
    }
   },
   "outputs": [],
   "source": [
    "icrf3_def = Table.read(\"../data/icrf3sx-def-sou.txt\", format=\"ascii\")"
   ]
  },
  {
   "cell_type": "code",
   "execution_count": 3,
   "id": "7cbce52c",
   "metadata": {
    "ExecuteTime": {
     "end_time": "2021-09-19T06:55:39.131507Z",
     "start_time": "2021-09-19T06:55:39.127841Z"
    }
   },
   "outputs": [],
   "source": [
    "def pre_parse_table(apm_tab, icrf3_def):\n",
    "    \"\"\"Do some pre-operations to APM table\n",
    "    \"\"\"\n",
    "    \n",
    "    # convert mas/yr into muas/yr\n",
    "    apm_tab[\"pmra\"] = apm_tab[\"pmra\"] * 1e3\n",
    "    apm_tab[\"pmra_err\"] = apm_tab[\"pmra_err\"] * 1e3\n",
    "    apm_tab[\"pmdec\"] = apm_tab[\"pmdec\"] * 1e3\n",
    "    apm_tab[\"pmdec_err\"] = apm_tab[\"pmdec_err\"] * 1e3\n",
    "    \n",
    "    # Remove sources without APM estimate\n",
    "    mask = apm_tab[\"num_cln\"] >= 5\n",
    "    apm_tab = apm_tab[mask]\n",
    "    \n",
    "    # Table for the ICRF3 defining sources\n",
    "    apm_def = join(icrf3_def, apm_tab, keys=\"iers_name\")\n",
    "    \n",
    "    return apm_tab, apm_def "
   ]
  },
  {
   "cell_type": "code",
   "execution_count": 4,
   "id": "b738f035",
   "metadata": {
    "ExecuteTime": {
     "end_time": "2021-09-19T06:55:39.138137Z",
     "start_time": "2021-09-19T06:55:39.134500Z"
    }
   },
   "outputs": [],
   "source": [
    "def simple_vsh_func(data_file, icrf3_def):\n",
    "    \"\"\"\n",
    "    \"\"\"\n",
    "\n",
    "    apm_tab = Table.read(data_file, format=\"ascii.csv\")\n",
    "    apm_tab, apm_def = pre_parse_table(apm_tab, icrf3_def)\n",
    "\n",
    "    # VSH parameters\n",
    "    pmt, sig, output = vsh_fit_for_pm(apm_def)\n",
    "    pmt_all, sig_all, output_all = vsh_fit_for_pm(apm_tab)\n",
    "\n",
    "    return pmt, sig, output, pmt_all, sig_all, output_all"
   ]
  },
  {
   "cell_type": "code",
   "execution_count": 5,
   "id": "251291a1",
   "metadata": {
    "ExecuteTime": {
     "end_time": "2021-09-19T06:55:39.174462Z",
     "start_time": "2021-09-19T06:55:39.140480Z"
    }
   },
   "outputs": [],
   "source": [
    "# 1-sigma\n",
    "results = simple_vsh_func(\"../data/ts_nju_pm_fit_1sigma-10step.dat\", icrf3_def)\n",
    "\n",
    "# VSH parameters\n",
    "pmt1, sig1, output1 = results[:3]\n",
    "pmt_all1, sig_all1, output_all1 = results[3:]"
   ]
  },
  {
   "cell_type": "code",
   "execution_count": 6,
   "id": "24613959",
   "metadata": {
    "ExecuteTime": {
     "end_time": "2021-09-19T06:55:39.224148Z",
     "start_time": "2021-09-19T06:55:39.175949Z"
    }
   },
   "outputs": [],
   "source": [
    "# 3-sigma\n",
    "results = simple_vsh_func(\"../data/ts_nju_pm_fit_3sigma-10step.dat\", icrf3_def)\n",
    "\n",
    "# VSH parameters\n",
    "pmt3, sig3, output3 = results[:3]\n",
    "pmt_all3, sig_all3, output_all3 = results[3:]"
   ]
  },
  {
   "cell_type": "code",
   "execution_count": 7,
   "id": "5c860d2a",
   "metadata": {
    "ExecuteTime": {
     "end_time": "2021-09-19T06:55:39.279665Z",
     "start_time": "2021-09-19T06:55:39.225623Z"
    }
   },
   "outputs": [],
   "source": [
    "# 5-sigma\n",
    "results = simple_vsh_func(\"../data/ts_nju_pm_fit_5sigma-10step.dat\", icrf3_def)\n",
    "\n",
    "# VSH parameters\n",
    "pmt5, sig5, output5 = results[:3]\n",
    "pmt_all5, sig_all5, output_all5 = results[3:]"
   ]
  },
  {
   "cell_type": "code",
   "execution_count": 8,
   "id": "57e75b23",
   "metadata": {
    "ExecuteTime": {
     "end_time": "2021-09-19T06:55:39.334993Z",
     "start_time": "2021-09-19T06:55:39.281078Z"
    }
   },
   "outputs": [],
   "source": [
    "# 10-sigma\n",
    "results = simple_vsh_func(\"../data/ts_nju_pm_fit_10sigma-10step.dat\", icrf3_def)\n",
    "\n",
    "# VSH parameters\n",
    "pmt10, sig10, output10 = results[:3]\n",
    "pmt_all10, sig_all10, output_all10 = results[3:]"
   ]
  },
  {
   "cell_type": "code",
   "execution_count": 9,
   "id": "5bf9a3c6",
   "metadata": {
    "ExecuteTime": {
     "end_time": "2021-09-19T06:55:39.388169Z",
     "start_time": "2021-09-19T06:55:39.336511Z"
    }
   },
   "outputs": [],
   "source": [
    "# No outlier elimination\n",
    "results = simple_vsh_func(\"../data/ts_nju_pm_fit_1000sigma-10step.dat\", icrf3_def)\n",
    "\n",
    "# VSH parameters\n",
    "pmt, sig, output = results[:3]\n",
    "pmt_all, sig_all, output_all = results[3:]"
   ]
  },
  {
   "cell_type": "code",
   "execution_count": 10,
   "id": "abed25f3",
   "metadata": {
    "ExecuteTime": {
     "end_time": "2021-09-19T06:55:39.396513Z",
     "start_time": "2021-09-19T06:55:39.392285Z"
    }
   },
   "outputs": [],
   "source": [
    "pmts = np.vstack((pmt1, pmt3, pmt5, pmt10, pmt)).T\n",
    "sigs = np.vstack((sig1, sig3, sig5, sig10, sig)).T\n",
    "\n",
    "pmts_all = np.vstack((pmt_all1, pmt_all3, pmt_all5, pmt_all10, pmt_all)).T\n",
    "sigs_all = np.vstack((sig_all1, sig_all3, sig_all5, sig_all10, sig_all)).T"
   ]
  },
  {
   "cell_type": "code",
   "execution_count": 11,
   "id": "82b9d0bc",
   "metadata": {
    "ExecuteTime": {
     "end_time": "2021-09-19T06:55:39.401440Z",
     "start_time": "2021-09-19T06:55:39.398401Z"
    }
   },
   "outputs": [],
   "source": [
    "x_label = [\"1\", \"3\", \"5\", \"10\", \"1000\"]\n",
    "x_axis = np.arange(len(x_label))"
   ]
  },
  {
   "cell_type": "code",
   "execution_count": 12,
   "id": "290ee0ba",
   "metadata": {
    "ExecuteTime": {
     "end_time": "2021-09-19T06:55:40.027664Z",
     "start_time": "2021-09-19T06:55:39.403632Z"
    }
   },
   "outputs": [
    {
     "data": {
      "image/png": "[encoded data removed]",
      "text/plain": [
       "<Figure size 576x576 with 4 Axes>"
      ]
     },
     "metadata": {
      "needs_background": "light"
     },
     "output_type": "display_data"
    }
   ],
   "source": [
    "fig, (ax0, ax1, ax2, ax3) = plt.subplots(figsize=(8, 8), nrows=4, sharex=True)\n",
    "\n",
    "ax0.errorbar(x_axis,\n",
    "             pmts[0],\n",
    "             yerr=sigs[0],\n",
    "             elinewidth=1,\n",
    "             lw=0.5,\n",
    "             fmt=\"o\",\n",
    "             color=\"b\",\n",
    "             capsize=3)\n",
    "ax1.errorbar(x_axis,\n",
    "             pmts[1],\n",
    "             yerr=sigs[1],\n",
    "             elinewidth=1,\n",
    "             lw=0.5,\n",
    "             fmt=\"o\",\n",
    "             color=\"k\",\n",
    "             capsize=3)\n",
    "ax2.errorbar(x_axis,\n",
    "             pmts[2],\n",
    "             yerr=sigs[2],\n",
    "             elinewidth=1,\n",
    "             lw=0.5,\n",
    "             fmt=\"o\",\n",
    "             color=\"r\",\n",
    "             capsize=3)\n",
    "ax3.errorbar(x_axis,\n",
    "             pmts[3],\n",
    "             yerr=sigs[3],\n",
    "             elinewidth=1,\n",
    "             lw=0.5,\n",
    "             fmt=\"o\",\n",
    "             color=\"g\",\n",
    "             capsize=3)\n",
    "\n",
    "ax0.errorbar(x_axis + 0.1,\n",
    "             pmts_all[0],\n",
    "             yerr=sigs_all[0],\n",
    "             elinewidth=1,\n",
    "             lw=0.5,\n",
    "             fmt=\"x\",\n",
    "             color=\"b\",\n",
    "             capsize=3)\n",
    "ax1.errorbar(x_axis + 0.1,\n",
    "             pmts_all[1],\n",
    "             yerr=sigs_all[1],\n",
    "             elinewidth=1,\n",
    "             lw=0.5,\n",
    "             fmt=\"x\",\n",
    "             color=\"k\",\n",
    "             capsize=3)\n",
    "ax2.errorbar(x_axis + 0.1,\n",
    "             pmts_all[2],\n",
    "             yerr=sigs_all[2],\n",
    "             elinewidth=1,\n",
    "             lw=0.5,\n",
    "             fmt=\"x\",\n",
    "             color=\"r\",\n",
    "             capsize=3)\n",
    "ax3.errorbar(x_axis + 0.1,\n",
    "             pmts_all[3],\n",
    "             yerr=sigs_all[3],\n",
    "             elinewidth=1,\n",
    "             lw=0.5,\n",
    "             fmt=\"x\",\n",
    "             color=\"g\",\n",
    "             capsize=3)\n",
    "\n",
    "ax3.set_xticks(x_axis)\n",
    "ax3.set_xticklabels(x_label)\n",
    "\n",
    "ax3.set_xlabel(\"Maximum sigma for outliers in APM fitting\", fontsize=15)\n",
    "ax0.set_ylabel(\"$\\\\omega_x$\", fontsize=15)\n",
    "ax1.set_ylabel(\"$\\\\omega_y$\", fontsize=15)\n",
    "ax2.set_ylabel(\"$\\\\omega_z$\", fontsize=15)\n",
    "ax3.set_ylabel(\"$\\\\omega$\", fontsize=15)\n",
    "\n",
    "ax0.set_title(\"Spin of CRF ($\\\\mu$as/yr)\", fontsize=15)\n",
    "\n",
    "plt.tight_layout()\n",
    "plt.savefig(\"../plots/spin-vs-sigma.eps\")"
   ]
  },
  {
   "cell_type": "code",
   "execution_count": 13,
   "id": "2852eaa5",
   "metadata": {
    "ExecuteTime": {
     "end_time": "2021-09-19T06:55:40.375313Z",
     "start_time": "2021-09-19T06:55:40.029510Z"
    }
   },
   "outputs": [
    {
     "name": "stderr",
     "output_type": "stream",
     "text": [
      "The PostScript backend does not support transparency; partially transparent artists will be rendered opaque.\n",
      "The PostScript backend does not support transparency; partially transparent artists will be rendered opaque.\n"
     ]
    },
    {
     "data": {
      "image/png": "[encoded data removed]",
      "text/plain": [
       "<Figure size 432x288 with 1 Axes>"
      ]
     },
     "metadata": {
      "needs_background": "light"
     },
     "output_type": "display_data"
    }
   ],
   "source": [
    "fig, ax = plt.subplots()\n",
    "\n",
    "ax.errorbar(output1[\"R_ra\"], output1[\"R_dec\"],\n",
    "            xerr=output1[\"R_ra_err\"],\n",
    "            yerr=output1[\"R_dec_err\"],\n",
    "            capsize=3, elinewidth=0.5,\n",
    "            fmt=\"v\", color=\"r\", label=\" 1-sigma\")\n",
    "\n",
    "\n",
    "\n",
    "ax.errorbar(output3[\"R_ra\"], output3[\"R_dec\"],\n",
    "            xerr=output3[\"R_ra_err\"],\n",
    "            yerr=output3[\"R_dec_err\"],\n",
    "            capsize=3, elinewidth=0.5,\n",
    "            fmt=\"x\", color=\"g\", label=\" 3-sigma\")\n",
    "\n",
    "ax.errorbar(output5[\"R_ra\"], output5[\"R_dec\"],\n",
    "            xerr=output5[\"R_ra_err\"],\n",
    "            yerr=output5[\"R_dec_err\"],\n",
    "            capsize=3, elinewidth=0.5,\n",
    "            fmt=\"^\", color=\"b\", label=\" 5-sigma\")\n",
    "\n",
    "ax.errorbar(output10[\"R_ra\"], output10[\"R_dec\"],\n",
    "            xerr=output10[\"R_ra_err\"],\n",
    "            yerr=output10[\"R_dec_err\"],\n",
    "            capsize=3, elinewidth=0.5,\n",
    "            fmt=\"s\", color=\"m\", label=\"10-sigma\")\n",
    "\n",
    "ax.errorbar(output[\"R_ra\"], output[\"R_dec\"],\n",
    "            xerr=output[\"R_ra_err\"],\n",
    "            yerr=output[\"R_dec_err\"],\n",
    "            capsize=3, elinewidth=0.5,\n",
    "            fmt=\"+\", color=\"k\", label=\"1000-sigma\")\n",
    "\n",
    "\n",
    "ax.plot(265, -30, \"ko\", label=\"GC\")\n",
    "\n",
    "ax.legend()\n",
    "\n",
    "ax.set_title(\"Direction of rotation axis\", fontsize=15)\n",
    "ax.set_xlabel(\"RA (degree)\", fontsize=15)\n",
    "ax.set_ylabel(\"Decl. (degree)\", fontsize=15)\n",
    "\n",
    "plt.tight_layout()\n",
    "plt.savefig(\"../plots/spin-axis-vs-sigma.eps\")"
   ]
  },
  {
   "cell_type": "code",
   "execution_count": 14,
   "id": "66dc46af",
   "metadata": {
    "ExecuteTime": {
     "end_time": "2021-09-19T06:55:40.879179Z",
     "start_time": "2021-09-19T06:55:40.378221Z"
    }
   },
   "outputs": [
    {
     "data": {
      "image/png": "[encoded data removed]",
      "text/plain": [
       "<Figure size 576x576 with 4 Axes>"
      ]
     },
     "metadata": {
      "needs_background": "light"
     },
     "output_type": "display_data"
    }
   ],
   "source": [
    "fig, (ax0, ax1, ax2, ax3) = plt.subplots(figsize=(8, 8), nrows=4, sharex=True)\n",
    "\n",
    "ax0.errorbar(x_axis,\n",
    "             pmts[4],\n",
    "             yerr=sigs[4],\n",
    "             elinewidth=1,\n",
    "             lw=0.5,\n",
    "             fmt=\"o\",\n",
    "             color=\"b\",\n",
    "             capsize=3)\n",
    "ax1.errorbar(x_axis,\n",
    "             pmts[5],\n",
    "             yerr=sigs[5],\n",
    "             elinewidth=1,\n",
    "             lw=0.5,\n",
    "             fmt=\"o\",\n",
    "             color=\"k\",\n",
    "             capsize=3)\n",
    "ax2.errorbar(x_axis,\n",
    "             pmts[6],\n",
    "             yerr=sigs[6],\n",
    "             elinewidth=1,\n",
    "             lw=0.5,\n",
    "             fmt=\"o\",\n",
    "             color=\"r\",\n",
    "             capsize=3)\n",
    "ax3.errorbar(x_axis,\n",
    "             pmts[7],\n",
    "             yerr=sigs[7],\n",
    "             elinewidth=1,\n",
    "             lw=0.5,\n",
    "             fmt=\"o\",\n",
    "             color=\"g\",\n",
    "             capsize=3)\n",
    "\n",
    "ax0.errorbar(x_axis + 0.1,\n",
    "             pmts_all[4],\n",
    "             yerr=sigs_all[4],\n",
    "             elinewidth=1,\n",
    "             lw=0.5,\n",
    "             fmt=\"x\",\n",
    "             color=\"b\",\n",
    "             capsize=3)\n",
    "ax1.errorbar(x_axis + 0.1,\n",
    "             pmts_all[5],\n",
    "             yerr=sigs_all[5],\n",
    "             elinewidth=1,\n",
    "             lw=0.5,\n",
    "             fmt=\"x\",\n",
    "             color=\"k\",\n",
    "             capsize=3)\n",
    "ax2.errorbar(x_axis + 0.1,\n",
    "             pmts_all[6],\n",
    "             yerr=sigs_all[6],\n",
    "             elinewidth=1,\n",
    "             lw=0.5,\n",
    "             fmt=\"x\",\n",
    "             color=\"r\",\n",
    "             capsize=3)\n",
    "ax3.errorbar(x_axis + 0.1,\n",
    "             pmts_all[7],\n",
    "             yerr=sigs_all[7],\n",
    "             elinewidth=1,\n",
    "             lw=0.5,\n",
    "             fmt=\"x\",\n",
    "             color=\"g\",\n",
    "             capsize=3)\n",
    "\n",
    "ax3.set_xticks(x_axis)\n",
    "ax3.set_xticklabels(x_label)\n",
    "\n",
    "ax3.set_xlabel(\"Maximum sigma for outliers in APM fitting\", fontsize=15)\n",
    "ax0.set_ylabel(\"$g_x$\", fontsize=15)\n",
    "ax1.set_ylabel(\"$g_y$\", fontsize=15)\n",
    "ax2.set_ylabel(\"$g_z$\", fontsize=15)\n",
    "ax3.set_ylabel(\"$g$\", fontsize=15)\n",
    "\n",
    "ax0.set_title(\"Glide of CRF ($\\\\mu$as/yr)\", fontsize=15)\n",
    "\n",
    "plt.tight_layout()\n",
    "plt.savefig(\"../plots/glide-vs-sigma.eps\")"
   ]
  },
  {
   "cell_type": "code",
   "execution_count": 15,
   "id": "3a258388",
   "metadata": {
    "ExecuteTime": {
     "end_time": "2021-09-19T06:55:41.206173Z",
     "start_time": "2021-09-19T06:55:40.880723Z"
    }
   },
   "outputs": [
    {
     "name": "stderr",
     "output_type": "stream",
     "text": [
      "The PostScript backend does not support transparency; partially transparent artists will be rendered opaque.\n",
      "The PostScript backend does not support transparency; partially transparent artists will be rendered opaque.\n"
     ]
    },
    {
     "data": {
      "image/png": "[encoded data removed]",
      "text/plain": [
       "<Figure size 432x288 with 1 Axes>"
      ]
     },
     "metadata": {
      "needs_background": "light"
     },
     "output_type": "display_data"
    }
   ],
   "source": [
    "fig, ax = plt.subplots()\n",
    "\n",
    "ax.errorbar(output1[\"G_ra\"], output1[\"G_dec\"],\n",
    "            xerr=output1[\"G_ra_err\"],\n",
    "            yerr=output1[\"G_dec_err\"],\n",
    "            capsize=3, elinewidth=0.5,\n",
    "            fmt=\"v\", color=\"r\", label=\" 1-sigma\")\n",
    "\n",
    "ax.errorbar(output3[\"G_ra\"], output3[\"G_dec\"],\n",
    "            xerr=output3[\"G_ra_err\"],\n",
    "            yerr=output3[\"G_dec_err\"],\n",
    "            capsize=3, elinewidth=0.5,\n",
    "            fmt=\"x\", color=\"g\", label=\" 3-sigma\")\n",
    "\n",
    "ax.errorbar(output5[\"G_ra\"], output5[\"G_dec\"],\n",
    "            xerr=output5[\"G_ra_err\"],\n",
    "            yerr=output5[\"G_dec_err\"],\n",
    "            capsize=3, elinewidth=0.5,\n",
    "            fmt=\"^\", color=\"b\", label=\" 5-sigma\")\n",
    "\n",
    "ax.errorbar(output10[\"G_ra\"], output10[\"G_dec\"],\n",
    "            xerr=output10[\"G_ra_err\"],\n",
    "            yerr=output10[\"G_dec_err\"],\n",
    "            capsize=3, elinewidth=0.5,\n",
    "            fmt=\"s\", color=\"m\", label=\"10-sigma\")\n",
    "\n",
    "ax.errorbar(output[\"G_ra\"], output[\"G_dec\"],\n",
    "            xerr=output[\"G_ra_err\"],\n",
    "            yerr=output[\"G_dec_err\"],\n",
    "            capsize=3, elinewidth=0.5,\n",
    "            fmt=\"+\", color=\"k\", label=\"1000-sigma\")\n",
    "\n",
    "ax.plot(265, -30, \"ko\", label=\"GC\")\n",
    "\n",
    "ax.legend()\n",
    "\n",
    "ax.set_title(\"Direction of glide axis\", fontsize=15)\n",
    "ax.set_xlabel(\"RA (degree)\", fontsize=15)\n",
    "ax.set_ylabel(\"Decl. (degree)\", fontsize=15)\n",
    "\n",
    "plt.tight_layout()\n",
    "plt.savefig(\"../plots/glide-axis-vs-sigma.eps\")"
   ]
  },
  {
   "cell_type": "code",
   "execution_count": 16,
   "id": "68159afa",
   "metadata": {
    "ExecuteTime": {
     "end_time": "2021-09-19T06:55:41.446657Z",
     "start_time": "2021-09-19T06:55:41.208344Z"
    }
   },
   "outputs": [
    {
     "data": {
      "image/png": "[encoded data removed]",
      "text/plain": [
       "<Figure size 432x288 with 1 Axes>"
      ]
     },
     "metadata": {
      "needs_background": "light"
     },
     "output_type": "display_data"
    }
   ],
   "source": [
    "fig, ax = plt.subplots()\n",
    "\n",
    "ax.errorbar(output_all1[\"G_ra\"], output_all1[\"G_dec\"],\n",
    "            xerr=output_all1[\"G_ra_err\"],\n",
    "            yerr=output_all1[\"G_dec_err\"],\n",
    "            capsize=3, elinewidth=0.5,\n",
    "            fmt=\"v\", color=\"r\", label=\" 1-sigma\")\n",
    "\n",
    "ax.errorbar(output_all3[\"G_ra\"], output_all3[\"G_dec\"],\n",
    "            xerr=output_all3[\"G_ra_err\"],\n",
    "            yerr=output_all3[\"G_dec_err\"],\n",
    "            capsize=3, elinewidth=0.5,\n",
    "            fmt=\"x\", color=\"g\", label=\" 3-sigma\")\n",
    "\n",
    "ax.errorbar(output_all5[\"G_ra\"], output_all5[\"G_dec\"],\n",
    "            xerr=output_all5[\"G_ra_err\"],\n",
    "            yerr=output_all5[\"G_dec_err\"],\n",
    "            capsize=3, elinewidth=0.5,\n",
    "            fmt=\"^\", color=\"b\", label=\" 5-sigma\")\n",
    "\n",
    "ax.errorbar(output_all10[\"G_ra\"], output_all10[\"G_dec\"],\n",
    "            xerr=output_all10[\"G_ra_err\"],\n",
    "            yerr=output_all10[\"G_dec_err\"],\n",
    "            capsize=3, elinewidth=0.5,\n",
    "            fmt=\"s\", color=\"m\", label=\"10-sigma\")\n",
    "\n",
    "ax.errorbar(output_all[\"G_ra\"], output_all[\"G_dec\"],\n",
    "            xerr=output_all[\"G_ra_err\"],\n",
    "            yerr=output_all[\"G_dec_err\"],\n",
    "            capsize=3, elinewidth=0.5,\n",
    "            fmt=\"+\", color=\"k\", label=\"1000-sigma\")\n",
    "\n",
    "ax.plot(265, -30, \"ko\", label=\"GC\")\n",
    "\n",
    "ax.legend()\n",
    "\n",
    "ax.set_title(\"Direction of glide axis\", fontsize=15)\n",
    "ax.set_xlabel(\"RA (degree)\", fontsize=15)\n",
    "ax.set_ylabel(\"Decl. (degree)\", fontsize=15)\n",
    "\n",
    "plt.tight_layout()\n",
    "# plt.savefig(\"../plots/glide-axis-vs-sigma.eps\")"
   ]
  }
 ],
 "metadata": {
  "hide_input": false,
  "kernelspec": {
   "display_name": "Python 3 (ipykernel)",
   "language": "python",
   "name": "python3"
  },
  "language_info": {
   "codemirror_mode": {
    "name": "ipython",
    "version": 3
   },
   "file_extension": ".py",
   "mimetype": "text/x-python",
   "name": "python",
   "nbconvert_exporter": "python",
   "pygments_lexer": "ipython3",
   "version": "3.9.7"
  }
 },
 "nbformat": 4,
 "nbformat_minor": 5
}
