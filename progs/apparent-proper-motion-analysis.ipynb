{
 "cells": [
  {
   "cell_type": "markdown",
   "metadata": {},
   "source": [
    "I study the apparent proper motion of radio sources to estimate the ICRF axis stability."
   ]
  },
  {
   "cell_type": "code",
   "execution_count": 1,
   "metadata": {
    "ExecuteTime": {
     "end_time": "2022-02-15T06:22:57.744773Z",
     "start_time": "2022-02-15T06:22:19.576238Z"
    }
   },
   "outputs": [],
   "source": [
    "import matplotlib.pyplot as plt\n",
    "# from matplotlib.ticker import MultipleLocator\n",
    "import numpy as np\n",
    "import statsmodels.api as sm\n",
    "from astropy.time import Time\n",
    "from astropy.table import Table, join\n",
    "\n",
    "from statsmodels.iolib.table import (SimpleTable, default_txt_fmt)\n",
    "import seaborn as sns\n",
    "\n",
    "from myprogs.StatsFunc.rms_calc import rms_calc\n",
    "from myprogs.catalog.ga_func import glide_apex_calc"
   ]
  },
  {
   "cell_type": "code",
   "execution_count": 2,
   "metadata": {
    "ExecuteTime": {
     "end_time": "2022-02-15T06:22:57.772266Z",
     "start_time": "2022-02-15T06:22:57.746862Z"
    }
   },
   "outputs": [],
   "source": [
    "icrf3_def = Table.read(\"../data/icrf3sx-def-sou.txt\", format=\"ascii\")"
   ]
  },
  {
   "cell_type": "code",
   "execution_count": 3,
   "metadata": {
    "ExecuteTime": {
     "end_time": "2022-02-15T06:22:57.782593Z",
     "start_time": "2022-02-15T06:22:57.775388Z"
    }
   },
   "outputs": [],
   "source": [
    "def nor_pm_calc(pmra, pmra_err, pmdec, pmdec_err, pm_ra_dec_cor):\n",
    "    \"\"\"pm_ra_dec_coralculate the normalized seperation.\n",
    "\n",
    "    Parameters\n",
    "    ----------\n",
    "    pmra/pmdec : proper motion in Right Ascension / Declination\n",
    "    pmra_err/pmdec_err : formal uncertainty of pmra*cos(Dec)/pmdec\n",
    "    pm_ra_dec_cor : correlation coeffient between pmra*cos(Dec) and pmdec.\n",
    "\n",
    "    Returns\n",
    "    ----------\n",
    "    X : Normalized proper motion, unit-less.\n",
    "    \"\"\"\n",
    "\n",
    "    # Total proper motion\n",
    "    pm = np.sqrt(pmra**2+pmdec**2)\n",
    "\n",
    "    # Normalised coordinate difference\n",
    "    X_a = pmra / pmra_err\n",
    "    X_d = pmdec / pmdec_err\n",
    "\n",
    "    # Normalised separation - Mignard's statistics (considering covariance)\n",
    "    # Now I will use the explict expression\n",
    "    # Avoid singular\n",
    "    pm_ra_dec_cor = np.where(pm_ra_dec_cor == -1, -0.99999, pm_ra_dec_cor)\n",
    "    pm_ra_dec_cor = np.where(pm_ra_dec_cor == 1, 0.99999, pm_ra_dec_cor)\n",
    "    X = np.sqrt((X_a**2 + X_d**2 - 2 * pm_ra_dec_cor * X_a * X_d) /\n",
    "                (1 - pm_ra_dec_cor**2))\n",
    "\n",
    "    return X_a, X_d, X, pm\n",
    "\n",
    "\n",
    "def nor_pm_calc_4_table(tab):\n",
    "\n",
    "    pmra = tab[\"pmra\"]\n",
    "    pmra_err = tab[\"pmra_err\"]\n",
    "    pmdec = tab[\"pmdec\"]\n",
    "    pmdec_err = tab[\"pmdec_err\"]\n",
    "    pm_ra_dec_cor = tab[\"pmra_pmdec_cor\"]\n",
    "\n",
    "    X_a, X_d, X, pm = nor_pm_calc(pmra, pmra_err, pmdec, pmdec_err,\n",
    "                                  pm_ra_dec_cor)\n",
    "\n",
    "    return X_a, X_d, X, pm"
   ]
  },
  {
   "cell_type": "markdown",
   "metadata": {},
   "source": [
    "# 1 Distribution of the APM"
   ]
  },
  {
   "cell_type": "code",
   "execution_count": 4,
   "metadata": {
    "ExecuteTime": {
     "end_time": "2022-02-15T06:22:57.802758Z",
     "start_time": "2022-02-15T06:22:57.785393Z"
    }
   },
   "outputs": [],
   "source": [
    "apm_tab = Table.read(\"../data/ts_nju_pm_fit_3sigma-10step.dat\", format=\"ascii.csv\")\n",
    "\n",
    "# convert mas/yr into muas/yr\n",
    "apm_tab[\"pmra\"] = apm_tab[\"pmra\"] * 1e3\n",
    "apm_tab[\"pmra_err\"] = apm_tab[\"pmra_err\"] * 1e3\n",
    "apm_tab[\"pmdec\"] = apm_tab[\"pmdec\"] * 1e3\n",
    "apm_tab[\"pmdec_err\"] = apm_tab[\"pmdec_err\"] * 1e3"
   ]
  },
  {
   "cell_type": "markdown",
   "metadata": {},
   "source": [
    "Remove sources without apparant proper motion estimate."
   ]
  },
  {
   "cell_type": "code",
   "execution_count": 5,
   "metadata": {
    "ExecuteTime": {
     "end_time": "2022-02-15T06:22:57.811475Z",
     "start_time": "2022-02-15T06:22:57.805340Z"
    }
   },
   "outputs": [],
   "source": [
    "mask = apm_tab[\"num_cln\"] >= 5\n",
    "apm_tab = apm_tab[mask]"
   ]
  },
  {
   "cell_type": "markdown",
   "metadata": {},
   "source": [
    "Estimate the empirical cumulative probability function."
   ]
  },
  {
   "cell_type": "code",
   "execution_count": 6,
   "metadata": {
    "ExecuteTime": {
     "end_time": "2022-02-15T06:22:57.816866Z",
     "start_time": "2022-02-15T06:22:57.813621Z"
    }
   },
   "outputs": [],
   "source": [
    "ecdf_pmra = sm.distributions.ECDF(apm_tab[\"pmra\"])\n",
    "ecdf_pmdec = sm.distributions.ECDF(apm_tab[\"pmdec\"])"
   ]
  },
  {
   "cell_type": "markdown",
   "metadata": {},
   "source": [
    "For the ICRF3 defining sources."
   ]
  },
  {
   "cell_type": "code",
   "execution_count": 7,
   "metadata": {
    "ExecuteTime": {
     "end_time": "2022-02-15T06:22:57.826733Z",
     "start_time": "2022-02-15T06:22:57.819307Z"
    }
   },
   "outputs": [],
   "source": [
    "apm_def = join(icrf3_def, apm_tab, keys=\"iers_name\")"
   ]
  },
  {
   "cell_type": "code",
   "execution_count": 8,
   "metadata": {
    "ExecuteTime": {
     "end_time": "2022-02-15T06:22:57.832060Z",
     "start_time": "2022-02-15T06:22:57.828761Z"
    }
   },
   "outputs": [],
   "source": [
    "ecdf_pmra_def = sm.distributions.ECDF(apm_def[\"pmra\"])\n",
    "ecdf_pmdec_def = sm.distributions.ECDF(apm_def[\"pmdec\"])"
   ]
  },
  {
   "cell_type": "markdown",
   "metadata": {},
   "source": [
    "Make the plot."
   ]
  },
  {
   "cell_type": "code",
   "execution_count": 9,
   "metadata": {
    "ExecuteTime": {
     "end_time": "2022-02-15T06:22:57.839991Z",
     "start_time": "2022-02-15T06:22:57.837455Z"
    }
   },
   "outputs": [],
   "source": [
    "bin_array = np.arange(-100, 100, 5)"
   ]
  },
  {
   "cell_type": "code",
   "execution_count": 10,
   "metadata": {
    "ExecuteTime": {
     "end_time": "2022-02-15T06:22:58.782087Z",
     "start_time": "2022-02-15T06:22:57.841802Z"
    },
    "scrolled": false
   },
   "outputs": [
    {
     "name": "stderr",
     "output_type": "stream",
     "text": [
      "The PostScript backend does not support transparency; partially transparent artists will be rendered opaque.\n"
     ]
    },
    {
     "data": {
      "image/png": "[encoded data removed]",
      "text/plain": [
       "<Figure size 432x288 with 2 Axes>"
      ]
     },
     "metadata": {},
     "output_type": "display_data"
    }
   ],
   "source": [
    "fig, ax1 = plt.subplots()\n",
    "\n",
    "color = \"grey\"\n",
    "ax1.hist(apm_tab[\"pmra\"],\n",
    "         bins=bin_array,\n",
    "         color=color,\n",
    "         fill=False,\n",
    "         label=\"All\")\n",
    "ax1.hist(apm_def[\"pmra\"],\n",
    "         bins=bin_array,\n",
    "         color=color,\n",
    "         label=\"Defining\")\n",
    "ax1.set_xlabel(\"$\\\\mu_{\\\\alpha*}$ ($\\mu$as$\\,$yr$^{-1}$)\", fontsize=15)\n",
    "ax1.set_ylabel(\"Nb Sources in bins\", color=color, fontsize=15)\n",
    "ax1.tick_params(axis=\"y\", labelcolor=color)\n",
    "ax1.axis([-100, 100, 0, 400])\n",
    "ax1.legend(loc=\"upper left\")\n",
    "\n",
    "ax2 = ax1.twinx()  # instantiate a second axes that shares the same x-axis\n",
    "\n",
    "color = \"tab:red\"\n",
    "ax2.plot(ecdf_pmra.x,\n",
    "         ecdf_pmra.y * len(apm_tab),\n",
    "         color=color,\n",
    "         lw=1,\n",
    "         ls=\"--\",\n",
    "         label=\"All\")\n",
    "ax2.step(ecdf_pmra_def.x,\n",
    "         ecdf_pmra_def.y * len(apm_def),\n",
    "         color=color,\n",
    "         lw=1,\n",
    "         ls=\"-\",\n",
    "         label=\"Defining\")\n",
    "ax2.tick_params(axis=\"y\", labelcolor=color)\n",
    "ax2.set_ylabel(\"Cumulative Nb sources\", color=color,\n",
    "               fontsize=15)  # we already handled the x-label with ax1\n",
    "ax2.axis([-100, 100, 0, 3000])\n",
    "ax2.legend(loc=\"center right\")\n",
    "\n",
    "plt.tight_layout()\n",
    "plt.savefig(\"../plots/pmra-hist.eps\")"
   ]
  },
  {
   "cell_type": "code",
   "execution_count": 11,
   "metadata": {
    "ExecuteTime": {
     "end_time": "2022-02-15T06:22:58.794536Z",
     "start_time": "2022-02-15T06:22:58.784802Z"
    }
   },
   "outputs": [
    {
     "name": "stdout",
     "output_type": "stream",
     "text": [
      "PM in R.A. (muas/yr)\n",
      "Percentile(%)          0         5        10        25        50        75        90        95       100\n",
      "                -7331.81   -118.27    -58.56    -15.83     -0.30     14.67     58.43    116.60   9753.56\n",
      "[-30, 30]: 66.06%\n"
     ]
    }
   ],
   "source": [
    "per = [0, 5, 10, 25, 50, 75, 90, 95, 100] \n",
    "Q = np.percentile(apm_tab[\"pmra\"], per)\n",
    "\n",
    "line_fmt1 = \"  {:8d}\" * len(per)\n",
    "line_fmt2 = \"  {:8.2f}\" * len(Q)\n",
    "\n",
    "print(\"PM in R.A. (muas/yr)\")\n",
    "print(\"Percentile(%)\", line_fmt1.format(*per))\n",
    "print(\"             \", line_fmt2.format(*Q))\n",
    "\n",
    "lim = 30\n",
    "mask = (np.fabs(apm_tab[\"pmra\"]) < lim)\n",
    "print(\"[-{:2d}, {:2d}]: {:.2f}%\".format(lim, lim, len(apm_tab[mask])/len(apm_tab)*100))"
   ]
  },
  {
   "cell_type": "code",
   "execution_count": 12,
   "metadata": {
    "ExecuteTime": {
     "end_time": "2022-02-15T06:22:59.201281Z",
     "start_time": "2022-02-15T06:22:58.797574Z"
    },
    "scrolled": false
   },
   "outputs": [
    {
     "name": "stderr",
     "output_type": "stream",
     "text": [
      "The PostScript backend does not support transparency; partially transparent artists will be rendered opaque.\n"
     ]
    },
    {
     "data": {
      "image/png": "[encoded data removed]",
      "text/plain": [
       "<Figure size 432x288 with 2 Axes>"
      ]
     },
     "metadata": {},
     "output_type": "display_data"
    }
   ],
   "source": [
    "fig, ax1 = plt.subplots()\n",
    "\n",
    "color = \"grey\"\n",
    "ax1.hist(apm_tab[\"pmdec\"],\n",
    "         bins=bin_array,\n",
    "         color=color,\n",
    "         fill=False,\n",
    "         label=\"All\")\n",
    "ax1.hist(apm_def[\"pmdec\"],\n",
    "         bins=bin_array,\n",
    "         color=color,\n",
    "         label=\"Defining\")\n",
    "ax1.set_xlabel(\"$\\\\mu_{\\\\delta}$ ($\\mu$as$\\,$yr$^{-1}$)\", fontsize=15)\n",
    "ax1.set_ylabel(\"Nb Sources in bins\", color=color, fontsize=15)\n",
    "ax1.tick_params(axis=\"y\", labelcolor=color)\n",
    "ax1.axis([-100, 100, 0, 400])\n",
    "ax1.legend(loc=\"upper left\")\n",
    "\n",
    "ax2 = ax1.twinx()  # instantiate a second axes that shares the same x-axis\n",
    "\n",
    "color = \"tab:red\"\n",
    "ax2.step(ecdf_pmdec.x,\n",
    "         ecdf_pmdec.y * len(apm_tab),\n",
    "         color=color,\n",
    "         lw=1,\n",
    "         ls=\"--\",\n",
    "         label=\"All\")\n",
    "ax2.step(ecdf_pmdec_def.x,\n",
    "         ecdf_pmdec_def.y * len(apm_def),\n",
    "         color=color,\n",
    "         lw=1,\n",
    "         ls=\"-\",\n",
    "         label=\"Defining\")\n",
    "ax2.tick_params(axis=\"y\", labelcolor=color)\n",
    "ax2.set_ylabel(\"Cumulative Nb sources\", color=color,\n",
    "               fontsize=15)  # we already handled the x-label with ax1\n",
    "ax2.axis([-100, 100, 0, 3000])\n",
    "ax2.legend(loc=\"center right\")\n",
    "\n",
    "plt.tight_layout()\n",
    "plt.savefig(\"../plots/pmdec-hist.eps\")"
   ]
  },
  {
   "cell_type": "code",
   "execution_count": 13,
   "metadata": {
    "ExecuteTime": {
     "end_time": "2022-02-15T06:22:59.210540Z",
     "start_time": "2022-02-15T06:22:59.203283Z"
    }
   },
   "outputs": [
    {
     "name": "stdout",
     "output_type": "stream",
     "text": [
      "PM in decl. (muas/yr)\n",
      "Percentile(%)          0         5        10        25        50        75        90        95       100\n",
      "                -14063.16   -181.99    -94.71    -24.84      0.38     30.32    100.57    199.48  15977.32\n",
      "[-30, 30]: 52.10%\n"
     ]
    }
   ],
   "source": [
    "per = [0, 5, 10, 25, 50, 75, 90, 95, 100] \n",
    "Q = np.percentile(apm_tab[\"pmdec\"], per)\n",
    "\n",
    "line_fmt1 = \"  {:8d}\" * len(per)\n",
    "line_fmt2 = \"  {:8.2f}\" * len(Q)\n",
    "\n",
    "print(\"PM in decl. (muas/yr)\")\n",
    "print(\"Percentile(%)\", line_fmt1.format(*per))\n",
    "print(\"             \", line_fmt2.format(*Q))\n",
    "\n",
    "lim = 30\n",
    "mask = (np.fabs(apm_tab[\"pmdec\"]) < lim)\n",
    "print(\"[-{:2d}, {:2d}]: {:.2f}%\".format(lim, lim, len(apm_tab[mask])/len(apm_tab)*100))"
   ]
  },
  {
   "cell_type": "code",
   "execution_count": 14,
   "metadata": {
    "ExecuteTime": {
     "end_time": "2022-02-15T06:22:59.223050Z",
     "start_time": "2022-02-15T06:22:59.213409Z"
    }
   },
   "outputs": [
    {
     "name": "stderr",
     "output_type": "stream",
     "text": [
      "/Users/Neo/scisoft/opt64/lib/python3.9/site-packages/numpy/core/fromnumeric.py:755: UserWarning: Warning: 'partition' will ignore the 'mask' of the MaskedColumn.\n",
      "  a.partition(kth, axis=axis, kind=kind, order=order)\n"
     ]
    }
   ],
   "source": [
    "mean_pmra = np.mean(apm_tab[\"pmra\"])\n",
    "median_pmra = np.median(apm_tab[\"pmra\"])\n",
    "std_pmra = np.std(apm_tab[\"pmra\"])\n",
    "\n",
    "mean_pmdec = np.mean(apm_tab[\"pmdec\"])\n",
    "median_pmdec = np.median(apm_tab[\"pmdec\"])\n",
    "std_pmdec = np.std(apm_tab[\"pmdec\"])"
   ]
  },
  {
   "cell_type": "code",
   "execution_count": 15,
   "metadata": {
    "ExecuteTime": {
     "end_time": "2022-02-15T06:22:59.230594Z",
     "start_time": "2022-02-15T06:22:59.224689Z"
    }
   },
   "outputs": [],
   "source": [
    "mean_pmra_def = np.mean(apm_def[\"pmra\"])\n",
    "median_pmra_def = np.median(apm_def[\"pmra\"])\n",
    "std_pmra_def = np.std(apm_def[\"pmra\"])\n",
    "\n",
    "mean_pmdec_def = np.mean(apm_def[\"pmdec\"])\n",
    "median_pmdec_def = np.median(apm_def[\"pmdec\"])\n",
    "std_pmdec_def = np.std(apm_def[\"pmdec\"])"
   ]
  },
  {
   "cell_type": "code",
   "execution_count": 16,
   "metadata": {
    "ExecuteTime": {
     "end_time": "2022-02-15T06:22:59.238540Z",
     "start_time": "2022-02-15T06:22:59.232130Z"
    }
   },
   "outputs": [
    {
     "name": "stdout",
     "output_type": "stream",
     "text": [
      "==================================\n",
      "         #sou   Mean Median  Std  \n",
      "----------------------------------\n",
      "All-RA  3029.0 -0.63   -0.3 286.35\n",
      "All-Dec 3029.0 -0.19   0.38 507.65\n",
      "Def-RA   299.0  0.84  -0.07  18.77\n",
      "Def-Dec  299.0 -3.77  -0.64   29.6\n",
      "----------------------------------\n",
      "Unit: muas/yr\n"
     ]
    }
   ],
   "source": [
    "se = np.vstack([[len(apm_tab), mean_pmra, median_pmra, std_pmra],\n",
    "                [len(apm_tab), mean_pmdec, median_pmdec, std_pmdec],\n",
    "                [len(apm_def), mean_pmra_def, median_pmra_def, std_pmra_def],\n",
    "                [len(apm_def), mean_pmdec_def, median_pmdec_def, std_pmdec_def]])\n",
    "\n",
    "se = np.round(se, 2)\n",
    "\n",
    "colnames = [\"#sou\", \"Mean\", \"Median\", \"Std\"]\n",
    "rownames = [\"All-RA\", \"All-Dec\", \"Def-RA\", \"Def-Dec\"]\n",
    "\n",
    "tabl = SimpleTable(se, colnames, rownames, txt_fmt=default_txt_fmt)\n",
    "print(tabl)\n",
    "print(\"Unit: muas/yr\")"
   ]
  },
  {
   "cell_type": "markdown",
   "metadata": {},
   "source": [
    "I add some plots to show the siginificance of the apparent proper motion."
   ]
  },
  {
   "cell_type": "code",
   "execution_count": 17,
   "metadata": {
    "ExecuteTime": {
     "end_time": "2022-02-15T06:22:59.248264Z",
     "start_time": "2022-02-15T06:22:59.240720Z"
    }
   },
   "outputs": [],
   "source": [
    "x_pmra, x_pmdec, x_pm, pm = nor_pm_calc_4_table(apm_tab)\n",
    "x_pmra_def, x_pmdec_def, x_pm_def, pm_def = nor_pm_calc_4_table(apm_def)"
   ]
  },
  {
   "cell_type": "code",
   "execution_count": 18,
   "metadata": {
    "ExecuteTime": {
     "end_time": "2022-02-15T06:22:59.253921Z",
     "start_time": "2022-02-15T06:22:59.251231Z"
    }
   },
   "outputs": [],
   "source": [
    "bin_array = np.arange(-15, 15, 1)"
   ]
  },
  {
   "cell_type": "code",
   "execution_count": 19,
   "metadata": {
    "ExecuteTime": {
     "end_time": "2022-02-15T06:22:59.529142Z",
     "start_time": "2022-02-15T06:22:59.256018Z"
    }
   },
   "outputs": [
    {
     "data": {
      "image/png": "[encoded data removed]",
      "text/plain": [
       "<Figure size 288x576 with 2 Axes>"
      ]
     },
     "metadata": {
      "needs_background": "light"
     },
     "output_type": "display_data"
    }
   ],
   "source": [
    "fig, (ax1, ax2) = plt.subplots(figsize=(4, 8), nrows=2, sharey=True)\n",
    "\n",
    "ax1.hist(x_pmra_def,\n",
    "         bins=bin_array,\n",
    "         color=color,\n",
    "         fill=False)\n",
    "ax1.set_xlabel(\"$\\\\mu_{\\\\alpha*}$ / $\\sigma_{\\mu_{\\\\alpha*}}$\", fontsize=15)\n",
    "ax1.set_ylabel(\"Nb Sources in  bins\", fontsize=15)\n",
    "\n",
    "\n",
    "ax2.hist(x_pmdec_def,\n",
    "         bins=bin_array,\n",
    "         color=color,\n",
    "         fill=False)\n",
    "ax2.set_xlabel(\"$\\\\mu_{\\\\delta}$ / $\\sigma_{\\mu_{\\delta}}$\", fontsize=15)\n",
    "ax2.set_ylabel(\"Nb Sources in  bins\", fontsize=15)\n",
    "# ax1.axis([-100, 100, 0, 400])\n",
    "\n",
    "\n",
    "plt.tight_layout()\n"
   ]
  },
  {
   "cell_type": "code",
   "execution_count": 20,
   "metadata": {
    "ExecuteTime": {
     "end_time": "2022-02-15T06:22:59.949531Z",
     "start_time": "2022-02-15T06:22:59.531269Z"
    }
   },
   "outputs": [
    {
     "data": {
      "image/png": "[encoded data removed]",
      "text/plain": [
       "<Figure size 720x360 with 2 Axes>"
      ]
     },
     "metadata": {
      "needs_background": "light"
     },
     "output_type": "display_data"
    }
   ],
   "source": [
    "fig, (ax1, ax2) = plt.subplots(figsize=(10, 5), ncols=2)\n",
    "\n",
    "ax1.plot(apm_def[\"pmra\"], x_pmra_def, \"b.\", ms=3)\n",
    "ax2.plot(apm_def[\"pmdec\"], x_pmdec_def, \"b.\", ms=2)\n",
    "\n",
    "ax1.set_xlabel(\"$\\\\mu_{\\\\alpha*}$ ($\\mu$as$\\,$yr$^{-1}$)\", fontsize=15)\n",
    "ax1.set_ylabel(\"$\\\\mu_{\\\\alpha*}$ / $\\sigma_{\\mu_{\\\\alpha*}}$\", fontsize=15)\n",
    "    \n",
    "ax2.set_xlabel(\"$\\\\mu_{\\delta}$ ($\\mu$as$\\,$yr$^{-1}$)\", fontsize=15)\n",
    "ax2.set_ylabel(\"$\\\\mu_{\\delta}$ / $\\sigma_{\\mu_{\\delta}}$\", fontsize=15)\n",
    "    \n",
    "plt.tight_layout()\n",
    "plt.savefig(\"../plots/nor-pm.eps\")"
   ]
  },
  {
   "cell_type": "code",
   "execution_count": 21,
   "metadata": {
    "ExecuteTime": {
     "end_time": "2022-02-15T06:23:00.367820Z",
     "start_time": "2022-02-15T06:22:59.951571Z"
    }
   },
   "outputs": [
    {
     "data": {
      "image/png": "[encoded data removed]",
      "text/plain": [
       "<Figure size 360x720 with 2 Axes>"
      ]
     },
     "metadata": {
      "needs_background": "light"
     },
     "output_type": "display_data"
    }
   ],
   "source": [
    "fig, (ax1, ax2) = plt.subplots(figsize=(5, 10), nrows=2)\n",
    "\n",
    "ax1.plot(apm_def[\"pmra\"], x_pmra_def, \"bx\", ms=3)\n",
    "ax2.plot(apm_def[\"pmdec\"], x_pmdec_def, \"bx\", ms=3)\n",
    "\n",
    "ax1.set_xlabel(\"$\\\\mu_{\\\\alpha*}$ ($\\mu$as$\\,$yr$^{-1}$)\", fontsize=15)\n",
    "ax1.set_ylabel(\"$\\\\mu_{\\\\alpha*}$ / $\\sigma_{\\mu_{\\\\alpha*}}$\", fontsize=15)\n",
    "    \n",
    "ax2.set_xlabel(\"$\\\\mu_{\\delta}$ ($\\mu$as$\\,$yr$^{-1}$)\", fontsize=15)\n",
    "ax2.set_ylabel(\"$\\\\mu_{\\delta}$ / $\\sigma_{\\mu_{\\delta}}$\", fontsize=15)\n",
    "\n",
    "ax1.axis([-50, 50, -10, 10])\n",
    "ax2.axis([-50, 50, -10, 10])\n",
    "    \n",
    "plt.tight_layout()\n",
    "plt.savefig(\"../plots/nor-pm-zoomin.eps\")"
   ]
  },
  {
   "cell_type": "code",
   "execution_count": 22,
   "metadata": {
    "ExecuteTime": {
     "end_time": "2022-02-15T06:23:01.021340Z",
     "start_time": "2022-02-15T06:23:00.370210Z"
    }
   },
   "outputs": [
    {
     "data": {
      "image/png": "[encoded data removed]",
      "text/plain": [
       "<Figure size 360x360 with 1 Axes>"
      ]
     },
     "metadata": {
      "needs_background": "light"
     },
     "output_type": "display_data"
    }
   ],
   "source": [
    "fig, ax = plt.subplots(figsize=(5, 5))\n",
    "\n",
    "ax.hlines(3, 0.2, 1000, \"r\", ls=\"dashed\", lw=1)\n",
    "ax.vlines(10, 0.07, 21, \"r\", ls=\"dashed\", lw=1)\n",
    "ax.plot(pm_def, x_pm_def, \"bx\", ms=3)\n",
    "\n",
    "ax.set_xlabel(\"$\\\\mu$ ($\\mu$as$\\,$yr$^{-1}$)\", fontsize=15)\n",
    "ax.set_ylabel(\"$X_\\\\mu$ \", fontsize=15)\n",
    "    \n",
    "ax.axis([0.2, 1000, 0.07, 21])\n",
    "ax.set_yscale(\"log\")\n",
    "ax.set_xscale(\"log\")\n",
    "    \n",
    "plt.tight_layout()\n",
    "plt.savefig(\"../plots/nor-pm-def.eps\")"
   ]
  },
  {
   "cell_type": "code",
   "execution_count": 23,
   "metadata": {
    "ExecuteTime": {
     "end_time": "2022-02-15T06:23:01.040138Z",
     "start_time": "2022-02-15T06:23:01.023631Z"
    }
   },
   "outputs": [
    {
     "name": "stdout",
     "output_type": "stream",
     "text": [
      "Total PM for all sources (muas/yr)\n",
      "Percentile(%)          0         5        10        25        50        75        90        95       100\n",
      "                    0.36      3.89      6.48     15.34     38.42    100.40    243.18    452.19  16190.48\n",
      "[-30, 30]: 42.79%\n",
      "[-10, 10]: 16.54%\n"
     ]
    }
   ],
   "source": [
    "per = [0, 5, 10, 25, 50, 75, 90, 95, 100] \n",
    "Q = np.percentile(pm, per)\n",
    "\n",
    "line_fmt1 = \"  {:8d}\" * len(per)\n",
    "line_fmt2 = \"  {:8.2f}\" * len(Q)\n",
    "\n",
    "print(\"Total PM for all sources (muas/yr)\")\n",
    "print(\"Percentile(%)\", line_fmt1.format(*per))\n",
    "print(\"             \", line_fmt2.format(*Q))\n",
    "\n",
    "lim = 30\n",
    "mask = (np.fabs(pm) < lim)\n",
    "print(\"[-{:2d}, {:2d}]: {:.2f}%\".format(lim, lim, len(apm_tab[mask])/len(apm_tab)*100))\n",
    "\n",
    "lim = 10\n",
    "mask = (np.fabs(pm) < lim)\n",
    "print(\"[-{:2d}, {:2d}]: {:.2f}%\".format(lim, lim, len(apm_tab[mask])/len(apm_tab)*100))"
   ]
  },
  {
   "cell_type": "code",
   "execution_count": 24,
   "metadata": {
    "ExecuteTime": {
     "end_time": "2022-02-15T06:23:01.053495Z",
     "start_time": "2022-02-15T06:23:01.042616Z"
    }
   },
   "outputs": [
    {
     "name": "stdout",
     "output_type": "stream",
     "text": [
      "Total PM for defining sources (muas/yr)\n",
      "Percentile(%)          0         5        10        25        50        75        90        95       100\n",
      "                    0.63      1.64      2.52      4.75      8.84     16.95     36.20     64.54    247.00\n",
      "[-30, 30]: 86.62%\n",
      "[-10, 10]: 53.85%\n"
     ]
    }
   ],
   "source": [
    "per = [0, 5, 10, 25, 50, 75, 90, 95, 100] \n",
    "Q = np.percentile(pm_def, per)\n",
    "\n",
    "line_fmt1 = \"  {:8d}\" * len(per)\n",
    "line_fmt2 = \"  {:8.2f}\" * len(Q)\n",
    "\n",
    "print(\"Total PM for defining sources (muas/yr)\")\n",
    "print(\"Percentile(%)\", line_fmt1.format(*per))\n",
    "print(\"             \", line_fmt2.format(*Q))\n",
    "\n",
    "lim = 30\n",
    "mask = (np.fabs(pm_def) < lim)\n",
    "print(\"[-{:2d}, {:2d}]: {:.2f}%\".format(lim, lim, len(apm_def[mask])/len(apm_def)*100))\n",
    "\n",
    "lim = 10\n",
    "mask = (np.fabs(pm_def) < lim)\n",
    "print(\"[-{:2d}, {:2d}]: {:.2f}%\".format(lim, lim, len(apm_def[mask])/len(apm_def)*100))"
   ]
  },
  {
   "cell_type": "code",
   "execution_count": 25,
   "metadata": {
    "ExecuteTime": {
     "end_time": "2022-02-15T06:23:01.072915Z",
     "start_time": "2022-02-15T06:23:01.055386Z"
    }
   },
   "outputs": [
    {
     "name": "stdout",
     "output_type": "stream",
     "text": [
      "Significance of PM > 3-sigma level\n",
      "RA:       17.39%\n",
      "decl:     18.06%\n",
      "Total:    33.78%\n",
      "For the subset of mu > 10 muas/yr\n",
      "RA:       5.69%\n",
      "decl:     8.70%\n",
      "Total:    17.39%\n"
     ]
    }
   ],
   "source": [
    "lim = 3\n",
    "mask1 = np.fabs(x_pmra_def) > lim\n",
    "mask2 = np.fabs(x_pmdec_def) > lim\n",
    "mask3 = x_pm_def > lim\n",
    "\n",
    "print(\"Significance of PM > {:d}-sigma level\".format(lim))\n",
    "print(\"RA:       {:.2f}%\".format(len(apm_def[mask1])/len(apm_def)*100))\n",
    "print(\"decl:     {:.2f}%\".format(len(apm_def[mask2])/len(apm_def)*100))\n",
    "print(\"Total:    {:.2f}%\".format(len(apm_def[mask3])/len(apm_def)*100))\n",
    "\n",
    "lim2 = 10\n",
    "\n",
    "mask1 = ((np.fabs(x_pmra_def) > lim)&(np.fabs(apm_def[\"pmra\"]) > lim2))\n",
    "mask2 = ((np.fabs(x_pmdec_def) > lim)&(np.fabs(apm_def[\"pmdec\"]) > lim2))\n",
    "mask3 = ((x_pm_def > lim)&(pm_def > lim2))\n",
    "\n",
    "print(\"For the subset of mu > {:d} muas/yr\".format(lim2))\n",
    "print(\"RA:       {:.2f}%\".format(len(apm_def[mask1])/len(apm_def)*100))\n",
    "print(\"decl:     {:.2f}%\".format(len(apm_def[mask2])/len(apm_def)*100))\n",
    "print(\"Total:    {:.2f}%\".format(len(apm_def[mask3])/len(apm_def)*100))"
   ]
  },
  {
   "cell_type": "markdown",
   "metadata": {},
   "source": [
    "# 2. Global spin from the ICRF3-defining source subset"
   ]
  },
  {
   "cell_type": "code",
   "execution_count": 26,
   "metadata": {
    "ExecuteTime": {
     "end_time": "2022-02-15T06:23:04.388908Z",
     "start_time": "2022-02-15T06:23:01.075476Z"
    }
   },
   "outputs": [],
   "source": [
    "from tool_func import vsh_fit_for_pm, vsh_fit_for_pm2"
   ]
  },
  {
   "cell_type": "code",
   "execution_count": 27,
   "metadata": {
    "ExecuteTime": {
     "end_time": "2022-02-15T06:23:04.416632Z",
     "start_time": "2022-02-15T06:23:04.395098Z"
    }
   },
   "outputs": [],
   "source": [
    "pmt, sig, output = vsh_fit_for_pm(apm_def)\n",
    "pmt1, sig1, output1 = vsh_fit_for_pm2(apm_def)"
   ]
  },
  {
   "cell_type": "code",
   "execution_count": 28,
   "metadata": {
    "ExecuteTime": {
     "end_time": "2022-02-15T06:23:04.427950Z",
     "start_time": "2022-02-15T06:23:04.418630Z"
    }
   },
   "outputs": [
    {
     "name": "stdout",
     "output_type": "stream",
     "text": [
      "===========================\n",
      "    Full +/-  Rotation +/- \n",
      "---------------------------\n",
      "Rx -0.77 0.27    -0.42 0.23\n",
      "Ry  0.52 0.32     0.64 0.28\n",
      "Rz -0.09 0.21    -0.16 0.21\n",
      "R   0.93 0.29     0.78 0.26\n",
      "---------------------------\n",
      "=============\n",
      "   Glide +/- \n",
      "-------------\n",
      "Gx   0.2 0.23\n",
      "Gy -0.73 0.27\n",
      "Gz -1.01 0.28\n",
      "G   1.26 0.28\n",
      "-------------\n",
      "Unit: muas/yr\n",
      "Number of sources used in the fitting is 299\n"
     ]
    }
   ],
   "source": [
    "se = np.vstack((pmt[:4], sig[:4], pmt1, sig1)).T\n",
    "se = np.round(se, 2)\n",
    "\n",
    "colnames = [\"Full\", \"+/-\", \"Rotation\", \"+/-\"]\n",
    "rownames = [\"Rx\", \"Ry\", \"Rz\", \"R\"]\n",
    "\n",
    "tabl = SimpleTable(se, colnames, rownames, txt_fmt=default_txt_fmt)\n",
    "print(tabl)\n",
    "\n",
    "se = np.vstack((pmt[4:], sig[4:])).T\n",
    "se = np.round(se, 2)\n",
    "\n",
    "colnames = [\"Glide\", \"+/-\"]\n",
    "rownames = [\"Gx\", \"Gy\", \"Gz\", \"G\"]\n",
    "\n",
    "tabl = SimpleTable(se, colnames, rownames, txt_fmt=default_txt_fmt)\n",
    "print(tabl)\n",
    "\n",
    "print(\"Unit: muas/yr\")\n",
    "print(\"Number of sources used in the fitting is\", len(apm_def))"
   ]
  },
  {
   "cell_type": "code",
   "execution_count": 29,
   "metadata": {
    "ExecuteTime": {
     "end_time": "2022-02-15T06:23:04.435924Z",
     "start_time": "2022-02-15T06:23:04.430283Z"
    }
   },
   "outputs": [
    {
     "name": "stdout",
     "output_type": "stream",
     "text": [
      "Apex for rotation (deg)\n",
      "      Full      Rotation\n",
      "RA : 146 +/-  19  123 +/-  18\n",
      "Dec:  -6 +/-  13  -11 +/-  16\n",
      "Apex for glide (deg)\n",
      "      Glide\n",
      "RA : 285 +/-  18  \n",
      "Dec: -53 +/-  12\n"
     ]
    }
   ],
   "source": [
    "print(\"Apex for rotation (deg)\")\n",
    "print(\"      Full      Rotation\")\n",
    "print(\"RA : {:3.0f} +/- {:3.0f}  {:3.0f} +/- {:3.0f}\".format(\n",
    "    output[\"R_ra\"], output[\"R_ra_err\"], output1[\"R_ra\"], output1[\"R_ra_err\"]))\n",
    "print(\"Dec: {:3.0f} +/- {:3.0f}  {:3.0f} +/- {:3.0f}\".format(\n",
    "    output[\"R_dec\"], output[\"R_dec_err\"], output1[\"R_dec\"],\n",
    "    output1[\"R_dec_err\"]))\n",
    "\n",
    "print(\"Apex for glide (deg)\")\n",
    "print(\"      Glide\")\n",
    "print(\"RA : {:3.0f} +/- {:3.0f}  \".format(\n",
    "    output[\"G_ra\"], output[\"G_ra_err\"]))\n",
    "print(\"Dec: {:3.0f} +/- {:3.0f}\".format(\n",
    "    output[\"G_dec\"], output[\"G_dec_err\"]))"
   ]
  }
 ],
 "metadata": {
  "hide_input": false,
  "kernelspec": {
   "display_name": "Python 3 (ipykernel)",
   "language": "python",
   "name": "python3"
  },
  "language_info": {
   "codemirror_mode": {
    "name": "ipython",
    "version": 3
   },
   "file_extension": ".py",
   "mimetype": "text/x-python",
   "name": "python",
   "nbconvert_exporter": "python",
   "pygments_lexer": "ipython3",
   "version": "3.9.10"
  },
  "latex_envs": {
   "LaTeX_envs_menu_present": true,
   "autoclose": false,
   "autocomplete": true,
   "bibliofile": "biblio.bib",
   "cite_by": "apalike",
   "current_citInitial": 1,
   "eqLabelWithNumbers": true,
   "eqNumInitial": 1,
   "hotkeys": {
    "equation": "Ctrl-E",
    "itemize": "Ctrl-I"
   },
   "labels_anchors": false,
   "latex_user_defs": false,
   "report_style_numbering": false,
   "user_envs_cfg": false
  },
  "varInspector": {
   "cols": {
    "lenName": 16,
    "lenType": 16,
    "lenVar": 40
   },
   "kernels_config": {
    "python": {
     "delete_cmd_postfix": "",
     "delete_cmd_prefix": "del ",
     "library": "var_list.py",
     "varRefreshCmd": "print(var_dic_list())"
    },
    "r": {
     "delete_cmd_postfix": ") ",
     "delete_cmd_prefix": "rm(",
     "library": "var_list.r",
     "varRefreshCmd": "cat(var_dic_list()) "
    }
   },
   "types_to_exclude": [
    "module",
    "function",
    "builtin_function_or_method",
    "instance",
    "_Feature"
   ],
   "window_display": false
  }
 },
 "nbformat": 4,
 "nbformat_minor": 4
}
