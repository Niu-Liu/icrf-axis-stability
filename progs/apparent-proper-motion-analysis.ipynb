{
 "cells": [
  {
   "cell_type": "markdown",
   "metadata": {},
   "source": [
    "I study the apparent proper motion of radio sources to estimate the ICRF axis stability."
   ]
  },
  {
   "cell_type": "code",
   "execution_count": 1,
   "metadata": {},
   "outputs": [],
   "source": [
    "from astropy.table import Table\n",
    "import matplotlib.pyplot as plt\n",
    "from matplotlib.ticker import MultipleLocator\n",
    "import numpy as np\n",
    "\n",
    "# My progs\n",
    "from my_progs.catalog.read_icrf import read_icrf3\n",
    "# from my_progs.stat_func.rms_calc import rms_calc\n",
    "from tool_func import calc_orient_4_yearly_crf1"
   ]
  },
  {
   "cell_type": "code",
   "execution_count": 2,
   "metadata": {},
   "outputs": [],
   "source": [
    "icrf3sx = read_icrf3(wv=\"sx\")\n",
    "icrf3_sou = Table([icrf3sx[\"iers_name\"]])\n",
    "\n",
    "icrf3def = icrf3sx[icrf3sx[\"type\"] == \"D\"]\n",
    "icrf3_defsou = Table([icrf3def[\"iers_name\"]])"
   ]
  },
  {
   "cell_type": "code",
   "execution_count": 3,
   "metadata": {},
   "outputs": [],
   "source": [
    "data = Table.read(\"../logs/ts_stat.log\", format=\"ascii.csv\")"
   ]
  },
  {
   "cell_type": "code",
   "execution_count": 4,
   "metadata": {},
   "outputs": [
    {
     "ename": "AttributeError",
     "evalue": "module 'matplotlib.pyplot' has no attribute 'subpl'",
     "output_type": "error",
     "traceback": [
      "\u001b[0;31m---------------------------------------------------------------------------\u001b[0m",
      "\u001b[0;31mAttributeError\u001b[0m                            Traceback (most recent call last)",
      "\u001b[0;32m<ipython-input-4-9a2e5bac48b2>\u001b[0m in \u001b[0;36m<module>\u001b[0;34m\u001b[0m\n\u001b[0;32m----> 1\u001b[0;31m \u001b[0mfig\u001b[0m\u001b[0;34m,\u001b[0m \u001b[0max\u001b[0m \u001b[0;34m=\u001b[0m \u001b[0mplt\u001b[0m\u001b[0;34m.\u001b[0m\u001b[0msubpl\u001b[0m\u001b[0;34m\u001b[0m\u001b[0;34m\u001b[0m\u001b[0m\n\u001b[0m",
      "\u001b[0;31mAttributeError\u001b[0m: module 'matplotlib.pyplot' has no attribute 'subpl'"
     ]
    }
   ],
   "source": [
    "fig, ax = plt.subpl"
   ]
  },
  {
   "cell_type": "code",
   "execution_count": null,
   "metadata": {},
   "outputs": [],
   "source": [
    "data1 = data.group_by(\"year\")\n",
    "\n",
    "ind0 = data1.groups.indices\n",
    "\n",
    "ind = ind0[1:] - ind0[:-1]"
   ]
  },
  {
   "cell_type": "code",
   "execution_count": null,
   "metadata": {},
   "outputs": [],
   "source": [
    "fig, ax = plt.subplots()\n",
    "\n",
    "ax.plot(epoch, ind, \"-o\")\n",
    "ax.set_xlabel(\"Epoch (year)\", fontsize=12)\n",
    "ax.set_ylabel(\"No. sources\", fontsize=12)\n",
    "\n",
    "ax.set_yscale(\"log\")"
   ]
  },
  {
   "cell_type": "markdown",
   "metadata": {},
   "source": [
    "# All sources"
   ]
  },
  {
   "cell_type": "code",
   "execution_count": null,
   "metadata": {},
   "outputs": [],
   "source": [
    "# years = np.arange(1985, 2020)\n",
    "# num = len(years)\n",
    "\n",
    "# N0 = np.zeros_like(years)\n",
    "# N1 = np.zeros_like(years)\n",
    "# pmt = np.empty((num, 3), dtype=np.float)\n",
    "# err = np.empty((num, 3), dtype=np.float)"
   ]
  },
  {
   "cell_type": "code",
   "execution_count": null,
   "metadata": {
    "scrolled": false
   },
   "outputs": [],
   "source": [
    "# for i in range(num):\n",
    "    \n",
    "#     print(\"\\nProcessing\", year)\n",
    "    \n",
    "#     pos_oft = data1.groups[i]\n",
    "#     pos_oft = join(pos_oft, icrf3_sou)\n",
    "    \n",
    "#     N0[i], N1[i], pmt[i], err[i] = calc_orient_4_yearly_crf1(pos_oft)"
   ]
  },
  {
   "cell_type": "code",
   "execution_count": null,
   "metadata": {},
   "outputs": [],
   "source": [
    "# fig, ax = plt.subplots()\n",
    "\n",
    "# ax.plot(years, N0, \"b-o\", ms=2, lw=0.5, label=\"$N_0$\")\n",
    "# ax.plot(years, N1, \"r-s\", ms=2, lw=0.5, label=\"$N_1$\")\n",
    "\n",
    "# # ax.set_yscale(\"log\")\n",
    "\n",
    "# ax.set_xlabel(\"Epoch (year)\", fontsize=12)\n",
    "# ax.set_ylabel(\"No. sources\", fontsize=12)\n",
    "# ax.legend()"
   ]
  },
  {
   "cell_type": "code",
   "execution_count": null,
   "metadata": {},
   "outputs": [],
   "source": [
    "# fig, ax = plt.subplots()\n",
    "\n",
    "# ax.errorbar(years, pmt[:,0], yerr=err[:,0], color=\"blue\", \n",
    "#             ms=3, fmt=\"-s\", elinewidth=0.5, lw=0.2, label=\"$R_1$\")\n",
    "# ax.errorbar(years, pmt[:,1], yerr=err[:,1], color=\"black\", \n",
    "#             ms=3, fmt=\"-o\", elinewidth=0.5, lw=0.2, label=\"$R_2$\")\n",
    "# ax.errorbar(years, pmt[:,2], yerr=err[:,2], color=\"red\", \n",
    "#             ms=3, fmt=\"-^\", elinewidth=0.5, lw=0.2, label=\"$R_3$\")\n",
    "\n",
    "# ax.set_xlabel(\"Epoch (year)\", fontsize=12)\n",
    "# ax.set_ylabel(\"Orientation angle ($\\mathrm{\\mu as}$)\", fontsize=12)\n",
    "# ax.legend()"
   ]
  },
  {
   "cell_type": "code",
   "execution_count": null,
   "metadata": {},
   "outputs": [],
   "source": [
    "# wmean1, wrms1, wstd1 = rms_calc(pmt[:,0])\n",
    "# wmean2, wrms2, wstd2 = rms_calc(pmt[:,1])\n",
    "# wmean3, wrms3, wstd3 = rms_calc(pmt[:,2])\n",
    "\n",
    "# print(\"No weighted\")\n",
    "# print(\"    Mean   RMS  Std\")\n",
    "# print(\"    uas    uas  uas\")\n",
    "# print(\"R1  {:+4.0f}  {:4.0f}  {:.0f}\".format(wmean1, wrms1, wstd1))\n",
    "# print(\"R2  {:+4.0f}  {:4.0f}  {:.0f}\".format(wmean2, wrms2, wstd2))\n",
    "# print(\"R3  {:+4.0f}  {:4.0f}  {:.0f}\".format(wmean3, wrms3, wstd3))"
   ]
  },
  {
   "cell_type": "code",
   "execution_count": null,
   "metadata": {},
   "outputs": [],
   "source": [
    "wmean1, wrms1, wstd1 = rms_calc(pmt[:,0], err[:,0])\n",
    "wmean2, wrms2, wstd2 = rms_calc(pmt[:,1], err[:,1])\n",
    "wmean3, wrms3, wstd3 = rms_calc(pmt[:,2], err[:,2])\n",
    "\n",
    "print(\"Weighted\")\n",
    "print(\"    Mean  WRMS Std\")\n",
    "print(\"    uas   uas  uas\")\n",
    "print(\"R1  {:+4.0f}  {:.0f}  {:.0f}\".format(wmean1, wrms1, wstd1))\n",
    "print(\"R2  {:+4.0f}  {:.0f}  {:.0f}\".format(wmean2, wrms2, wstd2))\n",
    "print(\"R3  {:+4.0f}  {:.0f}  {:.0f}\".format(wmean3, wrms3, wstd3))"
   ]
  },
  {
   "cell_type": "markdown",
   "metadata": {},
   "source": [
    "# ICRF3 defining sources only"
   ]
  },
  {
   "cell_type": "code",
   "execution_count": null,
   "metadata": {},
   "outputs": [],
   "source": [
    "N0_d = np.zeros_like(years)\n",
    "N1_d = np.zeros_like(years)\n",
    "pmt_d = np.empty((num, 3), dtype=np.float)\n",
    "err_d = np.empty((num, 3), dtype=np.float)"
   ]
  },
  {
   "cell_type": "code",
   "execution_count": null,
   "metadata": {
    "scrolled": false
   },
   "outputs": [],
   "source": [
    "for i, year in enumerate(years):\n",
    "    \n",
    "    print(\"\\nProcessing\", year)\n",
    "    \n",
    "    pos_oft = data1.groups[i]\n",
    "    pos_oft = join(pos_oft, icrf3_defsou)\n",
    "    \n",
    "    N0[i], N1[i], pmt[i], err[i] = calc_orient_4_yearly_crf1(pos_oft)"
   ]
  },
  {
   "cell_type": "code",
   "execution_count": null,
   "metadata": {},
   "outputs": [],
   "source": [
    "fig, ax = plt.subplots()\n",
    "\n",
    "ax.plot(years, N0_d, \"b-o\", ms=2, lw=0.5, label=\"$N_0$\")\n",
    "ax.plot(years, N1_d, \"r-s\", ms=2, lw=0.5, label=\"$N_1$\")\n",
    "\n",
    "# ax.set_yscale(\"log\")\n",
    "\n",
    "ax.set_xlabel(\"Epoch (year)\", fontsize=12)\n",
    "ax.set_ylabel(\"No. sources\", fontsize=12)\n",
    "ax.legend()"
   ]
  },
  {
   "cell_type": "code",
   "execution_count": null,
   "metadata": {},
   "outputs": [],
   "source": [
    "fig, ax = plt.subplots()\n",
    "\n",
    "ax.errorbar(years, pmt_d[:,0], yerr=err_d[:,0], color=\"blue\", \n",
    "            ms=3, fmt=\"-s\", elinewidth=0.5, lw=0.2, label=\"$R_1$\")\n",
    "ax.errorbar(years, pmt_d[:,1], yerr=err_d[:,1], color=\"black\", \n",
    "            ms=3, fmt=\"-o\", elinewidth=0.5, lw=0.2, label=\"$R_2$\")\n",
    "ax.errorbar(years, pmt_d[:,2], yerr=err_d[:,2], color=\"red\", \n",
    "            ms=3, fmt=\"-^\", elinewidth=0.5, lw=0.2, label=\"$R_3$\")\n",
    "\n",
    "ax.set_xlabel(\"Epoch (year)\", fontsize=12)\n",
    "ax.set_ylabel(\"Orientation angle ($\\mathrm{\\mu as}$)\", fontsize=12)\n",
    "ax.legend()"
   ]
  },
  {
   "cell_type": "code",
   "execution_count": null,
   "metadata": {},
   "outputs": [],
   "source": [
    "wmean1, wrms1, wstd1 = rms_calc(pmt_d[:,0])\n",
    "wmean2, wrms2, wstd2 = rms_calc(pmt_d[:,1])\n",
    "wmean3, wrms3, wstd3 = rms_calc(pmt_d[:,2])\n",
    "\n",
    "print(\"No weighted\")\n",
    "print(\"    Mean   RMS  Std\")\n",
    "print(\"    uas    uas  uas\")\n",
    "print(\"R1  {:+4.0f}  {:4.0f}  {:.0f}\".format(wmean1, wrms1, wstd1))\n",
    "print(\"R2  {:+4.0f}  {:4.0f}  {:.0f}\".format(wmean2, wrms2, wstd2))\n",
    "print(\"R3  {:+4.0f}  {:4.0f}  {:.0f}\".format(wmean3, wrms3, wstd3))"
   ]
  },
  {
   "cell_type": "code",
   "execution_count": null,
   "metadata": {},
   "outputs": [],
   "source": [
    "wmean1, wrms1, wstd1 = rms_calc(pmt_d[:,0], err_d[:,0])\n",
    "wmean2, wrms2, wstd2 = rms_calc(pmt_d[:,1], err_d[:,1])\n",
    "wmean3, wrms3, wstd3 = rms_calc(pmt_d[:,2], err_d[:,2])\n",
    "\n",
    "print(\"Weighted\")\n",
    "print(\"    Mean  WRMS Std\")\n",
    "print(\"    uas   uas  uas\")\n",
    "print(\"R1  {:+4.0f}  {:.0f}  {:.0f}\".format(wmean1, wrms1, wstd1))\n",
    "print(\"R2  {:+4.0f}  {:.0f}  {:.0f}\".format(wmean2, wrms2, wstd2))\n",
    "print(\"R3  {:+4.0f}  {:.0f}  {:.0f}\".format(wmean3, wrms3, wstd3))"
   ]
  }
 ],
 "metadata": {
  "hide_input": false,
  "kernelspec": {
   "display_name": "Python 3",
   "language": "python",
   "name": "python3"
  },
  "language_info": {
   "codemirror_mode": {
    "name": "ipython",
    "version": 3
   },
   "file_extension": ".py",
   "mimetype": "text/x-python",
   "name": "python",
   "nbconvert_exporter": "python",
   "pygments_lexer": "ipython3",
   "version": "3.7.6"
  },
  "latex_envs": {
   "LaTeX_envs_menu_present": true,
   "autoclose": false,
   "autocomplete": true,
   "bibliofile": "biblio.bib",
   "cite_by": "apalike",
   "current_citInitial": 1,
   "eqLabelWithNumbers": true,
   "eqNumInitial": 1,
   "hotkeys": {
    "equation": "Ctrl-E",
    "itemize": "Ctrl-I"
   },
   "labels_anchors": false,
   "latex_user_defs": false,
   "report_style_numbering": false,
   "user_envs_cfg": false
  }
 },
 "nbformat": 4,
 "nbformat_minor": 4
}
