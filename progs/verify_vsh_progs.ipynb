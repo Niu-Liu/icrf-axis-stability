{
 "cells": [
  {
   "cell_type": "code",
   "execution_count": 1,
   "id": "alternative-curtis",
   "metadata": {
    "ExecuteTime": {
     "end_time": "2021-06-09T01:37:55.648688Z",
     "start_time": "2021-06-09T01:37:54.913718Z"
    }
   },
   "outputs": [],
   "source": [
    "import numpy as np\n",
    "from astropy.table import Table"
   ]
  },
  {
   "cell_type": "code",
   "execution_count": 2,
   "id": "latin-consensus",
   "metadata": {
    "ExecuteTime": {
     "end_time": "2021-06-09T01:37:55.655866Z",
     "start_time": "2021-06-09T01:37:55.651306Z"
    }
   },
   "outputs": [],
   "source": [
    "from my_progs.vsh.rgq_func import vsh_func"
   ]
  },
  {
   "cell_type": "code",
   "execution_count": 3,
   "id": "dedicated-consequence",
   "metadata": {
    "ExecuteTime": {
     "end_time": "2021-06-09T01:37:55.664126Z",
     "start_time": "2021-06-09T01:37:55.658823Z"
    }
   },
   "outputs": [],
   "source": [
    "def generate_test_sample(sample_size, pmt_vec, l_max=1):\n",
    "    \"\"\"\n",
    "    \"\"\"\n",
    "\n",
    "    # A sample of sources located as (ra, dec)\n",
    "    ra = np.random.random_sample(sample_size) * 2 * np.pi\n",
    "    dec = (np.random.random_sample(sample_size) - 0.5) * np.pi\n",
    "\n",
    "    # Positional difference from ideal cases\n",
    "    dra_calc, ddec_calc = vsh_func(ra, dec, pmt_vec, l_max=1)\n",
    "\n",
    "    # Noise\n",
    "    dra_nois = 0  # np.random.normal(scale=1, size=sample_size) * 0\n",
    "    ddec_nois = 0  # np.random.normal(scale=1, size=sample_size) * 0\n",
    "\n",
    "    # Simulation data\n",
    "    dra_sim, ddec_sim = dra_calc + dra_nois, ddec_calc + ddec_nois\n",
    "\n",
    "    # Formal error, uniform one\n",
    "    dra_err = np.ones(sample_size)\n",
    "    ddec_err = np.ones(sample_size)\n",
    "    dra_ddec_cor = np.zeros(sample_size)\n",
    "    \n",
    "    ra = np.rad2deg(ra)\n",
    "    dec = np.rad2deg(dec)\n",
    "\n",
    "    # Generate a Astropy.Table and store the data\n",
    "    data = Table([ra, dec, dra_sim, ddec_sim, dra_err, ddec_err, dra_ddec_cor],\n",
    "                 names=[\"ra\", \"dec\", \"dra\", \"ddec\", \"dra_err\", \"ddec_err\", \"dra_ddec_cor\"])\n",
    "\n",
    "    return data"
   ]
  },
  {
   "cell_type": "code",
   "execution_count": 4,
   "id": "blond-toronto",
   "metadata": {
    "ExecuteTime": {
     "end_time": "2021-06-09T01:37:55.671073Z",
     "start_time": "2021-06-09T01:37:55.666374Z"
    }
   },
   "outputs": [],
   "source": [
    "rot_vec = np.array([20, 30, 15])\n",
    "gli_vec = np.array([30, 24, 12])\n",
    "pmt_vec = np.concatenate((gli_vec, rot_vec))\n",
    "data = generate_test_sample(int(2e3), pmt_vec)"
   ]
  },
  {
   "cell_type": "code",
   "execution_count": 5,
   "id": "foster-christmas",
   "metadata": {
    "ExecuteTime": {
     "end_time": "2021-06-09T01:37:56.132285Z",
     "start_time": "2021-06-09T01:37:55.672774Z"
    }
   },
   "outputs": [],
   "source": [
    "from tool_func import vsh_fit_for_pm, vsh_fit_for_pm2"
   ]
  },
  {
   "cell_type": "code",
   "execution_count": 6,
   "id": "intended-loading",
   "metadata": {
    "ExecuteTime": {
     "end_time": "2021-06-09T01:37:56.160295Z",
     "start_time": "2021-06-09T01:37:56.133913Z"
    }
   },
   "outputs": [],
   "source": [
    "pmt, sig, output = vsh_fit_for_pm(data)"
   ]
  },
  {
   "cell_type": "code",
   "execution_count": 7,
   "id": "least-silence",
   "metadata": {
    "ExecuteTime": {
     "end_time": "2021-06-09T01:37:56.173285Z",
     "start_time": "2021-06-09T01:37:56.164060Z"
    }
   },
   "outputs": [
    {
     "data": {
      "text/plain": [
       "array([20.        , 30.        , 15.        , 39.05124838, 30.        ,\n",
       "       24.        , 12.        , 40.24922359])"
      ]
     },
     "execution_count": 7,
     "metadata": {},
     "output_type": "execute_result"
    }
   ],
   "source": [
    "pmt"
   ]
  },
  {
   "cell_type": "code",
   "execution_count": 8,
   "id": "common-baltimore",
   "metadata": {
    "ExecuteTime": {
     "end_time": "2021-06-09T01:37:56.179741Z",
     "start_time": "2021-06-09T01:37:56.175748Z"
    }
   },
   "outputs": [
    {
     "data": {
      "text/plain": [
       "array([1.00610574e-15, 1.01227052e-15, 1.21045871e-15, 1.04046335e-15,\n",
       "       1.00610574e-15, 1.01227052e-15, 1.21045871e-15, 1.02684588e-15])"
      ]
     },
     "execution_count": 8,
     "metadata": {},
     "output_type": "execute_result"
    }
   ],
   "source": [
    "sig"
   ]
  },
  {
   "cell_type": "code",
   "execution_count": 9,
   "id": "committed-increase",
   "metadata": {
    "ExecuteTime": {
     "end_time": "2021-06-09T01:39:31.833296Z",
     "start_time": "2021-06-09T01:39:31.821257Z"
    }
   },
   "outputs": [
    {
     "data": {
      "text/plain": [
       "{'note': 'pmt: fitted VSH parameters\\nsig: formal uncertainties\\ncor: correlation coefficient matirx\\nresidual: post-fit residual of (dra, ddec)\\npmt1: glide+rotation\\nsig1: formal error of glide/rotation\\ncor1: correlation coeficient matrix of glide/rotation\\nR/G: amplitude of rotation/Glide\\nR_ra, R_dec: apex of rotation vector\\nG_ra, G_dec: apex of glide vector\\n',\n",
       " 'pmt': array([ 43.41607527,  34.73286022, -40.93306832, -61.39960248,\n",
       "         61.39960248,  49.11968198]),\n",
       " 'sig_lsq': array([0.09014137, 0.09014137, 0.05297888, 0.05297888, 0.05330351,\n",
       "        0.05330351]),\n",
       " 'cor': array([[ 1.00000000e+00,  3.57101899e-20,  1.23012029e-02,\n",
       "          1.95670795e-02, -4.81364776e-03, -7.97181281e-03],\n",
       "        [-2.51575404e-20,  1.00000000e+00, -1.95670795e-02,\n",
       "          1.23012029e-02,  7.97181281e-03, -4.81364776e-03],\n",
       "        [ 1.23012029e-02, -1.95670795e-02,  1.00000000e+00,\n",
       "         -2.38147434e-18, -6.88366653e-03,  1.43825748e-02],\n",
       "        [ 1.95670795e-02,  1.23012029e-02, -2.37599720e-18,\n",
       "          1.00000000e+00, -1.43825748e-02, -6.88366653e-03],\n",
       "        [-4.81364776e-03,  7.97181281e-03, -6.88366653e-03,\n",
       "         -1.43825748e-02,  1.00000000e+00, -1.07604395e-18],\n",
       "        [-7.97181281e-03, -4.81364776e-03,  1.43825748e-02,\n",
       "         -6.88366653e-03, -1.07455187e-18,  1.00000000e+00]]),\n",
       " 'residual': [array([-7.10542736e-15, -7.10542736e-15,  0.00000000e+00, ...,\n",
       "         -7.10542736e-15, -7.10542736e-15,  1.42108547e-14]),\n",
       "  array([ 2.66453526e-15, -2.13162821e-14,  3.55271368e-15, ...,\n",
       "          1.06581410e-14, -1.42108547e-14, -7.10542736e-15])],\n",
       " 'sig': array([3.50355776e-15, 3.50355776e-15, 2.05914974e-15, 2.05914974e-15,\n",
       "        2.07176692e-15, 2.07176692e-15]),\n",
       " 'pmt1': array([30., 24., 12., 20., 30., 15.]),\n",
       " 'sig1': array([1.00610574e-15, 1.01227052e-15, 1.21045871e-15, 1.00610574e-15,\n",
       "        1.01227052e-15, 1.21045871e-15]),\n",
       " 'cor1': array([[ 1.00000000e+00,  6.88366653e-03, -1.23012029e-02,\n",
       "         -2.37599720e-18,  1.43825748e-02, -1.95670795e-02],\n",
       "        [ 6.88366653e-03,  1.00000000e+00, -4.81364776e-03,\n",
       "         -1.43825748e-02, -1.07455187e-18, -7.97181281e-03],\n",
       "        [-1.23012029e-02, -4.81364776e-03,  1.00000000e+00,\n",
       "          1.95670795e-02,  7.97181281e-03, -2.51575404e-20],\n",
       "        [-2.38147434e-18, -1.43825748e-02,  1.95670795e-02,\n",
       "          1.00000000e+00,  6.88366653e-03, -1.23012029e-02],\n",
       "        [ 1.43825748e-02, -1.07604395e-18,  7.97181281e-03,\n",
       "          6.88366653e-03,  1.00000000e+00, -4.81364776e-03],\n",
       "        [-1.95670795e-02, -7.97181281e-03,  3.57101899e-20,\n",
       "         -1.23012029e-02, -4.81364776e-03,  1.00000000e+00]]),\n",
       " 'R': 39.05124837953326,\n",
       " 'R_err': 1.0404633482976762e-15,\n",
       " 'R_ra': 56.30993247402022,\n",
       " 'R_ra_err': 1.5967131488475913e-15,\n",
       " 'R_dec': 22.58853878798488,\n",
       " 'R_dec_err': 1.7421851213676737e-15,\n",
       " 'G': 40.24922359499621,\n",
       " 'G_err': 1.0268458821040672e-15,\n",
       " 'G_ra': 38.65980825409011,\n",
       " 'G_ra_err': 1.5010092045741414e-15,\n",
       " 'G_dec': 17.346065292669948,\n",
       " 'G_dec_err': 1.7051085499150058e-15}"
      ]
     },
     "execution_count": 9,
     "metadata": {},
     "output_type": "execute_result"
    }
   ],
   "source": [
    "output"
   ]
  }
 ],
 "metadata": {
  "hide_input": false,
  "kernelspec": {
   "display_name": "Python 3",
   "language": "python",
   "name": "python3"
  },
  "language_info": {
   "codemirror_mode": {
    "name": "ipython",
    "version": 3
   },
   "file_extension": ".py",
   "mimetype": "text/x-python",
   "name": "python",
   "nbconvert_exporter": "python",
   "pygments_lexer": "ipython3",
   "version": "3.7.10"
  }
 },
 "nbformat": 4,
 "nbformat_minor": 5
}
