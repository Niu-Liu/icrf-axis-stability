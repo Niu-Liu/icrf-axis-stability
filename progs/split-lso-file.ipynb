{
 "cells": [
  {
   "cell_type": "code",
   "execution_count": 1,
   "metadata": {},
   "outputs": [],
   "source": [
    "import numpy as np\n",
    "\n",
    "from my_progs.vlbi.read_lso import read_lso, write_ts"
   ]
  },
  {
   "cell_type": "code",
   "execution_count": 2,
   "metadata": {},
   "outputs": [],
   "source": [
    "# read .lso file\n",
    "opa2019r = read_lso(\"/Users/Neo/Astronomy/data/vlbi/opa/ts_sou/opa2019r.lso\")"
   ]
  },
  {
   "cell_type": "code",
   "execution_count": 3,
   "metadata": {},
   "outputs": [],
   "source": [
    "# Group by name\n",
    "tabg = opa2019r.group_by(\"iers_name\")\n",
    "soulist = tabg.groups.keys"
   ]
  },
  {
   "cell_type": "code",
   "execution_count": 4,
   "metadata": {},
   "outputs": [
    {
     "name": "stdout",
     "output_type": "stream",
     "text": [
      "There are 4805 sources with coordinate time series available\n"
     ]
    }
   ],
   "source": [
    "print(\"There are {:d} sources with coordinate time series available\".format(len(soulist)))"
   ]
  },
  {
   "cell_type": "code",
   "execution_count": 5,
   "metadata": {},
   "outputs": [],
   "source": [
    "# Write the data file\n",
    "with open(\"../logs/split-lso-file.log\", \"w\") as flog:\n",
    "    for i, sou in enumerate(soulist[\"iers_name\"]):\n",
    "        tabsub = tabg.groups[i]\n",
    "        tabsub.sort(\"epoch\")\n",
    "        write_ts(tabsub, datadir=\"../data/ts\")\n",
    "\n",
    "        print(\"Retrieve coordinate ts of {:s}: done!\".format(sou), file=flog)"
   ]
  },
  {
   "cell_type": "code",
   "execution_count": 6,
   "metadata": {},
   "outputs": [],
   "source": [
    "soulist.write(\"../data/sou_list.txt\", format=\"ascii\", overwrite=True)"
   ]
  }
 ],
 "metadata": {
  "hide_input": false,
  "kernelspec": {
   "display_name": "Python 3",
   "language": "python",
   "name": "python3"
  },
  "language_info": {
   "codemirror_mode": {
    "name": "ipython",
    "version": 3
   },
   "file_extension": ".py",
   "mimetype": "text/x-python",
   "name": "python",
   "nbconvert_exporter": "python",
   "pygments_lexer": "ipython3",
   "version": "3.7.6"
  },
  "latex_envs": {
   "LaTeX_envs_menu_present": true,
   "autoclose": false,
   "autocomplete": true,
   "bibliofile": "biblio.bib",
   "cite_by": "apalike",
   "current_citInitial": 1,
   "eqLabelWithNumbers": true,
   "eqNumInitial": 1,
   "hotkeys": {
    "equation": "Ctrl-E",
    "itemize": "Ctrl-I"
   },
   "labels_anchors": false,
   "latex_user_defs": false,
   "report_style_numbering": false,
   "user_envs_cfg": false
  }
 },
 "nbformat": 4,
 "nbformat_minor": 4
}
